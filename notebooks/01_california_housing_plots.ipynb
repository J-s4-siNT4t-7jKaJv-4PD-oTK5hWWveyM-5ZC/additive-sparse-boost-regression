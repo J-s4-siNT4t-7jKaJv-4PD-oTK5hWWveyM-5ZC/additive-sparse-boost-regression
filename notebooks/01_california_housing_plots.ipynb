{
 "cells": [
  {
   "cell_type": "markdown",
   "metadata": {},
   "source": [
    "# Setup"
   ]
  },
  {
   "cell_type": "code",
   "execution_count": 1,
   "metadata": {
    "execution": {
     "iopub.execute_input": "2023-04-25T05:03:48.117971Z",
     "iopub.status.busy": "2023-04-25T05:03:48.116971Z",
     "iopub.status.idle": "2023-04-25T05:03:52.880169Z",
     "shell.execute_reply": "2023-04-25T05:03:52.879166Z",
     "shell.execute_reply.started": "2023-04-25T05:03:48.117971Z"
    }
   },
   "outputs": [],
   "source": [
    "import warnings\n",
    "from time import perf_counter_ns\n",
    "\n",
    "import pandas as pd\n",
    "import xgboost as xgb\n",
    "from interpret.glassbox import ExplainableBoostingRegressor\n",
    "from sklearn.datasets import fetch_california_housing\n",
    "from sklearn.dummy import DummyRegressor\n",
    "from sklearn.ensemble import RandomForestRegressor\n",
    "from sklearn.linear_model import Ridge, RidgeCV\n",
    "from sklearn.model_selection import KFold\n",
    "from sklearn.pipeline import make_pipeline\n",
    "from sklearn.preprocessing import StandardScaler\n",
    "from sklearn.tree import DecisionTreeRegressor\n",
    "\n",
    "from asboostreg import SparseAdditiveBoostingRegressor"
   ]
  },
  {
   "cell_type": "code",
   "execution_count": 2,
   "metadata": {
    "execution": {
     "iopub.execute_input": "2023-04-25T05:03:52.885171Z",
     "iopub.status.busy": "2023-04-25T05:03:52.884171Z",
     "iopub.status.idle": "2023-04-25T05:03:52.951923Z",
     "shell.execute_reply": "2023-04-25T05:03:52.950920Z",
     "shell.execute_reply.started": "2023-04-25T05:03:52.884171Z"
    }
   },
   "outputs": [],
   "source": [
    "pd.options.plotting.backend = \"plotly\"\n",
    "warnings.filterwarnings(\"ignore\")"
   ]
  },
  {
   "cell_type": "markdown",
   "metadata": {},
   "source": [
    "# Loading the California housing dataset"
   ]
  },
  {
   "cell_type": "code",
   "execution_count": 3,
   "metadata": {
    "execution": {
     "iopub.execute_input": "2023-04-25T05:03:52.952924Z",
     "iopub.status.busy": "2023-04-25T05:03:52.952924Z",
     "iopub.status.idle": "2023-04-25T05:03:53.002217Z",
     "shell.execute_reply": "2023-04-25T05:03:53.001213Z",
     "shell.execute_reply.started": "2023-04-25T05:03:52.952924Z"
    }
   },
   "outputs": [
    {
     "data": {
      "text/plain": "   MedInc  HouseAge  AveRooms  AveBedrms  Population  AveOccup  Latitude  \\\n0  8.3252      41.0  6.984127   1.023810       322.0  2.555556     37.88   \n1  8.3014      21.0  6.238137   0.971880      2401.0  2.109842     37.86   \n2  7.2574      52.0  8.288136   1.073446       496.0  2.802260     37.85   \n3  5.6431      52.0  5.817352   1.073059       558.0  2.547945     37.85   \n4  3.8462      52.0  6.281853   1.081081       565.0  2.181467     37.85   \n\n   Longitude  \n0    -122.23  \n1    -122.22  \n2    -122.24  \n3    -122.25  \n4    -122.25  ",
      "text/html": "<div>\n<style scoped>\n    .dataframe tbody tr th:only-of-type {\n        vertical-align: middle;\n    }\n\n    .dataframe tbody tr th {\n        vertical-align: top;\n    }\n\n    .dataframe thead th {\n        text-align: right;\n    }\n</style>\n<table border=\"1\" class=\"dataframe\">\n  <thead>\n    <tr style=\"text-align: right;\">\n      <th></th>\n      <th>MedInc</th>\n      <th>HouseAge</th>\n      <th>AveRooms</th>\n      <th>AveBedrms</th>\n      <th>Population</th>\n      <th>AveOccup</th>\n      <th>Latitude</th>\n      <th>Longitude</th>\n    </tr>\n  </thead>\n  <tbody>\n    <tr>\n      <th>0</th>\n      <td>8.3252</td>\n      <td>41.0</td>\n      <td>6.984127</td>\n      <td>1.023810</td>\n      <td>322.0</td>\n      <td>2.555556</td>\n      <td>37.88</td>\n      <td>-122.23</td>\n    </tr>\n    <tr>\n      <th>1</th>\n      <td>8.3014</td>\n      <td>21.0</td>\n      <td>6.238137</td>\n      <td>0.971880</td>\n      <td>2401.0</td>\n      <td>2.109842</td>\n      <td>37.86</td>\n      <td>-122.22</td>\n    </tr>\n    <tr>\n      <th>2</th>\n      <td>7.2574</td>\n      <td>52.0</td>\n      <td>8.288136</td>\n      <td>1.073446</td>\n      <td>496.0</td>\n      <td>2.802260</td>\n      <td>37.85</td>\n      <td>-122.24</td>\n    </tr>\n    <tr>\n      <th>3</th>\n      <td>5.6431</td>\n      <td>52.0</td>\n      <td>5.817352</td>\n      <td>1.073059</td>\n      <td>558.0</td>\n      <td>2.547945</td>\n      <td>37.85</td>\n      <td>-122.25</td>\n    </tr>\n    <tr>\n      <th>4</th>\n      <td>3.8462</td>\n      <td>52.0</td>\n      <td>6.281853</td>\n      <td>1.081081</td>\n      <td>565.0</td>\n      <td>2.181467</td>\n      <td>37.85</td>\n      <td>-122.25</td>\n    </tr>\n  </tbody>\n</table>\n</div>"
     },
     "execution_count": 3,
     "metadata": {},
     "output_type": "execute_result"
    }
   ],
   "source": [
    "X, y = fetch_california_housing(return_X_y=True, as_frame=True)\n",
    "X.head()"
   ]
  },
  {
   "cell_type": "code",
   "execution_count": 12,
   "outputs": [],
   "source": [
    "kf = KFold(n_splits=10, shuffle=True, random_state=0)\n",
    "cv = list(kf.split(X))"
   ],
   "metadata": {
    "collapsed": false
   }
  },
  {
   "cell_type": "markdown",
   "source": [
    "# Defining the models"
   ],
   "metadata": {
    "collapsed": false
   }
  },
  {
   "cell_type": "code",
   "execution_count": 13,
   "outputs": [],
   "source": [
    "dummy = DummyRegressor()\n",
    "\n",
    "# Interpretable but not strong\n",
    "ridgereg = make_pipeline(\n",
    "    StandardScaler(),\n",
    "    RidgeCV(cv=cv),\n",
    ")  # Non Sparse\n",
    "treereg = DecisionTreeRegressor(max_depth=3, random_state=0)  # Sparse\n",
    "\n",
    "# Strong but not interpretable\n",
    "rfreg = RandomForestRegressor()  # Non Sparse\n",
    "xgbreg = xgb.XGBRegressor()  # Sparse\n",
    "\n",
    "# Both interpretable and strong\n",
    "ebmreg = ExplainableBoostingRegressor(interactions=0)  # Non Sparse\n",
    "sparsereg = SparseAdditiveBoostingRegressor(\n",
    "    learning_rate=0.01,\n",
    "    n_estimators=20_000,\n",
    "    l2_regularization=5.0,\n",
    "    max_depth=4,\n",
    "    row_subsample=0.85,\n",
    "    random_state=0,\n",
    "    n_iter_no_change=1_000,\n",
    ")  # Sparse"
   ],
   "metadata": {
    "collapsed": false
   }
  },
  {
   "cell_type": "markdown",
   "source": [
    "# Comparing performance"
   ],
   "metadata": {
    "collapsed": false
   }
  },
  {
   "cell_type": "code",
   "execution_count": 14,
   "outputs": [],
   "source": [
    "# Running fast Hyperparameter optimization for Ridge\n",
    "ridgereg.fit(X, y)\n",
    "alpha = ridgereg.named_steps[\"ridgecv\"].alpha_\n",
    "ridgereg = make_pipeline(StandardScaler(), Ridge(alpha=alpha))"
   ],
   "metadata": {
    "collapsed": false
   }
  },
  {
   "cell_type": "code",
   "execution_count": 15,
   "outputs": [],
   "source": [
    "def evaluate(model, X_train, X_test, y_train, y_test, **kwargs):\n",
    "    start = perf_counter_ns()\n",
    "    model.fit(X_train, y_train, **kwargs)\n",
    "    end = perf_counter_ns()\n",
    "    elapsed = (end - start) / 1e9\n",
    "    train_score = model.score(X_train, y_train)\n",
    "    test_score = model.score(X_test, y_test)\n",
    "    print(\n",
    "        f\"{model.__class__.__name__}: {train_score:.3f} (train),\"\n",
    "        f\" {test_score:.3f} (test), {elapsed:.3f} (s)\"\n",
    "    )\n",
    "    return train_score, test_score"
   ],
   "metadata": {
    "collapsed": false
   }
  },
  {
   "cell_type": "code",
   "execution_count": 16,
   "outputs": [
    {
     "name": "stdout",
     "output_type": "stream",
     "text": [
      "Fold 1\n",
      "------\n",
      "DummyRegressor: 0.000 (train), -0.000 (test), 0.001 (s)\n",
      "DecisionTreeRegressor: 0.535 (train), 0.520 (test), 0.067 (s)\n",
      "Pipeline: 0.606 (train), 0.610 (test), 0.009 (s)\n",
      "XGBRegressor: 0.938 (train), 0.849 (test), 1.351 (s)\n",
      "RandomForestRegressor: 0.973 (train), 0.816 (test), 32.852 (s)\n",
      "ExplainableBoostingRegressor: 0.783 (train), 0.774 (test), 3.521 (s)\n",
      "SparseAdditiveBoostingRegressor: 0.717 (train), 0.724 (test), 78.549 (s)\n",
      "\n",
      "Fold 2\n",
      "------\n",
      "DummyRegressor: 0.000 (train), -0.000 (test), 0.000 (s)\n",
      "DecisionTreeRegressor: 0.540 (train), 0.473 (test), 0.066 (s)\n",
      "Pipeline: 0.609 (train), 0.576 (test), 0.007 (s)\n",
      "XGBRegressor: 0.938 (train), 0.828 (test), 1.027 (s)\n",
      "RandomForestRegressor: 0.974 (train), 0.792 (test), 33.038 (s)\n",
      "ExplainableBoostingRegressor: 0.785 (train), 0.740 (test), 3.481 (s)\n",
      "SparseAdditiveBoostingRegressor: 0.721 (train), 0.693 (test), 30.975 (s)\n",
      "\n",
      "Fold 3\n",
      "------\n",
      "DummyRegressor: 0.000 (train), -0.001 (test), 0.001 (s)\n",
      "DecisionTreeRegressor: 0.533 (train), 0.538 (test), 0.065 (s)\n",
      "Pipeline: 0.608 (train), 0.590 (test), 0.008 (s)\n",
      "XGBRegressor: 0.937 (train), 0.834 (test), 1.073 (s)\n",
      "RandomForestRegressor: 0.973 (train), 0.803 (test), 32.795 (s)\n",
      "ExplainableBoostingRegressor: 0.785 (train), 0.753 (test), 3.603 (s)\n",
      "SparseAdditiveBoostingRegressor: 0.728 (train), 0.718 (test), 30.105 (s)\n",
      "\n",
      "Fold 4\n",
      "------\n",
      "DummyRegressor: 0.000 (train), -0.000 (test), 0.001 (s)\n",
      "DecisionTreeRegressor: 0.533 (train), 0.528 (test), 0.064 (s)\n",
      "Pipeline: 0.605 (train), 0.615 (test), 0.008 (s)\n",
      "XGBRegressor: 0.939 (train), 0.843 (test), 1.041 (s)\n",
      "RandomForestRegressor: 0.974 (train), 0.816 (test), 32.568 (s)\n",
      "ExplainableBoostingRegressor: 0.783 (train), 0.766 (test), 3.319 (s)\n",
      "SparseAdditiveBoostingRegressor: 0.724 (train), 0.727 (test), 28.172 (s)\n",
      "\n",
      "Fold 5\n",
      "------\n",
      "DummyRegressor: 0.000 (train), -0.000 (test), 0.000 (s)\n",
      "DecisionTreeRegressor: 0.535 (train), 0.521 (test), 0.065 (s)\n",
      "Pipeline: 0.605 (train), 0.613 (test), 0.008 (s)\n",
      "XGBRegressor: 0.939 (train), 0.848 (test), 1.053 (s)\n",
      "RandomForestRegressor: 0.974 (train), 0.822 (test), 32.129 (s)\n",
      "ExplainableBoostingRegressor: 0.782 (train), 0.776 (test), 3.636 (s)\n",
      "SparseAdditiveBoostingRegressor: 0.729 (train), 0.745 (test), 28.131 (s)\n",
      "\n",
      "Fold 6\n",
      "------\n",
      "DummyRegressor: 0.000 (train), -0.000 (test), 0.000 (s)\n",
      "DecisionTreeRegressor: 0.535 (train), 0.519 (test), 0.066 (s)\n",
      "Pipeline: 0.608 (train), 0.591 (test), 0.008 (s)\n",
      "XGBRegressor: 0.935 (train), 0.833 (test), 1.072 (s)\n",
      "RandomForestRegressor: 0.974 (train), 0.814 (test), 32.221 (s)\n",
      "ExplainableBoostingRegressor: 0.784 (train), 0.762 (test), 3.404 (s)\n",
      "SparseAdditiveBoostingRegressor: 0.718 (train), 0.717 (test), 27.962 (s)\n",
      "\n",
      "Fold 7\n",
      "------\n",
      "DummyRegressor: 0.000 (train), -0.000 (test), 0.000 (s)\n",
      "DecisionTreeRegressor: 0.532 (train), 0.552 (test), 0.065 (s)\n",
      "Pipeline: 0.606 (train), 0.609 (test), 0.009 (s)\n",
      "XGBRegressor: 0.928 (train), 0.839 (test), 1.048 (s)\n",
      "RandomForestRegressor: 0.974 (train), 0.816 (test), 32.686 (s)\n",
      "ExplainableBoostingRegressor: 0.786 (train), 0.758 (test), 3.593 (s)\n",
      "SparseAdditiveBoostingRegressor: 0.721 (train), 0.712 (test), 26.364 (s)\n",
      "\n",
      "Fold 8\n",
      "------\n",
      "DummyRegressor: 0.000 (train), -0.000 (test), 0.000 (s)\n",
      "DecisionTreeRegressor: 0.534 (train), 0.531 (test), 0.063 (s)\n",
      "Pipeline: 0.607 (train), 0.592 (test), 0.008 (s)\n",
      "XGBRegressor: 0.938 (train), 0.841 (test), 1.141 (s)\n",
      "RandomForestRegressor: 0.974 (train), 0.825 (test), 31.248 (s)\n",
      "ExplainableBoostingRegressor: 0.781 (train), 0.777 (test), 3.600 (s)\n",
      "SparseAdditiveBoostingRegressor: 0.725 (train), 0.730 (test), 26.605 (s)\n",
      "\n",
      "Fold 9\n",
      "------\n",
      "DummyRegressor: 0.000 (train), -0.000 (test), 0.001 (s)\n",
      "DecisionTreeRegressor: 0.537 (train), 0.501 (test), 0.064 (s)\n",
      "Pipeline: 0.607 (train), 0.597 (test), 0.008 (s)\n",
      "XGBRegressor: 0.939 (train), 0.813 (test), 1.037 (s)\n",
      "RandomForestRegressor: 0.974 (train), 0.791 (test), 31.854 (s)\n",
      "ExplainableBoostingRegressor: 0.786 (train), 0.734 (test), 3.313 (s)\n",
      "SparseAdditiveBoostingRegressor: 0.706 (train), 0.675 (test), 25.694 (s)\n",
      "\n",
      "Fold 10\n",
      "------\n",
      "DummyRegressor: 0.000 (train), -0.000 (test), 0.001 (s)\n",
      "DecisionTreeRegressor: 0.530 (train), 0.565 (test), 0.066 (s)\n",
      "Pipeline: 0.602 (train), 0.639 (test), 0.008 (s)\n",
      "XGBRegressor: 0.933 (train), 0.852 (test), 1.247 (s)\n",
      "RandomForestRegressor: 0.973 (train), 0.831 (test), 32.798 (s)\n",
      "ExplainableBoostingRegressor: 0.779 (train), 0.793 (test), 3.543 (s)\n",
      "SparseAdditiveBoostingRegressor: 0.717 (train), 0.728 (test), 14.922 (s)\n",
      "\n"
     ]
    }
   ],
   "source": [
    "train_scores = {\n",
    "    \"Decision Tree\": [],\n",
    "    \"Elastic Net\": [],\n",
    "    \"XGBoost\": [],\n",
    "    \"Random Forest\": [],\n",
    "    \"EBM\": [],\n",
    "    \"SparseReg\": [],\n",
    "    \"Dummy\": [],\n",
    "}\n",
    "test_scores = {\n",
    "    \"Dummy\": [],\n",
    "    \"Decision Tree\": [],\n",
    "    \"Elastic Net\": [],\n",
    "    \"XGBoost\": [],\n",
    "    \"Random Forest\": [],\n",
    "    \"EBM\": [],\n",
    "    \"SparseReg\": [],\n",
    "}\n",
    "\n",
    "for i, (train_index, test_index) in enumerate(cv, 1):\n",
    "    X_train, X_test = X.iloc[train_index], X.iloc[test_index]\n",
    "    y_train, y_test = y.iloc[train_index], y.iloc[test_index]\n",
    "\n",
    "    print(f\"Fold {i}\")\n",
    "    print(\"------\")\n",
    "\n",
    "    train, test = evaluate(dummy, X_train, X_test, y_train, y_test)\n",
    "    train_scores[\"Dummy\"].append(train)\n",
    "    test_scores[\"Dummy\"].append(test)\n",
    "\n",
    "    train, test = evaluate(treereg, X_train, X_test, y_train, y_test)\n",
    "    train_scores[\"Decision Tree\"].append(train)\n",
    "    test_scores[\"Decision Tree\"].append(test)\n",
    "\n",
    "    train, test = evaluate(ridgereg, X_train, X_test, y_train, y_test)\n",
    "    train_scores[\"Elastic Net\"].append(train)\n",
    "    test_scores[\"Elastic Net\"].append(test)\n",
    "\n",
    "    train, test = evaluate(\n",
    "        xgbreg,\n",
    "        X_train,\n",
    "        X_test,\n",
    "        y_train,\n",
    "        y_test,\n",
    "        eval_set=[(X_test, y_test)],\n",
    "        early_stopping_rounds=30,\n",
    "        verbose=False,\n",
    "    )\n",
    "    train_scores[\"XGBoost\"].append(train)\n",
    "    test_scores[\"XGBoost\"].append(test)\n",
    "\n",
    "    train, test = evaluate(rfreg, X_train, X_test, y_train, y_test)\n",
    "    train_scores[\"Random Forest\"].append(train)\n",
    "    test_scores[\"Random Forest\"].append(test)\n",
    "\n",
    "    train, test = evaluate(ebmreg, X_train, X_test, y_train, y_test)\n",
    "    train_scores[\"EBM\"].append(train)\n",
    "    test_scores[\"EBM\"].append(test)\n",
    "\n",
    "    train, test = evaluate(\n",
    "        sparsereg, X_train, X_test, y_train, y_test, validation_set=(X_test, y_test)\n",
    "    )\n",
    "    train_scores[\"SparseReg\"].append(train)\n",
    "    test_scores[\"SparseReg\"].append(test)\n",
    "\n",
    "    print()"
   ],
   "metadata": {
    "collapsed": false
   }
  },
  {
   "cell_type": "code",
   "execution_count": 17,
   "outputs": [
    {
     "data": {
      "text/plain": "          Dummy  Decision Tree  Elastic Net   XGBoost  Random Forest  \\\n0 -9.238224e-05       0.519848     0.609660  0.849227       0.816069   \n1 -4.577164e-04       0.472878     0.576329  0.828193       0.792320   \n2 -1.009159e-03       0.537544     0.590484  0.833853       0.803090   \n3 -4.325266e-05       0.527948     0.615331  0.843024       0.815617   \n4 -5.910429e-05       0.520796     0.613184  0.847933       0.821815   \n5 -4.370797e-04       0.519115     0.590524  0.832766       0.814061   \n6 -2.159296e-04       0.551868     0.608638  0.839166       0.815817   \n7 -3.202562e-06       0.530788     0.591641  0.841493       0.825032   \n8 -7.267582e-07       0.500882     0.597019  0.812652       0.790779   \n9 -2.696465e-05       0.565437     0.639456  0.851851       0.831056   \n\n        EBM  SparseReg  \n0  0.773837   0.724065  \n1  0.739553   0.693075  \n2  0.753132   0.717600  \n3  0.766480   0.726796  \n4  0.776031   0.744677  \n5  0.762010   0.716698  \n6  0.758246   0.711940  \n7  0.777471   0.729646  \n8  0.734388   0.674738  \n9  0.792962   0.728311  ",
      "text/html": "<div>\n<style scoped>\n    .dataframe tbody tr th:only-of-type {\n        vertical-align: middle;\n    }\n\n    .dataframe tbody tr th {\n        vertical-align: top;\n    }\n\n    .dataframe thead th {\n        text-align: right;\n    }\n</style>\n<table border=\"1\" class=\"dataframe\">\n  <thead>\n    <tr style=\"text-align: right;\">\n      <th></th>\n      <th>Dummy</th>\n      <th>Decision Tree</th>\n      <th>Elastic Net</th>\n      <th>XGBoost</th>\n      <th>Random Forest</th>\n      <th>EBM</th>\n      <th>SparseReg</th>\n    </tr>\n  </thead>\n  <tbody>\n    <tr>\n      <th>0</th>\n      <td>-9.238224e-05</td>\n      <td>0.519848</td>\n      <td>0.609660</td>\n      <td>0.849227</td>\n      <td>0.816069</td>\n      <td>0.773837</td>\n      <td>0.724065</td>\n    </tr>\n    <tr>\n      <th>1</th>\n      <td>-4.577164e-04</td>\n      <td>0.472878</td>\n      <td>0.576329</td>\n      <td>0.828193</td>\n      <td>0.792320</td>\n      <td>0.739553</td>\n      <td>0.693075</td>\n    </tr>\n    <tr>\n      <th>2</th>\n      <td>-1.009159e-03</td>\n      <td>0.537544</td>\n      <td>0.590484</td>\n      <td>0.833853</td>\n      <td>0.803090</td>\n      <td>0.753132</td>\n      <td>0.717600</td>\n    </tr>\n    <tr>\n      <th>3</th>\n      <td>-4.325266e-05</td>\n      <td>0.527948</td>\n      <td>0.615331</td>\n      <td>0.843024</td>\n      <td>0.815617</td>\n      <td>0.766480</td>\n      <td>0.726796</td>\n    </tr>\n    <tr>\n      <th>4</th>\n      <td>-5.910429e-05</td>\n      <td>0.520796</td>\n      <td>0.613184</td>\n      <td>0.847933</td>\n      <td>0.821815</td>\n      <td>0.776031</td>\n      <td>0.744677</td>\n    </tr>\n    <tr>\n      <th>5</th>\n      <td>-4.370797e-04</td>\n      <td>0.519115</td>\n      <td>0.590524</td>\n      <td>0.832766</td>\n      <td>0.814061</td>\n      <td>0.762010</td>\n      <td>0.716698</td>\n    </tr>\n    <tr>\n      <th>6</th>\n      <td>-2.159296e-04</td>\n      <td>0.551868</td>\n      <td>0.608638</td>\n      <td>0.839166</td>\n      <td>0.815817</td>\n      <td>0.758246</td>\n      <td>0.711940</td>\n    </tr>\n    <tr>\n      <th>7</th>\n      <td>-3.202562e-06</td>\n      <td>0.530788</td>\n      <td>0.591641</td>\n      <td>0.841493</td>\n      <td>0.825032</td>\n      <td>0.777471</td>\n      <td>0.729646</td>\n    </tr>\n    <tr>\n      <th>8</th>\n      <td>-7.267582e-07</td>\n      <td>0.500882</td>\n      <td>0.597019</td>\n      <td>0.812652</td>\n      <td>0.790779</td>\n      <td>0.734388</td>\n      <td>0.674738</td>\n    </tr>\n    <tr>\n      <th>9</th>\n      <td>-2.696465e-05</td>\n      <td>0.565437</td>\n      <td>0.639456</td>\n      <td>0.851851</td>\n      <td>0.831056</td>\n      <td>0.792962</td>\n      <td>0.728311</td>\n    </tr>\n  </tbody>\n</table>\n</div>"
     },
     "execution_count": 17,
     "metadata": {},
     "output_type": "execute_result"
    }
   ],
   "source": [
    "test_scores = pd.DataFrame(test_scores)\n",
    "test_scores"
   ],
   "metadata": {
    "collapsed": false
   }
  },
  {
   "cell_type": "code",
   "execution_count": 26,
   "outputs": [
    {
     "name": "stdout",
     "output_type": "stream",
     "text": [
      "\\begin{tabular}{lrrrrrrr}\n",
      "\\toprule\n",
      " & Dummy & Decision Tree & Elastic Net & XGBoost & Random Forest & EBM & SparseReg \\\\\n",
      "\\midrule\n",
      "0 & -0.000000 & 0.520000 & 0.610000 & 0.849000 & 0.816000 & 0.774000 & 0.724000 \\\\\n",
      "1 & -0.000000 & 0.473000 & 0.576000 & 0.828000 & 0.792000 & 0.740000 & 0.693000 \\\\\n",
      "2 & -0.001000 & 0.538000 & 0.590000 & 0.834000 & 0.803000 & 0.753000 & 0.718000 \\\\\n",
      "3 & -0.000000 & 0.528000 & 0.615000 & 0.843000 & 0.816000 & 0.766000 & 0.727000 \\\\\n",
      "4 & -0.000000 & 0.521000 & 0.613000 & 0.848000 & 0.822000 & 0.776000 & 0.745000 \\\\\n",
      "5 & -0.000000 & 0.519000 & 0.591000 & 0.833000 & 0.814000 & 0.762000 & 0.717000 \\\\\n",
      "6 & -0.000000 & 0.552000 & 0.609000 & 0.839000 & 0.816000 & 0.758000 & 0.712000 \\\\\n",
      "7 & -0.000000 & 0.531000 & 0.592000 & 0.841000 & 0.825000 & 0.777000 & 0.730000 \\\\\n",
      "8 & -0.000000 & 0.501000 & 0.597000 & 0.813000 & 0.791000 & 0.734000 & 0.675000 \\\\\n",
      "9 & -0.000000 & 0.565000 & 0.639000 & 0.852000 & 0.831000 & 0.793000 & 0.728000 \\\\\n",
      "\\bottomrule\n",
      "\\end{tabular}\n",
      "\n"
     ]
    }
   ],
   "source": [
    "print(test_scores.round(3).to_latex())"
   ],
   "metadata": {
    "collapsed": false
   }
  },
  {
   "cell_type": "code",
   "execution_count": 35,
   "outputs": [
    {
     "name": "stdout",
     "output_type": "stream",
     "text": [
      "Dummy           -0.000235\n",
      "Decision Tree    0.524710\n",
      "Elastic Net      0.603227\n",
      "XGBoost          0.838016\n",
      "Random Forest    0.812566\n",
      "EBM              0.763411\n",
      "SparseReg        0.716754\n",
      "dtype: float64\n"
     ]
    }
   ],
   "source": [
    "print(test_scores.mean())"
   ],
   "metadata": {
    "collapsed": false
   }
  },
  {
   "cell_type": "markdown",
   "source": [
    "## Interpretability"
   ],
   "metadata": {
    "collapsed": false
   }
  },
  {
   "cell_type": "code",
   "execution_count": 15,
   "outputs": [
    {
     "name": "stdout",
     "output_type": "stream",
     "text": [
      "The following features were not selected: ['AveRooms', 'AveBedrms', 'Population', 'Longitude']\n"
     ]
    },
    {
     "data": {
      "application/vnd.plotly.v1+json": {
       "data": [
        {
         "line": {
          "color": "red"
         },
         "name": "validation rmse",
         "x": [
          0,
          1,
          2,
          3,
          4,
          5,
          6,
          7,
          8,
          9,
          10,
          11,
          12,
          13,
          14,
          15,
          16,
          17,
          18,
          19,
          20,
          21,
          22,
          23,
          24,
          25,
          26,
          27,
          28,
          29,
          30,
          31,
          32,
          33,
          34,
          35,
          36,
          37,
          38,
          39,
          40,
          41,
          42,
          43,
          44,
          45,
          46,
          47,
          48,
          49,
          50,
          51,
          52,
          53,
          54,
          55,
          56,
          57,
          58,
          59,
          60,
          61,
          62,
          63,
          64,
          65,
          66,
          67,
          68,
          69,
          70,
          71,
          72,
          73,
          74,
          75,
          76,
          77,
          78,
          79,
          80,
          81,
          82,
          83,
          84,
          85,
          86,
          87,
          88,
          89,
          90,
          91,
          92,
          93,
          94,
          95,
          96,
          97,
          98,
          99,
          100,
          101,
          102,
          103,
          104,
          105,
          106,
          107,
          108,
          109,
          110,
          111,
          112,
          113,
          114,
          115,
          116,
          117,
          118,
          119,
          120,
          121,
          122,
          123,
          124,
          125,
          126,
          127,
          128,
          129,
          130,
          131,
          132,
          133,
          134,
          135,
          136,
          137,
          138,
          139,
          140,
          141,
          142,
          143,
          144,
          145,
          146,
          147,
          148,
          149,
          150,
          151,
          152,
          153,
          154,
          155,
          156,
          157,
          158,
          159,
          160,
          161,
          162,
          163,
          164,
          165,
          166,
          167,
          168,
          169,
          170,
          171,
          172,
          173,
          174,
          175,
          176,
          177,
          178,
          179,
          180,
          181,
          182,
          183,
          184,
          185,
          186,
          187,
          188,
          189,
          190,
          191,
          192,
          193,
          194,
          195,
          196,
          197,
          198,
          199,
          200,
          201,
          202,
          203,
          204,
          205,
          206,
          207,
          208,
          209,
          210,
          211,
          212,
          213,
          214,
          215,
          216,
          217,
          218,
          219,
          220,
          221,
          222,
          223,
          224,
          225,
          226,
          227,
          228,
          229,
          230,
          231,
          232,
          233,
          234,
          235,
          236,
          237,
          238,
          239,
          240,
          241,
          242,
          243,
          244,
          245,
          246,
          247,
          248,
          249,
          250,
          251,
          252,
          253,
          254,
          255,
          256,
          257,
          258,
          259,
          260,
          261,
          262,
          263,
          264,
          265,
          266,
          267,
          268,
          269,
          270,
          271,
          272,
          273,
          274,
          275,
          276,
          277,
          278,
          279,
          280,
          281,
          282,
          283,
          284,
          285,
          286,
          287,
          288,
          289,
          290,
          291,
          292,
          293,
          294,
          295,
          296,
          297,
          298,
          299,
          300,
          301,
          302,
          303,
          304,
          305,
          306,
          307,
          308,
          309,
          310,
          311,
          312,
          313,
          314,
          315,
          316,
          317,
          318,
          319,
          320,
          321,
          322,
          323,
          324,
          325,
          326,
          327,
          328,
          329,
          330,
          331,
          332,
          333,
          334,
          335,
          336,
          337,
          338,
          339,
          340,
          341,
          342,
          343,
          344,
          345,
          346,
          347,
          348,
          349,
          350,
          351,
          352,
          353,
          354,
          355,
          356,
          357,
          358,
          359,
          360,
          361,
          362,
          363,
          364,
          365,
          366,
          367,
          368,
          369,
          370,
          371,
          372,
          373,
          374,
          375,
          376,
          377,
          378,
          379,
          380,
          381,
          382,
          383,
          384,
          385,
          386,
          387,
          388,
          389,
          390,
          391,
          392,
          393,
          394,
          395,
          396,
          397,
          398,
          399,
          400,
          401,
          402,
          403,
          404,
          405,
          406,
          407,
          408,
          409,
          410,
          411,
          412,
          413,
          414,
          415,
          416,
          417,
          418,
          419,
          420,
          421,
          422,
          423,
          424,
          425,
          426,
          427,
          428,
          429,
          430,
          431,
          432,
          433,
          434,
          435,
          436,
          437,
          438,
          439,
          440,
          441,
          442,
          443,
          444,
          445,
          446,
          447,
          448,
          449,
          450,
          451,
          452,
          453,
          454,
          455,
          456,
          457,
          458,
          459,
          460,
          461,
          462,
          463,
          464,
          465,
          466,
          467,
          468,
          469,
          470,
          471,
          472,
          473,
          474,
          475,
          476,
          477,
          478,
          479,
          480,
          481,
          482,
          483,
          484,
          485,
          486,
          487,
          488,
          489,
          490,
          491,
          492,
          493,
          494,
          495,
          496,
          497,
          498
         ],
         "y": [
          1.1667119732862121,
          1.1611684798981794,
          1.1557766178392854,
          1.1504269312110738,
          1.145182916643379,
          1.139974567520455,
          1.1349232337347472,
          1.1299396728729698,
          1.124915908391751,
          1.1199864051531723,
          1.115163617907854,
          1.1104740742371086,
          1.1059002471167507,
          1.1013320084998037,
          1.0968495953119994,
          1.0924506160229293,
          1.0880953401607882,
          1.0837194467057853,
          1.0795229758082117,
          1.0753874988352567,
          1.0713415984999595,
          1.0672710908610814,
          1.0633241962938635,
          1.0593792061056762,
          1.0555026419139588,
          1.0517752021641429,
          1.048136330193084,
          1.044536822157444,
          1.0408927516074065,
          1.037310638727899,
          1.0338583113889406,
          1.0305636226843873,
          1.0272330121956428,
          1.0239771550116248,
          1.0207399838999043,
          1.017542081340163,
          1.0143999410539069,
          1.0112801791008443,
          1.0082348328842954,
          1.005255517056845,
          1.0022962537501705,
          0.9993083727724656,
          0.9964352313558883,
          0.9935981234692969,
          0.990896306566964,
          0.9881817357975673,
          0.985478009856568,
          0.9828862975265414,
          0.9803639630827069,
          0.97789473880047,
          0.9754281620423776,
          0.9729978798761273,
          0.9706443937139517,
          0.9682840122918202,
          0.9660442889799931,
          0.9637659584519354,
          0.9615998023707961,
          0.9594493599717819,
          0.9573898054705825,
          0.9552116073583033,
          0.9531697535174108,
          0.9511093146710508,
          0.9490413628347651,
          0.9470239712905856,
          0.9451057151068003,
          0.9432120981838689,
          0.9413415470463924,
          0.9395247294392345,
          0.9377185041626719,
          0.9359651875962722,
          0.9342523102326157,
          0.9325724187841465,
          0.931053011177588,
          0.929484602270563,
          0.9278461363183548,
          0.9263241584261706,
          0.9247637487815846,
          0.923271549584118,
          0.921688697899273,
          0.9202379867661522,
          0.9188272785913192,
          0.9173840098159135,
          0.9160056252218105,
          0.9146831196413199,
          0.913367599962321,
          0.9120158539508064,
          0.9107180461742921,
          0.9094633889046129,
          0.9081730400844511,
          0.9069462353476868,
          0.9057419019138352,
          0.9045357221465263,
          0.9033564811840755,
          0.9022214906117573,
          0.9010670032487763,
          0.8999361052440549,
          0.898816326980182,
          0.8976911572119657,
          0.8965832001387134,
          0.8954707125049091,
          0.8943987281776212,
          0.8933064223093793,
          0.8922708230171105,
          0.8912711270914647,
          0.8902263304684932,
          0.8892435474131025,
          0.8882061750541881,
          0.8871693722070856,
          0.8861478815039262,
          0.8851632988043872,
          0.884178236510873,
          0.8831708627826677,
          0.8821716124606798,
          0.8811875735988233,
          0.8802624424837391,
          0.8792997120907399,
          0.8783358185601922,
          0.8774138322367683,
          0.8764435901709041,
          0.8755669564290954,
          0.8746918833923085,
          0.8737356382274739,
          0.8728897034278509,
          0.8719358657796241,
          0.8710729102432815,
          0.8701664381729922,
          0.8693156136046974,
          0.8684429203407216,
          0.867626360964047,
          0.8667631855789805,
          0.8659284758834962,
          0.8650707595040606,
          0.8642206285922452,
          0.8633999804059487,
          0.8625625254582188,
          0.861779856321698,
          0.8609801732169466,
          0.860169824718894,
          0.8593375768335461,
          0.8585817862825285,
          0.857768497864001,
          0.8569835875049095,
          0.856221842662096,
          0.8554933808204446,
          0.8547338180345772,
          0.8539838986716062,
          0.8532610315450364,
          0.8525284783082575,
          0.8517969077054482,
          0.8510889275751619,
          0.8503646548925843,
          0.8496798831011313,
          0.8489797439962069,
          0.8483200409134725,
          0.8476644462390952,
          0.8469755199441901,
          0.8463101372796847,
          0.8456854738025213,
          0.8449930340839513,
          0.8443225744397096,
          0.8436505077865359,
          0.8429666440691037,
          0.8423765031772849,
          0.8417134671807477,
          0.8410947817219404,
          0.8404918725061605,
          0.8398598607131127,
          0.8392495839551203,
          0.838649317426705,
          0.8380726798388699,
          0.8374652400526751,
          0.8368761697947498,
          0.8362802428915569,
          0.8357001103709537,
          0.8351632651263143,
          0.8345384510369367,
          0.8340155759041813,
          0.8334726189010908,
          0.83292216631497,
          0.8323352463886399,
          0.8317866957499391,
          0.8312625940392672,
          0.8308446362635284,
          0.8303015096152037,
          0.8298465912333254,
          0.8293138389328855,
          0.8287509444066771,
          0.828348978537186,
          0.82781915268285,
          0.8273309892343967,
          0.8269600151949388,
          0.8264687740113331,
          0.8261138717521265,
          0.8255895764270897,
          0.8250658855879591,
          0.8246692996555337,
          0.8241432310602261,
          0.8236909394957032,
          0.8232638880214167,
          0.8228925177098366,
          0.8223875950535806,
          0.8218928507048754,
          0.8215203622771876,
          0.8210726960120301,
          0.8205346859699292,
          0.8201605073340636,
          0.819701822984859,
          0.8192800285512293,
          0.8187646350354606,
          0.8183610567608863,
          0.8179530261296405,
          0.8175074311191071,
          0.8170272151864543,
          0.8166220652107444,
          0.8161613207602325,
          0.8157473932636303,
          0.8154377458944828,
          0.8149866506462786,
          0.8146978901864077,
          0.8142586674530502,
          0.8138442208601436,
          0.8135435561895217,
          0.813132271844821,
          0.8127239401756808,
          0.8122249909506419,
          0.811814360175848,
          0.8115168219598725,
          0.8110200057196579,
          0.8106500075264529,
          0.810239568769834,
          0.809979943780282,
          0.8095734718445601,
          0.8091353433881955,
          0.8087287655787917,
          0.8083370737308161,
          0.8078655008595287,
          0.80759691703789,
          0.8072163807414241,
          0.8068936130461507,
          0.8064361718743113,
          0.8060946389982568,
          0.8059283800821737,
          0.8055407148004449,
          0.8051946740680217,
          0.804772818337237,
          0.8043435245899693,
          0.8040473226784406,
          0.8036345023899623,
          0.8032846092897055,
          0.8029356181895126,
          0.8025878540261687,
          0.8022356146358878,
          0.8018378487260232,
          0.8014839678323751,
          0.8011506797117868,
          0.8007848966841625,
          0.8004473504544973,
          0.8001421061309838,
          0.7997538264432197,
          0.799426632891215,
          0.7990973806697561,
          0.7987618640234456,
          0.7984237099191339,
          0.7980493108187227,
          0.7977294049943465,
          0.7974726276101145,
          0.7970781777057142,
          0.7967615695515842,
          0.7965017786056127,
          0.7962942450318677,
          0.795979739294737,
          0.7956049361060541,
          0.7953766368368335,
          0.7950545624455799,
          0.7948612259404413,
          0.7945102926080506,
          0.7942249285010331,
          0.7939729660742957,
          0.7936185429413712,
          0.7933083853329431,
          0.793013722670457,
          0.7926923960000595,
          0.7924839690232179,
          0.7921139227394044,
          0.7918226663757358,
          0.7915379998830947,
          0.7911866203621402,
          0.7909145394343692,
          0.7907466145830021,
          0.7905767580180154,
          0.790268864955531,
          0.7899199069359643,
          0.789707468423397,
          0.7894425797159528,
          0.7892699809250784,
          0.7889484654093093,
          0.7886497981283297,
          0.7884305687595888,
          0.7881726882700978,
          0.7878829088541207,
          0.7876099578363134,
          0.7873114288095553,
          0.7871301148772853,
          0.7868018013507591,
          0.7865492621278639,
          0.786363739520291,
          0.7860306479702027,
          0.7857466464580828,
          0.7855962821829967,
          0.785406264878598,
          0.7851225122088523,
          0.7847914173284058,
          0.7846415867523595,
          0.7843772364835212,
          0.784074585705848,
          0.7837617922542204,
          0.7835005022716057,
          0.7833245443593566,
          0.7830479291143039,
          0.7828210229736038,
          0.7826304261762098,
          0.7823907286361689,
          0.7822274485963899,
          0.7819451926646067,
          0.7818123581425567,
          0.7815784957571469,
          0.781276070522036,
          0.7810885458298714,
          0.7808508466828118,
          0.7806408372998818,
          0.7804175398514485,
          0.7801244534712422,
          0.780002326700697,
          0.7797617843242434,
          0.7796013361968351,
          0.779338647767274,
          0.7791313810968594,
          0.77899785242867,
          0.7787433247262127,
          0.778547111756396,
          0.7783198891066132,
          0.778128543957855,
          0.7779848793606549,
          0.7777352803606667,
          0.7775687719608656,
          0.7773673099990512,
          0.7760945160754064,
          0.7758428860547298,
          0.7745733436168517,
          0.7743605902551314,
          0.774164262116972,
          0.7739536668993187,
          0.7727521594003182,
          0.7724861122151271,
          0.7722246432289964,
          0.7710512833311395,
          0.7707894226705809,
          0.7706284350492142,
          0.7704218256961801,
          0.7693018734146674,
          0.7690946014895625,
          0.7680029543060651,
          0.7677656935694249,
          0.7676351470499426,
          0.7674575326373217,
          0.7664006705044573,
          0.7661709829088181,
          0.7660431505150509,
          0.7649302583737155,
          0.764678749920464,
          0.7644503122092602,
          0.764269648058316,
          0.764078957610128,
          0.7630537920967373,
          0.7628241699538051,
          0.7618013568812483,
          0.7615563999541077,
          0.7613752688869717,
          0.7611890375028676,
          0.7601369402090238,
          0.759909277533435,
          0.7588148007071808,
          0.7585991422219537,
          0.7584547865911762,
          0.7583945362169547,
          0.7573092461658104,
          0.7570954081621483,
          0.7560780442962391,
          0.7558582382793304,
          0.7557134281573127,
          0.7548247273648063,
          0.7545887233502834,
          0.7544131757377351,
          0.7535074697917269,
          0.7533114860774778,
          0.7523652937955868,
          0.7521808919861112,
          0.7521097086496059,
          0.7519202867864831,
          0.751823397643521,
          0.7508754476200826,
          0.7506819868172615,
          0.7505128675397176,
          0.7503146131970508,
          0.7494655459224329,
          0.7493868840401228,
          0.7484534232065266,
          0.7482628598339096,
          0.7474539944894065,
          0.7472477534474009,
          0.7470779707699805,
          0.7469986195598662,
          0.7468366396682758,
          0.7458600709215836,
          0.7456609640007356,
          0.7447158988169155,
          0.7445542767760948,
          0.7444595943311016,
          0.7435310051628797,
          0.7433307061679448,
          0.7424976910397824,
          0.7423434163685204,
          0.7415138027317443,
          0.7413541559182857,
          0.7412879094229856,
          0.7411448200479036,
          0.7410118965205826,
          0.7409489683899437,
          0.7401701766809796,
          0.740021873154898,
          0.7398801402355153,
          0.7397835505412924,
          0.7390472887454741,
          0.7388745182817579,
          0.7381132085577793,
          0.7379542098835964,
          0.7379187603134567,
          0.7377853104480445,
          0.7376236853138646,
          0.7368787148406144,
          0.7367840680465038,
          0.7359821996629146,
          0.735831613164012,
          0.7357024416122173,
          0.7355569471428116,
          0.7348773615028177,
          0.7347826386554973,
          0.7346226354017599,
          0.7339438972741633,
          0.7338303742672444,
          0.733768822900311,
          0.7336353112350096,
          0.7329263435243935,
          0.7328058494326256,
          0.7327338302078579,
          0.732086877953779,
          0.7319385365891032,
          0.7318157157248432,
          0.731106177474998,
          0.7309938809912733,
          0.7308970963590811,
          0.7302236951193709,
          0.7300679045839823,
          0.7299669456999812,
          0.7292785613777173,
          0.7291458400674347,
          0.728535400772664,
          0.7284958542918208,
          0.7283560005303749,
          0.7282325610977729,
          0.7282493686879418,
          0.7276401210989112,
          0.7274764379510588,
          0.72735481685362,
          0.7267973950888118,
          0.7266846387857742,
          0.7265569322350025,
          0.7264598770574472,
          0.7258175675855942,
          0.7257009634794029,
          0.7250462424820954,
          0.72492612240192,
          0.7248485337172464,
          0.72473698491545,
          0.7246132265451553,
          0.7240437741625799,
          0.7239094802053584,
          0.7238824883001418,
          0.7233412686825221,
          0.7232494249123586,
          0.7231452543130342,
          0.723058359040431,
          0.7225450324384108,
          0.7224082247005202,
          0.7219035925209952,
          0.7217916931373818,
          0.7216735007491855,
          0.7216052443554302,
          0.7210459692265132,
          0.7209260097494957
         ],
         "type": "scatter",
         "xaxis": "x",
         "yaxis": "y2"
        },
        {
         "line": {
          "color": "blue"
         },
         "name": "training rmse",
         "x": [
          0,
          1,
          2,
          3,
          4,
          5,
          6,
          7,
          8,
          9,
          10,
          11,
          12,
          13,
          14,
          15,
          16,
          17,
          18,
          19,
          20,
          21,
          22,
          23,
          24,
          25,
          26,
          27,
          28,
          29,
          30,
          31,
          32,
          33,
          34,
          35,
          36,
          37,
          38,
          39,
          40,
          41,
          42,
          43,
          44,
          45,
          46,
          47,
          48,
          49,
          50,
          51,
          52,
          53,
          54,
          55,
          56,
          57,
          58,
          59,
          60,
          61,
          62,
          63,
          64,
          65,
          66,
          67,
          68,
          69,
          70,
          71,
          72,
          73,
          74,
          75,
          76,
          77,
          78,
          79,
          80,
          81,
          82,
          83,
          84,
          85,
          86,
          87,
          88,
          89,
          90,
          91,
          92,
          93,
          94,
          95,
          96,
          97,
          98,
          99,
          100,
          101,
          102,
          103,
          104,
          105,
          106,
          107,
          108,
          109,
          110,
          111,
          112,
          113,
          114,
          115,
          116,
          117,
          118,
          119,
          120,
          121,
          122,
          123,
          124,
          125,
          126,
          127,
          128,
          129,
          130,
          131,
          132,
          133,
          134,
          135,
          136,
          137,
          138,
          139,
          140,
          141,
          142,
          143,
          144,
          145,
          146,
          147,
          148,
          149,
          150,
          151,
          152,
          153,
          154,
          155,
          156,
          157,
          158,
          159,
          160,
          161,
          162,
          163,
          164,
          165,
          166,
          167,
          168,
          169,
          170,
          171,
          172,
          173,
          174,
          175,
          176,
          177,
          178,
          179,
          180,
          181,
          182,
          183,
          184,
          185,
          186,
          187,
          188,
          189,
          190,
          191,
          192,
          193,
          194,
          195,
          196,
          197,
          198,
          199,
          200,
          201,
          202,
          203,
          204,
          205,
          206,
          207,
          208,
          209,
          210,
          211,
          212,
          213,
          214,
          215,
          216,
          217,
          218,
          219,
          220,
          221,
          222,
          223,
          224,
          225,
          226,
          227,
          228,
          229,
          230,
          231,
          232,
          233,
          234,
          235,
          236,
          237,
          238,
          239,
          240,
          241,
          242,
          243,
          244,
          245,
          246,
          247,
          248,
          249,
          250,
          251,
          252,
          253,
          254,
          255,
          256,
          257,
          258,
          259,
          260,
          261,
          262,
          263,
          264,
          265,
          266,
          267,
          268,
          269,
          270,
          271,
          272,
          273,
          274,
          275,
          276,
          277,
          278,
          279,
          280,
          281,
          282,
          283,
          284,
          285,
          286,
          287,
          288,
          289,
          290,
          291,
          292,
          293,
          294,
          295,
          296,
          297,
          298,
          299,
          300,
          301,
          302,
          303,
          304,
          305,
          306,
          307,
          308,
          309,
          310,
          311,
          312,
          313,
          314,
          315,
          316,
          317,
          318,
          319,
          320,
          321,
          322,
          323,
          324,
          325,
          326,
          327,
          328,
          329,
          330,
          331,
          332,
          333,
          334,
          335,
          336,
          337,
          338,
          339,
          340,
          341,
          342,
          343,
          344,
          345,
          346,
          347,
          348,
          349,
          350,
          351,
          352,
          353,
          354,
          355,
          356,
          357,
          358,
          359,
          360,
          361,
          362,
          363,
          364,
          365,
          366,
          367,
          368,
          369,
          370,
          371,
          372,
          373,
          374,
          375,
          376,
          377,
          378,
          379,
          380,
          381,
          382,
          383,
          384,
          385,
          386,
          387,
          388,
          389,
          390,
          391,
          392,
          393,
          394,
          395,
          396,
          397,
          398,
          399,
          400,
          401,
          402,
          403,
          404,
          405,
          406,
          407,
          408,
          409,
          410,
          411,
          412,
          413,
          414,
          415,
          416,
          417,
          418,
          419,
          420,
          421,
          422,
          423,
          424,
          425,
          426,
          427,
          428,
          429,
          430,
          431,
          432,
          433,
          434,
          435,
          436,
          437,
          438,
          439,
          440,
          441,
          442,
          443,
          444,
          445,
          446,
          447,
          448,
          449,
          450,
          451,
          452,
          453,
          454,
          455,
          456,
          457,
          458,
          459,
          460,
          461,
          462,
          463,
          464,
          465,
          466,
          467,
          468,
          469,
          470,
          471,
          472,
          473,
          474,
          475,
          476,
          477,
          478,
          479,
          480,
          481,
          482,
          483,
          484,
          485,
          486,
          487,
          488,
          489,
          490,
          491,
          492,
          493,
          494,
          495,
          496,
          497,
          498
         ],
         "y": [
          1.146233433835723,
          1.1407599077494208,
          1.1354093310397801,
          1.1300793226967996,
          1.1248300160201508,
          1.1196454540397,
          1.1145996951795476,
          1.1095588852682663,
          1.1045896033427236,
          1.0996127600336318,
          1.0947958101406334,
          1.09009928073793,
          1.0855316196329776,
          1.0809517405864388,
          1.076457338397462,
          1.072050862439909,
          1.0676837231580978,
          1.0632863369195833,
          1.0590737899541274,
          1.0549270742436685,
          1.0508456383216591,
          1.0467570594095765,
          1.0427511333969344,
          1.0388157681866066,
          1.0349459994541923,
          1.0312282506720634,
          1.0275653282531594,
          1.0239393861200756,
          1.0203071953105078,
          1.0166926208512637,
          1.0132469797763801,
          1.0098763125093988,
          1.00651151777548,
          1.0031941715138182,
          0.9999360278597554,
          0.9967450526328114,
          0.9936116232765855,
          0.9905003376648853,
          0.9874384904308733,
          0.9844210365744044,
          0.9814592935923105,
          0.9784664861812927,
          0.9755981835587763,
          0.9727304625347828,
          0.9699921482849636,
          0.9672760810989834,
          0.9645378282532486,
          0.9619142328870453,
          0.9593528510001929,
          0.9568671873897677,
          0.9543619464936326,
          0.9518944289033726,
          0.9495176431131769,
          0.9471418403283299,
          0.9448805965340941,
          0.9426015592011675,
          0.9404097162919993,
          0.9382224832716514,
          0.936137967091249,
          0.9339455895431001,
          0.9318622431039565,
          0.9297678955404554,
          0.9277038813108499,
          0.9256578371515737,
          0.9237171866605388,
          0.9217893204540131,
          0.9198946334892109,
          0.918036194636856,
          0.9162186598599751,
          0.9144251832859146,
          0.9126722034029549,
          0.910952826368059,
          0.9093505605116561,
          0.90772444455792,
          0.9060724088639781,
          0.9045130897011504,
          0.9029414628336453,
          0.9014216971135596,
          0.8998567258520559,
          0.8983638828564834,
          0.8969121821354211,
          0.8954453952963762,
          0.8940234442814393,
          0.8926936276273857,
          0.8913293044114842,
          0.8899715731681368,
          0.8886214026085971,
          0.8873423748929891,
          0.8860483227641391,
          0.8847999907778492,
          0.8835753072426482,
          0.8823594595387251,
          0.8811534342475742,
          0.8800014554753862,
          0.8788112792288221,
          0.8776658396316789,
          0.87652338996034,
          0.875392205557222,
          0.8742405236734259,
          0.8731465796777228,
          0.8720032252056127,
          0.8709014628768275,
          0.8698522172760257,
          0.8688546587624737,
          0.8677830744885701,
          0.8667850535886299,
          0.8657276893800042,
          0.864657477558714,
          0.8635907663356309,
          0.8625894678421775,
          0.8615599674018999,
          0.8605498758511497,
          0.8595357586526593,
          0.8585634563016965,
          0.8575847044963536,
          0.8566129866153182,
          0.8555932473521142,
          0.8546625115197239,
          0.8536444308611163,
          0.8527464831941289,
          0.851817050579159,
          0.8508698314001227,
          0.8499699263001086,
          0.8490366008975436,
          0.8481363520367237,
          0.8472136902752565,
          0.8463366780334161,
          0.8454264977334979,
          0.8445972639693915,
          0.8437043663247371,
          0.8428568409012822,
          0.8419763364621986,
          0.8411242725886373,
          0.8402705625685367,
          0.8394747902686504,
          0.8386654671931845,
          0.8378538914954253,
          0.8370059892417505,
          0.8362033870774556,
          0.8354235642717616,
          0.834603294124951,
          0.8338068924812457,
          0.8330511671632335,
          0.8322771832819644,
          0.8315252862499959,
          0.8307632607366988,
          0.8300267730063866,
          0.8292650980133479,
          0.8285471397614811,
          0.8278070381402696,
          0.8270844613435988,
          0.8263807771248808,
          0.8256870858351953,
          0.8249822512862184,
          0.8243168004778254,
          0.8236249645160745,
          0.8229727832567072,
          0.8223107805455685,
          0.8216325329253329,
          0.8209504179964721,
          0.8202825416689515,
          0.8195736053757491,
          0.8189821870377473,
          0.8183142785438424,
          0.8177155551364322,
          0.8170937928690593,
          0.8164678755630672,
          0.8158512033665504,
          0.8152481665840161,
          0.8146277100703405,
          0.8140313201332173,
          0.8134287250144968,
          0.8128402341721012,
          0.8122533003360572,
          0.8116795518281694,
          0.8110665958918132,
          0.8105092333420181,
          0.8099614453247402,
          0.8094012381947115,
          0.8088399618566218,
          0.8082673292057896,
          0.8077370507460568,
          0.8072895187331767,
          0.8067291588490018,
          0.8062190985812759,
          0.8056655506291391,
          0.8051262952564876,
          0.8046984785081519,
          0.8041806599354454,
          0.8036781419894717,
          0.8032726345877604,
          0.8027538214499494,
          0.8024043948660847,
          0.8018771142512504,
          0.8013536292782956,
          0.8009165545467559,
          0.8003938344704311,
          0.7999074367404244,
          0.7994701513526998,
          0.7990484046281279,
          0.7985373518514086,
          0.7980400933995435,
          0.7976530848293969,
          0.7971647640806901,
          0.7966306913087846,
          0.7962304760166754,
          0.7957455745657315,
          0.7952755156041633,
          0.7947807414370173,
          0.7943485270619626,
          0.7939340024931238,
          0.7934433185568434,
          0.7929617677835442,
          0.7925334747676832,
          0.7920414607256313,
          0.7916020297754067,
          0.7912892283528656,
          0.7908228837685597,
          0.7905113008249214,
          0.790053214422423,
          0.789589494501012,
          0.7892779243170918,
          0.788839312002547,
          0.7884058736344854,
          0.7879134943101276,
          0.7874865734721386,
          0.787168838287279,
          0.7866926573111518,
          0.7863141056966236,
          0.7858913784163404,
          0.7856012387619239,
          0.7851764538844863,
          0.7847379487339481,
          0.7842965630649622,
          0.7838917274759198,
          0.7834455673053669,
          0.7831382026000652,
          0.7827405114456162,
          0.7823889380683231,
          0.7819455021153688,
          0.78157787743963,
          0.7814071757991237,
          0.7810186341339486,
          0.7806616890229672,
          0.7802389766847353,
          0.7798196214305851,
          0.7794777887918831,
          0.7790727903342471,
          0.778710831866577,
          0.7783252434127139,
          0.7779450350815237,
          0.7775726689535437,
          0.7771801960457788,
          0.7767994169334863,
          0.7764524509455006,
          0.7760770148083764,
          0.7757274021023859,
          0.7753986550579335,
          0.7750168896036713,
          0.7746506715160758,
          0.7743059564607971,
          0.7739567212510917,
          0.773606564199089,
          0.7732232618501872,
          0.7728772439792535,
          0.7726047857459113,
          0.7722184636598858,
          0.7718563783660004,
          0.7715640019709907,
          0.7713495380274878,
          0.7710029401280756,
          0.7706428593872744,
          0.7703781091422438,
          0.7700469383253291,
          0.7698243163066996,
          0.7694872317932897,
          0.7691614520163038,
          0.768893433134277,
          0.7685369843263669,
          0.7682188399320374,
          0.7678789553824582,
          0.7675331620394992,
          0.767318107330995,
          0.766960084266398,
          0.766664205552031,
          0.7663865640340862,
          0.7660341182745283,
          0.7657594136186642,
          0.7656095993752928,
          0.7653981991295611,
          0.7650885060675039,
          0.7647262882995474,
          0.7644911130901751,
          0.7642094387102746,
          0.7640266914033919,
          0.7637027395280396,
          0.7633920439480743,
          0.7631376066798855,
          0.7628375144945299,
          0.7625337374960129,
          0.762235468545177,
          0.7619472888543136,
          0.7617511404487732,
          0.7614296273770692,
          0.7611563741557705,
          0.7609581489723549,
          0.7606439118094349,
          0.7603414479850673,
          0.7601355582881059,
          0.7599357691641014,
          0.759640213615238,
          0.759329786536479,
          0.7591298152171566,
          0.7588426206340112,
          0.7585339615257296,
          0.7582305853784244,
          0.7579534770005567,
          0.7577650176466553,
          0.7574846583313972,
          0.7572348141899526,
          0.756989588258417,
          0.7567395951901864,
          0.7565640918154835,
          0.7562755824117393,
          0.7560986153330448,
          0.7558423172709191,
          0.7555436621529455,
          0.755314474705407,
          0.7550494015845884,
          0.7548272344483226,
          0.7545834260897929,
          0.7543113262604075,
          0.754140122854369,
          0.7538936310102415,
          0.7537238983760196,
          0.7534479984668919,
          0.7532237791906141,
          0.7530980444611847,
          0.7528283868747646,
          0.7526104396023299,
          0.7523592533396332,
          0.75212992289742,
          0.7519882964249379,
          0.7517420504688973,
          0.7515423068033865,
          0.7512925282515869,
          0.7500296976032305,
          0.749774438539272,
          0.7485201971406411,
          0.7482849838443244,
          0.748050941200367,
          0.7478208203357358,
          0.7466209623409159,
          0.7463668239746685,
          0.746125616681514,
          0.7449816249827877,
          0.7447293940668878,
          0.744520978257836,
          0.7442973918807052,
          0.7431872824005856,
          0.742960925948937,
          0.7418750335869594,
          0.7416312205081194,
          0.7414969854766749,
          0.7412745083434759,
          0.7401969191602975,
          0.7399646717900165,
          0.739823113973111,
          0.7387097037926759,
          0.7384691071322602,
          0.7382462295576083,
          0.7380409122812714,
          0.7378272634382983,
          0.7367905507650944,
          0.736574541345788,
          0.735552599092964,
          0.7353289152159289,
          0.7351427713612445,
          0.7349365227796641,
          0.7339094373635787,
          0.7336773887997479,
          0.7326193459413417,
          0.7323893247783084,
          0.7321960722047469,
          0.7321107485913319,
          0.7310495933766129,
          0.7308238663565173,
          0.729824737358794,
          0.7296121724189177,
          0.7294415921552272,
          0.7285470364254539,
          0.7283277005171679,
          0.7281375223979893,
          0.7272255185864865,
          0.7270380215348835,
          0.7261307739691159,
          0.725959892230212,
          0.7258736778517956,
          0.7256845037361078,
          0.725547335654649,
          0.7246289714511038,
          0.7244440981009614,
          0.724255803528285,
          0.7240557621047684,
          0.7231962304102516,
          0.7230818887137103,
          0.7221889916031391,
          0.7219926974864161,
          0.7211799398532226,
          0.7209970006116133,
          0.7208284416253127,
          0.7207338535472179,
          0.7205764933937523,
          0.7196369396474882,
          0.7194426867877384,
          0.7185172624518138,
          0.7183388394766564,
          0.7182413805423411,
          0.7173606860440099,
          0.7171746052018574,
          0.7163682818402646,
          0.7162013501303797,
          0.7153864423449053,
          0.7152098014667334,
          0.7151340071545152,
          0.71496757973705,
          0.7148193197816995,
          0.7147640995620881,
          0.7139720435519284,
          0.7137988559226623,
          0.7136428665907547,
          0.7135523016691899,
          0.7128025031186059,
          0.7126599952460241,
          0.7119174698522043,
          0.7117577583593732,
          0.7116889508924114,
          0.7115361410568392,
          0.7113731657787563,
          0.7106411917979443,
          0.7105355661186478,
          0.7097575332417633,
          0.70960222876722,
          0.7094577767497678,
          0.7093163177866262,
          0.7086613715628042,
          0.7085859792827918,
          0.7084400245341028,
          0.7077565120741658,
          0.7076206743929802,
          0.7075307916826961,
          0.7073989097272408,
          0.7067286328752301,
          0.7065817230927044,
          0.7064737572736626,
          0.7058264707503441,
          0.7056888875350711,
          0.7055486273919981,
          0.7048570683692265,
          0.7047257822853898,
          0.7046284448235224,
          0.7039877364731973,
          0.7038437724489459,
          0.7037278072422991,
          0.703079831980562,
          0.7029462804974599,
          0.7023483983199692,
          0.7023137535470231,
          0.7022006524403581,
          0.7020636322508,
          0.7020390757764124,
          0.7014428996026515,
          0.7013100920523775,
          0.7011907087441925,
          0.7006646845224596,
          0.7005416105636176,
          0.7004175069986791,
          0.7003040344022304,
          0.6996869357148215,
          0.6995682532230311,
          0.6989661553914683,
          0.6988497532340594,
          0.6987695977120897,
          0.6986420464770067,
          0.6985285985707087,
          0.6980018538390993,
          0.6978820459703005,
          0.697839363486602,
          0.6973150091614266,
          0.697199077416172,
          0.6970919688155003,
          0.6969930613721487,
          0.696490347274361,
          0.6963714317677483,
          0.6958876721309821,
          0.6957711137442407,
          0.6956575788908986,
          0.6955939063450752,
          0.6950488495583655,
          0.6949459652080918
         ],
         "type": "scatter",
         "xaxis": "x",
         "yaxis": "y2"
        },
        {
         "marker": {
          "color": "green",
          "size": 1.3,
          "symbol": "square"
         },
         "mode": "markers",
         "name": "feature",
         "x": [
          0,
          1,
          2,
          3,
          4,
          5,
          6,
          7,
          8,
          9,
          10,
          11,
          12,
          13,
          14,
          15,
          16,
          17,
          18,
          19,
          20,
          21,
          22,
          23,
          24,
          25,
          26,
          27,
          28,
          29,
          30,
          31,
          32,
          33,
          34,
          35,
          36,
          37,
          38,
          39,
          40,
          41,
          42,
          43,
          44,
          45,
          46,
          47,
          48,
          49,
          50,
          51,
          52,
          53,
          54,
          55,
          56,
          57,
          58,
          59,
          60,
          61,
          62,
          63,
          64,
          65,
          66,
          67,
          68,
          69,
          70,
          71,
          72,
          73,
          74,
          75,
          76,
          77,
          78,
          79,
          80,
          81,
          82,
          83,
          84,
          85,
          86,
          87,
          88,
          89,
          90,
          91,
          92,
          93,
          94,
          95,
          96,
          97,
          98,
          99,
          100,
          101,
          102,
          103,
          104,
          105,
          106,
          107,
          108,
          109,
          110,
          111,
          112,
          113,
          114,
          115,
          116,
          117,
          118,
          119,
          120,
          121,
          122,
          123,
          124,
          125,
          126,
          127,
          128,
          129,
          130,
          131,
          132,
          133,
          134,
          135,
          136,
          137,
          138,
          139,
          140,
          141,
          142,
          143,
          144,
          145,
          146,
          147,
          148,
          149,
          150,
          151,
          152,
          153,
          154,
          155,
          156,
          157,
          158,
          159,
          160,
          161,
          162,
          163,
          164,
          165,
          166,
          167,
          168,
          169,
          170,
          171,
          172,
          173,
          174,
          175,
          176,
          177,
          178,
          179,
          180,
          181,
          182,
          183,
          184,
          185,
          186,
          187,
          188,
          189,
          190,
          191,
          192,
          193,
          194,
          195,
          196,
          197,
          198,
          199,
          200,
          201,
          202,
          203,
          204,
          205,
          206,
          207,
          208,
          209,
          210,
          211,
          212,
          213,
          214,
          215,
          216,
          217,
          218,
          219,
          220,
          221,
          222,
          223,
          224,
          225,
          226,
          227,
          228,
          229,
          230,
          231,
          232,
          233,
          234,
          235,
          236,
          237,
          238,
          239,
          240,
          241,
          242,
          243,
          244,
          245,
          246,
          247,
          248,
          249,
          250,
          251,
          252,
          253,
          254,
          255,
          256,
          257,
          258,
          259,
          260,
          261,
          262,
          263,
          264,
          265,
          266,
          267,
          268,
          269,
          270,
          271,
          272,
          273,
          274,
          275,
          276,
          277,
          278,
          279,
          280,
          281,
          282,
          283,
          284,
          285,
          286,
          287,
          288,
          289,
          290,
          291,
          292,
          293,
          294,
          295,
          296,
          297,
          298,
          299,
          300,
          301,
          302,
          303,
          304,
          305,
          306,
          307,
          308,
          309,
          310,
          311,
          312,
          313,
          314,
          315,
          316,
          317,
          318,
          319,
          320,
          321,
          322,
          323,
          324,
          325,
          326,
          327,
          328,
          329,
          330,
          331,
          332,
          333,
          334,
          335,
          336,
          337,
          338,
          339,
          340,
          341,
          342,
          343,
          344,
          345,
          346,
          347,
          348,
          349,
          350,
          351,
          352,
          353,
          354,
          355,
          356,
          357,
          358,
          359,
          360,
          361,
          362,
          363,
          364,
          365,
          366,
          367,
          368,
          369,
          370,
          371,
          372,
          373,
          374,
          375,
          376,
          377,
          378,
          379,
          380,
          381,
          382,
          383,
          384,
          385,
          386,
          387,
          388,
          389,
          390,
          391,
          392,
          393,
          394,
          395,
          396,
          397,
          398,
          399,
          400,
          401,
          402,
          403,
          404,
          405,
          406,
          407,
          408,
          409,
          410,
          411,
          412,
          413,
          414,
          415,
          416,
          417,
          418,
          419,
          420,
          421,
          422,
          423,
          424,
          425,
          426,
          427,
          428,
          429,
          430,
          431,
          432,
          433,
          434,
          435,
          436,
          437,
          438,
          439,
          440,
          441,
          442,
          443,
          444,
          445,
          446,
          447,
          448,
          449,
          450,
          451,
          452,
          453,
          454,
          455,
          456,
          457,
          458,
          459,
          460,
          461,
          462,
          463,
          464,
          465,
          466,
          467,
          468,
          469,
          470,
          471,
          472,
          473,
          474,
          475,
          476,
          477,
          478,
          479,
          480,
          481,
          482,
          483,
          484,
          485,
          486,
          487,
          488,
          489,
          490,
          491,
          492,
          493,
          494,
          495,
          496,
          497,
          498
         ],
         "y": [
          "MedInc",
          "MedInc",
          "MedInc",
          "MedInc",
          "MedInc",
          "MedInc",
          "MedInc",
          "MedInc",
          "MedInc",
          "MedInc",
          "MedInc",
          "MedInc",
          "MedInc",
          "MedInc",
          "MedInc",
          "MedInc",
          "MedInc",
          "MedInc",
          "MedInc",
          "MedInc",
          "MedInc",
          "MedInc",
          "MedInc",
          "MedInc",
          "MedInc",
          "MedInc",
          "MedInc",
          "MedInc",
          "MedInc",
          "MedInc",
          "MedInc",
          "MedInc",
          "MedInc",
          "MedInc",
          "MedInc",
          "MedInc",
          "MedInc",
          "MedInc",
          "MedInc",
          "MedInc",
          "MedInc",
          "MedInc",
          "MedInc",
          "MedInc",
          "MedInc",
          "MedInc",
          "MedInc",
          "MedInc",
          "MedInc",
          "MedInc",
          "MedInc",
          "MedInc",
          "MedInc",
          "MedInc",
          "MedInc",
          "MedInc",
          "MedInc",
          "MedInc",
          "MedInc",
          "MedInc",
          "MedInc",
          "MedInc",
          "MedInc",
          "MedInc",
          "MedInc",
          "MedInc",
          "MedInc",
          "MedInc",
          "MedInc",
          "MedInc",
          "MedInc",
          "MedInc",
          "MedInc",
          "MedInc",
          "MedInc",
          "MedInc",
          "MedInc",
          "MedInc",
          "MedInc",
          "MedInc",
          "MedInc",
          "MedInc",
          "MedInc",
          "MedInc",
          "MedInc",
          "MedInc",
          "MedInc",
          "MedInc",
          "MedInc",
          "MedInc",
          "AveOccup",
          "MedInc",
          "MedInc",
          "AveOccup",
          "MedInc",
          "AveOccup",
          "MedInc",
          "AveOccup",
          "MedInc",
          "AveOccup",
          "MedInc",
          "AveOccup",
          "MedInc",
          "AveOccup",
          "MedInc",
          "AveOccup",
          "MedInc",
          "AveOccup",
          "MedInc",
          "AveOccup",
          "MedInc",
          "AveOccup",
          "MedInc",
          "AveOccup",
          "MedInc",
          "AveOccup",
          "MedInc",
          "AveOccup",
          "MedInc",
          "AveOccup",
          "MedInc",
          "AveOccup",
          "MedInc",
          "AveOccup",
          "MedInc",
          "MedInc",
          "AveOccup",
          "MedInc",
          "AveOccup",
          "MedInc",
          "AveOccup",
          "MedInc",
          "AveOccup",
          "MedInc",
          "AveOccup",
          "MedInc",
          "AveOccup",
          "MedInc",
          "AveOccup",
          "MedInc",
          "AveOccup",
          "MedInc",
          "AveOccup",
          "MedInc",
          "AveOccup",
          "MedInc",
          "AveOccup",
          "MedInc",
          "AveOccup",
          "MedInc",
          "AveOccup",
          "MedInc",
          "AveOccup",
          "MedInc",
          "AveOccup",
          "MedInc",
          "AveOccup",
          "MedInc",
          "AveOccup",
          "MedInc",
          "AveOccup",
          "MedInc",
          "AveOccup",
          "MedInc",
          "AveOccup",
          "MedInc",
          "AveOccup",
          "MedInc",
          "AveOccup",
          "MedInc",
          "AveOccup",
          "MedInc",
          "AveOccup",
          "MedInc",
          "MedInc",
          "AveOccup",
          "MedInc",
          "AveOccup",
          "MedInc",
          "AveOccup",
          "MedInc",
          "AveOccup",
          "HouseAge",
          "MedInc",
          "HouseAge",
          "AveOccup",
          "MedInc",
          "HouseAge",
          "AveOccup",
          "MedInc",
          "HouseAge",
          "MedInc",
          "HouseAge",
          "AveOccup",
          "MedInc",
          "HouseAge",
          "AveOccup",
          "MedInc",
          "HouseAge",
          "HouseAge",
          "MedInc",
          "AveOccup",
          "HouseAge",
          "MedInc",
          "AveOccup",
          "HouseAge",
          "MedInc",
          "HouseAge",
          "AveOccup",
          "MedInc",
          "HouseAge",
          "MedInc",
          "AveOccup",
          "HouseAge",
          "MedInc",
          "AveOccup",
          "HouseAge",
          "MedInc",
          "HouseAge",
          "AveOccup",
          "MedInc",
          "HouseAge",
          "HouseAge",
          "MedInc",
          "AveOccup",
          "MedInc",
          "HouseAge",
          "AveOccup",
          "HouseAge",
          "MedInc",
          "HouseAge",
          "MedInc",
          "AveOccup",
          "HouseAge",
          "MedInc",
          "AveOccup",
          "HouseAge",
          "MedInc",
          "HouseAge",
          "AveOccup",
          "MedInc",
          "HouseAge",
          "MedInc",
          "HouseAge",
          "AveOccup",
          "MedInc",
          "HouseAge",
          "AveOccup",
          "HouseAge",
          "MedInc",
          "HouseAge",
          "MedInc",
          "AveOccup",
          "MedInc",
          "HouseAge",
          "AveOccup",
          "MedInc",
          "HouseAge",
          "AveOccup",
          "MedInc",
          "HouseAge",
          "MedInc",
          "HouseAge",
          "AveOccup",
          "MedInc",
          "HouseAge",
          "AveOccup",
          "MedInc",
          "HouseAge",
          "HouseAge",
          "MedInc",
          "AveOccup",
          "HouseAge",
          "MedInc",
          "HouseAge",
          "AveOccup",
          "MedInc",
          "HouseAge",
          "AveOccup",
          "MedInc",
          "HouseAge",
          "MedInc",
          "HouseAge",
          "AveOccup",
          "MedInc",
          "HouseAge",
          "AveOccup",
          "MedInc",
          "HouseAge",
          "HouseAge",
          "MedInc",
          "AveOccup",
          "HouseAge",
          "MedInc",
          "HouseAge",
          "AveOccup",
          "MedInc",
          "HouseAge",
          "MedInc",
          "AveOccup",
          "HouseAge",
          "MedInc",
          "HouseAge",
          "AveOccup",
          "MedInc",
          "HouseAge",
          "AveOccup",
          "MedInc",
          "HouseAge",
          "HouseAge",
          "MedInc",
          "AveOccup",
          "HouseAge",
          "MedInc",
          "HouseAge",
          "AveOccup",
          "MedInc",
          "HouseAge",
          "AveOccup",
          "MedInc",
          "HouseAge",
          "MedInc",
          "HouseAge",
          "AveOccup",
          "HouseAge",
          "MedInc",
          "AveOccup",
          "HouseAge",
          "MedInc",
          "HouseAge",
          "MedInc",
          "AveOccup",
          "HouseAge",
          "MedInc",
          "HouseAge",
          "AveOccup",
          "MedInc",
          "HouseAge",
          "AveOccup",
          "MedInc",
          "HouseAge",
          "MedInc",
          "HouseAge",
          "AveOccup",
          "HouseAge",
          "MedInc",
          "Latitude",
          "AveOccup",
          "Latitude",
          "AveOccup",
          "HouseAge",
          "MedInc",
          "Latitude",
          "AveOccup",
          "AveOccup",
          "Latitude",
          "AveOccup",
          "HouseAge",
          "MedInc",
          "Latitude",
          "AveOccup",
          "Latitude",
          "AveOccup",
          "HouseAge",
          "MedInc",
          "Latitude",
          "AveOccup",
          "HouseAge",
          "Latitude",
          "AveOccup",
          "AveOccup",
          "MedInc",
          "HouseAge",
          "Latitude",
          "AveOccup",
          "Latitude",
          "AveOccup",
          "MedInc",
          "HouseAge",
          "Latitude",
          "AveOccup",
          "Latitude",
          "AveOccup",
          "MedInc",
          "HouseAge",
          "Latitude",
          "AveOccup",
          "Latitude",
          "AveOccup",
          "HouseAge",
          "Latitude",
          "AveOccup",
          "MedInc",
          "Latitude",
          "AveOccup",
          "Latitude",
          "AveOccup",
          "HouseAge",
          "MedInc",
          "HouseAge",
          "Latitude",
          "AveOccup",
          "MedInc",
          "AveOccup",
          "Latitude",
          "HouseAge",
          "Latitude",
          "AveOccup",
          "Latitude",
          "AveOccup",
          "MedInc",
          "HouseAge",
          "AveOccup",
          "Latitude",
          "AveOccup",
          "Latitude",
          "MedInc",
          "HouseAge",
          "Latitude",
          "AveOccup",
          "Latitude",
          "AveOccup",
          "Latitude",
          "AveOccup",
          "HouseAge",
          "MedInc",
          "AveOccup",
          "HouseAge",
          "Latitude",
          "AveOccup",
          "MedInc",
          "HouseAge",
          "Latitude",
          "AveOccup",
          "Latitude",
          "AveOccup",
          "HouseAge",
          "MedInc",
          "AveOccup",
          "Latitude",
          "HouseAge",
          "Latitude",
          "AveOccup",
          "MedInc",
          "AveOccup",
          "Latitude",
          "HouseAge",
          "AveOccup",
          "Latitude",
          "AveOccup",
          "HouseAge",
          "MedInc",
          "Latitude",
          "AveOccup",
          "HouseAge",
          "Latitude",
          "AveOccup",
          "MedInc",
          "Latitude",
          "AveOccup",
          "HouseAge",
          "Latitude",
          "AveOccup",
          "MedInc",
          "Latitude",
          "AveOccup",
          "Latitude",
          "HouseAge",
          "AveOccup",
          "MedInc",
          "HouseAge",
          "Latitude",
          "AveOccup",
          "HouseAge",
          "Latitude",
          "AveOccup",
          "MedInc",
          "HouseAge",
          "Latitude",
          "AveOccup",
          "Latitude",
          "AveOccup",
          "HouseAge",
          "MedInc",
          "AveOccup",
          "Latitude",
          "AveOccup",
          "HouseAge",
          "Latitude",
          "AveOccup",
          "MedInc",
          "HouseAge",
          "Latitude",
          "AveOccup",
          "Latitude",
          "AveOccup",
          "MedInc",
          "HouseAge",
          "Latitude"
         ],
         "type": "scatter",
         "xaxis": "x",
         "yaxis": "y"
        }
       ],
       "layout": {
        "template": {
         "data": {
          "histogram2dcontour": [
           {
            "type": "histogram2dcontour",
            "colorbar": {
             "outlinewidth": 0,
             "ticks": ""
            },
            "colorscale": [
             [
              0.0,
              "#0d0887"
             ],
             [
              0.1111111111111111,
              "#46039f"
             ],
             [
              0.2222222222222222,
              "#7201a8"
             ],
             [
              0.3333333333333333,
              "#9c179e"
             ],
             [
              0.4444444444444444,
              "#bd3786"
             ],
             [
              0.5555555555555556,
              "#d8576b"
             ],
             [
              0.6666666666666666,
              "#ed7953"
             ],
             [
              0.7777777777777778,
              "#fb9f3a"
             ],
             [
              0.8888888888888888,
              "#fdca26"
             ],
             [
              1.0,
              "#f0f921"
             ]
            ]
           }
          ],
          "choropleth": [
           {
            "type": "choropleth",
            "colorbar": {
             "outlinewidth": 0,
             "ticks": ""
            }
           }
          ],
          "histogram2d": [
           {
            "type": "histogram2d",
            "colorbar": {
             "outlinewidth": 0,
             "ticks": ""
            },
            "colorscale": [
             [
              0.0,
              "#0d0887"
             ],
             [
              0.1111111111111111,
              "#46039f"
             ],
             [
              0.2222222222222222,
              "#7201a8"
             ],
             [
              0.3333333333333333,
              "#9c179e"
             ],
             [
              0.4444444444444444,
              "#bd3786"
             ],
             [
              0.5555555555555556,
              "#d8576b"
             ],
             [
              0.6666666666666666,
              "#ed7953"
             ],
             [
              0.7777777777777778,
              "#fb9f3a"
             ],
             [
              0.8888888888888888,
              "#fdca26"
             ],
             [
              1.0,
              "#f0f921"
             ]
            ]
           }
          ],
          "heatmap": [
           {
            "type": "heatmap",
            "colorbar": {
             "outlinewidth": 0,
             "ticks": ""
            },
            "colorscale": [
             [
              0.0,
              "#0d0887"
             ],
             [
              0.1111111111111111,
              "#46039f"
             ],
             [
              0.2222222222222222,
              "#7201a8"
             ],
             [
              0.3333333333333333,
              "#9c179e"
             ],
             [
              0.4444444444444444,
              "#bd3786"
             ],
             [
              0.5555555555555556,
              "#d8576b"
             ],
             [
              0.6666666666666666,
              "#ed7953"
             ],
             [
              0.7777777777777778,
              "#fb9f3a"
             ],
             [
              0.8888888888888888,
              "#fdca26"
             ],
             [
              1.0,
              "#f0f921"
             ]
            ]
           }
          ],
          "heatmapgl": [
           {
            "type": "heatmapgl",
            "colorbar": {
             "outlinewidth": 0,
             "ticks": ""
            },
            "colorscale": [
             [
              0.0,
              "#0d0887"
             ],
             [
              0.1111111111111111,
              "#46039f"
             ],
             [
              0.2222222222222222,
              "#7201a8"
             ],
             [
              0.3333333333333333,
              "#9c179e"
             ],
             [
              0.4444444444444444,
              "#bd3786"
             ],
             [
              0.5555555555555556,
              "#d8576b"
             ],
             [
              0.6666666666666666,
              "#ed7953"
             ],
             [
              0.7777777777777778,
              "#fb9f3a"
             ],
             [
              0.8888888888888888,
              "#fdca26"
             ],
             [
              1.0,
              "#f0f921"
             ]
            ]
           }
          ],
          "contourcarpet": [
           {
            "type": "contourcarpet",
            "colorbar": {
             "outlinewidth": 0,
             "ticks": ""
            }
           }
          ],
          "contour": [
           {
            "type": "contour",
            "colorbar": {
             "outlinewidth": 0,
             "ticks": ""
            },
            "colorscale": [
             [
              0.0,
              "#0d0887"
             ],
             [
              0.1111111111111111,
              "#46039f"
             ],
             [
              0.2222222222222222,
              "#7201a8"
             ],
             [
              0.3333333333333333,
              "#9c179e"
             ],
             [
              0.4444444444444444,
              "#bd3786"
             ],
             [
              0.5555555555555556,
              "#d8576b"
             ],
             [
              0.6666666666666666,
              "#ed7953"
             ],
             [
              0.7777777777777778,
              "#fb9f3a"
             ],
             [
              0.8888888888888888,
              "#fdca26"
             ],
             [
              1.0,
              "#f0f921"
             ]
            ]
           }
          ],
          "surface": [
           {
            "type": "surface",
            "colorbar": {
             "outlinewidth": 0,
             "ticks": ""
            },
            "colorscale": [
             [
              0.0,
              "#0d0887"
             ],
             [
              0.1111111111111111,
              "#46039f"
             ],
             [
              0.2222222222222222,
              "#7201a8"
             ],
             [
              0.3333333333333333,
              "#9c179e"
             ],
             [
              0.4444444444444444,
              "#bd3786"
             ],
             [
              0.5555555555555556,
              "#d8576b"
             ],
             [
              0.6666666666666666,
              "#ed7953"
             ],
             [
              0.7777777777777778,
              "#fb9f3a"
             ],
             [
              0.8888888888888888,
              "#fdca26"
             ],
             [
              1.0,
              "#f0f921"
             ]
            ]
           }
          ],
          "mesh3d": [
           {
            "type": "mesh3d",
            "colorbar": {
             "outlinewidth": 0,
             "ticks": ""
            }
           }
          ],
          "scatter": [
           {
            "fillpattern": {
             "fillmode": "overlay",
             "size": 10,
             "solidity": 0.2
            },
            "type": "scatter"
           }
          ],
          "parcoords": [
           {
            "type": "parcoords",
            "line": {
             "colorbar": {
              "outlinewidth": 0,
              "ticks": ""
             }
            }
           }
          ],
          "scatterpolargl": [
           {
            "type": "scatterpolargl",
            "marker": {
             "colorbar": {
              "outlinewidth": 0,
              "ticks": ""
             }
            }
           }
          ],
          "bar": [
           {
            "error_x": {
             "color": "#2a3f5f"
            },
            "error_y": {
             "color": "#2a3f5f"
            },
            "marker": {
             "line": {
              "color": "#E5ECF6",
              "width": 0.5
             },
             "pattern": {
              "fillmode": "overlay",
              "size": 10,
              "solidity": 0.2
             }
            },
            "type": "bar"
           }
          ],
          "scattergeo": [
           {
            "type": "scattergeo",
            "marker": {
             "colorbar": {
              "outlinewidth": 0,
              "ticks": ""
             }
            }
           }
          ],
          "scatterpolar": [
           {
            "type": "scatterpolar",
            "marker": {
             "colorbar": {
              "outlinewidth": 0,
              "ticks": ""
             }
            }
           }
          ],
          "histogram": [
           {
            "marker": {
             "pattern": {
              "fillmode": "overlay",
              "size": 10,
              "solidity": 0.2
             }
            },
            "type": "histogram"
           }
          ],
          "scattergl": [
           {
            "type": "scattergl",
            "marker": {
             "colorbar": {
              "outlinewidth": 0,
              "ticks": ""
             }
            }
           }
          ],
          "scatter3d": [
           {
            "type": "scatter3d",
            "line": {
             "colorbar": {
              "outlinewidth": 0,
              "ticks": ""
             }
            },
            "marker": {
             "colorbar": {
              "outlinewidth": 0,
              "ticks": ""
             }
            }
           }
          ],
          "scattermapbox": [
           {
            "type": "scattermapbox",
            "marker": {
             "colorbar": {
              "outlinewidth": 0,
              "ticks": ""
             }
            }
           }
          ],
          "scatterternary": [
           {
            "type": "scatterternary",
            "marker": {
             "colorbar": {
              "outlinewidth": 0,
              "ticks": ""
             }
            }
           }
          ],
          "scattercarpet": [
           {
            "type": "scattercarpet",
            "marker": {
             "colorbar": {
              "outlinewidth": 0,
              "ticks": ""
             }
            }
           }
          ],
          "carpet": [
           {
            "aaxis": {
             "endlinecolor": "#2a3f5f",
             "gridcolor": "white",
             "linecolor": "white",
             "minorgridcolor": "white",
             "startlinecolor": "#2a3f5f"
            },
            "baxis": {
             "endlinecolor": "#2a3f5f",
             "gridcolor": "white",
             "linecolor": "white",
             "minorgridcolor": "white",
             "startlinecolor": "#2a3f5f"
            },
            "type": "carpet"
           }
          ],
          "table": [
           {
            "cells": {
             "fill": {
              "color": "#EBF0F8"
             },
             "line": {
              "color": "white"
             }
            },
            "header": {
             "fill": {
              "color": "#C8D4E3"
             },
             "line": {
              "color": "white"
             }
            },
            "type": "table"
           }
          ],
          "barpolar": [
           {
            "marker": {
             "line": {
              "color": "#E5ECF6",
              "width": 0.5
             },
             "pattern": {
              "fillmode": "overlay",
              "size": 10,
              "solidity": 0.2
             }
            },
            "type": "barpolar"
           }
          ],
          "pie": [
           {
            "automargin": true,
            "type": "pie"
           }
          ]
         },
         "layout": {
          "autotypenumbers": "strict",
          "colorway": [
           "#636efa",
           "#EF553B",
           "#00cc96",
           "#ab63fa",
           "#FFA15A",
           "#19d3f3",
           "#FF6692",
           "#B6E880",
           "#FF97FF",
           "#FECB52"
          ],
          "font": {
           "color": "#2a3f5f"
          },
          "hovermode": "closest",
          "hoverlabel": {
           "align": "left"
          },
          "paper_bgcolor": "white",
          "plot_bgcolor": "#E5ECF6",
          "polar": {
           "bgcolor": "#E5ECF6",
           "angularaxis": {
            "gridcolor": "white",
            "linecolor": "white",
            "ticks": ""
           },
           "radialaxis": {
            "gridcolor": "white",
            "linecolor": "white",
            "ticks": ""
           }
          },
          "ternary": {
           "bgcolor": "#E5ECF6",
           "aaxis": {
            "gridcolor": "white",
            "linecolor": "white",
            "ticks": ""
           },
           "baxis": {
            "gridcolor": "white",
            "linecolor": "white",
            "ticks": ""
           },
           "caxis": {
            "gridcolor": "white",
            "linecolor": "white",
            "ticks": ""
           }
          },
          "coloraxis": {
           "colorbar": {
            "outlinewidth": 0,
            "ticks": ""
           }
          },
          "colorscale": {
           "sequential": [
            [
             0.0,
             "#0d0887"
            ],
            [
             0.1111111111111111,
             "#46039f"
            ],
            [
             0.2222222222222222,
             "#7201a8"
            ],
            [
             0.3333333333333333,
             "#9c179e"
            ],
            [
             0.4444444444444444,
             "#bd3786"
            ],
            [
             0.5555555555555556,
             "#d8576b"
            ],
            [
             0.6666666666666666,
             "#ed7953"
            ],
            [
             0.7777777777777778,
             "#fb9f3a"
            ],
            [
             0.8888888888888888,
             "#fdca26"
            ],
            [
             1.0,
             "#f0f921"
            ]
           ],
           "sequentialminus": [
            [
             0.0,
             "#0d0887"
            ],
            [
             0.1111111111111111,
             "#46039f"
            ],
            [
             0.2222222222222222,
             "#7201a8"
            ],
            [
             0.3333333333333333,
             "#9c179e"
            ],
            [
             0.4444444444444444,
             "#bd3786"
            ],
            [
             0.5555555555555556,
             "#d8576b"
            ],
            [
             0.6666666666666666,
             "#ed7953"
            ],
            [
             0.7777777777777778,
             "#fb9f3a"
            ],
            [
             0.8888888888888888,
             "#fdca26"
            ],
            [
             1.0,
             "#f0f921"
            ]
           ],
           "diverging": [
            [
             0,
             "#8e0152"
            ],
            [
             0.1,
             "#c51b7d"
            ],
            [
             0.2,
             "#de77ae"
            ],
            [
             0.3,
             "#f1b6da"
            ],
            [
             0.4,
             "#fde0ef"
            ],
            [
             0.5,
             "#f7f7f7"
            ],
            [
             0.6,
             "#e6f5d0"
            ],
            [
             0.7,
             "#b8e186"
            ],
            [
             0.8,
             "#7fbc41"
            ],
            [
             0.9,
             "#4d9221"
            ],
            [
             1,
             "#276419"
            ]
           ]
          },
          "xaxis": {
           "gridcolor": "white",
           "linecolor": "white",
           "ticks": "",
           "title": {
            "standoff": 15
           },
           "zerolinecolor": "white",
           "automargin": true,
           "zerolinewidth": 2
          },
          "yaxis": {
           "gridcolor": "white",
           "linecolor": "white",
           "ticks": "",
           "title": {
            "standoff": 15
           },
           "zerolinecolor": "white",
           "automargin": true,
           "zerolinewidth": 2
          },
          "scene": {
           "xaxis": {
            "backgroundcolor": "#E5ECF6",
            "gridcolor": "white",
            "linecolor": "white",
            "showbackground": true,
            "ticks": "",
            "zerolinecolor": "white",
            "gridwidth": 2
           },
           "yaxis": {
            "backgroundcolor": "#E5ECF6",
            "gridcolor": "white",
            "linecolor": "white",
            "showbackground": true,
            "ticks": "",
            "zerolinecolor": "white",
            "gridwidth": 2
           },
           "zaxis": {
            "backgroundcolor": "#E5ECF6",
            "gridcolor": "white",
            "linecolor": "white",
            "showbackground": true,
            "ticks": "",
            "zerolinecolor": "white",
            "gridwidth": 2
           }
          },
          "shapedefaults": {
           "line": {
            "color": "#2a3f5f"
           }
          },
          "annotationdefaults": {
           "arrowcolor": "#2a3f5f",
           "arrowhead": 0,
           "arrowwidth": 1
          },
          "geo": {
           "bgcolor": "white",
           "landcolor": "#E5ECF6",
           "subunitcolor": "white",
           "showland": true,
           "showlakes": true,
           "lakecolor": "white"
          },
          "title": {
           "x": 0.05
          },
          "mapbox": {
           "style": "light"
          }
         }
        },
        "xaxis": {
         "anchor": "y",
         "domain": [
          0.0,
          0.94
         ],
         "title": {
          "text": "Number of iterations"
         }
        },
        "yaxis": {
         "anchor": "x",
         "domain": [
          0.0,
          1.0
         ],
         "title": {
          "text": "Selected feature"
         }
        },
        "yaxis2": {
         "anchor": "x",
         "overlaying": "y",
         "side": "right",
         "title": {
          "text": "RMSE MedHouseVal"
         }
        },
        "showlegend": true,
        "title": {
         "text": "Iteration history"
        }
       },
       "config": {
        "plotlyServerURL": "https://plot.ly"
       }
      },
      "text/html": "<div>                            <div id=\"39583c0d-cafd-43ad-9a35-a62236028c96\" class=\"plotly-graph-div\" style=\"height:525px; width:100%;\"></div>            <script type=\"text/javascript\">                require([\"plotly\"], function(Plotly) {                    window.PLOTLYENV=window.PLOTLYENV || {};                                    if (document.getElementById(\"39583c0d-cafd-43ad-9a35-a62236028c96\")) {                    Plotly.newPlot(                        \"39583c0d-cafd-43ad-9a35-a62236028c96\",                        [{\"line\":{\"color\":\"red\"},\"name\":\"validation rmse\",\"x\":[0,1,2,3,4,5,6,7,8,9,10,11,12,13,14,15,16,17,18,19,20,21,22,23,24,25,26,27,28,29,30,31,32,33,34,35,36,37,38,39,40,41,42,43,44,45,46,47,48,49,50,51,52,53,54,55,56,57,58,59,60,61,62,63,64,65,66,67,68,69,70,71,72,73,74,75,76,77,78,79,80,81,82,83,84,85,86,87,88,89,90,91,92,93,94,95,96,97,98,99,100,101,102,103,104,105,106,107,108,109,110,111,112,113,114,115,116,117,118,119,120,121,122,123,124,125,126,127,128,129,130,131,132,133,134,135,136,137,138,139,140,141,142,143,144,145,146,147,148,149,150,151,152,153,154,155,156,157,158,159,160,161,162,163,164,165,166,167,168,169,170,171,172,173,174,175,176,177,178,179,180,181,182,183,184,185,186,187,188,189,190,191,192,193,194,195,196,197,198,199,200,201,202,203,204,205,206,207,208,209,210,211,212,213,214,215,216,217,218,219,220,221,222,223,224,225,226,227,228,229,230,231,232,233,234,235,236,237,238,239,240,241,242,243,244,245,246,247,248,249,250,251,252,253,254,255,256,257,258,259,260,261,262,263,264,265,266,267,268,269,270,271,272,273,274,275,276,277,278,279,280,281,282,283,284,285,286,287,288,289,290,291,292,293,294,295,296,297,298,299,300,301,302,303,304,305,306,307,308,309,310,311,312,313,314,315,316,317,318,319,320,321,322,323,324,325,326,327,328,329,330,331,332,333,334,335,336,337,338,339,340,341,342,343,344,345,346,347,348,349,350,351,352,353,354,355,356,357,358,359,360,361,362,363,364,365,366,367,368,369,370,371,372,373,374,375,376,377,378,379,380,381,382,383,384,385,386,387,388,389,390,391,392,393,394,395,396,397,398,399,400,401,402,403,404,405,406,407,408,409,410,411,412,413,414,415,416,417,418,419,420,421,422,423,424,425,426,427,428,429,430,431,432,433,434,435,436,437,438,439,440,441,442,443,444,445,446,447,448,449,450,451,452,453,454,455,456,457,458,459,460,461,462,463,464,465,466,467,468,469,470,471,472,473,474,475,476,477,478,479,480,481,482,483,484,485,486,487,488,489,490,491,492,493,494,495,496,497,498],\"y\":[1.1667119732862121,1.1611684798981794,1.1557766178392854,1.1504269312110738,1.145182916643379,1.139974567520455,1.1349232337347472,1.1299396728729698,1.124915908391751,1.1199864051531723,1.115163617907854,1.1104740742371086,1.1059002471167507,1.1013320084998037,1.0968495953119994,1.0924506160229293,1.0880953401607882,1.0837194467057853,1.0795229758082117,1.0753874988352567,1.0713415984999595,1.0672710908610814,1.0633241962938635,1.0593792061056762,1.0555026419139588,1.0517752021641429,1.048136330193084,1.044536822157444,1.0408927516074065,1.037310638727899,1.0338583113889406,1.0305636226843873,1.0272330121956428,1.0239771550116248,1.0207399838999043,1.017542081340163,1.0143999410539069,1.0112801791008443,1.0082348328842954,1.005255517056845,1.0022962537501705,0.9993083727724656,0.9964352313558883,0.9935981234692969,0.990896306566964,0.9881817357975673,0.985478009856568,0.9828862975265414,0.9803639630827069,0.97789473880047,0.9754281620423776,0.9729978798761273,0.9706443937139517,0.9682840122918202,0.9660442889799931,0.9637659584519354,0.9615998023707961,0.9594493599717819,0.9573898054705825,0.9552116073583033,0.9531697535174108,0.9511093146710508,0.9490413628347651,0.9470239712905856,0.9451057151068003,0.9432120981838689,0.9413415470463924,0.9395247294392345,0.9377185041626719,0.9359651875962722,0.9342523102326157,0.9325724187841465,0.931053011177588,0.929484602270563,0.9278461363183548,0.9263241584261706,0.9247637487815846,0.923271549584118,0.921688697899273,0.9202379867661522,0.9188272785913192,0.9173840098159135,0.9160056252218105,0.9146831196413199,0.913367599962321,0.9120158539508064,0.9107180461742921,0.9094633889046129,0.9081730400844511,0.9069462353476868,0.9057419019138352,0.9045357221465263,0.9033564811840755,0.9022214906117573,0.9010670032487763,0.8999361052440549,0.898816326980182,0.8976911572119657,0.8965832001387134,0.8954707125049091,0.8943987281776212,0.8933064223093793,0.8922708230171105,0.8912711270914647,0.8902263304684932,0.8892435474131025,0.8882061750541881,0.8871693722070856,0.8861478815039262,0.8851632988043872,0.884178236510873,0.8831708627826677,0.8821716124606798,0.8811875735988233,0.8802624424837391,0.8792997120907399,0.8783358185601922,0.8774138322367683,0.8764435901709041,0.8755669564290954,0.8746918833923085,0.8737356382274739,0.8728897034278509,0.8719358657796241,0.8710729102432815,0.8701664381729922,0.8693156136046974,0.8684429203407216,0.867626360964047,0.8667631855789805,0.8659284758834962,0.8650707595040606,0.8642206285922452,0.8633999804059487,0.8625625254582188,0.861779856321698,0.8609801732169466,0.860169824718894,0.8593375768335461,0.8585817862825285,0.857768497864001,0.8569835875049095,0.856221842662096,0.8554933808204446,0.8547338180345772,0.8539838986716062,0.8532610315450364,0.8525284783082575,0.8517969077054482,0.8510889275751619,0.8503646548925843,0.8496798831011313,0.8489797439962069,0.8483200409134725,0.8476644462390952,0.8469755199441901,0.8463101372796847,0.8456854738025213,0.8449930340839513,0.8443225744397096,0.8436505077865359,0.8429666440691037,0.8423765031772849,0.8417134671807477,0.8410947817219404,0.8404918725061605,0.8398598607131127,0.8392495839551203,0.838649317426705,0.8380726798388699,0.8374652400526751,0.8368761697947498,0.8362802428915569,0.8357001103709537,0.8351632651263143,0.8345384510369367,0.8340155759041813,0.8334726189010908,0.83292216631497,0.8323352463886399,0.8317866957499391,0.8312625940392672,0.8308446362635284,0.8303015096152037,0.8298465912333254,0.8293138389328855,0.8287509444066771,0.828348978537186,0.82781915268285,0.8273309892343967,0.8269600151949388,0.8264687740113331,0.8261138717521265,0.8255895764270897,0.8250658855879591,0.8246692996555337,0.8241432310602261,0.8236909394957032,0.8232638880214167,0.8228925177098366,0.8223875950535806,0.8218928507048754,0.8215203622771876,0.8210726960120301,0.8205346859699292,0.8201605073340636,0.819701822984859,0.8192800285512293,0.8187646350354606,0.8183610567608863,0.8179530261296405,0.8175074311191071,0.8170272151864543,0.8166220652107444,0.8161613207602325,0.8157473932636303,0.8154377458944828,0.8149866506462786,0.8146978901864077,0.8142586674530502,0.8138442208601436,0.8135435561895217,0.813132271844821,0.8127239401756808,0.8122249909506419,0.811814360175848,0.8115168219598725,0.8110200057196579,0.8106500075264529,0.810239568769834,0.809979943780282,0.8095734718445601,0.8091353433881955,0.8087287655787917,0.8083370737308161,0.8078655008595287,0.80759691703789,0.8072163807414241,0.8068936130461507,0.8064361718743113,0.8060946389982568,0.8059283800821737,0.8055407148004449,0.8051946740680217,0.804772818337237,0.8043435245899693,0.8040473226784406,0.8036345023899623,0.8032846092897055,0.8029356181895126,0.8025878540261687,0.8022356146358878,0.8018378487260232,0.8014839678323751,0.8011506797117868,0.8007848966841625,0.8004473504544973,0.8001421061309838,0.7997538264432197,0.799426632891215,0.7990973806697561,0.7987618640234456,0.7984237099191339,0.7980493108187227,0.7977294049943465,0.7974726276101145,0.7970781777057142,0.7967615695515842,0.7965017786056127,0.7962942450318677,0.795979739294737,0.7956049361060541,0.7953766368368335,0.7950545624455799,0.7948612259404413,0.7945102926080506,0.7942249285010331,0.7939729660742957,0.7936185429413712,0.7933083853329431,0.793013722670457,0.7926923960000595,0.7924839690232179,0.7921139227394044,0.7918226663757358,0.7915379998830947,0.7911866203621402,0.7909145394343692,0.7907466145830021,0.7905767580180154,0.790268864955531,0.7899199069359643,0.789707468423397,0.7894425797159528,0.7892699809250784,0.7889484654093093,0.7886497981283297,0.7884305687595888,0.7881726882700978,0.7878829088541207,0.7876099578363134,0.7873114288095553,0.7871301148772853,0.7868018013507591,0.7865492621278639,0.786363739520291,0.7860306479702027,0.7857466464580828,0.7855962821829967,0.785406264878598,0.7851225122088523,0.7847914173284058,0.7846415867523595,0.7843772364835212,0.784074585705848,0.7837617922542204,0.7835005022716057,0.7833245443593566,0.7830479291143039,0.7828210229736038,0.7826304261762098,0.7823907286361689,0.7822274485963899,0.7819451926646067,0.7818123581425567,0.7815784957571469,0.781276070522036,0.7810885458298714,0.7808508466828118,0.7806408372998818,0.7804175398514485,0.7801244534712422,0.780002326700697,0.7797617843242434,0.7796013361968351,0.779338647767274,0.7791313810968594,0.77899785242867,0.7787433247262127,0.778547111756396,0.7783198891066132,0.778128543957855,0.7779848793606549,0.7777352803606667,0.7775687719608656,0.7773673099990512,0.7760945160754064,0.7758428860547298,0.7745733436168517,0.7743605902551314,0.774164262116972,0.7739536668993187,0.7727521594003182,0.7724861122151271,0.7722246432289964,0.7710512833311395,0.7707894226705809,0.7706284350492142,0.7704218256961801,0.7693018734146674,0.7690946014895625,0.7680029543060651,0.7677656935694249,0.7676351470499426,0.7674575326373217,0.7664006705044573,0.7661709829088181,0.7660431505150509,0.7649302583737155,0.764678749920464,0.7644503122092602,0.764269648058316,0.764078957610128,0.7630537920967373,0.7628241699538051,0.7618013568812483,0.7615563999541077,0.7613752688869717,0.7611890375028676,0.7601369402090238,0.759909277533435,0.7588148007071808,0.7585991422219537,0.7584547865911762,0.7583945362169547,0.7573092461658104,0.7570954081621483,0.7560780442962391,0.7558582382793304,0.7557134281573127,0.7548247273648063,0.7545887233502834,0.7544131757377351,0.7535074697917269,0.7533114860774778,0.7523652937955868,0.7521808919861112,0.7521097086496059,0.7519202867864831,0.751823397643521,0.7508754476200826,0.7506819868172615,0.7505128675397176,0.7503146131970508,0.7494655459224329,0.7493868840401228,0.7484534232065266,0.7482628598339096,0.7474539944894065,0.7472477534474009,0.7470779707699805,0.7469986195598662,0.7468366396682758,0.7458600709215836,0.7456609640007356,0.7447158988169155,0.7445542767760948,0.7444595943311016,0.7435310051628797,0.7433307061679448,0.7424976910397824,0.7423434163685204,0.7415138027317443,0.7413541559182857,0.7412879094229856,0.7411448200479036,0.7410118965205826,0.7409489683899437,0.7401701766809796,0.740021873154898,0.7398801402355153,0.7397835505412924,0.7390472887454741,0.7388745182817579,0.7381132085577793,0.7379542098835964,0.7379187603134567,0.7377853104480445,0.7376236853138646,0.7368787148406144,0.7367840680465038,0.7359821996629146,0.735831613164012,0.7357024416122173,0.7355569471428116,0.7348773615028177,0.7347826386554973,0.7346226354017599,0.7339438972741633,0.7338303742672444,0.733768822900311,0.7336353112350096,0.7329263435243935,0.7328058494326256,0.7327338302078579,0.732086877953779,0.7319385365891032,0.7318157157248432,0.731106177474998,0.7309938809912733,0.7308970963590811,0.7302236951193709,0.7300679045839823,0.7299669456999812,0.7292785613777173,0.7291458400674347,0.728535400772664,0.7284958542918208,0.7283560005303749,0.7282325610977729,0.7282493686879418,0.7276401210989112,0.7274764379510588,0.72735481685362,0.7267973950888118,0.7266846387857742,0.7265569322350025,0.7264598770574472,0.7258175675855942,0.7257009634794029,0.7250462424820954,0.72492612240192,0.7248485337172464,0.72473698491545,0.7246132265451553,0.7240437741625799,0.7239094802053584,0.7238824883001418,0.7233412686825221,0.7232494249123586,0.7231452543130342,0.723058359040431,0.7225450324384108,0.7224082247005202,0.7219035925209952,0.7217916931373818,0.7216735007491855,0.7216052443554302,0.7210459692265132,0.7209260097494957],\"type\":\"scatter\",\"xaxis\":\"x\",\"yaxis\":\"y2\"},{\"line\":{\"color\":\"blue\"},\"name\":\"training rmse\",\"x\":[0,1,2,3,4,5,6,7,8,9,10,11,12,13,14,15,16,17,18,19,20,21,22,23,24,25,26,27,28,29,30,31,32,33,34,35,36,37,38,39,40,41,42,43,44,45,46,47,48,49,50,51,52,53,54,55,56,57,58,59,60,61,62,63,64,65,66,67,68,69,70,71,72,73,74,75,76,77,78,79,80,81,82,83,84,85,86,87,88,89,90,91,92,93,94,95,96,97,98,99,100,101,102,103,104,105,106,107,108,109,110,111,112,113,114,115,116,117,118,119,120,121,122,123,124,125,126,127,128,129,130,131,132,133,134,135,136,137,138,139,140,141,142,143,144,145,146,147,148,149,150,151,152,153,154,155,156,157,158,159,160,161,162,163,164,165,166,167,168,169,170,171,172,173,174,175,176,177,178,179,180,181,182,183,184,185,186,187,188,189,190,191,192,193,194,195,196,197,198,199,200,201,202,203,204,205,206,207,208,209,210,211,212,213,214,215,216,217,218,219,220,221,222,223,224,225,226,227,228,229,230,231,232,233,234,235,236,237,238,239,240,241,242,243,244,245,246,247,248,249,250,251,252,253,254,255,256,257,258,259,260,261,262,263,264,265,266,267,268,269,270,271,272,273,274,275,276,277,278,279,280,281,282,283,284,285,286,287,288,289,290,291,292,293,294,295,296,297,298,299,300,301,302,303,304,305,306,307,308,309,310,311,312,313,314,315,316,317,318,319,320,321,322,323,324,325,326,327,328,329,330,331,332,333,334,335,336,337,338,339,340,341,342,343,344,345,346,347,348,349,350,351,352,353,354,355,356,357,358,359,360,361,362,363,364,365,366,367,368,369,370,371,372,373,374,375,376,377,378,379,380,381,382,383,384,385,386,387,388,389,390,391,392,393,394,395,396,397,398,399,400,401,402,403,404,405,406,407,408,409,410,411,412,413,414,415,416,417,418,419,420,421,422,423,424,425,426,427,428,429,430,431,432,433,434,435,436,437,438,439,440,441,442,443,444,445,446,447,448,449,450,451,452,453,454,455,456,457,458,459,460,461,462,463,464,465,466,467,468,469,470,471,472,473,474,475,476,477,478,479,480,481,482,483,484,485,486,487,488,489,490,491,492,493,494,495,496,497,498],\"y\":[1.146233433835723,1.1407599077494208,1.1354093310397801,1.1300793226967996,1.1248300160201508,1.1196454540397,1.1145996951795476,1.1095588852682663,1.1045896033427236,1.0996127600336318,1.0947958101406334,1.09009928073793,1.0855316196329776,1.0809517405864388,1.076457338397462,1.072050862439909,1.0676837231580978,1.0632863369195833,1.0590737899541274,1.0549270742436685,1.0508456383216591,1.0467570594095765,1.0427511333969344,1.0388157681866066,1.0349459994541923,1.0312282506720634,1.0275653282531594,1.0239393861200756,1.0203071953105078,1.0166926208512637,1.0132469797763801,1.0098763125093988,1.00651151777548,1.0031941715138182,0.9999360278597554,0.9967450526328114,0.9936116232765855,0.9905003376648853,0.9874384904308733,0.9844210365744044,0.9814592935923105,0.9784664861812927,0.9755981835587763,0.9727304625347828,0.9699921482849636,0.9672760810989834,0.9645378282532486,0.9619142328870453,0.9593528510001929,0.9568671873897677,0.9543619464936326,0.9518944289033726,0.9495176431131769,0.9471418403283299,0.9448805965340941,0.9426015592011675,0.9404097162919993,0.9382224832716514,0.936137967091249,0.9339455895431001,0.9318622431039565,0.9297678955404554,0.9277038813108499,0.9256578371515737,0.9237171866605388,0.9217893204540131,0.9198946334892109,0.918036194636856,0.9162186598599751,0.9144251832859146,0.9126722034029549,0.910952826368059,0.9093505605116561,0.90772444455792,0.9060724088639781,0.9045130897011504,0.9029414628336453,0.9014216971135596,0.8998567258520559,0.8983638828564834,0.8969121821354211,0.8954453952963762,0.8940234442814393,0.8926936276273857,0.8913293044114842,0.8899715731681368,0.8886214026085971,0.8873423748929891,0.8860483227641391,0.8847999907778492,0.8835753072426482,0.8823594595387251,0.8811534342475742,0.8800014554753862,0.8788112792288221,0.8776658396316789,0.87652338996034,0.875392205557222,0.8742405236734259,0.8731465796777228,0.8720032252056127,0.8709014628768275,0.8698522172760257,0.8688546587624737,0.8677830744885701,0.8667850535886299,0.8657276893800042,0.864657477558714,0.8635907663356309,0.8625894678421775,0.8615599674018999,0.8605498758511497,0.8595357586526593,0.8585634563016965,0.8575847044963536,0.8566129866153182,0.8555932473521142,0.8546625115197239,0.8536444308611163,0.8527464831941289,0.851817050579159,0.8508698314001227,0.8499699263001086,0.8490366008975436,0.8481363520367237,0.8472136902752565,0.8463366780334161,0.8454264977334979,0.8445972639693915,0.8437043663247371,0.8428568409012822,0.8419763364621986,0.8411242725886373,0.8402705625685367,0.8394747902686504,0.8386654671931845,0.8378538914954253,0.8370059892417505,0.8362033870774556,0.8354235642717616,0.834603294124951,0.8338068924812457,0.8330511671632335,0.8322771832819644,0.8315252862499959,0.8307632607366988,0.8300267730063866,0.8292650980133479,0.8285471397614811,0.8278070381402696,0.8270844613435988,0.8263807771248808,0.8256870858351953,0.8249822512862184,0.8243168004778254,0.8236249645160745,0.8229727832567072,0.8223107805455685,0.8216325329253329,0.8209504179964721,0.8202825416689515,0.8195736053757491,0.8189821870377473,0.8183142785438424,0.8177155551364322,0.8170937928690593,0.8164678755630672,0.8158512033665504,0.8152481665840161,0.8146277100703405,0.8140313201332173,0.8134287250144968,0.8128402341721012,0.8122533003360572,0.8116795518281694,0.8110665958918132,0.8105092333420181,0.8099614453247402,0.8094012381947115,0.8088399618566218,0.8082673292057896,0.8077370507460568,0.8072895187331767,0.8067291588490018,0.8062190985812759,0.8056655506291391,0.8051262952564876,0.8046984785081519,0.8041806599354454,0.8036781419894717,0.8032726345877604,0.8027538214499494,0.8024043948660847,0.8018771142512504,0.8013536292782956,0.8009165545467559,0.8003938344704311,0.7999074367404244,0.7994701513526998,0.7990484046281279,0.7985373518514086,0.7980400933995435,0.7976530848293969,0.7971647640806901,0.7966306913087846,0.7962304760166754,0.7957455745657315,0.7952755156041633,0.7947807414370173,0.7943485270619626,0.7939340024931238,0.7934433185568434,0.7929617677835442,0.7925334747676832,0.7920414607256313,0.7916020297754067,0.7912892283528656,0.7908228837685597,0.7905113008249214,0.790053214422423,0.789589494501012,0.7892779243170918,0.788839312002547,0.7884058736344854,0.7879134943101276,0.7874865734721386,0.787168838287279,0.7866926573111518,0.7863141056966236,0.7858913784163404,0.7856012387619239,0.7851764538844863,0.7847379487339481,0.7842965630649622,0.7838917274759198,0.7834455673053669,0.7831382026000652,0.7827405114456162,0.7823889380683231,0.7819455021153688,0.78157787743963,0.7814071757991237,0.7810186341339486,0.7806616890229672,0.7802389766847353,0.7798196214305851,0.7794777887918831,0.7790727903342471,0.778710831866577,0.7783252434127139,0.7779450350815237,0.7775726689535437,0.7771801960457788,0.7767994169334863,0.7764524509455006,0.7760770148083764,0.7757274021023859,0.7753986550579335,0.7750168896036713,0.7746506715160758,0.7743059564607971,0.7739567212510917,0.773606564199089,0.7732232618501872,0.7728772439792535,0.7726047857459113,0.7722184636598858,0.7718563783660004,0.7715640019709907,0.7713495380274878,0.7710029401280756,0.7706428593872744,0.7703781091422438,0.7700469383253291,0.7698243163066996,0.7694872317932897,0.7691614520163038,0.768893433134277,0.7685369843263669,0.7682188399320374,0.7678789553824582,0.7675331620394992,0.767318107330995,0.766960084266398,0.766664205552031,0.7663865640340862,0.7660341182745283,0.7657594136186642,0.7656095993752928,0.7653981991295611,0.7650885060675039,0.7647262882995474,0.7644911130901751,0.7642094387102746,0.7640266914033919,0.7637027395280396,0.7633920439480743,0.7631376066798855,0.7628375144945299,0.7625337374960129,0.762235468545177,0.7619472888543136,0.7617511404487732,0.7614296273770692,0.7611563741557705,0.7609581489723549,0.7606439118094349,0.7603414479850673,0.7601355582881059,0.7599357691641014,0.759640213615238,0.759329786536479,0.7591298152171566,0.7588426206340112,0.7585339615257296,0.7582305853784244,0.7579534770005567,0.7577650176466553,0.7574846583313972,0.7572348141899526,0.756989588258417,0.7567395951901864,0.7565640918154835,0.7562755824117393,0.7560986153330448,0.7558423172709191,0.7555436621529455,0.755314474705407,0.7550494015845884,0.7548272344483226,0.7545834260897929,0.7543113262604075,0.754140122854369,0.7538936310102415,0.7537238983760196,0.7534479984668919,0.7532237791906141,0.7530980444611847,0.7528283868747646,0.7526104396023299,0.7523592533396332,0.75212992289742,0.7519882964249379,0.7517420504688973,0.7515423068033865,0.7512925282515869,0.7500296976032305,0.749774438539272,0.7485201971406411,0.7482849838443244,0.748050941200367,0.7478208203357358,0.7466209623409159,0.7463668239746685,0.746125616681514,0.7449816249827877,0.7447293940668878,0.744520978257836,0.7442973918807052,0.7431872824005856,0.742960925948937,0.7418750335869594,0.7416312205081194,0.7414969854766749,0.7412745083434759,0.7401969191602975,0.7399646717900165,0.739823113973111,0.7387097037926759,0.7384691071322602,0.7382462295576083,0.7380409122812714,0.7378272634382983,0.7367905507650944,0.736574541345788,0.735552599092964,0.7353289152159289,0.7351427713612445,0.7349365227796641,0.7339094373635787,0.7336773887997479,0.7326193459413417,0.7323893247783084,0.7321960722047469,0.7321107485913319,0.7310495933766129,0.7308238663565173,0.729824737358794,0.7296121724189177,0.7294415921552272,0.7285470364254539,0.7283277005171679,0.7281375223979893,0.7272255185864865,0.7270380215348835,0.7261307739691159,0.725959892230212,0.7258736778517956,0.7256845037361078,0.725547335654649,0.7246289714511038,0.7244440981009614,0.724255803528285,0.7240557621047684,0.7231962304102516,0.7230818887137103,0.7221889916031391,0.7219926974864161,0.7211799398532226,0.7209970006116133,0.7208284416253127,0.7207338535472179,0.7205764933937523,0.7196369396474882,0.7194426867877384,0.7185172624518138,0.7183388394766564,0.7182413805423411,0.7173606860440099,0.7171746052018574,0.7163682818402646,0.7162013501303797,0.7153864423449053,0.7152098014667334,0.7151340071545152,0.71496757973705,0.7148193197816995,0.7147640995620881,0.7139720435519284,0.7137988559226623,0.7136428665907547,0.7135523016691899,0.7128025031186059,0.7126599952460241,0.7119174698522043,0.7117577583593732,0.7116889508924114,0.7115361410568392,0.7113731657787563,0.7106411917979443,0.7105355661186478,0.7097575332417633,0.70960222876722,0.7094577767497678,0.7093163177866262,0.7086613715628042,0.7085859792827918,0.7084400245341028,0.7077565120741658,0.7076206743929802,0.7075307916826961,0.7073989097272408,0.7067286328752301,0.7065817230927044,0.7064737572736626,0.7058264707503441,0.7056888875350711,0.7055486273919981,0.7048570683692265,0.7047257822853898,0.7046284448235224,0.7039877364731973,0.7038437724489459,0.7037278072422991,0.703079831980562,0.7029462804974599,0.7023483983199692,0.7023137535470231,0.7022006524403581,0.7020636322508,0.7020390757764124,0.7014428996026515,0.7013100920523775,0.7011907087441925,0.7006646845224596,0.7005416105636176,0.7004175069986791,0.7003040344022304,0.6996869357148215,0.6995682532230311,0.6989661553914683,0.6988497532340594,0.6987695977120897,0.6986420464770067,0.6985285985707087,0.6980018538390993,0.6978820459703005,0.697839363486602,0.6973150091614266,0.697199077416172,0.6970919688155003,0.6969930613721487,0.696490347274361,0.6963714317677483,0.6958876721309821,0.6957711137442407,0.6956575788908986,0.6955939063450752,0.6950488495583655,0.6949459652080918],\"type\":\"scatter\",\"xaxis\":\"x\",\"yaxis\":\"y2\"},{\"marker\":{\"color\":\"green\",\"size\":1.3,\"symbol\":\"square\"},\"mode\":\"markers\",\"name\":\"feature\",\"x\":[0,1,2,3,4,5,6,7,8,9,10,11,12,13,14,15,16,17,18,19,20,21,22,23,24,25,26,27,28,29,30,31,32,33,34,35,36,37,38,39,40,41,42,43,44,45,46,47,48,49,50,51,52,53,54,55,56,57,58,59,60,61,62,63,64,65,66,67,68,69,70,71,72,73,74,75,76,77,78,79,80,81,82,83,84,85,86,87,88,89,90,91,92,93,94,95,96,97,98,99,100,101,102,103,104,105,106,107,108,109,110,111,112,113,114,115,116,117,118,119,120,121,122,123,124,125,126,127,128,129,130,131,132,133,134,135,136,137,138,139,140,141,142,143,144,145,146,147,148,149,150,151,152,153,154,155,156,157,158,159,160,161,162,163,164,165,166,167,168,169,170,171,172,173,174,175,176,177,178,179,180,181,182,183,184,185,186,187,188,189,190,191,192,193,194,195,196,197,198,199,200,201,202,203,204,205,206,207,208,209,210,211,212,213,214,215,216,217,218,219,220,221,222,223,224,225,226,227,228,229,230,231,232,233,234,235,236,237,238,239,240,241,242,243,244,245,246,247,248,249,250,251,252,253,254,255,256,257,258,259,260,261,262,263,264,265,266,267,268,269,270,271,272,273,274,275,276,277,278,279,280,281,282,283,284,285,286,287,288,289,290,291,292,293,294,295,296,297,298,299,300,301,302,303,304,305,306,307,308,309,310,311,312,313,314,315,316,317,318,319,320,321,322,323,324,325,326,327,328,329,330,331,332,333,334,335,336,337,338,339,340,341,342,343,344,345,346,347,348,349,350,351,352,353,354,355,356,357,358,359,360,361,362,363,364,365,366,367,368,369,370,371,372,373,374,375,376,377,378,379,380,381,382,383,384,385,386,387,388,389,390,391,392,393,394,395,396,397,398,399,400,401,402,403,404,405,406,407,408,409,410,411,412,413,414,415,416,417,418,419,420,421,422,423,424,425,426,427,428,429,430,431,432,433,434,435,436,437,438,439,440,441,442,443,444,445,446,447,448,449,450,451,452,453,454,455,456,457,458,459,460,461,462,463,464,465,466,467,468,469,470,471,472,473,474,475,476,477,478,479,480,481,482,483,484,485,486,487,488,489,490,491,492,493,494,495,496,497,498],\"y\":[\"MedInc\",\"MedInc\",\"MedInc\",\"MedInc\",\"MedInc\",\"MedInc\",\"MedInc\",\"MedInc\",\"MedInc\",\"MedInc\",\"MedInc\",\"MedInc\",\"MedInc\",\"MedInc\",\"MedInc\",\"MedInc\",\"MedInc\",\"MedInc\",\"MedInc\",\"MedInc\",\"MedInc\",\"MedInc\",\"MedInc\",\"MedInc\",\"MedInc\",\"MedInc\",\"MedInc\",\"MedInc\",\"MedInc\",\"MedInc\",\"MedInc\",\"MedInc\",\"MedInc\",\"MedInc\",\"MedInc\",\"MedInc\",\"MedInc\",\"MedInc\",\"MedInc\",\"MedInc\",\"MedInc\",\"MedInc\",\"MedInc\",\"MedInc\",\"MedInc\",\"MedInc\",\"MedInc\",\"MedInc\",\"MedInc\",\"MedInc\",\"MedInc\",\"MedInc\",\"MedInc\",\"MedInc\",\"MedInc\",\"MedInc\",\"MedInc\",\"MedInc\",\"MedInc\",\"MedInc\",\"MedInc\",\"MedInc\",\"MedInc\",\"MedInc\",\"MedInc\",\"MedInc\",\"MedInc\",\"MedInc\",\"MedInc\",\"MedInc\",\"MedInc\",\"MedInc\",\"MedInc\",\"MedInc\",\"MedInc\",\"MedInc\",\"MedInc\",\"MedInc\",\"MedInc\",\"MedInc\",\"MedInc\",\"MedInc\",\"MedInc\",\"MedInc\",\"MedInc\",\"MedInc\",\"MedInc\",\"MedInc\",\"MedInc\",\"MedInc\",\"AveOccup\",\"MedInc\",\"MedInc\",\"AveOccup\",\"MedInc\",\"AveOccup\",\"MedInc\",\"AveOccup\",\"MedInc\",\"AveOccup\",\"MedInc\",\"AveOccup\",\"MedInc\",\"AveOccup\",\"MedInc\",\"AveOccup\",\"MedInc\",\"AveOccup\",\"MedInc\",\"AveOccup\",\"MedInc\",\"AveOccup\",\"MedInc\",\"AveOccup\",\"MedInc\",\"AveOccup\",\"MedInc\",\"AveOccup\",\"MedInc\",\"AveOccup\",\"MedInc\",\"AveOccup\",\"MedInc\",\"AveOccup\",\"MedInc\",\"MedInc\",\"AveOccup\",\"MedInc\",\"AveOccup\",\"MedInc\",\"AveOccup\",\"MedInc\",\"AveOccup\",\"MedInc\",\"AveOccup\",\"MedInc\",\"AveOccup\",\"MedInc\",\"AveOccup\",\"MedInc\",\"AveOccup\",\"MedInc\",\"AveOccup\",\"MedInc\",\"AveOccup\",\"MedInc\",\"AveOccup\",\"MedInc\",\"AveOccup\",\"MedInc\",\"AveOccup\",\"MedInc\",\"AveOccup\",\"MedInc\",\"AveOccup\",\"MedInc\",\"AveOccup\",\"MedInc\",\"AveOccup\",\"MedInc\",\"AveOccup\",\"MedInc\",\"AveOccup\",\"MedInc\",\"AveOccup\",\"MedInc\",\"AveOccup\",\"MedInc\",\"AveOccup\",\"MedInc\",\"AveOccup\",\"MedInc\",\"AveOccup\",\"MedInc\",\"MedInc\",\"AveOccup\",\"MedInc\",\"AveOccup\",\"MedInc\",\"AveOccup\",\"MedInc\",\"AveOccup\",\"HouseAge\",\"MedInc\",\"HouseAge\",\"AveOccup\",\"MedInc\",\"HouseAge\",\"AveOccup\",\"MedInc\",\"HouseAge\",\"MedInc\",\"HouseAge\",\"AveOccup\",\"MedInc\",\"HouseAge\",\"AveOccup\",\"MedInc\",\"HouseAge\",\"HouseAge\",\"MedInc\",\"AveOccup\",\"HouseAge\",\"MedInc\",\"AveOccup\",\"HouseAge\",\"MedInc\",\"HouseAge\",\"AveOccup\",\"MedInc\",\"HouseAge\",\"MedInc\",\"AveOccup\",\"HouseAge\",\"MedInc\",\"AveOccup\",\"HouseAge\",\"MedInc\",\"HouseAge\",\"AveOccup\",\"MedInc\",\"HouseAge\",\"HouseAge\",\"MedInc\",\"AveOccup\",\"MedInc\",\"HouseAge\",\"AveOccup\",\"HouseAge\",\"MedInc\",\"HouseAge\",\"MedInc\",\"AveOccup\",\"HouseAge\",\"MedInc\",\"AveOccup\",\"HouseAge\",\"MedInc\",\"HouseAge\",\"AveOccup\",\"MedInc\",\"HouseAge\",\"MedInc\",\"HouseAge\",\"AveOccup\",\"MedInc\",\"HouseAge\",\"AveOccup\",\"HouseAge\",\"MedInc\",\"HouseAge\",\"MedInc\",\"AveOccup\",\"MedInc\",\"HouseAge\",\"AveOccup\",\"MedInc\",\"HouseAge\",\"AveOccup\",\"MedInc\",\"HouseAge\",\"MedInc\",\"HouseAge\",\"AveOccup\",\"MedInc\",\"HouseAge\",\"AveOccup\",\"MedInc\",\"HouseAge\",\"HouseAge\",\"MedInc\",\"AveOccup\",\"HouseAge\",\"MedInc\",\"HouseAge\",\"AveOccup\",\"MedInc\",\"HouseAge\",\"AveOccup\",\"MedInc\",\"HouseAge\",\"MedInc\",\"HouseAge\",\"AveOccup\",\"MedInc\",\"HouseAge\",\"AveOccup\",\"MedInc\",\"HouseAge\",\"HouseAge\",\"MedInc\",\"AveOccup\",\"HouseAge\",\"MedInc\",\"HouseAge\",\"AveOccup\",\"MedInc\",\"HouseAge\",\"MedInc\",\"AveOccup\",\"HouseAge\",\"MedInc\",\"HouseAge\",\"AveOccup\",\"MedInc\",\"HouseAge\",\"AveOccup\",\"MedInc\",\"HouseAge\",\"HouseAge\",\"MedInc\",\"AveOccup\",\"HouseAge\",\"MedInc\",\"HouseAge\",\"AveOccup\",\"MedInc\",\"HouseAge\",\"AveOccup\",\"MedInc\",\"HouseAge\",\"MedInc\",\"HouseAge\",\"AveOccup\",\"HouseAge\",\"MedInc\",\"AveOccup\",\"HouseAge\",\"MedInc\",\"HouseAge\",\"MedInc\",\"AveOccup\",\"HouseAge\",\"MedInc\",\"HouseAge\",\"AveOccup\",\"MedInc\",\"HouseAge\",\"AveOccup\",\"MedInc\",\"HouseAge\",\"MedInc\",\"HouseAge\",\"AveOccup\",\"HouseAge\",\"MedInc\",\"Latitude\",\"AveOccup\",\"Latitude\",\"AveOccup\",\"HouseAge\",\"MedInc\",\"Latitude\",\"AveOccup\",\"AveOccup\",\"Latitude\",\"AveOccup\",\"HouseAge\",\"MedInc\",\"Latitude\",\"AveOccup\",\"Latitude\",\"AveOccup\",\"HouseAge\",\"MedInc\",\"Latitude\",\"AveOccup\",\"HouseAge\",\"Latitude\",\"AveOccup\",\"AveOccup\",\"MedInc\",\"HouseAge\",\"Latitude\",\"AveOccup\",\"Latitude\",\"AveOccup\",\"MedInc\",\"HouseAge\",\"Latitude\",\"AveOccup\",\"Latitude\",\"AveOccup\",\"MedInc\",\"HouseAge\",\"Latitude\",\"AveOccup\",\"Latitude\",\"AveOccup\",\"HouseAge\",\"Latitude\",\"AveOccup\",\"MedInc\",\"Latitude\",\"AveOccup\",\"Latitude\",\"AveOccup\",\"HouseAge\",\"MedInc\",\"HouseAge\",\"Latitude\",\"AveOccup\",\"MedInc\",\"AveOccup\",\"Latitude\",\"HouseAge\",\"Latitude\",\"AveOccup\",\"Latitude\",\"AveOccup\",\"MedInc\",\"HouseAge\",\"AveOccup\",\"Latitude\",\"AveOccup\",\"Latitude\",\"MedInc\",\"HouseAge\",\"Latitude\",\"AveOccup\",\"Latitude\",\"AveOccup\",\"Latitude\",\"AveOccup\",\"HouseAge\",\"MedInc\",\"AveOccup\",\"HouseAge\",\"Latitude\",\"AveOccup\",\"MedInc\",\"HouseAge\",\"Latitude\",\"AveOccup\",\"Latitude\",\"AveOccup\",\"HouseAge\",\"MedInc\",\"AveOccup\",\"Latitude\",\"HouseAge\",\"Latitude\",\"AveOccup\",\"MedInc\",\"AveOccup\",\"Latitude\",\"HouseAge\",\"AveOccup\",\"Latitude\",\"AveOccup\",\"HouseAge\",\"MedInc\",\"Latitude\",\"AveOccup\",\"HouseAge\",\"Latitude\",\"AveOccup\",\"MedInc\",\"Latitude\",\"AveOccup\",\"HouseAge\",\"Latitude\",\"AveOccup\",\"MedInc\",\"Latitude\",\"AveOccup\",\"Latitude\",\"HouseAge\",\"AveOccup\",\"MedInc\",\"HouseAge\",\"Latitude\",\"AveOccup\",\"HouseAge\",\"Latitude\",\"AveOccup\",\"MedInc\",\"HouseAge\",\"Latitude\",\"AveOccup\",\"Latitude\",\"AveOccup\",\"HouseAge\",\"MedInc\",\"AveOccup\",\"Latitude\",\"AveOccup\",\"HouseAge\",\"Latitude\",\"AveOccup\",\"MedInc\",\"HouseAge\",\"Latitude\",\"AveOccup\",\"Latitude\",\"AveOccup\",\"MedInc\",\"HouseAge\",\"Latitude\"],\"type\":\"scatter\",\"xaxis\":\"x\",\"yaxis\":\"y\"}],                        {\"template\":{\"data\":{\"histogram2dcontour\":[{\"type\":\"histogram2dcontour\",\"colorbar\":{\"outlinewidth\":0,\"ticks\":\"\"},\"colorscale\":[[0.0,\"#0d0887\"],[0.1111111111111111,\"#46039f\"],[0.2222222222222222,\"#7201a8\"],[0.3333333333333333,\"#9c179e\"],[0.4444444444444444,\"#bd3786\"],[0.5555555555555556,\"#d8576b\"],[0.6666666666666666,\"#ed7953\"],[0.7777777777777778,\"#fb9f3a\"],[0.8888888888888888,\"#fdca26\"],[1.0,\"#f0f921\"]]}],\"choropleth\":[{\"type\":\"choropleth\",\"colorbar\":{\"outlinewidth\":0,\"ticks\":\"\"}}],\"histogram2d\":[{\"type\":\"histogram2d\",\"colorbar\":{\"outlinewidth\":0,\"ticks\":\"\"},\"colorscale\":[[0.0,\"#0d0887\"],[0.1111111111111111,\"#46039f\"],[0.2222222222222222,\"#7201a8\"],[0.3333333333333333,\"#9c179e\"],[0.4444444444444444,\"#bd3786\"],[0.5555555555555556,\"#d8576b\"],[0.6666666666666666,\"#ed7953\"],[0.7777777777777778,\"#fb9f3a\"],[0.8888888888888888,\"#fdca26\"],[1.0,\"#f0f921\"]]}],\"heatmap\":[{\"type\":\"heatmap\",\"colorbar\":{\"outlinewidth\":0,\"ticks\":\"\"},\"colorscale\":[[0.0,\"#0d0887\"],[0.1111111111111111,\"#46039f\"],[0.2222222222222222,\"#7201a8\"],[0.3333333333333333,\"#9c179e\"],[0.4444444444444444,\"#bd3786\"],[0.5555555555555556,\"#d8576b\"],[0.6666666666666666,\"#ed7953\"],[0.7777777777777778,\"#fb9f3a\"],[0.8888888888888888,\"#fdca26\"],[1.0,\"#f0f921\"]]}],\"heatmapgl\":[{\"type\":\"heatmapgl\",\"colorbar\":{\"outlinewidth\":0,\"ticks\":\"\"},\"colorscale\":[[0.0,\"#0d0887\"],[0.1111111111111111,\"#46039f\"],[0.2222222222222222,\"#7201a8\"],[0.3333333333333333,\"#9c179e\"],[0.4444444444444444,\"#bd3786\"],[0.5555555555555556,\"#d8576b\"],[0.6666666666666666,\"#ed7953\"],[0.7777777777777778,\"#fb9f3a\"],[0.8888888888888888,\"#fdca26\"],[1.0,\"#f0f921\"]]}],\"contourcarpet\":[{\"type\":\"contourcarpet\",\"colorbar\":{\"outlinewidth\":0,\"ticks\":\"\"}}],\"contour\":[{\"type\":\"contour\",\"colorbar\":{\"outlinewidth\":0,\"ticks\":\"\"},\"colorscale\":[[0.0,\"#0d0887\"],[0.1111111111111111,\"#46039f\"],[0.2222222222222222,\"#7201a8\"],[0.3333333333333333,\"#9c179e\"],[0.4444444444444444,\"#bd3786\"],[0.5555555555555556,\"#d8576b\"],[0.6666666666666666,\"#ed7953\"],[0.7777777777777778,\"#fb9f3a\"],[0.8888888888888888,\"#fdca26\"],[1.0,\"#f0f921\"]]}],\"surface\":[{\"type\":\"surface\",\"colorbar\":{\"outlinewidth\":0,\"ticks\":\"\"},\"colorscale\":[[0.0,\"#0d0887\"],[0.1111111111111111,\"#46039f\"],[0.2222222222222222,\"#7201a8\"],[0.3333333333333333,\"#9c179e\"],[0.4444444444444444,\"#bd3786\"],[0.5555555555555556,\"#d8576b\"],[0.6666666666666666,\"#ed7953\"],[0.7777777777777778,\"#fb9f3a\"],[0.8888888888888888,\"#fdca26\"],[1.0,\"#f0f921\"]]}],\"mesh3d\":[{\"type\":\"mesh3d\",\"colorbar\":{\"outlinewidth\":0,\"ticks\":\"\"}}],\"scatter\":[{\"fillpattern\":{\"fillmode\":\"overlay\",\"size\":10,\"solidity\":0.2},\"type\":\"scatter\"}],\"parcoords\":[{\"type\":\"parcoords\",\"line\":{\"colorbar\":{\"outlinewidth\":0,\"ticks\":\"\"}}}],\"scatterpolargl\":[{\"type\":\"scatterpolargl\",\"marker\":{\"colorbar\":{\"outlinewidth\":0,\"ticks\":\"\"}}}],\"bar\":[{\"error_x\":{\"color\":\"#2a3f5f\"},\"error_y\":{\"color\":\"#2a3f5f\"},\"marker\":{\"line\":{\"color\":\"#E5ECF6\",\"width\":0.5},\"pattern\":{\"fillmode\":\"overlay\",\"size\":10,\"solidity\":0.2}},\"type\":\"bar\"}],\"scattergeo\":[{\"type\":\"scattergeo\",\"marker\":{\"colorbar\":{\"outlinewidth\":0,\"ticks\":\"\"}}}],\"scatterpolar\":[{\"type\":\"scatterpolar\",\"marker\":{\"colorbar\":{\"outlinewidth\":0,\"ticks\":\"\"}}}],\"histogram\":[{\"marker\":{\"pattern\":{\"fillmode\":\"overlay\",\"size\":10,\"solidity\":0.2}},\"type\":\"histogram\"}],\"scattergl\":[{\"type\":\"scattergl\",\"marker\":{\"colorbar\":{\"outlinewidth\":0,\"ticks\":\"\"}}}],\"scatter3d\":[{\"type\":\"scatter3d\",\"line\":{\"colorbar\":{\"outlinewidth\":0,\"ticks\":\"\"}},\"marker\":{\"colorbar\":{\"outlinewidth\":0,\"ticks\":\"\"}}}],\"scattermapbox\":[{\"type\":\"scattermapbox\",\"marker\":{\"colorbar\":{\"outlinewidth\":0,\"ticks\":\"\"}}}],\"scatterternary\":[{\"type\":\"scatterternary\",\"marker\":{\"colorbar\":{\"outlinewidth\":0,\"ticks\":\"\"}}}],\"scattercarpet\":[{\"type\":\"scattercarpet\",\"marker\":{\"colorbar\":{\"outlinewidth\":0,\"ticks\":\"\"}}}],\"carpet\":[{\"aaxis\":{\"endlinecolor\":\"#2a3f5f\",\"gridcolor\":\"white\",\"linecolor\":\"white\",\"minorgridcolor\":\"white\",\"startlinecolor\":\"#2a3f5f\"},\"baxis\":{\"endlinecolor\":\"#2a3f5f\",\"gridcolor\":\"white\",\"linecolor\":\"white\",\"minorgridcolor\":\"white\",\"startlinecolor\":\"#2a3f5f\"},\"type\":\"carpet\"}],\"table\":[{\"cells\":{\"fill\":{\"color\":\"#EBF0F8\"},\"line\":{\"color\":\"white\"}},\"header\":{\"fill\":{\"color\":\"#C8D4E3\"},\"line\":{\"color\":\"white\"}},\"type\":\"table\"}],\"barpolar\":[{\"marker\":{\"line\":{\"color\":\"#E5ECF6\",\"width\":0.5},\"pattern\":{\"fillmode\":\"overlay\",\"size\":10,\"solidity\":0.2}},\"type\":\"barpolar\"}],\"pie\":[{\"automargin\":true,\"type\":\"pie\"}]},\"layout\":{\"autotypenumbers\":\"strict\",\"colorway\":[\"#636efa\",\"#EF553B\",\"#00cc96\",\"#ab63fa\",\"#FFA15A\",\"#19d3f3\",\"#FF6692\",\"#B6E880\",\"#FF97FF\",\"#FECB52\"],\"font\":{\"color\":\"#2a3f5f\"},\"hovermode\":\"closest\",\"hoverlabel\":{\"align\":\"left\"},\"paper_bgcolor\":\"white\",\"plot_bgcolor\":\"#E5ECF6\",\"polar\":{\"bgcolor\":\"#E5ECF6\",\"angularaxis\":{\"gridcolor\":\"white\",\"linecolor\":\"white\",\"ticks\":\"\"},\"radialaxis\":{\"gridcolor\":\"white\",\"linecolor\":\"white\",\"ticks\":\"\"}},\"ternary\":{\"bgcolor\":\"#E5ECF6\",\"aaxis\":{\"gridcolor\":\"white\",\"linecolor\":\"white\",\"ticks\":\"\"},\"baxis\":{\"gridcolor\":\"white\",\"linecolor\":\"white\",\"ticks\":\"\"},\"caxis\":{\"gridcolor\":\"white\",\"linecolor\":\"white\",\"ticks\":\"\"}},\"coloraxis\":{\"colorbar\":{\"outlinewidth\":0,\"ticks\":\"\"}},\"colorscale\":{\"sequential\":[[0.0,\"#0d0887\"],[0.1111111111111111,\"#46039f\"],[0.2222222222222222,\"#7201a8\"],[0.3333333333333333,\"#9c179e\"],[0.4444444444444444,\"#bd3786\"],[0.5555555555555556,\"#d8576b\"],[0.6666666666666666,\"#ed7953\"],[0.7777777777777778,\"#fb9f3a\"],[0.8888888888888888,\"#fdca26\"],[1.0,\"#f0f921\"]],\"sequentialminus\":[[0.0,\"#0d0887\"],[0.1111111111111111,\"#46039f\"],[0.2222222222222222,\"#7201a8\"],[0.3333333333333333,\"#9c179e\"],[0.4444444444444444,\"#bd3786\"],[0.5555555555555556,\"#d8576b\"],[0.6666666666666666,\"#ed7953\"],[0.7777777777777778,\"#fb9f3a\"],[0.8888888888888888,\"#fdca26\"],[1.0,\"#f0f921\"]],\"diverging\":[[0,\"#8e0152\"],[0.1,\"#c51b7d\"],[0.2,\"#de77ae\"],[0.3,\"#f1b6da\"],[0.4,\"#fde0ef\"],[0.5,\"#f7f7f7\"],[0.6,\"#e6f5d0\"],[0.7,\"#b8e186\"],[0.8,\"#7fbc41\"],[0.9,\"#4d9221\"],[1,\"#276419\"]]},\"xaxis\":{\"gridcolor\":\"white\",\"linecolor\":\"white\",\"ticks\":\"\",\"title\":{\"standoff\":15},\"zerolinecolor\":\"white\",\"automargin\":true,\"zerolinewidth\":2},\"yaxis\":{\"gridcolor\":\"white\",\"linecolor\":\"white\",\"ticks\":\"\",\"title\":{\"standoff\":15},\"zerolinecolor\":\"white\",\"automargin\":true,\"zerolinewidth\":2},\"scene\":{\"xaxis\":{\"backgroundcolor\":\"#E5ECF6\",\"gridcolor\":\"white\",\"linecolor\":\"white\",\"showbackground\":true,\"ticks\":\"\",\"zerolinecolor\":\"white\",\"gridwidth\":2},\"yaxis\":{\"backgroundcolor\":\"#E5ECF6\",\"gridcolor\":\"white\",\"linecolor\":\"white\",\"showbackground\":true,\"ticks\":\"\",\"zerolinecolor\":\"white\",\"gridwidth\":2},\"zaxis\":{\"backgroundcolor\":\"#E5ECF6\",\"gridcolor\":\"white\",\"linecolor\":\"white\",\"showbackground\":true,\"ticks\":\"\",\"zerolinecolor\":\"white\",\"gridwidth\":2}},\"shapedefaults\":{\"line\":{\"color\":\"#2a3f5f\"}},\"annotationdefaults\":{\"arrowcolor\":\"#2a3f5f\",\"arrowhead\":0,\"arrowwidth\":1},\"geo\":{\"bgcolor\":\"white\",\"landcolor\":\"#E5ECF6\",\"subunitcolor\":\"white\",\"showland\":true,\"showlakes\":true,\"lakecolor\":\"white\"},\"title\":{\"x\":0.05},\"mapbox\":{\"style\":\"light\"}}},\"xaxis\":{\"anchor\":\"y\",\"domain\":[0.0,0.94],\"title\":{\"text\":\"Number of iterations\"}},\"yaxis\":{\"anchor\":\"x\",\"domain\":[0.0,1.0],\"title\":{\"text\":\"Selected feature\"}},\"yaxis2\":{\"anchor\":\"x\",\"overlaying\":\"y\",\"side\":\"right\",\"title\":{\"text\":\"RMSE MedHouseVal\"}},\"showlegend\":true,\"title\":{\"text\":\"Iteration history\"}},                        {\"responsive\": true}                    ).then(function(){\n                            \nvar gd = document.getElementById('39583c0d-cafd-43ad-9a35-a62236028c96');\nvar x = new MutationObserver(function (mutations, observer) {{\n        var display = window.getComputedStyle(gd).display;\n        if (!display || display === 'none') {{\n            console.log([gd, 'removed!']);\n            Plotly.purge(gd);\n            observer.disconnect();\n        }}\n}});\n\n// Listen for the removal of the full notebook cells\nvar notebookContainer = gd.closest('#notebook-container');\nif (notebookContainer) {{\n    x.observe(notebookContainer, {childList: true});\n}}\n\n// Listen for the clearing of the current output cell\nvar outputEl = gd.closest('.output');\nif (outputEl) {{\n    x.observe(outputEl, {childList: true});\n}}\n\n                        })                };                });            </script>        </div>"
     },
     "metadata": {},
     "output_type": "display_data"
    },
    {
     "data": {
      "application/vnd.plotly.v1+json": {
       "data": [
        {
         "alignmentgroup": "True",
         "hovertemplate": "variable=0<br>value=%{x}<br>index=%{y}<extra></extra>",
         "legendgroup": "0",
         "marker": {
          "color": "#636efa",
          "pattern": {
           "shape": ""
          }
         },
         "name": "0",
         "offsetgroup": "0",
         "orientation": "h",
         "showlegend": true,
         "textposition": "auto",
         "x": [
          49,
          85,
          214,
          246
         ],
         "xaxis": "x",
         "y": [
          "HouseAge",
          "Latitude",
          "AveOccup",
          "MedInc"
         ],
         "yaxis": "y",
         "type": "bar"
        }
       ],
       "layout": {
        "template": {
         "data": {
          "histogram2dcontour": [
           {
            "type": "histogram2dcontour",
            "colorbar": {
             "outlinewidth": 0,
             "ticks": ""
            },
            "colorscale": [
             [
              0.0,
              "#0d0887"
             ],
             [
              0.1111111111111111,
              "#46039f"
             ],
             [
              0.2222222222222222,
              "#7201a8"
             ],
             [
              0.3333333333333333,
              "#9c179e"
             ],
             [
              0.4444444444444444,
              "#bd3786"
             ],
             [
              0.5555555555555556,
              "#d8576b"
             ],
             [
              0.6666666666666666,
              "#ed7953"
             ],
             [
              0.7777777777777778,
              "#fb9f3a"
             ],
             [
              0.8888888888888888,
              "#fdca26"
             ],
             [
              1.0,
              "#f0f921"
             ]
            ]
           }
          ],
          "choropleth": [
           {
            "type": "choropleth",
            "colorbar": {
             "outlinewidth": 0,
             "ticks": ""
            }
           }
          ],
          "histogram2d": [
           {
            "type": "histogram2d",
            "colorbar": {
             "outlinewidth": 0,
             "ticks": ""
            },
            "colorscale": [
             [
              0.0,
              "#0d0887"
             ],
             [
              0.1111111111111111,
              "#46039f"
             ],
             [
              0.2222222222222222,
              "#7201a8"
             ],
             [
              0.3333333333333333,
              "#9c179e"
             ],
             [
              0.4444444444444444,
              "#bd3786"
             ],
             [
              0.5555555555555556,
              "#d8576b"
             ],
             [
              0.6666666666666666,
              "#ed7953"
             ],
             [
              0.7777777777777778,
              "#fb9f3a"
             ],
             [
              0.8888888888888888,
              "#fdca26"
             ],
             [
              1.0,
              "#f0f921"
             ]
            ]
           }
          ],
          "heatmap": [
           {
            "type": "heatmap",
            "colorbar": {
             "outlinewidth": 0,
             "ticks": ""
            },
            "colorscale": [
             [
              0.0,
              "#0d0887"
             ],
             [
              0.1111111111111111,
              "#46039f"
             ],
             [
              0.2222222222222222,
              "#7201a8"
             ],
             [
              0.3333333333333333,
              "#9c179e"
             ],
             [
              0.4444444444444444,
              "#bd3786"
             ],
             [
              0.5555555555555556,
              "#d8576b"
             ],
             [
              0.6666666666666666,
              "#ed7953"
             ],
             [
              0.7777777777777778,
              "#fb9f3a"
             ],
             [
              0.8888888888888888,
              "#fdca26"
             ],
             [
              1.0,
              "#f0f921"
             ]
            ]
           }
          ],
          "heatmapgl": [
           {
            "type": "heatmapgl",
            "colorbar": {
             "outlinewidth": 0,
             "ticks": ""
            },
            "colorscale": [
             [
              0.0,
              "#0d0887"
             ],
             [
              0.1111111111111111,
              "#46039f"
             ],
             [
              0.2222222222222222,
              "#7201a8"
             ],
             [
              0.3333333333333333,
              "#9c179e"
             ],
             [
              0.4444444444444444,
              "#bd3786"
             ],
             [
              0.5555555555555556,
              "#d8576b"
             ],
             [
              0.6666666666666666,
              "#ed7953"
             ],
             [
              0.7777777777777778,
              "#fb9f3a"
             ],
             [
              0.8888888888888888,
              "#fdca26"
             ],
             [
              1.0,
              "#f0f921"
             ]
            ]
           }
          ],
          "contourcarpet": [
           {
            "type": "contourcarpet",
            "colorbar": {
             "outlinewidth": 0,
             "ticks": ""
            }
           }
          ],
          "contour": [
           {
            "type": "contour",
            "colorbar": {
             "outlinewidth": 0,
             "ticks": ""
            },
            "colorscale": [
             [
              0.0,
              "#0d0887"
             ],
             [
              0.1111111111111111,
              "#46039f"
             ],
             [
              0.2222222222222222,
              "#7201a8"
             ],
             [
              0.3333333333333333,
              "#9c179e"
             ],
             [
              0.4444444444444444,
              "#bd3786"
             ],
             [
              0.5555555555555556,
              "#d8576b"
             ],
             [
              0.6666666666666666,
              "#ed7953"
             ],
             [
              0.7777777777777778,
              "#fb9f3a"
             ],
             [
              0.8888888888888888,
              "#fdca26"
             ],
             [
              1.0,
              "#f0f921"
             ]
            ]
           }
          ],
          "surface": [
           {
            "type": "surface",
            "colorbar": {
             "outlinewidth": 0,
             "ticks": ""
            },
            "colorscale": [
             [
              0.0,
              "#0d0887"
             ],
             [
              0.1111111111111111,
              "#46039f"
             ],
             [
              0.2222222222222222,
              "#7201a8"
             ],
             [
              0.3333333333333333,
              "#9c179e"
             ],
             [
              0.4444444444444444,
              "#bd3786"
             ],
             [
              0.5555555555555556,
              "#d8576b"
             ],
             [
              0.6666666666666666,
              "#ed7953"
             ],
             [
              0.7777777777777778,
              "#fb9f3a"
             ],
             [
              0.8888888888888888,
              "#fdca26"
             ],
             [
              1.0,
              "#f0f921"
             ]
            ]
           }
          ],
          "mesh3d": [
           {
            "type": "mesh3d",
            "colorbar": {
             "outlinewidth": 0,
             "ticks": ""
            }
           }
          ],
          "scatter": [
           {
            "fillpattern": {
             "fillmode": "overlay",
             "size": 10,
             "solidity": 0.2
            },
            "type": "scatter"
           }
          ],
          "parcoords": [
           {
            "type": "parcoords",
            "line": {
             "colorbar": {
              "outlinewidth": 0,
              "ticks": ""
             }
            }
           }
          ],
          "scatterpolargl": [
           {
            "type": "scatterpolargl",
            "marker": {
             "colorbar": {
              "outlinewidth": 0,
              "ticks": ""
             }
            }
           }
          ],
          "bar": [
           {
            "error_x": {
             "color": "#2a3f5f"
            },
            "error_y": {
             "color": "#2a3f5f"
            },
            "marker": {
             "line": {
              "color": "#E5ECF6",
              "width": 0.5
             },
             "pattern": {
              "fillmode": "overlay",
              "size": 10,
              "solidity": 0.2
             }
            },
            "type": "bar"
           }
          ],
          "scattergeo": [
           {
            "type": "scattergeo",
            "marker": {
             "colorbar": {
              "outlinewidth": 0,
              "ticks": ""
             }
            }
           }
          ],
          "scatterpolar": [
           {
            "type": "scatterpolar",
            "marker": {
             "colorbar": {
              "outlinewidth": 0,
              "ticks": ""
             }
            }
           }
          ],
          "histogram": [
           {
            "marker": {
             "pattern": {
              "fillmode": "overlay",
              "size": 10,
              "solidity": 0.2
             }
            },
            "type": "histogram"
           }
          ],
          "scattergl": [
           {
            "type": "scattergl",
            "marker": {
             "colorbar": {
              "outlinewidth": 0,
              "ticks": ""
             }
            }
           }
          ],
          "scatter3d": [
           {
            "type": "scatter3d",
            "line": {
             "colorbar": {
              "outlinewidth": 0,
              "ticks": ""
             }
            },
            "marker": {
             "colorbar": {
              "outlinewidth": 0,
              "ticks": ""
             }
            }
           }
          ],
          "scattermapbox": [
           {
            "type": "scattermapbox",
            "marker": {
             "colorbar": {
              "outlinewidth": 0,
              "ticks": ""
             }
            }
           }
          ],
          "scatterternary": [
           {
            "type": "scatterternary",
            "marker": {
             "colorbar": {
              "outlinewidth": 0,
              "ticks": ""
             }
            }
           }
          ],
          "scattercarpet": [
           {
            "type": "scattercarpet",
            "marker": {
             "colorbar": {
              "outlinewidth": 0,
              "ticks": ""
             }
            }
           }
          ],
          "carpet": [
           {
            "aaxis": {
             "endlinecolor": "#2a3f5f",
             "gridcolor": "white",
             "linecolor": "white",
             "minorgridcolor": "white",
             "startlinecolor": "#2a3f5f"
            },
            "baxis": {
             "endlinecolor": "#2a3f5f",
             "gridcolor": "white",
             "linecolor": "white",
             "minorgridcolor": "white",
             "startlinecolor": "#2a3f5f"
            },
            "type": "carpet"
           }
          ],
          "table": [
           {
            "cells": {
             "fill": {
              "color": "#EBF0F8"
             },
             "line": {
              "color": "white"
             }
            },
            "header": {
             "fill": {
              "color": "#C8D4E3"
             },
             "line": {
              "color": "white"
             }
            },
            "type": "table"
           }
          ],
          "barpolar": [
           {
            "marker": {
             "line": {
              "color": "#E5ECF6",
              "width": 0.5
             },
             "pattern": {
              "fillmode": "overlay",
              "size": 10,
              "solidity": 0.2
             }
            },
            "type": "barpolar"
           }
          ],
          "pie": [
           {
            "automargin": true,
            "type": "pie"
           }
          ]
         },
         "layout": {
          "autotypenumbers": "strict",
          "colorway": [
           "#636efa",
           "#EF553B",
           "#00cc96",
           "#ab63fa",
           "#FFA15A",
           "#19d3f3",
           "#FF6692",
           "#B6E880",
           "#FF97FF",
           "#FECB52"
          ],
          "font": {
           "color": "#2a3f5f"
          },
          "hovermode": "closest",
          "hoverlabel": {
           "align": "left"
          },
          "paper_bgcolor": "white",
          "plot_bgcolor": "#E5ECF6",
          "polar": {
           "bgcolor": "#E5ECF6",
           "angularaxis": {
            "gridcolor": "white",
            "linecolor": "white",
            "ticks": ""
           },
           "radialaxis": {
            "gridcolor": "white",
            "linecolor": "white",
            "ticks": ""
           }
          },
          "ternary": {
           "bgcolor": "#E5ECF6",
           "aaxis": {
            "gridcolor": "white",
            "linecolor": "white",
            "ticks": ""
           },
           "baxis": {
            "gridcolor": "white",
            "linecolor": "white",
            "ticks": ""
           },
           "caxis": {
            "gridcolor": "white",
            "linecolor": "white",
            "ticks": ""
           }
          },
          "coloraxis": {
           "colorbar": {
            "outlinewidth": 0,
            "ticks": ""
           }
          },
          "colorscale": {
           "sequential": [
            [
             0.0,
             "#0d0887"
            ],
            [
             0.1111111111111111,
             "#46039f"
            ],
            [
             0.2222222222222222,
             "#7201a8"
            ],
            [
             0.3333333333333333,
             "#9c179e"
            ],
            [
             0.4444444444444444,
             "#bd3786"
            ],
            [
             0.5555555555555556,
             "#d8576b"
            ],
            [
             0.6666666666666666,
             "#ed7953"
            ],
            [
             0.7777777777777778,
             "#fb9f3a"
            ],
            [
             0.8888888888888888,
             "#fdca26"
            ],
            [
             1.0,
             "#f0f921"
            ]
           ],
           "sequentialminus": [
            [
             0.0,
             "#0d0887"
            ],
            [
             0.1111111111111111,
             "#46039f"
            ],
            [
             0.2222222222222222,
             "#7201a8"
            ],
            [
             0.3333333333333333,
             "#9c179e"
            ],
            [
             0.4444444444444444,
             "#bd3786"
            ],
            [
             0.5555555555555556,
             "#d8576b"
            ],
            [
             0.6666666666666666,
             "#ed7953"
            ],
            [
             0.7777777777777778,
             "#fb9f3a"
            ],
            [
             0.8888888888888888,
             "#fdca26"
            ],
            [
             1.0,
             "#f0f921"
            ]
           ],
           "diverging": [
            [
             0,
             "#8e0152"
            ],
            [
             0.1,
             "#c51b7d"
            ],
            [
             0.2,
             "#de77ae"
            ],
            [
             0.3,
             "#f1b6da"
            ],
            [
             0.4,
             "#fde0ef"
            ],
            [
             0.5,
             "#f7f7f7"
            ],
            [
             0.6,
             "#e6f5d0"
            ],
            [
             0.7,
             "#b8e186"
            ],
            [
             0.8,
             "#7fbc41"
            ],
            [
             0.9,
             "#4d9221"
            ],
            [
             1,
             "#276419"
            ]
           ]
          },
          "xaxis": {
           "gridcolor": "white",
           "linecolor": "white",
           "ticks": "",
           "title": {
            "standoff": 15
           },
           "zerolinecolor": "white",
           "automargin": true,
           "zerolinewidth": 2
          },
          "yaxis": {
           "gridcolor": "white",
           "linecolor": "white",
           "ticks": "",
           "title": {
            "standoff": 15
           },
           "zerolinecolor": "white",
           "automargin": true,
           "zerolinewidth": 2
          },
          "scene": {
           "xaxis": {
            "backgroundcolor": "#E5ECF6",
            "gridcolor": "white",
            "linecolor": "white",
            "showbackground": true,
            "ticks": "",
            "zerolinecolor": "white",
            "gridwidth": 2
           },
           "yaxis": {
            "backgroundcolor": "#E5ECF6",
            "gridcolor": "white",
            "linecolor": "white",
            "showbackground": true,
            "ticks": "",
            "zerolinecolor": "white",
            "gridwidth": 2
           },
           "zaxis": {
            "backgroundcolor": "#E5ECF6",
            "gridcolor": "white",
            "linecolor": "white",
            "showbackground": true,
            "ticks": "",
            "zerolinecolor": "white",
            "gridwidth": 2
           }
          },
          "shapedefaults": {
           "line": {
            "color": "#2a3f5f"
           }
          },
          "annotationdefaults": {
           "arrowcolor": "#2a3f5f",
           "arrowhead": 0,
           "arrowwidth": 1
          },
          "geo": {
           "bgcolor": "white",
           "landcolor": "#E5ECF6",
           "subunitcolor": "white",
           "showland": true,
           "showlakes": true,
           "lakecolor": "white"
          },
          "title": {
           "x": 0.05
          },
          "mapbox": {
           "style": "light"
          }
         }
        },
        "xaxis": {
         "anchor": "y",
         "domain": [
          0.0,
          1.0
         ],
         "title": {
          "text": "Split count"
         }
        },
        "yaxis": {
         "anchor": "x",
         "domain": [
          0.0,
          1.0
         ],
         "title": {
          "text": "Features"
         }
        },
        "legend": {
         "title": {
          "text": "variable"
         },
         "tracegroupgap": 0
        },
        "margin": {
         "t": 60
        },
        "barmode": "relative",
        "title": {
         "text": "Complexity of each estimator"
        }
       },
       "config": {
        "plotlyServerURL": "https://plot.ly"
       }
      },
      "text/html": "<div>                            <div id=\"050e6a05-292f-411a-9720-be4bed1be479\" class=\"plotly-graph-div\" style=\"height:525px; width:100%;\"></div>            <script type=\"text/javascript\">                require([\"plotly\"], function(Plotly) {                    window.PLOTLYENV=window.PLOTLYENV || {};                                    if (document.getElementById(\"050e6a05-292f-411a-9720-be4bed1be479\")) {                    Plotly.newPlot(                        \"050e6a05-292f-411a-9720-be4bed1be479\",                        [{\"alignmentgroup\":\"True\",\"hovertemplate\":\"variable=0<br>value=%{x}<br>index=%{y}<extra></extra>\",\"legendgroup\":\"0\",\"marker\":{\"color\":\"#636efa\",\"pattern\":{\"shape\":\"\"}},\"name\":\"0\",\"offsetgroup\":\"0\",\"orientation\":\"h\",\"showlegend\":true,\"textposition\":\"auto\",\"x\":[49,85,214,246],\"xaxis\":\"x\",\"y\":[\"HouseAge\",\"Latitude\",\"AveOccup\",\"MedInc\"],\"yaxis\":\"y\",\"type\":\"bar\"}],                        {\"template\":{\"data\":{\"histogram2dcontour\":[{\"type\":\"histogram2dcontour\",\"colorbar\":{\"outlinewidth\":0,\"ticks\":\"\"},\"colorscale\":[[0.0,\"#0d0887\"],[0.1111111111111111,\"#46039f\"],[0.2222222222222222,\"#7201a8\"],[0.3333333333333333,\"#9c179e\"],[0.4444444444444444,\"#bd3786\"],[0.5555555555555556,\"#d8576b\"],[0.6666666666666666,\"#ed7953\"],[0.7777777777777778,\"#fb9f3a\"],[0.8888888888888888,\"#fdca26\"],[1.0,\"#f0f921\"]]}],\"choropleth\":[{\"type\":\"choropleth\",\"colorbar\":{\"outlinewidth\":0,\"ticks\":\"\"}}],\"histogram2d\":[{\"type\":\"histogram2d\",\"colorbar\":{\"outlinewidth\":0,\"ticks\":\"\"},\"colorscale\":[[0.0,\"#0d0887\"],[0.1111111111111111,\"#46039f\"],[0.2222222222222222,\"#7201a8\"],[0.3333333333333333,\"#9c179e\"],[0.4444444444444444,\"#bd3786\"],[0.5555555555555556,\"#d8576b\"],[0.6666666666666666,\"#ed7953\"],[0.7777777777777778,\"#fb9f3a\"],[0.8888888888888888,\"#fdca26\"],[1.0,\"#f0f921\"]]}],\"heatmap\":[{\"type\":\"heatmap\",\"colorbar\":{\"outlinewidth\":0,\"ticks\":\"\"},\"colorscale\":[[0.0,\"#0d0887\"],[0.1111111111111111,\"#46039f\"],[0.2222222222222222,\"#7201a8\"],[0.3333333333333333,\"#9c179e\"],[0.4444444444444444,\"#bd3786\"],[0.5555555555555556,\"#d8576b\"],[0.6666666666666666,\"#ed7953\"],[0.7777777777777778,\"#fb9f3a\"],[0.8888888888888888,\"#fdca26\"],[1.0,\"#f0f921\"]]}],\"heatmapgl\":[{\"type\":\"heatmapgl\",\"colorbar\":{\"outlinewidth\":0,\"ticks\":\"\"},\"colorscale\":[[0.0,\"#0d0887\"],[0.1111111111111111,\"#46039f\"],[0.2222222222222222,\"#7201a8\"],[0.3333333333333333,\"#9c179e\"],[0.4444444444444444,\"#bd3786\"],[0.5555555555555556,\"#d8576b\"],[0.6666666666666666,\"#ed7953\"],[0.7777777777777778,\"#fb9f3a\"],[0.8888888888888888,\"#fdca26\"],[1.0,\"#f0f921\"]]}],\"contourcarpet\":[{\"type\":\"contourcarpet\",\"colorbar\":{\"outlinewidth\":0,\"ticks\":\"\"}}],\"contour\":[{\"type\":\"contour\",\"colorbar\":{\"outlinewidth\":0,\"ticks\":\"\"},\"colorscale\":[[0.0,\"#0d0887\"],[0.1111111111111111,\"#46039f\"],[0.2222222222222222,\"#7201a8\"],[0.3333333333333333,\"#9c179e\"],[0.4444444444444444,\"#bd3786\"],[0.5555555555555556,\"#d8576b\"],[0.6666666666666666,\"#ed7953\"],[0.7777777777777778,\"#fb9f3a\"],[0.8888888888888888,\"#fdca26\"],[1.0,\"#f0f921\"]]}],\"surface\":[{\"type\":\"surface\",\"colorbar\":{\"outlinewidth\":0,\"ticks\":\"\"},\"colorscale\":[[0.0,\"#0d0887\"],[0.1111111111111111,\"#46039f\"],[0.2222222222222222,\"#7201a8\"],[0.3333333333333333,\"#9c179e\"],[0.4444444444444444,\"#bd3786\"],[0.5555555555555556,\"#d8576b\"],[0.6666666666666666,\"#ed7953\"],[0.7777777777777778,\"#fb9f3a\"],[0.8888888888888888,\"#fdca26\"],[1.0,\"#f0f921\"]]}],\"mesh3d\":[{\"type\":\"mesh3d\",\"colorbar\":{\"outlinewidth\":0,\"ticks\":\"\"}}],\"scatter\":[{\"fillpattern\":{\"fillmode\":\"overlay\",\"size\":10,\"solidity\":0.2},\"type\":\"scatter\"}],\"parcoords\":[{\"type\":\"parcoords\",\"line\":{\"colorbar\":{\"outlinewidth\":0,\"ticks\":\"\"}}}],\"scatterpolargl\":[{\"type\":\"scatterpolargl\",\"marker\":{\"colorbar\":{\"outlinewidth\":0,\"ticks\":\"\"}}}],\"bar\":[{\"error_x\":{\"color\":\"#2a3f5f\"},\"error_y\":{\"color\":\"#2a3f5f\"},\"marker\":{\"line\":{\"color\":\"#E5ECF6\",\"width\":0.5},\"pattern\":{\"fillmode\":\"overlay\",\"size\":10,\"solidity\":0.2}},\"type\":\"bar\"}],\"scattergeo\":[{\"type\":\"scattergeo\",\"marker\":{\"colorbar\":{\"outlinewidth\":0,\"ticks\":\"\"}}}],\"scatterpolar\":[{\"type\":\"scatterpolar\",\"marker\":{\"colorbar\":{\"outlinewidth\":0,\"ticks\":\"\"}}}],\"histogram\":[{\"marker\":{\"pattern\":{\"fillmode\":\"overlay\",\"size\":10,\"solidity\":0.2}},\"type\":\"histogram\"}],\"scattergl\":[{\"type\":\"scattergl\",\"marker\":{\"colorbar\":{\"outlinewidth\":0,\"ticks\":\"\"}}}],\"scatter3d\":[{\"type\":\"scatter3d\",\"line\":{\"colorbar\":{\"outlinewidth\":0,\"ticks\":\"\"}},\"marker\":{\"colorbar\":{\"outlinewidth\":0,\"ticks\":\"\"}}}],\"scattermapbox\":[{\"type\":\"scattermapbox\",\"marker\":{\"colorbar\":{\"outlinewidth\":0,\"ticks\":\"\"}}}],\"scatterternary\":[{\"type\":\"scatterternary\",\"marker\":{\"colorbar\":{\"outlinewidth\":0,\"ticks\":\"\"}}}],\"scattercarpet\":[{\"type\":\"scattercarpet\",\"marker\":{\"colorbar\":{\"outlinewidth\":0,\"ticks\":\"\"}}}],\"carpet\":[{\"aaxis\":{\"endlinecolor\":\"#2a3f5f\",\"gridcolor\":\"white\",\"linecolor\":\"white\",\"minorgridcolor\":\"white\",\"startlinecolor\":\"#2a3f5f\"},\"baxis\":{\"endlinecolor\":\"#2a3f5f\",\"gridcolor\":\"white\",\"linecolor\":\"white\",\"minorgridcolor\":\"white\",\"startlinecolor\":\"#2a3f5f\"},\"type\":\"carpet\"}],\"table\":[{\"cells\":{\"fill\":{\"color\":\"#EBF0F8\"},\"line\":{\"color\":\"white\"}},\"header\":{\"fill\":{\"color\":\"#C8D4E3\"},\"line\":{\"color\":\"white\"}},\"type\":\"table\"}],\"barpolar\":[{\"marker\":{\"line\":{\"color\":\"#E5ECF6\",\"width\":0.5},\"pattern\":{\"fillmode\":\"overlay\",\"size\":10,\"solidity\":0.2}},\"type\":\"barpolar\"}],\"pie\":[{\"automargin\":true,\"type\":\"pie\"}]},\"layout\":{\"autotypenumbers\":\"strict\",\"colorway\":[\"#636efa\",\"#EF553B\",\"#00cc96\",\"#ab63fa\",\"#FFA15A\",\"#19d3f3\",\"#FF6692\",\"#B6E880\",\"#FF97FF\",\"#FECB52\"],\"font\":{\"color\":\"#2a3f5f\"},\"hovermode\":\"closest\",\"hoverlabel\":{\"align\":\"left\"},\"paper_bgcolor\":\"white\",\"plot_bgcolor\":\"#E5ECF6\",\"polar\":{\"bgcolor\":\"#E5ECF6\",\"angularaxis\":{\"gridcolor\":\"white\",\"linecolor\":\"white\",\"ticks\":\"\"},\"radialaxis\":{\"gridcolor\":\"white\",\"linecolor\":\"white\",\"ticks\":\"\"}},\"ternary\":{\"bgcolor\":\"#E5ECF6\",\"aaxis\":{\"gridcolor\":\"white\",\"linecolor\":\"white\",\"ticks\":\"\"},\"baxis\":{\"gridcolor\":\"white\",\"linecolor\":\"white\",\"ticks\":\"\"},\"caxis\":{\"gridcolor\":\"white\",\"linecolor\":\"white\",\"ticks\":\"\"}},\"coloraxis\":{\"colorbar\":{\"outlinewidth\":0,\"ticks\":\"\"}},\"colorscale\":{\"sequential\":[[0.0,\"#0d0887\"],[0.1111111111111111,\"#46039f\"],[0.2222222222222222,\"#7201a8\"],[0.3333333333333333,\"#9c179e\"],[0.4444444444444444,\"#bd3786\"],[0.5555555555555556,\"#d8576b\"],[0.6666666666666666,\"#ed7953\"],[0.7777777777777778,\"#fb9f3a\"],[0.8888888888888888,\"#fdca26\"],[1.0,\"#f0f921\"]],\"sequentialminus\":[[0.0,\"#0d0887\"],[0.1111111111111111,\"#46039f\"],[0.2222222222222222,\"#7201a8\"],[0.3333333333333333,\"#9c179e\"],[0.4444444444444444,\"#bd3786\"],[0.5555555555555556,\"#d8576b\"],[0.6666666666666666,\"#ed7953\"],[0.7777777777777778,\"#fb9f3a\"],[0.8888888888888888,\"#fdca26\"],[1.0,\"#f0f921\"]],\"diverging\":[[0,\"#8e0152\"],[0.1,\"#c51b7d\"],[0.2,\"#de77ae\"],[0.3,\"#f1b6da\"],[0.4,\"#fde0ef\"],[0.5,\"#f7f7f7\"],[0.6,\"#e6f5d0\"],[0.7,\"#b8e186\"],[0.8,\"#7fbc41\"],[0.9,\"#4d9221\"],[1,\"#276419\"]]},\"xaxis\":{\"gridcolor\":\"white\",\"linecolor\":\"white\",\"ticks\":\"\",\"title\":{\"standoff\":15},\"zerolinecolor\":\"white\",\"automargin\":true,\"zerolinewidth\":2},\"yaxis\":{\"gridcolor\":\"white\",\"linecolor\":\"white\",\"ticks\":\"\",\"title\":{\"standoff\":15},\"zerolinecolor\":\"white\",\"automargin\":true,\"zerolinewidth\":2},\"scene\":{\"xaxis\":{\"backgroundcolor\":\"#E5ECF6\",\"gridcolor\":\"white\",\"linecolor\":\"white\",\"showbackground\":true,\"ticks\":\"\",\"zerolinecolor\":\"white\",\"gridwidth\":2},\"yaxis\":{\"backgroundcolor\":\"#E5ECF6\",\"gridcolor\":\"white\",\"linecolor\":\"white\",\"showbackground\":true,\"ticks\":\"\",\"zerolinecolor\":\"white\",\"gridwidth\":2},\"zaxis\":{\"backgroundcolor\":\"#E5ECF6\",\"gridcolor\":\"white\",\"linecolor\":\"white\",\"showbackground\":true,\"ticks\":\"\",\"zerolinecolor\":\"white\",\"gridwidth\":2}},\"shapedefaults\":{\"line\":{\"color\":\"#2a3f5f\"}},\"annotationdefaults\":{\"arrowcolor\":\"#2a3f5f\",\"arrowhead\":0,\"arrowwidth\":1},\"geo\":{\"bgcolor\":\"white\",\"landcolor\":\"#E5ECF6\",\"subunitcolor\":\"white\",\"showland\":true,\"showlakes\":true,\"lakecolor\":\"white\"},\"title\":{\"x\":0.05},\"mapbox\":{\"style\":\"light\"}}},\"xaxis\":{\"anchor\":\"y\",\"domain\":[0.0,1.0],\"title\":{\"text\":\"Split count\"}},\"yaxis\":{\"anchor\":\"x\",\"domain\":[0.0,1.0],\"title\":{\"text\":\"Features\"}},\"legend\":{\"title\":{\"text\":\"variable\"},\"tracegroupgap\":0},\"margin\":{\"t\":60},\"barmode\":\"relative\",\"title\":{\"text\":\"Complexity of each estimator\"}},                        {\"responsive\": true}                    ).then(function(){\n                            \nvar gd = document.getElementById('050e6a05-292f-411a-9720-be4bed1be479');\nvar x = new MutationObserver(function (mutations, observer) {{\n        var display = window.getComputedStyle(gd).display;\n        if (!display || display === 'none') {{\n            console.log([gd, 'removed!']);\n            Plotly.purge(gd);\n            observer.disconnect();\n        }}\n}});\n\n// Listen for the removal of the full notebook cells\nvar notebookContainer = gd.closest('#notebook-container');\nif (notebookContainer) {{\n    x.observe(notebookContainer, {childList: true});\n}}\n\n// Listen for the clearing of the current output cell\nvar outputEl = gd.closest('.output');\nif (outputEl) {{\n    x.observe(outputEl, {childList: true});\n}}\n\n                        })                };                });            </script>        </div>"
     },
     "metadata": {},
     "output_type": "display_data"
    }
   ],
   "source": [
    "sparsereg = SparseAdditiveBoostingRegressor(\n",
    "    learning_rate=0.01,\n",
    "    n_estimators=500,\n",
    "    max_depth=4,\n",
    "    row_subsample=0.85,\n",
    "    random_state=0,\n",
    ")\n",
    "sparsereg.fit(X, y)\n",
    "sparsereg.plot_model_information()"
   ],
   "metadata": {
    "collapsed": false
   }
  },
  {
   "cell_type": "markdown",
   "source": [
    "Choosing a smaller learning rate makes the model more sparse,\n",
    "because it is more likely that the model will use the same feature\n",
    "several times in a row, since it is learning slower."
   ],
   "metadata": {
    "collapsed": false
   }
  },
  {
   "cell_type": "code",
   "execution_count": 16,
   "outputs": [
    {
     "name": "stdout",
     "output_type": "stream",
     "text": [
      "The following features were not selected: []\n"
     ]
    },
    {
     "data": {
      "application/vnd.plotly.v1+json": {
       "data": [
        {
         "line": {
          "color": "red"
         },
         "name": "validation rmse",
         "x": [
          0,
          1,
          2,
          3,
          4,
          5,
          6,
          7,
          8,
          9,
          10,
          11,
          12,
          13,
          14,
          15,
          16,
          17,
          18,
          19,
          20,
          21,
          22,
          23,
          24,
          25,
          26,
          27,
          28,
          29,
          30,
          31,
          32,
          33,
          34,
          35,
          36,
          37,
          38,
          39,
          40,
          41,
          42,
          43,
          44,
          45,
          46,
          47,
          48,
          49,
          50,
          51,
          52,
          53,
          54,
          55,
          56,
          57,
          58,
          59,
          60,
          61,
          62,
          63,
          64,
          65,
          66,
          67,
          68,
          69,
          70,
          71,
          72,
          73,
          74,
          75,
          76,
          77,
          78,
          79,
          80,
          81,
          82,
          83,
          84,
          85,
          86,
          87,
          88,
          89,
          90,
          91,
          92,
          93,
          94,
          95,
          96,
          97,
          98,
          99,
          100,
          101,
          102,
          103,
          104,
          105,
          106,
          107,
          108,
          109,
          110,
          111,
          112,
          113,
          114,
          115,
          116,
          117,
          118,
          119,
          120,
          121,
          122,
          123,
          124,
          125,
          126,
          127,
          128,
          129,
          130,
          131,
          132,
          133,
          134,
          135,
          136,
          137,
          138,
          139,
          140,
          141,
          142,
          143,
          144,
          145,
          146,
          147,
          148,
          149,
          150,
          151,
          152,
          153,
          154,
          155,
          156,
          157,
          158,
          159,
          160,
          161,
          162,
          163,
          164,
          165,
          166,
          167,
          168,
          169,
          170,
          171,
          172,
          173,
          174,
          175,
          176,
          177,
          178,
          179,
          180,
          181,
          182,
          183,
          184,
          185,
          186,
          187,
          188,
          189,
          190,
          191,
          192,
          193,
          194,
          195,
          196,
          197,
          198,
          199,
          200,
          201,
          202,
          203,
          204,
          205,
          206,
          207,
          208,
          209,
          210,
          211,
          212,
          213,
          214,
          215,
          216,
          217,
          218,
          219,
          220,
          221,
          222,
          223,
          224,
          225,
          226,
          227,
          228,
          229,
          230,
          231,
          232,
          233,
          234,
          235,
          236,
          237,
          238,
          239,
          240,
          241,
          242,
          243,
          244,
          245,
          246,
          247,
          248,
          249,
          250,
          251,
          252,
          253,
          254,
          255,
          256,
          257,
          258,
          259,
          260,
          261,
          262,
          263,
          264,
          265,
          266,
          267,
          268,
          269,
          270,
          271,
          272,
          273,
          274,
          275,
          276,
          277,
          278,
          279,
          280,
          281,
          282,
          283,
          284,
          285,
          286,
          287,
          288,
          289,
          290,
          291,
          292,
          293,
          294,
          295,
          296,
          297,
          298,
          299,
          300,
          301,
          302,
          303,
          304,
          305,
          306,
          307,
          308,
          309,
          310,
          311,
          312,
          313,
          314,
          315,
          316,
          317,
          318,
          319,
          320,
          321,
          322,
          323,
          324,
          325,
          326,
          327,
          328,
          329,
          330,
          331,
          332,
          333,
          334,
          335,
          336,
          337,
          338,
          339,
          340,
          341,
          342,
          343,
          344,
          345,
          346,
          347,
          348,
          349,
          350,
          351,
          352,
          353,
          354,
          355,
          356,
          357,
          358,
          359,
          360,
          361,
          362,
          363,
          364,
          365,
          366,
          367,
          368,
          369,
          370,
          371,
          372,
          373,
          374,
          375,
          376,
          377,
          378,
          379,
          380,
          381,
          382,
          383,
          384,
          385,
          386,
          387,
          388,
          389,
          390,
          391,
          392,
          393,
          394,
          395,
          396,
          397,
          398,
          399,
          400,
          401,
          402,
          403
         ],
         "y": [
          1.020675597922731,
          0.9338467491696746,
          0.8892086373359208,
          0.8596328389764899,
          0.8376078260153982,
          0.8183202310634298,
          0.8068493629969768,
          0.792446273404231,
          0.7846329673572043,
          0.7773268576579768,
          0.7676757123449964,
          0.7361318638673618,
          0.731361782170858,
          0.7290494889194153,
          0.7090537887624939,
          0.7062628359343478,
          0.7039891325474427,
          0.6789035893137242,
          0.670876624050563,
          0.6526557019799738,
          0.6503464142946224,
          0.6475480055764666,
          0.6376766582249053,
          0.6296333471509349,
          0.6247843577897625,
          0.6239140849055645,
          0.6196683404692189,
          0.6186596486165361,
          0.6178224821997323,
          0.6171107774503813,
          0.6153153256200014,
          0.6145767289442842,
          0.613788539799074,
          0.613534543042314,
          0.6130845100700877,
          0.6127339487710429,
          0.6108001783445707,
          0.6088744075208667,
          0.6085025334470705,
          0.6067574008791622,
          0.606141112847362,
          0.6062534423694517,
          0.6055403367011437,
          0.6048927187353721,
          0.6047950000423188,
          0.6036695322103847,
          0.6029172853495588,
          0.6025925681038692,
          0.6022603924532001,
          0.6018355411349404,
          0.6029426836132021,
          0.6033720725345045,
          0.6027507147318896,
          0.6018610793028388,
          0.6011095053025121,
          0.6004437360259197,
          0.600316453631298,
          0.5993855543114304,
          0.5990282021989839,
          0.5987554125739264,
          0.5988992639909357,
          0.5992224767542357,
          0.5990386906515622,
          0.5988709738657625,
          0.5990842877263711,
          0.598688546296372,
          0.5986626687823104,
          0.5978053396003211,
          0.5974314894950309,
          0.5966184290185851,
          0.5961804556754956,
          0.5953821864709257,
          0.5949171166535604,
          0.5948914078325951,
          0.5948471347842995,
          0.594893979565501,
          0.5945179096265437,
          0.5948815071963133,
          0.5954104611973854,
          0.5951136163972854,
          0.5948009309398736,
          0.5955173602271283,
          0.5952911467019718,
          0.595640116125774,
          0.5955416151764772,
          0.5946239834627306,
          0.5940673248241903,
          0.5942983697631397,
          0.5943277250093401,
          0.5940007083442977,
          0.5929522616335801,
          0.5928500113537363,
          0.5932212256262847,
          0.593342667226555,
          0.5933230411245543,
          0.5934528287432959,
          0.5937438937392131,
          0.5939242802496462,
          0.5935866431527795,
          0.5925051031790461,
          0.5929038135704735,
          0.5930078953414432,
          0.5932649886668298,
          0.5931142606358383,
          0.5938828429046588,
          0.5940892569149155,
          0.5944751731523895,
          0.5943247269728666,
          0.5949320902324882,
          0.5952701504933154,
          0.5950743505910656,
          0.5958229944625799,
          0.5958770706723553,
          0.5953144307845191,
          0.5950715028294541,
          0.5947316478747172,
          0.5949953129456494,
          0.5945335659213571,
          0.5945058517090904,
          0.5949247516891585,
          0.594784431634478,
          0.5947453208397512,
          0.5949077075806579,
          0.5954195051636424,
          0.5955398551152019,
          0.5963112154760025,
          0.5964428717221576,
          0.5966947492312749,
          0.5964863783063412,
          0.5956557843179154,
          0.5957633879393124,
          0.5942659073597301,
          0.5943769035604162,
          0.5945480473994611,
          0.5930362406720786,
          0.5929223716089593,
          0.5931887110476228,
          0.5934731908498332,
          0.5927742799300459,
          0.5928778874574,
          0.5931200224005092,
          0.5926260626152672,
          0.5927821824259327,
          0.5924372677416123,
          0.5932862384533895,
          0.5933055252800801,
          0.5930746093852897,
          0.5933764609950506,
          0.5934682401238978,
          0.5932095157813903,
          0.5928140944699702,
          0.592734850583724,
          0.5927452375086371,
          0.5926006327583957,
          0.5929351519630729,
          0.5926359094984589,
          0.5926687253116948,
          0.5926736086180746,
          0.5925614462865573,
          0.5919893460999345,
          0.591585813195283,
          0.5921484225812329,
          0.5920511965887756,
          0.5920026253123786,
          0.5925778074888929,
          0.5930394857993789,
          0.5928591690409843,
          0.5922872118448578,
          0.5922291320732903,
          0.5929676262950689,
          0.5925917378394795,
          0.5927235290566314,
          0.5924295907630404,
          0.5933666441275427,
          0.5931642476416843,
          0.5944899601367438,
          0.594696935176117,
          0.594310125574905,
          0.5937379865716219,
          0.5939610545985295,
          0.5938773821193197,
          0.5932845217260796,
          0.5934403853857182,
          0.5940972839268324,
          0.5946833888670646,
          0.5950523663246154,
          0.5956062020116424,
          0.5951201848813367,
          0.5951401052136182,
          0.595367735549259,
          0.5951828736717251,
          0.5947638211183581,
          0.5948899544342799,
          0.5947078547467163,
          0.5945848195502058,
          0.5948304991435364,
          0.5946390296029256,
          0.595380327056474,
          0.5956057711132343,
          0.5958602353469071,
          0.5962217786877204,
          0.5956491133184872,
          0.5952474558504652,
          0.5948320047172777,
          0.5946591036309021,
          0.5947210350877278,
          0.5945355003702637,
          0.594203350073136,
          0.5942215872254496,
          0.5949628009788154,
          0.5955421178009401,
          0.5961425348231401,
          0.5959085920819005,
          0.5957768078836269,
          0.5959620105877812,
          0.595172832061941,
          0.5953586773180172,
          0.596238040739694,
          0.5962034963054423,
          0.5954036891640755,
          0.5946714957675936,
          0.5951458566521265,
          0.5953838700794866,
          0.5950902554319514,
          0.5951204152614917,
          0.5953971981557286,
          0.5948522287606773,
          0.5951667251918896,
          0.5952106425012892,
          0.5944557449946483,
          0.5946048104364672,
          0.5943228455654939,
          0.5935193193547342,
          0.5930094225148821,
          0.5924165034449196,
          0.5923220471743909,
          0.5927042030182931,
          0.5922206782793287,
          0.5931435651317906,
          0.5931474560625992,
          0.5931884631419494,
          0.5927494352383008,
          0.5932658473911793,
          0.5931804432548174,
          0.5931315233093302,
          0.5930541778915236,
          0.5933573939627016,
          0.593417521780045,
          0.5924873399383151,
          0.5923337768164219,
          0.59237622729189,
          0.5918314924596738,
          0.5909684318208307,
          0.590607252946,
          0.5916069939456543,
          0.5908762669691981,
          0.5922684721356184,
          0.5918416885765843,
          0.5917909714656719,
          0.591637325296562,
          0.5915726821276746,
          0.5916522219354823,
          0.5910626612886247,
          0.5914054249318557,
          0.5912393297337295,
          0.5916119104635248,
          0.5918093179226743,
          0.5914428660720868,
          0.5917475023531381,
          0.5917158161694223,
          0.5924759766926034,
          0.5923727639425975,
          0.592969495539532,
          0.5929613608450077,
          0.5931442420692578,
          0.5929065919113099,
          0.5926791787555613,
          0.5923431142797498,
          0.5921885859195156,
          0.5923947162471399,
          0.5922101708002434,
          0.5921755005575473,
          0.591259412482358,
          0.5910395616114452,
          0.5906342809051083,
          0.5906301650942419,
          0.5918141349380236,
          0.5918495603569944,
          0.5920609311952116,
          0.590750407086172,
          0.5914978311891661,
          0.5920176964305186,
          0.5920249907619151,
          0.5924460432748949,
          0.592207209268496,
          0.5918440192958074,
          0.5920946588768814,
          0.5922517668622486,
          0.5914195926074087,
          0.5917050078447903,
          0.5912666753161515,
          0.591955676854965,
          0.5923235877920539,
          0.5919773910710291,
          0.591338680424448,
          0.5922594897119356,
          0.592016147064506,
          0.5922108468244737,
          0.592070740008774,
          0.5931210757641275,
          0.5924795135139014,
          0.5923253481220312,
          0.5915486013384702,
          0.592972142589551,
          0.5923353205049702,
          0.5923131298094231,
          0.5926905521892045,
          0.5924416054008497,
          0.5930465034987479,
          0.593022388701116,
          0.5918605692439157,
          0.5915650919097263,
          0.5905842677295975,
          0.5906976069862284,
          0.5907710498030481,
          0.5907072732984887,
          0.5905363693062329,
          0.5908302909087403,
          0.5902501533261669,
          0.5899715346925182,
          0.5889496018566477,
          0.5890518393402985,
          0.5897890230207162,
          0.5893003972711867,
          0.5887040593846677,
          0.5889019573861336,
          0.5891840842140352,
          0.5892118861247626,
          0.5891027558524139,
          0.5889168972745874,
          0.5889677419100392,
          0.5883320244345975,
          0.5879733418904224,
          0.5877978082155466,
          0.5872327090277102,
          0.5873544536079522,
          0.5874552771607312,
          0.5868267767150775,
          0.5868524853237064,
          0.5867070075678218,
          0.5866628034810605,
          0.5882457563491582,
          0.588242286951085,
          0.5885547390246176,
          0.5887688204377894,
          0.5895397320932652,
          0.589790018499178,
          0.5896472656321081,
          0.5881912206598822,
          0.588178310090663,
          0.5881886240671013,
          0.5879008869991263,
          0.5872375332458557,
          0.588211926960825,
          0.587209155931853,
          0.5871249572629174,
          0.5871542602663425,
          0.5870268001166943,
          0.5866166299992197,
          0.5863934464727096,
          0.5861720641841583,
          0.5865886421115046,
          0.5860073093600073,
          0.5872695633675422,
          0.5877668986185486,
          0.5877084034633853,
          0.5877602797212077,
          0.588916139086986,
          0.5889086731396952,
          0.5885577085803991,
          0.5894398599132523,
          0.5891107584703558,
          0.5910492903473211,
          0.5912468122816744,
          0.5911980373701242,
          0.5907618285895305,
          0.5898714560138921,
          0.5879408940205982,
          0.5877668694561271,
          0.5878791524116211,
          0.5880124237659488,
          0.5876341012369499,
          0.5883992778715222,
          0.5879199740858441,
          0.5873841112208724,
          0.587617197796569,
          0.5869557666991317,
          0.5868083799110185,
          0.5871632808940811,
          0.5862405375379478,
          0.5850902112680644,
          0.5850884711276161,
          0.585200211366401,
          0.5852384990897478,
          0.5848207458328863,
          0.584964656071309,
          0.5857090124571154,
          0.5857179398881811,
          0.5856642743992119,
          0.5854862531618833,
          0.5853274326427184,
          0.5852807703249725,
          0.5857412299542207,
          0.5854623329319936,
          0.5859516673313854,
          0.5862851620747596,
          0.5864107782091471,
          0.5864609570552112,
          0.5869096232311664,
          0.5870662324155783,
          0.5872565293996833,
          0.5871335660045678,
          0.5865849642299875,
          0.5865752554296961,
          0.5862735035261779,
          0.5863297080584581,
          0.5866427547117771,
          0.5867367002068457,
          0.5865162793299663,
          0.586029743183169,
          0.5861358938939675,
          0.586288886804902,
          0.58704069243034,
          0.5872047760466695,
          0.5873459238312181,
          0.5881599655379192,
          0.5878926322443532,
          0.5869729064905549,
          0.5877094313020659,
          0.5874420200402476,
          0.5873412437563656,
          0.5872335209393262,
          0.587160930804374,
          0.5873926125971282,
          0.5869180545662389,
          0.5872392592427117,
          0.5868763838565082,
          0.5875025046834054,
          0.5872698108731194,
          0.5868999221603953,
          0.5873799002294262,
          0.587101876540037,
          0.5869420606683641,
          0.5877411900960748,
          0.588601287248494,
          0.5889143520481235,
          0.5888903048920434,
          0.5886794452897214,
          0.5880540467702088,
          0.5879088621169166,
          0.5875653959070803,
          0.5881374645869525,
          0.5871022687986194,
          0.5870069289767768,
          0.5865151325745124,
          0.5858137280422684,
          0.5868129575726053,
          0.5877443119841866,
          0.587519251536913,
          0.5875153571799807,
          0.5876739195050793,
          0.5868844889411433,
          0.5889492486468272,
          0.5890262691032716,
          0.5898909026202956,
          0.5894815876600908,
          0.5893307336574741,
          0.5895067370520992,
          0.5897121490046751,
          0.5895915494558984,
          0.5895236594671592,
          0.5905694488453274,
          0.5900645058558481,
          0.5898024034607143,
          0.5905803832992496,
          0.5902408836912995,
          0.5897936405705337,
          0.5897490268933757,
          0.5892067439968333,
          0.5891353583537007,
          0.5887994297945391,
          0.5888381228292707,
          0.5887857946736055,
          0.5885701624831599,
          0.5882209683348312,
          0.5882720105715072,
          0.5885836944678905,
          0.5887113528025882,
          0.5889770434980383
         ],
         "type": "scatter",
         "xaxis": "x",
         "yaxis": "y2"
        },
        {
         "line": {
          "color": "blue"
         },
         "name": "training rmse",
         "x": [
          0,
          1,
          2,
          3,
          4,
          5,
          6,
          7,
          8,
          9,
          10,
          11,
          12,
          13,
          14,
          15,
          16,
          17,
          18,
          19,
          20,
          21,
          22,
          23,
          24,
          25,
          26,
          27,
          28,
          29,
          30,
          31,
          32,
          33,
          34,
          35,
          36,
          37,
          38,
          39,
          40,
          41,
          42,
          43,
          44,
          45,
          46,
          47,
          48,
          49,
          50,
          51,
          52,
          53,
          54,
          55,
          56,
          57,
          58,
          59,
          60,
          61,
          62,
          63,
          64,
          65,
          66,
          67,
          68,
          69,
          70,
          71,
          72,
          73,
          74,
          75,
          76,
          77,
          78,
          79,
          80,
          81,
          82,
          83,
          84,
          85,
          86,
          87,
          88,
          89,
          90,
          91,
          92,
          93,
          94,
          95,
          96,
          97,
          98,
          99,
          100,
          101,
          102,
          103,
          104,
          105,
          106,
          107,
          108,
          109,
          110,
          111,
          112,
          113,
          114,
          115,
          116,
          117,
          118,
          119,
          120,
          121,
          122,
          123,
          124,
          125,
          126,
          127,
          128,
          129,
          130,
          131,
          132,
          133,
          134,
          135,
          136,
          137,
          138,
          139,
          140,
          141,
          142,
          143,
          144,
          145,
          146,
          147,
          148,
          149,
          150,
          151,
          152,
          153,
          154,
          155,
          156,
          157,
          158,
          159,
          160,
          161,
          162,
          163,
          164,
          165,
          166,
          167,
          168,
          169,
          170,
          171,
          172,
          173,
          174,
          175,
          176,
          177,
          178,
          179,
          180,
          181,
          182,
          183,
          184,
          185,
          186,
          187,
          188,
          189,
          190,
          191,
          192,
          193,
          194,
          195,
          196,
          197,
          198,
          199,
          200,
          201,
          202,
          203,
          204,
          205,
          206,
          207,
          208,
          209,
          210,
          211,
          212,
          213,
          214,
          215,
          216,
          217,
          218,
          219,
          220,
          221,
          222,
          223,
          224,
          225,
          226,
          227,
          228,
          229,
          230,
          231,
          232,
          233,
          234,
          235,
          236,
          237,
          238,
          239,
          240,
          241,
          242,
          243,
          244,
          245,
          246,
          247,
          248,
          249,
          250,
          251,
          252,
          253,
          254,
          255,
          256,
          257,
          258,
          259,
          260,
          261,
          262,
          263,
          264,
          265,
          266,
          267,
          268,
          269,
          270,
          271,
          272,
          273,
          274,
          275,
          276,
          277,
          278,
          279,
          280,
          281,
          282,
          283,
          284,
          285,
          286,
          287,
          288,
          289,
          290,
          291,
          292,
          293,
          294,
          295,
          296,
          297,
          298,
          299,
          300,
          301,
          302,
          303,
          304,
          305,
          306,
          307,
          308,
          309,
          310,
          311,
          312,
          313,
          314,
          315,
          316,
          317,
          318,
          319,
          320,
          321,
          322,
          323,
          324,
          325,
          326,
          327,
          328,
          329,
          330,
          331,
          332,
          333,
          334,
          335,
          336,
          337,
          338,
          339,
          340,
          341,
          342,
          343,
          344,
          345,
          346,
          347,
          348,
          349,
          350,
          351,
          352,
          353,
          354,
          355,
          356,
          357,
          358,
          359,
          360,
          361,
          362,
          363,
          364,
          365,
          366,
          367,
          368,
          369,
          370,
          371,
          372,
          373,
          374,
          375,
          376,
          377,
          378,
          379,
          380,
          381,
          382,
          383,
          384,
          385,
          386,
          387,
          388,
          389,
          390,
          391,
          392,
          393,
          394,
          395,
          396,
          397,
          398,
          399,
          400,
          401,
          402,
          403
         ],
         "y": [
          1.0012382920949872,
          0.9135983275044005,
          0.8673756909960504,
          0.8371004367904935,
          0.8141408563664697,
          0.7961197213554373,
          0.7840462731788838,
          0.7691332945142453,
          0.7615982099225428,
          0.7534478525377024,
          0.7442493051080102,
          0.7131280515057409,
          0.7079540484690401,
          0.7045519731682894,
          0.6858690220738991,
          0.6830750982876752,
          0.6800733559097181,
          0.6561094878193563,
          0.6493876111433047,
          0.6336762941032944,
          0.63141884098638,
          0.6276832398544603,
          0.6192491686665054,
          0.6140174933317373,
          0.611005775447768,
          0.6101758220525896,
          0.6071489124449091,
          0.606217669629579,
          0.603978921948392,
          0.6030100519088012,
          0.6012051557814815,
          0.5993485922631269,
          0.5981648324860632,
          0.5976215065356945,
          0.5970704067577464,
          0.5964290657233048,
          0.5942396073679808,
          0.5928613337323965,
          0.5917870567239506,
          0.5909657147247737,
          0.5906561586776974,
          0.5905285921055273,
          0.5901813995725571,
          0.58960975414261,
          0.5897439818680821,
          0.5885947921428749,
          0.5882079183991972,
          0.5877503265671896,
          0.5874367670772664,
          0.5867835923389572,
          0.5864332466223939,
          0.5864589003275429,
          0.5859932905804918,
          0.5852554034970135,
          0.5846693872834982,
          0.5842672619825733,
          0.5841331492516016,
          0.5836393904593411,
          0.5832555398585278,
          0.5831033863187838,
          0.5831116859856549,
          0.5822411849406615,
          0.5822587993925884,
          0.5816087963757369,
          0.5816703413026657,
          0.5810922788842262,
          0.58113302282509,
          0.5804422729043947,
          0.5802553226162588,
          0.5793046912726421,
          0.5787459558066788,
          0.5783319635870213,
          0.5779618805196933,
          0.5778625835947446,
          0.5775761623171928,
          0.5776904014257739,
          0.5771538300372664,
          0.5771463110253274,
          0.5771841500251172,
          0.5770317241646323,
          0.5767523401221274,
          0.5767242038845993,
          0.5766706486504419,
          0.5766310953984813,
          0.576518370143599,
          0.5764334833031769,
          0.5762278653752069,
          0.5760919271709988,
          0.5761294534874177,
          0.5762650282851961,
          0.5756555541305216,
          0.5755287116790059,
          0.5757278937697619,
          0.5757798513889575,
          0.5756676156930108,
          0.5756052647618249,
          0.5753982208090254,
          0.57525425870945,
          0.5751804115103725,
          0.5750421170279386,
          0.5752437677240076,
          0.5754101383221318,
          0.5755082932723178,
          0.5752050448767355,
          0.5754325570274933,
          0.575426224625448,
          0.5755534478437347,
          0.5752372334491493,
          0.5754923080519325,
          0.5757280391163822,
          0.5755298000164442,
          0.5758096782736172,
          0.5758275187893371,
          0.5759424082480266,
          0.5756338508183025,
          0.5755118179538101,
          0.5754535436859316,
          0.5750914013306653,
          0.5752008048920757,
          0.57526893284707,
          0.5751528933465826,
          0.5751203954854169,
          0.5752115249192775,
          0.5754710427806163,
          0.5756228468991034,
          0.575780364527266,
          0.5754493964240538,
          0.5755997451355614,
          0.5755292111243396,
          0.5753947286635069,
          0.5754802030714173,
          0.5746304993517909,
          0.5744510715239006,
          0.5741240932787688,
          0.5736165542550695,
          0.5734732054885339,
          0.5737350330224948,
          0.5738267522038909,
          0.573902109906921,
          0.5738142975086499,
          0.5735212873039921,
          0.5735774164503264,
          0.5735948562482394,
          0.5733455910343417,
          0.5738061143475509,
          0.5738496664092082,
          0.573642672562226,
          0.5737989423856722,
          0.5736200938360495,
          0.5738233042339397,
          0.5737845466421609,
          0.5737552378766478,
          0.5735989489581613,
          0.5738651671061334,
          0.5738216852907466,
          0.5738159345272478,
          0.573768616809038,
          0.5738058194893272,
          0.5741463817583755,
          0.5741426090319198,
          0.5744833906019263,
          0.5747317122154199,
          0.574570739293837,
          0.5745140745652446,
          0.5746680604853224,
          0.5752633519766347,
          0.5750277139089895,
          0.57458050485728,
          0.5744592109913335,
          0.5749716431709258,
          0.5746593494509978,
          0.5746209898391558,
          0.5743241748804478,
          0.5744043739101556,
          0.5742913103968768,
          0.5747881232099208,
          0.5749892071436051,
          0.5748556884087912,
          0.5746188330192208,
          0.5747436553010834,
          0.5748882782520001,
          0.5749255148633199,
          0.5749135052669582,
          0.5749059237530174,
          0.575335773789981,
          0.5752554569837108,
          0.5757964479840519,
          0.5754575169844361,
          0.5754466676380579,
          0.5754464924512397,
          0.5754445609149972,
          0.5751716776193662,
          0.5751012000562074,
          0.5749569608509394,
          0.5749219416275264,
          0.5748617328692055,
          0.574867026981436,
          0.574931304146256,
          0.5749571580866999,
          0.575216300863465,
          0.5756008742135986,
          0.5755270775839265,
          0.5753392692235016,
          0.5752587160473176,
          0.5751465732440438,
          0.5751655628502677,
          0.5747061895282592,
          0.57512323460836,
          0.5750966457410679,
          0.5752249918308803,
          0.5755310925285958,
          0.5756038128373795,
          0.5756145030048337,
          0.5756882515121432,
          0.5756582642758329,
          0.5756034284028899,
          0.5756423497557811,
          0.5756904278483711,
          0.5755854612073124,
          0.5754795233042537,
          0.5750657032081417,
          0.5748836470063324,
          0.5750511788368667,
          0.5752192137058042,
          0.5751783625012663,
          0.5750630611384545,
          0.5751974197093401,
          0.5751924562862086,
          0.5752568019124771,
          0.575295897452687,
          0.5754499457513813,
          0.5758791516488687,
          0.5750713520731214,
          0.5749373647349889,
          0.5746320462155422,
          0.5745973674597976,
          0.5748708890416557,
          0.5747252083094787,
          0.5751237240584615,
          0.5750807299243725,
          0.5749299160620298,
          0.5749331238189481,
          0.5751175489631768,
          0.5749745548298332,
          0.5748402128830763,
          0.574738281899095,
          0.5747345774855144,
          0.5746647971439452,
          0.5742735419360432,
          0.5741780001211625,
          0.5742881293862819,
          0.5738953013380537,
          0.5732696134498906,
          0.5733195753925429,
          0.5732350617214187,
          0.5729808487870686,
          0.5734019914039542,
          0.5734469653034997,
          0.5734917013428542,
          0.5734976846527656,
          0.5734483799649958,
          0.573442230562409,
          0.5735275627578187,
          0.5735900613485044,
          0.57374773216722,
          0.5737775593434288,
          0.5738284670737677,
          0.5736420398676634,
          0.5735959586396977,
          0.5733957739777944,
          0.573779365483676,
          0.5737256545985633,
          0.5738311544453215,
          0.5738152139979096,
          0.5738284544269707,
          0.5737583686101408,
          0.5735412255384175,
          0.5737184725900001,
          0.573347707938212,
          0.5733210233464231,
          0.5731085462574173,
          0.5731171520461475,
          0.5730518124655803,
          0.57290996456269,
          0.5728476699852474,
          0.5727633665650463,
          0.5729210264177687,
          0.5729296853304015,
          0.5729721567292692,
          0.5725817502032974,
          0.5727147876766467,
          0.5729443136587538,
          0.5728965656196271,
          0.5731720970253018,
          0.5730560147485285,
          0.573005970714478,
          0.5729549707229465,
          0.5732421426706856,
          0.573056816045762,
          0.5730543443038786,
          0.5731509889858917,
          0.5734147984218961,
          0.5735015070091852,
          0.5735661110801937,
          0.573342476716779,
          0.5735490437625129,
          0.5736187471763986,
          0.5735471205416435,
          0.5734990639458828,
          0.5738419646491818,
          0.5733645054042575,
          0.5733240150457553,
          0.5730334890833668,
          0.5735096701434701,
          0.573403337130082,
          0.5736562825624681,
          0.5738788721485334,
          0.5737888398032063,
          0.5739818775917269,
          0.57410366347783,
          0.5738387509116588,
          0.5739903707047896,
          0.5739825297784634,
          0.5739672846422169,
          0.5738005083799345,
          0.5736920784662902,
          0.5735164003559176,
          0.5736335819187747,
          0.5733520135503053,
          0.5733459998268683,
          0.5713681481615875,
          0.5714590365755454,
          0.5714122765850164,
          0.571301431628444,
          0.571013873444049,
          0.5714073317498491,
          0.571479730666184,
          0.5712345822250343,
          0.5712823161952618,
          0.5712376660980251,
          0.5712052717331243,
          0.571180196489525,
          0.5709105194021221,
          0.5704195198979264,
          0.5704948514366787,
          0.5707667896009986,
          0.5707518726793488,
          0.5703471321824777,
          0.5702691764336181,
          0.570426438795097,
          0.5704306314655508,
          0.5708561282261898,
          0.5711334380760095,
          0.5713472177369319,
          0.5713524820462973,
          0.5715849450188826,
          0.5716552429112117,
          0.5719522632854444,
          0.5710935779255182,
          0.5711526045650308,
          0.5709642202730614,
          0.5708463215936652,
          0.5706447218623588,
          0.5709104306722194,
          0.5705608471286374,
          0.5706261994192019,
          0.5706223467779028,
          0.5701897176966342,
          0.570100238069574,
          0.5700980644007845,
          0.5698090729712428,
          0.569886525375133,
          0.5699650348703876,
          0.5703174893116997,
          0.5702606565017168,
          0.5702535584176751,
          0.5704022752712314,
          0.5705505681077622,
          0.5701134067940735,
          0.5700836928610125,
          0.5707548785697345,
          0.5707404599283208,
          0.5717355808388057,
          0.5718549386316782,
          0.5718507280228969,
          0.5716348053239193,
          0.5709904627026751,
          0.569838435444157,
          0.5698526573079034,
          0.5697219305964055,
          0.5695503782512364,
          0.5692944673393485,
          0.5692269946023897,
          0.5691950079671794,
          0.569164657065787,
          0.5690032933008141,
          0.5690161394451625,
          0.5690696146266686,
          0.5692555653636695,
          0.5689562134299025,
          0.5687167132741189,
          0.5686954527356246,
          0.5689001842775648,
          0.5689153049129572,
          0.5690355396207168,
          0.5689962812963582,
          0.5690173260605453,
          0.5689374793811562,
          0.5688054386141026,
          0.5685518282583052,
          0.5687834578806026,
          0.5684658284989119,
          0.5688173260375834,
          0.5688907068761182,
          0.5687983209034868,
          0.5688151749499656,
          0.568699206588557,
          0.568728636283981,
          0.5687491664546376,
          0.5688178437920243,
          0.5688230136820097,
          0.5685986848722306,
          0.5685997274887163,
          0.5687220044273511,
          0.5685923931269418,
          0.5682646351459665,
          0.5682741992865029,
          0.5684311803331504,
          0.5684553973954375,
          0.568457230527137,
          0.56746441211671,
          0.5676404958799902,
          0.5678289607595316,
          0.5679886073121491,
          0.5678164461002053,
          0.5679124374801897,
          0.5678690678056799,
          0.5675312788049227,
          0.5676792165351708,
          0.5677911360809107,
          0.5679821731524535,
          0.5676121917985124,
          0.5675989024887341,
          0.5678905789191526,
          0.5677608796702265,
          0.5677788604916285,
          0.5676048840858559,
          0.5679119111940972,
          0.5682646334850996,
          0.5683521522368891,
          0.5688099059629507,
          0.5684942244479951,
          0.5684125042513872,
          0.5684564579975294,
          0.5687330998591263,
          0.5689029514421508,
          0.5688787305161764,
          0.5687041595354633,
          0.5684339165982679,
          0.5684743108048497,
          0.5684852356047496,
          0.5688796119081572,
          0.5684811990987954,
          0.5684858738759895,
          0.5683589074291576,
          0.5680464891441557,
          0.5683882057253884,
          0.5684550293978368,
          0.5683790739678128,
          0.5684432072846644,
          0.5686754121102607,
          0.5682896088576774,
          0.5686145906997617,
          0.5686495609204232,
          0.5693655853153087,
          0.5694532683204739,
          0.5693069333648895,
          0.5693247246397257,
          0.5693341653449692,
          0.5692390714580254,
          0.569071120247741,
          0.5691605818121228,
          0.5691252413665557,
          0.5688869774635177,
          0.5689519224937938,
          0.568871678237468,
          0.5687989005548302,
          0.568937121720928,
          0.5687572875850062,
          0.5685404113422106,
          0.5684684105034902,
          0.5677404399822038,
          0.5679024861413134,
          0.5680239697351499,
          0.5680539099257302,
          0.5685009923410168,
          0.5686922079155915,
          0.5685051922670463,
          0.5687298031576212
         ],
         "type": "scatter",
         "xaxis": "x",
         "yaxis": "y2"
        },
        {
         "marker": {
          "color": "green",
          "size": 1.3,
          "symbol": "square"
         },
         "mode": "markers",
         "name": "feature",
         "x": [
          0,
          1,
          2,
          3,
          4,
          5,
          6,
          7,
          8,
          9,
          10,
          11,
          12,
          13,
          14,
          15,
          16,
          17,
          18,
          19,
          20,
          21,
          22,
          23,
          24,
          25,
          26,
          27,
          28,
          29,
          30,
          31,
          32,
          33,
          34,
          35,
          36,
          37,
          38,
          39,
          40,
          41,
          42,
          43,
          44,
          45,
          46,
          47,
          48,
          49,
          50,
          51,
          52,
          53,
          54,
          55,
          56,
          57,
          58,
          59,
          60,
          61,
          62,
          63,
          64,
          65,
          66,
          67,
          68,
          69,
          70,
          71,
          72,
          73,
          74,
          75,
          76,
          77,
          78,
          79,
          80,
          81,
          82,
          83,
          84,
          85,
          86,
          87,
          88,
          89,
          90,
          91,
          92,
          93,
          94,
          95,
          96,
          97,
          98,
          99,
          100,
          101,
          102,
          103,
          104,
          105,
          106,
          107,
          108,
          109,
          110,
          111,
          112,
          113,
          114,
          115,
          116,
          117,
          118,
          119,
          120,
          121,
          122,
          123,
          124,
          125,
          126,
          127,
          128,
          129,
          130,
          131,
          132,
          133,
          134,
          135,
          136,
          137,
          138,
          139,
          140,
          141,
          142,
          143,
          144,
          145,
          146,
          147,
          148,
          149,
          150,
          151,
          152,
          153,
          154,
          155,
          156,
          157,
          158,
          159,
          160,
          161,
          162,
          163,
          164,
          165,
          166,
          167,
          168,
          169,
          170,
          171,
          172,
          173,
          174,
          175,
          176,
          177,
          178,
          179,
          180,
          181,
          182,
          183,
          184,
          185,
          186,
          187,
          188,
          189,
          190,
          191,
          192,
          193,
          194,
          195,
          196,
          197,
          198,
          199,
          200,
          201,
          202,
          203,
          204,
          205,
          206,
          207,
          208,
          209,
          210,
          211,
          212,
          213,
          214,
          215,
          216,
          217,
          218,
          219,
          220,
          221,
          222,
          223,
          224,
          225,
          226,
          227,
          228,
          229,
          230,
          231,
          232,
          233,
          234,
          235,
          236,
          237,
          238,
          239,
          240,
          241,
          242,
          243,
          244,
          245,
          246,
          247,
          248,
          249,
          250,
          251,
          252,
          253,
          254,
          255,
          256,
          257,
          258,
          259,
          260,
          261,
          262,
          263,
          264,
          265,
          266,
          267,
          268,
          269,
          270,
          271,
          272,
          273,
          274,
          275,
          276,
          277,
          278,
          279,
          280,
          281,
          282,
          283,
          284,
          285,
          286,
          287,
          288,
          289,
          290,
          291,
          292,
          293,
          294,
          295,
          296,
          297,
          298,
          299,
          300,
          301,
          302,
          303,
          304,
          305,
          306,
          307,
          308,
          309,
          310,
          311,
          312,
          313,
          314,
          315,
          316,
          317,
          318,
          319,
          320,
          321,
          322,
          323,
          324,
          325,
          326,
          327,
          328,
          329,
          330,
          331,
          332,
          333,
          334,
          335,
          336,
          337,
          338,
          339,
          340,
          341,
          342,
          343,
          344,
          345,
          346,
          347,
          348,
          349,
          350,
          351,
          352,
          353,
          354,
          355,
          356,
          357,
          358,
          359,
          360,
          361,
          362,
          363,
          364,
          365,
          366,
          367,
          368,
          369,
          370,
          371,
          372,
          373,
          374,
          375,
          376,
          377,
          378,
          379,
          380,
          381,
          382,
          383,
          384,
          385,
          386,
          387,
          388,
          389,
          390,
          391,
          392,
          393,
          394,
          395,
          396,
          397,
          398,
          399,
          400,
          401,
          402,
          403
         ],
         "y": [
          "MedInc",
          "MedInc",
          "MedInc",
          "AveOccup",
          "MedInc",
          "AveOccup",
          "HouseAge",
          "MedInc",
          "HouseAge",
          "MedInc",
          "AveOccup",
          "Latitude",
          "AveOccup",
          "HouseAge",
          "Latitude",
          "AveOccup",
          "MedInc",
          "Longitude",
          "Latitude",
          "Longitude",
          "AveBedrms",
          "Latitude",
          "Longitude",
          "Longitude",
          "Latitude",
          "AveBedrms",
          "Longitude",
          "AveBedrms",
          "Latitude",
          "Longitude",
          "Latitude",
          "Longitude",
          "Latitude",
          "AveBedrms",
          "Population",
          "AveOccup",
          "Latitude",
          "Longitude",
          "Latitude",
          "Longitude",
          "Latitude",
          "Longitude",
          "AveBedrms",
          "Latitude",
          "Longitude",
          "Latitude",
          "Longitude",
          "Latitude",
          "Longitude",
          "Latitude",
          "Longitude",
          "Latitude",
          "Latitude",
          "Longitude",
          "Latitude",
          "Longitude",
          "Latitude",
          "Longitude",
          "Population",
          "Longitude",
          "Latitude",
          "Latitude",
          "Longitude",
          "Latitude",
          "Longitude",
          "Latitude",
          "Latitude",
          "Longitude",
          "Latitude",
          "Latitude",
          "Longitude",
          "Latitude",
          "HouseAge",
          "Latitude",
          "Latitude",
          "Longitude",
          "Longitude",
          "Latitude",
          "Latitude",
          "Longitude",
          "Latitude",
          "Longitude",
          "Longitude",
          "Latitude",
          "Latitude",
          "Latitude",
          "Latitude",
          "Longitude",
          "Latitude",
          "Latitude",
          "Longitude",
          "Latitude",
          "Latitude",
          "Latitude",
          "AveBedrms",
          "Latitude",
          "Longitude",
          "Latitude",
          "Latitude",
          "HouseAge",
          "Latitude",
          "Latitude",
          "Latitude",
          "Latitude",
          "Latitude",
          "Latitude",
          "Latitude",
          "Latitude",
          "Latitude",
          "Latitude",
          "Longitude",
          "Latitude",
          "Latitude",
          "Latitude",
          "Latitude",
          "Latitude",
          "Latitude",
          "Longitude",
          "Latitude",
          "Latitude",
          "Latitude",
          "Latitude",
          "Latitude",
          "Latitude",
          "Latitude",
          "Latitude",
          "Latitude",
          "Latitude",
          "AveBedrms",
          "Longitude",
          "Latitude",
          "Latitude",
          "AveBedrms",
          "AveOccup",
          "Latitude",
          "Longitude",
          "Latitude",
          "Latitude",
          "Longitude",
          "HouseAge",
          "Latitude",
          "Latitude",
          "Latitude",
          "Latitude",
          "Longitude",
          "Latitude",
          "Latitude",
          "Latitude",
          "Latitude",
          "Longitude",
          "Latitude",
          "Latitude",
          "Latitude",
          "Latitude",
          "Latitude",
          "Latitude",
          "Latitude",
          "Longitude",
          "Longitude",
          "Latitude",
          "Latitude",
          "Latitude",
          "Latitude",
          "Latitude",
          "Latitude",
          "Latitude",
          "Latitude",
          "Latitude",
          "Latitude",
          "Longitude",
          "Longitude",
          "Latitude",
          "Longitude",
          "Latitude",
          "Latitude",
          "Latitude",
          "Latitude",
          "Latitude",
          "Latitude",
          "Latitude",
          "Latitude",
          "Latitude",
          "Longitude",
          "Latitude",
          "Latitude",
          "Latitude",
          "Latitude",
          "Latitude",
          "Latitude",
          "Latitude",
          "Latitude",
          "Latitude",
          "Latitude",
          "Latitude",
          "Latitude",
          "Latitude",
          "Latitude",
          "Latitude",
          "Latitude",
          "Latitude",
          "Latitude",
          "Latitude",
          "Latitude",
          "Latitude",
          "Latitude",
          "Latitude",
          "Latitude",
          "Latitude",
          "Latitude",
          "Latitude",
          "Latitude",
          "Latitude",
          "Latitude",
          "Latitude",
          "Latitude",
          "Latitude",
          "Latitude",
          "Latitude",
          "Latitude",
          "Latitude",
          "Latitude",
          "Latitude",
          "Latitude",
          "Latitude",
          "Latitude",
          "Latitude",
          "Longitude",
          "Longitude",
          "Longitude",
          "Latitude",
          "Latitude",
          "Longitude",
          "MedInc",
          "Longitude",
          "Latitude",
          "Latitude",
          "Latitude",
          "Latitude",
          "Latitude",
          "Latitude",
          "Latitude",
          "Latitude",
          "Latitude",
          "Latitude",
          "AveBedrms",
          "Latitude",
          "Latitude",
          "Latitude",
          "Latitude",
          "Latitude",
          "Latitude",
          "Latitude",
          "Longitude",
          "Latitude",
          "Latitude",
          "Latitude",
          "Latitude",
          "Latitude",
          "Latitude",
          "Longitude",
          "Latitude",
          "Latitude",
          "Latitude",
          "Latitude",
          "Latitude",
          "Latitude",
          "Latitude",
          "Latitude",
          "Latitude",
          "Latitude",
          "Latitude",
          "Latitude",
          "Latitude",
          "Latitude",
          "Latitude",
          "Latitude",
          "Longitude",
          "Latitude",
          "Longitude",
          "Latitude",
          "Latitude",
          "Latitude",
          "Latitude",
          "Latitude",
          "Latitude",
          "Latitude",
          "Latitude",
          "Latitude",
          "Latitude",
          "Latitude",
          "Latitude",
          "Latitude",
          "Latitude",
          "Latitude",
          "Latitude",
          "Latitude",
          "Latitude",
          "Latitude",
          "Latitude",
          "Latitude",
          "Latitude",
          "Latitude",
          "Latitude",
          "Latitude",
          "Latitude",
          "Latitude",
          "Latitude",
          "Latitude",
          "Latitude",
          "Latitude",
          "Latitude",
          "Latitude",
          "Latitude",
          "Latitude",
          "Latitude",
          "Latitude",
          "Latitude",
          "Latitude",
          "Latitude",
          "Latitude",
          "Latitude",
          "Latitude",
          "Latitude",
          "Latitude",
          "Latitude",
          "Latitude",
          "Latitude",
          "Latitude",
          "Latitude",
          "Latitude",
          "AveRooms",
          "Longitude",
          "Latitude",
          "Latitude",
          "Latitude",
          "Latitude",
          "Latitude",
          "Latitude",
          "Latitude",
          "Latitude",
          "Latitude",
          "Latitude",
          "MedInc",
          "AveOccup",
          "Latitude",
          "Latitude",
          "Latitude",
          "MedInc",
          "Latitude",
          "Latitude",
          "Longitude",
          "Latitude",
          "Latitude",
          "Latitude",
          "Latitude",
          "Latitude",
          "Latitude",
          "Latitude",
          "Latitude",
          "Latitude",
          "Latitude",
          "Latitude",
          "Longitude",
          "Latitude",
          "Longitude",
          "Latitude",
          "Latitude",
          "Latitude",
          "Longitude",
          "Latitude",
          "Latitude",
          "Latitude",
          "Longitude",
          "Latitude",
          "Latitude",
          "Latitude",
          "Latitude",
          "Latitude",
          "Latitude",
          "Latitude",
          "Latitude",
          "Latitude",
          "Latitude",
          "Latitude",
          "Latitude",
          "Latitude",
          "Latitude",
          "Latitude",
          "Latitude",
          "Longitude",
          "Longitude",
          "Latitude",
          "Longitude",
          "Latitude",
          "Latitude",
          "Latitude",
          "Latitude",
          "Latitude",
          "Latitude",
          "Latitude",
          "Latitude",
          "Latitude",
          "Latitude",
          "Latitude"
         ],
         "type": "scatter",
         "xaxis": "x",
         "yaxis": "y"
        }
       ],
       "layout": {
        "template": {
         "data": {
          "histogram2dcontour": [
           {
            "type": "histogram2dcontour",
            "colorbar": {
             "outlinewidth": 0,
             "ticks": ""
            },
            "colorscale": [
             [
              0.0,
              "#0d0887"
             ],
             [
              0.1111111111111111,
              "#46039f"
             ],
             [
              0.2222222222222222,
              "#7201a8"
             ],
             [
              0.3333333333333333,
              "#9c179e"
             ],
             [
              0.4444444444444444,
              "#bd3786"
             ],
             [
              0.5555555555555556,
              "#d8576b"
             ],
             [
              0.6666666666666666,
              "#ed7953"
             ],
             [
              0.7777777777777778,
              "#fb9f3a"
             ],
             [
              0.8888888888888888,
              "#fdca26"
             ],
             [
              1.0,
              "#f0f921"
             ]
            ]
           }
          ],
          "choropleth": [
           {
            "type": "choropleth",
            "colorbar": {
             "outlinewidth": 0,
             "ticks": ""
            }
           }
          ],
          "histogram2d": [
           {
            "type": "histogram2d",
            "colorbar": {
             "outlinewidth": 0,
             "ticks": ""
            },
            "colorscale": [
             [
              0.0,
              "#0d0887"
             ],
             [
              0.1111111111111111,
              "#46039f"
             ],
             [
              0.2222222222222222,
              "#7201a8"
             ],
             [
              0.3333333333333333,
              "#9c179e"
             ],
             [
              0.4444444444444444,
              "#bd3786"
             ],
             [
              0.5555555555555556,
              "#d8576b"
             ],
             [
              0.6666666666666666,
              "#ed7953"
             ],
             [
              0.7777777777777778,
              "#fb9f3a"
             ],
             [
              0.8888888888888888,
              "#fdca26"
             ],
             [
              1.0,
              "#f0f921"
             ]
            ]
           }
          ],
          "heatmap": [
           {
            "type": "heatmap",
            "colorbar": {
             "outlinewidth": 0,
             "ticks": ""
            },
            "colorscale": [
             [
              0.0,
              "#0d0887"
             ],
             [
              0.1111111111111111,
              "#46039f"
             ],
             [
              0.2222222222222222,
              "#7201a8"
             ],
             [
              0.3333333333333333,
              "#9c179e"
             ],
             [
              0.4444444444444444,
              "#bd3786"
             ],
             [
              0.5555555555555556,
              "#d8576b"
             ],
             [
              0.6666666666666666,
              "#ed7953"
             ],
             [
              0.7777777777777778,
              "#fb9f3a"
             ],
             [
              0.8888888888888888,
              "#fdca26"
             ],
             [
              1.0,
              "#f0f921"
             ]
            ]
           }
          ],
          "heatmapgl": [
           {
            "type": "heatmapgl",
            "colorbar": {
             "outlinewidth": 0,
             "ticks": ""
            },
            "colorscale": [
             [
              0.0,
              "#0d0887"
             ],
             [
              0.1111111111111111,
              "#46039f"
             ],
             [
              0.2222222222222222,
              "#7201a8"
             ],
             [
              0.3333333333333333,
              "#9c179e"
             ],
             [
              0.4444444444444444,
              "#bd3786"
             ],
             [
              0.5555555555555556,
              "#d8576b"
             ],
             [
              0.6666666666666666,
              "#ed7953"
             ],
             [
              0.7777777777777778,
              "#fb9f3a"
             ],
             [
              0.8888888888888888,
              "#fdca26"
             ],
             [
              1.0,
              "#f0f921"
             ]
            ]
           }
          ],
          "contourcarpet": [
           {
            "type": "contourcarpet",
            "colorbar": {
             "outlinewidth": 0,
             "ticks": ""
            }
           }
          ],
          "contour": [
           {
            "type": "contour",
            "colorbar": {
             "outlinewidth": 0,
             "ticks": ""
            },
            "colorscale": [
             [
              0.0,
              "#0d0887"
             ],
             [
              0.1111111111111111,
              "#46039f"
             ],
             [
              0.2222222222222222,
              "#7201a8"
             ],
             [
              0.3333333333333333,
              "#9c179e"
             ],
             [
              0.4444444444444444,
              "#bd3786"
             ],
             [
              0.5555555555555556,
              "#d8576b"
             ],
             [
              0.6666666666666666,
              "#ed7953"
             ],
             [
              0.7777777777777778,
              "#fb9f3a"
             ],
             [
              0.8888888888888888,
              "#fdca26"
             ],
             [
              1.0,
              "#f0f921"
             ]
            ]
           }
          ],
          "surface": [
           {
            "type": "surface",
            "colorbar": {
             "outlinewidth": 0,
             "ticks": ""
            },
            "colorscale": [
             [
              0.0,
              "#0d0887"
             ],
             [
              0.1111111111111111,
              "#46039f"
             ],
             [
              0.2222222222222222,
              "#7201a8"
             ],
             [
              0.3333333333333333,
              "#9c179e"
             ],
             [
              0.4444444444444444,
              "#bd3786"
             ],
             [
              0.5555555555555556,
              "#d8576b"
             ],
             [
              0.6666666666666666,
              "#ed7953"
             ],
             [
              0.7777777777777778,
              "#fb9f3a"
             ],
             [
              0.8888888888888888,
              "#fdca26"
             ],
             [
              1.0,
              "#f0f921"
             ]
            ]
           }
          ],
          "mesh3d": [
           {
            "type": "mesh3d",
            "colorbar": {
             "outlinewidth": 0,
             "ticks": ""
            }
           }
          ],
          "scatter": [
           {
            "fillpattern": {
             "fillmode": "overlay",
             "size": 10,
             "solidity": 0.2
            },
            "type": "scatter"
           }
          ],
          "parcoords": [
           {
            "type": "parcoords",
            "line": {
             "colorbar": {
              "outlinewidth": 0,
              "ticks": ""
             }
            }
           }
          ],
          "scatterpolargl": [
           {
            "type": "scatterpolargl",
            "marker": {
             "colorbar": {
              "outlinewidth": 0,
              "ticks": ""
             }
            }
           }
          ],
          "bar": [
           {
            "error_x": {
             "color": "#2a3f5f"
            },
            "error_y": {
             "color": "#2a3f5f"
            },
            "marker": {
             "line": {
              "color": "#E5ECF6",
              "width": 0.5
             },
             "pattern": {
              "fillmode": "overlay",
              "size": 10,
              "solidity": 0.2
             }
            },
            "type": "bar"
           }
          ],
          "scattergeo": [
           {
            "type": "scattergeo",
            "marker": {
             "colorbar": {
              "outlinewidth": 0,
              "ticks": ""
             }
            }
           }
          ],
          "scatterpolar": [
           {
            "type": "scatterpolar",
            "marker": {
             "colorbar": {
              "outlinewidth": 0,
              "ticks": ""
             }
            }
           }
          ],
          "histogram": [
           {
            "marker": {
             "pattern": {
              "fillmode": "overlay",
              "size": 10,
              "solidity": 0.2
             }
            },
            "type": "histogram"
           }
          ],
          "scattergl": [
           {
            "type": "scattergl",
            "marker": {
             "colorbar": {
              "outlinewidth": 0,
              "ticks": ""
             }
            }
           }
          ],
          "scatter3d": [
           {
            "type": "scatter3d",
            "line": {
             "colorbar": {
              "outlinewidth": 0,
              "ticks": ""
             }
            },
            "marker": {
             "colorbar": {
              "outlinewidth": 0,
              "ticks": ""
             }
            }
           }
          ],
          "scattermapbox": [
           {
            "type": "scattermapbox",
            "marker": {
             "colorbar": {
              "outlinewidth": 0,
              "ticks": ""
             }
            }
           }
          ],
          "scatterternary": [
           {
            "type": "scatterternary",
            "marker": {
             "colorbar": {
              "outlinewidth": 0,
              "ticks": ""
             }
            }
           }
          ],
          "scattercarpet": [
           {
            "type": "scattercarpet",
            "marker": {
             "colorbar": {
              "outlinewidth": 0,
              "ticks": ""
             }
            }
           }
          ],
          "carpet": [
           {
            "aaxis": {
             "endlinecolor": "#2a3f5f",
             "gridcolor": "white",
             "linecolor": "white",
             "minorgridcolor": "white",
             "startlinecolor": "#2a3f5f"
            },
            "baxis": {
             "endlinecolor": "#2a3f5f",
             "gridcolor": "white",
             "linecolor": "white",
             "minorgridcolor": "white",
             "startlinecolor": "#2a3f5f"
            },
            "type": "carpet"
           }
          ],
          "table": [
           {
            "cells": {
             "fill": {
              "color": "#EBF0F8"
             },
             "line": {
              "color": "white"
             }
            },
            "header": {
             "fill": {
              "color": "#C8D4E3"
             },
             "line": {
              "color": "white"
             }
            },
            "type": "table"
           }
          ],
          "barpolar": [
           {
            "marker": {
             "line": {
              "color": "#E5ECF6",
              "width": 0.5
             },
             "pattern": {
              "fillmode": "overlay",
              "size": 10,
              "solidity": 0.2
             }
            },
            "type": "barpolar"
           }
          ],
          "pie": [
           {
            "automargin": true,
            "type": "pie"
           }
          ]
         },
         "layout": {
          "autotypenumbers": "strict",
          "colorway": [
           "#636efa",
           "#EF553B",
           "#00cc96",
           "#ab63fa",
           "#FFA15A",
           "#19d3f3",
           "#FF6692",
           "#B6E880",
           "#FF97FF",
           "#FECB52"
          ],
          "font": {
           "color": "#2a3f5f"
          },
          "hovermode": "closest",
          "hoverlabel": {
           "align": "left"
          },
          "paper_bgcolor": "white",
          "plot_bgcolor": "#E5ECF6",
          "polar": {
           "bgcolor": "#E5ECF6",
           "angularaxis": {
            "gridcolor": "white",
            "linecolor": "white",
            "ticks": ""
           },
           "radialaxis": {
            "gridcolor": "white",
            "linecolor": "white",
            "ticks": ""
           }
          },
          "ternary": {
           "bgcolor": "#E5ECF6",
           "aaxis": {
            "gridcolor": "white",
            "linecolor": "white",
            "ticks": ""
           },
           "baxis": {
            "gridcolor": "white",
            "linecolor": "white",
            "ticks": ""
           },
           "caxis": {
            "gridcolor": "white",
            "linecolor": "white",
            "ticks": ""
           }
          },
          "coloraxis": {
           "colorbar": {
            "outlinewidth": 0,
            "ticks": ""
           }
          },
          "colorscale": {
           "sequential": [
            [
             0.0,
             "#0d0887"
            ],
            [
             0.1111111111111111,
             "#46039f"
            ],
            [
             0.2222222222222222,
             "#7201a8"
            ],
            [
             0.3333333333333333,
             "#9c179e"
            ],
            [
             0.4444444444444444,
             "#bd3786"
            ],
            [
             0.5555555555555556,
             "#d8576b"
            ],
            [
             0.6666666666666666,
             "#ed7953"
            ],
            [
             0.7777777777777778,
             "#fb9f3a"
            ],
            [
             0.8888888888888888,
             "#fdca26"
            ],
            [
             1.0,
             "#f0f921"
            ]
           ],
           "sequentialminus": [
            [
             0.0,
             "#0d0887"
            ],
            [
             0.1111111111111111,
             "#46039f"
            ],
            [
             0.2222222222222222,
             "#7201a8"
            ],
            [
             0.3333333333333333,
             "#9c179e"
            ],
            [
             0.4444444444444444,
             "#bd3786"
            ],
            [
             0.5555555555555556,
             "#d8576b"
            ],
            [
             0.6666666666666666,
             "#ed7953"
            ],
            [
             0.7777777777777778,
             "#fb9f3a"
            ],
            [
             0.8888888888888888,
             "#fdca26"
            ],
            [
             1.0,
             "#f0f921"
            ]
           ],
           "diverging": [
            [
             0,
             "#8e0152"
            ],
            [
             0.1,
             "#c51b7d"
            ],
            [
             0.2,
             "#de77ae"
            ],
            [
             0.3,
             "#f1b6da"
            ],
            [
             0.4,
             "#fde0ef"
            ],
            [
             0.5,
             "#f7f7f7"
            ],
            [
             0.6,
             "#e6f5d0"
            ],
            [
             0.7,
             "#b8e186"
            ],
            [
             0.8,
             "#7fbc41"
            ],
            [
             0.9,
             "#4d9221"
            ],
            [
             1,
             "#276419"
            ]
           ]
          },
          "xaxis": {
           "gridcolor": "white",
           "linecolor": "white",
           "ticks": "",
           "title": {
            "standoff": 15
           },
           "zerolinecolor": "white",
           "automargin": true,
           "zerolinewidth": 2
          },
          "yaxis": {
           "gridcolor": "white",
           "linecolor": "white",
           "ticks": "",
           "title": {
            "standoff": 15
           },
           "zerolinecolor": "white",
           "automargin": true,
           "zerolinewidth": 2
          },
          "scene": {
           "xaxis": {
            "backgroundcolor": "#E5ECF6",
            "gridcolor": "white",
            "linecolor": "white",
            "showbackground": true,
            "ticks": "",
            "zerolinecolor": "white",
            "gridwidth": 2
           },
           "yaxis": {
            "backgroundcolor": "#E5ECF6",
            "gridcolor": "white",
            "linecolor": "white",
            "showbackground": true,
            "ticks": "",
            "zerolinecolor": "white",
            "gridwidth": 2
           },
           "zaxis": {
            "backgroundcolor": "#E5ECF6",
            "gridcolor": "white",
            "linecolor": "white",
            "showbackground": true,
            "ticks": "",
            "zerolinecolor": "white",
            "gridwidth": 2
           }
          },
          "shapedefaults": {
           "line": {
            "color": "#2a3f5f"
           }
          },
          "annotationdefaults": {
           "arrowcolor": "#2a3f5f",
           "arrowhead": 0,
           "arrowwidth": 1
          },
          "geo": {
           "bgcolor": "white",
           "landcolor": "#E5ECF6",
           "subunitcolor": "white",
           "showland": true,
           "showlakes": true,
           "lakecolor": "white"
          },
          "title": {
           "x": 0.05
          },
          "mapbox": {
           "style": "light"
          }
         }
        },
        "xaxis": {
         "anchor": "y",
         "domain": [
          0.0,
          0.94
         ],
         "title": {
          "text": "Number of iterations"
         }
        },
        "yaxis": {
         "anchor": "x",
         "domain": [
          0.0,
          1.0
         ],
         "title": {
          "text": "Selected feature"
         }
        },
        "yaxis2": {
         "anchor": "x",
         "overlaying": "y",
         "side": "right",
         "title": {
          "text": "RMSE MedHouseVal"
         }
        },
        "showlegend": true,
        "title": {
         "text": "Iteration history"
        }
       },
       "config": {
        "plotlyServerURL": "https://plot.ly"
       }
      },
      "text/html": "<div>                            <div id=\"bc95e5d5-0f55-4c8c-bf5c-08d3fbbd8b59\" class=\"plotly-graph-div\" style=\"height:525px; width:100%;\"></div>            <script type=\"text/javascript\">                require([\"plotly\"], function(Plotly) {                    window.PLOTLYENV=window.PLOTLYENV || {};                                    if (document.getElementById(\"bc95e5d5-0f55-4c8c-bf5c-08d3fbbd8b59\")) {                    Plotly.newPlot(                        \"bc95e5d5-0f55-4c8c-bf5c-08d3fbbd8b59\",                        [{\"line\":{\"color\":\"red\"},\"name\":\"validation rmse\",\"x\":[0,1,2,3,4,5,6,7,8,9,10,11,12,13,14,15,16,17,18,19,20,21,22,23,24,25,26,27,28,29,30,31,32,33,34,35,36,37,38,39,40,41,42,43,44,45,46,47,48,49,50,51,52,53,54,55,56,57,58,59,60,61,62,63,64,65,66,67,68,69,70,71,72,73,74,75,76,77,78,79,80,81,82,83,84,85,86,87,88,89,90,91,92,93,94,95,96,97,98,99,100,101,102,103,104,105,106,107,108,109,110,111,112,113,114,115,116,117,118,119,120,121,122,123,124,125,126,127,128,129,130,131,132,133,134,135,136,137,138,139,140,141,142,143,144,145,146,147,148,149,150,151,152,153,154,155,156,157,158,159,160,161,162,163,164,165,166,167,168,169,170,171,172,173,174,175,176,177,178,179,180,181,182,183,184,185,186,187,188,189,190,191,192,193,194,195,196,197,198,199,200,201,202,203,204,205,206,207,208,209,210,211,212,213,214,215,216,217,218,219,220,221,222,223,224,225,226,227,228,229,230,231,232,233,234,235,236,237,238,239,240,241,242,243,244,245,246,247,248,249,250,251,252,253,254,255,256,257,258,259,260,261,262,263,264,265,266,267,268,269,270,271,272,273,274,275,276,277,278,279,280,281,282,283,284,285,286,287,288,289,290,291,292,293,294,295,296,297,298,299,300,301,302,303,304,305,306,307,308,309,310,311,312,313,314,315,316,317,318,319,320,321,322,323,324,325,326,327,328,329,330,331,332,333,334,335,336,337,338,339,340,341,342,343,344,345,346,347,348,349,350,351,352,353,354,355,356,357,358,359,360,361,362,363,364,365,366,367,368,369,370,371,372,373,374,375,376,377,378,379,380,381,382,383,384,385,386,387,388,389,390,391,392,393,394,395,396,397,398,399,400,401,402,403],\"y\":[1.020675597922731,0.9338467491696746,0.8892086373359208,0.8596328389764899,0.8376078260153982,0.8183202310634298,0.8068493629969768,0.792446273404231,0.7846329673572043,0.7773268576579768,0.7676757123449964,0.7361318638673618,0.731361782170858,0.7290494889194153,0.7090537887624939,0.7062628359343478,0.7039891325474427,0.6789035893137242,0.670876624050563,0.6526557019799738,0.6503464142946224,0.6475480055764666,0.6376766582249053,0.6296333471509349,0.6247843577897625,0.6239140849055645,0.6196683404692189,0.6186596486165361,0.6178224821997323,0.6171107774503813,0.6153153256200014,0.6145767289442842,0.613788539799074,0.613534543042314,0.6130845100700877,0.6127339487710429,0.6108001783445707,0.6088744075208667,0.6085025334470705,0.6067574008791622,0.606141112847362,0.6062534423694517,0.6055403367011437,0.6048927187353721,0.6047950000423188,0.6036695322103847,0.6029172853495588,0.6025925681038692,0.6022603924532001,0.6018355411349404,0.6029426836132021,0.6033720725345045,0.6027507147318896,0.6018610793028388,0.6011095053025121,0.6004437360259197,0.600316453631298,0.5993855543114304,0.5990282021989839,0.5987554125739264,0.5988992639909357,0.5992224767542357,0.5990386906515622,0.5988709738657625,0.5990842877263711,0.598688546296372,0.5986626687823104,0.5978053396003211,0.5974314894950309,0.5966184290185851,0.5961804556754956,0.5953821864709257,0.5949171166535604,0.5948914078325951,0.5948471347842995,0.594893979565501,0.5945179096265437,0.5948815071963133,0.5954104611973854,0.5951136163972854,0.5948009309398736,0.5955173602271283,0.5952911467019718,0.595640116125774,0.5955416151764772,0.5946239834627306,0.5940673248241903,0.5942983697631397,0.5943277250093401,0.5940007083442977,0.5929522616335801,0.5928500113537363,0.5932212256262847,0.593342667226555,0.5933230411245543,0.5934528287432959,0.5937438937392131,0.5939242802496462,0.5935866431527795,0.5925051031790461,0.5929038135704735,0.5930078953414432,0.5932649886668298,0.5931142606358383,0.5938828429046588,0.5940892569149155,0.5944751731523895,0.5943247269728666,0.5949320902324882,0.5952701504933154,0.5950743505910656,0.5958229944625799,0.5958770706723553,0.5953144307845191,0.5950715028294541,0.5947316478747172,0.5949953129456494,0.5945335659213571,0.5945058517090904,0.5949247516891585,0.594784431634478,0.5947453208397512,0.5949077075806579,0.5954195051636424,0.5955398551152019,0.5963112154760025,0.5964428717221576,0.5966947492312749,0.5964863783063412,0.5956557843179154,0.5957633879393124,0.5942659073597301,0.5943769035604162,0.5945480473994611,0.5930362406720786,0.5929223716089593,0.5931887110476228,0.5934731908498332,0.5927742799300459,0.5928778874574,0.5931200224005092,0.5926260626152672,0.5927821824259327,0.5924372677416123,0.5932862384533895,0.5933055252800801,0.5930746093852897,0.5933764609950506,0.5934682401238978,0.5932095157813903,0.5928140944699702,0.592734850583724,0.5927452375086371,0.5926006327583957,0.5929351519630729,0.5926359094984589,0.5926687253116948,0.5926736086180746,0.5925614462865573,0.5919893460999345,0.591585813195283,0.5921484225812329,0.5920511965887756,0.5920026253123786,0.5925778074888929,0.5930394857993789,0.5928591690409843,0.5922872118448578,0.5922291320732903,0.5929676262950689,0.5925917378394795,0.5927235290566314,0.5924295907630404,0.5933666441275427,0.5931642476416843,0.5944899601367438,0.594696935176117,0.594310125574905,0.5937379865716219,0.5939610545985295,0.5938773821193197,0.5932845217260796,0.5934403853857182,0.5940972839268324,0.5946833888670646,0.5950523663246154,0.5956062020116424,0.5951201848813367,0.5951401052136182,0.595367735549259,0.5951828736717251,0.5947638211183581,0.5948899544342799,0.5947078547467163,0.5945848195502058,0.5948304991435364,0.5946390296029256,0.595380327056474,0.5956057711132343,0.5958602353469071,0.5962217786877204,0.5956491133184872,0.5952474558504652,0.5948320047172777,0.5946591036309021,0.5947210350877278,0.5945355003702637,0.594203350073136,0.5942215872254496,0.5949628009788154,0.5955421178009401,0.5961425348231401,0.5959085920819005,0.5957768078836269,0.5959620105877812,0.595172832061941,0.5953586773180172,0.596238040739694,0.5962034963054423,0.5954036891640755,0.5946714957675936,0.5951458566521265,0.5953838700794866,0.5950902554319514,0.5951204152614917,0.5953971981557286,0.5948522287606773,0.5951667251918896,0.5952106425012892,0.5944557449946483,0.5946048104364672,0.5943228455654939,0.5935193193547342,0.5930094225148821,0.5924165034449196,0.5923220471743909,0.5927042030182931,0.5922206782793287,0.5931435651317906,0.5931474560625992,0.5931884631419494,0.5927494352383008,0.5932658473911793,0.5931804432548174,0.5931315233093302,0.5930541778915236,0.5933573939627016,0.593417521780045,0.5924873399383151,0.5923337768164219,0.59237622729189,0.5918314924596738,0.5909684318208307,0.590607252946,0.5916069939456543,0.5908762669691981,0.5922684721356184,0.5918416885765843,0.5917909714656719,0.591637325296562,0.5915726821276746,0.5916522219354823,0.5910626612886247,0.5914054249318557,0.5912393297337295,0.5916119104635248,0.5918093179226743,0.5914428660720868,0.5917475023531381,0.5917158161694223,0.5924759766926034,0.5923727639425975,0.592969495539532,0.5929613608450077,0.5931442420692578,0.5929065919113099,0.5926791787555613,0.5923431142797498,0.5921885859195156,0.5923947162471399,0.5922101708002434,0.5921755005575473,0.591259412482358,0.5910395616114452,0.5906342809051083,0.5906301650942419,0.5918141349380236,0.5918495603569944,0.5920609311952116,0.590750407086172,0.5914978311891661,0.5920176964305186,0.5920249907619151,0.5924460432748949,0.592207209268496,0.5918440192958074,0.5920946588768814,0.5922517668622486,0.5914195926074087,0.5917050078447903,0.5912666753161515,0.591955676854965,0.5923235877920539,0.5919773910710291,0.591338680424448,0.5922594897119356,0.592016147064506,0.5922108468244737,0.592070740008774,0.5931210757641275,0.5924795135139014,0.5923253481220312,0.5915486013384702,0.592972142589551,0.5923353205049702,0.5923131298094231,0.5926905521892045,0.5924416054008497,0.5930465034987479,0.593022388701116,0.5918605692439157,0.5915650919097263,0.5905842677295975,0.5906976069862284,0.5907710498030481,0.5907072732984887,0.5905363693062329,0.5908302909087403,0.5902501533261669,0.5899715346925182,0.5889496018566477,0.5890518393402985,0.5897890230207162,0.5893003972711867,0.5887040593846677,0.5889019573861336,0.5891840842140352,0.5892118861247626,0.5891027558524139,0.5889168972745874,0.5889677419100392,0.5883320244345975,0.5879733418904224,0.5877978082155466,0.5872327090277102,0.5873544536079522,0.5874552771607312,0.5868267767150775,0.5868524853237064,0.5867070075678218,0.5866628034810605,0.5882457563491582,0.588242286951085,0.5885547390246176,0.5887688204377894,0.5895397320932652,0.589790018499178,0.5896472656321081,0.5881912206598822,0.588178310090663,0.5881886240671013,0.5879008869991263,0.5872375332458557,0.588211926960825,0.587209155931853,0.5871249572629174,0.5871542602663425,0.5870268001166943,0.5866166299992197,0.5863934464727096,0.5861720641841583,0.5865886421115046,0.5860073093600073,0.5872695633675422,0.5877668986185486,0.5877084034633853,0.5877602797212077,0.588916139086986,0.5889086731396952,0.5885577085803991,0.5894398599132523,0.5891107584703558,0.5910492903473211,0.5912468122816744,0.5911980373701242,0.5907618285895305,0.5898714560138921,0.5879408940205982,0.5877668694561271,0.5878791524116211,0.5880124237659488,0.5876341012369499,0.5883992778715222,0.5879199740858441,0.5873841112208724,0.587617197796569,0.5869557666991317,0.5868083799110185,0.5871632808940811,0.5862405375379478,0.5850902112680644,0.5850884711276161,0.585200211366401,0.5852384990897478,0.5848207458328863,0.584964656071309,0.5857090124571154,0.5857179398881811,0.5856642743992119,0.5854862531618833,0.5853274326427184,0.5852807703249725,0.5857412299542207,0.5854623329319936,0.5859516673313854,0.5862851620747596,0.5864107782091471,0.5864609570552112,0.5869096232311664,0.5870662324155783,0.5872565293996833,0.5871335660045678,0.5865849642299875,0.5865752554296961,0.5862735035261779,0.5863297080584581,0.5866427547117771,0.5867367002068457,0.5865162793299663,0.586029743183169,0.5861358938939675,0.586288886804902,0.58704069243034,0.5872047760466695,0.5873459238312181,0.5881599655379192,0.5878926322443532,0.5869729064905549,0.5877094313020659,0.5874420200402476,0.5873412437563656,0.5872335209393262,0.587160930804374,0.5873926125971282,0.5869180545662389,0.5872392592427117,0.5868763838565082,0.5875025046834054,0.5872698108731194,0.5868999221603953,0.5873799002294262,0.587101876540037,0.5869420606683641,0.5877411900960748,0.588601287248494,0.5889143520481235,0.5888903048920434,0.5886794452897214,0.5880540467702088,0.5879088621169166,0.5875653959070803,0.5881374645869525,0.5871022687986194,0.5870069289767768,0.5865151325745124,0.5858137280422684,0.5868129575726053,0.5877443119841866,0.587519251536913,0.5875153571799807,0.5876739195050793,0.5868844889411433,0.5889492486468272,0.5890262691032716,0.5898909026202956,0.5894815876600908,0.5893307336574741,0.5895067370520992,0.5897121490046751,0.5895915494558984,0.5895236594671592,0.5905694488453274,0.5900645058558481,0.5898024034607143,0.5905803832992496,0.5902408836912995,0.5897936405705337,0.5897490268933757,0.5892067439968333,0.5891353583537007,0.5887994297945391,0.5888381228292707,0.5887857946736055,0.5885701624831599,0.5882209683348312,0.5882720105715072,0.5885836944678905,0.5887113528025882,0.5889770434980383],\"type\":\"scatter\",\"xaxis\":\"x\",\"yaxis\":\"y2\"},{\"line\":{\"color\":\"blue\"},\"name\":\"training rmse\",\"x\":[0,1,2,3,4,5,6,7,8,9,10,11,12,13,14,15,16,17,18,19,20,21,22,23,24,25,26,27,28,29,30,31,32,33,34,35,36,37,38,39,40,41,42,43,44,45,46,47,48,49,50,51,52,53,54,55,56,57,58,59,60,61,62,63,64,65,66,67,68,69,70,71,72,73,74,75,76,77,78,79,80,81,82,83,84,85,86,87,88,89,90,91,92,93,94,95,96,97,98,99,100,101,102,103,104,105,106,107,108,109,110,111,112,113,114,115,116,117,118,119,120,121,122,123,124,125,126,127,128,129,130,131,132,133,134,135,136,137,138,139,140,141,142,143,144,145,146,147,148,149,150,151,152,153,154,155,156,157,158,159,160,161,162,163,164,165,166,167,168,169,170,171,172,173,174,175,176,177,178,179,180,181,182,183,184,185,186,187,188,189,190,191,192,193,194,195,196,197,198,199,200,201,202,203,204,205,206,207,208,209,210,211,212,213,214,215,216,217,218,219,220,221,222,223,224,225,226,227,228,229,230,231,232,233,234,235,236,237,238,239,240,241,242,243,244,245,246,247,248,249,250,251,252,253,254,255,256,257,258,259,260,261,262,263,264,265,266,267,268,269,270,271,272,273,274,275,276,277,278,279,280,281,282,283,284,285,286,287,288,289,290,291,292,293,294,295,296,297,298,299,300,301,302,303,304,305,306,307,308,309,310,311,312,313,314,315,316,317,318,319,320,321,322,323,324,325,326,327,328,329,330,331,332,333,334,335,336,337,338,339,340,341,342,343,344,345,346,347,348,349,350,351,352,353,354,355,356,357,358,359,360,361,362,363,364,365,366,367,368,369,370,371,372,373,374,375,376,377,378,379,380,381,382,383,384,385,386,387,388,389,390,391,392,393,394,395,396,397,398,399,400,401,402,403],\"y\":[1.0012382920949872,0.9135983275044005,0.8673756909960504,0.8371004367904935,0.8141408563664697,0.7961197213554373,0.7840462731788838,0.7691332945142453,0.7615982099225428,0.7534478525377024,0.7442493051080102,0.7131280515057409,0.7079540484690401,0.7045519731682894,0.6858690220738991,0.6830750982876752,0.6800733559097181,0.6561094878193563,0.6493876111433047,0.6336762941032944,0.63141884098638,0.6276832398544603,0.6192491686665054,0.6140174933317373,0.611005775447768,0.6101758220525896,0.6071489124449091,0.606217669629579,0.603978921948392,0.6030100519088012,0.6012051557814815,0.5993485922631269,0.5981648324860632,0.5976215065356945,0.5970704067577464,0.5964290657233048,0.5942396073679808,0.5928613337323965,0.5917870567239506,0.5909657147247737,0.5906561586776974,0.5905285921055273,0.5901813995725571,0.58960975414261,0.5897439818680821,0.5885947921428749,0.5882079183991972,0.5877503265671896,0.5874367670772664,0.5867835923389572,0.5864332466223939,0.5864589003275429,0.5859932905804918,0.5852554034970135,0.5846693872834982,0.5842672619825733,0.5841331492516016,0.5836393904593411,0.5832555398585278,0.5831033863187838,0.5831116859856549,0.5822411849406615,0.5822587993925884,0.5816087963757369,0.5816703413026657,0.5810922788842262,0.58113302282509,0.5804422729043947,0.5802553226162588,0.5793046912726421,0.5787459558066788,0.5783319635870213,0.5779618805196933,0.5778625835947446,0.5775761623171928,0.5776904014257739,0.5771538300372664,0.5771463110253274,0.5771841500251172,0.5770317241646323,0.5767523401221274,0.5767242038845993,0.5766706486504419,0.5766310953984813,0.576518370143599,0.5764334833031769,0.5762278653752069,0.5760919271709988,0.5761294534874177,0.5762650282851961,0.5756555541305216,0.5755287116790059,0.5757278937697619,0.5757798513889575,0.5756676156930108,0.5756052647618249,0.5753982208090254,0.57525425870945,0.5751804115103725,0.5750421170279386,0.5752437677240076,0.5754101383221318,0.5755082932723178,0.5752050448767355,0.5754325570274933,0.575426224625448,0.5755534478437347,0.5752372334491493,0.5754923080519325,0.5757280391163822,0.5755298000164442,0.5758096782736172,0.5758275187893371,0.5759424082480266,0.5756338508183025,0.5755118179538101,0.5754535436859316,0.5750914013306653,0.5752008048920757,0.57526893284707,0.5751528933465826,0.5751203954854169,0.5752115249192775,0.5754710427806163,0.5756228468991034,0.575780364527266,0.5754493964240538,0.5755997451355614,0.5755292111243396,0.5753947286635069,0.5754802030714173,0.5746304993517909,0.5744510715239006,0.5741240932787688,0.5736165542550695,0.5734732054885339,0.5737350330224948,0.5738267522038909,0.573902109906921,0.5738142975086499,0.5735212873039921,0.5735774164503264,0.5735948562482394,0.5733455910343417,0.5738061143475509,0.5738496664092082,0.573642672562226,0.5737989423856722,0.5736200938360495,0.5738233042339397,0.5737845466421609,0.5737552378766478,0.5735989489581613,0.5738651671061334,0.5738216852907466,0.5738159345272478,0.573768616809038,0.5738058194893272,0.5741463817583755,0.5741426090319198,0.5744833906019263,0.5747317122154199,0.574570739293837,0.5745140745652446,0.5746680604853224,0.5752633519766347,0.5750277139089895,0.57458050485728,0.5744592109913335,0.5749716431709258,0.5746593494509978,0.5746209898391558,0.5743241748804478,0.5744043739101556,0.5742913103968768,0.5747881232099208,0.5749892071436051,0.5748556884087912,0.5746188330192208,0.5747436553010834,0.5748882782520001,0.5749255148633199,0.5749135052669582,0.5749059237530174,0.575335773789981,0.5752554569837108,0.5757964479840519,0.5754575169844361,0.5754466676380579,0.5754464924512397,0.5754445609149972,0.5751716776193662,0.5751012000562074,0.5749569608509394,0.5749219416275264,0.5748617328692055,0.574867026981436,0.574931304146256,0.5749571580866999,0.575216300863465,0.5756008742135986,0.5755270775839265,0.5753392692235016,0.5752587160473176,0.5751465732440438,0.5751655628502677,0.5747061895282592,0.57512323460836,0.5750966457410679,0.5752249918308803,0.5755310925285958,0.5756038128373795,0.5756145030048337,0.5756882515121432,0.5756582642758329,0.5756034284028899,0.5756423497557811,0.5756904278483711,0.5755854612073124,0.5754795233042537,0.5750657032081417,0.5748836470063324,0.5750511788368667,0.5752192137058042,0.5751783625012663,0.5750630611384545,0.5751974197093401,0.5751924562862086,0.5752568019124771,0.575295897452687,0.5754499457513813,0.5758791516488687,0.5750713520731214,0.5749373647349889,0.5746320462155422,0.5745973674597976,0.5748708890416557,0.5747252083094787,0.5751237240584615,0.5750807299243725,0.5749299160620298,0.5749331238189481,0.5751175489631768,0.5749745548298332,0.5748402128830763,0.574738281899095,0.5747345774855144,0.5746647971439452,0.5742735419360432,0.5741780001211625,0.5742881293862819,0.5738953013380537,0.5732696134498906,0.5733195753925429,0.5732350617214187,0.5729808487870686,0.5734019914039542,0.5734469653034997,0.5734917013428542,0.5734976846527656,0.5734483799649958,0.573442230562409,0.5735275627578187,0.5735900613485044,0.57374773216722,0.5737775593434288,0.5738284670737677,0.5736420398676634,0.5735959586396977,0.5733957739777944,0.573779365483676,0.5737256545985633,0.5738311544453215,0.5738152139979096,0.5738284544269707,0.5737583686101408,0.5735412255384175,0.5737184725900001,0.573347707938212,0.5733210233464231,0.5731085462574173,0.5731171520461475,0.5730518124655803,0.57290996456269,0.5728476699852474,0.5727633665650463,0.5729210264177687,0.5729296853304015,0.5729721567292692,0.5725817502032974,0.5727147876766467,0.5729443136587538,0.5728965656196271,0.5731720970253018,0.5730560147485285,0.573005970714478,0.5729549707229465,0.5732421426706856,0.573056816045762,0.5730543443038786,0.5731509889858917,0.5734147984218961,0.5735015070091852,0.5735661110801937,0.573342476716779,0.5735490437625129,0.5736187471763986,0.5735471205416435,0.5734990639458828,0.5738419646491818,0.5733645054042575,0.5733240150457553,0.5730334890833668,0.5735096701434701,0.573403337130082,0.5736562825624681,0.5738788721485334,0.5737888398032063,0.5739818775917269,0.57410366347783,0.5738387509116588,0.5739903707047896,0.5739825297784634,0.5739672846422169,0.5738005083799345,0.5736920784662902,0.5735164003559176,0.5736335819187747,0.5733520135503053,0.5733459998268683,0.5713681481615875,0.5714590365755454,0.5714122765850164,0.571301431628444,0.571013873444049,0.5714073317498491,0.571479730666184,0.5712345822250343,0.5712823161952618,0.5712376660980251,0.5712052717331243,0.571180196489525,0.5709105194021221,0.5704195198979264,0.5704948514366787,0.5707667896009986,0.5707518726793488,0.5703471321824777,0.5702691764336181,0.570426438795097,0.5704306314655508,0.5708561282261898,0.5711334380760095,0.5713472177369319,0.5713524820462973,0.5715849450188826,0.5716552429112117,0.5719522632854444,0.5710935779255182,0.5711526045650308,0.5709642202730614,0.5708463215936652,0.5706447218623588,0.5709104306722194,0.5705608471286374,0.5706261994192019,0.5706223467779028,0.5701897176966342,0.570100238069574,0.5700980644007845,0.5698090729712428,0.569886525375133,0.5699650348703876,0.5703174893116997,0.5702606565017168,0.5702535584176751,0.5704022752712314,0.5705505681077622,0.5701134067940735,0.5700836928610125,0.5707548785697345,0.5707404599283208,0.5717355808388057,0.5718549386316782,0.5718507280228969,0.5716348053239193,0.5709904627026751,0.569838435444157,0.5698526573079034,0.5697219305964055,0.5695503782512364,0.5692944673393485,0.5692269946023897,0.5691950079671794,0.569164657065787,0.5690032933008141,0.5690161394451625,0.5690696146266686,0.5692555653636695,0.5689562134299025,0.5687167132741189,0.5686954527356246,0.5689001842775648,0.5689153049129572,0.5690355396207168,0.5689962812963582,0.5690173260605453,0.5689374793811562,0.5688054386141026,0.5685518282583052,0.5687834578806026,0.5684658284989119,0.5688173260375834,0.5688907068761182,0.5687983209034868,0.5688151749499656,0.568699206588557,0.568728636283981,0.5687491664546376,0.5688178437920243,0.5688230136820097,0.5685986848722306,0.5685997274887163,0.5687220044273511,0.5685923931269418,0.5682646351459665,0.5682741992865029,0.5684311803331504,0.5684553973954375,0.568457230527137,0.56746441211671,0.5676404958799902,0.5678289607595316,0.5679886073121491,0.5678164461002053,0.5679124374801897,0.5678690678056799,0.5675312788049227,0.5676792165351708,0.5677911360809107,0.5679821731524535,0.5676121917985124,0.5675989024887341,0.5678905789191526,0.5677608796702265,0.5677788604916285,0.5676048840858559,0.5679119111940972,0.5682646334850996,0.5683521522368891,0.5688099059629507,0.5684942244479951,0.5684125042513872,0.5684564579975294,0.5687330998591263,0.5689029514421508,0.5688787305161764,0.5687041595354633,0.5684339165982679,0.5684743108048497,0.5684852356047496,0.5688796119081572,0.5684811990987954,0.5684858738759895,0.5683589074291576,0.5680464891441557,0.5683882057253884,0.5684550293978368,0.5683790739678128,0.5684432072846644,0.5686754121102607,0.5682896088576774,0.5686145906997617,0.5686495609204232,0.5693655853153087,0.5694532683204739,0.5693069333648895,0.5693247246397257,0.5693341653449692,0.5692390714580254,0.569071120247741,0.5691605818121228,0.5691252413665557,0.5688869774635177,0.5689519224937938,0.568871678237468,0.5687989005548302,0.568937121720928,0.5687572875850062,0.5685404113422106,0.5684684105034902,0.5677404399822038,0.5679024861413134,0.5680239697351499,0.5680539099257302,0.5685009923410168,0.5686922079155915,0.5685051922670463,0.5687298031576212],\"type\":\"scatter\",\"xaxis\":\"x\",\"yaxis\":\"y2\"},{\"marker\":{\"color\":\"green\",\"size\":1.3,\"symbol\":\"square\"},\"mode\":\"markers\",\"name\":\"feature\",\"x\":[0,1,2,3,4,5,6,7,8,9,10,11,12,13,14,15,16,17,18,19,20,21,22,23,24,25,26,27,28,29,30,31,32,33,34,35,36,37,38,39,40,41,42,43,44,45,46,47,48,49,50,51,52,53,54,55,56,57,58,59,60,61,62,63,64,65,66,67,68,69,70,71,72,73,74,75,76,77,78,79,80,81,82,83,84,85,86,87,88,89,90,91,92,93,94,95,96,97,98,99,100,101,102,103,104,105,106,107,108,109,110,111,112,113,114,115,116,117,118,119,120,121,122,123,124,125,126,127,128,129,130,131,132,133,134,135,136,137,138,139,140,141,142,143,144,145,146,147,148,149,150,151,152,153,154,155,156,157,158,159,160,161,162,163,164,165,166,167,168,169,170,171,172,173,174,175,176,177,178,179,180,181,182,183,184,185,186,187,188,189,190,191,192,193,194,195,196,197,198,199,200,201,202,203,204,205,206,207,208,209,210,211,212,213,214,215,216,217,218,219,220,221,222,223,224,225,226,227,228,229,230,231,232,233,234,235,236,237,238,239,240,241,242,243,244,245,246,247,248,249,250,251,252,253,254,255,256,257,258,259,260,261,262,263,264,265,266,267,268,269,270,271,272,273,274,275,276,277,278,279,280,281,282,283,284,285,286,287,288,289,290,291,292,293,294,295,296,297,298,299,300,301,302,303,304,305,306,307,308,309,310,311,312,313,314,315,316,317,318,319,320,321,322,323,324,325,326,327,328,329,330,331,332,333,334,335,336,337,338,339,340,341,342,343,344,345,346,347,348,349,350,351,352,353,354,355,356,357,358,359,360,361,362,363,364,365,366,367,368,369,370,371,372,373,374,375,376,377,378,379,380,381,382,383,384,385,386,387,388,389,390,391,392,393,394,395,396,397,398,399,400,401,402,403],\"y\":[\"MedInc\",\"MedInc\",\"MedInc\",\"AveOccup\",\"MedInc\",\"AveOccup\",\"HouseAge\",\"MedInc\",\"HouseAge\",\"MedInc\",\"AveOccup\",\"Latitude\",\"AveOccup\",\"HouseAge\",\"Latitude\",\"AveOccup\",\"MedInc\",\"Longitude\",\"Latitude\",\"Longitude\",\"AveBedrms\",\"Latitude\",\"Longitude\",\"Longitude\",\"Latitude\",\"AveBedrms\",\"Longitude\",\"AveBedrms\",\"Latitude\",\"Longitude\",\"Latitude\",\"Longitude\",\"Latitude\",\"AveBedrms\",\"Population\",\"AveOccup\",\"Latitude\",\"Longitude\",\"Latitude\",\"Longitude\",\"Latitude\",\"Longitude\",\"AveBedrms\",\"Latitude\",\"Longitude\",\"Latitude\",\"Longitude\",\"Latitude\",\"Longitude\",\"Latitude\",\"Longitude\",\"Latitude\",\"Latitude\",\"Longitude\",\"Latitude\",\"Longitude\",\"Latitude\",\"Longitude\",\"Population\",\"Longitude\",\"Latitude\",\"Latitude\",\"Longitude\",\"Latitude\",\"Longitude\",\"Latitude\",\"Latitude\",\"Longitude\",\"Latitude\",\"Latitude\",\"Longitude\",\"Latitude\",\"HouseAge\",\"Latitude\",\"Latitude\",\"Longitude\",\"Longitude\",\"Latitude\",\"Latitude\",\"Longitude\",\"Latitude\",\"Longitude\",\"Longitude\",\"Latitude\",\"Latitude\",\"Latitude\",\"Latitude\",\"Longitude\",\"Latitude\",\"Latitude\",\"Longitude\",\"Latitude\",\"Latitude\",\"Latitude\",\"AveBedrms\",\"Latitude\",\"Longitude\",\"Latitude\",\"Latitude\",\"HouseAge\",\"Latitude\",\"Latitude\",\"Latitude\",\"Latitude\",\"Latitude\",\"Latitude\",\"Latitude\",\"Latitude\",\"Latitude\",\"Latitude\",\"Longitude\",\"Latitude\",\"Latitude\",\"Latitude\",\"Latitude\",\"Latitude\",\"Latitude\",\"Longitude\",\"Latitude\",\"Latitude\",\"Latitude\",\"Latitude\",\"Latitude\",\"Latitude\",\"Latitude\",\"Latitude\",\"Latitude\",\"Latitude\",\"AveBedrms\",\"Longitude\",\"Latitude\",\"Latitude\",\"AveBedrms\",\"AveOccup\",\"Latitude\",\"Longitude\",\"Latitude\",\"Latitude\",\"Longitude\",\"HouseAge\",\"Latitude\",\"Latitude\",\"Latitude\",\"Latitude\",\"Longitude\",\"Latitude\",\"Latitude\",\"Latitude\",\"Latitude\",\"Longitude\",\"Latitude\",\"Latitude\",\"Latitude\",\"Latitude\",\"Latitude\",\"Latitude\",\"Latitude\",\"Longitude\",\"Longitude\",\"Latitude\",\"Latitude\",\"Latitude\",\"Latitude\",\"Latitude\",\"Latitude\",\"Latitude\",\"Latitude\",\"Latitude\",\"Latitude\",\"Longitude\",\"Longitude\",\"Latitude\",\"Longitude\",\"Latitude\",\"Latitude\",\"Latitude\",\"Latitude\",\"Latitude\",\"Latitude\",\"Latitude\",\"Latitude\",\"Latitude\",\"Longitude\",\"Latitude\",\"Latitude\",\"Latitude\",\"Latitude\",\"Latitude\",\"Latitude\",\"Latitude\",\"Latitude\",\"Latitude\",\"Latitude\",\"Latitude\",\"Latitude\",\"Latitude\",\"Latitude\",\"Latitude\",\"Latitude\",\"Latitude\",\"Latitude\",\"Latitude\",\"Latitude\",\"Latitude\",\"Latitude\",\"Latitude\",\"Latitude\",\"Latitude\",\"Latitude\",\"Latitude\",\"Latitude\",\"Latitude\",\"Latitude\",\"Latitude\",\"Latitude\",\"Latitude\",\"Latitude\",\"Latitude\",\"Latitude\",\"Latitude\",\"Latitude\",\"Latitude\",\"Latitude\",\"Latitude\",\"Latitude\",\"Latitude\",\"Longitude\",\"Longitude\",\"Longitude\",\"Latitude\",\"Latitude\",\"Longitude\",\"MedInc\",\"Longitude\",\"Latitude\",\"Latitude\",\"Latitude\",\"Latitude\",\"Latitude\",\"Latitude\",\"Latitude\",\"Latitude\",\"Latitude\",\"Latitude\",\"AveBedrms\",\"Latitude\",\"Latitude\",\"Latitude\",\"Latitude\",\"Latitude\",\"Latitude\",\"Latitude\",\"Longitude\",\"Latitude\",\"Latitude\",\"Latitude\",\"Latitude\",\"Latitude\",\"Latitude\",\"Longitude\",\"Latitude\",\"Latitude\",\"Latitude\",\"Latitude\",\"Latitude\",\"Latitude\",\"Latitude\",\"Latitude\",\"Latitude\",\"Latitude\",\"Latitude\",\"Latitude\",\"Latitude\",\"Latitude\",\"Latitude\",\"Latitude\",\"Longitude\",\"Latitude\",\"Longitude\",\"Latitude\",\"Latitude\",\"Latitude\",\"Latitude\",\"Latitude\",\"Latitude\",\"Latitude\",\"Latitude\",\"Latitude\",\"Latitude\",\"Latitude\",\"Latitude\",\"Latitude\",\"Latitude\",\"Latitude\",\"Latitude\",\"Latitude\",\"Latitude\",\"Latitude\",\"Latitude\",\"Latitude\",\"Latitude\",\"Latitude\",\"Latitude\",\"Latitude\",\"Latitude\",\"Latitude\",\"Latitude\",\"Latitude\",\"Latitude\",\"Latitude\",\"Latitude\",\"Latitude\",\"Latitude\",\"Latitude\",\"Latitude\",\"Latitude\",\"Latitude\",\"Latitude\",\"Latitude\",\"Latitude\",\"Latitude\",\"Latitude\",\"Latitude\",\"Latitude\",\"Latitude\",\"Latitude\",\"Latitude\",\"Latitude\",\"Latitude\",\"Latitude\",\"AveRooms\",\"Longitude\",\"Latitude\",\"Latitude\",\"Latitude\",\"Latitude\",\"Latitude\",\"Latitude\",\"Latitude\",\"Latitude\",\"Latitude\",\"Latitude\",\"MedInc\",\"AveOccup\",\"Latitude\",\"Latitude\",\"Latitude\",\"MedInc\",\"Latitude\",\"Latitude\",\"Longitude\",\"Latitude\",\"Latitude\",\"Latitude\",\"Latitude\",\"Latitude\",\"Latitude\",\"Latitude\",\"Latitude\",\"Latitude\",\"Latitude\",\"Latitude\",\"Longitude\",\"Latitude\",\"Longitude\",\"Latitude\",\"Latitude\",\"Latitude\",\"Longitude\",\"Latitude\",\"Latitude\",\"Latitude\",\"Longitude\",\"Latitude\",\"Latitude\",\"Latitude\",\"Latitude\",\"Latitude\",\"Latitude\",\"Latitude\",\"Latitude\",\"Latitude\",\"Latitude\",\"Latitude\",\"Latitude\",\"Latitude\",\"Latitude\",\"Latitude\",\"Latitude\",\"Longitude\",\"Longitude\",\"Latitude\",\"Longitude\",\"Latitude\",\"Latitude\",\"Latitude\",\"Latitude\",\"Latitude\",\"Latitude\",\"Latitude\",\"Latitude\",\"Latitude\",\"Latitude\",\"Latitude\"],\"type\":\"scatter\",\"xaxis\":\"x\",\"yaxis\":\"y\"}],                        {\"template\":{\"data\":{\"histogram2dcontour\":[{\"type\":\"histogram2dcontour\",\"colorbar\":{\"outlinewidth\":0,\"ticks\":\"\"},\"colorscale\":[[0.0,\"#0d0887\"],[0.1111111111111111,\"#46039f\"],[0.2222222222222222,\"#7201a8\"],[0.3333333333333333,\"#9c179e\"],[0.4444444444444444,\"#bd3786\"],[0.5555555555555556,\"#d8576b\"],[0.6666666666666666,\"#ed7953\"],[0.7777777777777778,\"#fb9f3a\"],[0.8888888888888888,\"#fdca26\"],[1.0,\"#f0f921\"]]}],\"choropleth\":[{\"type\":\"choropleth\",\"colorbar\":{\"outlinewidth\":0,\"ticks\":\"\"}}],\"histogram2d\":[{\"type\":\"histogram2d\",\"colorbar\":{\"outlinewidth\":0,\"ticks\":\"\"},\"colorscale\":[[0.0,\"#0d0887\"],[0.1111111111111111,\"#46039f\"],[0.2222222222222222,\"#7201a8\"],[0.3333333333333333,\"#9c179e\"],[0.4444444444444444,\"#bd3786\"],[0.5555555555555556,\"#d8576b\"],[0.6666666666666666,\"#ed7953\"],[0.7777777777777778,\"#fb9f3a\"],[0.8888888888888888,\"#fdca26\"],[1.0,\"#f0f921\"]]}],\"heatmap\":[{\"type\":\"heatmap\",\"colorbar\":{\"outlinewidth\":0,\"ticks\":\"\"},\"colorscale\":[[0.0,\"#0d0887\"],[0.1111111111111111,\"#46039f\"],[0.2222222222222222,\"#7201a8\"],[0.3333333333333333,\"#9c179e\"],[0.4444444444444444,\"#bd3786\"],[0.5555555555555556,\"#d8576b\"],[0.6666666666666666,\"#ed7953\"],[0.7777777777777778,\"#fb9f3a\"],[0.8888888888888888,\"#fdca26\"],[1.0,\"#f0f921\"]]}],\"heatmapgl\":[{\"type\":\"heatmapgl\",\"colorbar\":{\"outlinewidth\":0,\"ticks\":\"\"},\"colorscale\":[[0.0,\"#0d0887\"],[0.1111111111111111,\"#46039f\"],[0.2222222222222222,\"#7201a8\"],[0.3333333333333333,\"#9c179e\"],[0.4444444444444444,\"#bd3786\"],[0.5555555555555556,\"#d8576b\"],[0.6666666666666666,\"#ed7953\"],[0.7777777777777778,\"#fb9f3a\"],[0.8888888888888888,\"#fdca26\"],[1.0,\"#f0f921\"]]}],\"contourcarpet\":[{\"type\":\"contourcarpet\",\"colorbar\":{\"outlinewidth\":0,\"ticks\":\"\"}}],\"contour\":[{\"type\":\"contour\",\"colorbar\":{\"outlinewidth\":0,\"ticks\":\"\"},\"colorscale\":[[0.0,\"#0d0887\"],[0.1111111111111111,\"#46039f\"],[0.2222222222222222,\"#7201a8\"],[0.3333333333333333,\"#9c179e\"],[0.4444444444444444,\"#bd3786\"],[0.5555555555555556,\"#d8576b\"],[0.6666666666666666,\"#ed7953\"],[0.7777777777777778,\"#fb9f3a\"],[0.8888888888888888,\"#fdca26\"],[1.0,\"#f0f921\"]]}],\"surface\":[{\"type\":\"surface\",\"colorbar\":{\"outlinewidth\":0,\"ticks\":\"\"},\"colorscale\":[[0.0,\"#0d0887\"],[0.1111111111111111,\"#46039f\"],[0.2222222222222222,\"#7201a8\"],[0.3333333333333333,\"#9c179e\"],[0.4444444444444444,\"#bd3786\"],[0.5555555555555556,\"#d8576b\"],[0.6666666666666666,\"#ed7953\"],[0.7777777777777778,\"#fb9f3a\"],[0.8888888888888888,\"#fdca26\"],[1.0,\"#f0f921\"]]}],\"mesh3d\":[{\"type\":\"mesh3d\",\"colorbar\":{\"outlinewidth\":0,\"ticks\":\"\"}}],\"scatter\":[{\"fillpattern\":{\"fillmode\":\"overlay\",\"size\":10,\"solidity\":0.2},\"type\":\"scatter\"}],\"parcoords\":[{\"type\":\"parcoords\",\"line\":{\"colorbar\":{\"outlinewidth\":0,\"ticks\":\"\"}}}],\"scatterpolargl\":[{\"type\":\"scatterpolargl\",\"marker\":{\"colorbar\":{\"outlinewidth\":0,\"ticks\":\"\"}}}],\"bar\":[{\"error_x\":{\"color\":\"#2a3f5f\"},\"error_y\":{\"color\":\"#2a3f5f\"},\"marker\":{\"line\":{\"color\":\"#E5ECF6\",\"width\":0.5},\"pattern\":{\"fillmode\":\"overlay\",\"size\":10,\"solidity\":0.2}},\"type\":\"bar\"}],\"scattergeo\":[{\"type\":\"scattergeo\",\"marker\":{\"colorbar\":{\"outlinewidth\":0,\"ticks\":\"\"}}}],\"scatterpolar\":[{\"type\":\"scatterpolar\",\"marker\":{\"colorbar\":{\"outlinewidth\":0,\"ticks\":\"\"}}}],\"histogram\":[{\"marker\":{\"pattern\":{\"fillmode\":\"overlay\",\"size\":10,\"solidity\":0.2}},\"type\":\"histogram\"}],\"scattergl\":[{\"type\":\"scattergl\",\"marker\":{\"colorbar\":{\"outlinewidth\":0,\"ticks\":\"\"}}}],\"scatter3d\":[{\"type\":\"scatter3d\",\"line\":{\"colorbar\":{\"outlinewidth\":0,\"ticks\":\"\"}},\"marker\":{\"colorbar\":{\"outlinewidth\":0,\"ticks\":\"\"}}}],\"scattermapbox\":[{\"type\":\"scattermapbox\",\"marker\":{\"colorbar\":{\"outlinewidth\":0,\"ticks\":\"\"}}}],\"scatterternary\":[{\"type\":\"scatterternary\",\"marker\":{\"colorbar\":{\"outlinewidth\":0,\"ticks\":\"\"}}}],\"scattercarpet\":[{\"type\":\"scattercarpet\",\"marker\":{\"colorbar\":{\"outlinewidth\":0,\"ticks\":\"\"}}}],\"carpet\":[{\"aaxis\":{\"endlinecolor\":\"#2a3f5f\",\"gridcolor\":\"white\",\"linecolor\":\"white\",\"minorgridcolor\":\"white\",\"startlinecolor\":\"#2a3f5f\"},\"baxis\":{\"endlinecolor\":\"#2a3f5f\",\"gridcolor\":\"white\",\"linecolor\":\"white\",\"minorgridcolor\":\"white\",\"startlinecolor\":\"#2a3f5f\"},\"type\":\"carpet\"}],\"table\":[{\"cells\":{\"fill\":{\"color\":\"#EBF0F8\"},\"line\":{\"color\":\"white\"}},\"header\":{\"fill\":{\"color\":\"#C8D4E3\"},\"line\":{\"color\":\"white\"}},\"type\":\"table\"}],\"barpolar\":[{\"marker\":{\"line\":{\"color\":\"#E5ECF6\",\"width\":0.5},\"pattern\":{\"fillmode\":\"overlay\",\"size\":10,\"solidity\":0.2}},\"type\":\"barpolar\"}],\"pie\":[{\"automargin\":true,\"type\":\"pie\"}]},\"layout\":{\"autotypenumbers\":\"strict\",\"colorway\":[\"#636efa\",\"#EF553B\",\"#00cc96\",\"#ab63fa\",\"#FFA15A\",\"#19d3f3\",\"#FF6692\",\"#B6E880\",\"#FF97FF\",\"#FECB52\"],\"font\":{\"color\":\"#2a3f5f\"},\"hovermode\":\"closest\",\"hoverlabel\":{\"align\":\"left\"},\"paper_bgcolor\":\"white\",\"plot_bgcolor\":\"#E5ECF6\",\"polar\":{\"bgcolor\":\"#E5ECF6\",\"angularaxis\":{\"gridcolor\":\"white\",\"linecolor\":\"white\",\"ticks\":\"\"},\"radialaxis\":{\"gridcolor\":\"white\",\"linecolor\":\"white\",\"ticks\":\"\"}},\"ternary\":{\"bgcolor\":\"#E5ECF6\",\"aaxis\":{\"gridcolor\":\"white\",\"linecolor\":\"white\",\"ticks\":\"\"},\"baxis\":{\"gridcolor\":\"white\",\"linecolor\":\"white\",\"ticks\":\"\"},\"caxis\":{\"gridcolor\":\"white\",\"linecolor\":\"white\",\"ticks\":\"\"}},\"coloraxis\":{\"colorbar\":{\"outlinewidth\":0,\"ticks\":\"\"}},\"colorscale\":{\"sequential\":[[0.0,\"#0d0887\"],[0.1111111111111111,\"#46039f\"],[0.2222222222222222,\"#7201a8\"],[0.3333333333333333,\"#9c179e\"],[0.4444444444444444,\"#bd3786\"],[0.5555555555555556,\"#d8576b\"],[0.6666666666666666,\"#ed7953\"],[0.7777777777777778,\"#fb9f3a\"],[0.8888888888888888,\"#fdca26\"],[1.0,\"#f0f921\"]],\"sequentialminus\":[[0.0,\"#0d0887\"],[0.1111111111111111,\"#46039f\"],[0.2222222222222222,\"#7201a8\"],[0.3333333333333333,\"#9c179e\"],[0.4444444444444444,\"#bd3786\"],[0.5555555555555556,\"#d8576b\"],[0.6666666666666666,\"#ed7953\"],[0.7777777777777778,\"#fb9f3a\"],[0.8888888888888888,\"#fdca26\"],[1.0,\"#f0f921\"]],\"diverging\":[[0,\"#8e0152\"],[0.1,\"#c51b7d\"],[0.2,\"#de77ae\"],[0.3,\"#f1b6da\"],[0.4,\"#fde0ef\"],[0.5,\"#f7f7f7\"],[0.6,\"#e6f5d0\"],[0.7,\"#b8e186\"],[0.8,\"#7fbc41\"],[0.9,\"#4d9221\"],[1,\"#276419\"]]},\"xaxis\":{\"gridcolor\":\"white\",\"linecolor\":\"white\",\"ticks\":\"\",\"title\":{\"standoff\":15},\"zerolinecolor\":\"white\",\"automargin\":true,\"zerolinewidth\":2},\"yaxis\":{\"gridcolor\":\"white\",\"linecolor\":\"white\",\"ticks\":\"\",\"title\":{\"standoff\":15},\"zerolinecolor\":\"white\",\"automargin\":true,\"zerolinewidth\":2},\"scene\":{\"xaxis\":{\"backgroundcolor\":\"#E5ECF6\",\"gridcolor\":\"white\",\"linecolor\":\"white\",\"showbackground\":true,\"ticks\":\"\",\"zerolinecolor\":\"white\",\"gridwidth\":2},\"yaxis\":{\"backgroundcolor\":\"#E5ECF6\",\"gridcolor\":\"white\",\"linecolor\":\"white\",\"showbackground\":true,\"ticks\":\"\",\"zerolinecolor\":\"white\",\"gridwidth\":2},\"zaxis\":{\"backgroundcolor\":\"#E5ECF6\",\"gridcolor\":\"white\",\"linecolor\":\"white\",\"showbackground\":true,\"ticks\":\"\",\"zerolinecolor\":\"white\",\"gridwidth\":2}},\"shapedefaults\":{\"line\":{\"color\":\"#2a3f5f\"}},\"annotationdefaults\":{\"arrowcolor\":\"#2a3f5f\",\"arrowhead\":0,\"arrowwidth\":1},\"geo\":{\"bgcolor\":\"white\",\"landcolor\":\"#E5ECF6\",\"subunitcolor\":\"white\",\"showland\":true,\"showlakes\":true,\"lakecolor\":\"white\"},\"title\":{\"x\":0.05},\"mapbox\":{\"style\":\"light\"}}},\"xaxis\":{\"anchor\":\"y\",\"domain\":[0.0,0.94],\"title\":{\"text\":\"Number of iterations\"}},\"yaxis\":{\"anchor\":\"x\",\"domain\":[0.0,1.0],\"title\":{\"text\":\"Selected feature\"}},\"yaxis2\":{\"anchor\":\"x\",\"overlaying\":\"y\",\"side\":\"right\",\"title\":{\"text\":\"RMSE MedHouseVal\"}},\"showlegend\":true,\"title\":{\"text\":\"Iteration history\"}},                        {\"responsive\": true}                    ).then(function(){\n                            \nvar gd = document.getElementById('bc95e5d5-0f55-4c8c-bf5c-08d3fbbd8b59');\nvar x = new MutationObserver(function (mutations, observer) {{\n        var display = window.getComputedStyle(gd).display;\n        if (!display || display === 'none') {{\n            console.log([gd, 'removed!']);\n            Plotly.purge(gd);\n            observer.disconnect();\n        }}\n}});\n\n// Listen for the removal of the full notebook cells\nvar notebookContainer = gd.closest('#notebook-container');\nif (notebookContainer) {{\n    x.observe(notebookContainer, {childList: true});\n}}\n\n// Listen for the clearing of the current output cell\nvar outputEl = gd.closest('.output');\nif (outputEl) {{\n    x.observe(outputEl, {childList: true});\n}}\n\n                        })                };                });            </script>        </div>"
     },
     "metadata": {},
     "output_type": "display_data"
    },
    {
     "data": {
      "application/vnd.plotly.v1+json": {
       "data": [
        {
         "alignmentgroup": "True",
         "hovertemplate": "variable=0<br>value=%{x}<br>index=%{y}<extra></extra>",
         "legendgroup": "0",
         "marker": {
          "color": "#636efa",
          "pattern": {
           "shape": ""
          }
         },
         "name": "0",
         "offsetgroup": "0",
         "orientation": "h",
         "showlegend": true,
         "textposition": "auto",
         "x": [
          33,
          35,
          35,
          62,
          81,
          89,
          167,
          191
         ],
         "xaxis": "x",
         "y": [
          "HouseAge",
          "AveRooms",
          "Population",
          "AveBedrms",
          "AveOccup",
          "MedInc",
          "Latitude",
          "Longitude"
         ],
         "yaxis": "y",
         "type": "bar"
        }
       ],
       "layout": {
        "template": {
         "data": {
          "histogram2dcontour": [
           {
            "type": "histogram2dcontour",
            "colorbar": {
             "outlinewidth": 0,
             "ticks": ""
            },
            "colorscale": [
             [
              0.0,
              "#0d0887"
             ],
             [
              0.1111111111111111,
              "#46039f"
             ],
             [
              0.2222222222222222,
              "#7201a8"
             ],
             [
              0.3333333333333333,
              "#9c179e"
             ],
             [
              0.4444444444444444,
              "#bd3786"
             ],
             [
              0.5555555555555556,
              "#d8576b"
             ],
             [
              0.6666666666666666,
              "#ed7953"
             ],
             [
              0.7777777777777778,
              "#fb9f3a"
             ],
             [
              0.8888888888888888,
              "#fdca26"
             ],
             [
              1.0,
              "#f0f921"
             ]
            ]
           }
          ],
          "choropleth": [
           {
            "type": "choropleth",
            "colorbar": {
             "outlinewidth": 0,
             "ticks": ""
            }
           }
          ],
          "histogram2d": [
           {
            "type": "histogram2d",
            "colorbar": {
             "outlinewidth": 0,
             "ticks": ""
            },
            "colorscale": [
             [
              0.0,
              "#0d0887"
             ],
             [
              0.1111111111111111,
              "#46039f"
             ],
             [
              0.2222222222222222,
              "#7201a8"
             ],
             [
              0.3333333333333333,
              "#9c179e"
             ],
             [
              0.4444444444444444,
              "#bd3786"
             ],
             [
              0.5555555555555556,
              "#d8576b"
             ],
             [
              0.6666666666666666,
              "#ed7953"
             ],
             [
              0.7777777777777778,
              "#fb9f3a"
             ],
             [
              0.8888888888888888,
              "#fdca26"
             ],
             [
              1.0,
              "#f0f921"
             ]
            ]
           }
          ],
          "heatmap": [
           {
            "type": "heatmap",
            "colorbar": {
             "outlinewidth": 0,
             "ticks": ""
            },
            "colorscale": [
             [
              0.0,
              "#0d0887"
             ],
             [
              0.1111111111111111,
              "#46039f"
             ],
             [
              0.2222222222222222,
              "#7201a8"
             ],
             [
              0.3333333333333333,
              "#9c179e"
             ],
             [
              0.4444444444444444,
              "#bd3786"
             ],
             [
              0.5555555555555556,
              "#d8576b"
             ],
             [
              0.6666666666666666,
              "#ed7953"
             ],
             [
              0.7777777777777778,
              "#fb9f3a"
             ],
             [
              0.8888888888888888,
              "#fdca26"
             ],
             [
              1.0,
              "#f0f921"
             ]
            ]
           }
          ],
          "heatmapgl": [
           {
            "type": "heatmapgl",
            "colorbar": {
             "outlinewidth": 0,
             "ticks": ""
            },
            "colorscale": [
             [
              0.0,
              "#0d0887"
             ],
             [
              0.1111111111111111,
              "#46039f"
             ],
             [
              0.2222222222222222,
              "#7201a8"
             ],
             [
              0.3333333333333333,
              "#9c179e"
             ],
             [
              0.4444444444444444,
              "#bd3786"
             ],
             [
              0.5555555555555556,
              "#d8576b"
             ],
             [
              0.6666666666666666,
              "#ed7953"
             ],
             [
              0.7777777777777778,
              "#fb9f3a"
             ],
             [
              0.8888888888888888,
              "#fdca26"
             ],
             [
              1.0,
              "#f0f921"
             ]
            ]
           }
          ],
          "contourcarpet": [
           {
            "type": "contourcarpet",
            "colorbar": {
             "outlinewidth": 0,
             "ticks": ""
            }
           }
          ],
          "contour": [
           {
            "type": "contour",
            "colorbar": {
             "outlinewidth": 0,
             "ticks": ""
            },
            "colorscale": [
             [
              0.0,
              "#0d0887"
             ],
             [
              0.1111111111111111,
              "#46039f"
             ],
             [
              0.2222222222222222,
              "#7201a8"
             ],
             [
              0.3333333333333333,
              "#9c179e"
             ],
             [
              0.4444444444444444,
              "#bd3786"
             ],
             [
              0.5555555555555556,
              "#d8576b"
             ],
             [
              0.6666666666666666,
              "#ed7953"
             ],
             [
              0.7777777777777778,
              "#fb9f3a"
             ],
             [
              0.8888888888888888,
              "#fdca26"
             ],
             [
              1.0,
              "#f0f921"
             ]
            ]
           }
          ],
          "surface": [
           {
            "type": "surface",
            "colorbar": {
             "outlinewidth": 0,
             "ticks": ""
            },
            "colorscale": [
             [
              0.0,
              "#0d0887"
             ],
             [
              0.1111111111111111,
              "#46039f"
             ],
             [
              0.2222222222222222,
              "#7201a8"
             ],
             [
              0.3333333333333333,
              "#9c179e"
             ],
             [
              0.4444444444444444,
              "#bd3786"
             ],
             [
              0.5555555555555556,
              "#d8576b"
             ],
             [
              0.6666666666666666,
              "#ed7953"
             ],
             [
              0.7777777777777778,
              "#fb9f3a"
             ],
             [
              0.8888888888888888,
              "#fdca26"
             ],
             [
              1.0,
              "#f0f921"
             ]
            ]
           }
          ],
          "mesh3d": [
           {
            "type": "mesh3d",
            "colorbar": {
             "outlinewidth": 0,
             "ticks": ""
            }
           }
          ],
          "scatter": [
           {
            "fillpattern": {
             "fillmode": "overlay",
             "size": 10,
             "solidity": 0.2
            },
            "type": "scatter"
           }
          ],
          "parcoords": [
           {
            "type": "parcoords",
            "line": {
             "colorbar": {
              "outlinewidth": 0,
              "ticks": ""
             }
            }
           }
          ],
          "scatterpolargl": [
           {
            "type": "scatterpolargl",
            "marker": {
             "colorbar": {
              "outlinewidth": 0,
              "ticks": ""
             }
            }
           }
          ],
          "bar": [
           {
            "error_x": {
             "color": "#2a3f5f"
            },
            "error_y": {
             "color": "#2a3f5f"
            },
            "marker": {
             "line": {
              "color": "#E5ECF6",
              "width": 0.5
             },
             "pattern": {
              "fillmode": "overlay",
              "size": 10,
              "solidity": 0.2
             }
            },
            "type": "bar"
           }
          ],
          "scattergeo": [
           {
            "type": "scattergeo",
            "marker": {
             "colorbar": {
              "outlinewidth": 0,
              "ticks": ""
             }
            }
           }
          ],
          "scatterpolar": [
           {
            "type": "scatterpolar",
            "marker": {
             "colorbar": {
              "outlinewidth": 0,
              "ticks": ""
             }
            }
           }
          ],
          "histogram": [
           {
            "marker": {
             "pattern": {
              "fillmode": "overlay",
              "size": 10,
              "solidity": 0.2
             }
            },
            "type": "histogram"
           }
          ],
          "scattergl": [
           {
            "type": "scattergl",
            "marker": {
             "colorbar": {
              "outlinewidth": 0,
              "ticks": ""
             }
            }
           }
          ],
          "scatter3d": [
           {
            "type": "scatter3d",
            "line": {
             "colorbar": {
              "outlinewidth": 0,
              "ticks": ""
             }
            },
            "marker": {
             "colorbar": {
              "outlinewidth": 0,
              "ticks": ""
             }
            }
           }
          ],
          "scattermapbox": [
           {
            "type": "scattermapbox",
            "marker": {
             "colorbar": {
              "outlinewidth": 0,
              "ticks": ""
             }
            }
           }
          ],
          "scatterternary": [
           {
            "type": "scatterternary",
            "marker": {
             "colorbar": {
              "outlinewidth": 0,
              "ticks": ""
             }
            }
           }
          ],
          "scattercarpet": [
           {
            "type": "scattercarpet",
            "marker": {
             "colorbar": {
              "outlinewidth": 0,
              "ticks": ""
             }
            }
           }
          ],
          "carpet": [
           {
            "aaxis": {
             "endlinecolor": "#2a3f5f",
             "gridcolor": "white",
             "linecolor": "white",
             "minorgridcolor": "white",
             "startlinecolor": "#2a3f5f"
            },
            "baxis": {
             "endlinecolor": "#2a3f5f",
             "gridcolor": "white",
             "linecolor": "white",
             "minorgridcolor": "white",
             "startlinecolor": "#2a3f5f"
            },
            "type": "carpet"
           }
          ],
          "table": [
           {
            "cells": {
             "fill": {
              "color": "#EBF0F8"
             },
             "line": {
              "color": "white"
             }
            },
            "header": {
             "fill": {
              "color": "#C8D4E3"
             },
             "line": {
              "color": "white"
             }
            },
            "type": "table"
           }
          ],
          "barpolar": [
           {
            "marker": {
             "line": {
              "color": "#E5ECF6",
              "width": 0.5
             },
             "pattern": {
              "fillmode": "overlay",
              "size": 10,
              "solidity": 0.2
             }
            },
            "type": "barpolar"
           }
          ],
          "pie": [
           {
            "automargin": true,
            "type": "pie"
           }
          ]
         },
         "layout": {
          "autotypenumbers": "strict",
          "colorway": [
           "#636efa",
           "#EF553B",
           "#00cc96",
           "#ab63fa",
           "#FFA15A",
           "#19d3f3",
           "#FF6692",
           "#B6E880",
           "#FF97FF",
           "#FECB52"
          ],
          "font": {
           "color": "#2a3f5f"
          },
          "hovermode": "closest",
          "hoverlabel": {
           "align": "left"
          },
          "paper_bgcolor": "white",
          "plot_bgcolor": "#E5ECF6",
          "polar": {
           "bgcolor": "#E5ECF6",
           "angularaxis": {
            "gridcolor": "white",
            "linecolor": "white",
            "ticks": ""
           },
           "radialaxis": {
            "gridcolor": "white",
            "linecolor": "white",
            "ticks": ""
           }
          },
          "ternary": {
           "bgcolor": "#E5ECF6",
           "aaxis": {
            "gridcolor": "white",
            "linecolor": "white",
            "ticks": ""
           },
           "baxis": {
            "gridcolor": "white",
            "linecolor": "white",
            "ticks": ""
           },
           "caxis": {
            "gridcolor": "white",
            "linecolor": "white",
            "ticks": ""
           }
          },
          "coloraxis": {
           "colorbar": {
            "outlinewidth": 0,
            "ticks": ""
           }
          },
          "colorscale": {
           "sequential": [
            [
             0.0,
             "#0d0887"
            ],
            [
             0.1111111111111111,
             "#46039f"
            ],
            [
             0.2222222222222222,
             "#7201a8"
            ],
            [
             0.3333333333333333,
             "#9c179e"
            ],
            [
             0.4444444444444444,
             "#bd3786"
            ],
            [
             0.5555555555555556,
             "#d8576b"
            ],
            [
             0.6666666666666666,
             "#ed7953"
            ],
            [
             0.7777777777777778,
             "#fb9f3a"
            ],
            [
             0.8888888888888888,
             "#fdca26"
            ],
            [
             1.0,
             "#f0f921"
            ]
           ],
           "sequentialminus": [
            [
             0.0,
             "#0d0887"
            ],
            [
             0.1111111111111111,
             "#46039f"
            ],
            [
             0.2222222222222222,
             "#7201a8"
            ],
            [
             0.3333333333333333,
             "#9c179e"
            ],
            [
             0.4444444444444444,
             "#bd3786"
            ],
            [
             0.5555555555555556,
             "#d8576b"
            ],
            [
             0.6666666666666666,
             "#ed7953"
            ],
            [
             0.7777777777777778,
             "#fb9f3a"
            ],
            [
             0.8888888888888888,
             "#fdca26"
            ],
            [
             1.0,
             "#f0f921"
            ]
           ],
           "diverging": [
            [
             0,
             "#8e0152"
            ],
            [
             0.1,
             "#c51b7d"
            ],
            [
             0.2,
             "#de77ae"
            ],
            [
             0.3,
             "#f1b6da"
            ],
            [
             0.4,
             "#fde0ef"
            ],
            [
             0.5,
             "#f7f7f7"
            ],
            [
             0.6,
             "#e6f5d0"
            ],
            [
             0.7,
             "#b8e186"
            ],
            [
             0.8,
             "#7fbc41"
            ],
            [
             0.9,
             "#4d9221"
            ],
            [
             1,
             "#276419"
            ]
           ]
          },
          "xaxis": {
           "gridcolor": "white",
           "linecolor": "white",
           "ticks": "",
           "title": {
            "standoff": 15
           },
           "zerolinecolor": "white",
           "automargin": true,
           "zerolinewidth": 2
          },
          "yaxis": {
           "gridcolor": "white",
           "linecolor": "white",
           "ticks": "",
           "title": {
            "standoff": 15
           },
           "zerolinecolor": "white",
           "automargin": true,
           "zerolinewidth": 2
          },
          "scene": {
           "xaxis": {
            "backgroundcolor": "#E5ECF6",
            "gridcolor": "white",
            "linecolor": "white",
            "showbackground": true,
            "ticks": "",
            "zerolinecolor": "white",
            "gridwidth": 2
           },
           "yaxis": {
            "backgroundcolor": "#E5ECF6",
            "gridcolor": "white",
            "linecolor": "white",
            "showbackground": true,
            "ticks": "",
            "zerolinecolor": "white",
            "gridwidth": 2
           },
           "zaxis": {
            "backgroundcolor": "#E5ECF6",
            "gridcolor": "white",
            "linecolor": "white",
            "showbackground": true,
            "ticks": "",
            "zerolinecolor": "white",
            "gridwidth": 2
           }
          },
          "shapedefaults": {
           "line": {
            "color": "#2a3f5f"
           }
          },
          "annotationdefaults": {
           "arrowcolor": "#2a3f5f",
           "arrowhead": 0,
           "arrowwidth": 1
          },
          "geo": {
           "bgcolor": "white",
           "landcolor": "#E5ECF6",
           "subunitcolor": "white",
           "showland": true,
           "showlakes": true,
           "lakecolor": "white"
          },
          "title": {
           "x": 0.05
          },
          "mapbox": {
           "style": "light"
          }
         }
        },
        "xaxis": {
         "anchor": "y",
         "domain": [
          0.0,
          1.0
         ],
         "title": {
          "text": "Split count"
         }
        },
        "yaxis": {
         "anchor": "x",
         "domain": [
          0.0,
          1.0
         ],
         "title": {
          "text": "Features"
         }
        },
        "legend": {
         "title": {
          "text": "variable"
         },
         "tracegroupgap": 0
        },
        "margin": {
         "t": 60
        },
        "barmode": "relative",
        "title": {
         "text": "Complexity of each estimator"
        }
       },
       "config": {
        "plotlyServerURL": "https://plot.ly"
       }
      },
      "text/html": "<div>                            <div id=\"d138b9d5-a7a3-4224-b123-1badb463aa32\" class=\"plotly-graph-div\" style=\"height:525px; width:100%;\"></div>            <script type=\"text/javascript\">                require([\"plotly\"], function(Plotly) {                    window.PLOTLYENV=window.PLOTLYENV || {};                                    if (document.getElementById(\"d138b9d5-a7a3-4224-b123-1badb463aa32\")) {                    Plotly.newPlot(                        \"d138b9d5-a7a3-4224-b123-1badb463aa32\",                        [{\"alignmentgroup\":\"True\",\"hovertemplate\":\"variable=0<br>value=%{x}<br>index=%{y}<extra></extra>\",\"legendgroup\":\"0\",\"marker\":{\"color\":\"#636efa\",\"pattern\":{\"shape\":\"\"}},\"name\":\"0\",\"offsetgroup\":\"0\",\"orientation\":\"h\",\"showlegend\":true,\"textposition\":\"auto\",\"x\":[33,35,35,62,81,89,167,191],\"xaxis\":\"x\",\"y\":[\"HouseAge\",\"AveRooms\",\"Population\",\"AveBedrms\",\"AveOccup\",\"MedInc\",\"Latitude\",\"Longitude\"],\"yaxis\":\"y\",\"type\":\"bar\"}],                        {\"template\":{\"data\":{\"histogram2dcontour\":[{\"type\":\"histogram2dcontour\",\"colorbar\":{\"outlinewidth\":0,\"ticks\":\"\"},\"colorscale\":[[0.0,\"#0d0887\"],[0.1111111111111111,\"#46039f\"],[0.2222222222222222,\"#7201a8\"],[0.3333333333333333,\"#9c179e\"],[0.4444444444444444,\"#bd3786\"],[0.5555555555555556,\"#d8576b\"],[0.6666666666666666,\"#ed7953\"],[0.7777777777777778,\"#fb9f3a\"],[0.8888888888888888,\"#fdca26\"],[1.0,\"#f0f921\"]]}],\"choropleth\":[{\"type\":\"choropleth\",\"colorbar\":{\"outlinewidth\":0,\"ticks\":\"\"}}],\"histogram2d\":[{\"type\":\"histogram2d\",\"colorbar\":{\"outlinewidth\":0,\"ticks\":\"\"},\"colorscale\":[[0.0,\"#0d0887\"],[0.1111111111111111,\"#46039f\"],[0.2222222222222222,\"#7201a8\"],[0.3333333333333333,\"#9c179e\"],[0.4444444444444444,\"#bd3786\"],[0.5555555555555556,\"#d8576b\"],[0.6666666666666666,\"#ed7953\"],[0.7777777777777778,\"#fb9f3a\"],[0.8888888888888888,\"#fdca26\"],[1.0,\"#f0f921\"]]}],\"heatmap\":[{\"type\":\"heatmap\",\"colorbar\":{\"outlinewidth\":0,\"ticks\":\"\"},\"colorscale\":[[0.0,\"#0d0887\"],[0.1111111111111111,\"#46039f\"],[0.2222222222222222,\"#7201a8\"],[0.3333333333333333,\"#9c179e\"],[0.4444444444444444,\"#bd3786\"],[0.5555555555555556,\"#d8576b\"],[0.6666666666666666,\"#ed7953\"],[0.7777777777777778,\"#fb9f3a\"],[0.8888888888888888,\"#fdca26\"],[1.0,\"#f0f921\"]]}],\"heatmapgl\":[{\"type\":\"heatmapgl\",\"colorbar\":{\"outlinewidth\":0,\"ticks\":\"\"},\"colorscale\":[[0.0,\"#0d0887\"],[0.1111111111111111,\"#46039f\"],[0.2222222222222222,\"#7201a8\"],[0.3333333333333333,\"#9c179e\"],[0.4444444444444444,\"#bd3786\"],[0.5555555555555556,\"#d8576b\"],[0.6666666666666666,\"#ed7953\"],[0.7777777777777778,\"#fb9f3a\"],[0.8888888888888888,\"#fdca26\"],[1.0,\"#f0f921\"]]}],\"contourcarpet\":[{\"type\":\"contourcarpet\",\"colorbar\":{\"outlinewidth\":0,\"ticks\":\"\"}}],\"contour\":[{\"type\":\"contour\",\"colorbar\":{\"outlinewidth\":0,\"ticks\":\"\"},\"colorscale\":[[0.0,\"#0d0887\"],[0.1111111111111111,\"#46039f\"],[0.2222222222222222,\"#7201a8\"],[0.3333333333333333,\"#9c179e\"],[0.4444444444444444,\"#bd3786\"],[0.5555555555555556,\"#d8576b\"],[0.6666666666666666,\"#ed7953\"],[0.7777777777777778,\"#fb9f3a\"],[0.8888888888888888,\"#fdca26\"],[1.0,\"#f0f921\"]]}],\"surface\":[{\"type\":\"surface\",\"colorbar\":{\"outlinewidth\":0,\"ticks\":\"\"},\"colorscale\":[[0.0,\"#0d0887\"],[0.1111111111111111,\"#46039f\"],[0.2222222222222222,\"#7201a8\"],[0.3333333333333333,\"#9c179e\"],[0.4444444444444444,\"#bd3786\"],[0.5555555555555556,\"#d8576b\"],[0.6666666666666666,\"#ed7953\"],[0.7777777777777778,\"#fb9f3a\"],[0.8888888888888888,\"#fdca26\"],[1.0,\"#f0f921\"]]}],\"mesh3d\":[{\"type\":\"mesh3d\",\"colorbar\":{\"outlinewidth\":0,\"ticks\":\"\"}}],\"scatter\":[{\"fillpattern\":{\"fillmode\":\"overlay\",\"size\":10,\"solidity\":0.2},\"type\":\"scatter\"}],\"parcoords\":[{\"type\":\"parcoords\",\"line\":{\"colorbar\":{\"outlinewidth\":0,\"ticks\":\"\"}}}],\"scatterpolargl\":[{\"type\":\"scatterpolargl\",\"marker\":{\"colorbar\":{\"outlinewidth\":0,\"ticks\":\"\"}}}],\"bar\":[{\"error_x\":{\"color\":\"#2a3f5f\"},\"error_y\":{\"color\":\"#2a3f5f\"},\"marker\":{\"line\":{\"color\":\"#E5ECF6\",\"width\":0.5},\"pattern\":{\"fillmode\":\"overlay\",\"size\":10,\"solidity\":0.2}},\"type\":\"bar\"}],\"scattergeo\":[{\"type\":\"scattergeo\",\"marker\":{\"colorbar\":{\"outlinewidth\":0,\"ticks\":\"\"}}}],\"scatterpolar\":[{\"type\":\"scatterpolar\",\"marker\":{\"colorbar\":{\"outlinewidth\":0,\"ticks\":\"\"}}}],\"histogram\":[{\"marker\":{\"pattern\":{\"fillmode\":\"overlay\",\"size\":10,\"solidity\":0.2}},\"type\":\"histogram\"}],\"scattergl\":[{\"type\":\"scattergl\",\"marker\":{\"colorbar\":{\"outlinewidth\":0,\"ticks\":\"\"}}}],\"scatter3d\":[{\"type\":\"scatter3d\",\"line\":{\"colorbar\":{\"outlinewidth\":0,\"ticks\":\"\"}},\"marker\":{\"colorbar\":{\"outlinewidth\":0,\"ticks\":\"\"}}}],\"scattermapbox\":[{\"type\":\"scattermapbox\",\"marker\":{\"colorbar\":{\"outlinewidth\":0,\"ticks\":\"\"}}}],\"scatterternary\":[{\"type\":\"scatterternary\",\"marker\":{\"colorbar\":{\"outlinewidth\":0,\"ticks\":\"\"}}}],\"scattercarpet\":[{\"type\":\"scattercarpet\",\"marker\":{\"colorbar\":{\"outlinewidth\":0,\"ticks\":\"\"}}}],\"carpet\":[{\"aaxis\":{\"endlinecolor\":\"#2a3f5f\",\"gridcolor\":\"white\",\"linecolor\":\"white\",\"minorgridcolor\":\"white\",\"startlinecolor\":\"#2a3f5f\"},\"baxis\":{\"endlinecolor\":\"#2a3f5f\",\"gridcolor\":\"white\",\"linecolor\":\"white\",\"minorgridcolor\":\"white\",\"startlinecolor\":\"#2a3f5f\"},\"type\":\"carpet\"}],\"table\":[{\"cells\":{\"fill\":{\"color\":\"#EBF0F8\"},\"line\":{\"color\":\"white\"}},\"header\":{\"fill\":{\"color\":\"#C8D4E3\"},\"line\":{\"color\":\"white\"}},\"type\":\"table\"}],\"barpolar\":[{\"marker\":{\"line\":{\"color\":\"#E5ECF6\",\"width\":0.5},\"pattern\":{\"fillmode\":\"overlay\",\"size\":10,\"solidity\":0.2}},\"type\":\"barpolar\"}],\"pie\":[{\"automargin\":true,\"type\":\"pie\"}]},\"layout\":{\"autotypenumbers\":\"strict\",\"colorway\":[\"#636efa\",\"#EF553B\",\"#00cc96\",\"#ab63fa\",\"#FFA15A\",\"#19d3f3\",\"#FF6692\",\"#B6E880\",\"#FF97FF\",\"#FECB52\"],\"font\":{\"color\":\"#2a3f5f\"},\"hovermode\":\"closest\",\"hoverlabel\":{\"align\":\"left\"},\"paper_bgcolor\":\"white\",\"plot_bgcolor\":\"#E5ECF6\",\"polar\":{\"bgcolor\":\"#E5ECF6\",\"angularaxis\":{\"gridcolor\":\"white\",\"linecolor\":\"white\",\"ticks\":\"\"},\"radialaxis\":{\"gridcolor\":\"white\",\"linecolor\":\"white\",\"ticks\":\"\"}},\"ternary\":{\"bgcolor\":\"#E5ECF6\",\"aaxis\":{\"gridcolor\":\"white\",\"linecolor\":\"white\",\"ticks\":\"\"},\"baxis\":{\"gridcolor\":\"white\",\"linecolor\":\"white\",\"ticks\":\"\"},\"caxis\":{\"gridcolor\":\"white\",\"linecolor\":\"white\",\"ticks\":\"\"}},\"coloraxis\":{\"colorbar\":{\"outlinewidth\":0,\"ticks\":\"\"}},\"colorscale\":{\"sequential\":[[0.0,\"#0d0887\"],[0.1111111111111111,\"#46039f\"],[0.2222222222222222,\"#7201a8\"],[0.3333333333333333,\"#9c179e\"],[0.4444444444444444,\"#bd3786\"],[0.5555555555555556,\"#d8576b\"],[0.6666666666666666,\"#ed7953\"],[0.7777777777777778,\"#fb9f3a\"],[0.8888888888888888,\"#fdca26\"],[1.0,\"#f0f921\"]],\"sequentialminus\":[[0.0,\"#0d0887\"],[0.1111111111111111,\"#46039f\"],[0.2222222222222222,\"#7201a8\"],[0.3333333333333333,\"#9c179e\"],[0.4444444444444444,\"#bd3786\"],[0.5555555555555556,\"#d8576b\"],[0.6666666666666666,\"#ed7953\"],[0.7777777777777778,\"#fb9f3a\"],[0.8888888888888888,\"#fdca26\"],[1.0,\"#f0f921\"]],\"diverging\":[[0,\"#8e0152\"],[0.1,\"#c51b7d\"],[0.2,\"#de77ae\"],[0.3,\"#f1b6da\"],[0.4,\"#fde0ef\"],[0.5,\"#f7f7f7\"],[0.6,\"#e6f5d0\"],[0.7,\"#b8e186\"],[0.8,\"#7fbc41\"],[0.9,\"#4d9221\"],[1,\"#276419\"]]},\"xaxis\":{\"gridcolor\":\"white\",\"linecolor\":\"white\",\"ticks\":\"\",\"title\":{\"standoff\":15},\"zerolinecolor\":\"white\",\"automargin\":true,\"zerolinewidth\":2},\"yaxis\":{\"gridcolor\":\"white\",\"linecolor\":\"white\",\"ticks\":\"\",\"title\":{\"standoff\":15},\"zerolinecolor\":\"white\",\"automargin\":true,\"zerolinewidth\":2},\"scene\":{\"xaxis\":{\"backgroundcolor\":\"#E5ECF6\",\"gridcolor\":\"white\",\"linecolor\":\"white\",\"showbackground\":true,\"ticks\":\"\",\"zerolinecolor\":\"white\",\"gridwidth\":2},\"yaxis\":{\"backgroundcolor\":\"#E5ECF6\",\"gridcolor\":\"white\",\"linecolor\":\"white\",\"showbackground\":true,\"ticks\":\"\",\"zerolinecolor\":\"white\",\"gridwidth\":2},\"zaxis\":{\"backgroundcolor\":\"#E5ECF6\",\"gridcolor\":\"white\",\"linecolor\":\"white\",\"showbackground\":true,\"ticks\":\"\",\"zerolinecolor\":\"white\",\"gridwidth\":2}},\"shapedefaults\":{\"line\":{\"color\":\"#2a3f5f\"}},\"annotationdefaults\":{\"arrowcolor\":\"#2a3f5f\",\"arrowhead\":0,\"arrowwidth\":1},\"geo\":{\"bgcolor\":\"white\",\"landcolor\":\"#E5ECF6\",\"subunitcolor\":\"white\",\"showland\":true,\"showlakes\":true,\"lakecolor\":\"white\"},\"title\":{\"x\":0.05},\"mapbox\":{\"style\":\"light\"}}},\"xaxis\":{\"anchor\":\"y\",\"domain\":[0.0,1.0],\"title\":{\"text\":\"Split count\"}},\"yaxis\":{\"anchor\":\"x\",\"domain\":[0.0,1.0],\"title\":{\"text\":\"Features\"}},\"legend\":{\"title\":{\"text\":\"variable\"},\"tracegroupgap\":0},\"margin\":{\"t\":60},\"barmode\":\"relative\",\"title\":{\"text\":\"Complexity of each estimator\"}},                        {\"responsive\": true}                    ).then(function(){\n                            \nvar gd = document.getElementById('d138b9d5-a7a3-4224-b123-1badb463aa32');\nvar x = new MutationObserver(function (mutations, observer) {{\n        var display = window.getComputedStyle(gd).display;\n        if (!display || display === 'none') {{\n            console.log([gd, 'removed!']);\n            Plotly.purge(gd);\n            observer.disconnect();\n        }}\n}});\n\n// Listen for the removal of the full notebook cells\nvar notebookContainer = gd.closest('#notebook-container');\nif (notebookContainer) {{\n    x.observe(notebookContainer, {childList: true});\n}}\n\n// Listen for the clearing of the current output cell\nvar outputEl = gd.closest('.output');\nif (outputEl) {{\n    x.observe(outputEl, {childList: true});\n}}\n\n                        })                };                });            </script>        </div>"
     },
     "metadata": {},
     "output_type": "display_data"
    }
   ],
   "source": [
    "sparsereg.learning_rate = 0.3\n",
    "sparsereg.fit(X, y)\n",
    "sparsereg.plot_model_information()"
   ],
   "metadata": {
    "collapsed": false
   }
  },
  {
   "cell_type": "markdown",
   "source": [
    "## Interpretability"
   ],
   "metadata": {
    "collapsed": false
   }
  },
  {
   "cell_type": "code",
   "execution_count": 33,
   "outputs": [
    {
     "data": {
      "application/vnd.plotly.v1+json": {
       "data": [
        {
         "alignmentgroup": "True",
         "hovertemplate": "variable=0<br>value=%{x}<br>index=%{y}<extra></extra>",
         "legendgroup": "0",
         "marker": {
          "color": "#636efa",
          "pattern": {
           "shape": ""
          }
         },
         "name": "0",
         "offsetgroup": "0",
         "orientation": "h",
         "showlegend": true,
         "textposition": "auto",
         "x": [
          0.01122755593583087,
          0.014964725674969264,
          0.04848224826079606,
          0.07063549582176638,
          0.21629354512688262,
          0.3262584280278094,
          0.3428558956683673,
          0.5359267760969546,
          2.0510592628408326
         ],
         "xaxis": "x",
         "y": [
          "Population",
          "AveRooms",
          "AveBedrms",
          "HouseAge",
          "AveOccup",
          "Longitude",
          "Latitude",
          "MedInc",
          "intercept"
         ],
         "yaxis": "y",
         "type": "bar"
        }
       ],
       "layout": {
        "template": {
         "data": {
          "histogram2dcontour": [
           {
            "type": "histogram2dcontour",
            "colorbar": {
             "outlinewidth": 0,
             "ticks": ""
            },
            "colorscale": [
             [
              0.0,
              "#0d0887"
             ],
             [
              0.1111111111111111,
              "#46039f"
             ],
             [
              0.2222222222222222,
              "#7201a8"
             ],
             [
              0.3333333333333333,
              "#9c179e"
             ],
             [
              0.4444444444444444,
              "#bd3786"
             ],
             [
              0.5555555555555556,
              "#d8576b"
             ],
             [
              0.6666666666666666,
              "#ed7953"
             ],
             [
              0.7777777777777778,
              "#fb9f3a"
             ],
             [
              0.8888888888888888,
              "#fdca26"
             ],
             [
              1.0,
              "#f0f921"
             ]
            ]
           }
          ],
          "choropleth": [
           {
            "type": "choropleth",
            "colorbar": {
             "outlinewidth": 0,
             "ticks": ""
            }
           }
          ],
          "histogram2d": [
           {
            "type": "histogram2d",
            "colorbar": {
             "outlinewidth": 0,
             "ticks": ""
            },
            "colorscale": [
             [
              0.0,
              "#0d0887"
             ],
             [
              0.1111111111111111,
              "#46039f"
             ],
             [
              0.2222222222222222,
              "#7201a8"
             ],
             [
              0.3333333333333333,
              "#9c179e"
             ],
             [
              0.4444444444444444,
              "#bd3786"
             ],
             [
              0.5555555555555556,
              "#d8576b"
             ],
             [
              0.6666666666666666,
              "#ed7953"
             ],
             [
              0.7777777777777778,
              "#fb9f3a"
             ],
             [
              0.8888888888888888,
              "#fdca26"
             ],
             [
              1.0,
              "#f0f921"
             ]
            ]
           }
          ],
          "heatmap": [
           {
            "type": "heatmap",
            "colorbar": {
             "outlinewidth": 0,
             "ticks": ""
            },
            "colorscale": [
             [
              0.0,
              "#0d0887"
             ],
             [
              0.1111111111111111,
              "#46039f"
             ],
             [
              0.2222222222222222,
              "#7201a8"
             ],
             [
              0.3333333333333333,
              "#9c179e"
             ],
             [
              0.4444444444444444,
              "#bd3786"
             ],
             [
              0.5555555555555556,
              "#d8576b"
             ],
             [
              0.6666666666666666,
              "#ed7953"
             ],
             [
              0.7777777777777778,
              "#fb9f3a"
             ],
             [
              0.8888888888888888,
              "#fdca26"
             ],
             [
              1.0,
              "#f0f921"
             ]
            ]
           }
          ],
          "heatmapgl": [
           {
            "type": "heatmapgl",
            "colorbar": {
             "outlinewidth": 0,
             "ticks": ""
            },
            "colorscale": [
             [
              0.0,
              "#0d0887"
             ],
             [
              0.1111111111111111,
              "#46039f"
             ],
             [
              0.2222222222222222,
              "#7201a8"
             ],
             [
              0.3333333333333333,
              "#9c179e"
             ],
             [
              0.4444444444444444,
              "#bd3786"
             ],
             [
              0.5555555555555556,
              "#d8576b"
             ],
             [
              0.6666666666666666,
              "#ed7953"
             ],
             [
              0.7777777777777778,
              "#fb9f3a"
             ],
             [
              0.8888888888888888,
              "#fdca26"
             ],
             [
              1.0,
              "#f0f921"
             ]
            ]
           }
          ],
          "contourcarpet": [
           {
            "type": "contourcarpet",
            "colorbar": {
             "outlinewidth": 0,
             "ticks": ""
            }
           }
          ],
          "contour": [
           {
            "type": "contour",
            "colorbar": {
             "outlinewidth": 0,
             "ticks": ""
            },
            "colorscale": [
             [
              0.0,
              "#0d0887"
             ],
             [
              0.1111111111111111,
              "#46039f"
             ],
             [
              0.2222222222222222,
              "#7201a8"
             ],
             [
              0.3333333333333333,
              "#9c179e"
             ],
             [
              0.4444444444444444,
              "#bd3786"
             ],
             [
              0.5555555555555556,
              "#d8576b"
             ],
             [
              0.6666666666666666,
              "#ed7953"
             ],
             [
              0.7777777777777778,
              "#fb9f3a"
             ],
             [
              0.8888888888888888,
              "#fdca26"
             ],
             [
              1.0,
              "#f0f921"
             ]
            ]
           }
          ],
          "surface": [
           {
            "type": "surface",
            "colorbar": {
             "outlinewidth": 0,
             "ticks": ""
            },
            "colorscale": [
             [
              0.0,
              "#0d0887"
             ],
             [
              0.1111111111111111,
              "#46039f"
             ],
             [
              0.2222222222222222,
              "#7201a8"
             ],
             [
              0.3333333333333333,
              "#9c179e"
             ],
             [
              0.4444444444444444,
              "#bd3786"
             ],
             [
              0.5555555555555556,
              "#d8576b"
             ],
             [
              0.6666666666666666,
              "#ed7953"
             ],
             [
              0.7777777777777778,
              "#fb9f3a"
             ],
             [
              0.8888888888888888,
              "#fdca26"
             ],
             [
              1.0,
              "#f0f921"
             ]
            ]
           }
          ],
          "mesh3d": [
           {
            "type": "mesh3d",
            "colorbar": {
             "outlinewidth": 0,
             "ticks": ""
            }
           }
          ],
          "scatter": [
           {
            "fillpattern": {
             "fillmode": "overlay",
             "size": 10,
             "solidity": 0.2
            },
            "type": "scatter"
           }
          ],
          "parcoords": [
           {
            "type": "parcoords",
            "line": {
             "colorbar": {
              "outlinewidth": 0,
              "ticks": ""
             }
            }
           }
          ],
          "scatterpolargl": [
           {
            "type": "scatterpolargl",
            "marker": {
             "colorbar": {
              "outlinewidth": 0,
              "ticks": ""
             }
            }
           }
          ],
          "bar": [
           {
            "error_x": {
             "color": "#2a3f5f"
            },
            "error_y": {
             "color": "#2a3f5f"
            },
            "marker": {
             "line": {
              "color": "#E5ECF6",
              "width": 0.5
             },
             "pattern": {
              "fillmode": "overlay",
              "size": 10,
              "solidity": 0.2
             }
            },
            "type": "bar"
           }
          ],
          "scattergeo": [
           {
            "type": "scattergeo",
            "marker": {
             "colorbar": {
              "outlinewidth": 0,
              "ticks": ""
             }
            }
           }
          ],
          "scatterpolar": [
           {
            "type": "scatterpolar",
            "marker": {
             "colorbar": {
              "outlinewidth": 0,
              "ticks": ""
             }
            }
           }
          ],
          "histogram": [
           {
            "marker": {
             "pattern": {
              "fillmode": "overlay",
              "size": 10,
              "solidity": 0.2
             }
            },
            "type": "histogram"
           }
          ],
          "scattergl": [
           {
            "type": "scattergl",
            "marker": {
             "colorbar": {
              "outlinewidth": 0,
              "ticks": ""
             }
            }
           }
          ],
          "scatter3d": [
           {
            "type": "scatter3d",
            "line": {
             "colorbar": {
              "outlinewidth": 0,
              "ticks": ""
             }
            },
            "marker": {
             "colorbar": {
              "outlinewidth": 0,
              "ticks": ""
             }
            }
           }
          ],
          "scattermapbox": [
           {
            "type": "scattermapbox",
            "marker": {
             "colorbar": {
              "outlinewidth": 0,
              "ticks": ""
             }
            }
           }
          ],
          "scatterternary": [
           {
            "type": "scatterternary",
            "marker": {
             "colorbar": {
              "outlinewidth": 0,
              "ticks": ""
             }
            }
           }
          ],
          "scattercarpet": [
           {
            "type": "scattercarpet",
            "marker": {
             "colorbar": {
              "outlinewidth": 0,
              "ticks": ""
             }
            }
           }
          ],
          "carpet": [
           {
            "aaxis": {
             "endlinecolor": "#2a3f5f",
             "gridcolor": "white",
             "linecolor": "white",
             "minorgridcolor": "white",
             "startlinecolor": "#2a3f5f"
            },
            "baxis": {
             "endlinecolor": "#2a3f5f",
             "gridcolor": "white",
             "linecolor": "white",
             "minorgridcolor": "white",
             "startlinecolor": "#2a3f5f"
            },
            "type": "carpet"
           }
          ],
          "table": [
           {
            "cells": {
             "fill": {
              "color": "#EBF0F8"
             },
             "line": {
              "color": "white"
             }
            },
            "header": {
             "fill": {
              "color": "#C8D4E3"
             },
             "line": {
              "color": "white"
             }
            },
            "type": "table"
           }
          ],
          "barpolar": [
           {
            "marker": {
             "line": {
              "color": "#E5ECF6",
              "width": 0.5
             },
             "pattern": {
              "fillmode": "overlay",
              "size": 10,
              "solidity": 0.2
             }
            },
            "type": "barpolar"
           }
          ],
          "pie": [
           {
            "automargin": true,
            "type": "pie"
           }
          ]
         },
         "layout": {
          "autotypenumbers": "strict",
          "colorway": [
           "#636efa",
           "#EF553B",
           "#00cc96",
           "#ab63fa",
           "#FFA15A",
           "#19d3f3",
           "#FF6692",
           "#B6E880",
           "#FF97FF",
           "#FECB52"
          ],
          "font": {
           "color": "#2a3f5f"
          },
          "hovermode": "closest",
          "hoverlabel": {
           "align": "left"
          },
          "paper_bgcolor": "white",
          "plot_bgcolor": "#E5ECF6",
          "polar": {
           "bgcolor": "#E5ECF6",
           "angularaxis": {
            "gridcolor": "white",
            "linecolor": "white",
            "ticks": ""
           },
           "radialaxis": {
            "gridcolor": "white",
            "linecolor": "white",
            "ticks": ""
           }
          },
          "ternary": {
           "bgcolor": "#E5ECF6",
           "aaxis": {
            "gridcolor": "white",
            "linecolor": "white",
            "ticks": ""
           },
           "baxis": {
            "gridcolor": "white",
            "linecolor": "white",
            "ticks": ""
           },
           "caxis": {
            "gridcolor": "white",
            "linecolor": "white",
            "ticks": ""
           }
          },
          "coloraxis": {
           "colorbar": {
            "outlinewidth": 0,
            "ticks": ""
           }
          },
          "colorscale": {
           "sequential": [
            [
             0.0,
             "#0d0887"
            ],
            [
             0.1111111111111111,
             "#46039f"
            ],
            [
             0.2222222222222222,
             "#7201a8"
            ],
            [
             0.3333333333333333,
             "#9c179e"
            ],
            [
             0.4444444444444444,
             "#bd3786"
            ],
            [
             0.5555555555555556,
             "#d8576b"
            ],
            [
             0.6666666666666666,
             "#ed7953"
            ],
            [
             0.7777777777777778,
             "#fb9f3a"
            ],
            [
             0.8888888888888888,
             "#fdca26"
            ],
            [
             1.0,
             "#f0f921"
            ]
           ],
           "sequentialminus": [
            [
             0.0,
             "#0d0887"
            ],
            [
             0.1111111111111111,
             "#46039f"
            ],
            [
             0.2222222222222222,
             "#7201a8"
            ],
            [
             0.3333333333333333,
             "#9c179e"
            ],
            [
             0.4444444444444444,
             "#bd3786"
            ],
            [
             0.5555555555555556,
             "#d8576b"
            ],
            [
             0.6666666666666666,
             "#ed7953"
            ],
            [
             0.7777777777777778,
             "#fb9f3a"
            ],
            [
             0.8888888888888888,
             "#fdca26"
            ],
            [
             1.0,
             "#f0f921"
            ]
           ],
           "diverging": [
            [
             0,
             "#8e0152"
            ],
            [
             0.1,
             "#c51b7d"
            ],
            [
             0.2,
             "#de77ae"
            ],
            [
             0.3,
             "#f1b6da"
            ],
            [
             0.4,
             "#fde0ef"
            ],
            [
             0.5,
             "#f7f7f7"
            ],
            [
             0.6,
             "#e6f5d0"
            ],
            [
             0.7,
             "#b8e186"
            ],
            [
             0.8,
             "#7fbc41"
            ],
            [
             0.9,
             "#4d9221"
            ],
            [
             1,
             "#276419"
            ]
           ]
          },
          "xaxis": {
           "gridcolor": "white",
           "linecolor": "white",
           "ticks": "",
           "title": {
            "standoff": 15
           },
           "zerolinecolor": "white",
           "automargin": true,
           "zerolinewidth": 2
          },
          "yaxis": {
           "gridcolor": "white",
           "linecolor": "white",
           "ticks": "",
           "title": {
            "standoff": 15
           },
           "zerolinecolor": "white",
           "automargin": true,
           "zerolinewidth": 2
          },
          "scene": {
           "xaxis": {
            "backgroundcolor": "#E5ECF6",
            "gridcolor": "white",
            "linecolor": "white",
            "showbackground": true,
            "ticks": "",
            "zerolinecolor": "white",
            "gridwidth": 2
           },
           "yaxis": {
            "backgroundcolor": "#E5ECF6",
            "gridcolor": "white",
            "linecolor": "white",
            "showbackground": true,
            "ticks": "",
            "zerolinecolor": "white",
            "gridwidth": 2
           },
           "zaxis": {
            "backgroundcolor": "#E5ECF6",
            "gridcolor": "white",
            "linecolor": "white",
            "showbackground": true,
            "ticks": "",
            "zerolinecolor": "white",
            "gridwidth": 2
           }
          },
          "shapedefaults": {
           "line": {
            "color": "#2a3f5f"
           }
          },
          "annotationdefaults": {
           "arrowcolor": "#2a3f5f",
           "arrowhead": 0,
           "arrowwidth": 1
          },
          "geo": {
           "bgcolor": "white",
           "landcolor": "#E5ECF6",
           "subunitcolor": "white",
           "showland": true,
           "showlakes": true,
           "lakecolor": "white"
          },
          "title": {
           "x": 0.05
          },
          "mapbox": {
           "style": "light"
          }
         }
        },
        "xaxis": {
         "anchor": "y",
         "domain": [
          0.0,
          1.0
         ],
         "title": {
          "text": "Mean absolute score"
         }
        },
        "yaxis": {
         "anchor": "x",
         "domain": [
          0.0,
          1.0
         ],
         "title": {
          "text": "Features"
         }
        },
        "legend": {
         "title": {
          "text": "variable"
         },
         "tracegroupgap": 0
        },
        "margin": {
         "t": 60
        },
        "barmode": "relative",
        "title": {
         "text": "Mean importance of each feature"
        }
       },
       "config": {
        "plotlyServerURL": "https://plot.ly"
       }
      },
      "text/html": "<div>                            <div id=\"0e214688-2c19-4a44-a4f5-d7e11bd2426d\" class=\"plotly-graph-div\" style=\"height:525px; width:100%;\"></div>            <script type=\"text/javascript\">                require([\"plotly\"], function(Plotly) {                    window.PLOTLYENV=window.PLOTLYENV || {};                                    if (document.getElementById(\"0e214688-2c19-4a44-a4f5-d7e11bd2426d\")) {                    Plotly.newPlot(                        \"0e214688-2c19-4a44-a4f5-d7e11bd2426d\",                        [{\"alignmentgroup\":\"True\",\"hovertemplate\":\"variable=0<br>value=%{x}<br>index=%{y}<extra></extra>\",\"legendgroup\":\"0\",\"marker\":{\"color\":\"#636efa\",\"pattern\":{\"shape\":\"\"}},\"name\":\"0\",\"offsetgroup\":\"0\",\"orientation\":\"h\",\"showlegend\":true,\"textposition\":\"auto\",\"x\":[0.01122755593583087,0.014964725674969264,0.04848224826079606,0.07063549582176638,0.21629354512688262,0.3262584280278094,0.3428558956683673,0.5359267760969546,2.0510592628408326],\"xaxis\":\"x\",\"y\":[\"Population\",\"AveRooms\",\"AveBedrms\",\"HouseAge\",\"AveOccup\",\"Longitude\",\"Latitude\",\"MedInc\",\"intercept\"],\"yaxis\":\"y\",\"type\":\"bar\"}],                        {\"template\":{\"data\":{\"histogram2dcontour\":[{\"type\":\"histogram2dcontour\",\"colorbar\":{\"outlinewidth\":0,\"ticks\":\"\"},\"colorscale\":[[0.0,\"#0d0887\"],[0.1111111111111111,\"#46039f\"],[0.2222222222222222,\"#7201a8\"],[0.3333333333333333,\"#9c179e\"],[0.4444444444444444,\"#bd3786\"],[0.5555555555555556,\"#d8576b\"],[0.6666666666666666,\"#ed7953\"],[0.7777777777777778,\"#fb9f3a\"],[0.8888888888888888,\"#fdca26\"],[1.0,\"#f0f921\"]]}],\"choropleth\":[{\"type\":\"choropleth\",\"colorbar\":{\"outlinewidth\":0,\"ticks\":\"\"}}],\"histogram2d\":[{\"type\":\"histogram2d\",\"colorbar\":{\"outlinewidth\":0,\"ticks\":\"\"},\"colorscale\":[[0.0,\"#0d0887\"],[0.1111111111111111,\"#46039f\"],[0.2222222222222222,\"#7201a8\"],[0.3333333333333333,\"#9c179e\"],[0.4444444444444444,\"#bd3786\"],[0.5555555555555556,\"#d8576b\"],[0.6666666666666666,\"#ed7953\"],[0.7777777777777778,\"#fb9f3a\"],[0.8888888888888888,\"#fdca26\"],[1.0,\"#f0f921\"]]}],\"heatmap\":[{\"type\":\"heatmap\",\"colorbar\":{\"outlinewidth\":0,\"ticks\":\"\"},\"colorscale\":[[0.0,\"#0d0887\"],[0.1111111111111111,\"#46039f\"],[0.2222222222222222,\"#7201a8\"],[0.3333333333333333,\"#9c179e\"],[0.4444444444444444,\"#bd3786\"],[0.5555555555555556,\"#d8576b\"],[0.6666666666666666,\"#ed7953\"],[0.7777777777777778,\"#fb9f3a\"],[0.8888888888888888,\"#fdca26\"],[1.0,\"#f0f921\"]]}],\"heatmapgl\":[{\"type\":\"heatmapgl\",\"colorbar\":{\"outlinewidth\":0,\"ticks\":\"\"},\"colorscale\":[[0.0,\"#0d0887\"],[0.1111111111111111,\"#46039f\"],[0.2222222222222222,\"#7201a8\"],[0.3333333333333333,\"#9c179e\"],[0.4444444444444444,\"#bd3786\"],[0.5555555555555556,\"#d8576b\"],[0.6666666666666666,\"#ed7953\"],[0.7777777777777778,\"#fb9f3a\"],[0.8888888888888888,\"#fdca26\"],[1.0,\"#f0f921\"]]}],\"contourcarpet\":[{\"type\":\"contourcarpet\",\"colorbar\":{\"outlinewidth\":0,\"ticks\":\"\"}}],\"contour\":[{\"type\":\"contour\",\"colorbar\":{\"outlinewidth\":0,\"ticks\":\"\"},\"colorscale\":[[0.0,\"#0d0887\"],[0.1111111111111111,\"#46039f\"],[0.2222222222222222,\"#7201a8\"],[0.3333333333333333,\"#9c179e\"],[0.4444444444444444,\"#bd3786\"],[0.5555555555555556,\"#d8576b\"],[0.6666666666666666,\"#ed7953\"],[0.7777777777777778,\"#fb9f3a\"],[0.8888888888888888,\"#fdca26\"],[1.0,\"#f0f921\"]]}],\"surface\":[{\"type\":\"surface\",\"colorbar\":{\"outlinewidth\":0,\"ticks\":\"\"},\"colorscale\":[[0.0,\"#0d0887\"],[0.1111111111111111,\"#46039f\"],[0.2222222222222222,\"#7201a8\"],[0.3333333333333333,\"#9c179e\"],[0.4444444444444444,\"#bd3786\"],[0.5555555555555556,\"#d8576b\"],[0.6666666666666666,\"#ed7953\"],[0.7777777777777778,\"#fb9f3a\"],[0.8888888888888888,\"#fdca26\"],[1.0,\"#f0f921\"]]}],\"mesh3d\":[{\"type\":\"mesh3d\",\"colorbar\":{\"outlinewidth\":0,\"ticks\":\"\"}}],\"scatter\":[{\"fillpattern\":{\"fillmode\":\"overlay\",\"size\":10,\"solidity\":0.2},\"type\":\"scatter\"}],\"parcoords\":[{\"type\":\"parcoords\",\"line\":{\"colorbar\":{\"outlinewidth\":0,\"ticks\":\"\"}}}],\"scatterpolargl\":[{\"type\":\"scatterpolargl\",\"marker\":{\"colorbar\":{\"outlinewidth\":0,\"ticks\":\"\"}}}],\"bar\":[{\"error_x\":{\"color\":\"#2a3f5f\"},\"error_y\":{\"color\":\"#2a3f5f\"},\"marker\":{\"line\":{\"color\":\"#E5ECF6\",\"width\":0.5},\"pattern\":{\"fillmode\":\"overlay\",\"size\":10,\"solidity\":0.2}},\"type\":\"bar\"}],\"scattergeo\":[{\"type\":\"scattergeo\",\"marker\":{\"colorbar\":{\"outlinewidth\":0,\"ticks\":\"\"}}}],\"scatterpolar\":[{\"type\":\"scatterpolar\",\"marker\":{\"colorbar\":{\"outlinewidth\":0,\"ticks\":\"\"}}}],\"histogram\":[{\"marker\":{\"pattern\":{\"fillmode\":\"overlay\",\"size\":10,\"solidity\":0.2}},\"type\":\"histogram\"}],\"scattergl\":[{\"type\":\"scattergl\",\"marker\":{\"colorbar\":{\"outlinewidth\":0,\"ticks\":\"\"}}}],\"scatter3d\":[{\"type\":\"scatter3d\",\"line\":{\"colorbar\":{\"outlinewidth\":0,\"ticks\":\"\"}},\"marker\":{\"colorbar\":{\"outlinewidth\":0,\"ticks\":\"\"}}}],\"scattermapbox\":[{\"type\":\"scattermapbox\",\"marker\":{\"colorbar\":{\"outlinewidth\":0,\"ticks\":\"\"}}}],\"scatterternary\":[{\"type\":\"scatterternary\",\"marker\":{\"colorbar\":{\"outlinewidth\":0,\"ticks\":\"\"}}}],\"scattercarpet\":[{\"type\":\"scattercarpet\",\"marker\":{\"colorbar\":{\"outlinewidth\":0,\"ticks\":\"\"}}}],\"carpet\":[{\"aaxis\":{\"endlinecolor\":\"#2a3f5f\",\"gridcolor\":\"white\",\"linecolor\":\"white\",\"minorgridcolor\":\"white\",\"startlinecolor\":\"#2a3f5f\"},\"baxis\":{\"endlinecolor\":\"#2a3f5f\",\"gridcolor\":\"white\",\"linecolor\":\"white\",\"minorgridcolor\":\"white\",\"startlinecolor\":\"#2a3f5f\"},\"type\":\"carpet\"}],\"table\":[{\"cells\":{\"fill\":{\"color\":\"#EBF0F8\"},\"line\":{\"color\":\"white\"}},\"header\":{\"fill\":{\"color\":\"#C8D4E3\"},\"line\":{\"color\":\"white\"}},\"type\":\"table\"}],\"barpolar\":[{\"marker\":{\"line\":{\"color\":\"#E5ECF6\",\"width\":0.5},\"pattern\":{\"fillmode\":\"overlay\",\"size\":10,\"solidity\":0.2}},\"type\":\"barpolar\"}],\"pie\":[{\"automargin\":true,\"type\":\"pie\"}]},\"layout\":{\"autotypenumbers\":\"strict\",\"colorway\":[\"#636efa\",\"#EF553B\",\"#00cc96\",\"#ab63fa\",\"#FFA15A\",\"#19d3f3\",\"#FF6692\",\"#B6E880\",\"#FF97FF\",\"#FECB52\"],\"font\":{\"color\":\"#2a3f5f\"},\"hovermode\":\"closest\",\"hoverlabel\":{\"align\":\"left\"},\"paper_bgcolor\":\"white\",\"plot_bgcolor\":\"#E5ECF6\",\"polar\":{\"bgcolor\":\"#E5ECF6\",\"angularaxis\":{\"gridcolor\":\"white\",\"linecolor\":\"white\",\"ticks\":\"\"},\"radialaxis\":{\"gridcolor\":\"white\",\"linecolor\":\"white\",\"ticks\":\"\"}},\"ternary\":{\"bgcolor\":\"#E5ECF6\",\"aaxis\":{\"gridcolor\":\"white\",\"linecolor\":\"white\",\"ticks\":\"\"},\"baxis\":{\"gridcolor\":\"white\",\"linecolor\":\"white\",\"ticks\":\"\"},\"caxis\":{\"gridcolor\":\"white\",\"linecolor\":\"white\",\"ticks\":\"\"}},\"coloraxis\":{\"colorbar\":{\"outlinewidth\":0,\"ticks\":\"\"}},\"colorscale\":{\"sequential\":[[0.0,\"#0d0887\"],[0.1111111111111111,\"#46039f\"],[0.2222222222222222,\"#7201a8\"],[0.3333333333333333,\"#9c179e\"],[0.4444444444444444,\"#bd3786\"],[0.5555555555555556,\"#d8576b\"],[0.6666666666666666,\"#ed7953\"],[0.7777777777777778,\"#fb9f3a\"],[0.8888888888888888,\"#fdca26\"],[1.0,\"#f0f921\"]],\"sequentialminus\":[[0.0,\"#0d0887\"],[0.1111111111111111,\"#46039f\"],[0.2222222222222222,\"#7201a8\"],[0.3333333333333333,\"#9c179e\"],[0.4444444444444444,\"#bd3786\"],[0.5555555555555556,\"#d8576b\"],[0.6666666666666666,\"#ed7953\"],[0.7777777777777778,\"#fb9f3a\"],[0.8888888888888888,\"#fdca26\"],[1.0,\"#f0f921\"]],\"diverging\":[[0,\"#8e0152\"],[0.1,\"#c51b7d\"],[0.2,\"#de77ae\"],[0.3,\"#f1b6da\"],[0.4,\"#fde0ef\"],[0.5,\"#f7f7f7\"],[0.6,\"#e6f5d0\"],[0.7,\"#b8e186\"],[0.8,\"#7fbc41\"],[0.9,\"#4d9221\"],[1,\"#276419\"]]},\"xaxis\":{\"gridcolor\":\"white\",\"linecolor\":\"white\",\"ticks\":\"\",\"title\":{\"standoff\":15},\"zerolinecolor\":\"white\",\"automargin\":true,\"zerolinewidth\":2},\"yaxis\":{\"gridcolor\":\"white\",\"linecolor\":\"white\",\"ticks\":\"\",\"title\":{\"standoff\":15},\"zerolinecolor\":\"white\",\"automargin\":true,\"zerolinewidth\":2},\"scene\":{\"xaxis\":{\"backgroundcolor\":\"#E5ECF6\",\"gridcolor\":\"white\",\"linecolor\":\"white\",\"showbackground\":true,\"ticks\":\"\",\"zerolinecolor\":\"white\",\"gridwidth\":2},\"yaxis\":{\"backgroundcolor\":\"#E5ECF6\",\"gridcolor\":\"white\",\"linecolor\":\"white\",\"showbackground\":true,\"ticks\":\"\",\"zerolinecolor\":\"white\",\"gridwidth\":2},\"zaxis\":{\"backgroundcolor\":\"#E5ECF6\",\"gridcolor\":\"white\",\"linecolor\":\"white\",\"showbackground\":true,\"ticks\":\"\",\"zerolinecolor\":\"white\",\"gridwidth\":2}},\"shapedefaults\":{\"line\":{\"color\":\"#2a3f5f\"}},\"annotationdefaults\":{\"arrowcolor\":\"#2a3f5f\",\"arrowhead\":0,\"arrowwidth\":1},\"geo\":{\"bgcolor\":\"white\",\"landcolor\":\"#E5ECF6\",\"subunitcolor\":\"white\",\"showland\":true,\"showlakes\":true,\"lakecolor\":\"white\"},\"title\":{\"x\":0.05},\"mapbox\":{\"style\":\"light\"}}},\"xaxis\":{\"anchor\":\"y\",\"domain\":[0.0,1.0],\"title\":{\"text\":\"Mean absolute score\"}},\"yaxis\":{\"anchor\":\"x\",\"domain\":[0.0,1.0],\"title\":{\"text\":\"Features\"}},\"legend\":{\"title\":{\"text\":\"variable\"},\"tracegroupgap\":0},\"margin\":{\"t\":60},\"barmode\":\"relative\",\"title\":{\"text\":\"Mean importance of each feature\"}},                        {\"responsive\": true}                    ).then(function(){\n                            \nvar gd = document.getElementById('0e214688-2c19-4a44-a4f5-d7e11bd2426d');\nvar x = new MutationObserver(function (mutations, observer) {{\n        var display = window.getComputedStyle(gd).display;\n        if (!display || display === 'none') {{\n            console.log([gd, 'removed!']);\n            Plotly.purge(gd);\n            observer.disconnect();\n        }}\n}});\n\n// Listen for the removal of the full notebook cells\nvar notebookContainer = gd.closest('#notebook-container');\nif (notebookContainer) {{\n    x.observe(notebookContainer, {childList: true});\n}}\n\n// Listen for the clearing of the current output cell\nvar outputEl = gd.closest('.output');\nif (outputEl) {{\n    x.observe(outputEl, {childList: true});\n}}\n\n                        })                };                });            </script>        </div>"
     },
     "metadata": {},
     "output_type": "display_data"
    },
    {
     "data": {
      "application/vnd.plotly.v1+json": {
       "data": [
        {
         "hovertemplate": "x=%{x}<br>y=%{y}<extra></extra>",
         "legendgroup": "",
         "line": {
          "color": "#636efa",
          "dash": "solid",
          "shape": "hv"
         },
         "marker": {
          "symbol": "circle"
         },
         "mode": "lines",
         "name": "",
         "orientation": "v",
         "showlegend": false,
         "x": [
          0.6807082295417786,
          0.6807082295417786,
          0.9307581782341003,
          1.0621757507324219,
          1.1580257415771484,
          1.218025803565979,
          1.2784258127212524,
          1.3400319814682007,
          1.3883320093154907,
          1.4321527481079102,
          1.4709820747375488,
          1.5062659978866577,
          1.5441367626190186,
          1.5817261934280396,
          1.6129761934280396,
          1.6359878778457642,
          1.6594284772872925,
          1.6832398176193237,
          1.705554723739624,
          1.724305510520935,
          1.7444086074829102,
          1.7693737745285034,
          1.795880913734436,
          1.8246427774429321,
          1.8533177375793457,
          1.8793853521347046,
          1.9020947217941284,
          1.9236787557601929,
          1.9451029300689697,
          1.9652738571166992,
          1.9848754405975342,
          2.004352331161499,
          2.022470235824585,
          2.0399022102355957,
          2.0587573051452637,
          2.07922625541687,
          2.099710464477539,
          2.1172327995300293,
          2.1347339153289795,
          2.151340961456299,
          2.166727304458618,
          2.180915355682373,
          2.192737340927124,
          2.207794189453125,
          2.2238385677337646,
          2.2389118671417236,
          2.255949020385742,
          2.2758119106292725,
          2.294559955596924,
          2.3106775283813477,
          2.3260557651519775,
          2.3414499759674072,
          2.3585023880004883,
          2.375882625579834,
          2.39105486869812,
          2.408313751220703,
          2.4288876056671143,
          2.4485983848571777,
          2.467378616333008,
          2.4860198497772217,
          2.504241466522217,
          2.5189833641052246,
          2.5324649810791016,
          2.5475008487701416,
          2.5734000205993652,
          2.5856499671936035,
          2.5989999771118164,
          2.614449977874756,
          2.6269772052764893,
          2.6399271488189697,
          2.6549489498138428,
          2.6685991287231445,
          2.682588815689087,
          2.696256160736084,
          2.709385633468628,
          2.724159002304077,
          2.739142894744873,
          2.756209373474121,
          2.774427890777588,
          2.792573928833008,
          2.8109514713287354,
          2.828338623046875,
          2.8461902141571045,
          2.865149974822998,
          2.8828001022338867,
          2.898467540740967,
          2.9146571159362793,
          2.9323787689208984,
          2.9500391483306885,
          2.968832015991211,
          2.9866151809692383,
          3.0017333030700684,
          3.014744997024536,
          3.0262718200683594,
          3.0389835834503174,
          3.051931619644165,
          3.0653250217437744,
          3.0792999267578125,
          3.092750072479248,
          3.105936050415039,
          3.1189358234405518,
          3.132349967956543,
          3.146749973297119,
          3.1591498851776123,
          3.170413017272949,
          3.1820080280303955,
          3.19384503364563,
          3.2065999507904053,
          3.220844268798828,
          3.234044313430786,
          3.248250961303711,
          3.265263557434082,
          3.280324697494507,
          3.2962160110473633,
          3.3158135414123535,
          3.3350095748901367,
          3.352449893951416,
          3.3680500984191895,
          3.3845999240875244,
          3.4024500846862793,
          3.4202589988708496,
          3.4402313232421875,
          3.4603283405303955,
          3.4793059825897217,
          3.4979913234710693,
          3.5131986141204834,
          3.525581121444702,
          3.5395236015319824,
          3.5532233715057373,
          3.567054271697998,
          3.5819308757781982,
          3.596273422241211,
          3.612252712249756,
          3.627779245376587,
          3.640049934387207,
          3.6538000106811523,
          3.6677000522613525,
          3.6805500984191895,
          3.696000099182129,
          3.7121500968933105,
          3.727252244949341,
          3.742352247238159,
          3.7604000568389893,
          3.778249979019165,
          3.7946486473083496,
          3.811948537826538,
          3.832106590270996,
          3.8540573120117188,
          3.873108386993408,
          3.8924076557159424,
          3.912717342376709,
          3.9335126876831055,
          3.9537951946258545,
          3.971505880355835,
          3.989905834197998,
          4.007221221923828,
          4.020621299743652,
          4.034249782562256,
          4.04764986038208,
          4.0608062744140625,
          4.076299667358398,
          4.093265533447266,
          4.110472202301025,
          4.125100135803223,
          4.138500213623047,
          4.155645370483398,
          4.17334508895874,
          4.191549777984619,
          4.211190223693848,
          4.2295403480529785,
          4.2472076416015625,
          4.266427516937256,
          4.288519382476807,
          4.3125,
          4.337500095367432,
          4.362500190734863,
          4.382800102233887,
          4.4031081199646,
          4.426558017730713,
          4.450368881225586,
          4.479340076446533,
          4.506519794464111,
          4.527821063995361,
          4.549685001373291,
          4.570497512817383,
          4.593384742736816,
          4.619150161743164,
          4.642004489898682,
          4.665290832519531,
          4.6888861656188965,
          4.711850166320801,
          4.735175132751465,
          4.7618865966796875,
          4.789484977722168,
          4.815065860748291,
          4.844692707061768,
          4.876425743103027,
          4.907336711883545,
          4.942461013793945,
          4.980999946594238,
          5.010666370391846,
          5.03380823135376,
          5.059091567993164,
          5.0817999839782715,
          5.104901313781738,
          5.131915092468262,
          5.159245491027832,
          5.188150405883789,
          5.218530654907227,
          5.246707439422607,
          5.276041030883789,
          5.308900833129883,
          5.346352577209473,
          5.3879241943359375,
          5.429186820983887,
          5.470698833465576,
          5.508992671966553,
          5.543130874633789,
          5.577094078063965,
          5.614544868469238,
          5.655467987060547,
          5.699642181396484,
          5.744587421417236,
          5.798553943634033,
          5.856944561004639,
          5.916145324707031,
          5.981869697570801,
          6.0355682373046875,
          6.07633113861084,
          6.115763187408447,
          6.164700031280518,
          6.2193498611450195,
          6.276067733764648,
          6.338966369628906,
          6.41348934173584,
          6.496452808380127,
          6.5723443031311035,
          6.643835544586182,
          6.73030424118042,
          6.823091506958008,
          6.922937393188477,
          7.054071426391602,
          7.199261665344238,
          7.354605674743652,
          7.506761074066162,
          7.653016567230225,
          7.811661720275879,
          8.000486373901367,
          8.212879180908203,
          8.441956520080566,
          8.764723777770996,
          9.388010025024414,
          10.087486267089844,
          10.660810470581055,
          11.920695304870605,
          13.940760612487793
         ],
         "xaxis": "x",
         "y": [
          -0.5027144362047524,
          -0.5027144362047523,
          -0.7494433057663528,
          -0.857203451737722,
          -0.8399190351975045,
          -0.879006609854979,
          -0.8876570191041927,
          -0.8934523382695648,
          -0.8934523382695648,
          -0.8869873294175773,
          -0.8818362280463398,
          -0.8826716365308256,
          -0.8822410236727578,
          -0.8801066814592438,
          -0.8797057263187159,
          -0.8737247765568247,
          -0.87343162895811,
          -0.8744409283108936,
          -0.8655578335839992,
          -0.8740903932893564,
          -0.8731355047989051,
          -0.8725158941427739,
          -0.8761522395381706,
          -0.8102304014936467,
          -0.819280733453628,
          -0.8204524939829708,
          -0.8019686935442701,
          -0.8019686935442701,
          -0.7943279831820305,
          -0.7723337403438996,
          -0.7541610687049707,
          -0.7688706339169493,
          -0.7653433653464968,
          -0.7667770279827238,
          -0.7451320250488677,
          -0.7466423889229175,
          -0.7415244684677926,
          -0.7281686831586355,
          -0.7082060782800566,
          -0.7156813122743049,
          -0.7147358030491895,
          -0.7164664211946343,
          -0.6641398749336955,
          -0.6532633782362831,
          -0.6472607963612518,
          -0.6258034025285483,
          -0.5951161261911467,
          -0.5899664424666083,
          -0.6134946705927009,
          -0.5992159401963775,
          -0.6009746254590344,
          -0.5893798490516455,
          -0.5874586038652804,
          -0.5841605687302656,
          -0.5810825643041891,
          -0.5806837032588116,
          -0.5642515492374595,
          -0.5658290697161207,
          -0.5646542067645006,
          -0.5665212453476366,
          -0.5712233519732814,
          -0.5495136722465921,
          -0.5224675620694132,
          -0.5228997301827486,
          -0.4906991583185874,
          -0.499617452669229,
          -0.49116243905650564,
          -0.47680536828624814,
          -0.4735004464960462,
          -0.47820894766655564,
          -0.47820894766655564,
          -0.4843525835911034,
          -0.45604709613172073,
          -0.4456581633483262,
          -0.46394076877299395,
          -0.4590143148461108,
          -0.4251096695424301,
          -0.4478821260907559,
          -0.4478821260907559,
          -0.4483338103000335,
          -0.44756972701095205,
          -0.4446015455773198,
          -0.40057412984842156,
          -0.3425452877691762,
          -0.3662238135400309,
          -0.3621557143411373,
          -0.361351969696053,
          -0.3588140984847653,
          -0.347021542072497,
          -0.3454656182404126,
          -0.34171087762597263,
          -0.34416446701203207,
          -0.3454859359184792,
          -0.3273796079795053,
          -0.3303961215902757,
          -0.33130271384827287,
          -0.33366411582178257,
          -0.3560983667986189,
          -0.278815669188236,
          -0.28810454220290516,
          -0.28624867500852264,
          -0.2791945680035692,
          -0.2827744856086298,
          -0.2712434529840706,
          -0.2676276524336858,
          -0.2811451835200939,
          -0.28207389410761874,
          -0.2537458068426656,
          -0.24874070582277402,
          -0.2796206831119369,
          -0.2651183416390649,
          -0.23862789161204462,
          -0.23584189851932869,
          -0.2431118094895005,
          -0.24175661429268092,
          -0.23257051117659686,
          -0.2214325141876706,
          -0.15946525997100006,
          -0.12530722848924075,
          -0.1689342761851013,
          -0.15034050278754002,
          -0.15841446482142146,
          -0.15588501966998713,
          -0.15298111932837397,
          -0.14914456095615441,
          -0.13459417687503974,
          -0.1352089713480304,
          -0.14347282514075785,
          -0.15052288860044902,
          -0.083241952191279,
          -0.05107196109569671,
          -0.054623495357523276,
          -0.08559325878843706,
          -0.0960518154469304,
          -0.0918778849465949,
          -0.06362528675990793,
          -0.028890288095007356,
          -0.024697798852294374,
          -0.024697798852294374,
          -0.03878828792604848,
          -0.046599619936454985,
          -0.0435050884197054,
          -0.05965132702958425,
          -0.06105005451114757,
          -0.044985727030082696,
          -0.05369831664831028,
          -0.013635895215551102,
          -0.012105721632845625,
          -0.02272919575792922,
          -0.014221031439989049,
          -0.016956245980889684,
          0.013303621524165256,
          0.027288679509341003,
          0.03184240269308022,
          0.03556577312335887,
          0.0013385320246435805,
          0.007391085929915663,
          0.006505709636228101,
          0.020318886458067082,
          -0.013727320340102865,
          -0.0016517320253130081,
          0.017905379437280662,
          0.032411623236798665,
          0.08371937445312978,
          0.1884244312263611,
          0.20178160695614691,
          0.18261420996170186,
          0.18258222311561115,
          0.14518919753338613,
          0.1580205855007257,
          0.1567230781056119,
          0.15098323790216733,
          0.15483014005682327,
          0.15419354782255526,
          0.15281785485372,
          0.1528772083472535,
          0.15519973615448218,
          0.16067263566624573,
          0.15969225803997467,
          0.17508056912706552,
          0.16335725973556212,
          0.16890743424947727,
          0.18937517381944038,
          0.19622305662548956,
          0.25775075474937453,
          0.23724427024214856,
          0.23751702506736544,
          0.23863102625128424,
          0.24842175480331444,
          0.24855518498704465,
          0.2900867976179852,
          0.3138894252846696,
          0.32970779489657565,
          0.337842317233667,
          0.3390423631794077,
          0.3351151017407349,
          0.32611705516539913,
          0.3312079819956016,
          0.323334642445704,
          0.3100042832603813,
          0.3137364939594714,
          0.32220492030551806,
          0.3543961977976726,
          0.4122961921240706,
          0.4698522485298586,
          0.4626855879588349,
          0.46187582457232235,
          0.5746217116894733,
          0.5560202459109934,
          0.6187864927795214,
          0.5044168361407312,
          0.5077003431664173,
          0.5645745773785343,
          0.5566364664785088,
          0.6437760678304242,
          0.5483597939140156,
          0.5521551440749496,
          0.5354391723955875,
          0.6613497843126986,
          0.6366933531841643,
          0.8338000714544475,
          0.7337180431987025,
          0.7136097718142974,
          0.8016682433881902,
          0.8415732537996472,
          1.0221357218489404,
          0.9743602553796706,
          0.9474203798064126,
          0.9328816445737598,
          0.9204076288973416,
          0.9461125707502822,
          0.9567978820910775,
          1.0090113361568152,
          1.0067118914414412,
          1.0657756364340119,
          1.2239077620683247,
          1.1803171667167525,
          1.2867655786647165,
          1.3272867800847505,
          1.3260506607207885,
          1.3107144233317936,
          1.4353563823294357,
          1.4533399984757298,
          1.4268382232058772,
          1.447588394594985,
          1.6000537235109096,
          1.5578165916958489,
          1.849657535571811,
          1.9826598947333887,
          2.0166291029081433,
          2.054694014714288,
          2.103496702004716,
          2.2640419227193074,
          2.3485055984480105,
          2.485276009147562,
          2.485276009147562
         ],
         "yaxis": "y",
         "type": "scatter"
        },
        {
         "name": "MedInc distribution",
         "x": [
          0.6807082295417786,
          0.6807082295417786,
          0.9307581782341003,
          1.0621757507324219,
          1.1580257415771484,
          1.218025803565979,
          1.2784258127212524,
          1.3400319814682007,
          1.3883320093154907,
          1.4321527481079102,
          1.4709820747375488,
          1.5062659978866577,
          1.5441367626190186,
          1.5817261934280396,
          1.6129761934280396,
          1.6359878778457642,
          1.6594284772872925,
          1.6832398176193237,
          1.705554723739624,
          1.724305510520935,
          1.7444086074829102,
          1.7693737745285034,
          1.795880913734436,
          1.8246427774429321,
          1.8533177375793457,
          1.8793853521347046,
          1.9020947217941284,
          1.9236787557601929,
          1.9451029300689697,
          1.9652738571166992,
          1.9848754405975342,
          2.004352331161499,
          2.022470235824585,
          2.0399022102355957,
          2.0587573051452637,
          2.07922625541687,
          2.099710464477539,
          2.1172327995300293,
          2.1347339153289795,
          2.151340961456299,
          2.166727304458618,
          2.180915355682373,
          2.192737340927124,
          2.207794189453125,
          2.2238385677337646,
          2.2389118671417236,
          2.255949020385742,
          2.2758119106292725,
          2.294559955596924,
          2.3106775283813477,
          2.3260557651519775,
          2.3414499759674072,
          2.3585023880004883,
          2.375882625579834,
          2.39105486869812,
          2.408313751220703,
          2.4288876056671143,
          2.4485983848571777,
          2.467378616333008,
          2.4860198497772217,
          2.504241466522217,
          2.5189833641052246,
          2.5324649810791016,
          2.5475008487701416,
          2.5734000205993652,
          2.5856499671936035,
          2.5989999771118164,
          2.614449977874756,
          2.6269772052764893,
          2.6399271488189697,
          2.6549489498138428,
          2.6685991287231445,
          2.682588815689087,
          2.696256160736084,
          2.709385633468628,
          2.724159002304077,
          2.739142894744873,
          2.756209373474121,
          2.774427890777588,
          2.792573928833008,
          2.8109514713287354,
          2.828338623046875,
          2.8461902141571045,
          2.865149974822998,
          2.8828001022338867,
          2.898467540740967,
          2.9146571159362793,
          2.9323787689208984,
          2.9500391483306885,
          2.968832015991211,
          2.9866151809692383,
          3.0017333030700684,
          3.014744997024536,
          3.0262718200683594,
          3.0389835834503174,
          3.051931619644165,
          3.0653250217437744,
          3.0792999267578125,
          3.092750072479248,
          3.105936050415039,
          3.1189358234405518,
          3.132349967956543,
          3.146749973297119,
          3.1591498851776123,
          3.170413017272949,
          3.1820080280303955,
          3.19384503364563,
          3.2065999507904053,
          3.220844268798828,
          3.234044313430786,
          3.248250961303711,
          3.265263557434082,
          3.280324697494507,
          3.2962160110473633,
          3.3158135414123535,
          3.3350095748901367,
          3.352449893951416,
          3.3680500984191895,
          3.3845999240875244,
          3.4024500846862793,
          3.4202589988708496,
          3.4402313232421875,
          3.4603283405303955,
          3.4793059825897217,
          3.4979913234710693,
          3.5131986141204834,
          3.525581121444702,
          3.5395236015319824,
          3.5532233715057373,
          3.567054271697998,
          3.5819308757781982,
          3.596273422241211,
          3.612252712249756,
          3.627779245376587,
          3.640049934387207,
          3.6538000106811523,
          3.6677000522613525,
          3.6805500984191895,
          3.696000099182129,
          3.7121500968933105,
          3.727252244949341,
          3.742352247238159,
          3.7604000568389893,
          3.778249979019165,
          3.7946486473083496,
          3.811948537826538,
          3.832106590270996,
          3.8540573120117188,
          3.873108386993408,
          3.8924076557159424,
          3.912717342376709,
          3.9335126876831055,
          3.9537951946258545,
          3.971505880355835,
          3.989905834197998,
          4.007221221923828,
          4.020621299743652,
          4.034249782562256,
          4.04764986038208,
          4.0608062744140625,
          4.076299667358398,
          4.093265533447266,
          4.110472202301025,
          4.125100135803223,
          4.138500213623047,
          4.155645370483398,
          4.17334508895874,
          4.191549777984619,
          4.211190223693848,
          4.2295403480529785,
          4.2472076416015625,
          4.266427516937256,
          4.288519382476807,
          4.3125,
          4.337500095367432,
          4.362500190734863,
          4.382800102233887,
          4.4031081199646,
          4.426558017730713,
          4.450368881225586,
          4.479340076446533,
          4.506519794464111,
          4.527821063995361,
          4.549685001373291,
          4.570497512817383,
          4.593384742736816,
          4.619150161743164,
          4.642004489898682,
          4.665290832519531,
          4.6888861656188965,
          4.711850166320801,
          4.735175132751465,
          4.7618865966796875,
          4.789484977722168,
          4.815065860748291,
          4.844692707061768,
          4.876425743103027,
          4.907336711883545,
          4.942461013793945,
          4.980999946594238,
          5.010666370391846,
          5.03380823135376,
          5.059091567993164,
          5.0817999839782715,
          5.104901313781738,
          5.131915092468262,
          5.159245491027832,
          5.188150405883789,
          5.218530654907227,
          5.246707439422607,
          5.276041030883789,
          5.308900833129883,
          5.346352577209473,
          5.3879241943359375,
          5.429186820983887,
          5.470698833465576,
          5.508992671966553,
          5.543130874633789,
          5.577094078063965,
          5.614544868469238,
          5.655467987060547,
          5.699642181396484,
          5.744587421417236,
          5.798553943634033,
          5.856944561004639,
          5.916145324707031,
          5.981869697570801,
          6.0355682373046875,
          6.07633113861084,
          6.115763187408447,
          6.164700031280518,
          6.2193498611450195,
          6.276067733764648,
          6.338966369628906,
          6.41348934173584,
          6.496452808380127,
          6.5723443031311035,
          6.643835544586182,
          6.73030424118042,
          6.823091506958008,
          6.922937393188477,
          7.054071426391602,
          7.199261665344238,
          7.354605674743652,
          7.506761074066162,
          7.653016567230225,
          7.811661720275879,
          8.000486373901367,
          8.212879180908203,
          8.441956520080566,
          8.764723777770996,
          9.388010025024414,
          10.087486267089844,
          10.660810470581055,
          11.920695304870605,
          13.940760612487793
         ],
         "type": "histogram",
         "xaxis": "x3",
         "yaxis": "y3"
        },
        {
         "name": "",
         "y": [
          -0.5027144362047524,
          -0.5027144362047523,
          -0.7494433057663528,
          -0.857203451737722,
          -0.8399190351975045,
          -0.879006609854979,
          -0.8876570191041927,
          -0.8934523382695648,
          -0.8934523382695648,
          -0.8869873294175773,
          -0.8818362280463398,
          -0.8826716365308256,
          -0.8822410236727578,
          -0.8801066814592438,
          -0.8797057263187159,
          -0.8737247765568247,
          -0.87343162895811,
          -0.8744409283108936,
          -0.8655578335839992,
          -0.8740903932893564,
          -0.8731355047989051,
          -0.8725158941427739,
          -0.8761522395381706,
          -0.8102304014936467,
          -0.819280733453628,
          -0.8204524939829708,
          -0.8019686935442701,
          -0.8019686935442701,
          -0.7943279831820305,
          -0.7723337403438996,
          -0.7541610687049707,
          -0.7688706339169493,
          -0.7653433653464968,
          -0.7667770279827238,
          -0.7451320250488677,
          -0.7466423889229175,
          -0.7415244684677926,
          -0.7281686831586355,
          -0.7082060782800566,
          -0.7156813122743049,
          -0.7147358030491895,
          -0.7164664211946343,
          -0.6641398749336955,
          -0.6532633782362831,
          -0.6472607963612518,
          -0.6258034025285483,
          -0.5951161261911467,
          -0.5899664424666083,
          -0.6134946705927009,
          -0.5992159401963775,
          -0.6009746254590344,
          -0.5893798490516455,
          -0.5874586038652804,
          -0.5841605687302656,
          -0.5810825643041891,
          -0.5806837032588116,
          -0.5642515492374595,
          -0.5658290697161207,
          -0.5646542067645006,
          -0.5665212453476366,
          -0.5712233519732814,
          -0.5495136722465921,
          -0.5224675620694132,
          -0.5228997301827486,
          -0.4906991583185874,
          -0.499617452669229,
          -0.49116243905650564,
          -0.47680536828624814,
          -0.4735004464960462,
          -0.47820894766655564,
          -0.47820894766655564,
          -0.4843525835911034,
          -0.45604709613172073,
          -0.4456581633483262,
          -0.46394076877299395,
          -0.4590143148461108,
          -0.4251096695424301,
          -0.4478821260907559,
          -0.4478821260907559,
          -0.4483338103000335,
          -0.44756972701095205,
          -0.4446015455773198,
          -0.40057412984842156,
          -0.3425452877691762,
          -0.3662238135400309,
          -0.3621557143411373,
          -0.361351969696053,
          -0.3588140984847653,
          -0.347021542072497,
          -0.3454656182404126,
          -0.34171087762597263,
          -0.34416446701203207,
          -0.3454859359184792,
          -0.3273796079795053,
          -0.3303961215902757,
          -0.33130271384827287,
          -0.33366411582178257,
          -0.3560983667986189,
          -0.278815669188236,
          -0.28810454220290516,
          -0.28624867500852264,
          -0.2791945680035692,
          -0.2827744856086298,
          -0.2712434529840706,
          -0.2676276524336858,
          -0.2811451835200939,
          -0.28207389410761874,
          -0.2537458068426656,
          -0.24874070582277402,
          -0.2796206831119369,
          -0.2651183416390649,
          -0.23862789161204462,
          -0.23584189851932869,
          -0.2431118094895005,
          -0.24175661429268092,
          -0.23257051117659686,
          -0.2214325141876706,
          -0.15946525997100006,
          -0.12530722848924075,
          -0.1689342761851013,
          -0.15034050278754002,
          -0.15841446482142146,
          -0.15588501966998713,
          -0.15298111932837397,
          -0.14914456095615441,
          -0.13459417687503974,
          -0.1352089713480304,
          -0.14347282514075785,
          -0.15052288860044902,
          -0.083241952191279,
          -0.05107196109569671,
          -0.054623495357523276,
          -0.08559325878843706,
          -0.0960518154469304,
          -0.0918778849465949,
          -0.06362528675990793,
          -0.028890288095007356,
          -0.024697798852294374,
          -0.024697798852294374,
          -0.03878828792604848,
          -0.046599619936454985,
          -0.0435050884197054,
          -0.05965132702958425,
          -0.06105005451114757,
          -0.044985727030082696,
          -0.05369831664831028,
          -0.013635895215551102,
          -0.012105721632845625,
          -0.02272919575792922,
          -0.014221031439989049,
          -0.016956245980889684,
          0.013303621524165256,
          0.027288679509341003,
          0.03184240269308022,
          0.03556577312335887,
          0.0013385320246435805,
          0.007391085929915663,
          0.006505709636228101,
          0.020318886458067082,
          -0.013727320340102865,
          -0.0016517320253130081,
          0.017905379437280662,
          0.032411623236798665,
          0.08371937445312978,
          0.1884244312263611,
          0.20178160695614691,
          0.18261420996170186,
          0.18258222311561115,
          0.14518919753338613,
          0.1580205855007257,
          0.1567230781056119,
          0.15098323790216733,
          0.15483014005682327,
          0.15419354782255526,
          0.15281785485372,
          0.1528772083472535,
          0.15519973615448218,
          0.16067263566624573,
          0.15969225803997467,
          0.17508056912706552,
          0.16335725973556212,
          0.16890743424947727,
          0.18937517381944038,
          0.19622305662548956,
          0.25775075474937453,
          0.23724427024214856,
          0.23751702506736544,
          0.23863102625128424,
          0.24842175480331444,
          0.24855518498704465,
          0.2900867976179852,
          0.3138894252846696,
          0.32970779489657565,
          0.337842317233667,
          0.3390423631794077,
          0.3351151017407349,
          0.32611705516539913,
          0.3312079819956016,
          0.323334642445704,
          0.3100042832603813,
          0.3137364939594714,
          0.32220492030551806,
          0.3543961977976726,
          0.4122961921240706,
          0.4698522485298586,
          0.4626855879588349,
          0.46187582457232235,
          0.5746217116894733,
          0.5560202459109934,
          0.6187864927795214,
          0.5044168361407312,
          0.5077003431664173,
          0.5645745773785343,
          0.5566364664785088,
          0.6437760678304242,
          0.5483597939140156,
          0.5521551440749496,
          0.5354391723955875,
          0.6613497843126986,
          0.6366933531841643,
          0.8338000714544475,
          0.7337180431987025,
          0.7136097718142974,
          0.8016682433881902,
          0.8415732537996472,
          1.0221357218489404,
          0.9743602553796706,
          0.9474203798064126,
          0.9328816445737598,
          0.9204076288973416,
          0.9461125707502822,
          0.9567978820910775,
          1.0090113361568152,
          1.0067118914414412,
          1.0657756364340119,
          1.2239077620683247,
          1.1803171667167525,
          1.2867655786647165,
          1.3272867800847505,
          1.3260506607207885,
          1.3107144233317936,
          1.4353563823294357,
          1.4533399984757298,
          1.4268382232058772,
          1.447588394594985,
          1.6000537235109096,
          1.5578165916958489,
          1.849657535571811,
          1.9826598947333887,
          2.0166291029081433,
          2.054694014714288,
          2.103496702004716,
          2.2640419227193074,
          2.3485055984480105,
          2.485276009147562,
          2.485276009147562
         ],
         "type": "box",
         "xaxis": "x2",
         "yaxis": "y2"
        }
       ],
       "layout": {
        "template": {
         "data": {
          "histogram2dcontour": [
           {
            "type": "histogram2dcontour",
            "colorbar": {
             "outlinewidth": 0,
             "ticks": ""
            },
            "colorscale": [
             [
              0.0,
              "#0d0887"
             ],
             [
              0.1111111111111111,
              "#46039f"
             ],
             [
              0.2222222222222222,
              "#7201a8"
             ],
             [
              0.3333333333333333,
              "#9c179e"
             ],
             [
              0.4444444444444444,
              "#bd3786"
             ],
             [
              0.5555555555555556,
              "#d8576b"
             ],
             [
              0.6666666666666666,
              "#ed7953"
             ],
             [
              0.7777777777777778,
              "#fb9f3a"
             ],
             [
              0.8888888888888888,
              "#fdca26"
             ],
             [
              1.0,
              "#f0f921"
             ]
            ]
           }
          ],
          "choropleth": [
           {
            "type": "choropleth",
            "colorbar": {
             "outlinewidth": 0,
             "ticks": ""
            }
           }
          ],
          "histogram2d": [
           {
            "type": "histogram2d",
            "colorbar": {
             "outlinewidth": 0,
             "ticks": ""
            },
            "colorscale": [
             [
              0.0,
              "#0d0887"
             ],
             [
              0.1111111111111111,
              "#46039f"
             ],
             [
              0.2222222222222222,
              "#7201a8"
             ],
             [
              0.3333333333333333,
              "#9c179e"
             ],
             [
              0.4444444444444444,
              "#bd3786"
             ],
             [
              0.5555555555555556,
              "#d8576b"
             ],
             [
              0.6666666666666666,
              "#ed7953"
             ],
             [
              0.7777777777777778,
              "#fb9f3a"
             ],
             [
              0.8888888888888888,
              "#fdca26"
             ],
             [
              1.0,
              "#f0f921"
             ]
            ]
           }
          ],
          "heatmap": [
           {
            "type": "heatmap",
            "colorbar": {
             "outlinewidth": 0,
             "ticks": ""
            },
            "colorscale": [
             [
              0.0,
              "#0d0887"
             ],
             [
              0.1111111111111111,
              "#46039f"
             ],
             [
              0.2222222222222222,
              "#7201a8"
             ],
             [
              0.3333333333333333,
              "#9c179e"
             ],
             [
              0.4444444444444444,
              "#bd3786"
             ],
             [
              0.5555555555555556,
              "#d8576b"
             ],
             [
              0.6666666666666666,
              "#ed7953"
             ],
             [
              0.7777777777777778,
              "#fb9f3a"
             ],
             [
              0.8888888888888888,
              "#fdca26"
             ],
             [
              1.0,
              "#f0f921"
             ]
            ]
           }
          ],
          "heatmapgl": [
           {
            "type": "heatmapgl",
            "colorbar": {
             "outlinewidth": 0,
             "ticks": ""
            },
            "colorscale": [
             [
              0.0,
              "#0d0887"
             ],
             [
              0.1111111111111111,
              "#46039f"
             ],
             [
              0.2222222222222222,
              "#7201a8"
             ],
             [
              0.3333333333333333,
              "#9c179e"
             ],
             [
              0.4444444444444444,
              "#bd3786"
             ],
             [
              0.5555555555555556,
              "#d8576b"
             ],
             [
              0.6666666666666666,
              "#ed7953"
             ],
             [
              0.7777777777777778,
              "#fb9f3a"
             ],
             [
              0.8888888888888888,
              "#fdca26"
             ],
             [
              1.0,
              "#f0f921"
             ]
            ]
           }
          ],
          "contourcarpet": [
           {
            "type": "contourcarpet",
            "colorbar": {
             "outlinewidth": 0,
             "ticks": ""
            }
           }
          ],
          "contour": [
           {
            "type": "contour",
            "colorbar": {
             "outlinewidth": 0,
             "ticks": ""
            },
            "colorscale": [
             [
              0.0,
              "#0d0887"
             ],
             [
              0.1111111111111111,
              "#46039f"
             ],
             [
              0.2222222222222222,
              "#7201a8"
             ],
             [
              0.3333333333333333,
              "#9c179e"
             ],
             [
              0.4444444444444444,
              "#bd3786"
             ],
             [
              0.5555555555555556,
              "#d8576b"
             ],
             [
              0.6666666666666666,
              "#ed7953"
             ],
             [
              0.7777777777777778,
              "#fb9f3a"
             ],
             [
              0.8888888888888888,
              "#fdca26"
             ],
             [
              1.0,
              "#f0f921"
             ]
            ]
           }
          ],
          "surface": [
           {
            "type": "surface",
            "colorbar": {
             "outlinewidth": 0,
             "ticks": ""
            },
            "colorscale": [
             [
              0.0,
              "#0d0887"
             ],
             [
              0.1111111111111111,
              "#46039f"
             ],
             [
              0.2222222222222222,
              "#7201a8"
             ],
             [
              0.3333333333333333,
              "#9c179e"
             ],
             [
              0.4444444444444444,
              "#bd3786"
             ],
             [
              0.5555555555555556,
              "#d8576b"
             ],
             [
              0.6666666666666666,
              "#ed7953"
             ],
             [
              0.7777777777777778,
              "#fb9f3a"
             ],
             [
              0.8888888888888888,
              "#fdca26"
             ],
             [
              1.0,
              "#f0f921"
             ]
            ]
           }
          ],
          "mesh3d": [
           {
            "type": "mesh3d",
            "colorbar": {
             "outlinewidth": 0,
             "ticks": ""
            }
           }
          ],
          "scatter": [
           {
            "fillpattern": {
             "fillmode": "overlay",
             "size": 10,
             "solidity": 0.2
            },
            "type": "scatter"
           }
          ],
          "parcoords": [
           {
            "type": "parcoords",
            "line": {
             "colorbar": {
              "outlinewidth": 0,
              "ticks": ""
             }
            }
           }
          ],
          "scatterpolargl": [
           {
            "type": "scatterpolargl",
            "marker": {
             "colorbar": {
              "outlinewidth": 0,
              "ticks": ""
             }
            }
           }
          ],
          "bar": [
           {
            "error_x": {
             "color": "#2a3f5f"
            },
            "error_y": {
             "color": "#2a3f5f"
            },
            "marker": {
             "line": {
              "color": "#E5ECF6",
              "width": 0.5
             },
             "pattern": {
              "fillmode": "overlay",
              "size": 10,
              "solidity": 0.2
             }
            },
            "type": "bar"
           }
          ],
          "scattergeo": [
           {
            "type": "scattergeo",
            "marker": {
             "colorbar": {
              "outlinewidth": 0,
              "ticks": ""
             }
            }
           }
          ],
          "scatterpolar": [
           {
            "type": "scatterpolar",
            "marker": {
             "colorbar": {
              "outlinewidth": 0,
              "ticks": ""
             }
            }
           }
          ],
          "histogram": [
           {
            "marker": {
             "pattern": {
              "fillmode": "overlay",
              "size": 10,
              "solidity": 0.2
             }
            },
            "type": "histogram"
           }
          ],
          "scattergl": [
           {
            "type": "scattergl",
            "marker": {
             "colorbar": {
              "outlinewidth": 0,
              "ticks": ""
             }
            }
           }
          ],
          "scatter3d": [
           {
            "type": "scatter3d",
            "line": {
             "colorbar": {
              "outlinewidth": 0,
              "ticks": ""
             }
            },
            "marker": {
             "colorbar": {
              "outlinewidth": 0,
              "ticks": ""
             }
            }
           }
          ],
          "scattermapbox": [
           {
            "type": "scattermapbox",
            "marker": {
             "colorbar": {
              "outlinewidth": 0,
              "ticks": ""
             }
            }
           }
          ],
          "scatterternary": [
           {
            "type": "scatterternary",
            "marker": {
             "colorbar": {
              "outlinewidth": 0,
              "ticks": ""
             }
            }
           }
          ],
          "scattercarpet": [
           {
            "type": "scattercarpet",
            "marker": {
             "colorbar": {
              "outlinewidth": 0,
              "ticks": ""
             }
            }
           }
          ],
          "carpet": [
           {
            "aaxis": {
             "endlinecolor": "#2a3f5f",
             "gridcolor": "white",
             "linecolor": "white",
             "minorgridcolor": "white",
             "startlinecolor": "#2a3f5f"
            },
            "baxis": {
             "endlinecolor": "#2a3f5f",
             "gridcolor": "white",
             "linecolor": "white",
             "minorgridcolor": "white",
             "startlinecolor": "#2a3f5f"
            },
            "type": "carpet"
           }
          ],
          "table": [
           {
            "cells": {
             "fill": {
              "color": "#EBF0F8"
             },
             "line": {
              "color": "white"
             }
            },
            "header": {
             "fill": {
              "color": "#C8D4E3"
             },
             "line": {
              "color": "white"
             }
            },
            "type": "table"
           }
          ],
          "barpolar": [
           {
            "marker": {
             "line": {
              "color": "#E5ECF6",
              "width": 0.5
             },
             "pattern": {
              "fillmode": "overlay",
              "size": 10,
              "solidity": 0.2
             }
            },
            "type": "barpolar"
           }
          ],
          "pie": [
           {
            "automargin": true,
            "type": "pie"
           }
          ]
         },
         "layout": {
          "autotypenumbers": "strict",
          "colorway": [
           "#636efa",
           "#EF553B",
           "#00cc96",
           "#ab63fa",
           "#FFA15A",
           "#19d3f3",
           "#FF6692",
           "#B6E880",
           "#FF97FF",
           "#FECB52"
          ],
          "font": {
           "color": "#2a3f5f"
          },
          "hovermode": "closest",
          "hoverlabel": {
           "align": "left"
          },
          "paper_bgcolor": "white",
          "plot_bgcolor": "#E5ECF6",
          "polar": {
           "bgcolor": "#E5ECF6",
           "angularaxis": {
            "gridcolor": "white",
            "linecolor": "white",
            "ticks": ""
           },
           "radialaxis": {
            "gridcolor": "white",
            "linecolor": "white",
            "ticks": ""
           }
          },
          "ternary": {
           "bgcolor": "#E5ECF6",
           "aaxis": {
            "gridcolor": "white",
            "linecolor": "white",
            "ticks": ""
           },
           "baxis": {
            "gridcolor": "white",
            "linecolor": "white",
            "ticks": ""
           },
           "caxis": {
            "gridcolor": "white",
            "linecolor": "white",
            "ticks": ""
           }
          },
          "coloraxis": {
           "colorbar": {
            "outlinewidth": 0,
            "ticks": ""
           }
          },
          "colorscale": {
           "sequential": [
            [
             0.0,
             "#0d0887"
            ],
            [
             0.1111111111111111,
             "#46039f"
            ],
            [
             0.2222222222222222,
             "#7201a8"
            ],
            [
             0.3333333333333333,
             "#9c179e"
            ],
            [
             0.4444444444444444,
             "#bd3786"
            ],
            [
             0.5555555555555556,
             "#d8576b"
            ],
            [
             0.6666666666666666,
             "#ed7953"
            ],
            [
             0.7777777777777778,
             "#fb9f3a"
            ],
            [
             0.8888888888888888,
             "#fdca26"
            ],
            [
             1.0,
             "#f0f921"
            ]
           ],
           "sequentialminus": [
            [
             0.0,
             "#0d0887"
            ],
            [
             0.1111111111111111,
             "#46039f"
            ],
            [
             0.2222222222222222,
             "#7201a8"
            ],
            [
             0.3333333333333333,
             "#9c179e"
            ],
            [
             0.4444444444444444,
             "#bd3786"
            ],
            [
             0.5555555555555556,
             "#d8576b"
            ],
            [
             0.6666666666666666,
             "#ed7953"
            ],
            [
             0.7777777777777778,
             "#fb9f3a"
            ],
            [
             0.8888888888888888,
             "#fdca26"
            ],
            [
             1.0,
             "#f0f921"
            ]
           ],
           "diverging": [
            [
             0,
             "#8e0152"
            ],
            [
             0.1,
             "#c51b7d"
            ],
            [
             0.2,
             "#de77ae"
            ],
            [
             0.3,
             "#f1b6da"
            ],
            [
             0.4,
             "#fde0ef"
            ],
            [
             0.5,
             "#f7f7f7"
            ],
            [
             0.6,
             "#e6f5d0"
            ],
            [
             0.7,
             "#b8e186"
            ],
            [
             0.8,
             "#7fbc41"
            ],
            [
             0.9,
             "#4d9221"
            ],
            [
             1,
             "#276419"
            ]
           ]
          },
          "xaxis": {
           "gridcolor": "white",
           "linecolor": "white",
           "ticks": "",
           "title": {
            "standoff": 15
           },
           "zerolinecolor": "white",
           "automargin": true,
           "zerolinewidth": 2
          },
          "yaxis": {
           "gridcolor": "white",
           "linecolor": "white",
           "ticks": "",
           "title": {
            "standoff": 15
           },
           "zerolinecolor": "white",
           "automargin": true,
           "zerolinewidth": 2
          },
          "scene": {
           "xaxis": {
            "backgroundcolor": "#E5ECF6",
            "gridcolor": "white",
            "linecolor": "white",
            "showbackground": true,
            "ticks": "",
            "zerolinecolor": "white",
            "gridwidth": 2
           },
           "yaxis": {
            "backgroundcolor": "#E5ECF6",
            "gridcolor": "white",
            "linecolor": "white",
            "showbackground": true,
            "ticks": "",
            "zerolinecolor": "white",
            "gridwidth": 2
           },
           "zaxis": {
            "backgroundcolor": "#E5ECF6",
            "gridcolor": "white",
            "linecolor": "white",
            "showbackground": true,
            "ticks": "",
            "zerolinecolor": "white",
            "gridwidth": 2
           }
          },
          "shapedefaults": {
           "line": {
            "color": "#2a3f5f"
           }
          },
          "annotationdefaults": {
           "arrowcolor": "#2a3f5f",
           "arrowhead": 0,
           "arrowwidth": 1
          },
          "geo": {
           "bgcolor": "white",
           "landcolor": "#E5ECF6",
           "subunitcolor": "white",
           "showland": true,
           "showlakes": true,
           "lakecolor": "white"
          },
          "title": {
           "x": 0.05
          },
          "mapbox": {
           "style": "light"
          }
         }
        },
        "xaxis": {
         "anchor": "y",
         "domain": [
          0.0,
          0.784
         ],
         "matches": "x3",
         "showticklabels": false
        },
        "yaxis": {
         "anchor": "x",
         "domain": [
          0.51,
          1.0
         ],
         "title": {
          "text": "Contribution"
         }
        },
        "xaxis2": {
         "anchor": "y2",
         "domain": [
          0.804,
          1.0
         ],
         "matches": "x4",
         "showticklabels": false
        },
        "yaxis2": {
         "anchor": "x2",
         "domain": [
          0.51,
          1.0
         ],
         "matches": "y",
         "showticklabels": false
        },
        "xaxis3": {
         "anchor": "y3",
         "domain": [
          0.0,
          0.784
         ],
         "title": {
          "text": "MedInc"
         }
        },
        "yaxis3": {
         "anchor": "x3",
         "domain": [
          0.0,
          0.49
         ],
         "title": {
          "text": "Count"
         }
        },
        "xaxis4": {
         "anchor": "y4",
         "domain": [
          0.804,
          1.0
         ]
        },
        "yaxis4": {
         "anchor": "x4",
         "domain": [
          0.0,
          0.49
         ],
         "matches": "y3",
         "showticklabels": false
        },
        "annotations": [
         {
          "font": {
           "size": 16
          },
          "showarrow": false,
          "text": "MedHouseVal prediction",
          "x": 0.392,
          "xanchor": "center",
          "xref": "paper",
          "y": 1.0,
          "yanchor": "bottom",
          "yref": "paper"
         },
         {
          "font": {
           "size": 16
          },
          "showarrow": false,
          "text": "Contribution distribution",
          "x": 0.902,
          "xanchor": "center",
          "xref": "paper",
          "y": 1.0,
          "yanchor": "bottom",
          "yref": "paper"
         }
        ],
        "showlegend": false,
        "title": {
         "text": "Contributions are on the same scale as MedHouseVal,<br>and centered vertically on the train set."
        }
       },
       "config": {
        "plotlyServerURL": "https://plot.ly"
       }
      },
      "text/html": "<div>                            <div id=\"bc9d250a-751d-449e-8ee7-ce935fe09cde\" class=\"plotly-graph-div\" style=\"height:525px; width:100%;\"></div>            <script type=\"text/javascript\">                require([\"plotly\"], function(Plotly) {                    window.PLOTLYENV=window.PLOTLYENV || {};                                    if (document.getElementById(\"bc9d250a-751d-449e-8ee7-ce935fe09cde\")) {                    Plotly.newPlot(                        \"bc9d250a-751d-449e-8ee7-ce935fe09cde\",                        [{\"hovertemplate\":\"x=%{x}<br>y=%{y}<extra></extra>\",\"legendgroup\":\"\",\"line\":{\"color\":\"#636efa\",\"dash\":\"solid\",\"shape\":\"hv\"},\"marker\":{\"symbol\":\"circle\"},\"mode\":\"lines\",\"name\":\"\",\"orientation\":\"v\",\"showlegend\":false,\"x\":[0.6807082295417786,0.6807082295417786,0.9307581782341003,1.0621757507324219,1.1580257415771484,1.218025803565979,1.2784258127212524,1.3400319814682007,1.3883320093154907,1.4321527481079102,1.4709820747375488,1.5062659978866577,1.5441367626190186,1.5817261934280396,1.6129761934280396,1.6359878778457642,1.6594284772872925,1.6832398176193237,1.705554723739624,1.724305510520935,1.7444086074829102,1.7693737745285034,1.795880913734436,1.8246427774429321,1.8533177375793457,1.8793853521347046,1.9020947217941284,1.9236787557601929,1.9451029300689697,1.9652738571166992,1.9848754405975342,2.004352331161499,2.022470235824585,2.0399022102355957,2.0587573051452637,2.07922625541687,2.099710464477539,2.1172327995300293,2.1347339153289795,2.151340961456299,2.166727304458618,2.180915355682373,2.192737340927124,2.207794189453125,2.2238385677337646,2.2389118671417236,2.255949020385742,2.2758119106292725,2.294559955596924,2.3106775283813477,2.3260557651519775,2.3414499759674072,2.3585023880004883,2.375882625579834,2.39105486869812,2.408313751220703,2.4288876056671143,2.4485983848571777,2.467378616333008,2.4860198497772217,2.504241466522217,2.5189833641052246,2.5324649810791016,2.5475008487701416,2.5734000205993652,2.5856499671936035,2.5989999771118164,2.614449977874756,2.6269772052764893,2.6399271488189697,2.6549489498138428,2.6685991287231445,2.682588815689087,2.696256160736084,2.709385633468628,2.724159002304077,2.739142894744873,2.756209373474121,2.774427890777588,2.792573928833008,2.8109514713287354,2.828338623046875,2.8461902141571045,2.865149974822998,2.8828001022338867,2.898467540740967,2.9146571159362793,2.9323787689208984,2.9500391483306885,2.968832015991211,2.9866151809692383,3.0017333030700684,3.014744997024536,3.0262718200683594,3.0389835834503174,3.051931619644165,3.0653250217437744,3.0792999267578125,3.092750072479248,3.105936050415039,3.1189358234405518,3.132349967956543,3.146749973297119,3.1591498851776123,3.170413017272949,3.1820080280303955,3.19384503364563,3.2065999507904053,3.220844268798828,3.234044313430786,3.248250961303711,3.265263557434082,3.280324697494507,3.2962160110473633,3.3158135414123535,3.3350095748901367,3.352449893951416,3.3680500984191895,3.3845999240875244,3.4024500846862793,3.4202589988708496,3.4402313232421875,3.4603283405303955,3.4793059825897217,3.4979913234710693,3.5131986141204834,3.525581121444702,3.5395236015319824,3.5532233715057373,3.567054271697998,3.5819308757781982,3.596273422241211,3.612252712249756,3.627779245376587,3.640049934387207,3.6538000106811523,3.6677000522613525,3.6805500984191895,3.696000099182129,3.7121500968933105,3.727252244949341,3.742352247238159,3.7604000568389893,3.778249979019165,3.7946486473083496,3.811948537826538,3.832106590270996,3.8540573120117188,3.873108386993408,3.8924076557159424,3.912717342376709,3.9335126876831055,3.9537951946258545,3.971505880355835,3.989905834197998,4.007221221923828,4.020621299743652,4.034249782562256,4.04764986038208,4.0608062744140625,4.076299667358398,4.093265533447266,4.110472202301025,4.125100135803223,4.138500213623047,4.155645370483398,4.17334508895874,4.191549777984619,4.211190223693848,4.2295403480529785,4.2472076416015625,4.266427516937256,4.288519382476807,4.3125,4.337500095367432,4.362500190734863,4.382800102233887,4.4031081199646,4.426558017730713,4.450368881225586,4.479340076446533,4.506519794464111,4.527821063995361,4.549685001373291,4.570497512817383,4.593384742736816,4.619150161743164,4.642004489898682,4.665290832519531,4.6888861656188965,4.711850166320801,4.735175132751465,4.7618865966796875,4.789484977722168,4.815065860748291,4.844692707061768,4.876425743103027,4.907336711883545,4.942461013793945,4.980999946594238,5.010666370391846,5.03380823135376,5.059091567993164,5.0817999839782715,5.104901313781738,5.131915092468262,5.159245491027832,5.188150405883789,5.218530654907227,5.246707439422607,5.276041030883789,5.308900833129883,5.346352577209473,5.3879241943359375,5.429186820983887,5.470698833465576,5.508992671966553,5.543130874633789,5.577094078063965,5.614544868469238,5.655467987060547,5.699642181396484,5.744587421417236,5.798553943634033,5.856944561004639,5.916145324707031,5.981869697570801,6.0355682373046875,6.07633113861084,6.115763187408447,6.164700031280518,6.2193498611450195,6.276067733764648,6.338966369628906,6.41348934173584,6.496452808380127,6.5723443031311035,6.643835544586182,6.73030424118042,6.823091506958008,6.922937393188477,7.054071426391602,7.199261665344238,7.354605674743652,7.506761074066162,7.653016567230225,7.811661720275879,8.000486373901367,8.212879180908203,8.441956520080566,8.764723777770996,9.388010025024414,10.087486267089844,10.660810470581055,11.920695304870605,13.940760612487793],\"xaxis\":\"x\",\"y\":[-0.5027144362047524,-0.5027144362047523,-0.7494433057663528,-0.857203451737722,-0.8399190351975045,-0.879006609854979,-0.8876570191041927,-0.8934523382695648,-0.8934523382695648,-0.8869873294175773,-0.8818362280463398,-0.8826716365308256,-0.8822410236727578,-0.8801066814592438,-0.8797057263187159,-0.8737247765568247,-0.87343162895811,-0.8744409283108936,-0.8655578335839992,-0.8740903932893564,-0.8731355047989051,-0.8725158941427739,-0.8761522395381706,-0.8102304014936467,-0.819280733453628,-0.8204524939829708,-0.8019686935442701,-0.8019686935442701,-0.7943279831820305,-0.7723337403438996,-0.7541610687049707,-0.7688706339169493,-0.7653433653464968,-0.7667770279827238,-0.7451320250488677,-0.7466423889229175,-0.7415244684677926,-0.7281686831586355,-0.7082060782800566,-0.7156813122743049,-0.7147358030491895,-0.7164664211946343,-0.6641398749336955,-0.6532633782362831,-0.6472607963612518,-0.6258034025285483,-0.5951161261911467,-0.5899664424666083,-0.6134946705927009,-0.5992159401963775,-0.6009746254590344,-0.5893798490516455,-0.5874586038652804,-0.5841605687302656,-0.5810825643041891,-0.5806837032588116,-0.5642515492374595,-0.5658290697161207,-0.5646542067645006,-0.5665212453476366,-0.5712233519732814,-0.5495136722465921,-0.5224675620694132,-0.5228997301827486,-0.4906991583185874,-0.499617452669229,-0.49116243905650564,-0.47680536828624814,-0.4735004464960462,-0.47820894766655564,-0.47820894766655564,-0.4843525835911034,-0.45604709613172073,-0.4456581633483262,-0.46394076877299395,-0.4590143148461108,-0.4251096695424301,-0.4478821260907559,-0.4478821260907559,-0.4483338103000335,-0.44756972701095205,-0.4446015455773198,-0.40057412984842156,-0.3425452877691762,-0.3662238135400309,-0.3621557143411373,-0.361351969696053,-0.3588140984847653,-0.347021542072497,-0.3454656182404126,-0.34171087762597263,-0.34416446701203207,-0.3454859359184792,-0.3273796079795053,-0.3303961215902757,-0.33130271384827287,-0.33366411582178257,-0.3560983667986189,-0.278815669188236,-0.28810454220290516,-0.28624867500852264,-0.2791945680035692,-0.2827744856086298,-0.2712434529840706,-0.2676276524336858,-0.2811451835200939,-0.28207389410761874,-0.2537458068426656,-0.24874070582277402,-0.2796206831119369,-0.2651183416390649,-0.23862789161204462,-0.23584189851932869,-0.2431118094895005,-0.24175661429268092,-0.23257051117659686,-0.2214325141876706,-0.15946525997100006,-0.12530722848924075,-0.1689342761851013,-0.15034050278754002,-0.15841446482142146,-0.15588501966998713,-0.15298111932837397,-0.14914456095615441,-0.13459417687503974,-0.1352089713480304,-0.14347282514075785,-0.15052288860044902,-0.083241952191279,-0.05107196109569671,-0.054623495357523276,-0.08559325878843706,-0.0960518154469304,-0.0918778849465949,-0.06362528675990793,-0.028890288095007356,-0.024697798852294374,-0.024697798852294374,-0.03878828792604848,-0.046599619936454985,-0.0435050884197054,-0.05965132702958425,-0.06105005451114757,-0.044985727030082696,-0.05369831664831028,-0.013635895215551102,-0.012105721632845625,-0.02272919575792922,-0.014221031439989049,-0.016956245980889684,0.013303621524165256,0.027288679509341003,0.03184240269308022,0.03556577312335887,0.0013385320246435805,0.007391085929915663,0.006505709636228101,0.020318886458067082,-0.013727320340102865,-0.0016517320253130081,0.017905379437280662,0.032411623236798665,0.08371937445312978,0.1884244312263611,0.20178160695614691,0.18261420996170186,0.18258222311561115,0.14518919753338613,0.1580205855007257,0.1567230781056119,0.15098323790216733,0.15483014005682327,0.15419354782255526,0.15281785485372,0.1528772083472535,0.15519973615448218,0.16067263566624573,0.15969225803997467,0.17508056912706552,0.16335725973556212,0.16890743424947727,0.18937517381944038,0.19622305662548956,0.25775075474937453,0.23724427024214856,0.23751702506736544,0.23863102625128424,0.24842175480331444,0.24855518498704465,0.2900867976179852,0.3138894252846696,0.32970779489657565,0.337842317233667,0.3390423631794077,0.3351151017407349,0.32611705516539913,0.3312079819956016,0.323334642445704,0.3100042832603813,0.3137364939594714,0.32220492030551806,0.3543961977976726,0.4122961921240706,0.4698522485298586,0.4626855879588349,0.46187582457232235,0.5746217116894733,0.5560202459109934,0.6187864927795214,0.5044168361407312,0.5077003431664173,0.5645745773785343,0.5566364664785088,0.6437760678304242,0.5483597939140156,0.5521551440749496,0.5354391723955875,0.6613497843126986,0.6366933531841643,0.8338000714544475,0.7337180431987025,0.7136097718142974,0.8016682433881902,0.8415732537996472,1.0221357218489404,0.9743602553796706,0.9474203798064126,0.9328816445737598,0.9204076288973416,0.9461125707502822,0.9567978820910775,1.0090113361568152,1.0067118914414412,1.0657756364340119,1.2239077620683247,1.1803171667167525,1.2867655786647165,1.3272867800847505,1.3260506607207885,1.3107144233317936,1.4353563823294357,1.4533399984757298,1.4268382232058772,1.447588394594985,1.6000537235109096,1.5578165916958489,1.849657535571811,1.9826598947333887,2.0166291029081433,2.054694014714288,2.103496702004716,2.2640419227193074,2.3485055984480105,2.485276009147562,2.485276009147562],\"yaxis\":\"y\",\"type\":\"scatter\"},{\"name\":\"MedInc distribution\",\"x\":[0.6807082295417786,0.6807082295417786,0.9307581782341003,1.0621757507324219,1.1580257415771484,1.218025803565979,1.2784258127212524,1.3400319814682007,1.3883320093154907,1.4321527481079102,1.4709820747375488,1.5062659978866577,1.5441367626190186,1.5817261934280396,1.6129761934280396,1.6359878778457642,1.6594284772872925,1.6832398176193237,1.705554723739624,1.724305510520935,1.7444086074829102,1.7693737745285034,1.795880913734436,1.8246427774429321,1.8533177375793457,1.8793853521347046,1.9020947217941284,1.9236787557601929,1.9451029300689697,1.9652738571166992,1.9848754405975342,2.004352331161499,2.022470235824585,2.0399022102355957,2.0587573051452637,2.07922625541687,2.099710464477539,2.1172327995300293,2.1347339153289795,2.151340961456299,2.166727304458618,2.180915355682373,2.192737340927124,2.207794189453125,2.2238385677337646,2.2389118671417236,2.255949020385742,2.2758119106292725,2.294559955596924,2.3106775283813477,2.3260557651519775,2.3414499759674072,2.3585023880004883,2.375882625579834,2.39105486869812,2.408313751220703,2.4288876056671143,2.4485983848571777,2.467378616333008,2.4860198497772217,2.504241466522217,2.5189833641052246,2.5324649810791016,2.5475008487701416,2.5734000205993652,2.5856499671936035,2.5989999771118164,2.614449977874756,2.6269772052764893,2.6399271488189697,2.6549489498138428,2.6685991287231445,2.682588815689087,2.696256160736084,2.709385633468628,2.724159002304077,2.739142894744873,2.756209373474121,2.774427890777588,2.792573928833008,2.8109514713287354,2.828338623046875,2.8461902141571045,2.865149974822998,2.8828001022338867,2.898467540740967,2.9146571159362793,2.9323787689208984,2.9500391483306885,2.968832015991211,2.9866151809692383,3.0017333030700684,3.014744997024536,3.0262718200683594,3.0389835834503174,3.051931619644165,3.0653250217437744,3.0792999267578125,3.092750072479248,3.105936050415039,3.1189358234405518,3.132349967956543,3.146749973297119,3.1591498851776123,3.170413017272949,3.1820080280303955,3.19384503364563,3.2065999507904053,3.220844268798828,3.234044313430786,3.248250961303711,3.265263557434082,3.280324697494507,3.2962160110473633,3.3158135414123535,3.3350095748901367,3.352449893951416,3.3680500984191895,3.3845999240875244,3.4024500846862793,3.4202589988708496,3.4402313232421875,3.4603283405303955,3.4793059825897217,3.4979913234710693,3.5131986141204834,3.525581121444702,3.5395236015319824,3.5532233715057373,3.567054271697998,3.5819308757781982,3.596273422241211,3.612252712249756,3.627779245376587,3.640049934387207,3.6538000106811523,3.6677000522613525,3.6805500984191895,3.696000099182129,3.7121500968933105,3.727252244949341,3.742352247238159,3.7604000568389893,3.778249979019165,3.7946486473083496,3.811948537826538,3.832106590270996,3.8540573120117188,3.873108386993408,3.8924076557159424,3.912717342376709,3.9335126876831055,3.9537951946258545,3.971505880355835,3.989905834197998,4.007221221923828,4.020621299743652,4.034249782562256,4.04764986038208,4.0608062744140625,4.076299667358398,4.093265533447266,4.110472202301025,4.125100135803223,4.138500213623047,4.155645370483398,4.17334508895874,4.191549777984619,4.211190223693848,4.2295403480529785,4.2472076416015625,4.266427516937256,4.288519382476807,4.3125,4.337500095367432,4.362500190734863,4.382800102233887,4.4031081199646,4.426558017730713,4.450368881225586,4.479340076446533,4.506519794464111,4.527821063995361,4.549685001373291,4.570497512817383,4.593384742736816,4.619150161743164,4.642004489898682,4.665290832519531,4.6888861656188965,4.711850166320801,4.735175132751465,4.7618865966796875,4.789484977722168,4.815065860748291,4.844692707061768,4.876425743103027,4.907336711883545,4.942461013793945,4.980999946594238,5.010666370391846,5.03380823135376,5.059091567993164,5.0817999839782715,5.104901313781738,5.131915092468262,5.159245491027832,5.188150405883789,5.218530654907227,5.246707439422607,5.276041030883789,5.308900833129883,5.346352577209473,5.3879241943359375,5.429186820983887,5.470698833465576,5.508992671966553,5.543130874633789,5.577094078063965,5.614544868469238,5.655467987060547,5.699642181396484,5.744587421417236,5.798553943634033,5.856944561004639,5.916145324707031,5.981869697570801,6.0355682373046875,6.07633113861084,6.115763187408447,6.164700031280518,6.2193498611450195,6.276067733764648,6.338966369628906,6.41348934173584,6.496452808380127,6.5723443031311035,6.643835544586182,6.73030424118042,6.823091506958008,6.922937393188477,7.054071426391602,7.199261665344238,7.354605674743652,7.506761074066162,7.653016567230225,7.811661720275879,8.000486373901367,8.212879180908203,8.441956520080566,8.764723777770996,9.388010025024414,10.087486267089844,10.660810470581055,11.920695304870605,13.940760612487793],\"type\":\"histogram\",\"xaxis\":\"x3\",\"yaxis\":\"y3\"},{\"name\":\"\",\"y\":[-0.5027144362047524,-0.5027144362047523,-0.7494433057663528,-0.857203451737722,-0.8399190351975045,-0.879006609854979,-0.8876570191041927,-0.8934523382695648,-0.8934523382695648,-0.8869873294175773,-0.8818362280463398,-0.8826716365308256,-0.8822410236727578,-0.8801066814592438,-0.8797057263187159,-0.8737247765568247,-0.87343162895811,-0.8744409283108936,-0.8655578335839992,-0.8740903932893564,-0.8731355047989051,-0.8725158941427739,-0.8761522395381706,-0.8102304014936467,-0.819280733453628,-0.8204524939829708,-0.8019686935442701,-0.8019686935442701,-0.7943279831820305,-0.7723337403438996,-0.7541610687049707,-0.7688706339169493,-0.7653433653464968,-0.7667770279827238,-0.7451320250488677,-0.7466423889229175,-0.7415244684677926,-0.7281686831586355,-0.7082060782800566,-0.7156813122743049,-0.7147358030491895,-0.7164664211946343,-0.6641398749336955,-0.6532633782362831,-0.6472607963612518,-0.6258034025285483,-0.5951161261911467,-0.5899664424666083,-0.6134946705927009,-0.5992159401963775,-0.6009746254590344,-0.5893798490516455,-0.5874586038652804,-0.5841605687302656,-0.5810825643041891,-0.5806837032588116,-0.5642515492374595,-0.5658290697161207,-0.5646542067645006,-0.5665212453476366,-0.5712233519732814,-0.5495136722465921,-0.5224675620694132,-0.5228997301827486,-0.4906991583185874,-0.499617452669229,-0.49116243905650564,-0.47680536828624814,-0.4735004464960462,-0.47820894766655564,-0.47820894766655564,-0.4843525835911034,-0.45604709613172073,-0.4456581633483262,-0.46394076877299395,-0.4590143148461108,-0.4251096695424301,-0.4478821260907559,-0.4478821260907559,-0.4483338103000335,-0.44756972701095205,-0.4446015455773198,-0.40057412984842156,-0.3425452877691762,-0.3662238135400309,-0.3621557143411373,-0.361351969696053,-0.3588140984847653,-0.347021542072497,-0.3454656182404126,-0.34171087762597263,-0.34416446701203207,-0.3454859359184792,-0.3273796079795053,-0.3303961215902757,-0.33130271384827287,-0.33366411582178257,-0.3560983667986189,-0.278815669188236,-0.28810454220290516,-0.28624867500852264,-0.2791945680035692,-0.2827744856086298,-0.2712434529840706,-0.2676276524336858,-0.2811451835200939,-0.28207389410761874,-0.2537458068426656,-0.24874070582277402,-0.2796206831119369,-0.2651183416390649,-0.23862789161204462,-0.23584189851932869,-0.2431118094895005,-0.24175661429268092,-0.23257051117659686,-0.2214325141876706,-0.15946525997100006,-0.12530722848924075,-0.1689342761851013,-0.15034050278754002,-0.15841446482142146,-0.15588501966998713,-0.15298111932837397,-0.14914456095615441,-0.13459417687503974,-0.1352089713480304,-0.14347282514075785,-0.15052288860044902,-0.083241952191279,-0.05107196109569671,-0.054623495357523276,-0.08559325878843706,-0.0960518154469304,-0.0918778849465949,-0.06362528675990793,-0.028890288095007356,-0.024697798852294374,-0.024697798852294374,-0.03878828792604848,-0.046599619936454985,-0.0435050884197054,-0.05965132702958425,-0.06105005451114757,-0.044985727030082696,-0.05369831664831028,-0.013635895215551102,-0.012105721632845625,-0.02272919575792922,-0.014221031439989049,-0.016956245980889684,0.013303621524165256,0.027288679509341003,0.03184240269308022,0.03556577312335887,0.0013385320246435805,0.007391085929915663,0.006505709636228101,0.020318886458067082,-0.013727320340102865,-0.0016517320253130081,0.017905379437280662,0.032411623236798665,0.08371937445312978,0.1884244312263611,0.20178160695614691,0.18261420996170186,0.18258222311561115,0.14518919753338613,0.1580205855007257,0.1567230781056119,0.15098323790216733,0.15483014005682327,0.15419354782255526,0.15281785485372,0.1528772083472535,0.15519973615448218,0.16067263566624573,0.15969225803997467,0.17508056912706552,0.16335725973556212,0.16890743424947727,0.18937517381944038,0.19622305662548956,0.25775075474937453,0.23724427024214856,0.23751702506736544,0.23863102625128424,0.24842175480331444,0.24855518498704465,0.2900867976179852,0.3138894252846696,0.32970779489657565,0.337842317233667,0.3390423631794077,0.3351151017407349,0.32611705516539913,0.3312079819956016,0.323334642445704,0.3100042832603813,0.3137364939594714,0.32220492030551806,0.3543961977976726,0.4122961921240706,0.4698522485298586,0.4626855879588349,0.46187582457232235,0.5746217116894733,0.5560202459109934,0.6187864927795214,0.5044168361407312,0.5077003431664173,0.5645745773785343,0.5566364664785088,0.6437760678304242,0.5483597939140156,0.5521551440749496,0.5354391723955875,0.6613497843126986,0.6366933531841643,0.8338000714544475,0.7337180431987025,0.7136097718142974,0.8016682433881902,0.8415732537996472,1.0221357218489404,0.9743602553796706,0.9474203798064126,0.9328816445737598,0.9204076288973416,0.9461125707502822,0.9567978820910775,1.0090113361568152,1.0067118914414412,1.0657756364340119,1.2239077620683247,1.1803171667167525,1.2867655786647165,1.3272867800847505,1.3260506607207885,1.3107144233317936,1.4353563823294357,1.4533399984757298,1.4268382232058772,1.447588394594985,1.6000537235109096,1.5578165916958489,1.849657535571811,1.9826598947333887,2.0166291029081433,2.054694014714288,2.103496702004716,2.2640419227193074,2.3485055984480105,2.485276009147562,2.485276009147562],\"type\":\"box\",\"xaxis\":\"x2\",\"yaxis\":\"y2\"}],                        {\"template\":{\"data\":{\"histogram2dcontour\":[{\"type\":\"histogram2dcontour\",\"colorbar\":{\"outlinewidth\":0,\"ticks\":\"\"},\"colorscale\":[[0.0,\"#0d0887\"],[0.1111111111111111,\"#46039f\"],[0.2222222222222222,\"#7201a8\"],[0.3333333333333333,\"#9c179e\"],[0.4444444444444444,\"#bd3786\"],[0.5555555555555556,\"#d8576b\"],[0.6666666666666666,\"#ed7953\"],[0.7777777777777778,\"#fb9f3a\"],[0.8888888888888888,\"#fdca26\"],[1.0,\"#f0f921\"]]}],\"choropleth\":[{\"type\":\"choropleth\",\"colorbar\":{\"outlinewidth\":0,\"ticks\":\"\"}}],\"histogram2d\":[{\"type\":\"histogram2d\",\"colorbar\":{\"outlinewidth\":0,\"ticks\":\"\"},\"colorscale\":[[0.0,\"#0d0887\"],[0.1111111111111111,\"#46039f\"],[0.2222222222222222,\"#7201a8\"],[0.3333333333333333,\"#9c179e\"],[0.4444444444444444,\"#bd3786\"],[0.5555555555555556,\"#d8576b\"],[0.6666666666666666,\"#ed7953\"],[0.7777777777777778,\"#fb9f3a\"],[0.8888888888888888,\"#fdca26\"],[1.0,\"#f0f921\"]]}],\"heatmap\":[{\"type\":\"heatmap\",\"colorbar\":{\"outlinewidth\":0,\"ticks\":\"\"},\"colorscale\":[[0.0,\"#0d0887\"],[0.1111111111111111,\"#46039f\"],[0.2222222222222222,\"#7201a8\"],[0.3333333333333333,\"#9c179e\"],[0.4444444444444444,\"#bd3786\"],[0.5555555555555556,\"#d8576b\"],[0.6666666666666666,\"#ed7953\"],[0.7777777777777778,\"#fb9f3a\"],[0.8888888888888888,\"#fdca26\"],[1.0,\"#f0f921\"]]}],\"heatmapgl\":[{\"type\":\"heatmapgl\",\"colorbar\":{\"outlinewidth\":0,\"ticks\":\"\"},\"colorscale\":[[0.0,\"#0d0887\"],[0.1111111111111111,\"#46039f\"],[0.2222222222222222,\"#7201a8\"],[0.3333333333333333,\"#9c179e\"],[0.4444444444444444,\"#bd3786\"],[0.5555555555555556,\"#d8576b\"],[0.6666666666666666,\"#ed7953\"],[0.7777777777777778,\"#fb9f3a\"],[0.8888888888888888,\"#fdca26\"],[1.0,\"#f0f921\"]]}],\"contourcarpet\":[{\"type\":\"contourcarpet\",\"colorbar\":{\"outlinewidth\":0,\"ticks\":\"\"}}],\"contour\":[{\"type\":\"contour\",\"colorbar\":{\"outlinewidth\":0,\"ticks\":\"\"},\"colorscale\":[[0.0,\"#0d0887\"],[0.1111111111111111,\"#46039f\"],[0.2222222222222222,\"#7201a8\"],[0.3333333333333333,\"#9c179e\"],[0.4444444444444444,\"#bd3786\"],[0.5555555555555556,\"#d8576b\"],[0.6666666666666666,\"#ed7953\"],[0.7777777777777778,\"#fb9f3a\"],[0.8888888888888888,\"#fdca26\"],[1.0,\"#f0f921\"]]}],\"surface\":[{\"type\":\"surface\",\"colorbar\":{\"outlinewidth\":0,\"ticks\":\"\"},\"colorscale\":[[0.0,\"#0d0887\"],[0.1111111111111111,\"#46039f\"],[0.2222222222222222,\"#7201a8\"],[0.3333333333333333,\"#9c179e\"],[0.4444444444444444,\"#bd3786\"],[0.5555555555555556,\"#d8576b\"],[0.6666666666666666,\"#ed7953\"],[0.7777777777777778,\"#fb9f3a\"],[0.8888888888888888,\"#fdca26\"],[1.0,\"#f0f921\"]]}],\"mesh3d\":[{\"type\":\"mesh3d\",\"colorbar\":{\"outlinewidth\":0,\"ticks\":\"\"}}],\"scatter\":[{\"fillpattern\":{\"fillmode\":\"overlay\",\"size\":10,\"solidity\":0.2},\"type\":\"scatter\"}],\"parcoords\":[{\"type\":\"parcoords\",\"line\":{\"colorbar\":{\"outlinewidth\":0,\"ticks\":\"\"}}}],\"scatterpolargl\":[{\"type\":\"scatterpolargl\",\"marker\":{\"colorbar\":{\"outlinewidth\":0,\"ticks\":\"\"}}}],\"bar\":[{\"error_x\":{\"color\":\"#2a3f5f\"},\"error_y\":{\"color\":\"#2a3f5f\"},\"marker\":{\"line\":{\"color\":\"#E5ECF6\",\"width\":0.5},\"pattern\":{\"fillmode\":\"overlay\",\"size\":10,\"solidity\":0.2}},\"type\":\"bar\"}],\"scattergeo\":[{\"type\":\"scattergeo\",\"marker\":{\"colorbar\":{\"outlinewidth\":0,\"ticks\":\"\"}}}],\"scatterpolar\":[{\"type\":\"scatterpolar\",\"marker\":{\"colorbar\":{\"outlinewidth\":0,\"ticks\":\"\"}}}],\"histogram\":[{\"marker\":{\"pattern\":{\"fillmode\":\"overlay\",\"size\":10,\"solidity\":0.2}},\"type\":\"histogram\"}],\"scattergl\":[{\"type\":\"scattergl\",\"marker\":{\"colorbar\":{\"outlinewidth\":0,\"ticks\":\"\"}}}],\"scatter3d\":[{\"type\":\"scatter3d\",\"line\":{\"colorbar\":{\"outlinewidth\":0,\"ticks\":\"\"}},\"marker\":{\"colorbar\":{\"outlinewidth\":0,\"ticks\":\"\"}}}],\"scattermapbox\":[{\"type\":\"scattermapbox\",\"marker\":{\"colorbar\":{\"outlinewidth\":0,\"ticks\":\"\"}}}],\"scatterternary\":[{\"type\":\"scatterternary\",\"marker\":{\"colorbar\":{\"outlinewidth\":0,\"ticks\":\"\"}}}],\"scattercarpet\":[{\"type\":\"scattercarpet\",\"marker\":{\"colorbar\":{\"outlinewidth\":0,\"ticks\":\"\"}}}],\"carpet\":[{\"aaxis\":{\"endlinecolor\":\"#2a3f5f\",\"gridcolor\":\"white\",\"linecolor\":\"white\",\"minorgridcolor\":\"white\",\"startlinecolor\":\"#2a3f5f\"},\"baxis\":{\"endlinecolor\":\"#2a3f5f\",\"gridcolor\":\"white\",\"linecolor\":\"white\",\"minorgridcolor\":\"white\",\"startlinecolor\":\"#2a3f5f\"},\"type\":\"carpet\"}],\"table\":[{\"cells\":{\"fill\":{\"color\":\"#EBF0F8\"},\"line\":{\"color\":\"white\"}},\"header\":{\"fill\":{\"color\":\"#C8D4E3\"},\"line\":{\"color\":\"white\"}},\"type\":\"table\"}],\"barpolar\":[{\"marker\":{\"line\":{\"color\":\"#E5ECF6\",\"width\":0.5},\"pattern\":{\"fillmode\":\"overlay\",\"size\":10,\"solidity\":0.2}},\"type\":\"barpolar\"}],\"pie\":[{\"automargin\":true,\"type\":\"pie\"}]},\"layout\":{\"autotypenumbers\":\"strict\",\"colorway\":[\"#636efa\",\"#EF553B\",\"#00cc96\",\"#ab63fa\",\"#FFA15A\",\"#19d3f3\",\"#FF6692\",\"#B6E880\",\"#FF97FF\",\"#FECB52\"],\"font\":{\"color\":\"#2a3f5f\"},\"hovermode\":\"closest\",\"hoverlabel\":{\"align\":\"left\"},\"paper_bgcolor\":\"white\",\"plot_bgcolor\":\"#E5ECF6\",\"polar\":{\"bgcolor\":\"#E5ECF6\",\"angularaxis\":{\"gridcolor\":\"white\",\"linecolor\":\"white\",\"ticks\":\"\"},\"radialaxis\":{\"gridcolor\":\"white\",\"linecolor\":\"white\",\"ticks\":\"\"}},\"ternary\":{\"bgcolor\":\"#E5ECF6\",\"aaxis\":{\"gridcolor\":\"white\",\"linecolor\":\"white\",\"ticks\":\"\"},\"baxis\":{\"gridcolor\":\"white\",\"linecolor\":\"white\",\"ticks\":\"\"},\"caxis\":{\"gridcolor\":\"white\",\"linecolor\":\"white\",\"ticks\":\"\"}},\"coloraxis\":{\"colorbar\":{\"outlinewidth\":0,\"ticks\":\"\"}},\"colorscale\":{\"sequential\":[[0.0,\"#0d0887\"],[0.1111111111111111,\"#46039f\"],[0.2222222222222222,\"#7201a8\"],[0.3333333333333333,\"#9c179e\"],[0.4444444444444444,\"#bd3786\"],[0.5555555555555556,\"#d8576b\"],[0.6666666666666666,\"#ed7953\"],[0.7777777777777778,\"#fb9f3a\"],[0.8888888888888888,\"#fdca26\"],[1.0,\"#f0f921\"]],\"sequentialminus\":[[0.0,\"#0d0887\"],[0.1111111111111111,\"#46039f\"],[0.2222222222222222,\"#7201a8\"],[0.3333333333333333,\"#9c179e\"],[0.4444444444444444,\"#bd3786\"],[0.5555555555555556,\"#d8576b\"],[0.6666666666666666,\"#ed7953\"],[0.7777777777777778,\"#fb9f3a\"],[0.8888888888888888,\"#fdca26\"],[1.0,\"#f0f921\"]],\"diverging\":[[0,\"#8e0152\"],[0.1,\"#c51b7d\"],[0.2,\"#de77ae\"],[0.3,\"#f1b6da\"],[0.4,\"#fde0ef\"],[0.5,\"#f7f7f7\"],[0.6,\"#e6f5d0\"],[0.7,\"#b8e186\"],[0.8,\"#7fbc41\"],[0.9,\"#4d9221\"],[1,\"#276419\"]]},\"xaxis\":{\"gridcolor\":\"white\",\"linecolor\":\"white\",\"ticks\":\"\",\"title\":{\"standoff\":15},\"zerolinecolor\":\"white\",\"automargin\":true,\"zerolinewidth\":2},\"yaxis\":{\"gridcolor\":\"white\",\"linecolor\":\"white\",\"ticks\":\"\",\"title\":{\"standoff\":15},\"zerolinecolor\":\"white\",\"automargin\":true,\"zerolinewidth\":2},\"scene\":{\"xaxis\":{\"backgroundcolor\":\"#E5ECF6\",\"gridcolor\":\"white\",\"linecolor\":\"white\",\"showbackground\":true,\"ticks\":\"\",\"zerolinecolor\":\"white\",\"gridwidth\":2},\"yaxis\":{\"backgroundcolor\":\"#E5ECF6\",\"gridcolor\":\"white\",\"linecolor\":\"white\",\"showbackground\":true,\"ticks\":\"\",\"zerolinecolor\":\"white\",\"gridwidth\":2},\"zaxis\":{\"backgroundcolor\":\"#E5ECF6\",\"gridcolor\":\"white\",\"linecolor\":\"white\",\"showbackground\":true,\"ticks\":\"\",\"zerolinecolor\":\"white\",\"gridwidth\":2}},\"shapedefaults\":{\"line\":{\"color\":\"#2a3f5f\"}},\"annotationdefaults\":{\"arrowcolor\":\"#2a3f5f\",\"arrowhead\":0,\"arrowwidth\":1},\"geo\":{\"bgcolor\":\"white\",\"landcolor\":\"#E5ECF6\",\"subunitcolor\":\"white\",\"showland\":true,\"showlakes\":true,\"lakecolor\":\"white\"},\"title\":{\"x\":0.05},\"mapbox\":{\"style\":\"light\"}}},\"xaxis\":{\"anchor\":\"y\",\"domain\":[0.0,0.784],\"matches\":\"x3\",\"showticklabels\":false},\"yaxis\":{\"anchor\":\"x\",\"domain\":[0.51,1.0],\"title\":{\"text\":\"Contribution\"}},\"xaxis2\":{\"anchor\":\"y2\",\"domain\":[0.804,1.0],\"matches\":\"x4\",\"showticklabels\":false},\"yaxis2\":{\"anchor\":\"x2\",\"domain\":[0.51,1.0],\"matches\":\"y\",\"showticklabels\":false},\"xaxis3\":{\"anchor\":\"y3\",\"domain\":[0.0,0.784],\"title\":{\"text\":\"MedInc\"}},\"yaxis3\":{\"anchor\":\"x3\",\"domain\":[0.0,0.49],\"title\":{\"text\":\"Count\"}},\"xaxis4\":{\"anchor\":\"y4\",\"domain\":[0.804,1.0]},\"yaxis4\":{\"anchor\":\"x4\",\"domain\":[0.0,0.49],\"matches\":\"y3\",\"showticklabels\":false},\"annotations\":[{\"font\":{\"size\":16},\"showarrow\":false,\"text\":\"MedHouseVal prediction\",\"x\":0.392,\"xanchor\":\"center\",\"xref\":\"paper\",\"y\":1.0,\"yanchor\":\"bottom\",\"yref\":\"paper\"},{\"font\":{\"size\":16},\"showarrow\":false,\"text\":\"Contribution distribution\",\"x\":0.902,\"xanchor\":\"center\",\"xref\":\"paper\",\"y\":1.0,\"yanchor\":\"bottom\",\"yref\":\"paper\"}],\"showlegend\":false,\"title\":{\"text\":\"Contributions are on the same scale as MedHouseVal,<br>and centered vertically on the train set.\"}},                        {\"responsive\": true}                    ).then(function(){\n                            \nvar gd = document.getElementById('bc9d250a-751d-449e-8ee7-ce935fe09cde');\nvar x = new MutationObserver(function (mutations, observer) {{\n        var display = window.getComputedStyle(gd).display;\n        if (!display || display === 'none') {{\n            console.log([gd, 'removed!']);\n            Plotly.purge(gd);\n            observer.disconnect();\n        }}\n}});\n\n// Listen for the removal of the full notebook cells\nvar notebookContainer = gd.closest('#notebook-container');\nif (notebookContainer) {{\n    x.observe(notebookContainer, {childList: true});\n}}\n\n// Listen for the clearing of the current output cell\nvar outputEl = gd.closest('.output');\nif (outputEl) {{\n    x.observe(outputEl, {childList: true});\n}}\n\n                        })                };                });            </script>        </div>"
     },
     "metadata": {},
     "output_type": "display_data"
    },
    {
     "data": {
      "application/vnd.plotly.v1+json": {
       "data": [
        {
         "hovertemplate": "x=%{x}<br>y=%{y}<extra></extra>",
         "legendgroup": "",
         "line": {
          "color": "#636efa",
          "dash": "solid",
          "shape": "hv"
         },
         "marker": {
          "symbol": "circle"
         },
         "mode": "lines",
         "name": "",
         "orientation": "v",
         "showlegend": false,
         "x": [
          2.0,
          3.5,
          4.5,
          5.5,
          6.5,
          7.5,
          8.5,
          9.5,
          10.5,
          11.5,
          12.5,
          13.5,
          14.5,
          15.5,
          16.5,
          17.5,
          18.5,
          19.5,
          20.5,
          21.5,
          22.5,
          23.5,
          24.5,
          25.5,
          26.5,
          27.5,
          28.5,
          29.5,
          30.5,
          31.5,
          32.5,
          33.5,
          34.5,
          35.5,
          36.5,
          37.5,
          38.5,
          39.5,
          40.5,
          41.5,
          42.5,
          43.5,
          44.5,
          45.5,
          46.5,
          47.5,
          48.5,
          49.5,
          50.5,
          51.5
         ],
         "xaxis": "x",
         "y": [
          -0.282656018307017,
          -0.282656018307017,
          -0.27867927853597174,
          -0.21592246611027183,
          -0.1878517110790389,
          -0.18148708770088365,
          -0.1537350896229302,
          -0.1748983521509909,
          -0.17188809179483436,
          -0.13267280400864082,
          -0.10083925819139655,
          -0.11959461378071695,
          -0.015850610698994114,
          -0.09189292754771414,
          -0.10264886337227566,
          -0.10871434799825812,
          -0.060938316111738805,
          -0.025576540984670302,
          -0.0066913794247517,
          -0.05299050290772238,
          -0.013391956600439157,
          0.02534038074264158,
          0.0025069695577935383,
          0.015553848065225095,
          0.01732989303708478,
          0.028198122106547038,
          0.05657978479325733,
          0.12894142301790742,
          0.16835444189535076,
          0.03707935461485602,
          0.10414260353489459,
          0.03163860202651318,
          0.039145964036265204,
          -0.010360904827870731,
          -0.008196713196802773,
          -0.015971553083334474,
          0.0018245343540228276,
          0.07605021375149726,
          0.08478941724309942,
          0.06619598118790632,
          0.05628250392898529,
          0.03560554640200588,
          0.08473436217975099,
          0.1984532340016119,
          0.10843244023840092,
          0.023181914960445707,
          -0.0388900944793944,
          0.09522917481609712,
          0.07757136246866825,
          0.10927908133067
         ],
         "yaxis": "y",
         "type": "scatter"
        },
        {
         "name": "HouseAge distribution",
         "x": [
          2.0,
          3.5,
          4.5,
          5.5,
          6.5,
          7.5,
          8.5,
          9.5,
          10.5,
          11.5,
          12.5,
          13.5,
          14.5,
          15.5,
          16.5,
          17.5,
          18.5,
          19.5,
          20.5,
          21.5,
          22.5,
          23.5,
          24.5,
          25.5,
          26.5,
          27.5,
          28.5,
          29.5,
          30.5,
          31.5,
          32.5,
          33.5,
          34.5,
          35.5,
          36.5,
          37.5,
          38.5,
          39.5,
          40.5,
          41.5,
          42.5,
          43.5,
          44.5,
          45.5,
          46.5,
          47.5,
          48.5,
          49.5,
          50.5,
          51.5
         ],
         "type": "histogram",
         "xaxis": "x3",
         "yaxis": "y3"
        },
        {
         "name": "",
         "y": [
          -0.282656018307017,
          -0.282656018307017,
          -0.27867927853597174,
          -0.21592246611027183,
          -0.1878517110790389,
          -0.18148708770088365,
          -0.1537350896229302,
          -0.1748983521509909,
          -0.17188809179483436,
          -0.13267280400864082,
          -0.10083925819139655,
          -0.11959461378071695,
          -0.015850610698994114,
          -0.09189292754771414,
          -0.10264886337227566,
          -0.10871434799825812,
          -0.060938316111738805,
          -0.025576540984670302,
          -0.0066913794247517,
          -0.05299050290772238,
          -0.013391956600439157,
          0.02534038074264158,
          0.0025069695577935383,
          0.015553848065225095,
          0.01732989303708478,
          0.028198122106547038,
          0.05657978479325733,
          0.12894142301790742,
          0.16835444189535076,
          0.03707935461485602,
          0.10414260353489459,
          0.03163860202651318,
          0.039145964036265204,
          -0.010360904827870731,
          -0.008196713196802773,
          -0.015971553083334474,
          0.0018245343540228276,
          0.07605021375149726,
          0.08478941724309942,
          0.06619598118790632,
          0.05628250392898529,
          0.03560554640200588,
          0.08473436217975099,
          0.1984532340016119,
          0.10843244023840092,
          0.023181914960445707,
          -0.0388900944793944,
          0.09522917481609712,
          0.07757136246866825,
          0.10927908133067
         ],
         "type": "box",
         "xaxis": "x2",
         "yaxis": "y2"
        }
       ],
       "layout": {
        "template": {
         "data": {
          "histogram2dcontour": [
           {
            "type": "histogram2dcontour",
            "colorbar": {
             "outlinewidth": 0,
             "ticks": ""
            },
            "colorscale": [
             [
              0.0,
              "#0d0887"
             ],
             [
              0.1111111111111111,
              "#46039f"
             ],
             [
              0.2222222222222222,
              "#7201a8"
             ],
             [
              0.3333333333333333,
              "#9c179e"
             ],
             [
              0.4444444444444444,
              "#bd3786"
             ],
             [
              0.5555555555555556,
              "#d8576b"
             ],
             [
              0.6666666666666666,
              "#ed7953"
             ],
             [
              0.7777777777777778,
              "#fb9f3a"
             ],
             [
              0.8888888888888888,
              "#fdca26"
             ],
             [
              1.0,
              "#f0f921"
             ]
            ]
           }
          ],
          "choropleth": [
           {
            "type": "choropleth",
            "colorbar": {
             "outlinewidth": 0,
             "ticks": ""
            }
           }
          ],
          "histogram2d": [
           {
            "type": "histogram2d",
            "colorbar": {
             "outlinewidth": 0,
             "ticks": ""
            },
            "colorscale": [
             [
              0.0,
              "#0d0887"
             ],
             [
              0.1111111111111111,
              "#46039f"
             ],
             [
              0.2222222222222222,
              "#7201a8"
             ],
             [
              0.3333333333333333,
              "#9c179e"
             ],
             [
              0.4444444444444444,
              "#bd3786"
             ],
             [
              0.5555555555555556,
              "#d8576b"
             ],
             [
              0.6666666666666666,
              "#ed7953"
             ],
             [
              0.7777777777777778,
              "#fb9f3a"
             ],
             [
              0.8888888888888888,
              "#fdca26"
             ],
             [
              1.0,
              "#f0f921"
             ]
            ]
           }
          ],
          "heatmap": [
           {
            "type": "heatmap",
            "colorbar": {
             "outlinewidth": 0,
             "ticks": ""
            },
            "colorscale": [
             [
              0.0,
              "#0d0887"
             ],
             [
              0.1111111111111111,
              "#46039f"
             ],
             [
              0.2222222222222222,
              "#7201a8"
             ],
             [
              0.3333333333333333,
              "#9c179e"
             ],
             [
              0.4444444444444444,
              "#bd3786"
             ],
             [
              0.5555555555555556,
              "#d8576b"
             ],
             [
              0.6666666666666666,
              "#ed7953"
             ],
             [
              0.7777777777777778,
              "#fb9f3a"
             ],
             [
              0.8888888888888888,
              "#fdca26"
             ],
             [
              1.0,
              "#f0f921"
             ]
            ]
           }
          ],
          "heatmapgl": [
           {
            "type": "heatmapgl",
            "colorbar": {
             "outlinewidth": 0,
             "ticks": ""
            },
            "colorscale": [
             [
              0.0,
              "#0d0887"
             ],
             [
              0.1111111111111111,
              "#46039f"
             ],
             [
              0.2222222222222222,
              "#7201a8"
             ],
             [
              0.3333333333333333,
              "#9c179e"
             ],
             [
              0.4444444444444444,
              "#bd3786"
             ],
             [
              0.5555555555555556,
              "#d8576b"
             ],
             [
              0.6666666666666666,
              "#ed7953"
             ],
             [
              0.7777777777777778,
              "#fb9f3a"
             ],
             [
              0.8888888888888888,
              "#fdca26"
             ],
             [
              1.0,
              "#f0f921"
             ]
            ]
           }
          ],
          "contourcarpet": [
           {
            "type": "contourcarpet",
            "colorbar": {
             "outlinewidth": 0,
             "ticks": ""
            }
           }
          ],
          "contour": [
           {
            "type": "contour",
            "colorbar": {
             "outlinewidth": 0,
             "ticks": ""
            },
            "colorscale": [
             [
              0.0,
              "#0d0887"
             ],
             [
              0.1111111111111111,
              "#46039f"
             ],
             [
              0.2222222222222222,
              "#7201a8"
             ],
             [
              0.3333333333333333,
              "#9c179e"
             ],
             [
              0.4444444444444444,
              "#bd3786"
             ],
             [
              0.5555555555555556,
              "#d8576b"
             ],
             [
              0.6666666666666666,
              "#ed7953"
             ],
             [
              0.7777777777777778,
              "#fb9f3a"
             ],
             [
              0.8888888888888888,
              "#fdca26"
             ],
             [
              1.0,
              "#f0f921"
             ]
            ]
           }
          ],
          "surface": [
           {
            "type": "surface",
            "colorbar": {
             "outlinewidth": 0,
             "ticks": ""
            },
            "colorscale": [
             [
              0.0,
              "#0d0887"
             ],
             [
              0.1111111111111111,
              "#46039f"
             ],
             [
              0.2222222222222222,
              "#7201a8"
             ],
             [
              0.3333333333333333,
              "#9c179e"
             ],
             [
              0.4444444444444444,
              "#bd3786"
             ],
             [
              0.5555555555555556,
              "#d8576b"
             ],
             [
              0.6666666666666666,
              "#ed7953"
             ],
             [
              0.7777777777777778,
              "#fb9f3a"
             ],
             [
              0.8888888888888888,
              "#fdca26"
             ],
             [
              1.0,
              "#f0f921"
             ]
            ]
           }
          ],
          "mesh3d": [
           {
            "type": "mesh3d",
            "colorbar": {
             "outlinewidth": 0,
             "ticks": ""
            }
           }
          ],
          "scatter": [
           {
            "fillpattern": {
             "fillmode": "overlay",
             "size": 10,
             "solidity": 0.2
            },
            "type": "scatter"
           }
          ],
          "parcoords": [
           {
            "type": "parcoords",
            "line": {
             "colorbar": {
              "outlinewidth": 0,
              "ticks": ""
             }
            }
           }
          ],
          "scatterpolargl": [
           {
            "type": "scatterpolargl",
            "marker": {
             "colorbar": {
              "outlinewidth": 0,
              "ticks": ""
             }
            }
           }
          ],
          "bar": [
           {
            "error_x": {
             "color": "#2a3f5f"
            },
            "error_y": {
             "color": "#2a3f5f"
            },
            "marker": {
             "line": {
              "color": "#E5ECF6",
              "width": 0.5
             },
             "pattern": {
              "fillmode": "overlay",
              "size": 10,
              "solidity": 0.2
             }
            },
            "type": "bar"
           }
          ],
          "scattergeo": [
           {
            "type": "scattergeo",
            "marker": {
             "colorbar": {
              "outlinewidth": 0,
              "ticks": ""
             }
            }
           }
          ],
          "scatterpolar": [
           {
            "type": "scatterpolar",
            "marker": {
             "colorbar": {
              "outlinewidth": 0,
              "ticks": ""
             }
            }
           }
          ],
          "histogram": [
           {
            "marker": {
             "pattern": {
              "fillmode": "overlay",
              "size": 10,
              "solidity": 0.2
             }
            },
            "type": "histogram"
           }
          ],
          "scattergl": [
           {
            "type": "scattergl",
            "marker": {
             "colorbar": {
              "outlinewidth": 0,
              "ticks": ""
             }
            }
           }
          ],
          "scatter3d": [
           {
            "type": "scatter3d",
            "line": {
             "colorbar": {
              "outlinewidth": 0,
              "ticks": ""
             }
            },
            "marker": {
             "colorbar": {
              "outlinewidth": 0,
              "ticks": ""
             }
            }
           }
          ],
          "scattermapbox": [
           {
            "type": "scattermapbox",
            "marker": {
             "colorbar": {
              "outlinewidth": 0,
              "ticks": ""
             }
            }
           }
          ],
          "scatterternary": [
           {
            "type": "scatterternary",
            "marker": {
             "colorbar": {
              "outlinewidth": 0,
              "ticks": ""
             }
            }
           }
          ],
          "scattercarpet": [
           {
            "type": "scattercarpet",
            "marker": {
             "colorbar": {
              "outlinewidth": 0,
              "ticks": ""
             }
            }
           }
          ],
          "carpet": [
           {
            "aaxis": {
             "endlinecolor": "#2a3f5f",
             "gridcolor": "white",
             "linecolor": "white",
             "minorgridcolor": "white",
             "startlinecolor": "#2a3f5f"
            },
            "baxis": {
             "endlinecolor": "#2a3f5f",
             "gridcolor": "white",
             "linecolor": "white",
             "minorgridcolor": "white",
             "startlinecolor": "#2a3f5f"
            },
            "type": "carpet"
           }
          ],
          "table": [
           {
            "cells": {
             "fill": {
              "color": "#EBF0F8"
             },
             "line": {
              "color": "white"
             }
            },
            "header": {
             "fill": {
              "color": "#C8D4E3"
             },
             "line": {
              "color": "white"
             }
            },
            "type": "table"
           }
          ],
          "barpolar": [
           {
            "marker": {
             "line": {
              "color": "#E5ECF6",
              "width": 0.5
             },
             "pattern": {
              "fillmode": "overlay",
              "size": 10,
              "solidity": 0.2
             }
            },
            "type": "barpolar"
           }
          ],
          "pie": [
           {
            "automargin": true,
            "type": "pie"
           }
          ]
         },
         "layout": {
          "autotypenumbers": "strict",
          "colorway": [
           "#636efa",
           "#EF553B",
           "#00cc96",
           "#ab63fa",
           "#FFA15A",
           "#19d3f3",
           "#FF6692",
           "#B6E880",
           "#FF97FF",
           "#FECB52"
          ],
          "font": {
           "color": "#2a3f5f"
          },
          "hovermode": "closest",
          "hoverlabel": {
           "align": "left"
          },
          "paper_bgcolor": "white",
          "plot_bgcolor": "#E5ECF6",
          "polar": {
           "bgcolor": "#E5ECF6",
           "angularaxis": {
            "gridcolor": "white",
            "linecolor": "white",
            "ticks": ""
           },
           "radialaxis": {
            "gridcolor": "white",
            "linecolor": "white",
            "ticks": ""
           }
          },
          "ternary": {
           "bgcolor": "#E5ECF6",
           "aaxis": {
            "gridcolor": "white",
            "linecolor": "white",
            "ticks": ""
           },
           "baxis": {
            "gridcolor": "white",
            "linecolor": "white",
            "ticks": ""
           },
           "caxis": {
            "gridcolor": "white",
            "linecolor": "white",
            "ticks": ""
           }
          },
          "coloraxis": {
           "colorbar": {
            "outlinewidth": 0,
            "ticks": ""
           }
          },
          "colorscale": {
           "sequential": [
            [
             0.0,
             "#0d0887"
            ],
            [
             0.1111111111111111,
             "#46039f"
            ],
            [
             0.2222222222222222,
             "#7201a8"
            ],
            [
             0.3333333333333333,
             "#9c179e"
            ],
            [
             0.4444444444444444,
             "#bd3786"
            ],
            [
             0.5555555555555556,
             "#d8576b"
            ],
            [
             0.6666666666666666,
             "#ed7953"
            ],
            [
             0.7777777777777778,
             "#fb9f3a"
            ],
            [
             0.8888888888888888,
             "#fdca26"
            ],
            [
             1.0,
             "#f0f921"
            ]
           ],
           "sequentialminus": [
            [
             0.0,
             "#0d0887"
            ],
            [
             0.1111111111111111,
             "#46039f"
            ],
            [
             0.2222222222222222,
             "#7201a8"
            ],
            [
             0.3333333333333333,
             "#9c179e"
            ],
            [
             0.4444444444444444,
             "#bd3786"
            ],
            [
             0.5555555555555556,
             "#d8576b"
            ],
            [
             0.6666666666666666,
             "#ed7953"
            ],
            [
             0.7777777777777778,
             "#fb9f3a"
            ],
            [
             0.8888888888888888,
             "#fdca26"
            ],
            [
             1.0,
             "#f0f921"
            ]
           ],
           "diverging": [
            [
             0,
             "#8e0152"
            ],
            [
             0.1,
             "#c51b7d"
            ],
            [
             0.2,
             "#de77ae"
            ],
            [
             0.3,
             "#f1b6da"
            ],
            [
             0.4,
             "#fde0ef"
            ],
            [
             0.5,
             "#f7f7f7"
            ],
            [
             0.6,
             "#e6f5d0"
            ],
            [
             0.7,
             "#b8e186"
            ],
            [
             0.8,
             "#7fbc41"
            ],
            [
             0.9,
             "#4d9221"
            ],
            [
             1,
             "#276419"
            ]
           ]
          },
          "xaxis": {
           "gridcolor": "white",
           "linecolor": "white",
           "ticks": "",
           "title": {
            "standoff": 15
           },
           "zerolinecolor": "white",
           "automargin": true,
           "zerolinewidth": 2
          },
          "yaxis": {
           "gridcolor": "white",
           "linecolor": "white",
           "ticks": "",
           "title": {
            "standoff": 15
           },
           "zerolinecolor": "white",
           "automargin": true,
           "zerolinewidth": 2
          },
          "scene": {
           "xaxis": {
            "backgroundcolor": "#E5ECF6",
            "gridcolor": "white",
            "linecolor": "white",
            "showbackground": true,
            "ticks": "",
            "zerolinecolor": "white",
            "gridwidth": 2
           },
           "yaxis": {
            "backgroundcolor": "#E5ECF6",
            "gridcolor": "white",
            "linecolor": "white",
            "showbackground": true,
            "ticks": "",
            "zerolinecolor": "white",
            "gridwidth": 2
           },
           "zaxis": {
            "backgroundcolor": "#E5ECF6",
            "gridcolor": "white",
            "linecolor": "white",
            "showbackground": true,
            "ticks": "",
            "zerolinecolor": "white",
            "gridwidth": 2
           }
          },
          "shapedefaults": {
           "line": {
            "color": "#2a3f5f"
           }
          },
          "annotationdefaults": {
           "arrowcolor": "#2a3f5f",
           "arrowhead": 0,
           "arrowwidth": 1
          },
          "geo": {
           "bgcolor": "white",
           "landcolor": "#E5ECF6",
           "subunitcolor": "white",
           "showland": true,
           "showlakes": true,
           "lakecolor": "white"
          },
          "title": {
           "x": 0.05
          },
          "mapbox": {
           "style": "light"
          }
         }
        },
        "xaxis": {
         "anchor": "y",
         "domain": [
          0.0,
          0.784
         ],
         "matches": "x3",
         "showticklabels": false
        },
        "yaxis": {
         "anchor": "x",
         "domain": [
          0.51,
          1.0
         ],
         "title": {
          "text": "Contribution"
         }
        },
        "xaxis2": {
         "anchor": "y2",
         "domain": [
          0.804,
          1.0
         ],
         "matches": "x4",
         "showticklabels": false
        },
        "yaxis2": {
         "anchor": "x2",
         "domain": [
          0.51,
          1.0
         ],
         "matches": "y",
         "showticklabels": false
        },
        "xaxis3": {
         "anchor": "y3",
         "domain": [
          0.0,
          0.784
         ],
         "title": {
          "text": "HouseAge"
         }
        },
        "yaxis3": {
         "anchor": "x3",
         "domain": [
          0.0,
          0.49
         ],
         "title": {
          "text": "Count"
         }
        },
        "xaxis4": {
         "anchor": "y4",
         "domain": [
          0.804,
          1.0
         ]
        },
        "yaxis4": {
         "anchor": "x4",
         "domain": [
          0.0,
          0.49
         ],
         "matches": "y3",
         "showticklabels": false
        },
        "annotations": [
         {
          "font": {
           "size": 16
          },
          "showarrow": false,
          "text": "MedHouseVal prediction",
          "x": 0.392,
          "xanchor": "center",
          "xref": "paper",
          "y": 1.0,
          "yanchor": "bottom",
          "yref": "paper"
         },
         {
          "font": {
           "size": 16
          },
          "showarrow": false,
          "text": "Contribution distribution",
          "x": 0.902,
          "xanchor": "center",
          "xref": "paper",
          "y": 1.0,
          "yanchor": "bottom",
          "yref": "paper"
         }
        ],
        "showlegend": false,
        "title": {
         "text": "Contributions are on the same scale as MedHouseVal,<br>and centered vertically on the train set."
        }
       },
       "config": {
        "plotlyServerURL": "https://plot.ly"
       }
      },
      "text/html": "<div>                            <div id=\"24556c35-c8ea-4e62-8df4-9d5c1546b131\" class=\"plotly-graph-div\" style=\"height:525px; width:100%;\"></div>            <script type=\"text/javascript\">                require([\"plotly\"], function(Plotly) {                    window.PLOTLYENV=window.PLOTLYENV || {};                                    if (document.getElementById(\"24556c35-c8ea-4e62-8df4-9d5c1546b131\")) {                    Plotly.newPlot(                        \"24556c35-c8ea-4e62-8df4-9d5c1546b131\",                        [{\"hovertemplate\":\"x=%{x}<br>y=%{y}<extra></extra>\",\"legendgroup\":\"\",\"line\":{\"color\":\"#636efa\",\"dash\":\"solid\",\"shape\":\"hv\"},\"marker\":{\"symbol\":\"circle\"},\"mode\":\"lines\",\"name\":\"\",\"orientation\":\"v\",\"showlegend\":false,\"x\":[2.0,3.5,4.5,5.5,6.5,7.5,8.5,9.5,10.5,11.5,12.5,13.5,14.5,15.5,16.5,17.5,18.5,19.5,20.5,21.5,22.5,23.5,24.5,25.5,26.5,27.5,28.5,29.5,30.5,31.5,32.5,33.5,34.5,35.5,36.5,37.5,38.5,39.5,40.5,41.5,42.5,43.5,44.5,45.5,46.5,47.5,48.5,49.5,50.5,51.5],\"xaxis\":\"x\",\"y\":[-0.282656018307017,-0.282656018307017,-0.27867927853597174,-0.21592246611027183,-0.1878517110790389,-0.18148708770088365,-0.1537350896229302,-0.1748983521509909,-0.17188809179483436,-0.13267280400864082,-0.10083925819139655,-0.11959461378071695,-0.015850610698994114,-0.09189292754771414,-0.10264886337227566,-0.10871434799825812,-0.060938316111738805,-0.025576540984670302,-0.0066913794247517,-0.05299050290772238,-0.013391956600439157,0.02534038074264158,0.0025069695577935383,0.015553848065225095,0.01732989303708478,0.028198122106547038,0.05657978479325733,0.12894142301790742,0.16835444189535076,0.03707935461485602,0.10414260353489459,0.03163860202651318,0.039145964036265204,-0.010360904827870731,-0.008196713196802773,-0.015971553083334474,0.0018245343540228276,0.07605021375149726,0.08478941724309942,0.06619598118790632,0.05628250392898529,0.03560554640200588,0.08473436217975099,0.1984532340016119,0.10843244023840092,0.023181914960445707,-0.0388900944793944,0.09522917481609712,0.07757136246866825,0.10927908133067],\"yaxis\":\"y\",\"type\":\"scatter\"},{\"name\":\"HouseAge distribution\",\"x\":[2.0,3.5,4.5,5.5,6.5,7.5,8.5,9.5,10.5,11.5,12.5,13.5,14.5,15.5,16.5,17.5,18.5,19.5,20.5,21.5,22.5,23.5,24.5,25.5,26.5,27.5,28.5,29.5,30.5,31.5,32.5,33.5,34.5,35.5,36.5,37.5,38.5,39.5,40.5,41.5,42.5,43.5,44.5,45.5,46.5,47.5,48.5,49.5,50.5,51.5],\"type\":\"histogram\",\"xaxis\":\"x3\",\"yaxis\":\"y3\"},{\"name\":\"\",\"y\":[-0.282656018307017,-0.282656018307017,-0.27867927853597174,-0.21592246611027183,-0.1878517110790389,-0.18148708770088365,-0.1537350896229302,-0.1748983521509909,-0.17188809179483436,-0.13267280400864082,-0.10083925819139655,-0.11959461378071695,-0.015850610698994114,-0.09189292754771414,-0.10264886337227566,-0.10871434799825812,-0.060938316111738805,-0.025576540984670302,-0.0066913794247517,-0.05299050290772238,-0.013391956600439157,0.02534038074264158,0.0025069695577935383,0.015553848065225095,0.01732989303708478,0.028198122106547038,0.05657978479325733,0.12894142301790742,0.16835444189535076,0.03707935461485602,0.10414260353489459,0.03163860202651318,0.039145964036265204,-0.010360904827870731,-0.008196713196802773,-0.015971553083334474,0.0018245343540228276,0.07605021375149726,0.08478941724309942,0.06619598118790632,0.05628250392898529,0.03560554640200588,0.08473436217975099,0.1984532340016119,0.10843244023840092,0.023181914960445707,-0.0388900944793944,0.09522917481609712,0.07757136246866825,0.10927908133067],\"type\":\"box\",\"xaxis\":\"x2\",\"yaxis\":\"y2\"}],                        {\"template\":{\"data\":{\"histogram2dcontour\":[{\"type\":\"histogram2dcontour\",\"colorbar\":{\"outlinewidth\":0,\"ticks\":\"\"},\"colorscale\":[[0.0,\"#0d0887\"],[0.1111111111111111,\"#46039f\"],[0.2222222222222222,\"#7201a8\"],[0.3333333333333333,\"#9c179e\"],[0.4444444444444444,\"#bd3786\"],[0.5555555555555556,\"#d8576b\"],[0.6666666666666666,\"#ed7953\"],[0.7777777777777778,\"#fb9f3a\"],[0.8888888888888888,\"#fdca26\"],[1.0,\"#f0f921\"]]}],\"choropleth\":[{\"type\":\"choropleth\",\"colorbar\":{\"outlinewidth\":0,\"ticks\":\"\"}}],\"histogram2d\":[{\"type\":\"histogram2d\",\"colorbar\":{\"outlinewidth\":0,\"ticks\":\"\"},\"colorscale\":[[0.0,\"#0d0887\"],[0.1111111111111111,\"#46039f\"],[0.2222222222222222,\"#7201a8\"],[0.3333333333333333,\"#9c179e\"],[0.4444444444444444,\"#bd3786\"],[0.5555555555555556,\"#d8576b\"],[0.6666666666666666,\"#ed7953\"],[0.7777777777777778,\"#fb9f3a\"],[0.8888888888888888,\"#fdca26\"],[1.0,\"#f0f921\"]]}],\"heatmap\":[{\"type\":\"heatmap\",\"colorbar\":{\"outlinewidth\":0,\"ticks\":\"\"},\"colorscale\":[[0.0,\"#0d0887\"],[0.1111111111111111,\"#46039f\"],[0.2222222222222222,\"#7201a8\"],[0.3333333333333333,\"#9c179e\"],[0.4444444444444444,\"#bd3786\"],[0.5555555555555556,\"#d8576b\"],[0.6666666666666666,\"#ed7953\"],[0.7777777777777778,\"#fb9f3a\"],[0.8888888888888888,\"#fdca26\"],[1.0,\"#f0f921\"]]}],\"heatmapgl\":[{\"type\":\"heatmapgl\",\"colorbar\":{\"outlinewidth\":0,\"ticks\":\"\"},\"colorscale\":[[0.0,\"#0d0887\"],[0.1111111111111111,\"#46039f\"],[0.2222222222222222,\"#7201a8\"],[0.3333333333333333,\"#9c179e\"],[0.4444444444444444,\"#bd3786\"],[0.5555555555555556,\"#d8576b\"],[0.6666666666666666,\"#ed7953\"],[0.7777777777777778,\"#fb9f3a\"],[0.8888888888888888,\"#fdca26\"],[1.0,\"#f0f921\"]]}],\"contourcarpet\":[{\"type\":\"contourcarpet\",\"colorbar\":{\"outlinewidth\":0,\"ticks\":\"\"}}],\"contour\":[{\"type\":\"contour\",\"colorbar\":{\"outlinewidth\":0,\"ticks\":\"\"},\"colorscale\":[[0.0,\"#0d0887\"],[0.1111111111111111,\"#46039f\"],[0.2222222222222222,\"#7201a8\"],[0.3333333333333333,\"#9c179e\"],[0.4444444444444444,\"#bd3786\"],[0.5555555555555556,\"#d8576b\"],[0.6666666666666666,\"#ed7953\"],[0.7777777777777778,\"#fb9f3a\"],[0.8888888888888888,\"#fdca26\"],[1.0,\"#f0f921\"]]}],\"surface\":[{\"type\":\"surface\",\"colorbar\":{\"outlinewidth\":0,\"ticks\":\"\"},\"colorscale\":[[0.0,\"#0d0887\"],[0.1111111111111111,\"#46039f\"],[0.2222222222222222,\"#7201a8\"],[0.3333333333333333,\"#9c179e\"],[0.4444444444444444,\"#bd3786\"],[0.5555555555555556,\"#d8576b\"],[0.6666666666666666,\"#ed7953\"],[0.7777777777777778,\"#fb9f3a\"],[0.8888888888888888,\"#fdca26\"],[1.0,\"#f0f921\"]]}],\"mesh3d\":[{\"type\":\"mesh3d\",\"colorbar\":{\"outlinewidth\":0,\"ticks\":\"\"}}],\"scatter\":[{\"fillpattern\":{\"fillmode\":\"overlay\",\"size\":10,\"solidity\":0.2},\"type\":\"scatter\"}],\"parcoords\":[{\"type\":\"parcoords\",\"line\":{\"colorbar\":{\"outlinewidth\":0,\"ticks\":\"\"}}}],\"scatterpolargl\":[{\"type\":\"scatterpolargl\",\"marker\":{\"colorbar\":{\"outlinewidth\":0,\"ticks\":\"\"}}}],\"bar\":[{\"error_x\":{\"color\":\"#2a3f5f\"},\"error_y\":{\"color\":\"#2a3f5f\"},\"marker\":{\"line\":{\"color\":\"#E5ECF6\",\"width\":0.5},\"pattern\":{\"fillmode\":\"overlay\",\"size\":10,\"solidity\":0.2}},\"type\":\"bar\"}],\"scattergeo\":[{\"type\":\"scattergeo\",\"marker\":{\"colorbar\":{\"outlinewidth\":0,\"ticks\":\"\"}}}],\"scatterpolar\":[{\"type\":\"scatterpolar\",\"marker\":{\"colorbar\":{\"outlinewidth\":0,\"ticks\":\"\"}}}],\"histogram\":[{\"marker\":{\"pattern\":{\"fillmode\":\"overlay\",\"size\":10,\"solidity\":0.2}},\"type\":\"histogram\"}],\"scattergl\":[{\"type\":\"scattergl\",\"marker\":{\"colorbar\":{\"outlinewidth\":0,\"ticks\":\"\"}}}],\"scatter3d\":[{\"type\":\"scatter3d\",\"line\":{\"colorbar\":{\"outlinewidth\":0,\"ticks\":\"\"}},\"marker\":{\"colorbar\":{\"outlinewidth\":0,\"ticks\":\"\"}}}],\"scattermapbox\":[{\"type\":\"scattermapbox\",\"marker\":{\"colorbar\":{\"outlinewidth\":0,\"ticks\":\"\"}}}],\"scatterternary\":[{\"type\":\"scatterternary\",\"marker\":{\"colorbar\":{\"outlinewidth\":0,\"ticks\":\"\"}}}],\"scattercarpet\":[{\"type\":\"scattercarpet\",\"marker\":{\"colorbar\":{\"outlinewidth\":0,\"ticks\":\"\"}}}],\"carpet\":[{\"aaxis\":{\"endlinecolor\":\"#2a3f5f\",\"gridcolor\":\"white\",\"linecolor\":\"white\",\"minorgridcolor\":\"white\",\"startlinecolor\":\"#2a3f5f\"},\"baxis\":{\"endlinecolor\":\"#2a3f5f\",\"gridcolor\":\"white\",\"linecolor\":\"white\",\"minorgridcolor\":\"white\",\"startlinecolor\":\"#2a3f5f\"},\"type\":\"carpet\"}],\"table\":[{\"cells\":{\"fill\":{\"color\":\"#EBF0F8\"},\"line\":{\"color\":\"white\"}},\"header\":{\"fill\":{\"color\":\"#C8D4E3\"},\"line\":{\"color\":\"white\"}},\"type\":\"table\"}],\"barpolar\":[{\"marker\":{\"line\":{\"color\":\"#E5ECF6\",\"width\":0.5},\"pattern\":{\"fillmode\":\"overlay\",\"size\":10,\"solidity\":0.2}},\"type\":\"barpolar\"}],\"pie\":[{\"automargin\":true,\"type\":\"pie\"}]},\"layout\":{\"autotypenumbers\":\"strict\",\"colorway\":[\"#636efa\",\"#EF553B\",\"#00cc96\",\"#ab63fa\",\"#FFA15A\",\"#19d3f3\",\"#FF6692\",\"#B6E880\",\"#FF97FF\",\"#FECB52\"],\"font\":{\"color\":\"#2a3f5f\"},\"hovermode\":\"closest\",\"hoverlabel\":{\"align\":\"left\"},\"paper_bgcolor\":\"white\",\"plot_bgcolor\":\"#E5ECF6\",\"polar\":{\"bgcolor\":\"#E5ECF6\",\"angularaxis\":{\"gridcolor\":\"white\",\"linecolor\":\"white\",\"ticks\":\"\"},\"radialaxis\":{\"gridcolor\":\"white\",\"linecolor\":\"white\",\"ticks\":\"\"}},\"ternary\":{\"bgcolor\":\"#E5ECF6\",\"aaxis\":{\"gridcolor\":\"white\",\"linecolor\":\"white\",\"ticks\":\"\"},\"baxis\":{\"gridcolor\":\"white\",\"linecolor\":\"white\",\"ticks\":\"\"},\"caxis\":{\"gridcolor\":\"white\",\"linecolor\":\"white\",\"ticks\":\"\"}},\"coloraxis\":{\"colorbar\":{\"outlinewidth\":0,\"ticks\":\"\"}},\"colorscale\":{\"sequential\":[[0.0,\"#0d0887\"],[0.1111111111111111,\"#46039f\"],[0.2222222222222222,\"#7201a8\"],[0.3333333333333333,\"#9c179e\"],[0.4444444444444444,\"#bd3786\"],[0.5555555555555556,\"#d8576b\"],[0.6666666666666666,\"#ed7953\"],[0.7777777777777778,\"#fb9f3a\"],[0.8888888888888888,\"#fdca26\"],[1.0,\"#f0f921\"]],\"sequentialminus\":[[0.0,\"#0d0887\"],[0.1111111111111111,\"#46039f\"],[0.2222222222222222,\"#7201a8\"],[0.3333333333333333,\"#9c179e\"],[0.4444444444444444,\"#bd3786\"],[0.5555555555555556,\"#d8576b\"],[0.6666666666666666,\"#ed7953\"],[0.7777777777777778,\"#fb9f3a\"],[0.8888888888888888,\"#fdca26\"],[1.0,\"#f0f921\"]],\"diverging\":[[0,\"#8e0152\"],[0.1,\"#c51b7d\"],[0.2,\"#de77ae\"],[0.3,\"#f1b6da\"],[0.4,\"#fde0ef\"],[0.5,\"#f7f7f7\"],[0.6,\"#e6f5d0\"],[0.7,\"#b8e186\"],[0.8,\"#7fbc41\"],[0.9,\"#4d9221\"],[1,\"#276419\"]]},\"xaxis\":{\"gridcolor\":\"white\",\"linecolor\":\"white\",\"ticks\":\"\",\"title\":{\"standoff\":15},\"zerolinecolor\":\"white\",\"automargin\":true,\"zerolinewidth\":2},\"yaxis\":{\"gridcolor\":\"white\",\"linecolor\":\"white\",\"ticks\":\"\",\"title\":{\"standoff\":15},\"zerolinecolor\":\"white\",\"automargin\":true,\"zerolinewidth\":2},\"scene\":{\"xaxis\":{\"backgroundcolor\":\"#E5ECF6\",\"gridcolor\":\"white\",\"linecolor\":\"white\",\"showbackground\":true,\"ticks\":\"\",\"zerolinecolor\":\"white\",\"gridwidth\":2},\"yaxis\":{\"backgroundcolor\":\"#E5ECF6\",\"gridcolor\":\"white\",\"linecolor\":\"white\",\"showbackground\":true,\"ticks\":\"\",\"zerolinecolor\":\"white\",\"gridwidth\":2},\"zaxis\":{\"backgroundcolor\":\"#E5ECF6\",\"gridcolor\":\"white\",\"linecolor\":\"white\",\"showbackground\":true,\"ticks\":\"\",\"zerolinecolor\":\"white\",\"gridwidth\":2}},\"shapedefaults\":{\"line\":{\"color\":\"#2a3f5f\"}},\"annotationdefaults\":{\"arrowcolor\":\"#2a3f5f\",\"arrowhead\":0,\"arrowwidth\":1},\"geo\":{\"bgcolor\":\"white\",\"landcolor\":\"#E5ECF6\",\"subunitcolor\":\"white\",\"showland\":true,\"showlakes\":true,\"lakecolor\":\"white\"},\"title\":{\"x\":0.05},\"mapbox\":{\"style\":\"light\"}}},\"xaxis\":{\"anchor\":\"y\",\"domain\":[0.0,0.784],\"matches\":\"x3\",\"showticklabels\":false},\"yaxis\":{\"anchor\":\"x\",\"domain\":[0.51,1.0],\"title\":{\"text\":\"Contribution\"}},\"xaxis2\":{\"anchor\":\"y2\",\"domain\":[0.804,1.0],\"matches\":\"x4\",\"showticklabels\":false},\"yaxis2\":{\"anchor\":\"x2\",\"domain\":[0.51,1.0],\"matches\":\"y\",\"showticklabels\":false},\"xaxis3\":{\"anchor\":\"y3\",\"domain\":[0.0,0.784],\"title\":{\"text\":\"HouseAge\"}},\"yaxis3\":{\"anchor\":\"x3\",\"domain\":[0.0,0.49],\"title\":{\"text\":\"Count\"}},\"xaxis4\":{\"anchor\":\"y4\",\"domain\":[0.804,1.0]},\"yaxis4\":{\"anchor\":\"x4\",\"domain\":[0.0,0.49],\"matches\":\"y3\",\"showticklabels\":false},\"annotations\":[{\"font\":{\"size\":16},\"showarrow\":false,\"text\":\"MedHouseVal prediction\",\"x\":0.392,\"xanchor\":\"center\",\"xref\":\"paper\",\"y\":1.0,\"yanchor\":\"bottom\",\"yref\":\"paper\"},{\"font\":{\"size\":16},\"showarrow\":false,\"text\":\"Contribution distribution\",\"x\":0.902,\"xanchor\":\"center\",\"xref\":\"paper\",\"y\":1.0,\"yanchor\":\"bottom\",\"yref\":\"paper\"}],\"showlegend\":false,\"title\":{\"text\":\"Contributions are on the same scale as MedHouseVal,<br>and centered vertically on the train set.\"}},                        {\"responsive\": true}                    ).then(function(){\n                            \nvar gd = document.getElementById('24556c35-c8ea-4e62-8df4-9d5c1546b131');\nvar x = new MutationObserver(function (mutations, observer) {{\n        var display = window.getComputedStyle(gd).display;\n        if (!display || display === 'none') {{\n            console.log([gd, 'removed!']);\n            Plotly.purge(gd);\n            observer.disconnect();\n        }}\n}});\n\n// Listen for the removal of the full notebook cells\nvar notebookContainer = gd.closest('#notebook-container');\nif (notebookContainer) {{\n    x.observe(notebookContainer, {childList: true});\n}}\n\n// Listen for the clearing of the current output cell\nvar outputEl = gd.closest('.output');\nif (outputEl) {{\n    x.observe(outputEl, {childList: true});\n}}\n\n                        })                };                });            </script>        </div>"
     },
     "metadata": {},
     "output_type": "display_data"
    },
    {
     "data": {
      "application/vnd.plotly.v1+json": {
       "data": [
        {
         "hovertemplate": "x=%{x}<br>y=%{y}<extra></extra>",
         "legendgroup": "",
         "line": {
          "color": "#636efa",
          "dash": "solid",
          "shape": "hv"
         },
         "marker": {
          "symbol": "circle"
         },
         "mode": "lines",
         "name": "",
         "orientation": "v",
         "showlegend": false,
         "x": [
          1.5399805307388306,
          2.3612523078918457,
          2.5745182037353516,
          2.7279253005981445,
          2.8531572818756104,
          2.9775404930114746,
          3.084639072418213,
          3.1563029289245605,
          3.2188029289245605,
          3.2794551849365234,
          3.3359744548797607,
          3.3863525390625,
          3.427865505218506,
          3.46337890625,
          3.497636556625366,
          3.5335981845855713,
          3.5693740844726562,
          3.6005067825317383,
          3.6296377182006836,
          3.6536409854888916,
          3.6749188899993896,
          3.7006170749664307,
          3.724283218383789,
          3.743896961212158,
          3.765465259552002,
          3.7890124320983887,
          3.8122363090515137,
          3.834639310836792,
          3.8554790019989014,
          3.8767457008361816,
          3.8968396186828613,
          3.9164493083953857,
          3.936605930328369,
          3.9561915397644043,
          3.976341962814331,
          3.9960014820098877,
          4.01630163192749,
          4.035979747772217,
          4.052825450897217,
          4.070351600646973,
          4.0896735191345215,
          4.109851360321045,
          4.130431652069092,
          4.147897243499756,
          4.164318561553955,
          4.1809821128845215,
          4.196662425994873,
          4.211057186126709,
          4.226097583770752,
          4.242089748382568,
          4.258941650390625,
          4.27567195892334,
          4.288924694061279,
          4.302490711212158,
          4.317336559295654,
          4.330997943878174,
          4.343316555023193,
          4.355792045593262,
          4.369918346405029,
          4.384853839874268,
          4.397734642028809,
          4.4104437828063965,
          4.424887180328369,
          4.438154220581055,
          4.453059673309326,
          4.467790126800537,
          4.480635643005371,
          4.493834495544434,
          4.505959987640381,
          4.51815938949585,
          4.530567169189453,
          4.544113636016846,
          4.557961940765381,
          4.571018218994141,
          4.584079742431641,
          4.597331523895264,
          4.610955715179443,
          4.623804569244385,
          4.635488986968994,
          4.64840030670166,
          4.663107872009277,
          4.676944732666016,
          4.689748764038086,
          4.702581882476807,
          4.714083194732666,
          4.726266384124756,
          4.739931106567383,
          4.754555702209473,
          4.768490314483643,
          4.781155586242676,
          4.79298210144043,
          4.803619861602783,
          4.816420078277588,
          4.829222679138184,
          4.841451168060303,
          4.855612754821777,
          4.868707180023193,
          4.879575729370117,
          4.890985488891602,
          4.902295112609863,
          4.913493633270264,
          4.926657676696777,
          4.938361644744873,
          4.948887825012207,
          4.961301803588867,
          4.972911357879639,
          4.984084606170654,
          4.996160984039307,
          5.007979393005371,
          5.019266128540039,
          5.031370162963867,
          5.044004440307617,
          5.0559468269348145,
          5.066327095031738,
          5.076089382171631,
          5.087133884429932,
          5.098634719848633,
          5.110579967498779,
          5.121551513671875,
          5.131471633911133,
          5.142751693725586,
          5.154265403747559,
          5.1652045249938965,
          5.177088260650635,
          5.189854145050049,
          5.202878952026367,
          5.2153639793396,
          5.227035999298096,
          5.2385573387146,
          5.251158714294434,
          5.263227462768555,
          5.274301528930664,
          5.286176681518555,
          5.297904014587402,
          5.310219764709473,
          5.3219313621521,
          5.331969261169434,
          5.342662811279297,
          5.3531036376953125,
          5.362916469573975,
          5.37393856048584,
          5.386086463928223,
          5.3983354568481445,
          5.410131931304932,
          5.422191619873047,
          5.433800220489502,
          5.444735527038574,
          5.455883502960205,
          5.466863632202148,
          5.4780497550964355,
          5.487874507904053,
          5.497348308563232,
          5.507790565490723,
          5.520643711090088,
          5.533946514129639,
          5.5463409423828125,
          5.559448719024658,
          5.571238994598389,
          5.583073616027832,
          5.595544815063477,
          5.608126640319824,
          5.621053218841553,
          5.633747577667236,
          5.645868301391602,
          5.659291744232178,
          5.673483371734619,
          5.686771869659424,
          5.700817584991455,
          5.714498996734619,
          5.727336406707764,
          5.739287853240967,
          5.751676559448242,
          5.763818264007568,
          5.775036811828613,
          5.787047386169434,
          5.801748275756836,
          5.816617488861084,
          5.830644130706787,
          5.845216751098633,
          5.858781814575195,
          5.874473571777344,
          5.891963481903076,
          5.910378932952881,
          5.92874002456665,
          5.943256855010986,
          5.954268932342529,
          5.967307090759277,
          5.981936931610107,
          5.997156143188477,
          6.012274742126465,
          6.028078556060791,
          6.046202659606934,
          6.065796375274658,
          6.083985805511475,
          6.097273349761963,
          6.109861373901367,
          6.124687194824219,
          6.141009330749512,
          6.157790660858154,
          6.174136161804199,
          6.190500736236572,
          6.208859443664551,
          6.226060390472412,
          6.243088722229004,
          6.2630133628845215,
          6.282854080200195,
          6.301724433898926,
          6.32157564163208,
          6.341340065002441,
          6.361515522003174,
          6.384043216705322,
          6.404855728149414,
          6.4258294105529785,
          6.447551727294922,
          6.467846870422363,
          6.491430759429932,
          6.518575191497803,
          6.542605400085449,
          6.564296722412109,
          6.5923614501953125,
          6.624488353729248,
          6.6532440185546875,
          6.6807122230529785,
          6.711921215057373,
          6.742807865142822,
          6.773829460144043,
          6.811100959777832,
          6.849915981292725,
          6.884171485900879,
          6.920234680175781,
          6.961630344390869,
          7.004916191101074,
          7.0477728843688965,
          7.087968349456787,
          7.130654811859131,
          7.176727294921875,
          7.223496437072754,
          7.270386219024658,
          7.323299407958984,
          7.384283542633057,
          7.448777198791504,
          7.514303207397461,
          7.5867695808410645,
          7.666045665740967,
          7.765314102172852,
          7.868193626403809,
          7.959148406982422,
          8.06733226776123,
          8.202035903930664,
          8.361337661743164,
          8.57236385345459,
          8.849323272705078,
          9.400110244750977,
          10.607311248779297,
          15.082175254821777,
          80.32952117919922
         ],
         "xaxis": "x",
         "y": [
          0.04932560956726547,
          0.04932560956726547,
          0.08830476632321166,
          0.049657812658483826,
          0.025886233521646356,
          0.03463455655292579,
          0.04178288625644488,
          0.011956866122331005,
          0.01944552050473518,
          0.01944552050473518,
          0.01676532068276425,
          0.016037709862894916,
          0.016037709862894916,
          0.005397321691414882,
          0.00894104047890411,
          0.0065419945181606235,
          0.011322515149166065,
          0.006625260238706583,
          0.006625260238706583,
          0.006625260238706583,
          0.006625260238706583,
          0.006625260238706583,
          0.004424045832114225,
          0.004424045832114225,
          0.004424045832114225,
          0.004424045832114225,
          0.00407801777838269,
          0.00407801777838269,
          0.00407801777838269,
          0.0024975062131003256,
          0.002109290776496474,
          0.002109290776496474,
          0.002109290776496474,
          0.002109290776496474,
          0.002109290776496474,
          0.002109290776496474,
          0.002109290776496474,
          0.003116708680141864,
          0.003116708680141864,
          0.003116708680141864,
          0.003116708680141864,
          0.0037333870069203167,
          0.0012778989905122835,
          0.0031308867533471597,
          0.0031308867533471597,
          0.0031308867533471597,
          0.0031308867533471597,
          0.0031308867533471597,
          0.0031308867533471597,
          0.0031308867533471597,
          0.0031308867533471597,
          0.0031308867533471597,
          0.0035453312143442282,
          0.004825259182779246,
          0.003434073440816267,
          0.001998076344708998,
          0.001998076344708998,
          0.0010728509097182339,
          0.013730726092175615,
          0.013730726092175615,
          0.013730726092175615,
          -0.005486682796796163,
          -0.005486682796796163,
          -0.0036331358250720537,
          -0.00615354941314212,
          -0.006853554501420317,
          -0.006853554501420317,
          -0.006853554501420317,
          -0.00876017603355567,
          -0.00876017603355567,
          -0.00876017603355567,
          -0.008269589548700553,
          -0.0066866654961050915,
          -0.006179464831406609,
          -0.007388610050744314,
          -0.007388610050744314,
          -0.007914279588188517,
          -0.006429265888064093,
          -0.008915406398868616,
          -0.008915406398868616,
          -0.013564927111652804,
          -0.014302087895319617,
          -0.014302087895319617,
          -0.015373939450218137,
          -0.015373939450218137,
          -0.015373939450218137,
          -0.015373939450218137,
          -0.017473349378132323,
          -0.017473349378132323,
          -0.017473349378132323,
          -0.017473349378132323,
          -0.017473349378132323,
          -0.016885541840745484,
          -0.016885541840745484,
          -0.016885541840745484,
          -0.016885541840745484,
          -0.014908996585603226,
          -0.014908996585603226,
          -0.014908996585603226,
          -0.01828514949411175,
          -0.018742594798786198,
          -0.01972533823647235,
          -0.02052437805166305,
          -0.02052437805166305,
          -0.02052437805166305,
          -0.021040123074109605,
          -0.021040123074109605,
          -0.021040123074109605,
          -0.021040123074109605,
          -0.021040123074109605,
          -0.021040123074109605,
          -0.021040123074109605,
          -0.021040123074109605,
          -0.021040123074109605,
          -0.021040123074109605,
          -0.021040123074109605,
          -0.021040123074109605,
          -0.021040123074109605,
          -0.021040123074109605,
          -0.021040123074109605,
          -0.021040123074109605,
          -0.021040123074109605,
          -0.021040123074109605,
          -0.021040123074109605,
          -0.021040123074109605,
          -0.021040123074109605,
          -0.021040123074109605,
          -0.021040123074109605,
          -0.021040123074109605,
          -0.021040123074109605,
          -0.021040123074109605,
          -0.021040123074109605,
          -0.021040123074109605,
          -0.021040123074109605,
          -0.021040123074109605,
          -0.021040123074109605,
          -0.021040123074109605,
          -0.021040123074109605,
          -0.021040123074109605,
          -0.020054001724618183,
          -0.020054001724618183,
          -0.020054001724618183,
          -0.020054001724618183,
          -0.020460464526175313,
          -0.020460464526175313,
          -0.020460464526175313,
          -0.020460464526175313,
          -0.020460464526175313,
          -0.020460464526175313,
          -0.021112332939954744,
          -0.01852692151536139,
          -0.016740994701692543,
          -0.015545483671814323,
          -0.014615539366454225,
          -0.014615539366454225,
          -0.0127646453315307,
          -0.008872265519734232,
          -0.007563664947367591,
          -0.0070372516250229895,
          -0.0070372516250229895,
          -0.008289201901718847,
          -0.008289201901718847,
          -0.008289201901718847,
          -0.009124082522373888,
          -0.009124082522373888,
          -0.0068966370698208285,
          -0.0068966370698208285,
          -0.0068966370698208285,
          -0.0068966370698208285,
          -0.0068966370698208285,
          -0.008447078877005796,
          -0.008447078877005796,
          -0.005482143568978504,
          -0.005482143568978504,
          -0.0067906292483505635,
          -0.0067906292483505635,
          -0.0067906292483505635,
          -0.0067906292483505635,
          -0.0067906292483505635,
          -0.0067906292483505635,
          -0.0067906292483505635,
          -0.0067906292483505635,
          -0.0067906292483505635,
          -0.0059112758436728275,
          -0.0059112758436728275,
          -0.0059112758436728275,
          -0.004311394483782877,
          -0.004311394483782877,
          -0.005286760686232312,
          -0.005286760686232312,
          -0.006571770683725259,
          -0.0037848547159209144,
          -0.0037848547159209144,
          -0.005277848543559989,
          -0.005277848543559989,
          -0.005277848543559989,
          -0.005277848543559989,
          -0.005277848543559989,
          -0.001712916269183664,
          -0.001712916269183664,
          -0.002694878141016892,
          -0.002694878141016892,
          -0.002694878141016892,
          -0.004399298026736831,
          -0.004399298026736831,
          -0.005164858462008598,
          -0.005164858462008598,
          -0.006100268635213494,
          -0.005514947105857715,
          -0.001902660279503014,
          -0.001902660279503014,
          -0.0010802028657609165,
          -0.0034346639957428277,
          0.012603278131217872,
          0.011812820576064137,
          0.011812820576064137,
          0.010930156032904748,
          0.013349601539342849,
          0.026910502499482552,
          0.020085459218596294,
          0.025039090323062018,
          0.030405364945855183,
          0.0157037459173735,
          0.016619438984759705,
          0.013726226415248418,
          0.024334631909335096,
          0.026265355106324557,
          0.025237809644241736,
          0.03141233705854067,
          0.045954367474724186,
          0.03317725760650268,
          0.03122544950985799,
          0.03506596981437934,
          0.038978842227923846,
          0.03149752897577063,
          0.02949552305579023,
          0.031152568463158812,
          0.022702898564956157,
          0.021047922614863063,
          0.0159636623989186,
          0.010218362329177092,
          0.015894360665031644,
          0.020427941922573297,
          0.028053153969515437,
          0.04474313237168449,
          0.05243726940918717,
          0.05067061574033295,
          0.05051264013307332,
          0.07127813768447264,
          0.04895972126742356,
          0.04848566719339392,
          0.04381494614092447,
          0.04709443640718809,
          0.010037959153886519,
          0.02953335095485548,
          0.03499396862303222
         ],
         "yaxis": "y",
         "type": "scatter"
        },
        {
         "name": "AveRooms distribution",
         "x": [
          1.5399805307388306,
          2.3612523078918457,
          2.5745182037353516,
          2.7279253005981445,
          2.8531572818756104,
          2.9775404930114746,
          3.084639072418213,
          3.1563029289245605,
          3.2188029289245605,
          3.2794551849365234,
          3.3359744548797607,
          3.3863525390625,
          3.427865505218506,
          3.46337890625,
          3.497636556625366,
          3.5335981845855713,
          3.5693740844726562,
          3.6005067825317383,
          3.6296377182006836,
          3.6536409854888916,
          3.6749188899993896,
          3.7006170749664307,
          3.724283218383789,
          3.743896961212158,
          3.765465259552002,
          3.7890124320983887,
          3.8122363090515137,
          3.834639310836792,
          3.8554790019989014,
          3.8767457008361816,
          3.8968396186828613,
          3.9164493083953857,
          3.936605930328369,
          3.9561915397644043,
          3.976341962814331,
          3.9960014820098877,
          4.01630163192749,
          4.035979747772217,
          4.052825450897217,
          4.070351600646973,
          4.0896735191345215,
          4.109851360321045,
          4.130431652069092,
          4.147897243499756,
          4.164318561553955,
          4.1809821128845215,
          4.196662425994873,
          4.211057186126709,
          4.226097583770752,
          4.242089748382568,
          4.258941650390625,
          4.27567195892334,
          4.288924694061279,
          4.302490711212158,
          4.317336559295654,
          4.330997943878174,
          4.343316555023193,
          4.355792045593262,
          4.369918346405029,
          4.384853839874268,
          4.397734642028809,
          4.4104437828063965,
          4.424887180328369,
          4.438154220581055,
          4.453059673309326,
          4.467790126800537,
          4.480635643005371,
          4.493834495544434,
          4.505959987640381,
          4.51815938949585,
          4.530567169189453,
          4.544113636016846,
          4.557961940765381,
          4.571018218994141,
          4.584079742431641,
          4.597331523895264,
          4.610955715179443,
          4.623804569244385,
          4.635488986968994,
          4.64840030670166,
          4.663107872009277,
          4.676944732666016,
          4.689748764038086,
          4.702581882476807,
          4.714083194732666,
          4.726266384124756,
          4.739931106567383,
          4.754555702209473,
          4.768490314483643,
          4.781155586242676,
          4.79298210144043,
          4.803619861602783,
          4.816420078277588,
          4.829222679138184,
          4.841451168060303,
          4.855612754821777,
          4.868707180023193,
          4.879575729370117,
          4.890985488891602,
          4.902295112609863,
          4.913493633270264,
          4.926657676696777,
          4.938361644744873,
          4.948887825012207,
          4.961301803588867,
          4.972911357879639,
          4.984084606170654,
          4.996160984039307,
          5.007979393005371,
          5.019266128540039,
          5.031370162963867,
          5.044004440307617,
          5.0559468269348145,
          5.066327095031738,
          5.076089382171631,
          5.087133884429932,
          5.098634719848633,
          5.110579967498779,
          5.121551513671875,
          5.131471633911133,
          5.142751693725586,
          5.154265403747559,
          5.1652045249938965,
          5.177088260650635,
          5.189854145050049,
          5.202878952026367,
          5.2153639793396,
          5.227035999298096,
          5.2385573387146,
          5.251158714294434,
          5.263227462768555,
          5.274301528930664,
          5.286176681518555,
          5.297904014587402,
          5.310219764709473,
          5.3219313621521,
          5.331969261169434,
          5.342662811279297,
          5.3531036376953125,
          5.362916469573975,
          5.37393856048584,
          5.386086463928223,
          5.3983354568481445,
          5.410131931304932,
          5.422191619873047,
          5.433800220489502,
          5.444735527038574,
          5.455883502960205,
          5.466863632202148,
          5.4780497550964355,
          5.487874507904053,
          5.497348308563232,
          5.507790565490723,
          5.520643711090088,
          5.533946514129639,
          5.5463409423828125,
          5.559448719024658,
          5.571238994598389,
          5.583073616027832,
          5.595544815063477,
          5.608126640319824,
          5.621053218841553,
          5.633747577667236,
          5.645868301391602,
          5.659291744232178,
          5.673483371734619,
          5.686771869659424,
          5.700817584991455,
          5.714498996734619,
          5.727336406707764,
          5.739287853240967,
          5.751676559448242,
          5.763818264007568,
          5.775036811828613,
          5.787047386169434,
          5.801748275756836,
          5.816617488861084,
          5.830644130706787,
          5.845216751098633,
          5.858781814575195,
          5.874473571777344,
          5.891963481903076,
          5.910378932952881,
          5.92874002456665,
          5.943256855010986,
          5.954268932342529,
          5.967307090759277,
          5.981936931610107,
          5.997156143188477,
          6.012274742126465,
          6.028078556060791,
          6.046202659606934,
          6.065796375274658,
          6.083985805511475,
          6.097273349761963,
          6.109861373901367,
          6.124687194824219,
          6.141009330749512,
          6.157790660858154,
          6.174136161804199,
          6.190500736236572,
          6.208859443664551,
          6.226060390472412,
          6.243088722229004,
          6.2630133628845215,
          6.282854080200195,
          6.301724433898926,
          6.32157564163208,
          6.341340065002441,
          6.361515522003174,
          6.384043216705322,
          6.404855728149414,
          6.4258294105529785,
          6.447551727294922,
          6.467846870422363,
          6.491430759429932,
          6.518575191497803,
          6.542605400085449,
          6.564296722412109,
          6.5923614501953125,
          6.624488353729248,
          6.6532440185546875,
          6.6807122230529785,
          6.711921215057373,
          6.742807865142822,
          6.773829460144043,
          6.811100959777832,
          6.849915981292725,
          6.884171485900879,
          6.920234680175781,
          6.961630344390869,
          7.004916191101074,
          7.0477728843688965,
          7.087968349456787,
          7.130654811859131,
          7.176727294921875,
          7.223496437072754,
          7.270386219024658,
          7.323299407958984,
          7.384283542633057,
          7.448777198791504,
          7.514303207397461,
          7.5867695808410645,
          7.666045665740967,
          7.765314102172852,
          7.868193626403809,
          7.959148406982422,
          8.06733226776123,
          8.202035903930664,
          8.361337661743164,
          8.57236385345459,
          8.849323272705078,
          9.400110244750977,
          10.607311248779297,
          15.082175254821777,
          80.32952117919922
         ],
         "type": "histogram",
         "xaxis": "x3",
         "yaxis": "y3"
        },
        {
         "name": "",
         "y": [
          0.04932560956726547,
          0.04932560956726547,
          0.08830476632321166,
          0.049657812658483826,
          0.025886233521646356,
          0.03463455655292579,
          0.04178288625644488,
          0.011956866122331005,
          0.01944552050473518,
          0.01944552050473518,
          0.01676532068276425,
          0.016037709862894916,
          0.016037709862894916,
          0.005397321691414882,
          0.00894104047890411,
          0.0065419945181606235,
          0.011322515149166065,
          0.006625260238706583,
          0.006625260238706583,
          0.006625260238706583,
          0.006625260238706583,
          0.006625260238706583,
          0.004424045832114225,
          0.004424045832114225,
          0.004424045832114225,
          0.004424045832114225,
          0.00407801777838269,
          0.00407801777838269,
          0.00407801777838269,
          0.0024975062131003256,
          0.002109290776496474,
          0.002109290776496474,
          0.002109290776496474,
          0.002109290776496474,
          0.002109290776496474,
          0.002109290776496474,
          0.002109290776496474,
          0.003116708680141864,
          0.003116708680141864,
          0.003116708680141864,
          0.003116708680141864,
          0.0037333870069203167,
          0.0012778989905122835,
          0.0031308867533471597,
          0.0031308867533471597,
          0.0031308867533471597,
          0.0031308867533471597,
          0.0031308867533471597,
          0.0031308867533471597,
          0.0031308867533471597,
          0.0031308867533471597,
          0.0031308867533471597,
          0.0035453312143442282,
          0.004825259182779246,
          0.003434073440816267,
          0.001998076344708998,
          0.001998076344708998,
          0.0010728509097182339,
          0.013730726092175615,
          0.013730726092175615,
          0.013730726092175615,
          -0.005486682796796163,
          -0.005486682796796163,
          -0.0036331358250720537,
          -0.00615354941314212,
          -0.006853554501420317,
          -0.006853554501420317,
          -0.006853554501420317,
          -0.00876017603355567,
          -0.00876017603355567,
          -0.00876017603355567,
          -0.008269589548700553,
          -0.0066866654961050915,
          -0.006179464831406609,
          -0.007388610050744314,
          -0.007388610050744314,
          -0.007914279588188517,
          -0.006429265888064093,
          -0.008915406398868616,
          -0.008915406398868616,
          -0.013564927111652804,
          -0.014302087895319617,
          -0.014302087895319617,
          -0.015373939450218137,
          -0.015373939450218137,
          -0.015373939450218137,
          -0.015373939450218137,
          -0.017473349378132323,
          -0.017473349378132323,
          -0.017473349378132323,
          -0.017473349378132323,
          -0.017473349378132323,
          -0.016885541840745484,
          -0.016885541840745484,
          -0.016885541840745484,
          -0.016885541840745484,
          -0.014908996585603226,
          -0.014908996585603226,
          -0.014908996585603226,
          -0.01828514949411175,
          -0.018742594798786198,
          -0.01972533823647235,
          -0.02052437805166305,
          -0.02052437805166305,
          -0.02052437805166305,
          -0.021040123074109605,
          -0.021040123074109605,
          -0.021040123074109605,
          -0.021040123074109605,
          -0.021040123074109605,
          -0.021040123074109605,
          -0.021040123074109605,
          -0.021040123074109605,
          -0.021040123074109605,
          -0.021040123074109605,
          -0.021040123074109605,
          -0.021040123074109605,
          -0.021040123074109605,
          -0.021040123074109605,
          -0.021040123074109605,
          -0.021040123074109605,
          -0.021040123074109605,
          -0.021040123074109605,
          -0.021040123074109605,
          -0.021040123074109605,
          -0.021040123074109605,
          -0.021040123074109605,
          -0.021040123074109605,
          -0.021040123074109605,
          -0.021040123074109605,
          -0.021040123074109605,
          -0.021040123074109605,
          -0.021040123074109605,
          -0.021040123074109605,
          -0.021040123074109605,
          -0.021040123074109605,
          -0.021040123074109605,
          -0.021040123074109605,
          -0.021040123074109605,
          -0.020054001724618183,
          -0.020054001724618183,
          -0.020054001724618183,
          -0.020054001724618183,
          -0.020460464526175313,
          -0.020460464526175313,
          -0.020460464526175313,
          -0.020460464526175313,
          -0.020460464526175313,
          -0.020460464526175313,
          -0.021112332939954744,
          -0.01852692151536139,
          -0.016740994701692543,
          -0.015545483671814323,
          -0.014615539366454225,
          -0.014615539366454225,
          -0.0127646453315307,
          -0.008872265519734232,
          -0.007563664947367591,
          -0.0070372516250229895,
          -0.0070372516250229895,
          -0.008289201901718847,
          -0.008289201901718847,
          -0.008289201901718847,
          -0.009124082522373888,
          -0.009124082522373888,
          -0.0068966370698208285,
          -0.0068966370698208285,
          -0.0068966370698208285,
          -0.0068966370698208285,
          -0.0068966370698208285,
          -0.008447078877005796,
          -0.008447078877005796,
          -0.005482143568978504,
          -0.005482143568978504,
          -0.0067906292483505635,
          -0.0067906292483505635,
          -0.0067906292483505635,
          -0.0067906292483505635,
          -0.0067906292483505635,
          -0.0067906292483505635,
          -0.0067906292483505635,
          -0.0067906292483505635,
          -0.0067906292483505635,
          -0.0059112758436728275,
          -0.0059112758436728275,
          -0.0059112758436728275,
          -0.004311394483782877,
          -0.004311394483782877,
          -0.005286760686232312,
          -0.005286760686232312,
          -0.006571770683725259,
          -0.0037848547159209144,
          -0.0037848547159209144,
          -0.005277848543559989,
          -0.005277848543559989,
          -0.005277848543559989,
          -0.005277848543559989,
          -0.005277848543559989,
          -0.001712916269183664,
          -0.001712916269183664,
          -0.002694878141016892,
          -0.002694878141016892,
          -0.002694878141016892,
          -0.004399298026736831,
          -0.004399298026736831,
          -0.005164858462008598,
          -0.005164858462008598,
          -0.006100268635213494,
          -0.005514947105857715,
          -0.001902660279503014,
          -0.001902660279503014,
          -0.0010802028657609165,
          -0.0034346639957428277,
          0.012603278131217872,
          0.011812820576064137,
          0.011812820576064137,
          0.010930156032904748,
          0.013349601539342849,
          0.026910502499482552,
          0.020085459218596294,
          0.025039090323062018,
          0.030405364945855183,
          0.0157037459173735,
          0.016619438984759705,
          0.013726226415248418,
          0.024334631909335096,
          0.026265355106324557,
          0.025237809644241736,
          0.03141233705854067,
          0.045954367474724186,
          0.03317725760650268,
          0.03122544950985799,
          0.03506596981437934,
          0.038978842227923846,
          0.03149752897577063,
          0.02949552305579023,
          0.031152568463158812,
          0.022702898564956157,
          0.021047922614863063,
          0.0159636623989186,
          0.010218362329177092,
          0.015894360665031644,
          0.020427941922573297,
          0.028053153969515437,
          0.04474313237168449,
          0.05243726940918717,
          0.05067061574033295,
          0.05051264013307332,
          0.07127813768447264,
          0.04895972126742356,
          0.04848566719339392,
          0.04381494614092447,
          0.04709443640718809,
          0.010037959153886519,
          0.02953335095485548,
          0.03499396862303222
         ],
         "type": "box",
         "xaxis": "x2",
         "yaxis": "y2"
        }
       ],
       "layout": {
        "template": {
         "data": {
          "histogram2dcontour": [
           {
            "type": "histogram2dcontour",
            "colorbar": {
             "outlinewidth": 0,
             "ticks": ""
            },
            "colorscale": [
             [
              0.0,
              "#0d0887"
             ],
             [
              0.1111111111111111,
              "#46039f"
             ],
             [
              0.2222222222222222,
              "#7201a8"
             ],
             [
              0.3333333333333333,
              "#9c179e"
             ],
             [
              0.4444444444444444,
              "#bd3786"
             ],
             [
              0.5555555555555556,
              "#d8576b"
             ],
             [
              0.6666666666666666,
              "#ed7953"
             ],
             [
              0.7777777777777778,
              "#fb9f3a"
             ],
             [
              0.8888888888888888,
              "#fdca26"
             ],
             [
              1.0,
              "#f0f921"
             ]
            ]
           }
          ],
          "choropleth": [
           {
            "type": "choropleth",
            "colorbar": {
             "outlinewidth": 0,
             "ticks": ""
            }
           }
          ],
          "histogram2d": [
           {
            "type": "histogram2d",
            "colorbar": {
             "outlinewidth": 0,
             "ticks": ""
            },
            "colorscale": [
             [
              0.0,
              "#0d0887"
             ],
             [
              0.1111111111111111,
              "#46039f"
             ],
             [
              0.2222222222222222,
              "#7201a8"
             ],
             [
              0.3333333333333333,
              "#9c179e"
             ],
             [
              0.4444444444444444,
              "#bd3786"
             ],
             [
              0.5555555555555556,
              "#d8576b"
             ],
             [
              0.6666666666666666,
              "#ed7953"
             ],
             [
              0.7777777777777778,
              "#fb9f3a"
             ],
             [
              0.8888888888888888,
              "#fdca26"
             ],
             [
              1.0,
              "#f0f921"
             ]
            ]
           }
          ],
          "heatmap": [
           {
            "type": "heatmap",
            "colorbar": {
             "outlinewidth": 0,
             "ticks": ""
            },
            "colorscale": [
             [
              0.0,
              "#0d0887"
             ],
             [
              0.1111111111111111,
              "#46039f"
             ],
             [
              0.2222222222222222,
              "#7201a8"
             ],
             [
              0.3333333333333333,
              "#9c179e"
             ],
             [
              0.4444444444444444,
              "#bd3786"
             ],
             [
              0.5555555555555556,
              "#d8576b"
             ],
             [
              0.6666666666666666,
              "#ed7953"
             ],
             [
              0.7777777777777778,
              "#fb9f3a"
             ],
             [
              0.8888888888888888,
              "#fdca26"
             ],
             [
              1.0,
              "#f0f921"
             ]
            ]
           }
          ],
          "heatmapgl": [
           {
            "type": "heatmapgl",
            "colorbar": {
             "outlinewidth": 0,
             "ticks": ""
            },
            "colorscale": [
             [
              0.0,
              "#0d0887"
             ],
             [
              0.1111111111111111,
              "#46039f"
             ],
             [
              0.2222222222222222,
              "#7201a8"
             ],
             [
              0.3333333333333333,
              "#9c179e"
             ],
             [
              0.4444444444444444,
              "#bd3786"
             ],
             [
              0.5555555555555556,
              "#d8576b"
             ],
             [
              0.6666666666666666,
              "#ed7953"
             ],
             [
              0.7777777777777778,
              "#fb9f3a"
             ],
             [
              0.8888888888888888,
              "#fdca26"
             ],
             [
              1.0,
              "#f0f921"
             ]
            ]
           }
          ],
          "contourcarpet": [
           {
            "type": "contourcarpet",
            "colorbar": {
             "outlinewidth": 0,
             "ticks": ""
            }
           }
          ],
          "contour": [
           {
            "type": "contour",
            "colorbar": {
             "outlinewidth": 0,
             "ticks": ""
            },
            "colorscale": [
             [
              0.0,
              "#0d0887"
             ],
             [
              0.1111111111111111,
              "#46039f"
             ],
             [
              0.2222222222222222,
              "#7201a8"
             ],
             [
              0.3333333333333333,
              "#9c179e"
             ],
             [
              0.4444444444444444,
              "#bd3786"
             ],
             [
              0.5555555555555556,
              "#d8576b"
             ],
             [
              0.6666666666666666,
              "#ed7953"
             ],
             [
              0.7777777777777778,
              "#fb9f3a"
             ],
             [
              0.8888888888888888,
              "#fdca26"
             ],
             [
              1.0,
              "#f0f921"
             ]
            ]
           }
          ],
          "surface": [
           {
            "type": "surface",
            "colorbar": {
             "outlinewidth": 0,
             "ticks": ""
            },
            "colorscale": [
             [
              0.0,
              "#0d0887"
             ],
             [
              0.1111111111111111,
              "#46039f"
             ],
             [
              0.2222222222222222,
              "#7201a8"
             ],
             [
              0.3333333333333333,
              "#9c179e"
             ],
             [
              0.4444444444444444,
              "#bd3786"
             ],
             [
              0.5555555555555556,
              "#d8576b"
             ],
             [
              0.6666666666666666,
              "#ed7953"
             ],
             [
              0.7777777777777778,
              "#fb9f3a"
             ],
             [
              0.8888888888888888,
              "#fdca26"
             ],
             [
              1.0,
              "#f0f921"
             ]
            ]
           }
          ],
          "mesh3d": [
           {
            "type": "mesh3d",
            "colorbar": {
             "outlinewidth": 0,
             "ticks": ""
            }
           }
          ],
          "scatter": [
           {
            "fillpattern": {
             "fillmode": "overlay",
             "size": 10,
             "solidity": 0.2
            },
            "type": "scatter"
           }
          ],
          "parcoords": [
           {
            "type": "parcoords",
            "line": {
             "colorbar": {
              "outlinewidth": 0,
              "ticks": ""
             }
            }
           }
          ],
          "scatterpolargl": [
           {
            "type": "scatterpolargl",
            "marker": {
             "colorbar": {
              "outlinewidth": 0,
              "ticks": ""
             }
            }
           }
          ],
          "bar": [
           {
            "error_x": {
             "color": "#2a3f5f"
            },
            "error_y": {
             "color": "#2a3f5f"
            },
            "marker": {
             "line": {
              "color": "#E5ECF6",
              "width": 0.5
             },
             "pattern": {
              "fillmode": "overlay",
              "size": 10,
              "solidity": 0.2
             }
            },
            "type": "bar"
           }
          ],
          "scattergeo": [
           {
            "type": "scattergeo",
            "marker": {
             "colorbar": {
              "outlinewidth": 0,
              "ticks": ""
             }
            }
           }
          ],
          "scatterpolar": [
           {
            "type": "scatterpolar",
            "marker": {
             "colorbar": {
              "outlinewidth": 0,
              "ticks": ""
             }
            }
           }
          ],
          "histogram": [
           {
            "marker": {
             "pattern": {
              "fillmode": "overlay",
              "size": 10,
              "solidity": 0.2
             }
            },
            "type": "histogram"
           }
          ],
          "scattergl": [
           {
            "type": "scattergl",
            "marker": {
             "colorbar": {
              "outlinewidth": 0,
              "ticks": ""
             }
            }
           }
          ],
          "scatter3d": [
           {
            "type": "scatter3d",
            "line": {
             "colorbar": {
              "outlinewidth": 0,
              "ticks": ""
             }
            },
            "marker": {
             "colorbar": {
              "outlinewidth": 0,
              "ticks": ""
             }
            }
           }
          ],
          "scattermapbox": [
           {
            "type": "scattermapbox",
            "marker": {
             "colorbar": {
              "outlinewidth": 0,
              "ticks": ""
             }
            }
           }
          ],
          "scatterternary": [
           {
            "type": "scatterternary",
            "marker": {
             "colorbar": {
              "outlinewidth": 0,
              "ticks": ""
             }
            }
           }
          ],
          "scattercarpet": [
           {
            "type": "scattercarpet",
            "marker": {
             "colorbar": {
              "outlinewidth": 0,
              "ticks": ""
             }
            }
           }
          ],
          "carpet": [
           {
            "aaxis": {
             "endlinecolor": "#2a3f5f",
             "gridcolor": "white",
             "linecolor": "white",
             "minorgridcolor": "white",
             "startlinecolor": "#2a3f5f"
            },
            "baxis": {
             "endlinecolor": "#2a3f5f",
             "gridcolor": "white",
             "linecolor": "white",
             "minorgridcolor": "white",
             "startlinecolor": "#2a3f5f"
            },
            "type": "carpet"
           }
          ],
          "table": [
           {
            "cells": {
             "fill": {
              "color": "#EBF0F8"
             },
             "line": {
              "color": "white"
             }
            },
            "header": {
             "fill": {
              "color": "#C8D4E3"
             },
             "line": {
              "color": "white"
             }
            },
            "type": "table"
           }
          ],
          "barpolar": [
           {
            "marker": {
             "line": {
              "color": "#E5ECF6",
              "width": 0.5
             },
             "pattern": {
              "fillmode": "overlay",
              "size": 10,
              "solidity": 0.2
             }
            },
            "type": "barpolar"
           }
          ],
          "pie": [
           {
            "automargin": true,
            "type": "pie"
           }
          ]
         },
         "layout": {
          "autotypenumbers": "strict",
          "colorway": [
           "#636efa",
           "#EF553B",
           "#00cc96",
           "#ab63fa",
           "#FFA15A",
           "#19d3f3",
           "#FF6692",
           "#B6E880",
           "#FF97FF",
           "#FECB52"
          ],
          "font": {
           "color": "#2a3f5f"
          },
          "hovermode": "closest",
          "hoverlabel": {
           "align": "left"
          },
          "paper_bgcolor": "white",
          "plot_bgcolor": "#E5ECF6",
          "polar": {
           "bgcolor": "#E5ECF6",
           "angularaxis": {
            "gridcolor": "white",
            "linecolor": "white",
            "ticks": ""
           },
           "radialaxis": {
            "gridcolor": "white",
            "linecolor": "white",
            "ticks": ""
           }
          },
          "ternary": {
           "bgcolor": "#E5ECF6",
           "aaxis": {
            "gridcolor": "white",
            "linecolor": "white",
            "ticks": ""
           },
           "baxis": {
            "gridcolor": "white",
            "linecolor": "white",
            "ticks": ""
           },
           "caxis": {
            "gridcolor": "white",
            "linecolor": "white",
            "ticks": ""
           }
          },
          "coloraxis": {
           "colorbar": {
            "outlinewidth": 0,
            "ticks": ""
           }
          },
          "colorscale": {
           "sequential": [
            [
             0.0,
             "#0d0887"
            ],
            [
             0.1111111111111111,
             "#46039f"
            ],
            [
             0.2222222222222222,
             "#7201a8"
            ],
            [
             0.3333333333333333,
             "#9c179e"
            ],
            [
             0.4444444444444444,
             "#bd3786"
            ],
            [
             0.5555555555555556,
             "#d8576b"
            ],
            [
             0.6666666666666666,
             "#ed7953"
            ],
            [
             0.7777777777777778,
             "#fb9f3a"
            ],
            [
             0.8888888888888888,
             "#fdca26"
            ],
            [
             1.0,
             "#f0f921"
            ]
           ],
           "sequentialminus": [
            [
             0.0,
             "#0d0887"
            ],
            [
             0.1111111111111111,
             "#46039f"
            ],
            [
             0.2222222222222222,
             "#7201a8"
            ],
            [
             0.3333333333333333,
             "#9c179e"
            ],
            [
             0.4444444444444444,
             "#bd3786"
            ],
            [
             0.5555555555555556,
             "#d8576b"
            ],
            [
             0.6666666666666666,
             "#ed7953"
            ],
            [
             0.7777777777777778,
             "#fb9f3a"
            ],
            [
             0.8888888888888888,
             "#fdca26"
            ],
            [
             1.0,
             "#f0f921"
            ]
           ],
           "diverging": [
            [
             0,
             "#8e0152"
            ],
            [
             0.1,
             "#c51b7d"
            ],
            [
             0.2,
             "#de77ae"
            ],
            [
             0.3,
             "#f1b6da"
            ],
            [
             0.4,
             "#fde0ef"
            ],
            [
             0.5,
             "#f7f7f7"
            ],
            [
             0.6,
             "#e6f5d0"
            ],
            [
             0.7,
             "#b8e186"
            ],
            [
             0.8,
             "#7fbc41"
            ],
            [
             0.9,
             "#4d9221"
            ],
            [
             1,
             "#276419"
            ]
           ]
          },
          "xaxis": {
           "gridcolor": "white",
           "linecolor": "white",
           "ticks": "",
           "title": {
            "standoff": 15
           },
           "zerolinecolor": "white",
           "automargin": true,
           "zerolinewidth": 2
          },
          "yaxis": {
           "gridcolor": "white",
           "linecolor": "white",
           "ticks": "",
           "title": {
            "standoff": 15
           },
           "zerolinecolor": "white",
           "automargin": true,
           "zerolinewidth": 2
          },
          "scene": {
           "xaxis": {
            "backgroundcolor": "#E5ECF6",
            "gridcolor": "white",
            "linecolor": "white",
            "showbackground": true,
            "ticks": "",
            "zerolinecolor": "white",
            "gridwidth": 2
           },
           "yaxis": {
            "backgroundcolor": "#E5ECF6",
            "gridcolor": "white",
            "linecolor": "white",
            "showbackground": true,
            "ticks": "",
            "zerolinecolor": "white",
            "gridwidth": 2
           },
           "zaxis": {
            "backgroundcolor": "#E5ECF6",
            "gridcolor": "white",
            "linecolor": "white",
            "showbackground": true,
            "ticks": "",
            "zerolinecolor": "white",
            "gridwidth": 2
           }
          },
          "shapedefaults": {
           "line": {
            "color": "#2a3f5f"
           }
          },
          "annotationdefaults": {
           "arrowcolor": "#2a3f5f",
           "arrowhead": 0,
           "arrowwidth": 1
          },
          "geo": {
           "bgcolor": "white",
           "landcolor": "#E5ECF6",
           "subunitcolor": "white",
           "showland": true,
           "showlakes": true,
           "lakecolor": "white"
          },
          "title": {
           "x": 0.05
          },
          "mapbox": {
           "style": "light"
          }
         }
        },
        "xaxis": {
         "anchor": "y",
         "domain": [
          0.0,
          0.784
         ],
         "matches": "x3",
         "showticklabels": false
        },
        "yaxis": {
         "anchor": "x",
         "domain": [
          0.51,
          1.0
         ],
         "title": {
          "text": "Contribution"
         }
        },
        "xaxis2": {
         "anchor": "y2",
         "domain": [
          0.804,
          1.0
         ],
         "matches": "x4",
         "showticklabels": false
        },
        "yaxis2": {
         "anchor": "x2",
         "domain": [
          0.51,
          1.0
         ],
         "matches": "y",
         "showticklabels": false
        },
        "xaxis3": {
         "anchor": "y3",
         "domain": [
          0.0,
          0.784
         ],
         "title": {
          "text": "AveRooms"
         }
        },
        "yaxis3": {
         "anchor": "x3",
         "domain": [
          0.0,
          0.49
         ],
         "title": {
          "text": "Count"
         }
        },
        "xaxis4": {
         "anchor": "y4",
         "domain": [
          0.804,
          1.0
         ]
        },
        "yaxis4": {
         "anchor": "x4",
         "domain": [
          0.0,
          0.49
         ],
         "matches": "y3",
         "showticklabels": false
        },
        "annotations": [
         {
          "font": {
           "size": 16
          },
          "showarrow": false,
          "text": "MedHouseVal prediction",
          "x": 0.392,
          "xanchor": "center",
          "xref": "paper",
          "y": 1.0,
          "yanchor": "bottom",
          "yref": "paper"
         },
         {
          "font": {
           "size": 16
          },
          "showarrow": false,
          "text": "Contribution distribution",
          "x": 0.902,
          "xanchor": "center",
          "xref": "paper",
          "y": 1.0,
          "yanchor": "bottom",
          "yref": "paper"
         }
        ],
        "showlegend": false,
        "title": {
         "text": "Contributions are on the same scale as MedHouseVal,<br>and centered vertically on the train set."
        }
       },
       "config": {
        "plotlyServerURL": "https://plot.ly"
       }
      },
      "text/html": "<div>                            <div id=\"f0db41be-82e4-428a-a850-5b12b3529b28\" class=\"plotly-graph-div\" style=\"height:525px; width:100%;\"></div>            <script type=\"text/javascript\">                require([\"plotly\"], function(Plotly) {                    window.PLOTLYENV=window.PLOTLYENV || {};                                    if (document.getElementById(\"f0db41be-82e4-428a-a850-5b12b3529b28\")) {                    Plotly.newPlot(                        \"f0db41be-82e4-428a-a850-5b12b3529b28\",                        [{\"hovertemplate\":\"x=%{x}<br>y=%{y}<extra></extra>\",\"legendgroup\":\"\",\"line\":{\"color\":\"#636efa\",\"dash\":\"solid\",\"shape\":\"hv\"},\"marker\":{\"symbol\":\"circle\"},\"mode\":\"lines\",\"name\":\"\",\"orientation\":\"v\",\"showlegend\":false,\"x\":[1.5399805307388306,2.3612523078918457,2.5745182037353516,2.7279253005981445,2.8531572818756104,2.9775404930114746,3.084639072418213,3.1563029289245605,3.2188029289245605,3.2794551849365234,3.3359744548797607,3.3863525390625,3.427865505218506,3.46337890625,3.497636556625366,3.5335981845855713,3.5693740844726562,3.6005067825317383,3.6296377182006836,3.6536409854888916,3.6749188899993896,3.7006170749664307,3.724283218383789,3.743896961212158,3.765465259552002,3.7890124320983887,3.8122363090515137,3.834639310836792,3.8554790019989014,3.8767457008361816,3.8968396186828613,3.9164493083953857,3.936605930328369,3.9561915397644043,3.976341962814331,3.9960014820098877,4.01630163192749,4.035979747772217,4.052825450897217,4.070351600646973,4.0896735191345215,4.109851360321045,4.130431652069092,4.147897243499756,4.164318561553955,4.1809821128845215,4.196662425994873,4.211057186126709,4.226097583770752,4.242089748382568,4.258941650390625,4.27567195892334,4.288924694061279,4.302490711212158,4.317336559295654,4.330997943878174,4.343316555023193,4.355792045593262,4.369918346405029,4.384853839874268,4.397734642028809,4.4104437828063965,4.424887180328369,4.438154220581055,4.453059673309326,4.467790126800537,4.480635643005371,4.493834495544434,4.505959987640381,4.51815938949585,4.530567169189453,4.544113636016846,4.557961940765381,4.571018218994141,4.584079742431641,4.597331523895264,4.610955715179443,4.623804569244385,4.635488986968994,4.64840030670166,4.663107872009277,4.676944732666016,4.689748764038086,4.702581882476807,4.714083194732666,4.726266384124756,4.739931106567383,4.754555702209473,4.768490314483643,4.781155586242676,4.79298210144043,4.803619861602783,4.816420078277588,4.829222679138184,4.841451168060303,4.855612754821777,4.868707180023193,4.879575729370117,4.890985488891602,4.902295112609863,4.913493633270264,4.926657676696777,4.938361644744873,4.948887825012207,4.961301803588867,4.972911357879639,4.984084606170654,4.996160984039307,5.007979393005371,5.019266128540039,5.031370162963867,5.044004440307617,5.0559468269348145,5.066327095031738,5.076089382171631,5.087133884429932,5.098634719848633,5.110579967498779,5.121551513671875,5.131471633911133,5.142751693725586,5.154265403747559,5.1652045249938965,5.177088260650635,5.189854145050049,5.202878952026367,5.2153639793396,5.227035999298096,5.2385573387146,5.251158714294434,5.263227462768555,5.274301528930664,5.286176681518555,5.297904014587402,5.310219764709473,5.3219313621521,5.331969261169434,5.342662811279297,5.3531036376953125,5.362916469573975,5.37393856048584,5.386086463928223,5.3983354568481445,5.410131931304932,5.422191619873047,5.433800220489502,5.444735527038574,5.455883502960205,5.466863632202148,5.4780497550964355,5.487874507904053,5.497348308563232,5.507790565490723,5.520643711090088,5.533946514129639,5.5463409423828125,5.559448719024658,5.571238994598389,5.583073616027832,5.595544815063477,5.608126640319824,5.621053218841553,5.633747577667236,5.645868301391602,5.659291744232178,5.673483371734619,5.686771869659424,5.700817584991455,5.714498996734619,5.727336406707764,5.739287853240967,5.751676559448242,5.763818264007568,5.775036811828613,5.787047386169434,5.801748275756836,5.816617488861084,5.830644130706787,5.845216751098633,5.858781814575195,5.874473571777344,5.891963481903076,5.910378932952881,5.92874002456665,5.943256855010986,5.954268932342529,5.967307090759277,5.981936931610107,5.997156143188477,6.012274742126465,6.028078556060791,6.046202659606934,6.065796375274658,6.083985805511475,6.097273349761963,6.109861373901367,6.124687194824219,6.141009330749512,6.157790660858154,6.174136161804199,6.190500736236572,6.208859443664551,6.226060390472412,6.243088722229004,6.2630133628845215,6.282854080200195,6.301724433898926,6.32157564163208,6.341340065002441,6.361515522003174,6.384043216705322,6.404855728149414,6.4258294105529785,6.447551727294922,6.467846870422363,6.491430759429932,6.518575191497803,6.542605400085449,6.564296722412109,6.5923614501953125,6.624488353729248,6.6532440185546875,6.6807122230529785,6.711921215057373,6.742807865142822,6.773829460144043,6.811100959777832,6.849915981292725,6.884171485900879,6.920234680175781,6.961630344390869,7.004916191101074,7.0477728843688965,7.087968349456787,7.130654811859131,7.176727294921875,7.223496437072754,7.270386219024658,7.323299407958984,7.384283542633057,7.448777198791504,7.514303207397461,7.5867695808410645,7.666045665740967,7.765314102172852,7.868193626403809,7.959148406982422,8.06733226776123,8.202035903930664,8.361337661743164,8.57236385345459,8.849323272705078,9.400110244750977,10.607311248779297,15.082175254821777,80.32952117919922],\"xaxis\":\"x\",\"y\":[0.04932560956726547,0.04932560956726547,0.08830476632321166,0.049657812658483826,0.025886233521646356,0.03463455655292579,0.04178288625644488,0.011956866122331005,0.01944552050473518,0.01944552050473518,0.01676532068276425,0.016037709862894916,0.016037709862894916,0.005397321691414882,0.00894104047890411,0.0065419945181606235,0.011322515149166065,0.006625260238706583,0.006625260238706583,0.006625260238706583,0.006625260238706583,0.006625260238706583,0.004424045832114225,0.004424045832114225,0.004424045832114225,0.004424045832114225,0.00407801777838269,0.00407801777838269,0.00407801777838269,0.0024975062131003256,0.002109290776496474,0.002109290776496474,0.002109290776496474,0.002109290776496474,0.002109290776496474,0.002109290776496474,0.002109290776496474,0.003116708680141864,0.003116708680141864,0.003116708680141864,0.003116708680141864,0.0037333870069203167,0.0012778989905122835,0.0031308867533471597,0.0031308867533471597,0.0031308867533471597,0.0031308867533471597,0.0031308867533471597,0.0031308867533471597,0.0031308867533471597,0.0031308867533471597,0.0031308867533471597,0.0035453312143442282,0.004825259182779246,0.003434073440816267,0.001998076344708998,0.001998076344708998,0.0010728509097182339,0.013730726092175615,0.013730726092175615,0.013730726092175615,-0.005486682796796163,-0.005486682796796163,-0.0036331358250720537,-0.00615354941314212,-0.006853554501420317,-0.006853554501420317,-0.006853554501420317,-0.00876017603355567,-0.00876017603355567,-0.00876017603355567,-0.008269589548700553,-0.0066866654961050915,-0.006179464831406609,-0.007388610050744314,-0.007388610050744314,-0.007914279588188517,-0.006429265888064093,-0.008915406398868616,-0.008915406398868616,-0.013564927111652804,-0.014302087895319617,-0.014302087895319617,-0.015373939450218137,-0.015373939450218137,-0.015373939450218137,-0.015373939450218137,-0.017473349378132323,-0.017473349378132323,-0.017473349378132323,-0.017473349378132323,-0.017473349378132323,-0.016885541840745484,-0.016885541840745484,-0.016885541840745484,-0.016885541840745484,-0.014908996585603226,-0.014908996585603226,-0.014908996585603226,-0.01828514949411175,-0.018742594798786198,-0.01972533823647235,-0.02052437805166305,-0.02052437805166305,-0.02052437805166305,-0.021040123074109605,-0.021040123074109605,-0.021040123074109605,-0.021040123074109605,-0.021040123074109605,-0.021040123074109605,-0.021040123074109605,-0.021040123074109605,-0.021040123074109605,-0.021040123074109605,-0.021040123074109605,-0.021040123074109605,-0.021040123074109605,-0.021040123074109605,-0.021040123074109605,-0.021040123074109605,-0.021040123074109605,-0.021040123074109605,-0.021040123074109605,-0.021040123074109605,-0.021040123074109605,-0.021040123074109605,-0.021040123074109605,-0.021040123074109605,-0.021040123074109605,-0.021040123074109605,-0.021040123074109605,-0.021040123074109605,-0.021040123074109605,-0.021040123074109605,-0.021040123074109605,-0.021040123074109605,-0.021040123074109605,-0.021040123074109605,-0.020054001724618183,-0.020054001724618183,-0.020054001724618183,-0.020054001724618183,-0.020460464526175313,-0.020460464526175313,-0.020460464526175313,-0.020460464526175313,-0.020460464526175313,-0.020460464526175313,-0.021112332939954744,-0.01852692151536139,-0.016740994701692543,-0.015545483671814323,-0.014615539366454225,-0.014615539366454225,-0.0127646453315307,-0.008872265519734232,-0.007563664947367591,-0.0070372516250229895,-0.0070372516250229895,-0.008289201901718847,-0.008289201901718847,-0.008289201901718847,-0.009124082522373888,-0.009124082522373888,-0.0068966370698208285,-0.0068966370698208285,-0.0068966370698208285,-0.0068966370698208285,-0.0068966370698208285,-0.008447078877005796,-0.008447078877005796,-0.005482143568978504,-0.005482143568978504,-0.0067906292483505635,-0.0067906292483505635,-0.0067906292483505635,-0.0067906292483505635,-0.0067906292483505635,-0.0067906292483505635,-0.0067906292483505635,-0.0067906292483505635,-0.0067906292483505635,-0.0059112758436728275,-0.0059112758436728275,-0.0059112758436728275,-0.004311394483782877,-0.004311394483782877,-0.005286760686232312,-0.005286760686232312,-0.006571770683725259,-0.0037848547159209144,-0.0037848547159209144,-0.005277848543559989,-0.005277848543559989,-0.005277848543559989,-0.005277848543559989,-0.005277848543559989,-0.001712916269183664,-0.001712916269183664,-0.002694878141016892,-0.002694878141016892,-0.002694878141016892,-0.004399298026736831,-0.004399298026736831,-0.005164858462008598,-0.005164858462008598,-0.006100268635213494,-0.005514947105857715,-0.001902660279503014,-0.001902660279503014,-0.0010802028657609165,-0.0034346639957428277,0.012603278131217872,0.011812820576064137,0.011812820576064137,0.010930156032904748,0.013349601539342849,0.026910502499482552,0.020085459218596294,0.025039090323062018,0.030405364945855183,0.0157037459173735,0.016619438984759705,0.013726226415248418,0.024334631909335096,0.026265355106324557,0.025237809644241736,0.03141233705854067,0.045954367474724186,0.03317725760650268,0.03122544950985799,0.03506596981437934,0.038978842227923846,0.03149752897577063,0.02949552305579023,0.031152568463158812,0.022702898564956157,0.021047922614863063,0.0159636623989186,0.010218362329177092,0.015894360665031644,0.020427941922573297,0.028053153969515437,0.04474313237168449,0.05243726940918717,0.05067061574033295,0.05051264013307332,0.07127813768447264,0.04895972126742356,0.04848566719339392,0.04381494614092447,0.04709443640718809,0.010037959153886519,0.02953335095485548,0.03499396862303222],\"yaxis\":\"y\",\"type\":\"scatter\"},{\"name\":\"AveRooms distribution\",\"x\":[1.5399805307388306,2.3612523078918457,2.5745182037353516,2.7279253005981445,2.8531572818756104,2.9775404930114746,3.084639072418213,3.1563029289245605,3.2188029289245605,3.2794551849365234,3.3359744548797607,3.3863525390625,3.427865505218506,3.46337890625,3.497636556625366,3.5335981845855713,3.5693740844726562,3.6005067825317383,3.6296377182006836,3.6536409854888916,3.6749188899993896,3.7006170749664307,3.724283218383789,3.743896961212158,3.765465259552002,3.7890124320983887,3.8122363090515137,3.834639310836792,3.8554790019989014,3.8767457008361816,3.8968396186828613,3.9164493083953857,3.936605930328369,3.9561915397644043,3.976341962814331,3.9960014820098877,4.01630163192749,4.035979747772217,4.052825450897217,4.070351600646973,4.0896735191345215,4.109851360321045,4.130431652069092,4.147897243499756,4.164318561553955,4.1809821128845215,4.196662425994873,4.211057186126709,4.226097583770752,4.242089748382568,4.258941650390625,4.27567195892334,4.288924694061279,4.302490711212158,4.317336559295654,4.330997943878174,4.343316555023193,4.355792045593262,4.369918346405029,4.384853839874268,4.397734642028809,4.4104437828063965,4.424887180328369,4.438154220581055,4.453059673309326,4.467790126800537,4.480635643005371,4.493834495544434,4.505959987640381,4.51815938949585,4.530567169189453,4.544113636016846,4.557961940765381,4.571018218994141,4.584079742431641,4.597331523895264,4.610955715179443,4.623804569244385,4.635488986968994,4.64840030670166,4.663107872009277,4.676944732666016,4.689748764038086,4.702581882476807,4.714083194732666,4.726266384124756,4.739931106567383,4.754555702209473,4.768490314483643,4.781155586242676,4.79298210144043,4.803619861602783,4.816420078277588,4.829222679138184,4.841451168060303,4.855612754821777,4.868707180023193,4.879575729370117,4.890985488891602,4.902295112609863,4.913493633270264,4.926657676696777,4.938361644744873,4.948887825012207,4.961301803588867,4.972911357879639,4.984084606170654,4.996160984039307,5.007979393005371,5.019266128540039,5.031370162963867,5.044004440307617,5.0559468269348145,5.066327095031738,5.076089382171631,5.087133884429932,5.098634719848633,5.110579967498779,5.121551513671875,5.131471633911133,5.142751693725586,5.154265403747559,5.1652045249938965,5.177088260650635,5.189854145050049,5.202878952026367,5.2153639793396,5.227035999298096,5.2385573387146,5.251158714294434,5.263227462768555,5.274301528930664,5.286176681518555,5.297904014587402,5.310219764709473,5.3219313621521,5.331969261169434,5.342662811279297,5.3531036376953125,5.362916469573975,5.37393856048584,5.386086463928223,5.3983354568481445,5.410131931304932,5.422191619873047,5.433800220489502,5.444735527038574,5.455883502960205,5.466863632202148,5.4780497550964355,5.487874507904053,5.497348308563232,5.507790565490723,5.520643711090088,5.533946514129639,5.5463409423828125,5.559448719024658,5.571238994598389,5.583073616027832,5.595544815063477,5.608126640319824,5.621053218841553,5.633747577667236,5.645868301391602,5.659291744232178,5.673483371734619,5.686771869659424,5.700817584991455,5.714498996734619,5.727336406707764,5.739287853240967,5.751676559448242,5.763818264007568,5.775036811828613,5.787047386169434,5.801748275756836,5.816617488861084,5.830644130706787,5.845216751098633,5.858781814575195,5.874473571777344,5.891963481903076,5.910378932952881,5.92874002456665,5.943256855010986,5.954268932342529,5.967307090759277,5.981936931610107,5.997156143188477,6.012274742126465,6.028078556060791,6.046202659606934,6.065796375274658,6.083985805511475,6.097273349761963,6.109861373901367,6.124687194824219,6.141009330749512,6.157790660858154,6.174136161804199,6.190500736236572,6.208859443664551,6.226060390472412,6.243088722229004,6.2630133628845215,6.282854080200195,6.301724433898926,6.32157564163208,6.341340065002441,6.361515522003174,6.384043216705322,6.404855728149414,6.4258294105529785,6.447551727294922,6.467846870422363,6.491430759429932,6.518575191497803,6.542605400085449,6.564296722412109,6.5923614501953125,6.624488353729248,6.6532440185546875,6.6807122230529785,6.711921215057373,6.742807865142822,6.773829460144043,6.811100959777832,6.849915981292725,6.884171485900879,6.920234680175781,6.961630344390869,7.004916191101074,7.0477728843688965,7.087968349456787,7.130654811859131,7.176727294921875,7.223496437072754,7.270386219024658,7.323299407958984,7.384283542633057,7.448777198791504,7.514303207397461,7.5867695808410645,7.666045665740967,7.765314102172852,7.868193626403809,7.959148406982422,8.06733226776123,8.202035903930664,8.361337661743164,8.57236385345459,8.849323272705078,9.400110244750977,10.607311248779297,15.082175254821777,80.32952117919922],\"type\":\"histogram\",\"xaxis\":\"x3\",\"yaxis\":\"y3\"},{\"name\":\"\",\"y\":[0.04932560956726547,0.04932560956726547,0.08830476632321166,0.049657812658483826,0.025886233521646356,0.03463455655292579,0.04178288625644488,0.011956866122331005,0.01944552050473518,0.01944552050473518,0.01676532068276425,0.016037709862894916,0.016037709862894916,0.005397321691414882,0.00894104047890411,0.0065419945181606235,0.011322515149166065,0.006625260238706583,0.006625260238706583,0.006625260238706583,0.006625260238706583,0.006625260238706583,0.004424045832114225,0.004424045832114225,0.004424045832114225,0.004424045832114225,0.00407801777838269,0.00407801777838269,0.00407801777838269,0.0024975062131003256,0.002109290776496474,0.002109290776496474,0.002109290776496474,0.002109290776496474,0.002109290776496474,0.002109290776496474,0.002109290776496474,0.003116708680141864,0.003116708680141864,0.003116708680141864,0.003116708680141864,0.0037333870069203167,0.0012778989905122835,0.0031308867533471597,0.0031308867533471597,0.0031308867533471597,0.0031308867533471597,0.0031308867533471597,0.0031308867533471597,0.0031308867533471597,0.0031308867533471597,0.0031308867533471597,0.0035453312143442282,0.004825259182779246,0.003434073440816267,0.001998076344708998,0.001998076344708998,0.0010728509097182339,0.013730726092175615,0.013730726092175615,0.013730726092175615,-0.005486682796796163,-0.005486682796796163,-0.0036331358250720537,-0.00615354941314212,-0.006853554501420317,-0.006853554501420317,-0.006853554501420317,-0.00876017603355567,-0.00876017603355567,-0.00876017603355567,-0.008269589548700553,-0.0066866654961050915,-0.006179464831406609,-0.007388610050744314,-0.007388610050744314,-0.007914279588188517,-0.006429265888064093,-0.008915406398868616,-0.008915406398868616,-0.013564927111652804,-0.014302087895319617,-0.014302087895319617,-0.015373939450218137,-0.015373939450218137,-0.015373939450218137,-0.015373939450218137,-0.017473349378132323,-0.017473349378132323,-0.017473349378132323,-0.017473349378132323,-0.017473349378132323,-0.016885541840745484,-0.016885541840745484,-0.016885541840745484,-0.016885541840745484,-0.014908996585603226,-0.014908996585603226,-0.014908996585603226,-0.01828514949411175,-0.018742594798786198,-0.01972533823647235,-0.02052437805166305,-0.02052437805166305,-0.02052437805166305,-0.021040123074109605,-0.021040123074109605,-0.021040123074109605,-0.021040123074109605,-0.021040123074109605,-0.021040123074109605,-0.021040123074109605,-0.021040123074109605,-0.021040123074109605,-0.021040123074109605,-0.021040123074109605,-0.021040123074109605,-0.021040123074109605,-0.021040123074109605,-0.021040123074109605,-0.021040123074109605,-0.021040123074109605,-0.021040123074109605,-0.021040123074109605,-0.021040123074109605,-0.021040123074109605,-0.021040123074109605,-0.021040123074109605,-0.021040123074109605,-0.021040123074109605,-0.021040123074109605,-0.021040123074109605,-0.021040123074109605,-0.021040123074109605,-0.021040123074109605,-0.021040123074109605,-0.021040123074109605,-0.021040123074109605,-0.021040123074109605,-0.020054001724618183,-0.020054001724618183,-0.020054001724618183,-0.020054001724618183,-0.020460464526175313,-0.020460464526175313,-0.020460464526175313,-0.020460464526175313,-0.020460464526175313,-0.020460464526175313,-0.021112332939954744,-0.01852692151536139,-0.016740994701692543,-0.015545483671814323,-0.014615539366454225,-0.014615539366454225,-0.0127646453315307,-0.008872265519734232,-0.007563664947367591,-0.0070372516250229895,-0.0070372516250229895,-0.008289201901718847,-0.008289201901718847,-0.008289201901718847,-0.009124082522373888,-0.009124082522373888,-0.0068966370698208285,-0.0068966370698208285,-0.0068966370698208285,-0.0068966370698208285,-0.0068966370698208285,-0.008447078877005796,-0.008447078877005796,-0.005482143568978504,-0.005482143568978504,-0.0067906292483505635,-0.0067906292483505635,-0.0067906292483505635,-0.0067906292483505635,-0.0067906292483505635,-0.0067906292483505635,-0.0067906292483505635,-0.0067906292483505635,-0.0067906292483505635,-0.0059112758436728275,-0.0059112758436728275,-0.0059112758436728275,-0.004311394483782877,-0.004311394483782877,-0.005286760686232312,-0.005286760686232312,-0.006571770683725259,-0.0037848547159209144,-0.0037848547159209144,-0.005277848543559989,-0.005277848543559989,-0.005277848543559989,-0.005277848543559989,-0.005277848543559989,-0.001712916269183664,-0.001712916269183664,-0.002694878141016892,-0.002694878141016892,-0.002694878141016892,-0.004399298026736831,-0.004399298026736831,-0.005164858462008598,-0.005164858462008598,-0.006100268635213494,-0.005514947105857715,-0.001902660279503014,-0.001902660279503014,-0.0010802028657609165,-0.0034346639957428277,0.012603278131217872,0.011812820576064137,0.011812820576064137,0.010930156032904748,0.013349601539342849,0.026910502499482552,0.020085459218596294,0.025039090323062018,0.030405364945855183,0.0157037459173735,0.016619438984759705,0.013726226415248418,0.024334631909335096,0.026265355106324557,0.025237809644241736,0.03141233705854067,0.045954367474724186,0.03317725760650268,0.03122544950985799,0.03506596981437934,0.038978842227923846,0.03149752897577063,0.02949552305579023,0.031152568463158812,0.022702898564956157,0.021047922614863063,0.0159636623989186,0.010218362329177092,0.015894360665031644,0.020427941922573297,0.028053153969515437,0.04474313237168449,0.05243726940918717,0.05067061574033295,0.05051264013307332,0.07127813768447264,0.04895972126742356,0.04848566719339392,0.04381494614092447,0.04709443640718809,0.010037959153886519,0.02953335095485548,0.03499396862303222],\"type\":\"box\",\"xaxis\":\"x2\",\"yaxis\":\"y2\"}],                        {\"template\":{\"data\":{\"histogram2dcontour\":[{\"type\":\"histogram2dcontour\",\"colorbar\":{\"outlinewidth\":0,\"ticks\":\"\"},\"colorscale\":[[0.0,\"#0d0887\"],[0.1111111111111111,\"#46039f\"],[0.2222222222222222,\"#7201a8\"],[0.3333333333333333,\"#9c179e\"],[0.4444444444444444,\"#bd3786\"],[0.5555555555555556,\"#d8576b\"],[0.6666666666666666,\"#ed7953\"],[0.7777777777777778,\"#fb9f3a\"],[0.8888888888888888,\"#fdca26\"],[1.0,\"#f0f921\"]]}],\"choropleth\":[{\"type\":\"choropleth\",\"colorbar\":{\"outlinewidth\":0,\"ticks\":\"\"}}],\"histogram2d\":[{\"type\":\"histogram2d\",\"colorbar\":{\"outlinewidth\":0,\"ticks\":\"\"},\"colorscale\":[[0.0,\"#0d0887\"],[0.1111111111111111,\"#46039f\"],[0.2222222222222222,\"#7201a8\"],[0.3333333333333333,\"#9c179e\"],[0.4444444444444444,\"#bd3786\"],[0.5555555555555556,\"#d8576b\"],[0.6666666666666666,\"#ed7953\"],[0.7777777777777778,\"#fb9f3a\"],[0.8888888888888888,\"#fdca26\"],[1.0,\"#f0f921\"]]}],\"heatmap\":[{\"type\":\"heatmap\",\"colorbar\":{\"outlinewidth\":0,\"ticks\":\"\"},\"colorscale\":[[0.0,\"#0d0887\"],[0.1111111111111111,\"#46039f\"],[0.2222222222222222,\"#7201a8\"],[0.3333333333333333,\"#9c179e\"],[0.4444444444444444,\"#bd3786\"],[0.5555555555555556,\"#d8576b\"],[0.6666666666666666,\"#ed7953\"],[0.7777777777777778,\"#fb9f3a\"],[0.8888888888888888,\"#fdca26\"],[1.0,\"#f0f921\"]]}],\"heatmapgl\":[{\"type\":\"heatmapgl\",\"colorbar\":{\"outlinewidth\":0,\"ticks\":\"\"},\"colorscale\":[[0.0,\"#0d0887\"],[0.1111111111111111,\"#46039f\"],[0.2222222222222222,\"#7201a8\"],[0.3333333333333333,\"#9c179e\"],[0.4444444444444444,\"#bd3786\"],[0.5555555555555556,\"#d8576b\"],[0.6666666666666666,\"#ed7953\"],[0.7777777777777778,\"#fb9f3a\"],[0.8888888888888888,\"#fdca26\"],[1.0,\"#f0f921\"]]}],\"contourcarpet\":[{\"type\":\"contourcarpet\",\"colorbar\":{\"outlinewidth\":0,\"ticks\":\"\"}}],\"contour\":[{\"type\":\"contour\",\"colorbar\":{\"outlinewidth\":0,\"ticks\":\"\"},\"colorscale\":[[0.0,\"#0d0887\"],[0.1111111111111111,\"#46039f\"],[0.2222222222222222,\"#7201a8\"],[0.3333333333333333,\"#9c179e\"],[0.4444444444444444,\"#bd3786\"],[0.5555555555555556,\"#d8576b\"],[0.6666666666666666,\"#ed7953\"],[0.7777777777777778,\"#fb9f3a\"],[0.8888888888888888,\"#fdca26\"],[1.0,\"#f0f921\"]]}],\"surface\":[{\"type\":\"surface\",\"colorbar\":{\"outlinewidth\":0,\"ticks\":\"\"},\"colorscale\":[[0.0,\"#0d0887\"],[0.1111111111111111,\"#46039f\"],[0.2222222222222222,\"#7201a8\"],[0.3333333333333333,\"#9c179e\"],[0.4444444444444444,\"#bd3786\"],[0.5555555555555556,\"#d8576b\"],[0.6666666666666666,\"#ed7953\"],[0.7777777777777778,\"#fb9f3a\"],[0.8888888888888888,\"#fdca26\"],[1.0,\"#f0f921\"]]}],\"mesh3d\":[{\"type\":\"mesh3d\",\"colorbar\":{\"outlinewidth\":0,\"ticks\":\"\"}}],\"scatter\":[{\"fillpattern\":{\"fillmode\":\"overlay\",\"size\":10,\"solidity\":0.2},\"type\":\"scatter\"}],\"parcoords\":[{\"type\":\"parcoords\",\"line\":{\"colorbar\":{\"outlinewidth\":0,\"ticks\":\"\"}}}],\"scatterpolargl\":[{\"type\":\"scatterpolargl\",\"marker\":{\"colorbar\":{\"outlinewidth\":0,\"ticks\":\"\"}}}],\"bar\":[{\"error_x\":{\"color\":\"#2a3f5f\"},\"error_y\":{\"color\":\"#2a3f5f\"},\"marker\":{\"line\":{\"color\":\"#E5ECF6\",\"width\":0.5},\"pattern\":{\"fillmode\":\"overlay\",\"size\":10,\"solidity\":0.2}},\"type\":\"bar\"}],\"scattergeo\":[{\"type\":\"scattergeo\",\"marker\":{\"colorbar\":{\"outlinewidth\":0,\"ticks\":\"\"}}}],\"scatterpolar\":[{\"type\":\"scatterpolar\",\"marker\":{\"colorbar\":{\"outlinewidth\":0,\"ticks\":\"\"}}}],\"histogram\":[{\"marker\":{\"pattern\":{\"fillmode\":\"overlay\",\"size\":10,\"solidity\":0.2}},\"type\":\"histogram\"}],\"scattergl\":[{\"type\":\"scattergl\",\"marker\":{\"colorbar\":{\"outlinewidth\":0,\"ticks\":\"\"}}}],\"scatter3d\":[{\"type\":\"scatter3d\",\"line\":{\"colorbar\":{\"outlinewidth\":0,\"ticks\":\"\"}},\"marker\":{\"colorbar\":{\"outlinewidth\":0,\"ticks\":\"\"}}}],\"scattermapbox\":[{\"type\":\"scattermapbox\",\"marker\":{\"colorbar\":{\"outlinewidth\":0,\"ticks\":\"\"}}}],\"scatterternary\":[{\"type\":\"scatterternary\",\"marker\":{\"colorbar\":{\"outlinewidth\":0,\"ticks\":\"\"}}}],\"scattercarpet\":[{\"type\":\"scattercarpet\",\"marker\":{\"colorbar\":{\"outlinewidth\":0,\"ticks\":\"\"}}}],\"carpet\":[{\"aaxis\":{\"endlinecolor\":\"#2a3f5f\",\"gridcolor\":\"white\",\"linecolor\":\"white\",\"minorgridcolor\":\"white\",\"startlinecolor\":\"#2a3f5f\"},\"baxis\":{\"endlinecolor\":\"#2a3f5f\",\"gridcolor\":\"white\",\"linecolor\":\"white\",\"minorgridcolor\":\"white\",\"startlinecolor\":\"#2a3f5f\"},\"type\":\"carpet\"}],\"table\":[{\"cells\":{\"fill\":{\"color\":\"#EBF0F8\"},\"line\":{\"color\":\"white\"}},\"header\":{\"fill\":{\"color\":\"#C8D4E3\"},\"line\":{\"color\":\"white\"}},\"type\":\"table\"}],\"barpolar\":[{\"marker\":{\"line\":{\"color\":\"#E5ECF6\",\"width\":0.5},\"pattern\":{\"fillmode\":\"overlay\",\"size\":10,\"solidity\":0.2}},\"type\":\"barpolar\"}],\"pie\":[{\"automargin\":true,\"type\":\"pie\"}]},\"layout\":{\"autotypenumbers\":\"strict\",\"colorway\":[\"#636efa\",\"#EF553B\",\"#00cc96\",\"#ab63fa\",\"#FFA15A\",\"#19d3f3\",\"#FF6692\",\"#B6E880\",\"#FF97FF\",\"#FECB52\"],\"font\":{\"color\":\"#2a3f5f\"},\"hovermode\":\"closest\",\"hoverlabel\":{\"align\":\"left\"},\"paper_bgcolor\":\"white\",\"plot_bgcolor\":\"#E5ECF6\",\"polar\":{\"bgcolor\":\"#E5ECF6\",\"angularaxis\":{\"gridcolor\":\"white\",\"linecolor\":\"white\",\"ticks\":\"\"},\"radialaxis\":{\"gridcolor\":\"white\",\"linecolor\":\"white\",\"ticks\":\"\"}},\"ternary\":{\"bgcolor\":\"#E5ECF6\",\"aaxis\":{\"gridcolor\":\"white\",\"linecolor\":\"white\",\"ticks\":\"\"},\"baxis\":{\"gridcolor\":\"white\",\"linecolor\":\"white\",\"ticks\":\"\"},\"caxis\":{\"gridcolor\":\"white\",\"linecolor\":\"white\",\"ticks\":\"\"}},\"coloraxis\":{\"colorbar\":{\"outlinewidth\":0,\"ticks\":\"\"}},\"colorscale\":{\"sequential\":[[0.0,\"#0d0887\"],[0.1111111111111111,\"#46039f\"],[0.2222222222222222,\"#7201a8\"],[0.3333333333333333,\"#9c179e\"],[0.4444444444444444,\"#bd3786\"],[0.5555555555555556,\"#d8576b\"],[0.6666666666666666,\"#ed7953\"],[0.7777777777777778,\"#fb9f3a\"],[0.8888888888888888,\"#fdca26\"],[1.0,\"#f0f921\"]],\"sequentialminus\":[[0.0,\"#0d0887\"],[0.1111111111111111,\"#46039f\"],[0.2222222222222222,\"#7201a8\"],[0.3333333333333333,\"#9c179e\"],[0.4444444444444444,\"#bd3786\"],[0.5555555555555556,\"#d8576b\"],[0.6666666666666666,\"#ed7953\"],[0.7777777777777778,\"#fb9f3a\"],[0.8888888888888888,\"#fdca26\"],[1.0,\"#f0f921\"]],\"diverging\":[[0,\"#8e0152\"],[0.1,\"#c51b7d\"],[0.2,\"#de77ae\"],[0.3,\"#f1b6da\"],[0.4,\"#fde0ef\"],[0.5,\"#f7f7f7\"],[0.6,\"#e6f5d0\"],[0.7,\"#b8e186\"],[0.8,\"#7fbc41\"],[0.9,\"#4d9221\"],[1,\"#276419\"]]},\"xaxis\":{\"gridcolor\":\"white\",\"linecolor\":\"white\",\"ticks\":\"\",\"title\":{\"standoff\":15},\"zerolinecolor\":\"white\",\"automargin\":true,\"zerolinewidth\":2},\"yaxis\":{\"gridcolor\":\"white\",\"linecolor\":\"white\",\"ticks\":\"\",\"title\":{\"standoff\":15},\"zerolinecolor\":\"white\",\"automargin\":true,\"zerolinewidth\":2},\"scene\":{\"xaxis\":{\"backgroundcolor\":\"#E5ECF6\",\"gridcolor\":\"white\",\"linecolor\":\"white\",\"showbackground\":true,\"ticks\":\"\",\"zerolinecolor\":\"white\",\"gridwidth\":2},\"yaxis\":{\"backgroundcolor\":\"#E5ECF6\",\"gridcolor\":\"white\",\"linecolor\":\"white\",\"showbackground\":true,\"ticks\":\"\",\"zerolinecolor\":\"white\",\"gridwidth\":2},\"zaxis\":{\"backgroundcolor\":\"#E5ECF6\",\"gridcolor\":\"white\",\"linecolor\":\"white\",\"showbackground\":true,\"ticks\":\"\",\"zerolinecolor\":\"white\",\"gridwidth\":2}},\"shapedefaults\":{\"line\":{\"color\":\"#2a3f5f\"}},\"annotationdefaults\":{\"arrowcolor\":\"#2a3f5f\",\"arrowhead\":0,\"arrowwidth\":1},\"geo\":{\"bgcolor\":\"white\",\"landcolor\":\"#E5ECF6\",\"subunitcolor\":\"white\",\"showland\":true,\"showlakes\":true,\"lakecolor\":\"white\"},\"title\":{\"x\":0.05},\"mapbox\":{\"style\":\"light\"}}},\"xaxis\":{\"anchor\":\"y\",\"domain\":[0.0,0.784],\"matches\":\"x3\",\"showticklabels\":false},\"yaxis\":{\"anchor\":\"x\",\"domain\":[0.51,1.0],\"title\":{\"text\":\"Contribution\"}},\"xaxis2\":{\"anchor\":\"y2\",\"domain\":[0.804,1.0],\"matches\":\"x4\",\"showticklabels\":false},\"yaxis2\":{\"anchor\":\"x2\",\"domain\":[0.51,1.0],\"matches\":\"y\",\"showticklabels\":false},\"xaxis3\":{\"anchor\":\"y3\",\"domain\":[0.0,0.784],\"title\":{\"text\":\"AveRooms\"}},\"yaxis3\":{\"anchor\":\"x3\",\"domain\":[0.0,0.49],\"title\":{\"text\":\"Count\"}},\"xaxis4\":{\"anchor\":\"y4\",\"domain\":[0.804,1.0]},\"yaxis4\":{\"anchor\":\"x4\",\"domain\":[0.0,0.49],\"matches\":\"y3\",\"showticklabels\":false},\"annotations\":[{\"font\":{\"size\":16},\"showarrow\":false,\"text\":\"MedHouseVal prediction\",\"x\":0.392,\"xanchor\":\"center\",\"xref\":\"paper\",\"y\":1.0,\"yanchor\":\"bottom\",\"yref\":\"paper\"},{\"font\":{\"size\":16},\"showarrow\":false,\"text\":\"Contribution distribution\",\"x\":0.902,\"xanchor\":\"center\",\"xref\":\"paper\",\"y\":1.0,\"yanchor\":\"bottom\",\"yref\":\"paper\"}],\"showlegend\":false,\"title\":{\"text\":\"Contributions are on the same scale as MedHouseVal,<br>and centered vertically on the train set.\"}},                        {\"responsive\": true}                    ).then(function(){\n                            \nvar gd = document.getElementById('f0db41be-82e4-428a-a850-5b12b3529b28');\nvar x = new MutationObserver(function (mutations, observer) {{\n        var display = window.getComputedStyle(gd).display;\n        if (!display || display === 'none') {{\n            console.log([gd, 'removed!']);\n            Plotly.purge(gd);\n            observer.disconnect();\n        }}\n}});\n\n// Listen for the removal of the full notebook cells\nvar notebookContainer = gd.closest('#notebook-container');\nif (notebookContainer) {{\n    x.observe(notebookContainer, {childList: true});\n}}\n\n// Listen for the clearing of the current output cell\nvar outputEl = gd.closest('.output');\nif (outputEl) {{\n    x.observe(outputEl, {childList: true});\n}}\n\n                        })                };                });            </script>        </div>"
     },
     "metadata": {},
     "output_type": "display_data"
    },
    {
     "data": {
      "application/vnd.plotly.v1+json": {
       "data": [
        {
         "hovertemplate": "x=%{x}<br>y=%{y}<extra></extra>",
         "legendgroup": "",
         "line": {
          "color": "#636efa",
          "dash": "solid",
          "shape": "hv"
         },
         "marker": {
          "symbol": "circle"
         },
         "mode": "lines",
         "name": "",
         "orientation": "v",
         "showlegend": false,
         "x": [
          0.572257399559021,
          0.572257399559021,
          0.8335878849029541,
          0.8676896691322327,
          0.885543942451477,
          0.8966090083122253,
          0.9053609371185303,
          0.9126244783401489,
          0.9184338450431824,
          0.9232505559921265,
          0.9275639653205872,
          0.9313927888870239,
          0.9347517490386963,
          0.9377820491790771,
          0.9407335519790649,
          0.9433755278587341,
          0.9458237886428833,
          0.95075523853302,
          0.9528881907463074,
          0.9549869894981384,
          0.956879198551178,
          0.9586673974990845,
          0.9604190587997437,
          0.9620495438575745,
          0.9637948870658875,
          0.9656962752342224,
          0.9672415852546692,
          0.9684990048408508,
          0.9699150323867798,
          0.9713268280029297,
          0.9726691842079163,
          0.974024772644043,
          0.9753373265266418,
          0.9766156077384949,
          0.9779728651046753,
          0.9792187213897705,
          0.9804213643074036,
          0.9814969897270203,
          0.9825113415718079,
          0.9837409853935242,
          0.9849144220352173,
          0.985970139503479,
          0.9869540333747864,
          0.9878599643707275,
          0.9887627959251404,
          0.9897435307502747,
          0.9908071160316467,
          0.9918529391288757,
          0.9927318692207336,
          0.9936137199401855,
          0.9945000410079956,
          0.9954142570495605,
          0.9964361786842346,
          0.9974042773246765,
          0.9989398717880249,
          1.0009398460388184,
          1.0023118257522583,
          1.0031020641326904,
          1.0037962198257446,
          1.0045123100280762,
          1.0053478479385376,
          1.0061622858047485,
          1.0069091320037842,
          1.0076043605804443,
          1.0082662105560303,
          1.0090091228485107,
          1.0096924304962158,
          1.010312795639038,
          1.0109946727752686,
          1.0116921663284302,
          1.0123822689056396,
          1.0130963325500488,
          1.0137964487075806,
          1.0144840478897095,
          1.0151937007904053,
          1.0159451961517334,
          1.0167012214660645,
          1.0173957347869873,
          1.018123745918274,
          1.018882155418396,
          1.019606590270996,
          1.020300269126892,
          1.0208710432052612,
          1.021522879600525,
          1.0222846269607544,
          1.0230001211166382,
          1.0237351655960083,
          1.0244097709655762,
          1.0250540971755981,
          1.025730848312378,
          1.0263780355453491,
          1.026990294456482,
          1.0276663303375244,
          1.0284072160720825,
          1.0290943384170532,
          1.0297133922576904,
          1.030410885810852,
          1.031110167503357,
          1.031768560409546,
          1.0324550867080688,
          1.0331839323043823,
          1.0338189601898193,
          1.0343409776687622,
          1.0349595546722412,
          1.0356327295303345,
          1.036264419555664,
          1.036797285079956,
          1.0373733043670654,
          1.0379998683929443,
          1.0385546684265137,
          1.0391066074371338,
          1.0397520065307617,
          1.0404632091522217,
          1.0411418676376343,
          1.0417615175247192,
          1.042360544204712,
          1.0430113077163696,
          1.0437374114990234,
          1.0444586277008057,
          1.0451098680496216,
          1.045719861984253,
          1.04635751247406,
          1.0470057725906372,
          1.047654628753662,
          1.048338532447815,
          1.049017310142517,
          1.0496753454208374,
          1.0503716468811035,
          1.0510672330856323,
          1.0517619848251343,
          1.0523821115493774,
          1.052947998046875,
          1.053554892539978,
          1.0541372299194336,
          1.05483078956604,
          1.0555020570755005,
          1.0561877489089966,
          1.0569415092468262,
          1.0575902462005615,
          1.0582464933395386,
          1.0589195489883423,
          1.0595531463623047,
          1.060134768486023,
          1.060746669769287,
          1.0614012479782104,
          1.0621099472045898,
          1.0628937482833862,
          1.06362783908844,
          1.0642422437667847,
          1.0649702548980713,
          1.0658172369003296,
          1.066624641418457,
          1.0674577951431274,
          1.0682296752929688,
          1.068908929824829,
          1.0696173906326294,
          1.0704176425933838,
          1.0712664127349854,
          1.0720545053482056,
          1.0727912187576294,
          1.0735740661621094,
          1.0744271278381348,
          1.0752962827682495,
          1.0760847330093384,
          1.07687246799469,
          1.0777403116226196,
          1.0784940719604492,
          1.0792045593261719,
          1.0800126791000366,
          1.080855131149292,
          1.0817604064941406,
          1.0826961994171143,
          1.0835574865341187,
          1.084397792816162,
          1.0853924751281738,
          1.0863984823226929,
          1.087257981300354,
          1.0881088972091675,
          1.0891038179397583,
          1.0901076793670654,
          1.0909805297851562,
          1.0918703079223633,
          1.0928871631622314,
          1.0939000844955444,
          1.0948063135147095,
          1.09574556350708,
          1.0968126058578491,
          1.097912073135376,
          1.0990713834762573,
          1.100193738937378,
          1.1012665033340454,
          1.1024055480957031,
          1.1036567687988281,
          1.1050760746002197,
          1.1062747240066528,
          1.1072171926498413,
          1.1082830429077148,
          1.1095319986343384,
          1.1109164953231812,
          1.112255573272705,
          1.1135985851287842,
          1.1149725914001465,
          1.116370439529419,
          1.1178885698318481,
          1.1195919513702393,
          1.1213186979293823,
          1.1230876445770264,
          1.1247758865356445,
          1.1264634132385254,
          1.1282354593276978,
          1.1299777030944824,
          1.1319271326065063,
          1.1338154077529907,
          1.135806918144226,
          1.1377100944519043,
          1.1394442319869995,
          1.1416198015213013,
          1.1441633701324463,
          1.1465444564819336,
          1.1488046646118164,
          1.1513538360595703,
          1.1540148258209229,
          1.1569554805755615,
          1.1603807210922241,
          1.1640409231185913,
          1.1674649715423584,
          1.1704095602035522,
          1.1735830307006836,
          1.1779040098190308,
          1.1830344200134277,
          1.1876294612884521,
          1.1924537420272827,
          1.1980167627334595,
          1.2042241096496582,
          1.2109832763671875,
          1.2186676263809204,
          1.2279541492462158,
          1.2379778623580933,
          1.2495089769363403,
          1.2620656490325928,
          1.2780121564865112,
          1.2977533340454102,
          1.320206642150879,
          1.3482824563980103,
          1.387615442276001,
          1.4338103532791138,
          1.4871516227722168,
          1.5594027042388916,
          1.6741828918457031,
          1.8738149404525757,
          2.2003612518310547,
          3.000363826751709,
          18.833335876464844
         ],
         "xaxis": "x",
         "y": [
          -0.34864377938270824,
          -0.3486437793827079,
          -0.15214995833478046,
          -0.21151108098247023,
          -0.08037088470870764,
          -0.12372569889205055,
          -0.08460436847653564,
          -0.08783363148545853,
          -0.0640484783108161,
          -0.056260277503799756,
          -0.06967603107198275,
          -0.11055772613203312,
          -0.11440619904402233,
          -0.0896717539829728,
          -0.12893416648317624,
          -0.08461294135121222,
          -0.08148942880878553,
          -0.0952521750293351,
          -0.07087218163606747,
          -0.08873832930571107,
          -0.08486760548972502,
          -0.08315551186168532,
          -0.08303672026866081,
          -0.09658074576651632,
          -0.09491877808271115,
          -0.08833441130767104,
          -0.08044648061285954,
          -0.08197244866001836,
          -0.07596984204365376,
          -0.06070291209379173,
          -0.05888123073561055,
          -0.07155161384569501,
          -0.07407855578380625,
          -0.0497486325958622,
          -0.05988664688696105,
          -0.06370060979108406,
          -0.06105053006616227,
          -0.06427502222181458,
          -0.06916927328259478,
          -0.06377586991481544,
          -0.06051369820517672,
          -0.048895712867497824,
          -0.04969421452754991,
          -0.04923500527470764,
          -0.05139290934697629,
          -0.051822187132969884,
          -0.0566433101259171,
          -0.042964493478427894,
          -0.03840461638836079,
          -0.03743884349565718,
          -0.034231123745705784,
          -0.02559318993148569,
          -0.035545032745237945,
          -0.03384161961040461,
          -0.04092785638695575,
          -0.029818890241259992,
          -0.021961460761996954,
          -0.01019599906641718,
          -0.02234250154800167,
          -0.02206676452608557,
          -0.028011400551784346,
          -0.02633258419745841,
          -0.021215535294298912,
          -0.021215535294298912,
          -0.022268756026634154,
          -0.020824551181511372,
          -0.021314649966468525,
          -0.022003825820581337,
          -0.015737176972660555,
          -0.017883734650964538,
          -0.025189417972067574,
          -0.010517770886637301,
          0.008450558522714596,
          -0.004375381348332615,
          -0.009551581066585511,
          -0.01987178672913398,
          -0.02262208674705424,
          -0.019475992085100244,
          -0.023225319843947066,
          -0.020269276846731316,
          -0.010155118378803136,
          -0.038985944653143784,
          -0.03997732974121104,
          -0.03890982680772909,
          -0.03535100749195057,
          -0.0363898506167703,
          -0.0363898506167703,
          -0.031128748962309716,
          -0.028051628262287867,
          -0.025950655448469216,
          -0.028642726061031243,
          -0.02897375867531883,
          -0.032507082624855764,
          -0.024565513006889292,
          -0.03102408515361863,
          -0.02782811601363886,
          -0.01433059033655903,
          -0.0011123786528593835,
          -0.005234782309827901,
          -0.0032148112343260643,
          -0.02297526258027007,
          -0.02652908475501086,
          -0.011695164615620866,
          -0.012656888453708836,
          -0.01398912524421477,
          -0.013613359429056898,
          -0.01273196366547467,
          -0.013749068295850748,
          -0.011845664681067002,
          -0.01255830864303083,
          -0.015623896257557956,
          -0.02559087955341038,
          -0.03206491312014365,
          -0.033311279363279406,
          0.006635447954722479,
          0.008538569676142577,
          0.01115485602860477,
          0.01637958548976056,
          0.006999945886161018,
          0.03062782973326378,
          0.026511337491904714,
          0.011219776829786096,
          0.007866271039320779,
          0.016495865487901287,
          0.018655038669944245,
          0.010710358470123393,
          0.016799036494729247,
          0.02084400189577308,
          0.017155861277219735,
          0.013970615412576133,
          0.014995566803627397,
          0.014162523836721385,
          0.023555863896988348,
          0.024448855640060697,
          0.02513837087967058,
          0.021272060256339084,
          0.011024726877361573,
          0.014654706847919525,
          0.003260544039792689,
          -0.016640848207212025,
          -0.023460486789258828,
          0.016158684611340554,
          0.02521246203255692,
          0.025317440709804767,
          -3.91179350072126E-4,
          0.03207695310030993,
          0.021479020343655023,
          0.051911109727397,
          0.06256148951515045,
          0.06504488428014478,
          0.06504488428014478,
          0.023873632169053652,
          0.01675564762187861,
          0.029270016712115446,
          0.033527596315830965,
          0.03760415883385395,
          0.03760415883385395,
          0.034223750184591596,
          0.029462196238267867,
          0.03687753373701741,
          0.021782152720989642,
          0.03510702890564141,
          0.03226010774238425,
          0.0270274340104149,
          0.01585327544272229,
          0.017011577432697517,
          0.013783364897692654,
          0.020772367403096813,
          0.022683772098516408,
          0.016901443204354993,
          0.02150303381946954,
          0.06258183596786676,
          0.05966222039698174,
          0.057650214532327965,
          0.05795940895235227,
          0.045577588191677065,
          0.050610843549408736,
          0.05414265866493079,
          0.06245516044566801,
          0.052671697936652426,
          0.05954723174708522,
          0.05812290116135131,
          0.05812290116135131,
          0.05812290116135131,
          0.059035698232434944,
          0.05921016757788822,
          0.05677867384298667,
          0.0614136439172963,
          0.058725979187404895,
          0.03680642854196248,
          0.02399314312616862,
          0.038104950417879285,
          0.035789676311862584,
          0.035789676311862584,
          0.024088285830223564,
          0.02042459837894158,
          0.02359608731215447,
          0.02767713234750689,
          0.024968002243657188,
          0.020937959335630592,
          0.024881851551165374,
          0.045008761229880644,
          0.03466544389438336,
          0.035784534586340885,
          0.03054021187231741,
          0.02860524354590953,
          0.0248735013894252,
          0.02566038644935855,
          0.010967728979567942,
          0.024973061394492367,
          0.028959175540227484,
          0.052166764983161334,
          0.06687713309154518,
          0.0752996991899767,
          0.06956690447167793,
          0.0703692178213878,
          0.057272375179545754,
          0.05915680705448352,
          0.06061851464387391,
          0.057719511726449624,
          0.05574915652368623,
          0.05079262404312407,
          0.07404664862405332,
          0.0633005410720871,
          0.05267292795580644,
          0.05796111480434646,
          0.07172675939969718,
          0.08182708548363361,
          0.08435131141455066,
          0.08551831614580697,
          0.08268656617786946,
          0.12152718134478577,
          0.1343082243253648,
          0.14223237400989353,
          0.19028929880147533,
          0.05128332966773579,
          0.009297941755831431,
          0.03502432488335635,
          0.058680201496096776,
          0.11131291209650147,
          0.10892464034364086,
          0.1869693868486327,
          0.050358350572191166,
          0.09023125924249835,
          0.16837232424156537,
          0.11696061626960769,
          0.16480992911985134,
          0.11482861970598096,
          0.012646861829597124,
          0.07175290320315507,
          -0.06715248885591696,
          -0.04873092278793777,
          -0.08546299096103868
         ],
         "yaxis": "y",
         "type": "scatter"
        },
        {
         "name": "AveBedrms distribution",
         "x": [
          0.572257399559021,
          0.572257399559021,
          0.8335878849029541,
          0.8676896691322327,
          0.885543942451477,
          0.8966090083122253,
          0.9053609371185303,
          0.9126244783401489,
          0.9184338450431824,
          0.9232505559921265,
          0.9275639653205872,
          0.9313927888870239,
          0.9347517490386963,
          0.9377820491790771,
          0.9407335519790649,
          0.9433755278587341,
          0.9458237886428833,
          0.95075523853302,
          0.9528881907463074,
          0.9549869894981384,
          0.956879198551178,
          0.9586673974990845,
          0.9604190587997437,
          0.9620495438575745,
          0.9637948870658875,
          0.9656962752342224,
          0.9672415852546692,
          0.9684990048408508,
          0.9699150323867798,
          0.9713268280029297,
          0.9726691842079163,
          0.974024772644043,
          0.9753373265266418,
          0.9766156077384949,
          0.9779728651046753,
          0.9792187213897705,
          0.9804213643074036,
          0.9814969897270203,
          0.9825113415718079,
          0.9837409853935242,
          0.9849144220352173,
          0.985970139503479,
          0.9869540333747864,
          0.9878599643707275,
          0.9887627959251404,
          0.9897435307502747,
          0.9908071160316467,
          0.9918529391288757,
          0.9927318692207336,
          0.9936137199401855,
          0.9945000410079956,
          0.9954142570495605,
          0.9964361786842346,
          0.9974042773246765,
          0.9989398717880249,
          1.0009398460388184,
          1.0023118257522583,
          1.0031020641326904,
          1.0037962198257446,
          1.0045123100280762,
          1.0053478479385376,
          1.0061622858047485,
          1.0069091320037842,
          1.0076043605804443,
          1.0082662105560303,
          1.0090091228485107,
          1.0096924304962158,
          1.010312795639038,
          1.0109946727752686,
          1.0116921663284302,
          1.0123822689056396,
          1.0130963325500488,
          1.0137964487075806,
          1.0144840478897095,
          1.0151937007904053,
          1.0159451961517334,
          1.0167012214660645,
          1.0173957347869873,
          1.018123745918274,
          1.018882155418396,
          1.019606590270996,
          1.020300269126892,
          1.0208710432052612,
          1.021522879600525,
          1.0222846269607544,
          1.0230001211166382,
          1.0237351655960083,
          1.0244097709655762,
          1.0250540971755981,
          1.025730848312378,
          1.0263780355453491,
          1.026990294456482,
          1.0276663303375244,
          1.0284072160720825,
          1.0290943384170532,
          1.0297133922576904,
          1.030410885810852,
          1.031110167503357,
          1.031768560409546,
          1.0324550867080688,
          1.0331839323043823,
          1.0338189601898193,
          1.0343409776687622,
          1.0349595546722412,
          1.0356327295303345,
          1.036264419555664,
          1.036797285079956,
          1.0373733043670654,
          1.0379998683929443,
          1.0385546684265137,
          1.0391066074371338,
          1.0397520065307617,
          1.0404632091522217,
          1.0411418676376343,
          1.0417615175247192,
          1.042360544204712,
          1.0430113077163696,
          1.0437374114990234,
          1.0444586277008057,
          1.0451098680496216,
          1.045719861984253,
          1.04635751247406,
          1.0470057725906372,
          1.047654628753662,
          1.048338532447815,
          1.049017310142517,
          1.0496753454208374,
          1.0503716468811035,
          1.0510672330856323,
          1.0517619848251343,
          1.0523821115493774,
          1.052947998046875,
          1.053554892539978,
          1.0541372299194336,
          1.05483078956604,
          1.0555020570755005,
          1.0561877489089966,
          1.0569415092468262,
          1.0575902462005615,
          1.0582464933395386,
          1.0589195489883423,
          1.0595531463623047,
          1.060134768486023,
          1.060746669769287,
          1.0614012479782104,
          1.0621099472045898,
          1.0628937482833862,
          1.06362783908844,
          1.0642422437667847,
          1.0649702548980713,
          1.0658172369003296,
          1.066624641418457,
          1.0674577951431274,
          1.0682296752929688,
          1.068908929824829,
          1.0696173906326294,
          1.0704176425933838,
          1.0712664127349854,
          1.0720545053482056,
          1.0727912187576294,
          1.0735740661621094,
          1.0744271278381348,
          1.0752962827682495,
          1.0760847330093384,
          1.07687246799469,
          1.0777403116226196,
          1.0784940719604492,
          1.0792045593261719,
          1.0800126791000366,
          1.080855131149292,
          1.0817604064941406,
          1.0826961994171143,
          1.0835574865341187,
          1.084397792816162,
          1.0853924751281738,
          1.0863984823226929,
          1.087257981300354,
          1.0881088972091675,
          1.0891038179397583,
          1.0901076793670654,
          1.0909805297851562,
          1.0918703079223633,
          1.0928871631622314,
          1.0939000844955444,
          1.0948063135147095,
          1.09574556350708,
          1.0968126058578491,
          1.097912073135376,
          1.0990713834762573,
          1.100193738937378,
          1.1012665033340454,
          1.1024055480957031,
          1.1036567687988281,
          1.1050760746002197,
          1.1062747240066528,
          1.1072171926498413,
          1.1082830429077148,
          1.1095319986343384,
          1.1109164953231812,
          1.112255573272705,
          1.1135985851287842,
          1.1149725914001465,
          1.116370439529419,
          1.1178885698318481,
          1.1195919513702393,
          1.1213186979293823,
          1.1230876445770264,
          1.1247758865356445,
          1.1264634132385254,
          1.1282354593276978,
          1.1299777030944824,
          1.1319271326065063,
          1.1338154077529907,
          1.135806918144226,
          1.1377100944519043,
          1.1394442319869995,
          1.1416198015213013,
          1.1441633701324463,
          1.1465444564819336,
          1.1488046646118164,
          1.1513538360595703,
          1.1540148258209229,
          1.1569554805755615,
          1.1603807210922241,
          1.1640409231185913,
          1.1674649715423584,
          1.1704095602035522,
          1.1735830307006836,
          1.1779040098190308,
          1.1830344200134277,
          1.1876294612884521,
          1.1924537420272827,
          1.1980167627334595,
          1.2042241096496582,
          1.2109832763671875,
          1.2186676263809204,
          1.2279541492462158,
          1.2379778623580933,
          1.2495089769363403,
          1.2620656490325928,
          1.2780121564865112,
          1.2977533340454102,
          1.320206642150879,
          1.3482824563980103,
          1.387615442276001,
          1.4338103532791138,
          1.4871516227722168,
          1.5594027042388916,
          1.6741828918457031,
          1.8738149404525757,
          2.2003612518310547,
          3.000363826751709,
          18.833335876464844
         ],
         "type": "histogram",
         "xaxis": "x3",
         "yaxis": "y3"
        },
        {
         "name": "",
         "y": [
          -0.34864377938270824,
          -0.3486437793827079,
          -0.15214995833478046,
          -0.21151108098247023,
          -0.08037088470870764,
          -0.12372569889205055,
          -0.08460436847653564,
          -0.08783363148545853,
          -0.0640484783108161,
          -0.056260277503799756,
          -0.06967603107198275,
          -0.11055772613203312,
          -0.11440619904402233,
          -0.0896717539829728,
          -0.12893416648317624,
          -0.08461294135121222,
          -0.08148942880878553,
          -0.0952521750293351,
          -0.07087218163606747,
          -0.08873832930571107,
          -0.08486760548972502,
          -0.08315551186168532,
          -0.08303672026866081,
          -0.09658074576651632,
          -0.09491877808271115,
          -0.08833441130767104,
          -0.08044648061285954,
          -0.08197244866001836,
          -0.07596984204365376,
          -0.06070291209379173,
          -0.05888123073561055,
          -0.07155161384569501,
          -0.07407855578380625,
          -0.0497486325958622,
          -0.05988664688696105,
          -0.06370060979108406,
          -0.06105053006616227,
          -0.06427502222181458,
          -0.06916927328259478,
          -0.06377586991481544,
          -0.06051369820517672,
          -0.048895712867497824,
          -0.04969421452754991,
          -0.04923500527470764,
          -0.05139290934697629,
          -0.051822187132969884,
          -0.0566433101259171,
          -0.042964493478427894,
          -0.03840461638836079,
          -0.03743884349565718,
          -0.034231123745705784,
          -0.02559318993148569,
          -0.035545032745237945,
          -0.03384161961040461,
          -0.04092785638695575,
          -0.029818890241259992,
          -0.021961460761996954,
          -0.01019599906641718,
          -0.02234250154800167,
          -0.02206676452608557,
          -0.028011400551784346,
          -0.02633258419745841,
          -0.021215535294298912,
          -0.021215535294298912,
          -0.022268756026634154,
          -0.020824551181511372,
          -0.021314649966468525,
          -0.022003825820581337,
          -0.015737176972660555,
          -0.017883734650964538,
          -0.025189417972067574,
          -0.010517770886637301,
          0.008450558522714596,
          -0.004375381348332615,
          -0.009551581066585511,
          -0.01987178672913398,
          -0.02262208674705424,
          -0.019475992085100244,
          -0.023225319843947066,
          -0.020269276846731316,
          -0.010155118378803136,
          -0.038985944653143784,
          -0.03997732974121104,
          -0.03890982680772909,
          -0.03535100749195057,
          -0.0363898506167703,
          -0.0363898506167703,
          -0.031128748962309716,
          -0.028051628262287867,
          -0.025950655448469216,
          -0.028642726061031243,
          -0.02897375867531883,
          -0.032507082624855764,
          -0.024565513006889292,
          -0.03102408515361863,
          -0.02782811601363886,
          -0.01433059033655903,
          -0.0011123786528593835,
          -0.005234782309827901,
          -0.0032148112343260643,
          -0.02297526258027007,
          -0.02652908475501086,
          -0.011695164615620866,
          -0.012656888453708836,
          -0.01398912524421477,
          -0.013613359429056898,
          -0.01273196366547467,
          -0.013749068295850748,
          -0.011845664681067002,
          -0.01255830864303083,
          -0.015623896257557956,
          -0.02559087955341038,
          -0.03206491312014365,
          -0.033311279363279406,
          0.006635447954722479,
          0.008538569676142577,
          0.01115485602860477,
          0.01637958548976056,
          0.006999945886161018,
          0.03062782973326378,
          0.026511337491904714,
          0.011219776829786096,
          0.007866271039320779,
          0.016495865487901287,
          0.018655038669944245,
          0.010710358470123393,
          0.016799036494729247,
          0.02084400189577308,
          0.017155861277219735,
          0.013970615412576133,
          0.014995566803627397,
          0.014162523836721385,
          0.023555863896988348,
          0.024448855640060697,
          0.02513837087967058,
          0.021272060256339084,
          0.011024726877361573,
          0.014654706847919525,
          0.003260544039792689,
          -0.016640848207212025,
          -0.023460486789258828,
          0.016158684611340554,
          0.02521246203255692,
          0.025317440709804767,
          -3.91179350072126E-4,
          0.03207695310030993,
          0.021479020343655023,
          0.051911109727397,
          0.06256148951515045,
          0.06504488428014478,
          0.06504488428014478,
          0.023873632169053652,
          0.01675564762187861,
          0.029270016712115446,
          0.033527596315830965,
          0.03760415883385395,
          0.03760415883385395,
          0.034223750184591596,
          0.029462196238267867,
          0.03687753373701741,
          0.021782152720989642,
          0.03510702890564141,
          0.03226010774238425,
          0.0270274340104149,
          0.01585327544272229,
          0.017011577432697517,
          0.013783364897692654,
          0.020772367403096813,
          0.022683772098516408,
          0.016901443204354993,
          0.02150303381946954,
          0.06258183596786676,
          0.05966222039698174,
          0.057650214532327965,
          0.05795940895235227,
          0.045577588191677065,
          0.050610843549408736,
          0.05414265866493079,
          0.06245516044566801,
          0.052671697936652426,
          0.05954723174708522,
          0.05812290116135131,
          0.05812290116135131,
          0.05812290116135131,
          0.059035698232434944,
          0.05921016757788822,
          0.05677867384298667,
          0.0614136439172963,
          0.058725979187404895,
          0.03680642854196248,
          0.02399314312616862,
          0.038104950417879285,
          0.035789676311862584,
          0.035789676311862584,
          0.024088285830223564,
          0.02042459837894158,
          0.02359608731215447,
          0.02767713234750689,
          0.024968002243657188,
          0.020937959335630592,
          0.024881851551165374,
          0.045008761229880644,
          0.03466544389438336,
          0.035784534586340885,
          0.03054021187231741,
          0.02860524354590953,
          0.0248735013894252,
          0.02566038644935855,
          0.010967728979567942,
          0.024973061394492367,
          0.028959175540227484,
          0.052166764983161334,
          0.06687713309154518,
          0.0752996991899767,
          0.06956690447167793,
          0.0703692178213878,
          0.057272375179545754,
          0.05915680705448352,
          0.06061851464387391,
          0.057719511726449624,
          0.05574915652368623,
          0.05079262404312407,
          0.07404664862405332,
          0.0633005410720871,
          0.05267292795580644,
          0.05796111480434646,
          0.07172675939969718,
          0.08182708548363361,
          0.08435131141455066,
          0.08551831614580697,
          0.08268656617786946,
          0.12152718134478577,
          0.1343082243253648,
          0.14223237400989353,
          0.19028929880147533,
          0.05128332966773579,
          0.009297941755831431,
          0.03502432488335635,
          0.058680201496096776,
          0.11131291209650147,
          0.10892464034364086,
          0.1869693868486327,
          0.050358350572191166,
          0.09023125924249835,
          0.16837232424156537,
          0.11696061626960769,
          0.16480992911985134,
          0.11482861970598096,
          0.012646861829597124,
          0.07175290320315507,
          -0.06715248885591696,
          -0.04873092278793777,
          -0.08546299096103868
         ],
         "type": "box",
         "xaxis": "x2",
         "yaxis": "y2"
        }
       ],
       "layout": {
        "template": {
         "data": {
          "histogram2dcontour": [
           {
            "type": "histogram2dcontour",
            "colorbar": {
             "outlinewidth": 0,
             "ticks": ""
            },
            "colorscale": [
             [
              0.0,
              "#0d0887"
             ],
             [
              0.1111111111111111,
              "#46039f"
             ],
             [
              0.2222222222222222,
              "#7201a8"
             ],
             [
              0.3333333333333333,
              "#9c179e"
             ],
             [
              0.4444444444444444,
              "#bd3786"
             ],
             [
              0.5555555555555556,
              "#d8576b"
             ],
             [
              0.6666666666666666,
              "#ed7953"
             ],
             [
              0.7777777777777778,
              "#fb9f3a"
             ],
             [
              0.8888888888888888,
              "#fdca26"
             ],
             [
              1.0,
              "#f0f921"
             ]
            ]
           }
          ],
          "choropleth": [
           {
            "type": "choropleth",
            "colorbar": {
             "outlinewidth": 0,
             "ticks": ""
            }
           }
          ],
          "histogram2d": [
           {
            "type": "histogram2d",
            "colorbar": {
             "outlinewidth": 0,
             "ticks": ""
            },
            "colorscale": [
             [
              0.0,
              "#0d0887"
             ],
             [
              0.1111111111111111,
              "#46039f"
             ],
             [
              0.2222222222222222,
              "#7201a8"
             ],
             [
              0.3333333333333333,
              "#9c179e"
             ],
             [
              0.4444444444444444,
              "#bd3786"
             ],
             [
              0.5555555555555556,
              "#d8576b"
             ],
             [
              0.6666666666666666,
              "#ed7953"
             ],
             [
              0.7777777777777778,
              "#fb9f3a"
             ],
             [
              0.8888888888888888,
              "#fdca26"
             ],
             [
              1.0,
              "#f0f921"
             ]
            ]
           }
          ],
          "heatmap": [
           {
            "type": "heatmap",
            "colorbar": {
             "outlinewidth": 0,
             "ticks": ""
            },
            "colorscale": [
             [
              0.0,
              "#0d0887"
             ],
             [
              0.1111111111111111,
              "#46039f"
             ],
             [
              0.2222222222222222,
              "#7201a8"
             ],
             [
              0.3333333333333333,
              "#9c179e"
             ],
             [
              0.4444444444444444,
              "#bd3786"
             ],
             [
              0.5555555555555556,
              "#d8576b"
             ],
             [
              0.6666666666666666,
              "#ed7953"
             ],
             [
              0.7777777777777778,
              "#fb9f3a"
             ],
             [
              0.8888888888888888,
              "#fdca26"
             ],
             [
              1.0,
              "#f0f921"
             ]
            ]
           }
          ],
          "heatmapgl": [
           {
            "type": "heatmapgl",
            "colorbar": {
             "outlinewidth": 0,
             "ticks": ""
            },
            "colorscale": [
             [
              0.0,
              "#0d0887"
             ],
             [
              0.1111111111111111,
              "#46039f"
             ],
             [
              0.2222222222222222,
              "#7201a8"
             ],
             [
              0.3333333333333333,
              "#9c179e"
             ],
             [
              0.4444444444444444,
              "#bd3786"
             ],
             [
              0.5555555555555556,
              "#d8576b"
             ],
             [
              0.6666666666666666,
              "#ed7953"
             ],
             [
              0.7777777777777778,
              "#fb9f3a"
             ],
             [
              0.8888888888888888,
              "#fdca26"
             ],
             [
              1.0,
              "#f0f921"
             ]
            ]
           }
          ],
          "contourcarpet": [
           {
            "type": "contourcarpet",
            "colorbar": {
             "outlinewidth": 0,
             "ticks": ""
            }
           }
          ],
          "contour": [
           {
            "type": "contour",
            "colorbar": {
             "outlinewidth": 0,
             "ticks": ""
            },
            "colorscale": [
             [
              0.0,
              "#0d0887"
             ],
             [
              0.1111111111111111,
              "#46039f"
             ],
             [
              0.2222222222222222,
              "#7201a8"
             ],
             [
              0.3333333333333333,
              "#9c179e"
             ],
             [
              0.4444444444444444,
              "#bd3786"
             ],
             [
              0.5555555555555556,
              "#d8576b"
             ],
             [
              0.6666666666666666,
              "#ed7953"
             ],
             [
              0.7777777777777778,
              "#fb9f3a"
             ],
             [
              0.8888888888888888,
              "#fdca26"
             ],
             [
              1.0,
              "#f0f921"
             ]
            ]
           }
          ],
          "surface": [
           {
            "type": "surface",
            "colorbar": {
             "outlinewidth": 0,
             "ticks": ""
            },
            "colorscale": [
             [
              0.0,
              "#0d0887"
             ],
             [
              0.1111111111111111,
              "#46039f"
             ],
             [
              0.2222222222222222,
              "#7201a8"
             ],
             [
              0.3333333333333333,
              "#9c179e"
             ],
             [
              0.4444444444444444,
              "#bd3786"
             ],
             [
              0.5555555555555556,
              "#d8576b"
             ],
             [
              0.6666666666666666,
              "#ed7953"
             ],
             [
              0.7777777777777778,
              "#fb9f3a"
             ],
             [
              0.8888888888888888,
              "#fdca26"
             ],
             [
              1.0,
              "#f0f921"
             ]
            ]
           }
          ],
          "mesh3d": [
           {
            "type": "mesh3d",
            "colorbar": {
             "outlinewidth": 0,
             "ticks": ""
            }
           }
          ],
          "scatter": [
           {
            "fillpattern": {
             "fillmode": "overlay",
             "size": 10,
             "solidity": 0.2
            },
            "type": "scatter"
           }
          ],
          "parcoords": [
           {
            "type": "parcoords",
            "line": {
             "colorbar": {
              "outlinewidth": 0,
              "ticks": ""
             }
            }
           }
          ],
          "scatterpolargl": [
           {
            "type": "scatterpolargl",
            "marker": {
             "colorbar": {
              "outlinewidth": 0,
              "ticks": ""
             }
            }
           }
          ],
          "bar": [
           {
            "error_x": {
             "color": "#2a3f5f"
            },
            "error_y": {
             "color": "#2a3f5f"
            },
            "marker": {
             "line": {
              "color": "#E5ECF6",
              "width": 0.5
             },
             "pattern": {
              "fillmode": "overlay",
              "size": 10,
              "solidity": 0.2
             }
            },
            "type": "bar"
           }
          ],
          "scattergeo": [
           {
            "type": "scattergeo",
            "marker": {
             "colorbar": {
              "outlinewidth": 0,
              "ticks": ""
             }
            }
           }
          ],
          "scatterpolar": [
           {
            "type": "scatterpolar",
            "marker": {
             "colorbar": {
              "outlinewidth": 0,
              "ticks": ""
             }
            }
           }
          ],
          "histogram": [
           {
            "marker": {
             "pattern": {
              "fillmode": "overlay",
              "size": 10,
              "solidity": 0.2
             }
            },
            "type": "histogram"
           }
          ],
          "scattergl": [
           {
            "type": "scattergl",
            "marker": {
             "colorbar": {
              "outlinewidth": 0,
              "ticks": ""
             }
            }
           }
          ],
          "scatter3d": [
           {
            "type": "scatter3d",
            "line": {
             "colorbar": {
              "outlinewidth": 0,
              "ticks": ""
             }
            },
            "marker": {
             "colorbar": {
              "outlinewidth": 0,
              "ticks": ""
             }
            }
           }
          ],
          "scattermapbox": [
           {
            "type": "scattermapbox",
            "marker": {
             "colorbar": {
              "outlinewidth": 0,
              "ticks": ""
             }
            }
           }
          ],
          "scatterternary": [
           {
            "type": "scatterternary",
            "marker": {
             "colorbar": {
              "outlinewidth": 0,
              "ticks": ""
             }
            }
           }
          ],
          "scattercarpet": [
           {
            "type": "scattercarpet",
            "marker": {
             "colorbar": {
              "outlinewidth": 0,
              "ticks": ""
             }
            }
           }
          ],
          "carpet": [
           {
            "aaxis": {
             "endlinecolor": "#2a3f5f",
             "gridcolor": "white",
             "linecolor": "white",
             "minorgridcolor": "white",
             "startlinecolor": "#2a3f5f"
            },
            "baxis": {
             "endlinecolor": "#2a3f5f",
             "gridcolor": "white",
             "linecolor": "white",
             "minorgridcolor": "white",
             "startlinecolor": "#2a3f5f"
            },
            "type": "carpet"
           }
          ],
          "table": [
           {
            "cells": {
             "fill": {
              "color": "#EBF0F8"
             },
             "line": {
              "color": "white"
             }
            },
            "header": {
             "fill": {
              "color": "#C8D4E3"
             },
             "line": {
              "color": "white"
             }
            },
            "type": "table"
           }
          ],
          "barpolar": [
           {
            "marker": {
             "line": {
              "color": "#E5ECF6",
              "width": 0.5
             },
             "pattern": {
              "fillmode": "overlay",
              "size": 10,
              "solidity": 0.2
             }
            },
            "type": "barpolar"
           }
          ],
          "pie": [
           {
            "automargin": true,
            "type": "pie"
           }
          ]
         },
         "layout": {
          "autotypenumbers": "strict",
          "colorway": [
           "#636efa",
           "#EF553B",
           "#00cc96",
           "#ab63fa",
           "#FFA15A",
           "#19d3f3",
           "#FF6692",
           "#B6E880",
           "#FF97FF",
           "#FECB52"
          ],
          "font": {
           "color": "#2a3f5f"
          },
          "hovermode": "closest",
          "hoverlabel": {
           "align": "left"
          },
          "paper_bgcolor": "white",
          "plot_bgcolor": "#E5ECF6",
          "polar": {
           "bgcolor": "#E5ECF6",
           "angularaxis": {
            "gridcolor": "white",
            "linecolor": "white",
            "ticks": ""
           },
           "radialaxis": {
            "gridcolor": "white",
            "linecolor": "white",
            "ticks": ""
           }
          },
          "ternary": {
           "bgcolor": "#E5ECF6",
           "aaxis": {
            "gridcolor": "white",
            "linecolor": "white",
            "ticks": ""
           },
           "baxis": {
            "gridcolor": "white",
            "linecolor": "white",
            "ticks": ""
           },
           "caxis": {
            "gridcolor": "white",
            "linecolor": "white",
            "ticks": ""
           }
          },
          "coloraxis": {
           "colorbar": {
            "outlinewidth": 0,
            "ticks": ""
           }
          },
          "colorscale": {
           "sequential": [
            [
             0.0,
             "#0d0887"
            ],
            [
             0.1111111111111111,
             "#46039f"
            ],
            [
             0.2222222222222222,
             "#7201a8"
            ],
            [
             0.3333333333333333,
             "#9c179e"
            ],
            [
             0.4444444444444444,
             "#bd3786"
            ],
            [
             0.5555555555555556,
             "#d8576b"
            ],
            [
             0.6666666666666666,
             "#ed7953"
            ],
            [
             0.7777777777777778,
             "#fb9f3a"
            ],
            [
             0.8888888888888888,
             "#fdca26"
            ],
            [
             1.0,
             "#f0f921"
            ]
           ],
           "sequentialminus": [
            [
             0.0,
             "#0d0887"
            ],
            [
             0.1111111111111111,
             "#46039f"
            ],
            [
             0.2222222222222222,
             "#7201a8"
            ],
            [
             0.3333333333333333,
             "#9c179e"
            ],
            [
             0.4444444444444444,
             "#bd3786"
            ],
            [
             0.5555555555555556,
             "#d8576b"
            ],
            [
             0.6666666666666666,
             "#ed7953"
            ],
            [
             0.7777777777777778,
             "#fb9f3a"
            ],
            [
             0.8888888888888888,
             "#fdca26"
            ],
            [
             1.0,
             "#f0f921"
            ]
           ],
           "diverging": [
            [
             0,
             "#8e0152"
            ],
            [
             0.1,
             "#c51b7d"
            ],
            [
             0.2,
             "#de77ae"
            ],
            [
             0.3,
             "#f1b6da"
            ],
            [
             0.4,
             "#fde0ef"
            ],
            [
             0.5,
             "#f7f7f7"
            ],
            [
             0.6,
             "#e6f5d0"
            ],
            [
             0.7,
             "#b8e186"
            ],
            [
             0.8,
             "#7fbc41"
            ],
            [
             0.9,
             "#4d9221"
            ],
            [
             1,
             "#276419"
            ]
           ]
          },
          "xaxis": {
           "gridcolor": "white",
           "linecolor": "white",
           "ticks": "",
           "title": {
            "standoff": 15
           },
           "zerolinecolor": "white",
           "automargin": true,
           "zerolinewidth": 2
          },
          "yaxis": {
           "gridcolor": "white",
           "linecolor": "white",
           "ticks": "",
           "title": {
            "standoff": 15
           },
           "zerolinecolor": "white",
           "automargin": true,
           "zerolinewidth": 2
          },
          "scene": {
           "xaxis": {
            "backgroundcolor": "#E5ECF6",
            "gridcolor": "white",
            "linecolor": "white",
            "showbackground": true,
            "ticks": "",
            "zerolinecolor": "white",
            "gridwidth": 2
           },
           "yaxis": {
            "backgroundcolor": "#E5ECF6",
            "gridcolor": "white",
            "linecolor": "white",
            "showbackground": true,
            "ticks": "",
            "zerolinecolor": "white",
            "gridwidth": 2
           },
           "zaxis": {
            "backgroundcolor": "#E5ECF6",
            "gridcolor": "white",
            "linecolor": "white",
            "showbackground": true,
            "ticks": "",
            "zerolinecolor": "white",
            "gridwidth": 2
           }
          },
          "shapedefaults": {
           "line": {
            "color": "#2a3f5f"
           }
          },
          "annotationdefaults": {
           "arrowcolor": "#2a3f5f",
           "arrowhead": 0,
           "arrowwidth": 1
          },
          "geo": {
           "bgcolor": "white",
           "landcolor": "#E5ECF6",
           "subunitcolor": "white",
           "showland": true,
           "showlakes": true,
           "lakecolor": "white"
          },
          "title": {
           "x": 0.05
          },
          "mapbox": {
           "style": "light"
          }
         }
        },
        "xaxis": {
         "anchor": "y",
         "domain": [
          0.0,
          0.784
         ],
         "matches": "x3",
         "showticklabels": false
        },
        "yaxis": {
         "anchor": "x",
         "domain": [
          0.51,
          1.0
         ],
         "title": {
          "text": "Contribution"
         }
        },
        "xaxis2": {
         "anchor": "y2",
         "domain": [
          0.804,
          1.0
         ],
         "matches": "x4",
         "showticklabels": false
        },
        "yaxis2": {
         "anchor": "x2",
         "domain": [
          0.51,
          1.0
         ],
         "matches": "y",
         "showticklabels": false
        },
        "xaxis3": {
         "anchor": "y3",
         "domain": [
          0.0,
          0.784
         ],
         "title": {
          "text": "AveBedrms"
         }
        },
        "yaxis3": {
         "anchor": "x3",
         "domain": [
          0.0,
          0.49
         ],
         "title": {
          "text": "Count"
         }
        },
        "xaxis4": {
         "anchor": "y4",
         "domain": [
          0.804,
          1.0
         ]
        },
        "yaxis4": {
         "anchor": "x4",
         "domain": [
          0.0,
          0.49
         ],
         "matches": "y3",
         "showticklabels": false
        },
        "annotations": [
         {
          "font": {
           "size": 16
          },
          "showarrow": false,
          "text": "MedHouseVal prediction",
          "x": 0.392,
          "xanchor": "center",
          "xref": "paper",
          "y": 1.0,
          "yanchor": "bottom",
          "yref": "paper"
         },
         {
          "font": {
           "size": 16
          },
          "showarrow": false,
          "text": "Contribution distribution",
          "x": 0.902,
          "xanchor": "center",
          "xref": "paper",
          "y": 1.0,
          "yanchor": "bottom",
          "yref": "paper"
         }
        ],
        "showlegend": false,
        "title": {
         "text": "Contributions are on the same scale as MedHouseVal,<br>and centered vertically on the train set."
        }
       },
       "config": {
        "plotlyServerURL": "https://plot.ly"
       }
      },
      "text/html": "<div>                            <div id=\"1bfff1a4-ce65-4359-9e44-c62a652d25d8\" class=\"plotly-graph-div\" style=\"height:525px; width:100%;\"></div>            <script type=\"text/javascript\">                require([\"plotly\"], function(Plotly) {                    window.PLOTLYENV=window.PLOTLYENV || {};                                    if (document.getElementById(\"1bfff1a4-ce65-4359-9e44-c62a652d25d8\")) {                    Plotly.newPlot(                        \"1bfff1a4-ce65-4359-9e44-c62a652d25d8\",                        [{\"hovertemplate\":\"x=%{x}<br>y=%{y}<extra></extra>\",\"legendgroup\":\"\",\"line\":{\"color\":\"#636efa\",\"dash\":\"solid\",\"shape\":\"hv\"},\"marker\":{\"symbol\":\"circle\"},\"mode\":\"lines\",\"name\":\"\",\"orientation\":\"v\",\"showlegend\":false,\"x\":[0.572257399559021,0.572257399559021,0.8335878849029541,0.8676896691322327,0.885543942451477,0.8966090083122253,0.9053609371185303,0.9126244783401489,0.9184338450431824,0.9232505559921265,0.9275639653205872,0.9313927888870239,0.9347517490386963,0.9377820491790771,0.9407335519790649,0.9433755278587341,0.9458237886428833,0.95075523853302,0.9528881907463074,0.9549869894981384,0.956879198551178,0.9586673974990845,0.9604190587997437,0.9620495438575745,0.9637948870658875,0.9656962752342224,0.9672415852546692,0.9684990048408508,0.9699150323867798,0.9713268280029297,0.9726691842079163,0.974024772644043,0.9753373265266418,0.9766156077384949,0.9779728651046753,0.9792187213897705,0.9804213643074036,0.9814969897270203,0.9825113415718079,0.9837409853935242,0.9849144220352173,0.985970139503479,0.9869540333747864,0.9878599643707275,0.9887627959251404,0.9897435307502747,0.9908071160316467,0.9918529391288757,0.9927318692207336,0.9936137199401855,0.9945000410079956,0.9954142570495605,0.9964361786842346,0.9974042773246765,0.9989398717880249,1.0009398460388184,1.0023118257522583,1.0031020641326904,1.0037962198257446,1.0045123100280762,1.0053478479385376,1.0061622858047485,1.0069091320037842,1.0076043605804443,1.0082662105560303,1.0090091228485107,1.0096924304962158,1.010312795639038,1.0109946727752686,1.0116921663284302,1.0123822689056396,1.0130963325500488,1.0137964487075806,1.0144840478897095,1.0151937007904053,1.0159451961517334,1.0167012214660645,1.0173957347869873,1.018123745918274,1.018882155418396,1.019606590270996,1.020300269126892,1.0208710432052612,1.021522879600525,1.0222846269607544,1.0230001211166382,1.0237351655960083,1.0244097709655762,1.0250540971755981,1.025730848312378,1.0263780355453491,1.026990294456482,1.0276663303375244,1.0284072160720825,1.0290943384170532,1.0297133922576904,1.030410885810852,1.031110167503357,1.031768560409546,1.0324550867080688,1.0331839323043823,1.0338189601898193,1.0343409776687622,1.0349595546722412,1.0356327295303345,1.036264419555664,1.036797285079956,1.0373733043670654,1.0379998683929443,1.0385546684265137,1.0391066074371338,1.0397520065307617,1.0404632091522217,1.0411418676376343,1.0417615175247192,1.042360544204712,1.0430113077163696,1.0437374114990234,1.0444586277008057,1.0451098680496216,1.045719861984253,1.04635751247406,1.0470057725906372,1.047654628753662,1.048338532447815,1.049017310142517,1.0496753454208374,1.0503716468811035,1.0510672330856323,1.0517619848251343,1.0523821115493774,1.052947998046875,1.053554892539978,1.0541372299194336,1.05483078956604,1.0555020570755005,1.0561877489089966,1.0569415092468262,1.0575902462005615,1.0582464933395386,1.0589195489883423,1.0595531463623047,1.060134768486023,1.060746669769287,1.0614012479782104,1.0621099472045898,1.0628937482833862,1.06362783908844,1.0642422437667847,1.0649702548980713,1.0658172369003296,1.066624641418457,1.0674577951431274,1.0682296752929688,1.068908929824829,1.0696173906326294,1.0704176425933838,1.0712664127349854,1.0720545053482056,1.0727912187576294,1.0735740661621094,1.0744271278381348,1.0752962827682495,1.0760847330093384,1.07687246799469,1.0777403116226196,1.0784940719604492,1.0792045593261719,1.0800126791000366,1.080855131149292,1.0817604064941406,1.0826961994171143,1.0835574865341187,1.084397792816162,1.0853924751281738,1.0863984823226929,1.087257981300354,1.0881088972091675,1.0891038179397583,1.0901076793670654,1.0909805297851562,1.0918703079223633,1.0928871631622314,1.0939000844955444,1.0948063135147095,1.09574556350708,1.0968126058578491,1.097912073135376,1.0990713834762573,1.100193738937378,1.1012665033340454,1.1024055480957031,1.1036567687988281,1.1050760746002197,1.1062747240066528,1.1072171926498413,1.1082830429077148,1.1095319986343384,1.1109164953231812,1.112255573272705,1.1135985851287842,1.1149725914001465,1.116370439529419,1.1178885698318481,1.1195919513702393,1.1213186979293823,1.1230876445770264,1.1247758865356445,1.1264634132385254,1.1282354593276978,1.1299777030944824,1.1319271326065063,1.1338154077529907,1.135806918144226,1.1377100944519043,1.1394442319869995,1.1416198015213013,1.1441633701324463,1.1465444564819336,1.1488046646118164,1.1513538360595703,1.1540148258209229,1.1569554805755615,1.1603807210922241,1.1640409231185913,1.1674649715423584,1.1704095602035522,1.1735830307006836,1.1779040098190308,1.1830344200134277,1.1876294612884521,1.1924537420272827,1.1980167627334595,1.2042241096496582,1.2109832763671875,1.2186676263809204,1.2279541492462158,1.2379778623580933,1.2495089769363403,1.2620656490325928,1.2780121564865112,1.2977533340454102,1.320206642150879,1.3482824563980103,1.387615442276001,1.4338103532791138,1.4871516227722168,1.5594027042388916,1.6741828918457031,1.8738149404525757,2.2003612518310547,3.000363826751709,18.833335876464844],\"xaxis\":\"x\",\"y\":[-0.34864377938270824,-0.3486437793827079,-0.15214995833478046,-0.21151108098247023,-0.08037088470870764,-0.12372569889205055,-0.08460436847653564,-0.08783363148545853,-0.0640484783108161,-0.056260277503799756,-0.06967603107198275,-0.11055772613203312,-0.11440619904402233,-0.0896717539829728,-0.12893416648317624,-0.08461294135121222,-0.08148942880878553,-0.0952521750293351,-0.07087218163606747,-0.08873832930571107,-0.08486760548972502,-0.08315551186168532,-0.08303672026866081,-0.09658074576651632,-0.09491877808271115,-0.08833441130767104,-0.08044648061285954,-0.08197244866001836,-0.07596984204365376,-0.06070291209379173,-0.05888123073561055,-0.07155161384569501,-0.07407855578380625,-0.0497486325958622,-0.05988664688696105,-0.06370060979108406,-0.06105053006616227,-0.06427502222181458,-0.06916927328259478,-0.06377586991481544,-0.06051369820517672,-0.048895712867497824,-0.04969421452754991,-0.04923500527470764,-0.05139290934697629,-0.051822187132969884,-0.0566433101259171,-0.042964493478427894,-0.03840461638836079,-0.03743884349565718,-0.034231123745705784,-0.02559318993148569,-0.035545032745237945,-0.03384161961040461,-0.04092785638695575,-0.029818890241259992,-0.021961460761996954,-0.01019599906641718,-0.02234250154800167,-0.02206676452608557,-0.028011400551784346,-0.02633258419745841,-0.021215535294298912,-0.021215535294298912,-0.022268756026634154,-0.020824551181511372,-0.021314649966468525,-0.022003825820581337,-0.015737176972660555,-0.017883734650964538,-0.025189417972067574,-0.010517770886637301,0.008450558522714596,-0.004375381348332615,-0.009551581066585511,-0.01987178672913398,-0.02262208674705424,-0.019475992085100244,-0.023225319843947066,-0.020269276846731316,-0.010155118378803136,-0.038985944653143784,-0.03997732974121104,-0.03890982680772909,-0.03535100749195057,-0.0363898506167703,-0.0363898506167703,-0.031128748962309716,-0.028051628262287867,-0.025950655448469216,-0.028642726061031243,-0.02897375867531883,-0.032507082624855764,-0.024565513006889292,-0.03102408515361863,-0.02782811601363886,-0.01433059033655903,-0.0011123786528593835,-0.005234782309827901,-0.0032148112343260643,-0.02297526258027007,-0.02652908475501086,-0.011695164615620866,-0.012656888453708836,-0.01398912524421477,-0.013613359429056898,-0.01273196366547467,-0.013749068295850748,-0.011845664681067002,-0.01255830864303083,-0.015623896257557956,-0.02559087955341038,-0.03206491312014365,-0.033311279363279406,0.006635447954722479,0.008538569676142577,0.01115485602860477,0.01637958548976056,0.006999945886161018,0.03062782973326378,0.026511337491904714,0.011219776829786096,0.007866271039320779,0.016495865487901287,0.018655038669944245,0.010710358470123393,0.016799036494729247,0.02084400189577308,0.017155861277219735,0.013970615412576133,0.014995566803627397,0.014162523836721385,0.023555863896988348,0.024448855640060697,0.02513837087967058,0.021272060256339084,0.011024726877361573,0.014654706847919525,0.003260544039792689,-0.016640848207212025,-0.023460486789258828,0.016158684611340554,0.02521246203255692,0.025317440709804767,-0.000391179350072126,0.03207695310030993,0.021479020343655023,0.051911109727397,0.06256148951515045,0.06504488428014478,0.06504488428014478,0.023873632169053652,0.01675564762187861,0.029270016712115446,0.033527596315830965,0.03760415883385395,0.03760415883385395,0.034223750184591596,0.029462196238267867,0.03687753373701741,0.021782152720989642,0.03510702890564141,0.03226010774238425,0.0270274340104149,0.01585327544272229,0.017011577432697517,0.013783364897692654,0.020772367403096813,0.022683772098516408,0.016901443204354993,0.02150303381946954,0.06258183596786676,0.05966222039698174,0.057650214532327965,0.05795940895235227,0.045577588191677065,0.050610843549408736,0.05414265866493079,0.06245516044566801,0.052671697936652426,0.05954723174708522,0.05812290116135131,0.05812290116135131,0.05812290116135131,0.059035698232434944,0.05921016757788822,0.05677867384298667,0.0614136439172963,0.058725979187404895,0.03680642854196248,0.02399314312616862,0.038104950417879285,0.035789676311862584,0.035789676311862584,0.024088285830223564,0.02042459837894158,0.02359608731215447,0.02767713234750689,0.024968002243657188,0.020937959335630592,0.024881851551165374,0.045008761229880644,0.03466544389438336,0.035784534586340885,0.03054021187231741,0.02860524354590953,0.0248735013894252,0.02566038644935855,0.010967728979567942,0.024973061394492367,0.028959175540227484,0.052166764983161334,0.06687713309154518,0.0752996991899767,0.06956690447167793,0.0703692178213878,0.057272375179545754,0.05915680705448352,0.06061851464387391,0.057719511726449624,0.05574915652368623,0.05079262404312407,0.07404664862405332,0.0633005410720871,0.05267292795580644,0.05796111480434646,0.07172675939969718,0.08182708548363361,0.08435131141455066,0.08551831614580697,0.08268656617786946,0.12152718134478577,0.1343082243253648,0.14223237400989353,0.19028929880147533,0.05128332966773579,0.009297941755831431,0.03502432488335635,0.058680201496096776,0.11131291209650147,0.10892464034364086,0.1869693868486327,0.050358350572191166,0.09023125924249835,0.16837232424156537,0.11696061626960769,0.16480992911985134,0.11482861970598096,0.012646861829597124,0.07175290320315507,-0.06715248885591696,-0.04873092278793777,-0.08546299096103868],\"yaxis\":\"y\",\"type\":\"scatter\"},{\"name\":\"AveBedrms distribution\",\"x\":[0.572257399559021,0.572257399559021,0.8335878849029541,0.8676896691322327,0.885543942451477,0.8966090083122253,0.9053609371185303,0.9126244783401489,0.9184338450431824,0.9232505559921265,0.9275639653205872,0.9313927888870239,0.9347517490386963,0.9377820491790771,0.9407335519790649,0.9433755278587341,0.9458237886428833,0.95075523853302,0.9528881907463074,0.9549869894981384,0.956879198551178,0.9586673974990845,0.9604190587997437,0.9620495438575745,0.9637948870658875,0.9656962752342224,0.9672415852546692,0.9684990048408508,0.9699150323867798,0.9713268280029297,0.9726691842079163,0.974024772644043,0.9753373265266418,0.9766156077384949,0.9779728651046753,0.9792187213897705,0.9804213643074036,0.9814969897270203,0.9825113415718079,0.9837409853935242,0.9849144220352173,0.985970139503479,0.9869540333747864,0.9878599643707275,0.9887627959251404,0.9897435307502747,0.9908071160316467,0.9918529391288757,0.9927318692207336,0.9936137199401855,0.9945000410079956,0.9954142570495605,0.9964361786842346,0.9974042773246765,0.9989398717880249,1.0009398460388184,1.0023118257522583,1.0031020641326904,1.0037962198257446,1.0045123100280762,1.0053478479385376,1.0061622858047485,1.0069091320037842,1.0076043605804443,1.0082662105560303,1.0090091228485107,1.0096924304962158,1.010312795639038,1.0109946727752686,1.0116921663284302,1.0123822689056396,1.0130963325500488,1.0137964487075806,1.0144840478897095,1.0151937007904053,1.0159451961517334,1.0167012214660645,1.0173957347869873,1.018123745918274,1.018882155418396,1.019606590270996,1.020300269126892,1.0208710432052612,1.021522879600525,1.0222846269607544,1.0230001211166382,1.0237351655960083,1.0244097709655762,1.0250540971755981,1.025730848312378,1.0263780355453491,1.026990294456482,1.0276663303375244,1.0284072160720825,1.0290943384170532,1.0297133922576904,1.030410885810852,1.031110167503357,1.031768560409546,1.0324550867080688,1.0331839323043823,1.0338189601898193,1.0343409776687622,1.0349595546722412,1.0356327295303345,1.036264419555664,1.036797285079956,1.0373733043670654,1.0379998683929443,1.0385546684265137,1.0391066074371338,1.0397520065307617,1.0404632091522217,1.0411418676376343,1.0417615175247192,1.042360544204712,1.0430113077163696,1.0437374114990234,1.0444586277008057,1.0451098680496216,1.045719861984253,1.04635751247406,1.0470057725906372,1.047654628753662,1.048338532447815,1.049017310142517,1.0496753454208374,1.0503716468811035,1.0510672330856323,1.0517619848251343,1.0523821115493774,1.052947998046875,1.053554892539978,1.0541372299194336,1.05483078956604,1.0555020570755005,1.0561877489089966,1.0569415092468262,1.0575902462005615,1.0582464933395386,1.0589195489883423,1.0595531463623047,1.060134768486023,1.060746669769287,1.0614012479782104,1.0621099472045898,1.0628937482833862,1.06362783908844,1.0642422437667847,1.0649702548980713,1.0658172369003296,1.066624641418457,1.0674577951431274,1.0682296752929688,1.068908929824829,1.0696173906326294,1.0704176425933838,1.0712664127349854,1.0720545053482056,1.0727912187576294,1.0735740661621094,1.0744271278381348,1.0752962827682495,1.0760847330093384,1.07687246799469,1.0777403116226196,1.0784940719604492,1.0792045593261719,1.0800126791000366,1.080855131149292,1.0817604064941406,1.0826961994171143,1.0835574865341187,1.084397792816162,1.0853924751281738,1.0863984823226929,1.087257981300354,1.0881088972091675,1.0891038179397583,1.0901076793670654,1.0909805297851562,1.0918703079223633,1.0928871631622314,1.0939000844955444,1.0948063135147095,1.09574556350708,1.0968126058578491,1.097912073135376,1.0990713834762573,1.100193738937378,1.1012665033340454,1.1024055480957031,1.1036567687988281,1.1050760746002197,1.1062747240066528,1.1072171926498413,1.1082830429077148,1.1095319986343384,1.1109164953231812,1.112255573272705,1.1135985851287842,1.1149725914001465,1.116370439529419,1.1178885698318481,1.1195919513702393,1.1213186979293823,1.1230876445770264,1.1247758865356445,1.1264634132385254,1.1282354593276978,1.1299777030944824,1.1319271326065063,1.1338154077529907,1.135806918144226,1.1377100944519043,1.1394442319869995,1.1416198015213013,1.1441633701324463,1.1465444564819336,1.1488046646118164,1.1513538360595703,1.1540148258209229,1.1569554805755615,1.1603807210922241,1.1640409231185913,1.1674649715423584,1.1704095602035522,1.1735830307006836,1.1779040098190308,1.1830344200134277,1.1876294612884521,1.1924537420272827,1.1980167627334595,1.2042241096496582,1.2109832763671875,1.2186676263809204,1.2279541492462158,1.2379778623580933,1.2495089769363403,1.2620656490325928,1.2780121564865112,1.2977533340454102,1.320206642150879,1.3482824563980103,1.387615442276001,1.4338103532791138,1.4871516227722168,1.5594027042388916,1.6741828918457031,1.8738149404525757,2.2003612518310547,3.000363826751709,18.833335876464844],\"type\":\"histogram\",\"xaxis\":\"x3\",\"yaxis\":\"y3\"},{\"name\":\"\",\"y\":[-0.34864377938270824,-0.3486437793827079,-0.15214995833478046,-0.21151108098247023,-0.08037088470870764,-0.12372569889205055,-0.08460436847653564,-0.08783363148545853,-0.0640484783108161,-0.056260277503799756,-0.06967603107198275,-0.11055772613203312,-0.11440619904402233,-0.0896717539829728,-0.12893416648317624,-0.08461294135121222,-0.08148942880878553,-0.0952521750293351,-0.07087218163606747,-0.08873832930571107,-0.08486760548972502,-0.08315551186168532,-0.08303672026866081,-0.09658074576651632,-0.09491877808271115,-0.08833441130767104,-0.08044648061285954,-0.08197244866001836,-0.07596984204365376,-0.06070291209379173,-0.05888123073561055,-0.07155161384569501,-0.07407855578380625,-0.0497486325958622,-0.05988664688696105,-0.06370060979108406,-0.06105053006616227,-0.06427502222181458,-0.06916927328259478,-0.06377586991481544,-0.06051369820517672,-0.048895712867497824,-0.04969421452754991,-0.04923500527470764,-0.05139290934697629,-0.051822187132969884,-0.0566433101259171,-0.042964493478427894,-0.03840461638836079,-0.03743884349565718,-0.034231123745705784,-0.02559318993148569,-0.035545032745237945,-0.03384161961040461,-0.04092785638695575,-0.029818890241259992,-0.021961460761996954,-0.01019599906641718,-0.02234250154800167,-0.02206676452608557,-0.028011400551784346,-0.02633258419745841,-0.021215535294298912,-0.021215535294298912,-0.022268756026634154,-0.020824551181511372,-0.021314649966468525,-0.022003825820581337,-0.015737176972660555,-0.017883734650964538,-0.025189417972067574,-0.010517770886637301,0.008450558522714596,-0.004375381348332615,-0.009551581066585511,-0.01987178672913398,-0.02262208674705424,-0.019475992085100244,-0.023225319843947066,-0.020269276846731316,-0.010155118378803136,-0.038985944653143784,-0.03997732974121104,-0.03890982680772909,-0.03535100749195057,-0.0363898506167703,-0.0363898506167703,-0.031128748962309716,-0.028051628262287867,-0.025950655448469216,-0.028642726061031243,-0.02897375867531883,-0.032507082624855764,-0.024565513006889292,-0.03102408515361863,-0.02782811601363886,-0.01433059033655903,-0.0011123786528593835,-0.005234782309827901,-0.0032148112343260643,-0.02297526258027007,-0.02652908475501086,-0.011695164615620866,-0.012656888453708836,-0.01398912524421477,-0.013613359429056898,-0.01273196366547467,-0.013749068295850748,-0.011845664681067002,-0.01255830864303083,-0.015623896257557956,-0.02559087955341038,-0.03206491312014365,-0.033311279363279406,0.006635447954722479,0.008538569676142577,0.01115485602860477,0.01637958548976056,0.006999945886161018,0.03062782973326378,0.026511337491904714,0.011219776829786096,0.007866271039320779,0.016495865487901287,0.018655038669944245,0.010710358470123393,0.016799036494729247,0.02084400189577308,0.017155861277219735,0.013970615412576133,0.014995566803627397,0.014162523836721385,0.023555863896988348,0.024448855640060697,0.02513837087967058,0.021272060256339084,0.011024726877361573,0.014654706847919525,0.003260544039792689,-0.016640848207212025,-0.023460486789258828,0.016158684611340554,0.02521246203255692,0.025317440709804767,-0.000391179350072126,0.03207695310030993,0.021479020343655023,0.051911109727397,0.06256148951515045,0.06504488428014478,0.06504488428014478,0.023873632169053652,0.01675564762187861,0.029270016712115446,0.033527596315830965,0.03760415883385395,0.03760415883385395,0.034223750184591596,0.029462196238267867,0.03687753373701741,0.021782152720989642,0.03510702890564141,0.03226010774238425,0.0270274340104149,0.01585327544272229,0.017011577432697517,0.013783364897692654,0.020772367403096813,0.022683772098516408,0.016901443204354993,0.02150303381946954,0.06258183596786676,0.05966222039698174,0.057650214532327965,0.05795940895235227,0.045577588191677065,0.050610843549408736,0.05414265866493079,0.06245516044566801,0.052671697936652426,0.05954723174708522,0.05812290116135131,0.05812290116135131,0.05812290116135131,0.059035698232434944,0.05921016757788822,0.05677867384298667,0.0614136439172963,0.058725979187404895,0.03680642854196248,0.02399314312616862,0.038104950417879285,0.035789676311862584,0.035789676311862584,0.024088285830223564,0.02042459837894158,0.02359608731215447,0.02767713234750689,0.024968002243657188,0.020937959335630592,0.024881851551165374,0.045008761229880644,0.03466544389438336,0.035784534586340885,0.03054021187231741,0.02860524354590953,0.0248735013894252,0.02566038644935855,0.010967728979567942,0.024973061394492367,0.028959175540227484,0.052166764983161334,0.06687713309154518,0.0752996991899767,0.06956690447167793,0.0703692178213878,0.057272375179545754,0.05915680705448352,0.06061851464387391,0.057719511726449624,0.05574915652368623,0.05079262404312407,0.07404664862405332,0.0633005410720871,0.05267292795580644,0.05796111480434646,0.07172675939969718,0.08182708548363361,0.08435131141455066,0.08551831614580697,0.08268656617786946,0.12152718134478577,0.1343082243253648,0.14223237400989353,0.19028929880147533,0.05128332966773579,0.009297941755831431,0.03502432488335635,0.058680201496096776,0.11131291209650147,0.10892464034364086,0.1869693868486327,0.050358350572191166,0.09023125924249835,0.16837232424156537,0.11696061626960769,0.16480992911985134,0.11482861970598096,0.012646861829597124,0.07175290320315507,-0.06715248885591696,-0.04873092278793777,-0.08546299096103868],\"type\":\"box\",\"xaxis\":\"x2\",\"yaxis\":\"y2\"}],                        {\"template\":{\"data\":{\"histogram2dcontour\":[{\"type\":\"histogram2dcontour\",\"colorbar\":{\"outlinewidth\":0,\"ticks\":\"\"},\"colorscale\":[[0.0,\"#0d0887\"],[0.1111111111111111,\"#46039f\"],[0.2222222222222222,\"#7201a8\"],[0.3333333333333333,\"#9c179e\"],[0.4444444444444444,\"#bd3786\"],[0.5555555555555556,\"#d8576b\"],[0.6666666666666666,\"#ed7953\"],[0.7777777777777778,\"#fb9f3a\"],[0.8888888888888888,\"#fdca26\"],[1.0,\"#f0f921\"]]}],\"choropleth\":[{\"type\":\"choropleth\",\"colorbar\":{\"outlinewidth\":0,\"ticks\":\"\"}}],\"histogram2d\":[{\"type\":\"histogram2d\",\"colorbar\":{\"outlinewidth\":0,\"ticks\":\"\"},\"colorscale\":[[0.0,\"#0d0887\"],[0.1111111111111111,\"#46039f\"],[0.2222222222222222,\"#7201a8\"],[0.3333333333333333,\"#9c179e\"],[0.4444444444444444,\"#bd3786\"],[0.5555555555555556,\"#d8576b\"],[0.6666666666666666,\"#ed7953\"],[0.7777777777777778,\"#fb9f3a\"],[0.8888888888888888,\"#fdca26\"],[1.0,\"#f0f921\"]]}],\"heatmap\":[{\"type\":\"heatmap\",\"colorbar\":{\"outlinewidth\":0,\"ticks\":\"\"},\"colorscale\":[[0.0,\"#0d0887\"],[0.1111111111111111,\"#46039f\"],[0.2222222222222222,\"#7201a8\"],[0.3333333333333333,\"#9c179e\"],[0.4444444444444444,\"#bd3786\"],[0.5555555555555556,\"#d8576b\"],[0.6666666666666666,\"#ed7953\"],[0.7777777777777778,\"#fb9f3a\"],[0.8888888888888888,\"#fdca26\"],[1.0,\"#f0f921\"]]}],\"heatmapgl\":[{\"type\":\"heatmapgl\",\"colorbar\":{\"outlinewidth\":0,\"ticks\":\"\"},\"colorscale\":[[0.0,\"#0d0887\"],[0.1111111111111111,\"#46039f\"],[0.2222222222222222,\"#7201a8\"],[0.3333333333333333,\"#9c179e\"],[0.4444444444444444,\"#bd3786\"],[0.5555555555555556,\"#d8576b\"],[0.6666666666666666,\"#ed7953\"],[0.7777777777777778,\"#fb9f3a\"],[0.8888888888888888,\"#fdca26\"],[1.0,\"#f0f921\"]]}],\"contourcarpet\":[{\"type\":\"contourcarpet\",\"colorbar\":{\"outlinewidth\":0,\"ticks\":\"\"}}],\"contour\":[{\"type\":\"contour\",\"colorbar\":{\"outlinewidth\":0,\"ticks\":\"\"},\"colorscale\":[[0.0,\"#0d0887\"],[0.1111111111111111,\"#46039f\"],[0.2222222222222222,\"#7201a8\"],[0.3333333333333333,\"#9c179e\"],[0.4444444444444444,\"#bd3786\"],[0.5555555555555556,\"#d8576b\"],[0.6666666666666666,\"#ed7953\"],[0.7777777777777778,\"#fb9f3a\"],[0.8888888888888888,\"#fdca26\"],[1.0,\"#f0f921\"]]}],\"surface\":[{\"type\":\"surface\",\"colorbar\":{\"outlinewidth\":0,\"ticks\":\"\"},\"colorscale\":[[0.0,\"#0d0887\"],[0.1111111111111111,\"#46039f\"],[0.2222222222222222,\"#7201a8\"],[0.3333333333333333,\"#9c179e\"],[0.4444444444444444,\"#bd3786\"],[0.5555555555555556,\"#d8576b\"],[0.6666666666666666,\"#ed7953\"],[0.7777777777777778,\"#fb9f3a\"],[0.8888888888888888,\"#fdca26\"],[1.0,\"#f0f921\"]]}],\"mesh3d\":[{\"type\":\"mesh3d\",\"colorbar\":{\"outlinewidth\":0,\"ticks\":\"\"}}],\"scatter\":[{\"fillpattern\":{\"fillmode\":\"overlay\",\"size\":10,\"solidity\":0.2},\"type\":\"scatter\"}],\"parcoords\":[{\"type\":\"parcoords\",\"line\":{\"colorbar\":{\"outlinewidth\":0,\"ticks\":\"\"}}}],\"scatterpolargl\":[{\"type\":\"scatterpolargl\",\"marker\":{\"colorbar\":{\"outlinewidth\":0,\"ticks\":\"\"}}}],\"bar\":[{\"error_x\":{\"color\":\"#2a3f5f\"},\"error_y\":{\"color\":\"#2a3f5f\"},\"marker\":{\"line\":{\"color\":\"#E5ECF6\",\"width\":0.5},\"pattern\":{\"fillmode\":\"overlay\",\"size\":10,\"solidity\":0.2}},\"type\":\"bar\"}],\"scattergeo\":[{\"type\":\"scattergeo\",\"marker\":{\"colorbar\":{\"outlinewidth\":0,\"ticks\":\"\"}}}],\"scatterpolar\":[{\"type\":\"scatterpolar\",\"marker\":{\"colorbar\":{\"outlinewidth\":0,\"ticks\":\"\"}}}],\"histogram\":[{\"marker\":{\"pattern\":{\"fillmode\":\"overlay\",\"size\":10,\"solidity\":0.2}},\"type\":\"histogram\"}],\"scattergl\":[{\"type\":\"scattergl\",\"marker\":{\"colorbar\":{\"outlinewidth\":0,\"ticks\":\"\"}}}],\"scatter3d\":[{\"type\":\"scatter3d\",\"line\":{\"colorbar\":{\"outlinewidth\":0,\"ticks\":\"\"}},\"marker\":{\"colorbar\":{\"outlinewidth\":0,\"ticks\":\"\"}}}],\"scattermapbox\":[{\"type\":\"scattermapbox\",\"marker\":{\"colorbar\":{\"outlinewidth\":0,\"ticks\":\"\"}}}],\"scatterternary\":[{\"type\":\"scatterternary\",\"marker\":{\"colorbar\":{\"outlinewidth\":0,\"ticks\":\"\"}}}],\"scattercarpet\":[{\"type\":\"scattercarpet\",\"marker\":{\"colorbar\":{\"outlinewidth\":0,\"ticks\":\"\"}}}],\"carpet\":[{\"aaxis\":{\"endlinecolor\":\"#2a3f5f\",\"gridcolor\":\"white\",\"linecolor\":\"white\",\"minorgridcolor\":\"white\",\"startlinecolor\":\"#2a3f5f\"},\"baxis\":{\"endlinecolor\":\"#2a3f5f\",\"gridcolor\":\"white\",\"linecolor\":\"white\",\"minorgridcolor\":\"white\",\"startlinecolor\":\"#2a3f5f\"},\"type\":\"carpet\"}],\"table\":[{\"cells\":{\"fill\":{\"color\":\"#EBF0F8\"},\"line\":{\"color\":\"white\"}},\"header\":{\"fill\":{\"color\":\"#C8D4E3\"},\"line\":{\"color\":\"white\"}},\"type\":\"table\"}],\"barpolar\":[{\"marker\":{\"line\":{\"color\":\"#E5ECF6\",\"width\":0.5},\"pattern\":{\"fillmode\":\"overlay\",\"size\":10,\"solidity\":0.2}},\"type\":\"barpolar\"}],\"pie\":[{\"automargin\":true,\"type\":\"pie\"}]},\"layout\":{\"autotypenumbers\":\"strict\",\"colorway\":[\"#636efa\",\"#EF553B\",\"#00cc96\",\"#ab63fa\",\"#FFA15A\",\"#19d3f3\",\"#FF6692\",\"#B6E880\",\"#FF97FF\",\"#FECB52\"],\"font\":{\"color\":\"#2a3f5f\"},\"hovermode\":\"closest\",\"hoverlabel\":{\"align\":\"left\"},\"paper_bgcolor\":\"white\",\"plot_bgcolor\":\"#E5ECF6\",\"polar\":{\"bgcolor\":\"#E5ECF6\",\"angularaxis\":{\"gridcolor\":\"white\",\"linecolor\":\"white\",\"ticks\":\"\"},\"radialaxis\":{\"gridcolor\":\"white\",\"linecolor\":\"white\",\"ticks\":\"\"}},\"ternary\":{\"bgcolor\":\"#E5ECF6\",\"aaxis\":{\"gridcolor\":\"white\",\"linecolor\":\"white\",\"ticks\":\"\"},\"baxis\":{\"gridcolor\":\"white\",\"linecolor\":\"white\",\"ticks\":\"\"},\"caxis\":{\"gridcolor\":\"white\",\"linecolor\":\"white\",\"ticks\":\"\"}},\"coloraxis\":{\"colorbar\":{\"outlinewidth\":0,\"ticks\":\"\"}},\"colorscale\":{\"sequential\":[[0.0,\"#0d0887\"],[0.1111111111111111,\"#46039f\"],[0.2222222222222222,\"#7201a8\"],[0.3333333333333333,\"#9c179e\"],[0.4444444444444444,\"#bd3786\"],[0.5555555555555556,\"#d8576b\"],[0.6666666666666666,\"#ed7953\"],[0.7777777777777778,\"#fb9f3a\"],[0.8888888888888888,\"#fdca26\"],[1.0,\"#f0f921\"]],\"sequentialminus\":[[0.0,\"#0d0887\"],[0.1111111111111111,\"#46039f\"],[0.2222222222222222,\"#7201a8\"],[0.3333333333333333,\"#9c179e\"],[0.4444444444444444,\"#bd3786\"],[0.5555555555555556,\"#d8576b\"],[0.6666666666666666,\"#ed7953\"],[0.7777777777777778,\"#fb9f3a\"],[0.8888888888888888,\"#fdca26\"],[1.0,\"#f0f921\"]],\"diverging\":[[0,\"#8e0152\"],[0.1,\"#c51b7d\"],[0.2,\"#de77ae\"],[0.3,\"#f1b6da\"],[0.4,\"#fde0ef\"],[0.5,\"#f7f7f7\"],[0.6,\"#e6f5d0\"],[0.7,\"#b8e186\"],[0.8,\"#7fbc41\"],[0.9,\"#4d9221\"],[1,\"#276419\"]]},\"xaxis\":{\"gridcolor\":\"white\",\"linecolor\":\"white\",\"ticks\":\"\",\"title\":{\"standoff\":15},\"zerolinecolor\":\"white\",\"automargin\":true,\"zerolinewidth\":2},\"yaxis\":{\"gridcolor\":\"white\",\"linecolor\":\"white\",\"ticks\":\"\",\"title\":{\"standoff\":15},\"zerolinecolor\":\"white\",\"automargin\":true,\"zerolinewidth\":2},\"scene\":{\"xaxis\":{\"backgroundcolor\":\"#E5ECF6\",\"gridcolor\":\"white\",\"linecolor\":\"white\",\"showbackground\":true,\"ticks\":\"\",\"zerolinecolor\":\"white\",\"gridwidth\":2},\"yaxis\":{\"backgroundcolor\":\"#E5ECF6\",\"gridcolor\":\"white\",\"linecolor\":\"white\",\"showbackground\":true,\"ticks\":\"\",\"zerolinecolor\":\"white\",\"gridwidth\":2},\"zaxis\":{\"backgroundcolor\":\"#E5ECF6\",\"gridcolor\":\"white\",\"linecolor\":\"white\",\"showbackground\":true,\"ticks\":\"\",\"zerolinecolor\":\"white\",\"gridwidth\":2}},\"shapedefaults\":{\"line\":{\"color\":\"#2a3f5f\"}},\"annotationdefaults\":{\"arrowcolor\":\"#2a3f5f\",\"arrowhead\":0,\"arrowwidth\":1},\"geo\":{\"bgcolor\":\"white\",\"landcolor\":\"#E5ECF6\",\"subunitcolor\":\"white\",\"showland\":true,\"showlakes\":true,\"lakecolor\":\"white\"},\"title\":{\"x\":0.05},\"mapbox\":{\"style\":\"light\"}}},\"xaxis\":{\"anchor\":\"y\",\"domain\":[0.0,0.784],\"matches\":\"x3\",\"showticklabels\":false},\"yaxis\":{\"anchor\":\"x\",\"domain\":[0.51,1.0],\"title\":{\"text\":\"Contribution\"}},\"xaxis2\":{\"anchor\":\"y2\",\"domain\":[0.804,1.0],\"matches\":\"x4\",\"showticklabels\":false},\"yaxis2\":{\"anchor\":\"x2\",\"domain\":[0.51,1.0],\"matches\":\"y\",\"showticklabels\":false},\"xaxis3\":{\"anchor\":\"y3\",\"domain\":[0.0,0.784],\"title\":{\"text\":\"AveBedrms\"}},\"yaxis3\":{\"anchor\":\"x3\",\"domain\":[0.0,0.49],\"title\":{\"text\":\"Count\"}},\"xaxis4\":{\"anchor\":\"y4\",\"domain\":[0.804,1.0]},\"yaxis4\":{\"anchor\":\"x4\",\"domain\":[0.0,0.49],\"matches\":\"y3\",\"showticklabels\":false},\"annotations\":[{\"font\":{\"size\":16},\"showarrow\":false,\"text\":\"MedHouseVal prediction\",\"x\":0.392,\"xanchor\":\"center\",\"xref\":\"paper\",\"y\":1.0,\"yanchor\":\"bottom\",\"yref\":\"paper\"},{\"font\":{\"size\":16},\"showarrow\":false,\"text\":\"Contribution distribution\",\"x\":0.902,\"xanchor\":\"center\",\"xref\":\"paper\",\"y\":1.0,\"yanchor\":\"bottom\",\"yref\":\"paper\"}],\"showlegend\":false,\"title\":{\"text\":\"Contributions are on the same scale as MedHouseVal,<br>and centered vertically on the train set.\"}},                        {\"responsive\": true}                    ).then(function(){\n                            \nvar gd = document.getElementById('1bfff1a4-ce65-4359-9e44-c62a652d25d8');\nvar x = new MutationObserver(function (mutations, observer) {{\n        var display = window.getComputedStyle(gd).display;\n        if (!display || display === 'none') {{\n            console.log([gd, 'removed!']);\n            Plotly.purge(gd);\n            observer.disconnect();\n        }}\n}});\n\n// Listen for the removal of the full notebook cells\nvar notebookContainer = gd.closest('#notebook-container');\nif (notebookContainer) {{\n    x.observe(notebookContainer, {childList: true});\n}}\n\n// Listen for the clearing of the current output cell\nvar outputEl = gd.closest('.output');\nif (outputEl) {{\n    x.observe(outputEl, {childList: true});\n}}\n\n                        })                };                });            </script>        </div>"
     },
     "metadata": {},
     "output_type": "display_data"
    },
    {
     "data": {
      "application/vnd.plotly.v1+json": {
       "data": [
        {
         "hovertemplate": "x=%{x}<br>y=%{y}<extra></extra>",
         "legendgroup": "",
         "line": {
          "color": "#636efa",
          "dash": "solid",
          "shape": "hv"
         },
         "marker": {
          "symbol": "circle"
         },
         "mode": "lines",
         "name": "",
         "orientation": "v",
         "showlegend": false,
         "x": [
          21.0,
          53.55859375,
          85.05859375,
          120.0,
          152.396484375,
          181.396484375,
          210.955078125,
          236.455078125,
          258.0,
          282.0,
          305.0,
          322.5,
          339.5,
          357.5,
          373.0,
          386.46875,
          399.96875,
          413.5,
          427.306640625,
          441.306640625,
          454.865234375,
          467.365234375,
          478.423828125,
          488.923828125,
          499.0,
          508.26171875,
          516.802734375,
          526.041015625,
          535.5,
          545.0,
          555.158203125,
          564.658203125,
          572.5,
          580.5,
          589.5,
          598.0,
          605.5,
          613.0,
          620.5,
          628.0,
          635.5,
          643.5,
          652.0,
          659.0,
          665.568359375,
          672.068359375,
          678.5,
          685.5,
          692.5,
          699.5,
          705.0,
          711.0,
          718.0,
          724.0,
          730.0,
          736.140625,
          742.640625,
          749.0,
          755.0,
          761.5,
          767.5,
          773.0,
          778.5,
          783.5,
          789.0,
          794.5,
          800.0,
          805.5,
          811.0,
          817.0,
          822.5,
          828.0,
          833.5,
          839.0,
          845.0,
          850.0,
          854.5,
          860.0,
          866.0,
          871.5,
          877.0,
          883.0,
          888.681640625,
          894.681640625,
          901.0,
          907.0,
          912.5,
          918.0,
          924.357421875,
          930.357421875,
          936.0,
          942.0,
          947.974609375,
          953.474609375,
          959.5,
          966.0,
          971.5,
          977.0,
          982.5,
          988.0,
          994.0,
          1000.0,
          1006.0,
          1012.0,
          1018.0,
          1024.0,
          1030.5,
          1037.0,
          1043.0,
          1049.0,
          1054.5,
          1060.0,
          1065.560546875,
          1071.560546875,
          1078.5,
          1085.0,
          1091.0,
          1097.5,
          1105.0,
          1112.0,
          1119.0,
          1126.5,
          1132.5,
          1138.5,
          1145.412109375,
          1151.412109375,
          1156.5,
          1162.0,
          1168.0,
          1174.5,
          1181.0,
          1188.0,
          1195.0,
          1201.0,
          1208.0,
          1216.0,
          1223.5,
          1230.5,
          1237.822265625,
          1245.822265625,
          1253.5,
          1261.5,
          1269.439453125,
          1275.658203125,
          1281.716796875,
          1288.498046875,
          1296.0,
          1303.3359375,
          1310.3359375,
          1318.0,
          1326.173828125,
          1333.673828125,
          1340.5,
          1347.5,
          1355.0,
          1363.0703125,
          1370.5703125,
          1378.0,
          1386.5,
          1395.0,
          1404.0,
          1413.0,
          1422.0,
          1430.5,
          1439.5,
          1450.36328125,
          1459.86328125,
          1468.921875,
          1478.421875,
          1487.0,
          1496.0,
          1505.0,
          1513.5,
          1522.5,
          1531.876953125,
          1540.876953125,
          1550.0,
          1560.5,
          1571.5,
          1581.5,
          1591.052734375,
          1601.552734375,
          1613.611328125,
          1626.111328125,
          1638.0,
          1650.0,
          1661.0,
          1672.0,
          1683.0,
          1693.5,
          1705.5,
          1718.5,
          1732.5,
          1747.0,
          1761.0,
          1774.0,
          1787.5,
          1801.0,
          1814.0,
          1829.0,
          1843.5,
          1858.5,
          1874.697265625,
          1888.697265625,
          1903.0,
          1918.5,
          1934.314453125,
          1951.314453125,
          1969.0,
          1986.5,
          2005.0,
          2024.5,
          2042.5,
          2062.5,
          2085.0,
          2104.5,
          2127.5,
          2155.38671875,
          2181.38671875,
          2207.5,
          2234.5,
          2259.50390625,
          2285.50390625,
          2312.0625,
          2342.0625,
          2379.62109375,
          2420.521484375,
          2457.900390625,
          2495.458984375,
          2536.458984375,
          2575.53515625,
          2617.33203125,
          2660.873046875,
          2704.076171875,
          2752.0,
          2801.828125,
          2851.328125,
          2907.0,
          2967.751953125,
          3027.814453125,
          3093.0625,
          3166.5,
          3242.0,
          3343.1484375,
          3465.50390625,
          3568.35546875,
          3685.5,
          3827.0,
          3996.58984375,
          4236.0625,
          4510.6796875,
          4791.00390625,
          5233.201171875,
          5983.408203125,
          6991.91796875,
          21615.4140625
         ],
         "xaxis": "x",
         "y": [
          -0.01609165481097863,
          -0.01609165481097864,
          -0.05810973839899345,
          -0.019679329307597863,
          0.014387404391835916,
          -0.010831525224977722,
          -0.016858167303981843,
          -0.004223570795569423,
          0.0069032794526734794,
          0.004082530546798791,
          0.01116919405606375,
          -0.00990242393410164,
          -0.024275925777437105,
          -0.026138187197727793,
          -0.021537515711315673,
          -0.02030115105713801,
          -0.016047869742792216,
          -0.014660512116672129,
          -0.016699606247622074,
          -0.016699606247622074,
          -0.010953813769507124,
          -0.010461622347949322,
          -0.009492888141210456,
          -0.009492888141210456,
          -0.011408836974298285,
          -0.01068478597350861,
          3.038737308500279E-4,
          -8.143597612222236E-4,
          -0.002710035135360415,
          -0.003989507559637415,
          -8.470169350223116E-4,
          -0.004375645745515528,
          0.005075522714402225,
          0.005075522714402225,
          0.005901078694465673,
          0.004272251318442641,
          0.0022720468156921404,
          2.570578754503346E-4,
          -8.160034566950074E-4,
          -0.009123406962487502,
          -0.001270364515465426,
          -0.001270364515465426,
          -0.006329145710639099,
          -0.002220556162720686,
          -0.011555435057926767,
          -0.01315885756097931,
          -0.014522203024664867,
          -0.013089287202139947,
          -0.013089287202139947,
          -0.013089287202139947,
          -0.01382740927637014,
          -0.01382740927637014,
          -0.01382740927637014,
          -0.013513053405656365,
          -0.013513053405656365,
          -0.013513053405656365,
          -0.01614874163366918,
          -0.014007255792543107,
          -0.010969213392665765,
          -0.016803037462751372,
          -0.018896437606272288,
          -0.018896437606272288,
          -0.01747590235411455,
          -0.013878489780793486,
          -0.013878489780793486,
          -0.013878489780793486,
          -0.0197455412965203,
          -0.0197455412965203,
          -0.017509951664236655,
          -0.017509951664236655,
          -0.017509951664236655,
          -0.01958541351944997,
          -0.01958541351944997,
          -0.017525074225817196,
          -0.021353666089144466,
          -0.01804100747811007,
          -0.01773571386957139,
          -0.018142501808100505,
          -0.01835147261727636,
          -0.01835147261727636,
          -0.017834063013561583,
          -0.015885040186299566,
          -0.015885040186299566,
          -0.017123323316559764,
          -0.016144272267004815,
          -0.015151963692456307,
          -0.015151963692456307,
          -0.013036623407832659,
          -0.006101550107880348,
          -0.006265033405373879,
          -0.005357267241384745,
          -0.005085403329761033,
          -0.009575152515467707,
          -0.009575152515467707,
          -0.010331393306508828,
          -0.005192332774946882,
          -0.006703015177153157,
          -0.006703015177153157,
          -0.006703015177153157,
          -0.006703015177153157,
          -0.006703015177153157,
          -0.006156357596725423,
          -0.006156357596725423,
          -0.006636809987290326,
          -0.006636809987290326,
          -0.006636809987290326,
          -0.008335841788304882,
          -0.007714540586746665,
          -0.007714540586746665,
          -0.007714540586746665,
          -0.009169722236124188,
          -0.00722787470418747,
          -0.00722787470418747,
          0.0018256188209966357,
          -0.002029874880157253,
          0.001903725651010846,
          0.001903725651010846,
          -0.0013699775980560323,
          -0.002470473135667595,
          -0.0021428332319444647,
          -0.0021428332319444647,
          -6.546565230421596E-4,
          -6.546565230421596E-4,
          -6.546565230421596E-4,
          -0.0018939244639087761,
          -0.0018939244639087761,
          2.752324834036535E-4,
          -0.0013972341412255846,
          1.995843077491448E-4,
          1.995843077491448E-4,
          1.995843077491448E-4,
          -0.0025531107779572107,
          -0.0025531107779572107,
          -0.0025531107779572107,
          -0.0029869821500573585,
          -0.0029869821500573585,
          -0.0029869821500573585,
          -0.0029869821500573585,
          -0.0029869821500573585,
          -0.0029869821500573585,
          -0.0025757711370084434,
          -0.0025757711370084434,
          -2.1947317549482958E-4,
          -3.6227781628864024E-4,
          -3.6227781628864024E-4,
          -3.6227781628864024E-4,
          -0.002162218448912406,
          -0.0028297106572949104,
          -0.003120987954313043,
          -0.003120987954313043,
          -0.003120987954313043,
          -0.0040286854585542264,
          -0.0040286854585542264,
          -0.003520273208033448,
          -0.003520273208033448,
          -0.006337593631972447,
          -0.005185774276964708,
          -0.006709378359611847,
          -0.005190112003583068,
          -0.008138868752792672,
          -0.0068843050543826246,
          -0.006416712226155333,
          -0.00796036185340965,
          -0.007407276631736543,
          -0.003624135622294149,
          -0.0016540150939064174,
          -0.002732752070877082,
          -0.006246634386872653,
          -7.065601567466937E-4,
          0.002174186417124556,
          -9.551905451438804E-4,
          4.112115261467749E-5,
          9.39676296554653E-4,
          0.0014833300383897397,
          0.005123180702745512,
          0.009102631049264938,
          0.0066737036850593135,
          0.005860863244386904,
          0.0038925502307320765,
          0.005845676163794937,
          0.007085744836443181,
          0.006718608684399317,
          0.007415466917982393,
          0.01577022475203315,
          0.008897056508883946,
          0.010877386540040761,
          0.014176925919011653,
          0.014422568197080777,
          0.007829345939827127,
          0.01069477082695715,
          0.014668467504032232,
          0.022010788463439727,
          0.0025247750983232132,
          0.004248499262691149,
          0.004248499262691149,
          0.003944583387225042,
          0.011022063998278181,
          0.009762145774515634,
          0.01401328177045769,
          0.013288895443405366,
          0.014059639531778098,
          0.014059639531778098,
          0.015363537220606618,
          0.017622196057846175,
          0.017622196057846175,
          0.014688024497268455,
          0.013733377468747976,
          0.0113676852905015,
          0.013099004089460619,
          0.011590456361744264,
          0.008399937215378512,
          0.021670039091750422,
          0.026074545984989563,
          0.023574385111117636,
          0.024879963912887094,
          0.020198786685915626,
          0.020780086943504607,
          0.015286980991225092,
          0.017367205701532155,
          0.017528319221367626,
          0.01593794404695462,
          0.01661246801721662,
          0.01606819806452805,
          0.015503562994926183,
          0.015503562994926183,
          0.015503562994926183,
          0.014900698602199761,
          0.013288530605071184,
          0.013280479225729025,
          0.008582820168594397,
          0.018347678559304848,
          0.01590208694928863,
          0.025133189372456153,
          0.03421015145262873,
          0.03189688448771654,
          0.03066590407260685,
          0.03412144612488974,
          0.02825771854761251,
          0.017609816596274832,
          0.017609816596274832,
          0.022501043808839275,
          0.023910930795841546,
          0.022144005791455368,
          0.02177746622870131,
          0.023761491345691332,
          0.03681171597655044,
          0.030635022095488598,
          0.031227292711877793,
          0.027146241903284594,
          0.026061739003190067,
          0.0266803641585212,
          0.029428628634665832,
          0.033425600898009396,
          0.010756348239517368,
          0.01535868063944854,
          0.009174865652275314
         ],
         "yaxis": "y",
         "type": "scatter"
        },
        {
         "name": "Population distribution",
         "x": [
          21.0,
          53.55859375,
          85.05859375,
          120.0,
          152.396484375,
          181.396484375,
          210.955078125,
          236.455078125,
          258.0,
          282.0,
          305.0,
          322.5,
          339.5,
          357.5,
          373.0,
          386.46875,
          399.96875,
          413.5,
          427.306640625,
          441.306640625,
          454.865234375,
          467.365234375,
          478.423828125,
          488.923828125,
          499.0,
          508.26171875,
          516.802734375,
          526.041015625,
          535.5,
          545.0,
          555.158203125,
          564.658203125,
          572.5,
          580.5,
          589.5,
          598.0,
          605.5,
          613.0,
          620.5,
          628.0,
          635.5,
          643.5,
          652.0,
          659.0,
          665.568359375,
          672.068359375,
          678.5,
          685.5,
          692.5,
          699.5,
          705.0,
          711.0,
          718.0,
          724.0,
          730.0,
          736.140625,
          742.640625,
          749.0,
          755.0,
          761.5,
          767.5,
          773.0,
          778.5,
          783.5,
          789.0,
          794.5,
          800.0,
          805.5,
          811.0,
          817.0,
          822.5,
          828.0,
          833.5,
          839.0,
          845.0,
          850.0,
          854.5,
          860.0,
          866.0,
          871.5,
          877.0,
          883.0,
          888.681640625,
          894.681640625,
          901.0,
          907.0,
          912.5,
          918.0,
          924.357421875,
          930.357421875,
          936.0,
          942.0,
          947.974609375,
          953.474609375,
          959.5,
          966.0,
          971.5,
          977.0,
          982.5,
          988.0,
          994.0,
          1000.0,
          1006.0,
          1012.0,
          1018.0,
          1024.0,
          1030.5,
          1037.0,
          1043.0,
          1049.0,
          1054.5,
          1060.0,
          1065.560546875,
          1071.560546875,
          1078.5,
          1085.0,
          1091.0,
          1097.5,
          1105.0,
          1112.0,
          1119.0,
          1126.5,
          1132.5,
          1138.5,
          1145.412109375,
          1151.412109375,
          1156.5,
          1162.0,
          1168.0,
          1174.5,
          1181.0,
          1188.0,
          1195.0,
          1201.0,
          1208.0,
          1216.0,
          1223.5,
          1230.5,
          1237.822265625,
          1245.822265625,
          1253.5,
          1261.5,
          1269.439453125,
          1275.658203125,
          1281.716796875,
          1288.498046875,
          1296.0,
          1303.3359375,
          1310.3359375,
          1318.0,
          1326.173828125,
          1333.673828125,
          1340.5,
          1347.5,
          1355.0,
          1363.0703125,
          1370.5703125,
          1378.0,
          1386.5,
          1395.0,
          1404.0,
          1413.0,
          1422.0,
          1430.5,
          1439.5,
          1450.36328125,
          1459.86328125,
          1468.921875,
          1478.421875,
          1487.0,
          1496.0,
          1505.0,
          1513.5,
          1522.5,
          1531.876953125,
          1540.876953125,
          1550.0,
          1560.5,
          1571.5,
          1581.5,
          1591.052734375,
          1601.552734375,
          1613.611328125,
          1626.111328125,
          1638.0,
          1650.0,
          1661.0,
          1672.0,
          1683.0,
          1693.5,
          1705.5,
          1718.5,
          1732.5,
          1747.0,
          1761.0,
          1774.0,
          1787.5,
          1801.0,
          1814.0,
          1829.0,
          1843.5,
          1858.5,
          1874.697265625,
          1888.697265625,
          1903.0,
          1918.5,
          1934.314453125,
          1951.314453125,
          1969.0,
          1986.5,
          2005.0,
          2024.5,
          2042.5,
          2062.5,
          2085.0,
          2104.5,
          2127.5,
          2155.38671875,
          2181.38671875,
          2207.5,
          2234.5,
          2259.50390625,
          2285.50390625,
          2312.0625,
          2342.0625,
          2379.62109375,
          2420.521484375,
          2457.900390625,
          2495.458984375,
          2536.458984375,
          2575.53515625,
          2617.33203125,
          2660.873046875,
          2704.076171875,
          2752.0,
          2801.828125,
          2851.328125,
          2907.0,
          2967.751953125,
          3027.814453125,
          3093.0625,
          3166.5,
          3242.0,
          3343.1484375,
          3465.50390625,
          3568.35546875,
          3685.5,
          3827.0,
          3996.58984375,
          4236.0625,
          4510.6796875,
          4791.00390625,
          5233.201171875,
          5983.408203125,
          6991.91796875,
          21615.4140625
         ],
         "type": "histogram",
         "xaxis": "x3",
         "yaxis": "y3"
        },
        {
         "name": "",
         "y": [
          -0.01609165481097863,
          -0.01609165481097864,
          -0.05810973839899345,
          -0.019679329307597863,
          0.014387404391835916,
          -0.010831525224977722,
          -0.016858167303981843,
          -0.004223570795569423,
          0.0069032794526734794,
          0.004082530546798791,
          0.01116919405606375,
          -0.00990242393410164,
          -0.024275925777437105,
          -0.026138187197727793,
          -0.021537515711315673,
          -0.02030115105713801,
          -0.016047869742792216,
          -0.014660512116672129,
          -0.016699606247622074,
          -0.016699606247622074,
          -0.010953813769507124,
          -0.010461622347949322,
          -0.009492888141210456,
          -0.009492888141210456,
          -0.011408836974298285,
          -0.01068478597350861,
          3.038737308500279E-4,
          -8.143597612222236E-4,
          -0.002710035135360415,
          -0.003989507559637415,
          -8.470169350223116E-4,
          -0.004375645745515528,
          0.005075522714402225,
          0.005075522714402225,
          0.005901078694465673,
          0.004272251318442641,
          0.0022720468156921404,
          2.570578754503346E-4,
          -8.160034566950074E-4,
          -0.009123406962487502,
          -0.001270364515465426,
          -0.001270364515465426,
          -0.006329145710639099,
          -0.002220556162720686,
          -0.011555435057926767,
          -0.01315885756097931,
          -0.014522203024664867,
          -0.013089287202139947,
          -0.013089287202139947,
          -0.013089287202139947,
          -0.01382740927637014,
          -0.01382740927637014,
          -0.01382740927637014,
          -0.013513053405656365,
          -0.013513053405656365,
          -0.013513053405656365,
          -0.01614874163366918,
          -0.014007255792543107,
          -0.010969213392665765,
          -0.016803037462751372,
          -0.018896437606272288,
          -0.018896437606272288,
          -0.01747590235411455,
          -0.013878489780793486,
          -0.013878489780793486,
          -0.013878489780793486,
          -0.0197455412965203,
          -0.0197455412965203,
          -0.017509951664236655,
          -0.017509951664236655,
          -0.017509951664236655,
          -0.01958541351944997,
          -0.01958541351944997,
          -0.017525074225817196,
          -0.021353666089144466,
          -0.01804100747811007,
          -0.01773571386957139,
          -0.018142501808100505,
          -0.01835147261727636,
          -0.01835147261727636,
          -0.017834063013561583,
          -0.015885040186299566,
          -0.015885040186299566,
          -0.017123323316559764,
          -0.016144272267004815,
          -0.015151963692456307,
          -0.015151963692456307,
          -0.013036623407832659,
          -0.006101550107880348,
          -0.006265033405373879,
          -0.005357267241384745,
          -0.005085403329761033,
          -0.009575152515467707,
          -0.009575152515467707,
          -0.010331393306508828,
          -0.005192332774946882,
          -0.006703015177153157,
          -0.006703015177153157,
          -0.006703015177153157,
          -0.006703015177153157,
          -0.006703015177153157,
          -0.006156357596725423,
          -0.006156357596725423,
          -0.006636809987290326,
          -0.006636809987290326,
          -0.006636809987290326,
          -0.008335841788304882,
          -0.007714540586746665,
          -0.007714540586746665,
          -0.007714540586746665,
          -0.009169722236124188,
          -0.00722787470418747,
          -0.00722787470418747,
          0.0018256188209966357,
          -0.002029874880157253,
          0.001903725651010846,
          0.001903725651010846,
          -0.0013699775980560323,
          -0.002470473135667595,
          -0.0021428332319444647,
          -0.0021428332319444647,
          -6.546565230421596E-4,
          -6.546565230421596E-4,
          -6.546565230421596E-4,
          -0.0018939244639087761,
          -0.0018939244639087761,
          2.752324834036535E-4,
          -0.0013972341412255846,
          1.995843077491448E-4,
          1.995843077491448E-4,
          1.995843077491448E-4,
          -0.0025531107779572107,
          -0.0025531107779572107,
          -0.0025531107779572107,
          -0.0029869821500573585,
          -0.0029869821500573585,
          -0.0029869821500573585,
          -0.0029869821500573585,
          -0.0029869821500573585,
          -0.0029869821500573585,
          -0.0025757711370084434,
          -0.0025757711370084434,
          -2.1947317549482958E-4,
          -3.6227781628864024E-4,
          -3.6227781628864024E-4,
          -3.6227781628864024E-4,
          -0.002162218448912406,
          -0.0028297106572949104,
          -0.003120987954313043,
          -0.003120987954313043,
          -0.003120987954313043,
          -0.0040286854585542264,
          -0.0040286854585542264,
          -0.003520273208033448,
          -0.003520273208033448,
          -0.006337593631972447,
          -0.005185774276964708,
          -0.006709378359611847,
          -0.005190112003583068,
          -0.008138868752792672,
          -0.0068843050543826246,
          -0.006416712226155333,
          -0.00796036185340965,
          -0.007407276631736543,
          -0.003624135622294149,
          -0.0016540150939064174,
          -0.002732752070877082,
          -0.006246634386872653,
          -7.065601567466937E-4,
          0.002174186417124556,
          -9.551905451438804E-4,
          4.112115261467749E-5,
          9.39676296554653E-4,
          0.0014833300383897397,
          0.005123180702745512,
          0.009102631049264938,
          0.0066737036850593135,
          0.005860863244386904,
          0.0038925502307320765,
          0.005845676163794937,
          0.007085744836443181,
          0.006718608684399317,
          0.007415466917982393,
          0.01577022475203315,
          0.008897056508883946,
          0.010877386540040761,
          0.014176925919011653,
          0.014422568197080777,
          0.007829345939827127,
          0.01069477082695715,
          0.014668467504032232,
          0.022010788463439727,
          0.0025247750983232132,
          0.004248499262691149,
          0.004248499262691149,
          0.003944583387225042,
          0.011022063998278181,
          0.009762145774515634,
          0.01401328177045769,
          0.013288895443405366,
          0.014059639531778098,
          0.014059639531778098,
          0.015363537220606618,
          0.017622196057846175,
          0.017622196057846175,
          0.014688024497268455,
          0.013733377468747976,
          0.0113676852905015,
          0.013099004089460619,
          0.011590456361744264,
          0.008399937215378512,
          0.021670039091750422,
          0.026074545984989563,
          0.023574385111117636,
          0.024879963912887094,
          0.020198786685915626,
          0.020780086943504607,
          0.015286980991225092,
          0.017367205701532155,
          0.017528319221367626,
          0.01593794404695462,
          0.01661246801721662,
          0.01606819806452805,
          0.015503562994926183,
          0.015503562994926183,
          0.015503562994926183,
          0.014900698602199761,
          0.013288530605071184,
          0.013280479225729025,
          0.008582820168594397,
          0.018347678559304848,
          0.01590208694928863,
          0.025133189372456153,
          0.03421015145262873,
          0.03189688448771654,
          0.03066590407260685,
          0.03412144612488974,
          0.02825771854761251,
          0.017609816596274832,
          0.017609816596274832,
          0.022501043808839275,
          0.023910930795841546,
          0.022144005791455368,
          0.02177746622870131,
          0.023761491345691332,
          0.03681171597655044,
          0.030635022095488598,
          0.031227292711877793,
          0.027146241903284594,
          0.026061739003190067,
          0.0266803641585212,
          0.029428628634665832,
          0.033425600898009396,
          0.010756348239517368,
          0.01535868063944854,
          0.009174865652275314
         ],
         "type": "box",
         "xaxis": "x2",
         "yaxis": "y2"
        }
       ],
       "layout": {
        "template": {
         "data": {
          "histogram2dcontour": [
           {
            "type": "histogram2dcontour",
            "colorbar": {
             "outlinewidth": 0,
             "ticks": ""
            },
            "colorscale": [
             [
              0.0,
              "#0d0887"
             ],
             [
              0.1111111111111111,
              "#46039f"
             ],
             [
              0.2222222222222222,
              "#7201a8"
             ],
             [
              0.3333333333333333,
              "#9c179e"
             ],
             [
              0.4444444444444444,
              "#bd3786"
             ],
             [
              0.5555555555555556,
              "#d8576b"
             ],
             [
              0.6666666666666666,
              "#ed7953"
             ],
             [
              0.7777777777777778,
              "#fb9f3a"
             ],
             [
              0.8888888888888888,
              "#fdca26"
             ],
             [
              1.0,
              "#f0f921"
             ]
            ]
           }
          ],
          "choropleth": [
           {
            "type": "choropleth",
            "colorbar": {
             "outlinewidth": 0,
             "ticks": ""
            }
           }
          ],
          "histogram2d": [
           {
            "type": "histogram2d",
            "colorbar": {
             "outlinewidth": 0,
             "ticks": ""
            },
            "colorscale": [
             [
              0.0,
              "#0d0887"
             ],
             [
              0.1111111111111111,
              "#46039f"
             ],
             [
              0.2222222222222222,
              "#7201a8"
             ],
             [
              0.3333333333333333,
              "#9c179e"
             ],
             [
              0.4444444444444444,
              "#bd3786"
             ],
             [
              0.5555555555555556,
              "#d8576b"
             ],
             [
              0.6666666666666666,
              "#ed7953"
             ],
             [
              0.7777777777777778,
              "#fb9f3a"
             ],
             [
              0.8888888888888888,
              "#fdca26"
             ],
             [
              1.0,
              "#f0f921"
             ]
            ]
           }
          ],
          "heatmap": [
           {
            "type": "heatmap",
            "colorbar": {
             "outlinewidth": 0,
             "ticks": ""
            },
            "colorscale": [
             [
              0.0,
              "#0d0887"
             ],
             [
              0.1111111111111111,
              "#46039f"
             ],
             [
              0.2222222222222222,
              "#7201a8"
             ],
             [
              0.3333333333333333,
              "#9c179e"
             ],
             [
              0.4444444444444444,
              "#bd3786"
             ],
             [
              0.5555555555555556,
              "#d8576b"
             ],
             [
              0.6666666666666666,
              "#ed7953"
             ],
             [
              0.7777777777777778,
              "#fb9f3a"
             ],
             [
              0.8888888888888888,
              "#fdca26"
             ],
             [
              1.0,
              "#f0f921"
             ]
            ]
           }
          ],
          "heatmapgl": [
           {
            "type": "heatmapgl",
            "colorbar": {
             "outlinewidth": 0,
             "ticks": ""
            },
            "colorscale": [
             [
              0.0,
              "#0d0887"
             ],
             [
              0.1111111111111111,
              "#46039f"
             ],
             [
              0.2222222222222222,
              "#7201a8"
             ],
             [
              0.3333333333333333,
              "#9c179e"
             ],
             [
              0.4444444444444444,
              "#bd3786"
             ],
             [
              0.5555555555555556,
              "#d8576b"
             ],
             [
              0.6666666666666666,
              "#ed7953"
             ],
             [
              0.7777777777777778,
              "#fb9f3a"
             ],
             [
              0.8888888888888888,
              "#fdca26"
             ],
             [
              1.0,
              "#f0f921"
             ]
            ]
           }
          ],
          "contourcarpet": [
           {
            "type": "contourcarpet",
            "colorbar": {
             "outlinewidth": 0,
             "ticks": ""
            }
           }
          ],
          "contour": [
           {
            "type": "contour",
            "colorbar": {
             "outlinewidth": 0,
             "ticks": ""
            },
            "colorscale": [
             [
              0.0,
              "#0d0887"
             ],
             [
              0.1111111111111111,
              "#46039f"
             ],
             [
              0.2222222222222222,
              "#7201a8"
             ],
             [
              0.3333333333333333,
              "#9c179e"
             ],
             [
              0.4444444444444444,
              "#bd3786"
             ],
             [
              0.5555555555555556,
              "#d8576b"
             ],
             [
              0.6666666666666666,
              "#ed7953"
             ],
             [
              0.7777777777777778,
              "#fb9f3a"
             ],
             [
              0.8888888888888888,
              "#fdca26"
             ],
             [
              1.0,
              "#f0f921"
             ]
            ]
           }
          ],
          "surface": [
           {
            "type": "surface",
            "colorbar": {
             "outlinewidth": 0,
             "ticks": ""
            },
            "colorscale": [
             [
              0.0,
              "#0d0887"
             ],
             [
              0.1111111111111111,
              "#46039f"
             ],
             [
              0.2222222222222222,
              "#7201a8"
             ],
             [
              0.3333333333333333,
              "#9c179e"
             ],
             [
              0.4444444444444444,
              "#bd3786"
             ],
             [
              0.5555555555555556,
              "#d8576b"
             ],
             [
              0.6666666666666666,
              "#ed7953"
             ],
             [
              0.7777777777777778,
              "#fb9f3a"
             ],
             [
              0.8888888888888888,
              "#fdca26"
             ],
             [
              1.0,
              "#f0f921"
             ]
            ]
           }
          ],
          "mesh3d": [
           {
            "type": "mesh3d",
            "colorbar": {
             "outlinewidth": 0,
             "ticks": ""
            }
           }
          ],
          "scatter": [
           {
            "fillpattern": {
             "fillmode": "overlay",
             "size": 10,
             "solidity": 0.2
            },
            "type": "scatter"
           }
          ],
          "parcoords": [
           {
            "type": "parcoords",
            "line": {
             "colorbar": {
              "outlinewidth": 0,
              "ticks": ""
             }
            }
           }
          ],
          "scatterpolargl": [
           {
            "type": "scatterpolargl",
            "marker": {
             "colorbar": {
              "outlinewidth": 0,
              "ticks": ""
             }
            }
           }
          ],
          "bar": [
           {
            "error_x": {
             "color": "#2a3f5f"
            },
            "error_y": {
             "color": "#2a3f5f"
            },
            "marker": {
             "line": {
              "color": "#E5ECF6",
              "width": 0.5
             },
             "pattern": {
              "fillmode": "overlay",
              "size": 10,
              "solidity": 0.2
             }
            },
            "type": "bar"
           }
          ],
          "scattergeo": [
           {
            "type": "scattergeo",
            "marker": {
             "colorbar": {
              "outlinewidth": 0,
              "ticks": ""
             }
            }
           }
          ],
          "scatterpolar": [
           {
            "type": "scatterpolar",
            "marker": {
             "colorbar": {
              "outlinewidth": 0,
              "ticks": ""
             }
            }
           }
          ],
          "histogram": [
           {
            "marker": {
             "pattern": {
              "fillmode": "overlay",
              "size": 10,
              "solidity": 0.2
             }
            },
            "type": "histogram"
           }
          ],
          "scattergl": [
           {
            "type": "scattergl",
            "marker": {
             "colorbar": {
              "outlinewidth": 0,
              "ticks": ""
             }
            }
           }
          ],
          "scatter3d": [
           {
            "type": "scatter3d",
            "line": {
             "colorbar": {
              "outlinewidth": 0,
              "ticks": ""
             }
            },
            "marker": {
             "colorbar": {
              "outlinewidth": 0,
              "ticks": ""
             }
            }
           }
          ],
          "scattermapbox": [
           {
            "type": "scattermapbox",
            "marker": {
             "colorbar": {
              "outlinewidth": 0,
              "ticks": ""
             }
            }
           }
          ],
          "scatterternary": [
           {
            "type": "scatterternary",
            "marker": {
             "colorbar": {
              "outlinewidth": 0,
              "ticks": ""
             }
            }
           }
          ],
          "scattercarpet": [
           {
            "type": "scattercarpet",
            "marker": {
             "colorbar": {
              "outlinewidth": 0,
              "ticks": ""
             }
            }
           }
          ],
          "carpet": [
           {
            "aaxis": {
             "endlinecolor": "#2a3f5f",
             "gridcolor": "white",
             "linecolor": "white",
             "minorgridcolor": "white",
             "startlinecolor": "#2a3f5f"
            },
            "baxis": {
             "endlinecolor": "#2a3f5f",
             "gridcolor": "white",
             "linecolor": "white",
             "minorgridcolor": "white",
             "startlinecolor": "#2a3f5f"
            },
            "type": "carpet"
           }
          ],
          "table": [
           {
            "cells": {
             "fill": {
              "color": "#EBF0F8"
             },
             "line": {
              "color": "white"
             }
            },
            "header": {
             "fill": {
              "color": "#C8D4E3"
             },
             "line": {
              "color": "white"
             }
            },
            "type": "table"
           }
          ],
          "barpolar": [
           {
            "marker": {
             "line": {
              "color": "#E5ECF6",
              "width": 0.5
             },
             "pattern": {
              "fillmode": "overlay",
              "size": 10,
              "solidity": 0.2
             }
            },
            "type": "barpolar"
           }
          ],
          "pie": [
           {
            "automargin": true,
            "type": "pie"
           }
          ]
         },
         "layout": {
          "autotypenumbers": "strict",
          "colorway": [
           "#636efa",
           "#EF553B",
           "#00cc96",
           "#ab63fa",
           "#FFA15A",
           "#19d3f3",
           "#FF6692",
           "#B6E880",
           "#FF97FF",
           "#FECB52"
          ],
          "font": {
           "color": "#2a3f5f"
          },
          "hovermode": "closest",
          "hoverlabel": {
           "align": "left"
          },
          "paper_bgcolor": "white",
          "plot_bgcolor": "#E5ECF6",
          "polar": {
           "bgcolor": "#E5ECF6",
           "angularaxis": {
            "gridcolor": "white",
            "linecolor": "white",
            "ticks": ""
           },
           "radialaxis": {
            "gridcolor": "white",
            "linecolor": "white",
            "ticks": ""
           }
          },
          "ternary": {
           "bgcolor": "#E5ECF6",
           "aaxis": {
            "gridcolor": "white",
            "linecolor": "white",
            "ticks": ""
           },
           "baxis": {
            "gridcolor": "white",
            "linecolor": "white",
            "ticks": ""
           },
           "caxis": {
            "gridcolor": "white",
            "linecolor": "white",
            "ticks": ""
           }
          },
          "coloraxis": {
           "colorbar": {
            "outlinewidth": 0,
            "ticks": ""
           }
          },
          "colorscale": {
           "sequential": [
            [
             0.0,
             "#0d0887"
            ],
            [
             0.1111111111111111,
             "#46039f"
            ],
            [
             0.2222222222222222,
             "#7201a8"
            ],
            [
             0.3333333333333333,
             "#9c179e"
            ],
            [
             0.4444444444444444,
             "#bd3786"
            ],
            [
             0.5555555555555556,
             "#d8576b"
            ],
            [
             0.6666666666666666,
             "#ed7953"
            ],
            [
             0.7777777777777778,
             "#fb9f3a"
            ],
            [
             0.8888888888888888,
             "#fdca26"
            ],
            [
             1.0,
             "#f0f921"
            ]
           ],
           "sequentialminus": [
            [
             0.0,
             "#0d0887"
            ],
            [
             0.1111111111111111,
             "#46039f"
            ],
            [
             0.2222222222222222,
             "#7201a8"
            ],
            [
             0.3333333333333333,
             "#9c179e"
            ],
            [
             0.4444444444444444,
             "#bd3786"
            ],
            [
             0.5555555555555556,
             "#d8576b"
            ],
            [
             0.6666666666666666,
             "#ed7953"
            ],
            [
             0.7777777777777778,
             "#fb9f3a"
            ],
            [
             0.8888888888888888,
             "#fdca26"
            ],
            [
             1.0,
             "#f0f921"
            ]
           ],
           "diverging": [
            [
             0,
             "#8e0152"
            ],
            [
             0.1,
             "#c51b7d"
            ],
            [
             0.2,
             "#de77ae"
            ],
            [
             0.3,
             "#f1b6da"
            ],
            [
             0.4,
             "#fde0ef"
            ],
            [
             0.5,
             "#f7f7f7"
            ],
            [
             0.6,
             "#e6f5d0"
            ],
            [
             0.7,
             "#b8e186"
            ],
            [
             0.8,
             "#7fbc41"
            ],
            [
             0.9,
             "#4d9221"
            ],
            [
             1,
             "#276419"
            ]
           ]
          },
          "xaxis": {
           "gridcolor": "white",
           "linecolor": "white",
           "ticks": "",
           "title": {
            "standoff": 15
           },
           "zerolinecolor": "white",
           "automargin": true,
           "zerolinewidth": 2
          },
          "yaxis": {
           "gridcolor": "white",
           "linecolor": "white",
           "ticks": "",
           "title": {
            "standoff": 15
           },
           "zerolinecolor": "white",
           "automargin": true,
           "zerolinewidth": 2
          },
          "scene": {
           "xaxis": {
            "backgroundcolor": "#E5ECF6",
            "gridcolor": "white",
            "linecolor": "white",
            "showbackground": true,
            "ticks": "",
            "zerolinecolor": "white",
            "gridwidth": 2
           },
           "yaxis": {
            "backgroundcolor": "#E5ECF6",
            "gridcolor": "white",
            "linecolor": "white",
            "showbackground": true,
            "ticks": "",
            "zerolinecolor": "white",
            "gridwidth": 2
           },
           "zaxis": {
            "backgroundcolor": "#E5ECF6",
            "gridcolor": "white",
            "linecolor": "white",
            "showbackground": true,
            "ticks": "",
            "zerolinecolor": "white",
            "gridwidth": 2
           }
          },
          "shapedefaults": {
           "line": {
            "color": "#2a3f5f"
           }
          },
          "annotationdefaults": {
           "arrowcolor": "#2a3f5f",
           "arrowhead": 0,
           "arrowwidth": 1
          },
          "geo": {
           "bgcolor": "white",
           "landcolor": "#E5ECF6",
           "subunitcolor": "white",
           "showland": true,
           "showlakes": true,
           "lakecolor": "white"
          },
          "title": {
           "x": 0.05
          },
          "mapbox": {
           "style": "light"
          }
         }
        },
        "xaxis": {
         "anchor": "y",
         "domain": [
          0.0,
          0.784
         ],
         "matches": "x3",
         "showticklabels": false
        },
        "yaxis": {
         "anchor": "x",
         "domain": [
          0.51,
          1.0
         ],
         "title": {
          "text": "Contribution"
         }
        },
        "xaxis2": {
         "anchor": "y2",
         "domain": [
          0.804,
          1.0
         ],
         "matches": "x4",
         "showticklabels": false
        },
        "yaxis2": {
         "anchor": "x2",
         "domain": [
          0.51,
          1.0
         ],
         "matches": "y",
         "showticklabels": false
        },
        "xaxis3": {
         "anchor": "y3",
         "domain": [
          0.0,
          0.784
         ],
         "title": {
          "text": "Population"
         }
        },
        "yaxis3": {
         "anchor": "x3",
         "domain": [
          0.0,
          0.49
         ],
         "title": {
          "text": "Count"
         }
        },
        "xaxis4": {
         "anchor": "y4",
         "domain": [
          0.804,
          1.0
         ]
        },
        "yaxis4": {
         "anchor": "x4",
         "domain": [
          0.0,
          0.49
         ],
         "matches": "y3",
         "showticklabels": false
        },
        "annotations": [
         {
          "font": {
           "size": 16
          },
          "showarrow": false,
          "text": "MedHouseVal prediction",
          "x": 0.392,
          "xanchor": "center",
          "xref": "paper",
          "y": 1.0,
          "yanchor": "bottom",
          "yref": "paper"
         },
         {
          "font": {
           "size": 16
          },
          "showarrow": false,
          "text": "Contribution distribution",
          "x": 0.902,
          "xanchor": "center",
          "xref": "paper",
          "y": 1.0,
          "yanchor": "bottom",
          "yref": "paper"
         }
        ],
        "showlegend": false,
        "title": {
         "text": "Contributions are on the same scale as MedHouseVal,<br>and centered vertically on the train set."
        }
       },
       "config": {
        "plotlyServerURL": "https://plot.ly"
       }
      },
      "text/html": "<div>                            <div id=\"00cb7e8f-8a50-4ea4-b140-bdf372ec3015\" class=\"plotly-graph-div\" style=\"height:525px; width:100%;\"></div>            <script type=\"text/javascript\">                require([\"plotly\"], function(Plotly) {                    window.PLOTLYENV=window.PLOTLYENV || {};                                    if (document.getElementById(\"00cb7e8f-8a50-4ea4-b140-bdf372ec3015\")) {                    Plotly.newPlot(                        \"00cb7e8f-8a50-4ea4-b140-bdf372ec3015\",                        [{\"hovertemplate\":\"x=%{x}<br>y=%{y}<extra></extra>\",\"legendgroup\":\"\",\"line\":{\"color\":\"#636efa\",\"dash\":\"solid\",\"shape\":\"hv\"},\"marker\":{\"symbol\":\"circle\"},\"mode\":\"lines\",\"name\":\"\",\"orientation\":\"v\",\"showlegend\":false,\"x\":[21.0,53.55859375,85.05859375,120.0,152.396484375,181.396484375,210.955078125,236.455078125,258.0,282.0,305.0,322.5,339.5,357.5,373.0,386.46875,399.96875,413.5,427.306640625,441.306640625,454.865234375,467.365234375,478.423828125,488.923828125,499.0,508.26171875,516.802734375,526.041015625,535.5,545.0,555.158203125,564.658203125,572.5,580.5,589.5,598.0,605.5,613.0,620.5,628.0,635.5,643.5,652.0,659.0,665.568359375,672.068359375,678.5,685.5,692.5,699.5,705.0,711.0,718.0,724.0,730.0,736.140625,742.640625,749.0,755.0,761.5,767.5,773.0,778.5,783.5,789.0,794.5,800.0,805.5,811.0,817.0,822.5,828.0,833.5,839.0,845.0,850.0,854.5,860.0,866.0,871.5,877.0,883.0,888.681640625,894.681640625,901.0,907.0,912.5,918.0,924.357421875,930.357421875,936.0,942.0,947.974609375,953.474609375,959.5,966.0,971.5,977.0,982.5,988.0,994.0,1000.0,1006.0,1012.0,1018.0,1024.0,1030.5,1037.0,1043.0,1049.0,1054.5,1060.0,1065.560546875,1071.560546875,1078.5,1085.0,1091.0,1097.5,1105.0,1112.0,1119.0,1126.5,1132.5,1138.5,1145.412109375,1151.412109375,1156.5,1162.0,1168.0,1174.5,1181.0,1188.0,1195.0,1201.0,1208.0,1216.0,1223.5,1230.5,1237.822265625,1245.822265625,1253.5,1261.5,1269.439453125,1275.658203125,1281.716796875,1288.498046875,1296.0,1303.3359375,1310.3359375,1318.0,1326.173828125,1333.673828125,1340.5,1347.5,1355.0,1363.0703125,1370.5703125,1378.0,1386.5,1395.0,1404.0,1413.0,1422.0,1430.5,1439.5,1450.36328125,1459.86328125,1468.921875,1478.421875,1487.0,1496.0,1505.0,1513.5,1522.5,1531.876953125,1540.876953125,1550.0,1560.5,1571.5,1581.5,1591.052734375,1601.552734375,1613.611328125,1626.111328125,1638.0,1650.0,1661.0,1672.0,1683.0,1693.5,1705.5,1718.5,1732.5,1747.0,1761.0,1774.0,1787.5,1801.0,1814.0,1829.0,1843.5,1858.5,1874.697265625,1888.697265625,1903.0,1918.5,1934.314453125,1951.314453125,1969.0,1986.5,2005.0,2024.5,2042.5,2062.5,2085.0,2104.5,2127.5,2155.38671875,2181.38671875,2207.5,2234.5,2259.50390625,2285.50390625,2312.0625,2342.0625,2379.62109375,2420.521484375,2457.900390625,2495.458984375,2536.458984375,2575.53515625,2617.33203125,2660.873046875,2704.076171875,2752.0,2801.828125,2851.328125,2907.0,2967.751953125,3027.814453125,3093.0625,3166.5,3242.0,3343.1484375,3465.50390625,3568.35546875,3685.5,3827.0,3996.58984375,4236.0625,4510.6796875,4791.00390625,5233.201171875,5983.408203125,6991.91796875,21615.4140625],\"xaxis\":\"x\",\"y\":[-0.01609165481097863,-0.01609165481097864,-0.05810973839899345,-0.019679329307597863,0.014387404391835916,-0.010831525224977722,-0.016858167303981843,-0.004223570795569423,0.0069032794526734794,0.004082530546798791,0.01116919405606375,-0.00990242393410164,-0.024275925777437105,-0.026138187197727793,-0.021537515711315673,-0.02030115105713801,-0.016047869742792216,-0.014660512116672129,-0.016699606247622074,-0.016699606247622074,-0.010953813769507124,-0.010461622347949322,-0.009492888141210456,-0.009492888141210456,-0.011408836974298285,-0.01068478597350861,0.0003038737308500279,-0.0008143597612222236,-0.002710035135360415,-0.003989507559637415,-0.0008470169350223116,-0.004375645745515528,0.005075522714402225,0.005075522714402225,0.005901078694465673,0.004272251318442641,0.0022720468156921404,0.0002570578754503346,-0.0008160034566950074,-0.009123406962487502,-0.001270364515465426,-0.001270364515465426,-0.006329145710639099,-0.002220556162720686,-0.011555435057926767,-0.01315885756097931,-0.014522203024664867,-0.013089287202139947,-0.013089287202139947,-0.013089287202139947,-0.01382740927637014,-0.01382740927637014,-0.01382740927637014,-0.013513053405656365,-0.013513053405656365,-0.013513053405656365,-0.01614874163366918,-0.014007255792543107,-0.010969213392665765,-0.016803037462751372,-0.018896437606272288,-0.018896437606272288,-0.01747590235411455,-0.013878489780793486,-0.013878489780793486,-0.013878489780793486,-0.0197455412965203,-0.0197455412965203,-0.017509951664236655,-0.017509951664236655,-0.017509951664236655,-0.01958541351944997,-0.01958541351944997,-0.017525074225817196,-0.021353666089144466,-0.01804100747811007,-0.01773571386957139,-0.018142501808100505,-0.01835147261727636,-0.01835147261727636,-0.017834063013561583,-0.015885040186299566,-0.015885040186299566,-0.017123323316559764,-0.016144272267004815,-0.015151963692456307,-0.015151963692456307,-0.013036623407832659,-0.006101550107880348,-0.006265033405373879,-0.005357267241384745,-0.005085403329761033,-0.009575152515467707,-0.009575152515467707,-0.010331393306508828,-0.005192332774946882,-0.006703015177153157,-0.006703015177153157,-0.006703015177153157,-0.006703015177153157,-0.006703015177153157,-0.006156357596725423,-0.006156357596725423,-0.006636809987290326,-0.006636809987290326,-0.006636809987290326,-0.008335841788304882,-0.007714540586746665,-0.007714540586746665,-0.007714540586746665,-0.009169722236124188,-0.00722787470418747,-0.00722787470418747,0.0018256188209966357,-0.002029874880157253,0.001903725651010846,0.001903725651010846,-0.0013699775980560323,-0.002470473135667595,-0.0021428332319444647,-0.0021428332319444647,-0.0006546565230421596,-0.0006546565230421596,-0.0006546565230421596,-0.0018939244639087761,-0.0018939244639087761,0.0002752324834036535,-0.0013972341412255846,0.0001995843077491448,0.0001995843077491448,0.0001995843077491448,-0.0025531107779572107,-0.0025531107779572107,-0.0025531107779572107,-0.0029869821500573585,-0.0029869821500573585,-0.0029869821500573585,-0.0029869821500573585,-0.0029869821500573585,-0.0029869821500573585,-0.0025757711370084434,-0.0025757711370084434,-0.00021947317549482958,-0.00036227781628864024,-0.00036227781628864024,-0.00036227781628864024,-0.002162218448912406,-0.0028297106572949104,-0.003120987954313043,-0.003120987954313043,-0.003120987954313043,-0.0040286854585542264,-0.0040286854585542264,-0.003520273208033448,-0.003520273208033448,-0.006337593631972447,-0.005185774276964708,-0.006709378359611847,-0.005190112003583068,-0.008138868752792672,-0.0068843050543826246,-0.006416712226155333,-0.00796036185340965,-0.007407276631736543,-0.003624135622294149,-0.0016540150939064174,-0.002732752070877082,-0.006246634386872653,-0.0007065601567466937,0.002174186417124556,-0.0009551905451438804,4.112115261467749e-05,0.000939676296554653,0.0014833300383897397,0.005123180702745512,0.009102631049264938,0.0066737036850593135,0.005860863244386904,0.0038925502307320765,0.005845676163794937,0.007085744836443181,0.006718608684399317,0.007415466917982393,0.01577022475203315,0.008897056508883946,0.010877386540040761,0.014176925919011653,0.014422568197080777,0.007829345939827127,0.01069477082695715,0.014668467504032232,0.022010788463439727,0.0025247750983232132,0.004248499262691149,0.004248499262691149,0.003944583387225042,0.011022063998278181,0.009762145774515634,0.01401328177045769,0.013288895443405366,0.014059639531778098,0.014059639531778098,0.015363537220606618,0.017622196057846175,0.017622196057846175,0.014688024497268455,0.013733377468747976,0.0113676852905015,0.013099004089460619,0.011590456361744264,0.008399937215378512,0.021670039091750422,0.026074545984989563,0.023574385111117636,0.024879963912887094,0.020198786685915626,0.020780086943504607,0.015286980991225092,0.017367205701532155,0.017528319221367626,0.01593794404695462,0.01661246801721662,0.01606819806452805,0.015503562994926183,0.015503562994926183,0.015503562994926183,0.014900698602199761,0.013288530605071184,0.013280479225729025,0.008582820168594397,0.018347678559304848,0.01590208694928863,0.025133189372456153,0.03421015145262873,0.03189688448771654,0.03066590407260685,0.03412144612488974,0.02825771854761251,0.017609816596274832,0.017609816596274832,0.022501043808839275,0.023910930795841546,0.022144005791455368,0.02177746622870131,0.023761491345691332,0.03681171597655044,0.030635022095488598,0.031227292711877793,0.027146241903284594,0.026061739003190067,0.0266803641585212,0.029428628634665832,0.033425600898009396,0.010756348239517368,0.01535868063944854,0.009174865652275314],\"yaxis\":\"y\",\"type\":\"scatter\"},{\"name\":\"Population distribution\",\"x\":[21.0,53.55859375,85.05859375,120.0,152.396484375,181.396484375,210.955078125,236.455078125,258.0,282.0,305.0,322.5,339.5,357.5,373.0,386.46875,399.96875,413.5,427.306640625,441.306640625,454.865234375,467.365234375,478.423828125,488.923828125,499.0,508.26171875,516.802734375,526.041015625,535.5,545.0,555.158203125,564.658203125,572.5,580.5,589.5,598.0,605.5,613.0,620.5,628.0,635.5,643.5,652.0,659.0,665.568359375,672.068359375,678.5,685.5,692.5,699.5,705.0,711.0,718.0,724.0,730.0,736.140625,742.640625,749.0,755.0,761.5,767.5,773.0,778.5,783.5,789.0,794.5,800.0,805.5,811.0,817.0,822.5,828.0,833.5,839.0,845.0,850.0,854.5,860.0,866.0,871.5,877.0,883.0,888.681640625,894.681640625,901.0,907.0,912.5,918.0,924.357421875,930.357421875,936.0,942.0,947.974609375,953.474609375,959.5,966.0,971.5,977.0,982.5,988.0,994.0,1000.0,1006.0,1012.0,1018.0,1024.0,1030.5,1037.0,1043.0,1049.0,1054.5,1060.0,1065.560546875,1071.560546875,1078.5,1085.0,1091.0,1097.5,1105.0,1112.0,1119.0,1126.5,1132.5,1138.5,1145.412109375,1151.412109375,1156.5,1162.0,1168.0,1174.5,1181.0,1188.0,1195.0,1201.0,1208.0,1216.0,1223.5,1230.5,1237.822265625,1245.822265625,1253.5,1261.5,1269.439453125,1275.658203125,1281.716796875,1288.498046875,1296.0,1303.3359375,1310.3359375,1318.0,1326.173828125,1333.673828125,1340.5,1347.5,1355.0,1363.0703125,1370.5703125,1378.0,1386.5,1395.0,1404.0,1413.0,1422.0,1430.5,1439.5,1450.36328125,1459.86328125,1468.921875,1478.421875,1487.0,1496.0,1505.0,1513.5,1522.5,1531.876953125,1540.876953125,1550.0,1560.5,1571.5,1581.5,1591.052734375,1601.552734375,1613.611328125,1626.111328125,1638.0,1650.0,1661.0,1672.0,1683.0,1693.5,1705.5,1718.5,1732.5,1747.0,1761.0,1774.0,1787.5,1801.0,1814.0,1829.0,1843.5,1858.5,1874.697265625,1888.697265625,1903.0,1918.5,1934.314453125,1951.314453125,1969.0,1986.5,2005.0,2024.5,2042.5,2062.5,2085.0,2104.5,2127.5,2155.38671875,2181.38671875,2207.5,2234.5,2259.50390625,2285.50390625,2312.0625,2342.0625,2379.62109375,2420.521484375,2457.900390625,2495.458984375,2536.458984375,2575.53515625,2617.33203125,2660.873046875,2704.076171875,2752.0,2801.828125,2851.328125,2907.0,2967.751953125,3027.814453125,3093.0625,3166.5,3242.0,3343.1484375,3465.50390625,3568.35546875,3685.5,3827.0,3996.58984375,4236.0625,4510.6796875,4791.00390625,5233.201171875,5983.408203125,6991.91796875,21615.4140625],\"type\":\"histogram\",\"xaxis\":\"x3\",\"yaxis\":\"y3\"},{\"name\":\"\",\"y\":[-0.01609165481097863,-0.01609165481097864,-0.05810973839899345,-0.019679329307597863,0.014387404391835916,-0.010831525224977722,-0.016858167303981843,-0.004223570795569423,0.0069032794526734794,0.004082530546798791,0.01116919405606375,-0.00990242393410164,-0.024275925777437105,-0.026138187197727793,-0.021537515711315673,-0.02030115105713801,-0.016047869742792216,-0.014660512116672129,-0.016699606247622074,-0.016699606247622074,-0.010953813769507124,-0.010461622347949322,-0.009492888141210456,-0.009492888141210456,-0.011408836974298285,-0.01068478597350861,0.0003038737308500279,-0.0008143597612222236,-0.002710035135360415,-0.003989507559637415,-0.0008470169350223116,-0.004375645745515528,0.005075522714402225,0.005075522714402225,0.005901078694465673,0.004272251318442641,0.0022720468156921404,0.0002570578754503346,-0.0008160034566950074,-0.009123406962487502,-0.001270364515465426,-0.001270364515465426,-0.006329145710639099,-0.002220556162720686,-0.011555435057926767,-0.01315885756097931,-0.014522203024664867,-0.013089287202139947,-0.013089287202139947,-0.013089287202139947,-0.01382740927637014,-0.01382740927637014,-0.01382740927637014,-0.013513053405656365,-0.013513053405656365,-0.013513053405656365,-0.01614874163366918,-0.014007255792543107,-0.010969213392665765,-0.016803037462751372,-0.018896437606272288,-0.018896437606272288,-0.01747590235411455,-0.013878489780793486,-0.013878489780793486,-0.013878489780793486,-0.0197455412965203,-0.0197455412965203,-0.017509951664236655,-0.017509951664236655,-0.017509951664236655,-0.01958541351944997,-0.01958541351944997,-0.017525074225817196,-0.021353666089144466,-0.01804100747811007,-0.01773571386957139,-0.018142501808100505,-0.01835147261727636,-0.01835147261727636,-0.017834063013561583,-0.015885040186299566,-0.015885040186299566,-0.017123323316559764,-0.016144272267004815,-0.015151963692456307,-0.015151963692456307,-0.013036623407832659,-0.006101550107880348,-0.006265033405373879,-0.005357267241384745,-0.005085403329761033,-0.009575152515467707,-0.009575152515467707,-0.010331393306508828,-0.005192332774946882,-0.006703015177153157,-0.006703015177153157,-0.006703015177153157,-0.006703015177153157,-0.006703015177153157,-0.006156357596725423,-0.006156357596725423,-0.006636809987290326,-0.006636809987290326,-0.006636809987290326,-0.008335841788304882,-0.007714540586746665,-0.007714540586746665,-0.007714540586746665,-0.009169722236124188,-0.00722787470418747,-0.00722787470418747,0.0018256188209966357,-0.002029874880157253,0.001903725651010846,0.001903725651010846,-0.0013699775980560323,-0.002470473135667595,-0.0021428332319444647,-0.0021428332319444647,-0.0006546565230421596,-0.0006546565230421596,-0.0006546565230421596,-0.0018939244639087761,-0.0018939244639087761,0.0002752324834036535,-0.0013972341412255846,0.0001995843077491448,0.0001995843077491448,0.0001995843077491448,-0.0025531107779572107,-0.0025531107779572107,-0.0025531107779572107,-0.0029869821500573585,-0.0029869821500573585,-0.0029869821500573585,-0.0029869821500573585,-0.0029869821500573585,-0.0029869821500573585,-0.0025757711370084434,-0.0025757711370084434,-0.00021947317549482958,-0.00036227781628864024,-0.00036227781628864024,-0.00036227781628864024,-0.002162218448912406,-0.0028297106572949104,-0.003120987954313043,-0.003120987954313043,-0.003120987954313043,-0.0040286854585542264,-0.0040286854585542264,-0.003520273208033448,-0.003520273208033448,-0.006337593631972447,-0.005185774276964708,-0.006709378359611847,-0.005190112003583068,-0.008138868752792672,-0.0068843050543826246,-0.006416712226155333,-0.00796036185340965,-0.007407276631736543,-0.003624135622294149,-0.0016540150939064174,-0.002732752070877082,-0.006246634386872653,-0.0007065601567466937,0.002174186417124556,-0.0009551905451438804,4.112115261467749e-05,0.000939676296554653,0.0014833300383897397,0.005123180702745512,0.009102631049264938,0.0066737036850593135,0.005860863244386904,0.0038925502307320765,0.005845676163794937,0.007085744836443181,0.006718608684399317,0.007415466917982393,0.01577022475203315,0.008897056508883946,0.010877386540040761,0.014176925919011653,0.014422568197080777,0.007829345939827127,0.01069477082695715,0.014668467504032232,0.022010788463439727,0.0025247750983232132,0.004248499262691149,0.004248499262691149,0.003944583387225042,0.011022063998278181,0.009762145774515634,0.01401328177045769,0.013288895443405366,0.014059639531778098,0.014059639531778098,0.015363537220606618,0.017622196057846175,0.017622196057846175,0.014688024497268455,0.013733377468747976,0.0113676852905015,0.013099004089460619,0.011590456361744264,0.008399937215378512,0.021670039091750422,0.026074545984989563,0.023574385111117636,0.024879963912887094,0.020198786685915626,0.020780086943504607,0.015286980991225092,0.017367205701532155,0.017528319221367626,0.01593794404695462,0.01661246801721662,0.01606819806452805,0.015503562994926183,0.015503562994926183,0.015503562994926183,0.014900698602199761,0.013288530605071184,0.013280479225729025,0.008582820168594397,0.018347678559304848,0.01590208694928863,0.025133189372456153,0.03421015145262873,0.03189688448771654,0.03066590407260685,0.03412144612488974,0.02825771854761251,0.017609816596274832,0.017609816596274832,0.022501043808839275,0.023910930795841546,0.022144005791455368,0.02177746622870131,0.023761491345691332,0.03681171597655044,0.030635022095488598,0.031227292711877793,0.027146241903284594,0.026061739003190067,0.0266803641585212,0.029428628634665832,0.033425600898009396,0.010756348239517368,0.01535868063944854,0.009174865652275314],\"type\":\"box\",\"xaxis\":\"x2\",\"yaxis\":\"y2\"}],                        {\"template\":{\"data\":{\"histogram2dcontour\":[{\"type\":\"histogram2dcontour\",\"colorbar\":{\"outlinewidth\":0,\"ticks\":\"\"},\"colorscale\":[[0.0,\"#0d0887\"],[0.1111111111111111,\"#46039f\"],[0.2222222222222222,\"#7201a8\"],[0.3333333333333333,\"#9c179e\"],[0.4444444444444444,\"#bd3786\"],[0.5555555555555556,\"#d8576b\"],[0.6666666666666666,\"#ed7953\"],[0.7777777777777778,\"#fb9f3a\"],[0.8888888888888888,\"#fdca26\"],[1.0,\"#f0f921\"]]}],\"choropleth\":[{\"type\":\"choropleth\",\"colorbar\":{\"outlinewidth\":0,\"ticks\":\"\"}}],\"histogram2d\":[{\"type\":\"histogram2d\",\"colorbar\":{\"outlinewidth\":0,\"ticks\":\"\"},\"colorscale\":[[0.0,\"#0d0887\"],[0.1111111111111111,\"#46039f\"],[0.2222222222222222,\"#7201a8\"],[0.3333333333333333,\"#9c179e\"],[0.4444444444444444,\"#bd3786\"],[0.5555555555555556,\"#d8576b\"],[0.6666666666666666,\"#ed7953\"],[0.7777777777777778,\"#fb9f3a\"],[0.8888888888888888,\"#fdca26\"],[1.0,\"#f0f921\"]]}],\"heatmap\":[{\"type\":\"heatmap\",\"colorbar\":{\"outlinewidth\":0,\"ticks\":\"\"},\"colorscale\":[[0.0,\"#0d0887\"],[0.1111111111111111,\"#46039f\"],[0.2222222222222222,\"#7201a8\"],[0.3333333333333333,\"#9c179e\"],[0.4444444444444444,\"#bd3786\"],[0.5555555555555556,\"#d8576b\"],[0.6666666666666666,\"#ed7953\"],[0.7777777777777778,\"#fb9f3a\"],[0.8888888888888888,\"#fdca26\"],[1.0,\"#f0f921\"]]}],\"heatmapgl\":[{\"type\":\"heatmapgl\",\"colorbar\":{\"outlinewidth\":0,\"ticks\":\"\"},\"colorscale\":[[0.0,\"#0d0887\"],[0.1111111111111111,\"#46039f\"],[0.2222222222222222,\"#7201a8\"],[0.3333333333333333,\"#9c179e\"],[0.4444444444444444,\"#bd3786\"],[0.5555555555555556,\"#d8576b\"],[0.6666666666666666,\"#ed7953\"],[0.7777777777777778,\"#fb9f3a\"],[0.8888888888888888,\"#fdca26\"],[1.0,\"#f0f921\"]]}],\"contourcarpet\":[{\"type\":\"contourcarpet\",\"colorbar\":{\"outlinewidth\":0,\"ticks\":\"\"}}],\"contour\":[{\"type\":\"contour\",\"colorbar\":{\"outlinewidth\":0,\"ticks\":\"\"},\"colorscale\":[[0.0,\"#0d0887\"],[0.1111111111111111,\"#46039f\"],[0.2222222222222222,\"#7201a8\"],[0.3333333333333333,\"#9c179e\"],[0.4444444444444444,\"#bd3786\"],[0.5555555555555556,\"#d8576b\"],[0.6666666666666666,\"#ed7953\"],[0.7777777777777778,\"#fb9f3a\"],[0.8888888888888888,\"#fdca26\"],[1.0,\"#f0f921\"]]}],\"surface\":[{\"type\":\"surface\",\"colorbar\":{\"outlinewidth\":0,\"ticks\":\"\"},\"colorscale\":[[0.0,\"#0d0887\"],[0.1111111111111111,\"#46039f\"],[0.2222222222222222,\"#7201a8\"],[0.3333333333333333,\"#9c179e\"],[0.4444444444444444,\"#bd3786\"],[0.5555555555555556,\"#d8576b\"],[0.6666666666666666,\"#ed7953\"],[0.7777777777777778,\"#fb9f3a\"],[0.8888888888888888,\"#fdca26\"],[1.0,\"#f0f921\"]]}],\"mesh3d\":[{\"type\":\"mesh3d\",\"colorbar\":{\"outlinewidth\":0,\"ticks\":\"\"}}],\"scatter\":[{\"fillpattern\":{\"fillmode\":\"overlay\",\"size\":10,\"solidity\":0.2},\"type\":\"scatter\"}],\"parcoords\":[{\"type\":\"parcoords\",\"line\":{\"colorbar\":{\"outlinewidth\":0,\"ticks\":\"\"}}}],\"scatterpolargl\":[{\"type\":\"scatterpolargl\",\"marker\":{\"colorbar\":{\"outlinewidth\":0,\"ticks\":\"\"}}}],\"bar\":[{\"error_x\":{\"color\":\"#2a3f5f\"},\"error_y\":{\"color\":\"#2a3f5f\"},\"marker\":{\"line\":{\"color\":\"#E5ECF6\",\"width\":0.5},\"pattern\":{\"fillmode\":\"overlay\",\"size\":10,\"solidity\":0.2}},\"type\":\"bar\"}],\"scattergeo\":[{\"type\":\"scattergeo\",\"marker\":{\"colorbar\":{\"outlinewidth\":0,\"ticks\":\"\"}}}],\"scatterpolar\":[{\"type\":\"scatterpolar\",\"marker\":{\"colorbar\":{\"outlinewidth\":0,\"ticks\":\"\"}}}],\"histogram\":[{\"marker\":{\"pattern\":{\"fillmode\":\"overlay\",\"size\":10,\"solidity\":0.2}},\"type\":\"histogram\"}],\"scattergl\":[{\"type\":\"scattergl\",\"marker\":{\"colorbar\":{\"outlinewidth\":0,\"ticks\":\"\"}}}],\"scatter3d\":[{\"type\":\"scatter3d\",\"line\":{\"colorbar\":{\"outlinewidth\":0,\"ticks\":\"\"}},\"marker\":{\"colorbar\":{\"outlinewidth\":0,\"ticks\":\"\"}}}],\"scattermapbox\":[{\"type\":\"scattermapbox\",\"marker\":{\"colorbar\":{\"outlinewidth\":0,\"ticks\":\"\"}}}],\"scatterternary\":[{\"type\":\"scatterternary\",\"marker\":{\"colorbar\":{\"outlinewidth\":0,\"ticks\":\"\"}}}],\"scattercarpet\":[{\"type\":\"scattercarpet\",\"marker\":{\"colorbar\":{\"outlinewidth\":0,\"ticks\":\"\"}}}],\"carpet\":[{\"aaxis\":{\"endlinecolor\":\"#2a3f5f\",\"gridcolor\":\"white\",\"linecolor\":\"white\",\"minorgridcolor\":\"white\",\"startlinecolor\":\"#2a3f5f\"},\"baxis\":{\"endlinecolor\":\"#2a3f5f\",\"gridcolor\":\"white\",\"linecolor\":\"white\",\"minorgridcolor\":\"white\",\"startlinecolor\":\"#2a3f5f\"},\"type\":\"carpet\"}],\"table\":[{\"cells\":{\"fill\":{\"color\":\"#EBF0F8\"},\"line\":{\"color\":\"white\"}},\"header\":{\"fill\":{\"color\":\"#C8D4E3\"},\"line\":{\"color\":\"white\"}},\"type\":\"table\"}],\"barpolar\":[{\"marker\":{\"line\":{\"color\":\"#E5ECF6\",\"width\":0.5},\"pattern\":{\"fillmode\":\"overlay\",\"size\":10,\"solidity\":0.2}},\"type\":\"barpolar\"}],\"pie\":[{\"automargin\":true,\"type\":\"pie\"}]},\"layout\":{\"autotypenumbers\":\"strict\",\"colorway\":[\"#636efa\",\"#EF553B\",\"#00cc96\",\"#ab63fa\",\"#FFA15A\",\"#19d3f3\",\"#FF6692\",\"#B6E880\",\"#FF97FF\",\"#FECB52\"],\"font\":{\"color\":\"#2a3f5f\"},\"hovermode\":\"closest\",\"hoverlabel\":{\"align\":\"left\"},\"paper_bgcolor\":\"white\",\"plot_bgcolor\":\"#E5ECF6\",\"polar\":{\"bgcolor\":\"#E5ECF6\",\"angularaxis\":{\"gridcolor\":\"white\",\"linecolor\":\"white\",\"ticks\":\"\"},\"radialaxis\":{\"gridcolor\":\"white\",\"linecolor\":\"white\",\"ticks\":\"\"}},\"ternary\":{\"bgcolor\":\"#E5ECF6\",\"aaxis\":{\"gridcolor\":\"white\",\"linecolor\":\"white\",\"ticks\":\"\"},\"baxis\":{\"gridcolor\":\"white\",\"linecolor\":\"white\",\"ticks\":\"\"},\"caxis\":{\"gridcolor\":\"white\",\"linecolor\":\"white\",\"ticks\":\"\"}},\"coloraxis\":{\"colorbar\":{\"outlinewidth\":0,\"ticks\":\"\"}},\"colorscale\":{\"sequential\":[[0.0,\"#0d0887\"],[0.1111111111111111,\"#46039f\"],[0.2222222222222222,\"#7201a8\"],[0.3333333333333333,\"#9c179e\"],[0.4444444444444444,\"#bd3786\"],[0.5555555555555556,\"#d8576b\"],[0.6666666666666666,\"#ed7953\"],[0.7777777777777778,\"#fb9f3a\"],[0.8888888888888888,\"#fdca26\"],[1.0,\"#f0f921\"]],\"sequentialminus\":[[0.0,\"#0d0887\"],[0.1111111111111111,\"#46039f\"],[0.2222222222222222,\"#7201a8\"],[0.3333333333333333,\"#9c179e\"],[0.4444444444444444,\"#bd3786\"],[0.5555555555555556,\"#d8576b\"],[0.6666666666666666,\"#ed7953\"],[0.7777777777777778,\"#fb9f3a\"],[0.8888888888888888,\"#fdca26\"],[1.0,\"#f0f921\"]],\"diverging\":[[0,\"#8e0152\"],[0.1,\"#c51b7d\"],[0.2,\"#de77ae\"],[0.3,\"#f1b6da\"],[0.4,\"#fde0ef\"],[0.5,\"#f7f7f7\"],[0.6,\"#e6f5d0\"],[0.7,\"#b8e186\"],[0.8,\"#7fbc41\"],[0.9,\"#4d9221\"],[1,\"#276419\"]]},\"xaxis\":{\"gridcolor\":\"white\",\"linecolor\":\"white\",\"ticks\":\"\",\"title\":{\"standoff\":15},\"zerolinecolor\":\"white\",\"automargin\":true,\"zerolinewidth\":2},\"yaxis\":{\"gridcolor\":\"white\",\"linecolor\":\"white\",\"ticks\":\"\",\"title\":{\"standoff\":15},\"zerolinecolor\":\"white\",\"automargin\":true,\"zerolinewidth\":2},\"scene\":{\"xaxis\":{\"backgroundcolor\":\"#E5ECF6\",\"gridcolor\":\"white\",\"linecolor\":\"white\",\"showbackground\":true,\"ticks\":\"\",\"zerolinecolor\":\"white\",\"gridwidth\":2},\"yaxis\":{\"backgroundcolor\":\"#E5ECF6\",\"gridcolor\":\"white\",\"linecolor\":\"white\",\"showbackground\":true,\"ticks\":\"\",\"zerolinecolor\":\"white\",\"gridwidth\":2},\"zaxis\":{\"backgroundcolor\":\"#E5ECF6\",\"gridcolor\":\"white\",\"linecolor\":\"white\",\"showbackground\":true,\"ticks\":\"\",\"zerolinecolor\":\"white\",\"gridwidth\":2}},\"shapedefaults\":{\"line\":{\"color\":\"#2a3f5f\"}},\"annotationdefaults\":{\"arrowcolor\":\"#2a3f5f\",\"arrowhead\":0,\"arrowwidth\":1},\"geo\":{\"bgcolor\":\"white\",\"landcolor\":\"#E5ECF6\",\"subunitcolor\":\"white\",\"showland\":true,\"showlakes\":true,\"lakecolor\":\"white\"},\"title\":{\"x\":0.05},\"mapbox\":{\"style\":\"light\"}}},\"xaxis\":{\"anchor\":\"y\",\"domain\":[0.0,0.784],\"matches\":\"x3\",\"showticklabels\":false},\"yaxis\":{\"anchor\":\"x\",\"domain\":[0.51,1.0],\"title\":{\"text\":\"Contribution\"}},\"xaxis2\":{\"anchor\":\"y2\",\"domain\":[0.804,1.0],\"matches\":\"x4\",\"showticklabels\":false},\"yaxis2\":{\"anchor\":\"x2\",\"domain\":[0.51,1.0],\"matches\":\"y\",\"showticklabels\":false},\"xaxis3\":{\"anchor\":\"y3\",\"domain\":[0.0,0.784],\"title\":{\"text\":\"Population\"}},\"yaxis3\":{\"anchor\":\"x3\",\"domain\":[0.0,0.49],\"title\":{\"text\":\"Count\"}},\"xaxis4\":{\"anchor\":\"y4\",\"domain\":[0.804,1.0]},\"yaxis4\":{\"anchor\":\"x4\",\"domain\":[0.0,0.49],\"matches\":\"y3\",\"showticklabels\":false},\"annotations\":[{\"font\":{\"size\":16},\"showarrow\":false,\"text\":\"MedHouseVal prediction\",\"x\":0.392,\"xanchor\":\"center\",\"xref\":\"paper\",\"y\":1.0,\"yanchor\":\"bottom\",\"yref\":\"paper\"},{\"font\":{\"size\":16},\"showarrow\":false,\"text\":\"Contribution distribution\",\"x\":0.902,\"xanchor\":\"center\",\"xref\":\"paper\",\"y\":1.0,\"yanchor\":\"bottom\",\"yref\":\"paper\"}],\"showlegend\":false,\"title\":{\"text\":\"Contributions are on the same scale as MedHouseVal,<br>and centered vertically on the train set.\"}},                        {\"responsive\": true}                    ).then(function(){\n                            \nvar gd = document.getElementById('00cb7e8f-8a50-4ea4-b140-bdf372ec3015');\nvar x = new MutationObserver(function (mutations, observer) {{\n        var display = window.getComputedStyle(gd).display;\n        if (!display || display === 'none') {{\n            console.log([gd, 'removed!']);\n            Plotly.purge(gd);\n            observer.disconnect();\n        }}\n}});\n\n// Listen for the removal of the full notebook cells\nvar notebookContainer = gd.closest('#notebook-container');\nif (notebookContainer) {{\n    x.observe(notebookContainer, {childList: true});\n}}\n\n// Listen for the clearing of the current output cell\nvar outputEl = gd.closest('.output');\nif (outputEl) {{\n    x.observe(outputEl, {childList: true});\n}}\n\n                        })                };                });            </script>        </div>"
     },
     "metadata": {},
     "output_type": "display_data"
    },
    {
     "data": {
      "application/vnd.plotly.v1+json": {
       "data": [
        {
         "hovertemplate": "x=%{x}<br>y=%{y}<extra></extra>",
         "legendgroup": "",
         "line": {
          "color": "#636efa",
          "dash": "solid",
          "shape": "hv"
         },
         "marker": {
          "symbol": "circle"
         },
         "mode": "lines",
         "name": "",
         "orientation": "v",
         "showlegend": false,
         "x": [
          1.055572271347046,
          1.4630910158157349,
          1.5364913940429688,
          1.5879079103469849,
          1.6320276260375977,
          1.673406958580017,
          1.7104448080062866,
          1.74368155002594,
          1.7758573293685913,
          1.804178237915039,
          1.8270435333251953,
          1.8475887775421143,
          1.8663341999053955,
          1.8849217891693115,
          1.902835488319397,
          1.9194090366363525,
          1.9366683959960938,
          1.9528236389160156,
          1.967679738998413,
          1.9843145608901978,
          2.000394582748413,
          2.01558780670166,
          2.031036853790283,
          2.0458943843841553,
          2.0609817504882812,
          2.074349880218506,
          2.086460590362549,
          2.100714921951294,
          2.1153857707977295,
          2.1284663677215576,
          2.1416378021240234,
          2.1551976203918457,
          2.166346311569214,
          2.1759610176086426,
          2.1858720779418945,
          2.196762800216675,
          2.208604335784912,
          2.2201757431030273,
          2.230701446533203,
          2.240011692047119,
          2.2494418621063232,
          2.2590980529785156,
          2.2683427333831787,
          2.276332378387451,
          2.28426194190979,
          2.292555570602417,
          2.3001039028167725,
          2.3079607486724854,
          2.3171372413635254,
          2.32651686668396,
          2.33447003364563,
          2.3415658473968506,
          2.349442720413208,
          2.3576812744140625,
          2.365515947341919,
          2.3728461265563965,
          2.3795528411865234,
          2.3866846561431885,
          2.393721342086792,
          2.400369882583618,
          2.407294273376465,
          2.413949966430664,
          2.4207100868225098,
          2.427272081375122,
          2.433471441268921,
          2.4402058124542236,
          2.44679594039917,
          2.4525859355926514,
          2.457892894744873,
          2.4649221897125244,
          2.4719598293304443,
          2.477780342102051,
          2.48392915725708,
          2.490567445755005,
          2.4970741271972656,
          2.5031003952026367,
          2.5091004371643066,
          2.5147573947906494,
          2.5204403400421143,
          2.5266075134277344,
          2.5339388847351074,
          2.5418636798858643,
          2.548685312271118,
          2.5546066761016846,
          2.5611023902893066,
          2.5685136318206787,
          2.575058937072754,
          2.5806448459625244,
          2.5868191719055176,
          2.592977523803711,
          2.5982844829559326,
          2.603811025619507,
          2.609510898590088,
          2.6158030033111572,
          2.6227920055389404,
          2.629377603530884,
          2.635479211807251,
          2.6410977840423584,
          2.646181106567383,
          2.6511552333831787,
          2.657130002975464,
          2.6635403633117676,
          2.669304370880127,
          2.6752567291259766,
          2.6809237003326416,
          2.6865780353546143,
          2.692570447921753,
          2.698509454727173,
          2.704883337020874,
          2.7108101844787598,
          2.7165000438690186,
          2.722242832183838,
          2.7279396057128906,
          2.7331299781799316,
          2.7381975650787354,
          2.7441422939300537,
          2.7501258850097656,
          2.7561001777648926,
          2.761791467666626,
          2.766852378845215,
          2.7727577686309814,
          2.778716802597046,
          2.785039186477661,
          2.791761636734009,
          2.798574686050415,
          2.805097818374634,
          2.810770034790039,
          2.8165855407714844,
          2.8230409622192383,
          2.829622268676758,
          2.835476875305176,
          2.841291904449463,
          2.8468120098114014,
          2.8520472049713135,
          2.857529640197754,
          2.8631398677825928,
          2.868769884109497,
          2.8756980895996094,
          2.882457971572876,
          2.887840509414673,
          2.8936595916748047,
          2.899813652038574,
          2.9061899185180664,
          2.912968397140503,
          2.919762372970581,
          2.9267771244049072,
          2.9339025020599365,
          2.940286636352539,
          2.9469361305236816,
          2.953918695449829,
          2.959827184677124,
          2.9659504890441895,
          2.972684860229492,
          2.9795303344726562,
          2.985752582550049,
          2.991553783416748,
          2.997689962387085,
          3.0047738552093506,
          3.0122554302215576,
          3.0188705921173096,
          3.0252997875213623,
          3.032841444015503,
          3.040966033935547,
          3.0484511852264404,
          3.0559096336364746,
          3.0632083415985107,
          3.0700368881225586,
          3.076167345046997,
          3.0825228691101074,
          3.0902295112609863,
          3.097630500793457,
          3.1045339107513428,
          3.112391948699951,
          3.1207029819488525,
          3.1288819313049316,
          3.13753604888916,
          3.147294282913208,
          3.1558773517608643,
          3.1639912128448486,
          3.1723618507385254,
          3.1801681518554688,
          3.1876790523529053,
          3.195222854614258,
          3.203718900680542,
          3.213359832763672,
          3.2234442234039307,
          3.232839345932007,
          3.2414982318878174,
          3.2502663135528564,
          3.260274648666382,
          3.2703001499176025,
          3.2794029712677,
          3.288623571395874,
          3.2986063957214355,
          3.3084423542022705,
          3.31807804107666,
          3.3293070793151855,
          3.341409683227539,
          3.352013349533081,
          3.3615026473999023,
          3.3713772296905518,
          3.3827309608459473,
          3.3948261737823486,
          3.4075119495391846,
          3.421086549758911,
          3.434312582015991,
          3.4485793113708496,
          3.4634761810302734,
          3.47757887840271,
          3.4922847747802734,
          3.5050244331359863,
          3.5171568393707275,
          3.530618667602539,
          3.5467722415924072,
          3.564000368118286,
          3.579038619995117,
          3.594276189804077,
          3.610313892364502,
          3.6285667419433594,
          3.647916793823242,
          3.665773391723633,
          3.6822404861450195,
          3.699641704559326,
          3.7187581062316895,
          3.738245964050293,
          3.7612626552581787,
          3.7875823974609375,
          3.8115382194519043,
          3.8358161449432373,
          3.8623833656311035,
          3.887662649154663,
          3.9123308658599854,
          3.940430164337158,
          3.9720983505249023,
          4.007885456085205,
          4.046443462371826,
          4.082004070281982,
          4.114380359649658,
          4.147037029266357,
          4.179870128631592,
          4.220518589019775,
          4.263255596160889,
          4.302053928375244,
          4.345637321472168,
          4.39290189743042,
          4.444281101226807,
          4.504827499389648,
          4.570003032684326,
          4.634147644042969,
          4.708714008331299,
          4.808934688568115,
          4.948678970336914,
          5.141610145568848,
          5.445957660675049,
          6.08989143371582,
          303.1275634765625
         ],
         "xaxis": "x",
         "y": [
          0.47839590056528797,
          0.4783959005652884,
          0.6062464145699734,
          0.6259807926483617,
          0.7429779201086573,
          0.7376841492097231,
          0.7472672466383257,
          0.7557004009045095,
          0.7067432624700724,
          0.6985204504156957,
          0.6650864328698654,
          0.6796884549062769,
          0.6587547928205055,
          0.6505487925010605,
          0.7076269597159245,
          0.6908364303488288,
          0.77538698055294,
          0.5673841780901225,
          0.5101377854848511,
          0.46903465319497145,
          0.5086917846347856,
          0.5434498706741424,
          0.541798527110339,
          0.5269039277705401,
          0.4300213423652764,
          0.4797849537776645,
          0.31736632232623946,
          0.3233368281237173,
          0.3184430072258712,
          0.3634598304908947,
          0.3639064089515798,
          0.31413357260026004,
          0.2920397738985631,
          0.2599848559212037,
          0.2898931319720724,
          0.29761446026743754,
          0.31498621819708816,
          0.31766350475724714,
          0.31014466675220176,
          0.2896691446952771,
          0.3032177444904886,
          0.3240983671306715,
          0.30939560389287907,
          0.2826875525403005,
          0.27450498183410416,
          0.27999731639831993,
          0.2874513344088532,
          0.22308991454132346,
          0.18061475924883247,
          0.15425533931118265,
          0.26919001507596374,
          0.27595288046999117,
          0.1939625094829471,
          0.11444609992523487,
          0.1619059654788131,
          0.15217304764097944,
          0.15368326798354662,
          0.15585020679747544,
          0.14847634715753386,
          0.15728592738125027,
          0.16784729741310342,
          0.1470924479269766,
          0.14244650374240891,
          0.0965194254887669,
          0.09721544199133875,
          0.14336573529363966,
          0.14609994687145986,
          0.13819870179587118,
          0.131865331936081,
          0.10415522138605515,
          0.10856800070774508,
          0.10891870553359431,
          0.11515989278662239,
          0.08824271545709352,
          0.050832881964075274,
          0.07652978594389255,
          0.15579031509002156,
          0.142973785940225,
          0.11559716735693645,
          0.07503132967579185,
          0.03193219022203688,
          0.04421021810742082,
          0.049498908319943684,
          0.0486289718113649,
          0.05971093603757956,
          0.06563491033245013,
          0.05459218890414863,
          0.05840627119022215,
          0.03924863252046341,
          0.039535482422158194,
          0.038403988192864225,
          0.03353843948663785,
          0.01792230124034873,
          -8.950121729239353E-4,
          -0.01611243234984679,
          -0.013027738480775777,
          -0.006994081360651326,
          -0.0063208204215630505,
          5.396583139546402E-4,
          -0.015404736140002125,
          -0.01950071509092066,
          -0.01950071509092066,
          -0.021126025102829883,
          -0.02232508865471025,
          -0.031948795814918184,
          -0.031513547374425306,
          -0.0350799176137039,
          -0.030174910757734805,
          -0.028279976059848437,
          -0.024845539945957673,
          -0.014319030990450385,
          -0.014319030990450385,
          0.0012916450618270462,
          -0.0062625790921116715,
          -0.001234718703329067,
          0.013001412306788055,
          -0.022686544206545062,
          -0.023290966665838894,
          -0.03151047833460451,
          -0.055515699980165305,
          -0.03807150150985492,
          -0.03797041932534727,
          -0.04366791779714086,
          -0.009816109174719676,
          -0.04829025688314213,
          -0.05790622778657488,
          -0.056912307606057304,
          -0.05979171463557055,
          -0.06491654802084576,
          -0.06877856297287269,
          -0.06101726377439429,
          -0.04290702723867023,
          -0.10564214562588464,
          -0.11792694388880279,
          -0.10258689025663117,
          -0.11193491103992838,
          -0.11193491103992838,
          -0.11746844389082287,
          -0.10911435802145614,
          -0.10444133143899124,
          -0.12218911239257438,
          -0.12694866507388675,
          -0.12362527812598835,
          -0.13520659354438094,
          -0.13566417024979877,
          -0.13368161967695855,
          -0.11793764137135429,
          -0.1257225507610646,
          -0.1305723513942653,
          -0.11624967083465486,
          -0.11279067824135934,
          -0.1241827077462423,
          -0.13072999027666546,
          -0.12159076358507677,
          -0.12457487030548885,
          -0.12350362406195661,
          -0.11644481230429217,
          -0.12441499432047262,
          -0.13787261895527472,
          -0.15284384588768982,
          -0.15063528734657045,
          -0.14524131060242232,
          -0.15838368838301461,
          -0.15944841429687678,
          -0.15849305429037194,
          -0.15920708336956182,
          -0.16039366700634444,
          -0.15128809529159323,
          -0.1448435044126805,
          -0.16151107592721567,
          -0.14157450242713934,
          -0.12895267060404136,
          -0.16988324298943902,
          -0.1901166421366522,
          -0.19317637738770121,
          -0.17864565820714207,
          -0.19749907810226208,
          -0.20476851807198537,
          -0.23111565053469857,
          -0.23073375135629826,
          -0.22248996741865398,
          -0.22216090690518464,
          -0.22209864046689876,
          -0.22061678611658864,
          -0.22287600602091923,
          -0.2233484787335215,
          -0.22401388192279661,
          -0.2619881271946982,
          -0.27059066695880485,
          -0.2739015767061492,
          -0.2739015767061492,
          -0.2748779705458728,
          -0.26980645819506205,
          -0.2607735344763801,
          -0.2582378994179006,
          -0.2510775608843008,
          -0.24971084933011672,
          -0.24971084933011672,
          -0.24791879051604207,
          -0.24791879051604207,
          -0.24791879051604207,
          -0.24791879051604207,
          -0.24525550738127117,
          -0.24604440982542222,
          -0.25041487831278103,
          -0.25041487831278103,
          -0.25104960780251556,
          -0.25104960780251556,
          -0.26103532946438157,
          -0.25416815327604414,
          -0.25458046413176766,
          -0.25386036708516185,
          -0.2678952047660579,
          -0.27006558051119717,
          -0.27062476169059774,
          -0.2695659763267278,
          -0.2703275640610204,
          -0.2703275640610204,
          -0.2681531372970239,
          -0.27051481403971983,
          -0.2709522215561654,
          -0.2709522215561654,
          -0.2709522215561654,
          -0.27200046014053375,
          -0.26818711955154423,
          -0.27001789532076104,
          -0.2706134585305465,
          -0.2642361109731783,
          -0.2633173634442533,
          -0.2628546597959933,
          -0.2628546597959933,
          -0.2628546597959933,
          -0.2632194421486953,
          -0.26524968633107976,
          -0.2605100505368747,
          -0.26701354962340723,
          -0.26332723228033356,
          -0.28418996593651963,
          -0.28418996593651963,
          -0.2888034783514734,
          -0.2888034783514734,
          -0.287009129508029,
          -0.28735615504156936,
          -0.28735615504156936,
          -0.28735615504156936,
          -0.2869283947970829,
          -0.2822525456612531,
          -0.2815797059992765,
          -0.2731304897488691,
          -0.2636541619919425,
          -0.258986657459226,
          -0.2586793637876046,
          -0.28279550374175855,
          -0.2525437174539568,
          -0.22426600136942515,
          -0.1869657854633028
         ],
         "yaxis": "y",
         "type": "scatter"
        },
        {
         "name": "AveOccup distribution",
         "x": [
          1.055572271347046,
          1.4630910158157349,
          1.5364913940429688,
          1.5879079103469849,
          1.6320276260375977,
          1.673406958580017,
          1.7104448080062866,
          1.74368155002594,
          1.7758573293685913,
          1.804178237915039,
          1.8270435333251953,
          1.8475887775421143,
          1.8663341999053955,
          1.8849217891693115,
          1.902835488319397,
          1.9194090366363525,
          1.9366683959960938,
          1.9528236389160156,
          1.967679738998413,
          1.9843145608901978,
          2.000394582748413,
          2.01558780670166,
          2.031036853790283,
          2.0458943843841553,
          2.0609817504882812,
          2.074349880218506,
          2.086460590362549,
          2.100714921951294,
          2.1153857707977295,
          2.1284663677215576,
          2.1416378021240234,
          2.1551976203918457,
          2.166346311569214,
          2.1759610176086426,
          2.1858720779418945,
          2.196762800216675,
          2.208604335784912,
          2.2201757431030273,
          2.230701446533203,
          2.240011692047119,
          2.2494418621063232,
          2.2590980529785156,
          2.2683427333831787,
          2.276332378387451,
          2.28426194190979,
          2.292555570602417,
          2.3001039028167725,
          2.3079607486724854,
          2.3171372413635254,
          2.32651686668396,
          2.33447003364563,
          2.3415658473968506,
          2.349442720413208,
          2.3576812744140625,
          2.365515947341919,
          2.3728461265563965,
          2.3795528411865234,
          2.3866846561431885,
          2.393721342086792,
          2.400369882583618,
          2.407294273376465,
          2.413949966430664,
          2.4207100868225098,
          2.427272081375122,
          2.433471441268921,
          2.4402058124542236,
          2.44679594039917,
          2.4525859355926514,
          2.457892894744873,
          2.4649221897125244,
          2.4719598293304443,
          2.477780342102051,
          2.48392915725708,
          2.490567445755005,
          2.4970741271972656,
          2.5031003952026367,
          2.5091004371643066,
          2.5147573947906494,
          2.5204403400421143,
          2.5266075134277344,
          2.5339388847351074,
          2.5418636798858643,
          2.548685312271118,
          2.5546066761016846,
          2.5611023902893066,
          2.5685136318206787,
          2.575058937072754,
          2.5806448459625244,
          2.5868191719055176,
          2.592977523803711,
          2.5982844829559326,
          2.603811025619507,
          2.609510898590088,
          2.6158030033111572,
          2.6227920055389404,
          2.629377603530884,
          2.635479211807251,
          2.6410977840423584,
          2.646181106567383,
          2.6511552333831787,
          2.657130002975464,
          2.6635403633117676,
          2.669304370880127,
          2.6752567291259766,
          2.6809237003326416,
          2.6865780353546143,
          2.692570447921753,
          2.698509454727173,
          2.704883337020874,
          2.7108101844787598,
          2.7165000438690186,
          2.722242832183838,
          2.7279396057128906,
          2.7331299781799316,
          2.7381975650787354,
          2.7441422939300537,
          2.7501258850097656,
          2.7561001777648926,
          2.761791467666626,
          2.766852378845215,
          2.7727577686309814,
          2.778716802597046,
          2.785039186477661,
          2.791761636734009,
          2.798574686050415,
          2.805097818374634,
          2.810770034790039,
          2.8165855407714844,
          2.8230409622192383,
          2.829622268676758,
          2.835476875305176,
          2.841291904449463,
          2.8468120098114014,
          2.8520472049713135,
          2.857529640197754,
          2.8631398677825928,
          2.868769884109497,
          2.8756980895996094,
          2.882457971572876,
          2.887840509414673,
          2.8936595916748047,
          2.899813652038574,
          2.9061899185180664,
          2.912968397140503,
          2.919762372970581,
          2.9267771244049072,
          2.9339025020599365,
          2.940286636352539,
          2.9469361305236816,
          2.953918695449829,
          2.959827184677124,
          2.9659504890441895,
          2.972684860229492,
          2.9795303344726562,
          2.985752582550049,
          2.991553783416748,
          2.997689962387085,
          3.0047738552093506,
          3.0122554302215576,
          3.0188705921173096,
          3.0252997875213623,
          3.032841444015503,
          3.040966033935547,
          3.0484511852264404,
          3.0559096336364746,
          3.0632083415985107,
          3.0700368881225586,
          3.076167345046997,
          3.0825228691101074,
          3.0902295112609863,
          3.097630500793457,
          3.1045339107513428,
          3.112391948699951,
          3.1207029819488525,
          3.1288819313049316,
          3.13753604888916,
          3.147294282913208,
          3.1558773517608643,
          3.1639912128448486,
          3.1723618507385254,
          3.1801681518554688,
          3.1876790523529053,
          3.195222854614258,
          3.203718900680542,
          3.213359832763672,
          3.2234442234039307,
          3.232839345932007,
          3.2414982318878174,
          3.2502663135528564,
          3.260274648666382,
          3.2703001499176025,
          3.2794029712677,
          3.288623571395874,
          3.2986063957214355,
          3.3084423542022705,
          3.31807804107666,
          3.3293070793151855,
          3.341409683227539,
          3.352013349533081,
          3.3615026473999023,
          3.3713772296905518,
          3.3827309608459473,
          3.3948261737823486,
          3.4075119495391846,
          3.421086549758911,
          3.434312582015991,
          3.4485793113708496,
          3.4634761810302734,
          3.47757887840271,
          3.4922847747802734,
          3.5050244331359863,
          3.5171568393707275,
          3.530618667602539,
          3.5467722415924072,
          3.564000368118286,
          3.579038619995117,
          3.594276189804077,
          3.610313892364502,
          3.6285667419433594,
          3.647916793823242,
          3.665773391723633,
          3.6822404861450195,
          3.699641704559326,
          3.7187581062316895,
          3.738245964050293,
          3.7612626552581787,
          3.7875823974609375,
          3.8115382194519043,
          3.8358161449432373,
          3.8623833656311035,
          3.887662649154663,
          3.9123308658599854,
          3.940430164337158,
          3.9720983505249023,
          4.007885456085205,
          4.046443462371826,
          4.082004070281982,
          4.114380359649658,
          4.147037029266357,
          4.179870128631592,
          4.220518589019775,
          4.263255596160889,
          4.302053928375244,
          4.345637321472168,
          4.39290189743042,
          4.444281101226807,
          4.504827499389648,
          4.570003032684326,
          4.634147644042969,
          4.708714008331299,
          4.808934688568115,
          4.948678970336914,
          5.141610145568848,
          5.445957660675049,
          6.08989143371582,
          303.1275634765625
         ],
         "type": "histogram",
         "xaxis": "x3",
         "yaxis": "y3"
        },
        {
         "name": "",
         "y": [
          0.47839590056528797,
          0.4783959005652884,
          0.6062464145699734,
          0.6259807926483617,
          0.7429779201086573,
          0.7376841492097231,
          0.7472672466383257,
          0.7557004009045095,
          0.7067432624700724,
          0.6985204504156957,
          0.6650864328698654,
          0.6796884549062769,
          0.6587547928205055,
          0.6505487925010605,
          0.7076269597159245,
          0.6908364303488288,
          0.77538698055294,
          0.5673841780901225,
          0.5101377854848511,
          0.46903465319497145,
          0.5086917846347856,
          0.5434498706741424,
          0.541798527110339,
          0.5269039277705401,
          0.4300213423652764,
          0.4797849537776645,
          0.31736632232623946,
          0.3233368281237173,
          0.3184430072258712,
          0.3634598304908947,
          0.3639064089515798,
          0.31413357260026004,
          0.2920397738985631,
          0.2599848559212037,
          0.2898931319720724,
          0.29761446026743754,
          0.31498621819708816,
          0.31766350475724714,
          0.31014466675220176,
          0.2896691446952771,
          0.3032177444904886,
          0.3240983671306715,
          0.30939560389287907,
          0.2826875525403005,
          0.27450498183410416,
          0.27999731639831993,
          0.2874513344088532,
          0.22308991454132346,
          0.18061475924883247,
          0.15425533931118265,
          0.26919001507596374,
          0.27595288046999117,
          0.1939625094829471,
          0.11444609992523487,
          0.1619059654788131,
          0.15217304764097944,
          0.15368326798354662,
          0.15585020679747544,
          0.14847634715753386,
          0.15728592738125027,
          0.16784729741310342,
          0.1470924479269766,
          0.14244650374240891,
          0.0965194254887669,
          0.09721544199133875,
          0.14336573529363966,
          0.14609994687145986,
          0.13819870179587118,
          0.131865331936081,
          0.10415522138605515,
          0.10856800070774508,
          0.10891870553359431,
          0.11515989278662239,
          0.08824271545709352,
          0.050832881964075274,
          0.07652978594389255,
          0.15579031509002156,
          0.142973785940225,
          0.11559716735693645,
          0.07503132967579185,
          0.03193219022203688,
          0.04421021810742082,
          0.049498908319943684,
          0.0486289718113649,
          0.05971093603757956,
          0.06563491033245013,
          0.05459218890414863,
          0.05840627119022215,
          0.03924863252046341,
          0.039535482422158194,
          0.038403988192864225,
          0.03353843948663785,
          0.01792230124034873,
          -8.950121729239353E-4,
          -0.01611243234984679,
          -0.013027738480775777,
          -0.006994081360651326,
          -0.0063208204215630505,
          5.396583139546402E-4,
          -0.015404736140002125,
          -0.01950071509092066,
          -0.01950071509092066,
          -0.021126025102829883,
          -0.02232508865471025,
          -0.031948795814918184,
          -0.031513547374425306,
          -0.0350799176137039,
          -0.030174910757734805,
          -0.028279976059848437,
          -0.024845539945957673,
          -0.014319030990450385,
          -0.014319030990450385,
          0.0012916450618270462,
          -0.0062625790921116715,
          -0.001234718703329067,
          0.013001412306788055,
          -0.022686544206545062,
          -0.023290966665838894,
          -0.03151047833460451,
          -0.055515699980165305,
          -0.03807150150985492,
          -0.03797041932534727,
          -0.04366791779714086,
          -0.009816109174719676,
          -0.04829025688314213,
          -0.05790622778657488,
          -0.056912307606057304,
          -0.05979171463557055,
          -0.06491654802084576,
          -0.06877856297287269,
          -0.06101726377439429,
          -0.04290702723867023,
          -0.10564214562588464,
          -0.11792694388880279,
          -0.10258689025663117,
          -0.11193491103992838,
          -0.11193491103992838,
          -0.11746844389082287,
          -0.10911435802145614,
          -0.10444133143899124,
          -0.12218911239257438,
          -0.12694866507388675,
          -0.12362527812598835,
          -0.13520659354438094,
          -0.13566417024979877,
          -0.13368161967695855,
          -0.11793764137135429,
          -0.1257225507610646,
          -0.1305723513942653,
          -0.11624967083465486,
          -0.11279067824135934,
          -0.1241827077462423,
          -0.13072999027666546,
          -0.12159076358507677,
          -0.12457487030548885,
          -0.12350362406195661,
          -0.11644481230429217,
          -0.12441499432047262,
          -0.13787261895527472,
          -0.15284384588768982,
          -0.15063528734657045,
          -0.14524131060242232,
          -0.15838368838301461,
          -0.15944841429687678,
          -0.15849305429037194,
          -0.15920708336956182,
          -0.16039366700634444,
          -0.15128809529159323,
          -0.1448435044126805,
          -0.16151107592721567,
          -0.14157450242713934,
          -0.12895267060404136,
          -0.16988324298943902,
          -0.1901166421366522,
          -0.19317637738770121,
          -0.17864565820714207,
          -0.19749907810226208,
          -0.20476851807198537,
          -0.23111565053469857,
          -0.23073375135629826,
          -0.22248996741865398,
          -0.22216090690518464,
          -0.22209864046689876,
          -0.22061678611658864,
          -0.22287600602091923,
          -0.2233484787335215,
          -0.22401388192279661,
          -0.2619881271946982,
          -0.27059066695880485,
          -0.2739015767061492,
          -0.2739015767061492,
          -0.2748779705458728,
          -0.26980645819506205,
          -0.2607735344763801,
          -0.2582378994179006,
          -0.2510775608843008,
          -0.24971084933011672,
          -0.24971084933011672,
          -0.24791879051604207,
          -0.24791879051604207,
          -0.24791879051604207,
          -0.24791879051604207,
          -0.24525550738127117,
          -0.24604440982542222,
          -0.25041487831278103,
          -0.25041487831278103,
          -0.25104960780251556,
          -0.25104960780251556,
          -0.26103532946438157,
          -0.25416815327604414,
          -0.25458046413176766,
          -0.25386036708516185,
          -0.2678952047660579,
          -0.27006558051119717,
          -0.27062476169059774,
          -0.2695659763267278,
          -0.2703275640610204,
          -0.2703275640610204,
          -0.2681531372970239,
          -0.27051481403971983,
          -0.2709522215561654,
          -0.2709522215561654,
          -0.2709522215561654,
          -0.27200046014053375,
          -0.26818711955154423,
          -0.27001789532076104,
          -0.2706134585305465,
          -0.2642361109731783,
          -0.2633173634442533,
          -0.2628546597959933,
          -0.2628546597959933,
          -0.2628546597959933,
          -0.2632194421486953,
          -0.26524968633107976,
          -0.2605100505368747,
          -0.26701354962340723,
          -0.26332723228033356,
          -0.28418996593651963,
          -0.28418996593651963,
          -0.2888034783514734,
          -0.2888034783514734,
          -0.287009129508029,
          -0.28735615504156936,
          -0.28735615504156936,
          -0.28735615504156936,
          -0.2869283947970829,
          -0.2822525456612531,
          -0.2815797059992765,
          -0.2731304897488691,
          -0.2636541619919425,
          -0.258986657459226,
          -0.2586793637876046,
          -0.28279550374175855,
          -0.2525437174539568,
          -0.22426600136942515,
          -0.1869657854633028
         ],
         "type": "box",
         "xaxis": "x2",
         "yaxis": "y2"
        }
       ],
       "layout": {
        "template": {
         "data": {
          "histogram2dcontour": [
           {
            "type": "histogram2dcontour",
            "colorbar": {
             "outlinewidth": 0,
             "ticks": ""
            },
            "colorscale": [
             [
              0.0,
              "#0d0887"
             ],
             [
              0.1111111111111111,
              "#46039f"
             ],
             [
              0.2222222222222222,
              "#7201a8"
             ],
             [
              0.3333333333333333,
              "#9c179e"
             ],
             [
              0.4444444444444444,
              "#bd3786"
             ],
             [
              0.5555555555555556,
              "#d8576b"
             ],
             [
              0.6666666666666666,
              "#ed7953"
             ],
             [
              0.7777777777777778,
              "#fb9f3a"
             ],
             [
              0.8888888888888888,
              "#fdca26"
             ],
             [
              1.0,
              "#f0f921"
             ]
            ]
           }
          ],
          "choropleth": [
           {
            "type": "choropleth",
            "colorbar": {
             "outlinewidth": 0,
             "ticks": ""
            }
           }
          ],
          "histogram2d": [
           {
            "type": "histogram2d",
            "colorbar": {
             "outlinewidth": 0,
             "ticks": ""
            },
            "colorscale": [
             [
              0.0,
              "#0d0887"
             ],
             [
              0.1111111111111111,
              "#46039f"
             ],
             [
              0.2222222222222222,
              "#7201a8"
             ],
             [
              0.3333333333333333,
              "#9c179e"
             ],
             [
              0.4444444444444444,
              "#bd3786"
             ],
             [
              0.5555555555555556,
              "#d8576b"
             ],
             [
              0.6666666666666666,
              "#ed7953"
             ],
             [
              0.7777777777777778,
              "#fb9f3a"
             ],
             [
              0.8888888888888888,
              "#fdca26"
             ],
             [
              1.0,
              "#f0f921"
             ]
            ]
           }
          ],
          "heatmap": [
           {
            "type": "heatmap",
            "colorbar": {
             "outlinewidth": 0,
             "ticks": ""
            },
            "colorscale": [
             [
              0.0,
              "#0d0887"
             ],
             [
              0.1111111111111111,
              "#46039f"
             ],
             [
              0.2222222222222222,
              "#7201a8"
             ],
             [
              0.3333333333333333,
              "#9c179e"
             ],
             [
              0.4444444444444444,
              "#bd3786"
             ],
             [
              0.5555555555555556,
              "#d8576b"
             ],
             [
              0.6666666666666666,
              "#ed7953"
             ],
             [
              0.7777777777777778,
              "#fb9f3a"
             ],
             [
              0.8888888888888888,
              "#fdca26"
             ],
             [
              1.0,
              "#f0f921"
             ]
            ]
           }
          ],
          "heatmapgl": [
           {
            "type": "heatmapgl",
            "colorbar": {
             "outlinewidth": 0,
             "ticks": ""
            },
            "colorscale": [
             [
              0.0,
              "#0d0887"
             ],
             [
              0.1111111111111111,
              "#46039f"
             ],
             [
              0.2222222222222222,
              "#7201a8"
             ],
             [
              0.3333333333333333,
              "#9c179e"
             ],
             [
              0.4444444444444444,
              "#bd3786"
             ],
             [
              0.5555555555555556,
              "#d8576b"
             ],
             [
              0.6666666666666666,
              "#ed7953"
             ],
             [
              0.7777777777777778,
              "#fb9f3a"
             ],
             [
              0.8888888888888888,
              "#fdca26"
             ],
             [
              1.0,
              "#f0f921"
             ]
            ]
           }
          ],
          "contourcarpet": [
           {
            "type": "contourcarpet",
            "colorbar": {
             "outlinewidth": 0,
             "ticks": ""
            }
           }
          ],
          "contour": [
           {
            "type": "contour",
            "colorbar": {
             "outlinewidth": 0,
             "ticks": ""
            },
            "colorscale": [
             [
              0.0,
              "#0d0887"
             ],
             [
              0.1111111111111111,
              "#46039f"
             ],
             [
              0.2222222222222222,
              "#7201a8"
             ],
             [
              0.3333333333333333,
              "#9c179e"
             ],
             [
              0.4444444444444444,
              "#bd3786"
             ],
             [
              0.5555555555555556,
              "#d8576b"
             ],
             [
              0.6666666666666666,
              "#ed7953"
             ],
             [
              0.7777777777777778,
              "#fb9f3a"
             ],
             [
              0.8888888888888888,
              "#fdca26"
             ],
             [
              1.0,
              "#f0f921"
             ]
            ]
           }
          ],
          "surface": [
           {
            "type": "surface",
            "colorbar": {
             "outlinewidth": 0,
             "ticks": ""
            },
            "colorscale": [
             [
              0.0,
              "#0d0887"
             ],
             [
              0.1111111111111111,
              "#46039f"
             ],
             [
              0.2222222222222222,
              "#7201a8"
             ],
             [
              0.3333333333333333,
              "#9c179e"
             ],
             [
              0.4444444444444444,
              "#bd3786"
             ],
             [
              0.5555555555555556,
              "#d8576b"
             ],
             [
              0.6666666666666666,
              "#ed7953"
             ],
             [
              0.7777777777777778,
              "#fb9f3a"
             ],
             [
              0.8888888888888888,
              "#fdca26"
             ],
             [
              1.0,
              "#f0f921"
             ]
            ]
           }
          ],
          "mesh3d": [
           {
            "type": "mesh3d",
            "colorbar": {
             "outlinewidth": 0,
             "ticks": ""
            }
           }
          ],
          "scatter": [
           {
            "fillpattern": {
             "fillmode": "overlay",
             "size": 10,
             "solidity": 0.2
            },
            "type": "scatter"
           }
          ],
          "parcoords": [
           {
            "type": "parcoords",
            "line": {
             "colorbar": {
              "outlinewidth": 0,
              "ticks": ""
             }
            }
           }
          ],
          "scatterpolargl": [
           {
            "type": "scatterpolargl",
            "marker": {
             "colorbar": {
              "outlinewidth": 0,
              "ticks": ""
             }
            }
           }
          ],
          "bar": [
           {
            "error_x": {
             "color": "#2a3f5f"
            },
            "error_y": {
             "color": "#2a3f5f"
            },
            "marker": {
             "line": {
              "color": "#E5ECF6",
              "width": 0.5
             },
             "pattern": {
              "fillmode": "overlay",
              "size": 10,
              "solidity": 0.2
             }
            },
            "type": "bar"
           }
          ],
          "scattergeo": [
           {
            "type": "scattergeo",
            "marker": {
             "colorbar": {
              "outlinewidth": 0,
              "ticks": ""
             }
            }
           }
          ],
          "scatterpolar": [
           {
            "type": "scatterpolar",
            "marker": {
             "colorbar": {
              "outlinewidth": 0,
              "ticks": ""
             }
            }
           }
          ],
          "histogram": [
           {
            "marker": {
             "pattern": {
              "fillmode": "overlay",
              "size": 10,
              "solidity": 0.2
             }
            },
            "type": "histogram"
           }
          ],
          "scattergl": [
           {
            "type": "scattergl",
            "marker": {
             "colorbar": {
              "outlinewidth": 0,
              "ticks": ""
             }
            }
           }
          ],
          "scatter3d": [
           {
            "type": "scatter3d",
            "line": {
             "colorbar": {
              "outlinewidth": 0,
              "ticks": ""
             }
            },
            "marker": {
             "colorbar": {
              "outlinewidth": 0,
              "ticks": ""
             }
            }
           }
          ],
          "scattermapbox": [
           {
            "type": "scattermapbox",
            "marker": {
             "colorbar": {
              "outlinewidth": 0,
              "ticks": ""
             }
            }
           }
          ],
          "scatterternary": [
           {
            "type": "scatterternary",
            "marker": {
             "colorbar": {
              "outlinewidth": 0,
              "ticks": ""
             }
            }
           }
          ],
          "scattercarpet": [
           {
            "type": "scattercarpet",
            "marker": {
             "colorbar": {
              "outlinewidth": 0,
              "ticks": ""
             }
            }
           }
          ],
          "carpet": [
           {
            "aaxis": {
             "endlinecolor": "#2a3f5f",
             "gridcolor": "white",
             "linecolor": "white",
             "minorgridcolor": "white",
             "startlinecolor": "#2a3f5f"
            },
            "baxis": {
             "endlinecolor": "#2a3f5f",
             "gridcolor": "white",
             "linecolor": "white",
             "minorgridcolor": "white",
             "startlinecolor": "#2a3f5f"
            },
            "type": "carpet"
           }
          ],
          "table": [
           {
            "cells": {
             "fill": {
              "color": "#EBF0F8"
             },
             "line": {
              "color": "white"
             }
            },
            "header": {
             "fill": {
              "color": "#C8D4E3"
             },
             "line": {
              "color": "white"
             }
            },
            "type": "table"
           }
          ],
          "barpolar": [
           {
            "marker": {
             "line": {
              "color": "#E5ECF6",
              "width": 0.5
             },
             "pattern": {
              "fillmode": "overlay",
              "size": 10,
              "solidity": 0.2
             }
            },
            "type": "barpolar"
           }
          ],
          "pie": [
           {
            "automargin": true,
            "type": "pie"
           }
          ]
         },
         "layout": {
          "autotypenumbers": "strict",
          "colorway": [
           "#636efa",
           "#EF553B",
           "#00cc96",
           "#ab63fa",
           "#FFA15A",
           "#19d3f3",
           "#FF6692",
           "#B6E880",
           "#FF97FF",
           "#FECB52"
          ],
          "font": {
           "color": "#2a3f5f"
          },
          "hovermode": "closest",
          "hoverlabel": {
           "align": "left"
          },
          "paper_bgcolor": "white",
          "plot_bgcolor": "#E5ECF6",
          "polar": {
           "bgcolor": "#E5ECF6",
           "angularaxis": {
            "gridcolor": "white",
            "linecolor": "white",
            "ticks": ""
           },
           "radialaxis": {
            "gridcolor": "white",
            "linecolor": "white",
            "ticks": ""
           }
          },
          "ternary": {
           "bgcolor": "#E5ECF6",
           "aaxis": {
            "gridcolor": "white",
            "linecolor": "white",
            "ticks": ""
           },
           "baxis": {
            "gridcolor": "white",
            "linecolor": "white",
            "ticks": ""
           },
           "caxis": {
            "gridcolor": "white",
            "linecolor": "white",
            "ticks": ""
           }
          },
          "coloraxis": {
           "colorbar": {
            "outlinewidth": 0,
            "ticks": ""
           }
          },
          "colorscale": {
           "sequential": [
            [
             0.0,
             "#0d0887"
            ],
            [
             0.1111111111111111,
             "#46039f"
            ],
            [
             0.2222222222222222,
             "#7201a8"
            ],
            [
             0.3333333333333333,
             "#9c179e"
            ],
            [
             0.4444444444444444,
             "#bd3786"
            ],
            [
             0.5555555555555556,
             "#d8576b"
            ],
            [
             0.6666666666666666,
             "#ed7953"
            ],
            [
             0.7777777777777778,
             "#fb9f3a"
            ],
            [
             0.8888888888888888,
             "#fdca26"
            ],
            [
             1.0,
             "#f0f921"
            ]
           ],
           "sequentialminus": [
            [
             0.0,
             "#0d0887"
            ],
            [
             0.1111111111111111,
             "#46039f"
            ],
            [
             0.2222222222222222,
             "#7201a8"
            ],
            [
             0.3333333333333333,
             "#9c179e"
            ],
            [
             0.4444444444444444,
             "#bd3786"
            ],
            [
             0.5555555555555556,
             "#d8576b"
            ],
            [
             0.6666666666666666,
             "#ed7953"
            ],
            [
             0.7777777777777778,
             "#fb9f3a"
            ],
            [
             0.8888888888888888,
             "#fdca26"
            ],
            [
             1.0,
             "#f0f921"
            ]
           ],
           "diverging": [
            [
             0,
             "#8e0152"
            ],
            [
             0.1,
             "#c51b7d"
            ],
            [
             0.2,
             "#de77ae"
            ],
            [
             0.3,
             "#f1b6da"
            ],
            [
             0.4,
             "#fde0ef"
            ],
            [
             0.5,
             "#f7f7f7"
            ],
            [
             0.6,
             "#e6f5d0"
            ],
            [
             0.7,
             "#b8e186"
            ],
            [
             0.8,
             "#7fbc41"
            ],
            [
             0.9,
             "#4d9221"
            ],
            [
             1,
             "#276419"
            ]
           ]
          },
          "xaxis": {
           "gridcolor": "white",
           "linecolor": "white",
           "ticks": "",
           "title": {
            "standoff": 15
           },
           "zerolinecolor": "white",
           "automargin": true,
           "zerolinewidth": 2
          },
          "yaxis": {
           "gridcolor": "white",
           "linecolor": "white",
           "ticks": "",
           "title": {
            "standoff": 15
           },
           "zerolinecolor": "white",
           "automargin": true,
           "zerolinewidth": 2
          },
          "scene": {
           "xaxis": {
            "backgroundcolor": "#E5ECF6",
            "gridcolor": "white",
            "linecolor": "white",
            "showbackground": true,
            "ticks": "",
            "zerolinecolor": "white",
            "gridwidth": 2
           },
           "yaxis": {
            "backgroundcolor": "#E5ECF6",
            "gridcolor": "white",
            "linecolor": "white",
            "showbackground": true,
            "ticks": "",
            "zerolinecolor": "white",
            "gridwidth": 2
           },
           "zaxis": {
            "backgroundcolor": "#E5ECF6",
            "gridcolor": "white",
            "linecolor": "white",
            "showbackground": true,
            "ticks": "",
            "zerolinecolor": "white",
            "gridwidth": 2
           }
          },
          "shapedefaults": {
           "line": {
            "color": "#2a3f5f"
           }
          },
          "annotationdefaults": {
           "arrowcolor": "#2a3f5f",
           "arrowhead": 0,
           "arrowwidth": 1
          },
          "geo": {
           "bgcolor": "white",
           "landcolor": "#E5ECF6",
           "subunitcolor": "white",
           "showland": true,
           "showlakes": true,
           "lakecolor": "white"
          },
          "title": {
           "x": 0.05
          },
          "mapbox": {
           "style": "light"
          }
         }
        },
        "xaxis": {
         "anchor": "y",
         "domain": [
          0.0,
          0.784
         ],
         "matches": "x3",
         "showticklabels": false
        },
        "yaxis": {
         "anchor": "x",
         "domain": [
          0.51,
          1.0
         ],
         "title": {
          "text": "Contribution"
         }
        },
        "xaxis2": {
         "anchor": "y2",
         "domain": [
          0.804,
          1.0
         ],
         "matches": "x4",
         "showticklabels": false
        },
        "yaxis2": {
         "anchor": "x2",
         "domain": [
          0.51,
          1.0
         ],
         "matches": "y",
         "showticklabels": false
        },
        "xaxis3": {
         "anchor": "y3",
         "domain": [
          0.0,
          0.784
         ],
         "title": {
          "text": "AveOccup"
         }
        },
        "yaxis3": {
         "anchor": "x3",
         "domain": [
          0.0,
          0.49
         ],
         "title": {
          "text": "Count"
         }
        },
        "xaxis4": {
         "anchor": "y4",
         "domain": [
          0.804,
          1.0
         ]
        },
        "yaxis4": {
         "anchor": "x4",
         "domain": [
          0.0,
          0.49
         ],
         "matches": "y3",
         "showticklabels": false
        },
        "annotations": [
         {
          "font": {
           "size": 16
          },
          "showarrow": false,
          "text": "MedHouseVal prediction",
          "x": 0.392,
          "xanchor": "center",
          "xref": "paper",
          "y": 1.0,
          "yanchor": "bottom",
          "yref": "paper"
         },
         {
          "font": {
           "size": 16
          },
          "showarrow": false,
          "text": "Contribution distribution",
          "x": 0.902,
          "xanchor": "center",
          "xref": "paper",
          "y": 1.0,
          "yanchor": "bottom",
          "yref": "paper"
         }
        ],
        "showlegend": false,
        "title": {
         "text": "Contributions are on the same scale as MedHouseVal,<br>and centered vertically on the train set."
        }
       },
       "config": {
        "plotlyServerURL": "https://plot.ly"
       }
      },
      "text/html": "<div>                            <div id=\"14ea0713-482f-43de-89db-8059975877bd\" class=\"plotly-graph-div\" style=\"height:525px; width:100%;\"></div>            <script type=\"text/javascript\">                require([\"plotly\"], function(Plotly) {                    window.PLOTLYENV=window.PLOTLYENV || {};                                    if (document.getElementById(\"14ea0713-482f-43de-89db-8059975877bd\")) {                    Plotly.newPlot(                        \"14ea0713-482f-43de-89db-8059975877bd\",                        [{\"hovertemplate\":\"x=%{x}<br>y=%{y}<extra></extra>\",\"legendgroup\":\"\",\"line\":{\"color\":\"#636efa\",\"dash\":\"solid\",\"shape\":\"hv\"},\"marker\":{\"symbol\":\"circle\"},\"mode\":\"lines\",\"name\":\"\",\"orientation\":\"v\",\"showlegend\":false,\"x\":[1.055572271347046,1.4630910158157349,1.5364913940429688,1.5879079103469849,1.6320276260375977,1.673406958580017,1.7104448080062866,1.74368155002594,1.7758573293685913,1.804178237915039,1.8270435333251953,1.8475887775421143,1.8663341999053955,1.8849217891693115,1.902835488319397,1.9194090366363525,1.9366683959960938,1.9528236389160156,1.967679738998413,1.9843145608901978,2.000394582748413,2.01558780670166,2.031036853790283,2.0458943843841553,2.0609817504882812,2.074349880218506,2.086460590362549,2.100714921951294,2.1153857707977295,2.1284663677215576,2.1416378021240234,2.1551976203918457,2.166346311569214,2.1759610176086426,2.1858720779418945,2.196762800216675,2.208604335784912,2.2201757431030273,2.230701446533203,2.240011692047119,2.2494418621063232,2.2590980529785156,2.2683427333831787,2.276332378387451,2.28426194190979,2.292555570602417,2.3001039028167725,2.3079607486724854,2.3171372413635254,2.32651686668396,2.33447003364563,2.3415658473968506,2.349442720413208,2.3576812744140625,2.365515947341919,2.3728461265563965,2.3795528411865234,2.3866846561431885,2.393721342086792,2.400369882583618,2.407294273376465,2.413949966430664,2.4207100868225098,2.427272081375122,2.433471441268921,2.4402058124542236,2.44679594039917,2.4525859355926514,2.457892894744873,2.4649221897125244,2.4719598293304443,2.477780342102051,2.48392915725708,2.490567445755005,2.4970741271972656,2.5031003952026367,2.5091004371643066,2.5147573947906494,2.5204403400421143,2.5266075134277344,2.5339388847351074,2.5418636798858643,2.548685312271118,2.5546066761016846,2.5611023902893066,2.5685136318206787,2.575058937072754,2.5806448459625244,2.5868191719055176,2.592977523803711,2.5982844829559326,2.603811025619507,2.609510898590088,2.6158030033111572,2.6227920055389404,2.629377603530884,2.635479211807251,2.6410977840423584,2.646181106567383,2.6511552333831787,2.657130002975464,2.6635403633117676,2.669304370880127,2.6752567291259766,2.6809237003326416,2.6865780353546143,2.692570447921753,2.698509454727173,2.704883337020874,2.7108101844787598,2.7165000438690186,2.722242832183838,2.7279396057128906,2.7331299781799316,2.7381975650787354,2.7441422939300537,2.7501258850097656,2.7561001777648926,2.761791467666626,2.766852378845215,2.7727577686309814,2.778716802597046,2.785039186477661,2.791761636734009,2.798574686050415,2.805097818374634,2.810770034790039,2.8165855407714844,2.8230409622192383,2.829622268676758,2.835476875305176,2.841291904449463,2.8468120098114014,2.8520472049713135,2.857529640197754,2.8631398677825928,2.868769884109497,2.8756980895996094,2.882457971572876,2.887840509414673,2.8936595916748047,2.899813652038574,2.9061899185180664,2.912968397140503,2.919762372970581,2.9267771244049072,2.9339025020599365,2.940286636352539,2.9469361305236816,2.953918695449829,2.959827184677124,2.9659504890441895,2.972684860229492,2.9795303344726562,2.985752582550049,2.991553783416748,2.997689962387085,3.0047738552093506,3.0122554302215576,3.0188705921173096,3.0252997875213623,3.032841444015503,3.040966033935547,3.0484511852264404,3.0559096336364746,3.0632083415985107,3.0700368881225586,3.076167345046997,3.0825228691101074,3.0902295112609863,3.097630500793457,3.1045339107513428,3.112391948699951,3.1207029819488525,3.1288819313049316,3.13753604888916,3.147294282913208,3.1558773517608643,3.1639912128448486,3.1723618507385254,3.1801681518554688,3.1876790523529053,3.195222854614258,3.203718900680542,3.213359832763672,3.2234442234039307,3.232839345932007,3.2414982318878174,3.2502663135528564,3.260274648666382,3.2703001499176025,3.2794029712677,3.288623571395874,3.2986063957214355,3.3084423542022705,3.31807804107666,3.3293070793151855,3.341409683227539,3.352013349533081,3.3615026473999023,3.3713772296905518,3.3827309608459473,3.3948261737823486,3.4075119495391846,3.421086549758911,3.434312582015991,3.4485793113708496,3.4634761810302734,3.47757887840271,3.4922847747802734,3.5050244331359863,3.5171568393707275,3.530618667602539,3.5467722415924072,3.564000368118286,3.579038619995117,3.594276189804077,3.610313892364502,3.6285667419433594,3.647916793823242,3.665773391723633,3.6822404861450195,3.699641704559326,3.7187581062316895,3.738245964050293,3.7612626552581787,3.7875823974609375,3.8115382194519043,3.8358161449432373,3.8623833656311035,3.887662649154663,3.9123308658599854,3.940430164337158,3.9720983505249023,4.007885456085205,4.046443462371826,4.082004070281982,4.114380359649658,4.147037029266357,4.179870128631592,4.220518589019775,4.263255596160889,4.302053928375244,4.345637321472168,4.39290189743042,4.444281101226807,4.504827499389648,4.570003032684326,4.634147644042969,4.708714008331299,4.808934688568115,4.948678970336914,5.141610145568848,5.445957660675049,6.08989143371582,303.1275634765625],\"xaxis\":\"x\",\"y\":[0.47839590056528797,0.4783959005652884,0.6062464145699734,0.6259807926483617,0.7429779201086573,0.7376841492097231,0.7472672466383257,0.7557004009045095,0.7067432624700724,0.6985204504156957,0.6650864328698654,0.6796884549062769,0.6587547928205055,0.6505487925010605,0.7076269597159245,0.6908364303488288,0.77538698055294,0.5673841780901225,0.5101377854848511,0.46903465319497145,0.5086917846347856,0.5434498706741424,0.541798527110339,0.5269039277705401,0.4300213423652764,0.4797849537776645,0.31736632232623946,0.3233368281237173,0.3184430072258712,0.3634598304908947,0.3639064089515798,0.31413357260026004,0.2920397738985631,0.2599848559212037,0.2898931319720724,0.29761446026743754,0.31498621819708816,0.31766350475724714,0.31014466675220176,0.2896691446952771,0.3032177444904886,0.3240983671306715,0.30939560389287907,0.2826875525403005,0.27450498183410416,0.27999731639831993,0.2874513344088532,0.22308991454132346,0.18061475924883247,0.15425533931118265,0.26919001507596374,0.27595288046999117,0.1939625094829471,0.11444609992523487,0.1619059654788131,0.15217304764097944,0.15368326798354662,0.15585020679747544,0.14847634715753386,0.15728592738125027,0.16784729741310342,0.1470924479269766,0.14244650374240891,0.0965194254887669,0.09721544199133875,0.14336573529363966,0.14609994687145986,0.13819870179587118,0.131865331936081,0.10415522138605515,0.10856800070774508,0.10891870553359431,0.11515989278662239,0.08824271545709352,0.050832881964075274,0.07652978594389255,0.15579031509002156,0.142973785940225,0.11559716735693645,0.07503132967579185,0.03193219022203688,0.04421021810742082,0.049498908319943684,0.0486289718113649,0.05971093603757956,0.06563491033245013,0.05459218890414863,0.05840627119022215,0.03924863252046341,0.039535482422158194,0.038403988192864225,0.03353843948663785,0.01792230124034873,-0.0008950121729239353,-0.01611243234984679,-0.013027738480775777,-0.006994081360651326,-0.0063208204215630505,0.0005396583139546402,-0.015404736140002125,-0.01950071509092066,-0.01950071509092066,-0.021126025102829883,-0.02232508865471025,-0.031948795814918184,-0.031513547374425306,-0.0350799176137039,-0.030174910757734805,-0.028279976059848437,-0.024845539945957673,-0.014319030990450385,-0.014319030990450385,0.0012916450618270462,-0.0062625790921116715,-0.001234718703329067,0.013001412306788055,-0.022686544206545062,-0.023290966665838894,-0.03151047833460451,-0.055515699980165305,-0.03807150150985492,-0.03797041932534727,-0.04366791779714086,-0.009816109174719676,-0.04829025688314213,-0.05790622778657488,-0.056912307606057304,-0.05979171463557055,-0.06491654802084576,-0.06877856297287269,-0.06101726377439429,-0.04290702723867023,-0.10564214562588464,-0.11792694388880279,-0.10258689025663117,-0.11193491103992838,-0.11193491103992838,-0.11746844389082287,-0.10911435802145614,-0.10444133143899124,-0.12218911239257438,-0.12694866507388675,-0.12362527812598835,-0.13520659354438094,-0.13566417024979877,-0.13368161967695855,-0.11793764137135429,-0.1257225507610646,-0.1305723513942653,-0.11624967083465486,-0.11279067824135934,-0.1241827077462423,-0.13072999027666546,-0.12159076358507677,-0.12457487030548885,-0.12350362406195661,-0.11644481230429217,-0.12441499432047262,-0.13787261895527472,-0.15284384588768982,-0.15063528734657045,-0.14524131060242232,-0.15838368838301461,-0.15944841429687678,-0.15849305429037194,-0.15920708336956182,-0.16039366700634444,-0.15128809529159323,-0.1448435044126805,-0.16151107592721567,-0.14157450242713934,-0.12895267060404136,-0.16988324298943902,-0.1901166421366522,-0.19317637738770121,-0.17864565820714207,-0.19749907810226208,-0.20476851807198537,-0.23111565053469857,-0.23073375135629826,-0.22248996741865398,-0.22216090690518464,-0.22209864046689876,-0.22061678611658864,-0.22287600602091923,-0.2233484787335215,-0.22401388192279661,-0.2619881271946982,-0.27059066695880485,-0.2739015767061492,-0.2739015767061492,-0.2748779705458728,-0.26980645819506205,-0.2607735344763801,-0.2582378994179006,-0.2510775608843008,-0.24971084933011672,-0.24971084933011672,-0.24791879051604207,-0.24791879051604207,-0.24791879051604207,-0.24791879051604207,-0.24525550738127117,-0.24604440982542222,-0.25041487831278103,-0.25041487831278103,-0.25104960780251556,-0.25104960780251556,-0.26103532946438157,-0.25416815327604414,-0.25458046413176766,-0.25386036708516185,-0.2678952047660579,-0.27006558051119717,-0.27062476169059774,-0.2695659763267278,-0.2703275640610204,-0.2703275640610204,-0.2681531372970239,-0.27051481403971983,-0.2709522215561654,-0.2709522215561654,-0.2709522215561654,-0.27200046014053375,-0.26818711955154423,-0.27001789532076104,-0.2706134585305465,-0.2642361109731783,-0.2633173634442533,-0.2628546597959933,-0.2628546597959933,-0.2628546597959933,-0.2632194421486953,-0.26524968633107976,-0.2605100505368747,-0.26701354962340723,-0.26332723228033356,-0.28418996593651963,-0.28418996593651963,-0.2888034783514734,-0.2888034783514734,-0.287009129508029,-0.28735615504156936,-0.28735615504156936,-0.28735615504156936,-0.2869283947970829,-0.2822525456612531,-0.2815797059992765,-0.2731304897488691,-0.2636541619919425,-0.258986657459226,-0.2586793637876046,-0.28279550374175855,-0.2525437174539568,-0.22426600136942515,-0.1869657854633028],\"yaxis\":\"y\",\"type\":\"scatter\"},{\"name\":\"AveOccup distribution\",\"x\":[1.055572271347046,1.4630910158157349,1.5364913940429688,1.5879079103469849,1.6320276260375977,1.673406958580017,1.7104448080062866,1.74368155002594,1.7758573293685913,1.804178237915039,1.8270435333251953,1.8475887775421143,1.8663341999053955,1.8849217891693115,1.902835488319397,1.9194090366363525,1.9366683959960938,1.9528236389160156,1.967679738998413,1.9843145608901978,2.000394582748413,2.01558780670166,2.031036853790283,2.0458943843841553,2.0609817504882812,2.074349880218506,2.086460590362549,2.100714921951294,2.1153857707977295,2.1284663677215576,2.1416378021240234,2.1551976203918457,2.166346311569214,2.1759610176086426,2.1858720779418945,2.196762800216675,2.208604335784912,2.2201757431030273,2.230701446533203,2.240011692047119,2.2494418621063232,2.2590980529785156,2.2683427333831787,2.276332378387451,2.28426194190979,2.292555570602417,2.3001039028167725,2.3079607486724854,2.3171372413635254,2.32651686668396,2.33447003364563,2.3415658473968506,2.349442720413208,2.3576812744140625,2.365515947341919,2.3728461265563965,2.3795528411865234,2.3866846561431885,2.393721342086792,2.400369882583618,2.407294273376465,2.413949966430664,2.4207100868225098,2.427272081375122,2.433471441268921,2.4402058124542236,2.44679594039917,2.4525859355926514,2.457892894744873,2.4649221897125244,2.4719598293304443,2.477780342102051,2.48392915725708,2.490567445755005,2.4970741271972656,2.5031003952026367,2.5091004371643066,2.5147573947906494,2.5204403400421143,2.5266075134277344,2.5339388847351074,2.5418636798858643,2.548685312271118,2.5546066761016846,2.5611023902893066,2.5685136318206787,2.575058937072754,2.5806448459625244,2.5868191719055176,2.592977523803711,2.5982844829559326,2.603811025619507,2.609510898590088,2.6158030033111572,2.6227920055389404,2.629377603530884,2.635479211807251,2.6410977840423584,2.646181106567383,2.6511552333831787,2.657130002975464,2.6635403633117676,2.669304370880127,2.6752567291259766,2.6809237003326416,2.6865780353546143,2.692570447921753,2.698509454727173,2.704883337020874,2.7108101844787598,2.7165000438690186,2.722242832183838,2.7279396057128906,2.7331299781799316,2.7381975650787354,2.7441422939300537,2.7501258850097656,2.7561001777648926,2.761791467666626,2.766852378845215,2.7727577686309814,2.778716802597046,2.785039186477661,2.791761636734009,2.798574686050415,2.805097818374634,2.810770034790039,2.8165855407714844,2.8230409622192383,2.829622268676758,2.835476875305176,2.841291904449463,2.8468120098114014,2.8520472049713135,2.857529640197754,2.8631398677825928,2.868769884109497,2.8756980895996094,2.882457971572876,2.887840509414673,2.8936595916748047,2.899813652038574,2.9061899185180664,2.912968397140503,2.919762372970581,2.9267771244049072,2.9339025020599365,2.940286636352539,2.9469361305236816,2.953918695449829,2.959827184677124,2.9659504890441895,2.972684860229492,2.9795303344726562,2.985752582550049,2.991553783416748,2.997689962387085,3.0047738552093506,3.0122554302215576,3.0188705921173096,3.0252997875213623,3.032841444015503,3.040966033935547,3.0484511852264404,3.0559096336364746,3.0632083415985107,3.0700368881225586,3.076167345046997,3.0825228691101074,3.0902295112609863,3.097630500793457,3.1045339107513428,3.112391948699951,3.1207029819488525,3.1288819313049316,3.13753604888916,3.147294282913208,3.1558773517608643,3.1639912128448486,3.1723618507385254,3.1801681518554688,3.1876790523529053,3.195222854614258,3.203718900680542,3.213359832763672,3.2234442234039307,3.232839345932007,3.2414982318878174,3.2502663135528564,3.260274648666382,3.2703001499176025,3.2794029712677,3.288623571395874,3.2986063957214355,3.3084423542022705,3.31807804107666,3.3293070793151855,3.341409683227539,3.352013349533081,3.3615026473999023,3.3713772296905518,3.3827309608459473,3.3948261737823486,3.4075119495391846,3.421086549758911,3.434312582015991,3.4485793113708496,3.4634761810302734,3.47757887840271,3.4922847747802734,3.5050244331359863,3.5171568393707275,3.530618667602539,3.5467722415924072,3.564000368118286,3.579038619995117,3.594276189804077,3.610313892364502,3.6285667419433594,3.647916793823242,3.665773391723633,3.6822404861450195,3.699641704559326,3.7187581062316895,3.738245964050293,3.7612626552581787,3.7875823974609375,3.8115382194519043,3.8358161449432373,3.8623833656311035,3.887662649154663,3.9123308658599854,3.940430164337158,3.9720983505249023,4.007885456085205,4.046443462371826,4.082004070281982,4.114380359649658,4.147037029266357,4.179870128631592,4.220518589019775,4.263255596160889,4.302053928375244,4.345637321472168,4.39290189743042,4.444281101226807,4.504827499389648,4.570003032684326,4.634147644042969,4.708714008331299,4.808934688568115,4.948678970336914,5.141610145568848,5.445957660675049,6.08989143371582,303.1275634765625],\"type\":\"histogram\",\"xaxis\":\"x3\",\"yaxis\":\"y3\"},{\"name\":\"\",\"y\":[0.47839590056528797,0.4783959005652884,0.6062464145699734,0.6259807926483617,0.7429779201086573,0.7376841492097231,0.7472672466383257,0.7557004009045095,0.7067432624700724,0.6985204504156957,0.6650864328698654,0.6796884549062769,0.6587547928205055,0.6505487925010605,0.7076269597159245,0.6908364303488288,0.77538698055294,0.5673841780901225,0.5101377854848511,0.46903465319497145,0.5086917846347856,0.5434498706741424,0.541798527110339,0.5269039277705401,0.4300213423652764,0.4797849537776645,0.31736632232623946,0.3233368281237173,0.3184430072258712,0.3634598304908947,0.3639064089515798,0.31413357260026004,0.2920397738985631,0.2599848559212037,0.2898931319720724,0.29761446026743754,0.31498621819708816,0.31766350475724714,0.31014466675220176,0.2896691446952771,0.3032177444904886,0.3240983671306715,0.30939560389287907,0.2826875525403005,0.27450498183410416,0.27999731639831993,0.2874513344088532,0.22308991454132346,0.18061475924883247,0.15425533931118265,0.26919001507596374,0.27595288046999117,0.1939625094829471,0.11444609992523487,0.1619059654788131,0.15217304764097944,0.15368326798354662,0.15585020679747544,0.14847634715753386,0.15728592738125027,0.16784729741310342,0.1470924479269766,0.14244650374240891,0.0965194254887669,0.09721544199133875,0.14336573529363966,0.14609994687145986,0.13819870179587118,0.131865331936081,0.10415522138605515,0.10856800070774508,0.10891870553359431,0.11515989278662239,0.08824271545709352,0.050832881964075274,0.07652978594389255,0.15579031509002156,0.142973785940225,0.11559716735693645,0.07503132967579185,0.03193219022203688,0.04421021810742082,0.049498908319943684,0.0486289718113649,0.05971093603757956,0.06563491033245013,0.05459218890414863,0.05840627119022215,0.03924863252046341,0.039535482422158194,0.038403988192864225,0.03353843948663785,0.01792230124034873,-0.0008950121729239353,-0.01611243234984679,-0.013027738480775777,-0.006994081360651326,-0.0063208204215630505,0.0005396583139546402,-0.015404736140002125,-0.01950071509092066,-0.01950071509092066,-0.021126025102829883,-0.02232508865471025,-0.031948795814918184,-0.031513547374425306,-0.0350799176137039,-0.030174910757734805,-0.028279976059848437,-0.024845539945957673,-0.014319030990450385,-0.014319030990450385,0.0012916450618270462,-0.0062625790921116715,-0.001234718703329067,0.013001412306788055,-0.022686544206545062,-0.023290966665838894,-0.03151047833460451,-0.055515699980165305,-0.03807150150985492,-0.03797041932534727,-0.04366791779714086,-0.009816109174719676,-0.04829025688314213,-0.05790622778657488,-0.056912307606057304,-0.05979171463557055,-0.06491654802084576,-0.06877856297287269,-0.06101726377439429,-0.04290702723867023,-0.10564214562588464,-0.11792694388880279,-0.10258689025663117,-0.11193491103992838,-0.11193491103992838,-0.11746844389082287,-0.10911435802145614,-0.10444133143899124,-0.12218911239257438,-0.12694866507388675,-0.12362527812598835,-0.13520659354438094,-0.13566417024979877,-0.13368161967695855,-0.11793764137135429,-0.1257225507610646,-0.1305723513942653,-0.11624967083465486,-0.11279067824135934,-0.1241827077462423,-0.13072999027666546,-0.12159076358507677,-0.12457487030548885,-0.12350362406195661,-0.11644481230429217,-0.12441499432047262,-0.13787261895527472,-0.15284384588768982,-0.15063528734657045,-0.14524131060242232,-0.15838368838301461,-0.15944841429687678,-0.15849305429037194,-0.15920708336956182,-0.16039366700634444,-0.15128809529159323,-0.1448435044126805,-0.16151107592721567,-0.14157450242713934,-0.12895267060404136,-0.16988324298943902,-0.1901166421366522,-0.19317637738770121,-0.17864565820714207,-0.19749907810226208,-0.20476851807198537,-0.23111565053469857,-0.23073375135629826,-0.22248996741865398,-0.22216090690518464,-0.22209864046689876,-0.22061678611658864,-0.22287600602091923,-0.2233484787335215,-0.22401388192279661,-0.2619881271946982,-0.27059066695880485,-0.2739015767061492,-0.2739015767061492,-0.2748779705458728,-0.26980645819506205,-0.2607735344763801,-0.2582378994179006,-0.2510775608843008,-0.24971084933011672,-0.24971084933011672,-0.24791879051604207,-0.24791879051604207,-0.24791879051604207,-0.24791879051604207,-0.24525550738127117,-0.24604440982542222,-0.25041487831278103,-0.25041487831278103,-0.25104960780251556,-0.25104960780251556,-0.26103532946438157,-0.25416815327604414,-0.25458046413176766,-0.25386036708516185,-0.2678952047660579,-0.27006558051119717,-0.27062476169059774,-0.2695659763267278,-0.2703275640610204,-0.2703275640610204,-0.2681531372970239,-0.27051481403971983,-0.2709522215561654,-0.2709522215561654,-0.2709522215561654,-0.27200046014053375,-0.26818711955154423,-0.27001789532076104,-0.2706134585305465,-0.2642361109731783,-0.2633173634442533,-0.2628546597959933,-0.2628546597959933,-0.2628546597959933,-0.2632194421486953,-0.26524968633107976,-0.2605100505368747,-0.26701354962340723,-0.26332723228033356,-0.28418996593651963,-0.28418996593651963,-0.2888034783514734,-0.2888034783514734,-0.287009129508029,-0.28735615504156936,-0.28735615504156936,-0.28735615504156936,-0.2869283947970829,-0.2822525456612531,-0.2815797059992765,-0.2731304897488691,-0.2636541619919425,-0.258986657459226,-0.2586793637876046,-0.28279550374175855,-0.2525437174539568,-0.22426600136942515,-0.1869657854633028],\"type\":\"box\",\"xaxis\":\"x2\",\"yaxis\":\"y2\"}],                        {\"template\":{\"data\":{\"histogram2dcontour\":[{\"type\":\"histogram2dcontour\",\"colorbar\":{\"outlinewidth\":0,\"ticks\":\"\"},\"colorscale\":[[0.0,\"#0d0887\"],[0.1111111111111111,\"#46039f\"],[0.2222222222222222,\"#7201a8\"],[0.3333333333333333,\"#9c179e\"],[0.4444444444444444,\"#bd3786\"],[0.5555555555555556,\"#d8576b\"],[0.6666666666666666,\"#ed7953\"],[0.7777777777777778,\"#fb9f3a\"],[0.8888888888888888,\"#fdca26\"],[1.0,\"#f0f921\"]]}],\"choropleth\":[{\"type\":\"choropleth\",\"colorbar\":{\"outlinewidth\":0,\"ticks\":\"\"}}],\"histogram2d\":[{\"type\":\"histogram2d\",\"colorbar\":{\"outlinewidth\":0,\"ticks\":\"\"},\"colorscale\":[[0.0,\"#0d0887\"],[0.1111111111111111,\"#46039f\"],[0.2222222222222222,\"#7201a8\"],[0.3333333333333333,\"#9c179e\"],[0.4444444444444444,\"#bd3786\"],[0.5555555555555556,\"#d8576b\"],[0.6666666666666666,\"#ed7953\"],[0.7777777777777778,\"#fb9f3a\"],[0.8888888888888888,\"#fdca26\"],[1.0,\"#f0f921\"]]}],\"heatmap\":[{\"type\":\"heatmap\",\"colorbar\":{\"outlinewidth\":0,\"ticks\":\"\"},\"colorscale\":[[0.0,\"#0d0887\"],[0.1111111111111111,\"#46039f\"],[0.2222222222222222,\"#7201a8\"],[0.3333333333333333,\"#9c179e\"],[0.4444444444444444,\"#bd3786\"],[0.5555555555555556,\"#d8576b\"],[0.6666666666666666,\"#ed7953\"],[0.7777777777777778,\"#fb9f3a\"],[0.8888888888888888,\"#fdca26\"],[1.0,\"#f0f921\"]]}],\"heatmapgl\":[{\"type\":\"heatmapgl\",\"colorbar\":{\"outlinewidth\":0,\"ticks\":\"\"},\"colorscale\":[[0.0,\"#0d0887\"],[0.1111111111111111,\"#46039f\"],[0.2222222222222222,\"#7201a8\"],[0.3333333333333333,\"#9c179e\"],[0.4444444444444444,\"#bd3786\"],[0.5555555555555556,\"#d8576b\"],[0.6666666666666666,\"#ed7953\"],[0.7777777777777778,\"#fb9f3a\"],[0.8888888888888888,\"#fdca26\"],[1.0,\"#f0f921\"]]}],\"contourcarpet\":[{\"type\":\"contourcarpet\",\"colorbar\":{\"outlinewidth\":0,\"ticks\":\"\"}}],\"contour\":[{\"type\":\"contour\",\"colorbar\":{\"outlinewidth\":0,\"ticks\":\"\"},\"colorscale\":[[0.0,\"#0d0887\"],[0.1111111111111111,\"#46039f\"],[0.2222222222222222,\"#7201a8\"],[0.3333333333333333,\"#9c179e\"],[0.4444444444444444,\"#bd3786\"],[0.5555555555555556,\"#d8576b\"],[0.6666666666666666,\"#ed7953\"],[0.7777777777777778,\"#fb9f3a\"],[0.8888888888888888,\"#fdca26\"],[1.0,\"#f0f921\"]]}],\"surface\":[{\"type\":\"surface\",\"colorbar\":{\"outlinewidth\":0,\"ticks\":\"\"},\"colorscale\":[[0.0,\"#0d0887\"],[0.1111111111111111,\"#46039f\"],[0.2222222222222222,\"#7201a8\"],[0.3333333333333333,\"#9c179e\"],[0.4444444444444444,\"#bd3786\"],[0.5555555555555556,\"#d8576b\"],[0.6666666666666666,\"#ed7953\"],[0.7777777777777778,\"#fb9f3a\"],[0.8888888888888888,\"#fdca26\"],[1.0,\"#f0f921\"]]}],\"mesh3d\":[{\"type\":\"mesh3d\",\"colorbar\":{\"outlinewidth\":0,\"ticks\":\"\"}}],\"scatter\":[{\"fillpattern\":{\"fillmode\":\"overlay\",\"size\":10,\"solidity\":0.2},\"type\":\"scatter\"}],\"parcoords\":[{\"type\":\"parcoords\",\"line\":{\"colorbar\":{\"outlinewidth\":0,\"ticks\":\"\"}}}],\"scatterpolargl\":[{\"type\":\"scatterpolargl\",\"marker\":{\"colorbar\":{\"outlinewidth\":0,\"ticks\":\"\"}}}],\"bar\":[{\"error_x\":{\"color\":\"#2a3f5f\"},\"error_y\":{\"color\":\"#2a3f5f\"},\"marker\":{\"line\":{\"color\":\"#E5ECF6\",\"width\":0.5},\"pattern\":{\"fillmode\":\"overlay\",\"size\":10,\"solidity\":0.2}},\"type\":\"bar\"}],\"scattergeo\":[{\"type\":\"scattergeo\",\"marker\":{\"colorbar\":{\"outlinewidth\":0,\"ticks\":\"\"}}}],\"scatterpolar\":[{\"type\":\"scatterpolar\",\"marker\":{\"colorbar\":{\"outlinewidth\":0,\"ticks\":\"\"}}}],\"histogram\":[{\"marker\":{\"pattern\":{\"fillmode\":\"overlay\",\"size\":10,\"solidity\":0.2}},\"type\":\"histogram\"}],\"scattergl\":[{\"type\":\"scattergl\",\"marker\":{\"colorbar\":{\"outlinewidth\":0,\"ticks\":\"\"}}}],\"scatter3d\":[{\"type\":\"scatter3d\",\"line\":{\"colorbar\":{\"outlinewidth\":0,\"ticks\":\"\"}},\"marker\":{\"colorbar\":{\"outlinewidth\":0,\"ticks\":\"\"}}}],\"scattermapbox\":[{\"type\":\"scattermapbox\",\"marker\":{\"colorbar\":{\"outlinewidth\":0,\"ticks\":\"\"}}}],\"scatterternary\":[{\"type\":\"scatterternary\",\"marker\":{\"colorbar\":{\"outlinewidth\":0,\"ticks\":\"\"}}}],\"scattercarpet\":[{\"type\":\"scattercarpet\",\"marker\":{\"colorbar\":{\"outlinewidth\":0,\"ticks\":\"\"}}}],\"carpet\":[{\"aaxis\":{\"endlinecolor\":\"#2a3f5f\",\"gridcolor\":\"white\",\"linecolor\":\"white\",\"minorgridcolor\":\"white\",\"startlinecolor\":\"#2a3f5f\"},\"baxis\":{\"endlinecolor\":\"#2a3f5f\",\"gridcolor\":\"white\",\"linecolor\":\"white\",\"minorgridcolor\":\"white\",\"startlinecolor\":\"#2a3f5f\"},\"type\":\"carpet\"}],\"table\":[{\"cells\":{\"fill\":{\"color\":\"#EBF0F8\"},\"line\":{\"color\":\"white\"}},\"header\":{\"fill\":{\"color\":\"#C8D4E3\"},\"line\":{\"color\":\"white\"}},\"type\":\"table\"}],\"barpolar\":[{\"marker\":{\"line\":{\"color\":\"#E5ECF6\",\"width\":0.5},\"pattern\":{\"fillmode\":\"overlay\",\"size\":10,\"solidity\":0.2}},\"type\":\"barpolar\"}],\"pie\":[{\"automargin\":true,\"type\":\"pie\"}]},\"layout\":{\"autotypenumbers\":\"strict\",\"colorway\":[\"#636efa\",\"#EF553B\",\"#00cc96\",\"#ab63fa\",\"#FFA15A\",\"#19d3f3\",\"#FF6692\",\"#B6E880\",\"#FF97FF\",\"#FECB52\"],\"font\":{\"color\":\"#2a3f5f\"},\"hovermode\":\"closest\",\"hoverlabel\":{\"align\":\"left\"},\"paper_bgcolor\":\"white\",\"plot_bgcolor\":\"#E5ECF6\",\"polar\":{\"bgcolor\":\"#E5ECF6\",\"angularaxis\":{\"gridcolor\":\"white\",\"linecolor\":\"white\",\"ticks\":\"\"},\"radialaxis\":{\"gridcolor\":\"white\",\"linecolor\":\"white\",\"ticks\":\"\"}},\"ternary\":{\"bgcolor\":\"#E5ECF6\",\"aaxis\":{\"gridcolor\":\"white\",\"linecolor\":\"white\",\"ticks\":\"\"},\"baxis\":{\"gridcolor\":\"white\",\"linecolor\":\"white\",\"ticks\":\"\"},\"caxis\":{\"gridcolor\":\"white\",\"linecolor\":\"white\",\"ticks\":\"\"}},\"coloraxis\":{\"colorbar\":{\"outlinewidth\":0,\"ticks\":\"\"}},\"colorscale\":{\"sequential\":[[0.0,\"#0d0887\"],[0.1111111111111111,\"#46039f\"],[0.2222222222222222,\"#7201a8\"],[0.3333333333333333,\"#9c179e\"],[0.4444444444444444,\"#bd3786\"],[0.5555555555555556,\"#d8576b\"],[0.6666666666666666,\"#ed7953\"],[0.7777777777777778,\"#fb9f3a\"],[0.8888888888888888,\"#fdca26\"],[1.0,\"#f0f921\"]],\"sequentialminus\":[[0.0,\"#0d0887\"],[0.1111111111111111,\"#46039f\"],[0.2222222222222222,\"#7201a8\"],[0.3333333333333333,\"#9c179e\"],[0.4444444444444444,\"#bd3786\"],[0.5555555555555556,\"#d8576b\"],[0.6666666666666666,\"#ed7953\"],[0.7777777777777778,\"#fb9f3a\"],[0.8888888888888888,\"#fdca26\"],[1.0,\"#f0f921\"]],\"diverging\":[[0,\"#8e0152\"],[0.1,\"#c51b7d\"],[0.2,\"#de77ae\"],[0.3,\"#f1b6da\"],[0.4,\"#fde0ef\"],[0.5,\"#f7f7f7\"],[0.6,\"#e6f5d0\"],[0.7,\"#b8e186\"],[0.8,\"#7fbc41\"],[0.9,\"#4d9221\"],[1,\"#276419\"]]},\"xaxis\":{\"gridcolor\":\"white\",\"linecolor\":\"white\",\"ticks\":\"\",\"title\":{\"standoff\":15},\"zerolinecolor\":\"white\",\"automargin\":true,\"zerolinewidth\":2},\"yaxis\":{\"gridcolor\":\"white\",\"linecolor\":\"white\",\"ticks\":\"\",\"title\":{\"standoff\":15},\"zerolinecolor\":\"white\",\"automargin\":true,\"zerolinewidth\":2},\"scene\":{\"xaxis\":{\"backgroundcolor\":\"#E5ECF6\",\"gridcolor\":\"white\",\"linecolor\":\"white\",\"showbackground\":true,\"ticks\":\"\",\"zerolinecolor\":\"white\",\"gridwidth\":2},\"yaxis\":{\"backgroundcolor\":\"#E5ECF6\",\"gridcolor\":\"white\",\"linecolor\":\"white\",\"showbackground\":true,\"ticks\":\"\",\"zerolinecolor\":\"white\",\"gridwidth\":2},\"zaxis\":{\"backgroundcolor\":\"#E5ECF6\",\"gridcolor\":\"white\",\"linecolor\":\"white\",\"showbackground\":true,\"ticks\":\"\",\"zerolinecolor\":\"white\",\"gridwidth\":2}},\"shapedefaults\":{\"line\":{\"color\":\"#2a3f5f\"}},\"annotationdefaults\":{\"arrowcolor\":\"#2a3f5f\",\"arrowhead\":0,\"arrowwidth\":1},\"geo\":{\"bgcolor\":\"white\",\"landcolor\":\"#E5ECF6\",\"subunitcolor\":\"white\",\"showland\":true,\"showlakes\":true,\"lakecolor\":\"white\"},\"title\":{\"x\":0.05},\"mapbox\":{\"style\":\"light\"}}},\"xaxis\":{\"anchor\":\"y\",\"domain\":[0.0,0.784],\"matches\":\"x3\",\"showticklabels\":false},\"yaxis\":{\"anchor\":\"x\",\"domain\":[0.51,1.0],\"title\":{\"text\":\"Contribution\"}},\"xaxis2\":{\"anchor\":\"y2\",\"domain\":[0.804,1.0],\"matches\":\"x4\",\"showticklabels\":false},\"yaxis2\":{\"anchor\":\"x2\",\"domain\":[0.51,1.0],\"matches\":\"y\",\"showticklabels\":false},\"xaxis3\":{\"anchor\":\"y3\",\"domain\":[0.0,0.784],\"title\":{\"text\":\"AveOccup\"}},\"yaxis3\":{\"anchor\":\"x3\",\"domain\":[0.0,0.49],\"title\":{\"text\":\"Count\"}},\"xaxis4\":{\"anchor\":\"y4\",\"domain\":[0.804,1.0]},\"yaxis4\":{\"anchor\":\"x4\",\"domain\":[0.0,0.49],\"matches\":\"y3\",\"showticklabels\":false},\"annotations\":[{\"font\":{\"size\":16},\"showarrow\":false,\"text\":\"MedHouseVal prediction\",\"x\":0.392,\"xanchor\":\"center\",\"xref\":\"paper\",\"y\":1.0,\"yanchor\":\"bottom\",\"yref\":\"paper\"},{\"font\":{\"size\":16},\"showarrow\":false,\"text\":\"Contribution distribution\",\"x\":0.902,\"xanchor\":\"center\",\"xref\":\"paper\",\"y\":1.0,\"yanchor\":\"bottom\",\"yref\":\"paper\"}],\"showlegend\":false,\"title\":{\"text\":\"Contributions are on the same scale as MedHouseVal,<br>and centered vertically on the train set.\"}},                        {\"responsive\": true}                    ).then(function(){\n                            \nvar gd = document.getElementById('14ea0713-482f-43de-89db-8059975877bd');\nvar x = new MutationObserver(function (mutations, observer) {{\n        var display = window.getComputedStyle(gd).display;\n        if (!display || display === 'none') {{\n            console.log([gd, 'removed!']);\n            Plotly.purge(gd);\n            observer.disconnect();\n        }}\n}});\n\n// Listen for the removal of the full notebook cells\nvar notebookContainer = gd.closest('#notebook-container');\nif (notebookContainer) {{\n    x.observe(notebookContainer, {childList: true});\n}}\n\n// Listen for the clearing of the current output cell\nvar outputEl = gd.closest('.output');\nif (outputEl) {{\n    x.observe(outputEl, {childList: true});\n}}\n\n                        })                };                });            </script>        </div>"
     },
     "metadata": {},
     "output_type": "display_data"
    },
    {
     "data": {
      "application/vnd.plotly.v1+json": {
       "data": [
        {
         "hovertemplate": "x=%{x}<br>y=%{y}<extra></extra>",
         "legendgroup": "",
         "line": {
          "color": "#636efa",
          "dash": "solid",
          "shape": "hv"
         },
         "marker": {
          "symbol": "circle"
         },
         "mode": "lines",
         "name": "",
         "orientation": "v",
         "showlegend": false,
         "x": [
          32.57500076293945,
          32.6349983215332,
          32.67499923706055,
          32.70000076293945,
          32.72999954223633,
          32.744998931884766,
          32.755001068115234,
          32.779998779296875,
          32.79499816894531,
          32.814998626708984,
          32.834999084472656,
          32.880001068115234,
          32.94499969482422,
          33.0099983215332,
          33.08000183105469,
          33.13999938964844,
          33.18085861206055,
          33.26951217651367,
          33.40365219116211,
          33.5,
          33.564998626708984,
          33.609825134277344,
          33.629825592041016,
          33.65999984741211,
          33.689998626708984,
          33.709999084472656,
          33.724998474121094,
          33.744998931884766,
          33.755001068115234,
          33.775001525878906,
          33.79499816894531,
          33.814998626708984,
          33.834999084472656,
          33.845001220703125,
          33.8650016784668,
          33.8849983215332,
          33.904998779296875,
          33.915000915527344,
          33.935001373291016,
          33.95500183105469,
          33.974998474121094,
          33.994998931884766,
          34.005001068115234,
          34.025001525878906,
          34.04499816894531,
          34.064998626708984,
          34.084999084472656,
          34.095001220703125,
          34.1150016784668,
          34.1349983215332,
          34.154998779296875,
          34.165000915527344,
          34.185001373291016,
          34.20500183105469,
          34.22412109375,
          34.23103332519531,
          34.241912841796875,
          34.255001068115234,
          34.275001525878906,
          34.31999969482422,
          34.380001068115234,
          34.41999816894531,
          34.439998626708984,
          34.494998931884766,
          34.59000015258789,
          34.67499923706055,
          34.79999923706055,
          34.959999084472656,
          35.130001068115234,
          35.279998779296875,
          35.349998474121094,
          35.3849983215332,
          35.45000076293945,
          35.630001068115234,
          35.91999816894531,
          36.14500045776367,
          36.26499938964844,
          36.334999084472656,
          36.435001373291016,
          36.55500030517578,
          36.60499954223633,
          36.654998779296875,
          36.709999084472656,
          36.744998931884766,
          36.775001525878906,
          36.79999923706055,
          36.82500076293945,
          36.880001068115234,
          36.94499969482422,
          36.98500061035156,
          37.04499816894531,
          37.154998779296875,
          37.23500061035156,
          37.2599983215332,
          37.279998779296875,
          37.29499816894531,
          37.31999969482422,
          37.334999084472656,
          37.345001220703125,
          37.3650016784668,
          37.380001068115234,
          37.415000915527344,
          37.44499969482422,
          37.470001220703125,
          37.494998931884766,
          37.52000045776367,
          37.540000915527344,
          37.560001373291016,
          37.584999084472656,
          37.61000061035156,
          37.630001068115234,
          37.650001525878906,
          37.665000915527344,
          37.685001373291016,
          37.709999084472656,
          37.724998474121094,
          37.744998931884766,
          37.755001068115234,
          37.775001525878906,
          37.79499816894531,
          37.814998626708984,
          37.83000183105469,
          37.849998474121094,
          37.869998931884766,
          37.88999938964844,
          37.904998779296875,
          37.91999816894531,
          37.935001373291016,
          37.95500183105469,
          37.97999954223633,
          37.994998931884766,
          38.005001068115234,
          38.029998779296875,
          38.07500076293945,
          38.125,
          38.189998626708984,
          38.255001068115234,
          38.29499816894531,
          38.334999084472656,
          38.375,
          38.41999816894531,
          38.45000076293945,
          38.47999954223633,
          38.51499938964844,
          38.540000915527344,
          38.560001373291016,
          38.58000183105469,
          38.599998474121094,
          38.625,
          38.650001525878906,
          38.66999816894531,
          38.689998626708984,
          38.724998474121094,
          38.810001373291016,
          38.904998779296875,
          38.9900016784668,
          39.084999084472656,
          39.150001525878906,
          39.209999084472656,
          39.334999084472656,
          39.51499938964844,
          39.685001373291016,
          39.911033630371094,
          40.251033782958984,
          40.5099983215332,
          40.679412841796875,
          40.86882781982422,
          41.45441436767578
         ],
         "xaxis": "x",
         "y": [
          0.7020956086493416,
          0.7020956086493456,
          0.6674565518555617,
          0.7854028674255713,
          0.6939568050580687,
          0.7187113899574283,
          0.7191018873838709,
          0.5067369391569385,
          0.48704284854859475,
          0.5393992881144374,
          0.6467478361532923,
          0.7947227172381197,
          0.5516119042239774,
          0.7410931932021185,
          0.8201126726226745,
          0.5662958671546572,
          0.5246408823007509,
          0.4966987626415088,
          0.48584088133941006,
          1.0362093570216304,
          1.204977098709026,
          0.8235437355297042,
          0.4510384629213342,
          0.46785682094372816,
          0.44028024651012093,
          0.2787406821603366,
          0.27296314296750346,
          0.13311448575995416,
          0.3111602703480876,
          0.19948574705295713,
          0.09459967707840039,
          0.13217331603208254,
          0.028365804207036716,
          0.22511828335011874,
          0.052615879656043404,
          0.021714478350393196,
          0.08580721502757475,
          -0.05506254892987919,
          -0.08731267929639966,
          -0.030594606953166487,
          -0.11198768186188918,
          0.11103943868127489,
          -0.03520789046723222,
          0.20199267590423775,
          0.21046294063832532,
          0.27647711497149596,
          0.5374600270246347,
          0.542126380732697,
          0.22693171386179223,
          0.3769655432067794,
          0.24316943323485557,
          0.16838897635344796,
          0.2506378571145439,
          -0.1428927218968079,
          0.138006133860201,
          -0.03342761509645248,
          0.17116461840661257,
          0.21683099241399498,
          -0.05374807252914282,
          -0.16500146839746138,
          -0.12154568960365825,
          0.6394585858609652,
          0.6664987556665058,
          0.7018559079959531,
          0.26341941941763847,
          0.0774614506430962,
          -0.37276417572863974,
          -0.07745397615822672,
          -9.531054251659121E-4,
          -0.3605775268769903,
          0.17025212293675998,
          -0.4953249563739104,
          -0.7821854644509374,
          -0.5836346217946552,
          -0.35621574624047037,
          -0.46224268628856857,
          -0.2777963579539732,
          -0.36666923188027356,
          -0.4814882042248818,
          -0.32997643173731417,
          0.010136669116259017,
          -0.01935833503501977,
          -0.18450231775921877,
          -0.3141550936556738,
          -0.44356780727059153,
          -0.45212162581254023,
          -0.5439261820076147,
          -0.5625762719817836,
          -0.016814506780222976,
          0.023954529119631807,
          -0.07974763201586016,
          0.15049374945393235,
          -0.05224949955777458,
          0.10574752050491859,
          -0.06586092512852626,
          0.1383454869034337,
          0.10569081979050556,
          -0.01289132594911152,
          0.025124384932141725,
          0.2739929825107507,
          0.45577429289330545,
          0.3694144243313606,
          -0.3779582219457255,
          0.3548840077477293,
          0.13962688163118944,
          0.14506616310276843,
          0.40325864682108875,
          0.1740361662160046,
          0.40831101959936034,
          0.34851946898811864,
          -0.3943054784845873,
          -0.16547574419240352,
          -0.40014625347595423,
          -0.40238207081748023,
          -0.548723453018683,
          -0.5449349273345188,
          -0.480459994900579,
          -0.5770237608807636,
          -0.2815731516873719,
          -0.24889041931133687,
          0.07019339473118762,
          -0.15402879677498144,
          -0.39782740666583005,
          -0.39190045146785857,
          -0.019923150179978727,
          -0.1636907052377115,
          -0.31405773202920406,
          -0.1693758783795679,
          -0.3812920172376083,
          -0.40212905087700346,
          -0.6207517706549635,
          -0.5308300704075829,
          -0.5349228061930179,
          -0.684991151940107,
          -0.533981118784155,
          -0.6953509762883441,
          -0.36134056428518413,
          -0.5696889836765693,
          -0.33802723318408184,
          -0.5578919586621128,
          -0.32955217623372324,
          -0.16080536300720527,
          -0.4092692751821818,
          -0.45175768346761713,
          -0.5240428849523147,
          -0.5901283444381767,
          -0.7492317169024962,
          -0.6986740983718441,
          -0.5630699407097348,
          -0.5476715229773391,
          -0.36961088399553,
          -0.493866783423369,
          -0.5704190612314064,
          -0.39556816660050376,
          -0.4791739821985309,
          -0.6985088476874675,
          -0.48148628438104646,
          -0.7005808695430981,
          -0.8230679831588055,
          -0.3840004538497268,
          -0.5846662968091448,
          -0.729332328537756,
          -0.7905234235311307,
          -0.7927796684402161,
          -0.8732939118743979,
          -0.9988393106679885,
          -0.959235291578646,
          -0.9610387908403231
         ],
         "yaxis": "y",
         "type": "scatter"
        },
        {
         "name": "Latitude distribution",
         "x": [
          32.57500076293945,
          32.6349983215332,
          32.67499923706055,
          32.70000076293945,
          32.72999954223633,
          32.744998931884766,
          32.755001068115234,
          32.779998779296875,
          32.79499816894531,
          32.814998626708984,
          32.834999084472656,
          32.880001068115234,
          32.94499969482422,
          33.0099983215332,
          33.08000183105469,
          33.13999938964844,
          33.18085861206055,
          33.26951217651367,
          33.40365219116211,
          33.5,
          33.564998626708984,
          33.609825134277344,
          33.629825592041016,
          33.65999984741211,
          33.689998626708984,
          33.709999084472656,
          33.724998474121094,
          33.744998931884766,
          33.755001068115234,
          33.775001525878906,
          33.79499816894531,
          33.814998626708984,
          33.834999084472656,
          33.845001220703125,
          33.8650016784668,
          33.8849983215332,
          33.904998779296875,
          33.915000915527344,
          33.935001373291016,
          33.95500183105469,
          33.974998474121094,
          33.994998931884766,
          34.005001068115234,
          34.025001525878906,
          34.04499816894531,
          34.064998626708984,
          34.084999084472656,
          34.095001220703125,
          34.1150016784668,
          34.1349983215332,
          34.154998779296875,
          34.165000915527344,
          34.185001373291016,
          34.20500183105469,
          34.22412109375,
          34.23103332519531,
          34.241912841796875,
          34.255001068115234,
          34.275001525878906,
          34.31999969482422,
          34.380001068115234,
          34.41999816894531,
          34.439998626708984,
          34.494998931884766,
          34.59000015258789,
          34.67499923706055,
          34.79999923706055,
          34.959999084472656,
          35.130001068115234,
          35.279998779296875,
          35.349998474121094,
          35.3849983215332,
          35.45000076293945,
          35.630001068115234,
          35.91999816894531,
          36.14500045776367,
          36.26499938964844,
          36.334999084472656,
          36.435001373291016,
          36.55500030517578,
          36.60499954223633,
          36.654998779296875,
          36.709999084472656,
          36.744998931884766,
          36.775001525878906,
          36.79999923706055,
          36.82500076293945,
          36.880001068115234,
          36.94499969482422,
          36.98500061035156,
          37.04499816894531,
          37.154998779296875,
          37.23500061035156,
          37.2599983215332,
          37.279998779296875,
          37.29499816894531,
          37.31999969482422,
          37.334999084472656,
          37.345001220703125,
          37.3650016784668,
          37.380001068115234,
          37.415000915527344,
          37.44499969482422,
          37.470001220703125,
          37.494998931884766,
          37.52000045776367,
          37.540000915527344,
          37.560001373291016,
          37.584999084472656,
          37.61000061035156,
          37.630001068115234,
          37.650001525878906,
          37.665000915527344,
          37.685001373291016,
          37.709999084472656,
          37.724998474121094,
          37.744998931884766,
          37.755001068115234,
          37.775001525878906,
          37.79499816894531,
          37.814998626708984,
          37.83000183105469,
          37.849998474121094,
          37.869998931884766,
          37.88999938964844,
          37.904998779296875,
          37.91999816894531,
          37.935001373291016,
          37.95500183105469,
          37.97999954223633,
          37.994998931884766,
          38.005001068115234,
          38.029998779296875,
          38.07500076293945,
          38.125,
          38.189998626708984,
          38.255001068115234,
          38.29499816894531,
          38.334999084472656,
          38.375,
          38.41999816894531,
          38.45000076293945,
          38.47999954223633,
          38.51499938964844,
          38.540000915527344,
          38.560001373291016,
          38.58000183105469,
          38.599998474121094,
          38.625,
          38.650001525878906,
          38.66999816894531,
          38.689998626708984,
          38.724998474121094,
          38.810001373291016,
          38.904998779296875,
          38.9900016784668,
          39.084999084472656,
          39.150001525878906,
          39.209999084472656,
          39.334999084472656,
          39.51499938964844,
          39.685001373291016,
          39.911033630371094,
          40.251033782958984,
          40.5099983215332,
          40.679412841796875,
          40.86882781982422,
          41.45441436767578
         ],
         "type": "histogram",
         "xaxis": "x3",
         "yaxis": "y3"
        },
        {
         "name": "",
         "y": [
          0.7020956086493416,
          0.7020956086493456,
          0.6674565518555617,
          0.7854028674255713,
          0.6939568050580687,
          0.7187113899574283,
          0.7191018873838709,
          0.5067369391569385,
          0.48704284854859475,
          0.5393992881144374,
          0.6467478361532923,
          0.7947227172381197,
          0.5516119042239774,
          0.7410931932021185,
          0.8201126726226745,
          0.5662958671546572,
          0.5246408823007509,
          0.4966987626415088,
          0.48584088133941006,
          1.0362093570216304,
          1.204977098709026,
          0.8235437355297042,
          0.4510384629213342,
          0.46785682094372816,
          0.44028024651012093,
          0.2787406821603366,
          0.27296314296750346,
          0.13311448575995416,
          0.3111602703480876,
          0.19948574705295713,
          0.09459967707840039,
          0.13217331603208254,
          0.028365804207036716,
          0.22511828335011874,
          0.052615879656043404,
          0.021714478350393196,
          0.08580721502757475,
          -0.05506254892987919,
          -0.08731267929639966,
          -0.030594606953166487,
          -0.11198768186188918,
          0.11103943868127489,
          -0.03520789046723222,
          0.20199267590423775,
          0.21046294063832532,
          0.27647711497149596,
          0.5374600270246347,
          0.542126380732697,
          0.22693171386179223,
          0.3769655432067794,
          0.24316943323485557,
          0.16838897635344796,
          0.2506378571145439,
          -0.1428927218968079,
          0.138006133860201,
          -0.03342761509645248,
          0.17116461840661257,
          0.21683099241399498,
          -0.05374807252914282,
          -0.16500146839746138,
          -0.12154568960365825,
          0.6394585858609652,
          0.6664987556665058,
          0.7018559079959531,
          0.26341941941763847,
          0.0774614506430962,
          -0.37276417572863974,
          -0.07745397615822672,
          -9.531054251659121E-4,
          -0.3605775268769903,
          0.17025212293675998,
          -0.4953249563739104,
          -0.7821854644509374,
          -0.5836346217946552,
          -0.35621574624047037,
          -0.46224268628856857,
          -0.2777963579539732,
          -0.36666923188027356,
          -0.4814882042248818,
          -0.32997643173731417,
          0.010136669116259017,
          -0.01935833503501977,
          -0.18450231775921877,
          -0.3141550936556738,
          -0.44356780727059153,
          -0.45212162581254023,
          -0.5439261820076147,
          -0.5625762719817836,
          -0.016814506780222976,
          0.023954529119631807,
          -0.07974763201586016,
          0.15049374945393235,
          -0.05224949955777458,
          0.10574752050491859,
          -0.06586092512852626,
          0.1383454869034337,
          0.10569081979050556,
          -0.01289132594911152,
          0.025124384932141725,
          0.2739929825107507,
          0.45577429289330545,
          0.3694144243313606,
          -0.3779582219457255,
          0.3548840077477293,
          0.13962688163118944,
          0.14506616310276843,
          0.40325864682108875,
          0.1740361662160046,
          0.40831101959936034,
          0.34851946898811864,
          -0.3943054784845873,
          -0.16547574419240352,
          -0.40014625347595423,
          -0.40238207081748023,
          -0.548723453018683,
          -0.5449349273345188,
          -0.480459994900579,
          -0.5770237608807636,
          -0.2815731516873719,
          -0.24889041931133687,
          0.07019339473118762,
          -0.15402879677498144,
          -0.39782740666583005,
          -0.39190045146785857,
          -0.019923150179978727,
          -0.1636907052377115,
          -0.31405773202920406,
          -0.1693758783795679,
          -0.3812920172376083,
          -0.40212905087700346,
          -0.6207517706549635,
          -0.5308300704075829,
          -0.5349228061930179,
          -0.684991151940107,
          -0.533981118784155,
          -0.6953509762883441,
          -0.36134056428518413,
          -0.5696889836765693,
          -0.33802723318408184,
          -0.5578919586621128,
          -0.32955217623372324,
          -0.16080536300720527,
          -0.4092692751821818,
          -0.45175768346761713,
          -0.5240428849523147,
          -0.5901283444381767,
          -0.7492317169024962,
          -0.6986740983718441,
          -0.5630699407097348,
          -0.5476715229773391,
          -0.36961088399553,
          -0.493866783423369,
          -0.5704190612314064,
          -0.39556816660050376,
          -0.4791739821985309,
          -0.6985088476874675,
          -0.48148628438104646,
          -0.7005808695430981,
          -0.8230679831588055,
          -0.3840004538497268,
          -0.5846662968091448,
          -0.729332328537756,
          -0.7905234235311307,
          -0.7927796684402161,
          -0.8732939118743979,
          -0.9988393106679885,
          -0.959235291578646,
          -0.9610387908403231
         ],
         "type": "box",
         "xaxis": "x2",
         "yaxis": "y2"
        }
       ],
       "layout": {
        "template": {
         "data": {
          "histogram2dcontour": [
           {
            "type": "histogram2dcontour",
            "colorbar": {
             "outlinewidth": 0,
             "ticks": ""
            },
            "colorscale": [
             [
              0.0,
              "#0d0887"
             ],
             [
              0.1111111111111111,
              "#46039f"
             ],
             [
              0.2222222222222222,
              "#7201a8"
             ],
             [
              0.3333333333333333,
              "#9c179e"
             ],
             [
              0.4444444444444444,
              "#bd3786"
             ],
             [
              0.5555555555555556,
              "#d8576b"
             ],
             [
              0.6666666666666666,
              "#ed7953"
             ],
             [
              0.7777777777777778,
              "#fb9f3a"
             ],
             [
              0.8888888888888888,
              "#fdca26"
             ],
             [
              1.0,
              "#f0f921"
             ]
            ]
           }
          ],
          "choropleth": [
           {
            "type": "choropleth",
            "colorbar": {
             "outlinewidth": 0,
             "ticks": ""
            }
           }
          ],
          "histogram2d": [
           {
            "type": "histogram2d",
            "colorbar": {
             "outlinewidth": 0,
             "ticks": ""
            },
            "colorscale": [
             [
              0.0,
              "#0d0887"
             ],
             [
              0.1111111111111111,
              "#46039f"
             ],
             [
              0.2222222222222222,
              "#7201a8"
             ],
             [
              0.3333333333333333,
              "#9c179e"
             ],
             [
              0.4444444444444444,
              "#bd3786"
             ],
             [
              0.5555555555555556,
              "#d8576b"
             ],
             [
              0.6666666666666666,
              "#ed7953"
             ],
             [
              0.7777777777777778,
              "#fb9f3a"
             ],
             [
              0.8888888888888888,
              "#fdca26"
             ],
             [
              1.0,
              "#f0f921"
             ]
            ]
           }
          ],
          "heatmap": [
           {
            "type": "heatmap",
            "colorbar": {
             "outlinewidth": 0,
             "ticks": ""
            },
            "colorscale": [
             [
              0.0,
              "#0d0887"
             ],
             [
              0.1111111111111111,
              "#46039f"
             ],
             [
              0.2222222222222222,
              "#7201a8"
             ],
             [
              0.3333333333333333,
              "#9c179e"
             ],
             [
              0.4444444444444444,
              "#bd3786"
             ],
             [
              0.5555555555555556,
              "#d8576b"
             ],
             [
              0.6666666666666666,
              "#ed7953"
             ],
             [
              0.7777777777777778,
              "#fb9f3a"
             ],
             [
              0.8888888888888888,
              "#fdca26"
             ],
             [
              1.0,
              "#f0f921"
             ]
            ]
           }
          ],
          "heatmapgl": [
           {
            "type": "heatmapgl",
            "colorbar": {
             "outlinewidth": 0,
             "ticks": ""
            },
            "colorscale": [
             [
              0.0,
              "#0d0887"
             ],
             [
              0.1111111111111111,
              "#46039f"
             ],
             [
              0.2222222222222222,
              "#7201a8"
             ],
             [
              0.3333333333333333,
              "#9c179e"
             ],
             [
              0.4444444444444444,
              "#bd3786"
             ],
             [
              0.5555555555555556,
              "#d8576b"
             ],
             [
              0.6666666666666666,
              "#ed7953"
             ],
             [
              0.7777777777777778,
              "#fb9f3a"
             ],
             [
              0.8888888888888888,
              "#fdca26"
             ],
             [
              1.0,
              "#f0f921"
             ]
            ]
           }
          ],
          "contourcarpet": [
           {
            "type": "contourcarpet",
            "colorbar": {
             "outlinewidth": 0,
             "ticks": ""
            }
           }
          ],
          "contour": [
           {
            "type": "contour",
            "colorbar": {
             "outlinewidth": 0,
             "ticks": ""
            },
            "colorscale": [
             [
              0.0,
              "#0d0887"
             ],
             [
              0.1111111111111111,
              "#46039f"
             ],
             [
              0.2222222222222222,
              "#7201a8"
             ],
             [
              0.3333333333333333,
              "#9c179e"
             ],
             [
              0.4444444444444444,
              "#bd3786"
             ],
             [
              0.5555555555555556,
              "#d8576b"
             ],
             [
              0.6666666666666666,
              "#ed7953"
             ],
             [
              0.7777777777777778,
              "#fb9f3a"
             ],
             [
              0.8888888888888888,
              "#fdca26"
             ],
             [
              1.0,
              "#f0f921"
             ]
            ]
           }
          ],
          "surface": [
           {
            "type": "surface",
            "colorbar": {
             "outlinewidth": 0,
             "ticks": ""
            },
            "colorscale": [
             [
              0.0,
              "#0d0887"
             ],
             [
              0.1111111111111111,
              "#46039f"
             ],
             [
              0.2222222222222222,
              "#7201a8"
             ],
             [
              0.3333333333333333,
              "#9c179e"
             ],
             [
              0.4444444444444444,
              "#bd3786"
             ],
             [
              0.5555555555555556,
              "#d8576b"
             ],
             [
              0.6666666666666666,
              "#ed7953"
             ],
             [
              0.7777777777777778,
              "#fb9f3a"
             ],
             [
              0.8888888888888888,
              "#fdca26"
             ],
             [
              1.0,
              "#f0f921"
             ]
            ]
           }
          ],
          "mesh3d": [
           {
            "type": "mesh3d",
            "colorbar": {
             "outlinewidth": 0,
             "ticks": ""
            }
           }
          ],
          "scatter": [
           {
            "fillpattern": {
             "fillmode": "overlay",
             "size": 10,
             "solidity": 0.2
            },
            "type": "scatter"
           }
          ],
          "parcoords": [
           {
            "type": "parcoords",
            "line": {
             "colorbar": {
              "outlinewidth": 0,
              "ticks": ""
             }
            }
           }
          ],
          "scatterpolargl": [
           {
            "type": "scatterpolargl",
            "marker": {
             "colorbar": {
              "outlinewidth": 0,
              "ticks": ""
             }
            }
           }
          ],
          "bar": [
           {
            "error_x": {
             "color": "#2a3f5f"
            },
            "error_y": {
             "color": "#2a3f5f"
            },
            "marker": {
             "line": {
              "color": "#E5ECF6",
              "width": 0.5
             },
             "pattern": {
              "fillmode": "overlay",
              "size": 10,
              "solidity": 0.2
             }
            },
            "type": "bar"
           }
          ],
          "scattergeo": [
           {
            "type": "scattergeo",
            "marker": {
             "colorbar": {
              "outlinewidth": 0,
              "ticks": ""
             }
            }
           }
          ],
          "scatterpolar": [
           {
            "type": "scatterpolar",
            "marker": {
             "colorbar": {
              "outlinewidth": 0,
              "ticks": ""
             }
            }
           }
          ],
          "histogram": [
           {
            "marker": {
             "pattern": {
              "fillmode": "overlay",
              "size": 10,
              "solidity": 0.2
             }
            },
            "type": "histogram"
           }
          ],
          "scattergl": [
           {
            "type": "scattergl",
            "marker": {
             "colorbar": {
              "outlinewidth": 0,
              "ticks": ""
             }
            }
           }
          ],
          "scatter3d": [
           {
            "type": "scatter3d",
            "line": {
             "colorbar": {
              "outlinewidth": 0,
              "ticks": ""
             }
            },
            "marker": {
             "colorbar": {
              "outlinewidth": 0,
              "ticks": ""
             }
            }
           }
          ],
          "scattermapbox": [
           {
            "type": "scattermapbox",
            "marker": {
             "colorbar": {
              "outlinewidth": 0,
              "ticks": ""
             }
            }
           }
          ],
          "scatterternary": [
           {
            "type": "scatterternary",
            "marker": {
             "colorbar": {
              "outlinewidth": 0,
              "ticks": ""
             }
            }
           }
          ],
          "scattercarpet": [
           {
            "type": "scattercarpet",
            "marker": {
             "colorbar": {
              "outlinewidth": 0,
              "ticks": ""
             }
            }
           }
          ],
          "carpet": [
           {
            "aaxis": {
             "endlinecolor": "#2a3f5f",
             "gridcolor": "white",
             "linecolor": "white",
             "minorgridcolor": "white",
             "startlinecolor": "#2a3f5f"
            },
            "baxis": {
             "endlinecolor": "#2a3f5f",
             "gridcolor": "white",
             "linecolor": "white",
             "minorgridcolor": "white",
             "startlinecolor": "#2a3f5f"
            },
            "type": "carpet"
           }
          ],
          "table": [
           {
            "cells": {
             "fill": {
              "color": "#EBF0F8"
             },
             "line": {
              "color": "white"
             }
            },
            "header": {
             "fill": {
              "color": "#C8D4E3"
             },
             "line": {
              "color": "white"
             }
            },
            "type": "table"
           }
          ],
          "barpolar": [
           {
            "marker": {
             "line": {
              "color": "#E5ECF6",
              "width": 0.5
             },
             "pattern": {
              "fillmode": "overlay",
              "size": 10,
              "solidity": 0.2
             }
            },
            "type": "barpolar"
           }
          ],
          "pie": [
           {
            "automargin": true,
            "type": "pie"
           }
          ]
         },
         "layout": {
          "autotypenumbers": "strict",
          "colorway": [
           "#636efa",
           "#EF553B",
           "#00cc96",
           "#ab63fa",
           "#FFA15A",
           "#19d3f3",
           "#FF6692",
           "#B6E880",
           "#FF97FF",
           "#FECB52"
          ],
          "font": {
           "color": "#2a3f5f"
          },
          "hovermode": "closest",
          "hoverlabel": {
           "align": "left"
          },
          "paper_bgcolor": "white",
          "plot_bgcolor": "#E5ECF6",
          "polar": {
           "bgcolor": "#E5ECF6",
           "angularaxis": {
            "gridcolor": "white",
            "linecolor": "white",
            "ticks": ""
           },
           "radialaxis": {
            "gridcolor": "white",
            "linecolor": "white",
            "ticks": ""
           }
          },
          "ternary": {
           "bgcolor": "#E5ECF6",
           "aaxis": {
            "gridcolor": "white",
            "linecolor": "white",
            "ticks": ""
           },
           "baxis": {
            "gridcolor": "white",
            "linecolor": "white",
            "ticks": ""
           },
           "caxis": {
            "gridcolor": "white",
            "linecolor": "white",
            "ticks": ""
           }
          },
          "coloraxis": {
           "colorbar": {
            "outlinewidth": 0,
            "ticks": ""
           }
          },
          "colorscale": {
           "sequential": [
            [
             0.0,
             "#0d0887"
            ],
            [
             0.1111111111111111,
             "#46039f"
            ],
            [
             0.2222222222222222,
             "#7201a8"
            ],
            [
             0.3333333333333333,
             "#9c179e"
            ],
            [
             0.4444444444444444,
             "#bd3786"
            ],
            [
             0.5555555555555556,
             "#d8576b"
            ],
            [
             0.6666666666666666,
             "#ed7953"
            ],
            [
             0.7777777777777778,
             "#fb9f3a"
            ],
            [
             0.8888888888888888,
             "#fdca26"
            ],
            [
             1.0,
             "#f0f921"
            ]
           ],
           "sequentialminus": [
            [
             0.0,
             "#0d0887"
            ],
            [
             0.1111111111111111,
             "#46039f"
            ],
            [
             0.2222222222222222,
             "#7201a8"
            ],
            [
             0.3333333333333333,
             "#9c179e"
            ],
            [
             0.4444444444444444,
             "#bd3786"
            ],
            [
             0.5555555555555556,
             "#d8576b"
            ],
            [
             0.6666666666666666,
             "#ed7953"
            ],
            [
             0.7777777777777778,
             "#fb9f3a"
            ],
            [
             0.8888888888888888,
             "#fdca26"
            ],
            [
             1.0,
             "#f0f921"
            ]
           ],
           "diverging": [
            [
             0,
             "#8e0152"
            ],
            [
             0.1,
             "#c51b7d"
            ],
            [
             0.2,
             "#de77ae"
            ],
            [
             0.3,
             "#f1b6da"
            ],
            [
             0.4,
             "#fde0ef"
            ],
            [
             0.5,
             "#f7f7f7"
            ],
            [
             0.6,
             "#e6f5d0"
            ],
            [
             0.7,
             "#b8e186"
            ],
            [
             0.8,
             "#7fbc41"
            ],
            [
             0.9,
             "#4d9221"
            ],
            [
             1,
             "#276419"
            ]
           ]
          },
          "xaxis": {
           "gridcolor": "white",
           "linecolor": "white",
           "ticks": "",
           "title": {
            "standoff": 15
           },
           "zerolinecolor": "white",
           "automargin": true,
           "zerolinewidth": 2
          },
          "yaxis": {
           "gridcolor": "white",
           "linecolor": "white",
           "ticks": "",
           "title": {
            "standoff": 15
           },
           "zerolinecolor": "white",
           "automargin": true,
           "zerolinewidth": 2
          },
          "scene": {
           "xaxis": {
            "backgroundcolor": "#E5ECF6",
            "gridcolor": "white",
            "linecolor": "white",
            "showbackground": true,
            "ticks": "",
            "zerolinecolor": "white",
            "gridwidth": 2
           },
           "yaxis": {
            "backgroundcolor": "#E5ECF6",
            "gridcolor": "white",
            "linecolor": "white",
            "showbackground": true,
            "ticks": "",
            "zerolinecolor": "white",
            "gridwidth": 2
           },
           "zaxis": {
            "backgroundcolor": "#E5ECF6",
            "gridcolor": "white",
            "linecolor": "white",
            "showbackground": true,
            "ticks": "",
            "zerolinecolor": "white",
            "gridwidth": 2
           }
          },
          "shapedefaults": {
           "line": {
            "color": "#2a3f5f"
           }
          },
          "annotationdefaults": {
           "arrowcolor": "#2a3f5f",
           "arrowhead": 0,
           "arrowwidth": 1
          },
          "geo": {
           "bgcolor": "white",
           "landcolor": "#E5ECF6",
           "subunitcolor": "white",
           "showland": true,
           "showlakes": true,
           "lakecolor": "white"
          },
          "title": {
           "x": 0.05
          },
          "mapbox": {
           "style": "light"
          }
         }
        },
        "xaxis": {
         "anchor": "y",
         "domain": [
          0.0,
          0.784
         ],
         "matches": "x3",
         "showticklabels": false
        },
        "yaxis": {
         "anchor": "x",
         "domain": [
          0.51,
          1.0
         ],
         "title": {
          "text": "Contribution"
         }
        },
        "xaxis2": {
         "anchor": "y2",
         "domain": [
          0.804,
          1.0
         ],
         "matches": "x4",
         "showticklabels": false
        },
        "yaxis2": {
         "anchor": "x2",
         "domain": [
          0.51,
          1.0
         ],
         "matches": "y",
         "showticklabels": false
        },
        "xaxis3": {
         "anchor": "y3",
         "domain": [
          0.0,
          0.784
         ],
         "title": {
          "text": "Latitude"
         }
        },
        "yaxis3": {
         "anchor": "x3",
         "domain": [
          0.0,
          0.49
         ],
         "title": {
          "text": "Count"
         }
        },
        "xaxis4": {
         "anchor": "y4",
         "domain": [
          0.804,
          1.0
         ]
        },
        "yaxis4": {
         "anchor": "x4",
         "domain": [
          0.0,
          0.49
         ],
         "matches": "y3",
         "showticklabels": false
        },
        "annotations": [
         {
          "font": {
           "size": 16
          },
          "showarrow": false,
          "text": "MedHouseVal prediction",
          "x": 0.392,
          "xanchor": "center",
          "xref": "paper",
          "y": 1.0,
          "yanchor": "bottom",
          "yref": "paper"
         },
         {
          "font": {
           "size": 16
          },
          "showarrow": false,
          "text": "Contribution distribution",
          "x": 0.902,
          "xanchor": "center",
          "xref": "paper",
          "y": 1.0,
          "yanchor": "bottom",
          "yref": "paper"
         }
        ],
        "showlegend": false,
        "title": {
         "text": "Contributions are on the same scale as MedHouseVal,<br>and centered vertically on the train set."
        }
       },
       "config": {
        "plotlyServerURL": "https://plot.ly"
       }
      },
      "text/html": "<div>                            <div id=\"f1eb6741-36e8-4266-933c-a87cc4eb48f2\" class=\"plotly-graph-div\" style=\"height:525px; width:100%;\"></div>            <script type=\"text/javascript\">                require([\"plotly\"], function(Plotly) {                    window.PLOTLYENV=window.PLOTLYENV || {};                                    if (document.getElementById(\"f1eb6741-36e8-4266-933c-a87cc4eb48f2\")) {                    Plotly.newPlot(                        \"f1eb6741-36e8-4266-933c-a87cc4eb48f2\",                        [{\"hovertemplate\":\"x=%{x}<br>y=%{y}<extra></extra>\",\"legendgroup\":\"\",\"line\":{\"color\":\"#636efa\",\"dash\":\"solid\",\"shape\":\"hv\"},\"marker\":{\"symbol\":\"circle\"},\"mode\":\"lines\",\"name\":\"\",\"orientation\":\"v\",\"showlegend\":false,\"x\":[32.57500076293945,32.6349983215332,32.67499923706055,32.70000076293945,32.72999954223633,32.744998931884766,32.755001068115234,32.779998779296875,32.79499816894531,32.814998626708984,32.834999084472656,32.880001068115234,32.94499969482422,33.0099983215332,33.08000183105469,33.13999938964844,33.18085861206055,33.26951217651367,33.40365219116211,33.5,33.564998626708984,33.609825134277344,33.629825592041016,33.65999984741211,33.689998626708984,33.709999084472656,33.724998474121094,33.744998931884766,33.755001068115234,33.775001525878906,33.79499816894531,33.814998626708984,33.834999084472656,33.845001220703125,33.8650016784668,33.8849983215332,33.904998779296875,33.915000915527344,33.935001373291016,33.95500183105469,33.974998474121094,33.994998931884766,34.005001068115234,34.025001525878906,34.04499816894531,34.064998626708984,34.084999084472656,34.095001220703125,34.1150016784668,34.1349983215332,34.154998779296875,34.165000915527344,34.185001373291016,34.20500183105469,34.22412109375,34.23103332519531,34.241912841796875,34.255001068115234,34.275001525878906,34.31999969482422,34.380001068115234,34.41999816894531,34.439998626708984,34.494998931884766,34.59000015258789,34.67499923706055,34.79999923706055,34.959999084472656,35.130001068115234,35.279998779296875,35.349998474121094,35.3849983215332,35.45000076293945,35.630001068115234,35.91999816894531,36.14500045776367,36.26499938964844,36.334999084472656,36.435001373291016,36.55500030517578,36.60499954223633,36.654998779296875,36.709999084472656,36.744998931884766,36.775001525878906,36.79999923706055,36.82500076293945,36.880001068115234,36.94499969482422,36.98500061035156,37.04499816894531,37.154998779296875,37.23500061035156,37.2599983215332,37.279998779296875,37.29499816894531,37.31999969482422,37.334999084472656,37.345001220703125,37.3650016784668,37.380001068115234,37.415000915527344,37.44499969482422,37.470001220703125,37.494998931884766,37.52000045776367,37.540000915527344,37.560001373291016,37.584999084472656,37.61000061035156,37.630001068115234,37.650001525878906,37.665000915527344,37.685001373291016,37.709999084472656,37.724998474121094,37.744998931884766,37.755001068115234,37.775001525878906,37.79499816894531,37.814998626708984,37.83000183105469,37.849998474121094,37.869998931884766,37.88999938964844,37.904998779296875,37.91999816894531,37.935001373291016,37.95500183105469,37.97999954223633,37.994998931884766,38.005001068115234,38.029998779296875,38.07500076293945,38.125,38.189998626708984,38.255001068115234,38.29499816894531,38.334999084472656,38.375,38.41999816894531,38.45000076293945,38.47999954223633,38.51499938964844,38.540000915527344,38.560001373291016,38.58000183105469,38.599998474121094,38.625,38.650001525878906,38.66999816894531,38.689998626708984,38.724998474121094,38.810001373291016,38.904998779296875,38.9900016784668,39.084999084472656,39.150001525878906,39.209999084472656,39.334999084472656,39.51499938964844,39.685001373291016,39.911033630371094,40.251033782958984,40.5099983215332,40.679412841796875,40.86882781982422,41.45441436767578],\"xaxis\":\"x\",\"y\":[0.7020956086493416,0.7020956086493456,0.6674565518555617,0.7854028674255713,0.6939568050580687,0.7187113899574283,0.7191018873838709,0.5067369391569385,0.48704284854859475,0.5393992881144374,0.6467478361532923,0.7947227172381197,0.5516119042239774,0.7410931932021185,0.8201126726226745,0.5662958671546572,0.5246408823007509,0.4966987626415088,0.48584088133941006,1.0362093570216304,1.204977098709026,0.8235437355297042,0.4510384629213342,0.46785682094372816,0.44028024651012093,0.2787406821603366,0.27296314296750346,0.13311448575995416,0.3111602703480876,0.19948574705295713,0.09459967707840039,0.13217331603208254,0.028365804207036716,0.22511828335011874,0.052615879656043404,0.021714478350393196,0.08580721502757475,-0.05506254892987919,-0.08731267929639966,-0.030594606953166487,-0.11198768186188918,0.11103943868127489,-0.03520789046723222,0.20199267590423775,0.21046294063832532,0.27647711497149596,0.5374600270246347,0.542126380732697,0.22693171386179223,0.3769655432067794,0.24316943323485557,0.16838897635344796,0.2506378571145439,-0.1428927218968079,0.138006133860201,-0.03342761509645248,0.17116461840661257,0.21683099241399498,-0.05374807252914282,-0.16500146839746138,-0.12154568960365825,0.6394585858609652,0.6664987556665058,0.7018559079959531,0.26341941941763847,0.0774614506430962,-0.37276417572863974,-0.07745397615822672,-0.0009531054251659121,-0.3605775268769903,0.17025212293675998,-0.4953249563739104,-0.7821854644509374,-0.5836346217946552,-0.35621574624047037,-0.46224268628856857,-0.2777963579539732,-0.36666923188027356,-0.4814882042248818,-0.32997643173731417,0.010136669116259017,-0.01935833503501977,-0.18450231775921877,-0.3141550936556738,-0.44356780727059153,-0.45212162581254023,-0.5439261820076147,-0.5625762719817836,-0.016814506780222976,0.023954529119631807,-0.07974763201586016,0.15049374945393235,-0.05224949955777458,0.10574752050491859,-0.06586092512852626,0.1383454869034337,0.10569081979050556,-0.01289132594911152,0.025124384932141725,0.2739929825107507,0.45577429289330545,0.3694144243313606,-0.3779582219457255,0.3548840077477293,0.13962688163118944,0.14506616310276843,0.40325864682108875,0.1740361662160046,0.40831101959936034,0.34851946898811864,-0.3943054784845873,-0.16547574419240352,-0.40014625347595423,-0.40238207081748023,-0.548723453018683,-0.5449349273345188,-0.480459994900579,-0.5770237608807636,-0.2815731516873719,-0.24889041931133687,0.07019339473118762,-0.15402879677498144,-0.39782740666583005,-0.39190045146785857,-0.019923150179978727,-0.1636907052377115,-0.31405773202920406,-0.1693758783795679,-0.3812920172376083,-0.40212905087700346,-0.6207517706549635,-0.5308300704075829,-0.5349228061930179,-0.684991151940107,-0.533981118784155,-0.6953509762883441,-0.36134056428518413,-0.5696889836765693,-0.33802723318408184,-0.5578919586621128,-0.32955217623372324,-0.16080536300720527,-0.4092692751821818,-0.45175768346761713,-0.5240428849523147,-0.5901283444381767,-0.7492317169024962,-0.6986740983718441,-0.5630699407097348,-0.5476715229773391,-0.36961088399553,-0.493866783423369,-0.5704190612314064,-0.39556816660050376,-0.4791739821985309,-0.6985088476874675,-0.48148628438104646,-0.7005808695430981,-0.8230679831588055,-0.3840004538497268,-0.5846662968091448,-0.729332328537756,-0.7905234235311307,-0.7927796684402161,-0.8732939118743979,-0.9988393106679885,-0.959235291578646,-0.9610387908403231],\"yaxis\":\"y\",\"type\":\"scatter\"},{\"name\":\"Latitude distribution\",\"x\":[32.57500076293945,32.6349983215332,32.67499923706055,32.70000076293945,32.72999954223633,32.744998931884766,32.755001068115234,32.779998779296875,32.79499816894531,32.814998626708984,32.834999084472656,32.880001068115234,32.94499969482422,33.0099983215332,33.08000183105469,33.13999938964844,33.18085861206055,33.26951217651367,33.40365219116211,33.5,33.564998626708984,33.609825134277344,33.629825592041016,33.65999984741211,33.689998626708984,33.709999084472656,33.724998474121094,33.744998931884766,33.755001068115234,33.775001525878906,33.79499816894531,33.814998626708984,33.834999084472656,33.845001220703125,33.8650016784668,33.8849983215332,33.904998779296875,33.915000915527344,33.935001373291016,33.95500183105469,33.974998474121094,33.994998931884766,34.005001068115234,34.025001525878906,34.04499816894531,34.064998626708984,34.084999084472656,34.095001220703125,34.1150016784668,34.1349983215332,34.154998779296875,34.165000915527344,34.185001373291016,34.20500183105469,34.22412109375,34.23103332519531,34.241912841796875,34.255001068115234,34.275001525878906,34.31999969482422,34.380001068115234,34.41999816894531,34.439998626708984,34.494998931884766,34.59000015258789,34.67499923706055,34.79999923706055,34.959999084472656,35.130001068115234,35.279998779296875,35.349998474121094,35.3849983215332,35.45000076293945,35.630001068115234,35.91999816894531,36.14500045776367,36.26499938964844,36.334999084472656,36.435001373291016,36.55500030517578,36.60499954223633,36.654998779296875,36.709999084472656,36.744998931884766,36.775001525878906,36.79999923706055,36.82500076293945,36.880001068115234,36.94499969482422,36.98500061035156,37.04499816894531,37.154998779296875,37.23500061035156,37.2599983215332,37.279998779296875,37.29499816894531,37.31999969482422,37.334999084472656,37.345001220703125,37.3650016784668,37.380001068115234,37.415000915527344,37.44499969482422,37.470001220703125,37.494998931884766,37.52000045776367,37.540000915527344,37.560001373291016,37.584999084472656,37.61000061035156,37.630001068115234,37.650001525878906,37.665000915527344,37.685001373291016,37.709999084472656,37.724998474121094,37.744998931884766,37.755001068115234,37.775001525878906,37.79499816894531,37.814998626708984,37.83000183105469,37.849998474121094,37.869998931884766,37.88999938964844,37.904998779296875,37.91999816894531,37.935001373291016,37.95500183105469,37.97999954223633,37.994998931884766,38.005001068115234,38.029998779296875,38.07500076293945,38.125,38.189998626708984,38.255001068115234,38.29499816894531,38.334999084472656,38.375,38.41999816894531,38.45000076293945,38.47999954223633,38.51499938964844,38.540000915527344,38.560001373291016,38.58000183105469,38.599998474121094,38.625,38.650001525878906,38.66999816894531,38.689998626708984,38.724998474121094,38.810001373291016,38.904998779296875,38.9900016784668,39.084999084472656,39.150001525878906,39.209999084472656,39.334999084472656,39.51499938964844,39.685001373291016,39.911033630371094,40.251033782958984,40.5099983215332,40.679412841796875,40.86882781982422,41.45441436767578],\"type\":\"histogram\",\"xaxis\":\"x3\",\"yaxis\":\"y3\"},{\"name\":\"\",\"y\":[0.7020956086493416,0.7020956086493456,0.6674565518555617,0.7854028674255713,0.6939568050580687,0.7187113899574283,0.7191018873838709,0.5067369391569385,0.48704284854859475,0.5393992881144374,0.6467478361532923,0.7947227172381197,0.5516119042239774,0.7410931932021185,0.8201126726226745,0.5662958671546572,0.5246408823007509,0.4966987626415088,0.48584088133941006,1.0362093570216304,1.204977098709026,0.8235437355297042,0.4510384629213342,0.46785682094372816,0.44028024651012093,0.2787406821603366,0.27296314296750346,0.13311448575995416,0.3111602703480876,0.19948574705295713,0.09459967707840039,0.13217331603208254,0.028365804207036716,0.22511828335011874,0.052615879656043404,0.021714478350393196,0.08580721502757475,-0.05506254892987919,-0.08731267929639966,-0.030594606953166487,-0.11198768186188918,0.11103943868127489,-0.03520789046723222,0.20199267590423775,0.21046294063832532,0.27647711497149596,0.5374600270246347,0.542126380732697,0.22693171386179223,0.3769655432067794,0.24316943323485557,0.16838897635344796,0.2506378571145439,-0.1428927218968079,0.138006133860201,-0.03342761509645248,0.17116461840661257,0.21683099241399498,-0.05374807252914282,-0.16500146839746138,-0.12154568960365825,0.6394585858609652,0.6664987556665058,0.7018559079959531,0.26341941941763847,0.0774614506430962,-0.37276417572863974,-0.07745397615822672,-0.0009531054251659121,-0.3605775268769903,0.17025212293675998,-0.4953249563739104,-0.7821854644509374,-0.5836346217946552,-0.35621574624047037,-0.46224268628856857,-0.2777963579539732,-0.36666923188027356,-0.4814882042248818,-0.32997643173731417,0.010136669116259017,-0.01935833503501977,-0.18450231775921877,-0.3141550936556738,-0.44356780727059153,-0.45212162581254023,-0.5439261820076147,-0.5625762719817836,-0.016814506780222976,0.023954529119631807,-0.07974763201586016,0.15049374945393235,-0.05224949955777458,0.10574752050491859,-0.06586092512852626,0.1383454869034337,0.10569081979050556,-0.01289132594911152,0.025124384932141725,0.2739929825107507,0.45577429289330545,0.3694144243313606,-0.3779582219457255,0.3548840077477293,0.13962688163118944,0.14506616310276843,0.40325864682108875,0.1740361662160046,0.40831101959936034,0.34851946898811864,-0.3943054784845873,-0.16547574419240352,-0.40014625347595423,-0.40238207081748023,-0.548723453018683,-0.5449349273345188,-0.480459994900579,-0.5770237608807636,-0.2815731516873719,-0.24889041931133687,0.07019339473118762,-0.15402879677498144,-0.39782740666583005,-0.39190045146785857,-0.019923150179978727,-0.1636907052377115,-0.31405773202920406,-0.1693758783795679,-0.3812920172376083,-0.40212905087700346,-0.6207517706549635,-0.5308300704075829,-0.5349228061930179,-0.684991151940107,-0.533981118784155,-0.6953509762883441,-0.36134056428518413,-0.5696889836765693,-0.33802723318408184,-0.5578919586621128,-0.32955217623372324,-0.16080536300720527,-0.4092692751821818,-0.45175768346761713,-0.5240428849523147,-0.5901283444381767,-0.7492317169024962,-0.6986740983718441,-0.5630699407097348,-0.5476715229773391,-0.36961088399553,-0.493866783423369,-0.5704190612314064,-0.39556816660050376,-0.4791739821985309,-0.6985088476874675,-0.48148628438104646,-0.7005808695430981,-0.8230679831588055,-0.3840004538497268,-0.5846662968091448,-0.729332328537756,-0.7905234235311307,-0.7927796684402161,-0.8732939118743979,-0.9988393106679885,-0.959235291578646,-0.9610387908403231],\"type\":\"box\",\"xaxis\":\"x2\",\"yaxis\":\"y2\"}],                        {\"template\":{\"data\":{\"histogram2dcontour\":[{\"type\":\"histogram2dcontour\",\"colorbar\":{\"outlinewidth\":0,\"ticks\":\"\"},\"colorscale\":[[0.0,\"#0d0887\"],[0.1111111111111111,\"#46039f\"],[0.2222222222222222,\"#7201a8\"],[0.3333333333333333,\"#9c179e\"],[0.4444444444444444,\"#bd3786\"],[0.5555555555555556,\"#d8576b\"],[0.6666666666666666,\"#ed7953\"],[0.7777777777777778,\"#fb9f3a\"],[0.8888888888888888,\"#fdca26\"],[1.0,\"#f0f921\"]]}],\"choropleth\":[{\"type\":\"choropleth\",\"colorbar\":{\"outlinewidth\":0,\"ticks\":\"\"}}],\"histogram2d\":[{\"type\":\"histogram2d\",\"colorbar\":{\"outlinewidth\":0,\"ticks\":\"\"},\"colorscale\":[[0.0,\"#0d0887\"],[0.1111111111111111,\"#46039f\"],[0.2222222222222222,\"#7201a8\"],[0.3333333333333333,\"#9c179e\"],[0.4444444444444444,\"#bd3786\"],[0.5555555555555556,\"#d8576b\"],[0.6666666666666666,\"#ed7953\"],[0.7777777777777778,\"#fb9f3a\"],[0.8888888888888888,\"#fdca26\"],[1.0,\"#f0f921\"]]}],\"heatmap\":[{\"type\":\"heatmap\",\"colorbar\":{\"outlinewidth\":0,\"ticks\":\"\"},\"colorscale\":[[0.0,\"#0d0887\"],[0.1111111111111111,\"#46039f\"],[0.2222222222222222,\"#7201a8\"],[0.3333333333333333,\"#9c179e\"],[0.4444444444444444,\"#bd3786\"],[0.5555555555555556,\"#d8576b\"],[0.6666666666666666,\"#ed7953\"],[0.7777777777777778,\"#fb9f3a\"],[0.8888888888888888,\"#fdca26\"],[1.0,\"#f0f921\"]]}],\"heatmapgl\":[{\"type\":\"heatmapgl\",\"colorbar\":{\"outlinewidth\":0,\"ticks\":\"\"},\"colorscale\":[[0.0,\"#0d0887\"],[0.1111111111111111,\"#46039f\"],[0.2222222222222222,\"#7201a8\"],[0.3333333333333333,\"#9c179e\"],[0.4444444444444444,\"#bd3786\"],[0.5555555555555556,\"#d8576b\"],[0.6666666666666666,\"#ed7953\"],[0.7777777777777778,\"#fb9f3a\"],[0.8888888888888888,\"#fdca26\"],[1.0,\"#f0f921\"]]}],\"contourcarpet\":[{\"type\":\"contourcarpet\",\"colorbar\":{\"outlinewidth\":0,\"ticks\":\"\"}}],\"contour\":[{\"type\":\"contour\",\"colorbar\":{\"outlinewidth\":0,\"ticks\":\"\"},\"colorscale\":[[0.0,\"#0d0887\"],[0.1111111111111111,\"#46039f\"],[0.2222222222222222,\"#7201a8\"],[0.3333333333333333,\"#9c179e\"],[0.4444444444444444,\"#bd3786\"],[0.5555555555555556,\"#d8576b\"],[0.6666666666666666,\"#ed7953\"],[0.7777777777777778,\"#fb9f3a\"],[0.8888888888888888,\"#fdca26\"],[1.0,\"#f0f921\"]]}],\"surface\":[{\"type\":\"surface\",\"colorbar\":{\"outlinewidth\":0,\"ticks\":\"\"},\"colorscale\":[[0.0,\"#0d0887\"],[0.1111111111111111,\"#46039f\"],[0.2222222222222222,\"#7201a8\"],[0.3333333333333333,\"#9c179e\"],[0.4444444444444444,\"#bd3786\"],[0.5555555555555556,\"#d8576b\"],[0.6666666666666666,\"#ed7953\"],[0.7777777777777778,\"#fb9f3a\"],[0.8888888888888888,\"#fdca26\"],[1.0,\"#f0f921\"]]}],\"mesh3d\":[{\"type\":\"mesh3d\",\"colorbar\":{\"outlinewidth\":0,\"ticks\":\"\"}}],\"scatter\":[{\"fillpattern\":{\"fillmode\":\"overlay\",\"size\":10,\"solidity\":0.2},\"type\":\"scatter\"}],\"parcoords\":[{\"type\":\"parcoords\",\"line\":{\"colorbar\":{\"outlinewidth\":0,\"ticks\":\"\"}}}],\"scatterpolargl\":[{\"type\":\"scatterpolargl\",\"marker\":{\"colorbar\":{\"outlinewidth\":0,\"ticks\":\"\"}}}],\"bar\":[{\"error_x\":{\"color\":\"#2a3f5f\"},\"error_y\":{\"color\":\"#2a3f5f\"},\"marker\":{\"line\":{\"color\":\"#E5ECF6\",\"width\":0.5},\"pattern\":{\"fillmode\":\"overlay\",\"size\":10,\"solidity\":0.2}},\"type\":\"bar\"}],\"scattergeo\":[{\"type\":\"scattergeo\",\"marker\":{\"colorbar\":{\"outlinewidth\":0,\"ticks\":\"\"}}}],\"scatterpolar\":[{\"type\":\"scatterpolar\",\"marker\":{\"colorbar\":{\"outlinewidth\":0,\"ticks\":\"\"}}}],\"histogram\":[{\"marker\":{\"pattern\":{\"fillmode\":\"overlay\",\"size\":10,\"solidity\":0.2}},\"type\":\"histogram\"}],\"scattergl\":[{\"type\":\"scattergl\",\"marker\":{\"colorbar\":{\"outlinewidth\":0,\"ticks\":\"\"}}}],\"scatter3d\":[{\"type\":\"scatter3d\",\"line\":{\"colorbar\":{\"outlinewidth\":0,\"ticks\":\"\"}},\"marker\":{\"colorbar\":{\"outlinewidth\":0,\"ticks\":\"\"}}}],\"scattermapbox\":[{\"type\":\"scattermapbox\",\"marker\":{\"colorbar\":{\"outlinewidth\":0,\"ticks\":\"\"}}}],\"scatterternary\":[{\"type\":\"scatterternary\",\"marker\":{\"colorbar\":{\"outlinewidth\":0,\"ticks\":\"\"}}}],\"scattercarpet\":[{\"type\":\"scattercarpet\",\"marker\":{\"colorbar\":{\"outlinewidth\":0,\"ticks\":\"\"}}}],\"carpet\":[{\"aaxis\":{\"endlinecolor\":\"#2a3f5f\",\"gridcolor\":\"white\",\"linecolor\":\"white\",\"minorgridcolor\":\"white\",\"startlinecolor\":\"#2a3f5f\"},\"baxis\":{\"endlinecolor\":\"#2a3f5f\",\"gridcolor\":\"white\",\"linecolor\":\"white\",\"minorgridcolor\":\"white\",\"startlinecolor\":\"#2a3f5f\"},\"type\":\"carpet\"}],\"table\":[{\"cells\":{\"fill\":{\"color\":\"#EBF0F8\"},\"line\":{\"color\":\"white\"}},\"header\":{\"fill\":{\"color\":\"#C8D4E3\"},\"line\":{\"color\":\"white\"}},\"type\":\"table\"}],\"barpolar\":[{\"marker\":{\"line\":{\"color\":\"#E5ECF6\",\"width\":0.5},\"pattern\":{\"fillmode\":\"overlay\",\"size\":10,\"solidity\":0.2}},\"type\":\"barpolar\"}],\"pie\":[{\"automargin\":true,\"type\":\"pie\"}]},\"layout\":{\"autotypenumbers\":\"strict\",\"colorway\":[\"#636efa\",\"#EF553B\",\"#00cc96\",\"#ab63fa\",\"#FFA15A\",\"#19d3f3\",\"#FF6692\",\"#B6E880\",\"#FF97FF\",\"#FECB52\"],\"font\":{\"color\":\"#2a3f5f\"},\"hovermode\":\"closest\",\"hoverlabel\":{\"align\":\"left\"},\"paper_bgcolor\":\"white\",\"plot_bgcolor\":\"#E5ECF6\",\"polar\":{\"bgcolor\":\"#E5ECF6\",\"angularaxis\":{\"gridcolor\":\"white\",\"linecolor\":\"white\",\"ticks\":\"\"},\"radialaxis\":{\"gridcolor\":\"white\",\"linecolor\":\"white\",\"ticks\":\"\"}},\"ternary\":{\"bgcolor\":\"#E5ECF6\",\"aaxis\":{\"gridcolor\":\"white\",\"linecolor\":\"white\",\"ticks\":\"\"},\"baxis\":{\"gridcolor\":\"white\",\"linecolor\":\"white\",\"ticks\":\"\"},\"caxis\":{\"gridcolor\":\"white\",\"linecolor\":\"white\",\"ticks\":\"\"}},\"coloraxis\":{\"colorbar\":{\"outlinewidth\":0,\"ticks\":\"\"}},\"colorscale\":{\"sequential\":[[0.0,\"#0d0887\"],[0.1111111111111111,\"#46039f\"],[0.2222222222222222,\"#7201a8\"],[0.3333333333333333,\"#9c179e\"],[0.4444444444444444,\"#bd3786\"],[0.5555555555555556,\"#d8576b\"],[0.6666666666666666,\"#ed7953\"],[0.7777777777777778,\"#fb9f3a\"],[0.8888888888888888,\"#fdca26\"],[1.0,\"#f0f921\"]],\"sequentialminus\":[[0.0,\"#0d0887\"],[0.1111111111111111,\"#46039f\"],[0.2222222222222222,\"#7201a8\"],[0.3333333333333333,\"#9c179e\"],[0.4444444444444444,\"#bd3786\"],[0.5555555555555556,\"#d8576b\"],[0.6666666666666666,\"#ed7953\"],[0.7777777777777778,\"#fb9f3a\"],[0.8888888888888888,\"#fdca26\"],[1.0,\"#f0f921\"]],\"diverging\":[[0,\"#8e0152\"],[0.1,\"#c51b7d\"],[0.2,\"#de77ae\"],[0.3,\"#f1b6da\"],[0.4,\"#fde0ef\"],[0.5,\"#f7f7f7\"],[0.6,\"#e6f5d0\"],[0.7,\"#b8e186\"],[0.8,\"#7fbc41\"],[0.9,\"#4d9221\"],[1,\"#276419\"]]},\"xaxis\":{\"gridcolor\":\"white\",\"linecolor\":\"white\",\"ticks\":\"\",\"title\":{\"standoff\":15},\"zerolinecolor\":\"white\",\"automargin\":true,\"zerolinewidth\":2},\"yaxis\":{\"gridcolor\":\"white\",\"linecolor\":\"white\",\"ticks\":\"\",\"title\":{\"standoff\":15},\"zerolinecolor\":\"white\",\"automargin\":true,\"zerolinewidth\":2},\"scene\":{\"xaxis\":{\"backgroundcolor\":\"#E5ECF6\",\"gridcolor\":\"white\",\"linecolor\":\"white\",\"showbackground\":true,\"ticks\":\"\",\"zerolinecolor\":\"white\",\"gridwidth\":2},\"yaxis\":{\"backgroundcolor\":\"#E5ECF6\",\"gridcolor\":\"white\",\"linecolor\":\"white\",\"showbackground\":true,\"ticks\":\"\",\"zerolinecolor\":\"white\",\"gridwidth\":2},\"zaxis\":{\"backgroundcolor\":\"#E5ECF6\",\"gridcolor\":\"white\",\"linecolor\":\"white\",\"showbackground\":true,\"ticks\":\"\",\"zerolinecolor\":\"white\",\"gridwidth\":2}},\"shapedefaults\":{\"line\":{\"color\":\"#2a3f5f\"}},\"annotationdefaults\":{\"arrowcolor\":\"#2a3f5f\",\"arrowhead\":0,\"arrowwidth\":1},\"geo\":{\"bgcolor\":\"white\",\"landcolor\":\"#E5ECF6\",\"subunitcolor\":\"white\",\"showland\":true,\"showlakes\":true,\"lakecolor\":\"white\"},\"title\":{\"x\":0.05},\"mapbox\":{\"style\":\"light\"}}},\"xaxis\":{\"anchor\":\"y\",\"domain\":[0.0,0.784],\"matches\":\"x3\",\"showticklabels\":false},\"yaxis\":{\"anchor\":\"x\",\"domain\":[0.51,1.0],\"title\":{\"text\":\"Contribution\"}},\"xaxis2\":{\"anchor\":\"y2\",\"domain\":[0.804,1.0],\"matches\":\"x4\",\"showticklabels\":false},\"yaxis2\":{\"anchor\":\"x2\",\"domain\":[0.51,1.0],\"matches\":\"y\",\"showticklabels\":false},\"xaxis3\":{\"anchor\":\"y3\",\"domain\":[0.0,0.784],\"title\":{\"text\":\"Latitude\"}},\"yaxis3\":{\"anchor\":\"x3\",\"domain\":[0.0,0.49],\"title\":{\"text\":\"Count\"}},\"xaxis4\":{\"anchor\":\"y4\",\"domain\":[0.804,1.0]},\"yaxis4\":{\"anchor\":\"x4\",\"domain\":[0.0,0.49],\"matches\":\"y3\",\"showticklabels\":false},\"annotations\":[{\"font\":{\"size\":16},\"showarrow\":false,\"text\":\"MedHouseVal prediction\",\"x\":0.392,\"xanchor\":\"center\",\"xref\":\"paper\",\"y\":1.0,\"yanchor\":\"bottom\",\"yref\":\"paper\"},{\"font\":{\"size\":16},\"showarrow\":false,\"text\":\"Contribution distribution\",\"x\":0.902,\"xanchor\":\"center\",\"xref\":\"paper\",\"y\":1.0,\"yanchor\":\"bottom\",\"yref\":\"paper\"}],\"showlegend\":false,\"title\":{\"text\":\"Contributions are on the same scale as MedHouseVal,<br>and centered vertically on the train set.\"}},                        {\"responsive\": true}                    ).then(function(){\n                            \nvar gd = document.getElementById('f1eb6741-36e8-4266-933c-a87cc4eb48f2');\nvar x = new MutationObserver(function (mutations, observer) {{\n        var display = window.getComputedStyle(gd).display;\n        if (!display || display === 'none') {{\n            console.log([gd, 'removed!']);\n            Plotly.purge(gd);\n            observer.disconnect();\n        }}\n}});\n\n// Listen for the removal of the full notebook cells\nvar notebookContainer = gd.closest('#notebook-container');\nif (notebookContainer) {{\n    x.observe(notebookContainer, {childList: true});\n}}\n\n// Listen for the clearing of the current output cell\nvar outputEl = gd.closest('.output');\nif (outputEl) {{\n    x.observe(outputEl, {childList: true});\n}}\n\n                        })                };                });            </script>        </div>"
     },
     "metadata": {},
     "output_type": "display_data"
    },
    {
     "data": {
      "application/vnd.plotly.v1+json": {
       "data": [
        {
         "hovertemplate": "x=%{x}<br>y=%{y}<extra></extra>",
         "legendgroup": "",
         "line": {
          "color": "#636efa",
          "dash": "solid",
          "shape": "hv"
         },
         "marker": {
          "symbol": "circle"
         },
         "mode": "lines",
         "name": "",
         "orientation": "v",
         "showlegend": false,
         "x": [
          -124.2300033569336,
          -123.81999969482422,
          -123.30500030517578,
          -122.97000122070312,
          -122.80000305175781,
          -122.72000122070312,
          -122.67500305175781,
          -122.62000274658203,
          -122.56500244140625,
          -122.5199966430664,
          -122.49500274658203,
          -122.48500061035156,
          -122.47000122070312,
          -122.45500183105469,
          -122.44499969482422,
          -122.43499755859375,
          -122.41500091552734,
          -122.4000015258789,
          -122.375,
          -122.3499984741211,
          -122.33000183105469,
          -122.31500244140625,
          -122.30000305175781,
          -122.2750015258789,
          -122.26499938964844,
          -122.24500274658203,
          -122.23500061035156,
          -122.2249984741211,
          -122.20999908447266,
          -122.19499969482422,
          -122.18000030517578,
          -122.16500091552734,
          -122.1500015258789,
          -122.13500213623047,
          -122.12000274658203,
          -122.08999633789062,
          -122.06500244140625,
          -122.05500030517578,
          -122.04499816894531,
          -122.0250015258789,
          -122.01499938964844,
          -121.98999786376953,
          -121.9749984741211,
          -121.95500183105469,
          -121.94000244140625,
          -121.91500091552734,
          -121.9000015258789,
          -121.88500213623047,
          -121.875,
          -121.86000061035156,
          -121.83999633789062,
          -121.80999755859375,
          -121.79000091552734,
          -121.76499938964844,
          -121.72000122070312,
          -121.66500091552734,
          -121.62000274658203,
          -121.58000183105469,
          -121.53669738769531,
          -121.49669647216797,
          -121.47000122070312,
          -121.44999694824219,
          -121.43000030517578,
          -121.40499877929688,
          -121.37999725341797,
          -121.3550033569336,
          -121.33000183105469,
          -121.31500244140625,
          -121.30000305175781,
          -121.2699966430664,
          -121.25,
          -121.2249984741211,
          -121.18499755859375,
          -121.12000274658203,
          -121.05921936035156,
          -121.01921844482422,
          -120.98500061035156,
          -120.94999694824219,
          -120.8930435180664,
          -120.82804870605469,
          -120.74500274658203,
          -120.66000366210938,
          -120.58999633789062,
          -120.50499725341797,
          -120.44499969482422,
          -120.4000015258789,
          -120.29570007324219,
          -120.15070343017578,
          -120.03500366210938,
          -119.92500305175781,
          -119.83999633789062,
          -119.80500030517578,
          -119.77999877929688,
          -119.75499725341797,
          -119.7249984741211,
          -119.69499969482422,
          -119.6449966430664,
          -119.56497955322266,
          -119.44998168945312,
          -119.34500122070312,
          -119.29000091552734,
          -119.24500274658203,
          -119.19999694824219,
          -119.13999938964844,
          -119.07499694824219,
          -119.03500366210938,
          -119.00499725341797,
          -118.97000122070312,
          -118.91000366210938,
          -118.81500244140625,
          -118.70367431640625,
          -118.6186752319336,
          -118.56999969482422,
          -118.53500366210938,
          -118.51000213623047,
          -118.48999786376953,
          -118.4749984741211,
          -118.45500183105469,
          -118.44499969482422,
          -118.43499755859375,
          -118.41500091552734,
          -118.40499877929688,
          -118.38500213623047,
          -118.375,
          -118.36499786376953,
          -118.34500122070312,
          -118.33499908447266,
          -118.31500244140625,
          -118.30500030517578,
          -118.29499816894531,
          -118.2750015258789,
          -118.26499938964844,
          -118.24500274658203,
          -118.23500061035156,
          -118.2249984741211,
          -118.20500183105469,
          -118.19499969482422,
          -118.18499755859375,
          -118.16500091552734,
          -118.15122985839844,
          -118.13500213623047,
          -118.125,
          -118.11499786376953,
          -118.09500122070312,
          -118.08499908447266,
          -118.06500244140625,
          -118.05500030517578,
          -118.04499816894531,
          -118.0250015258789,
          -118.01499938964844,
          -117.99500274658203,
          -117.98500061035156,
          -117.9749984741211,
          -117.95500183105469,
          -117.94499969482422,
          -117.93499755859375,
          -117.91500091552734,
          -117.90499877929688,
          -117.88500213623047,
          -117.875,
          -117.86499786376953,
          -117.8499984741211,
          -117.83000183105469,
          -117.80999755859375,
          -117.79000091552734,
          -117.76499938964844,
          -117.73500061035156,
          -117.70999908447266,
          -117.69000244140625,
          -117.66999816894531,
          -117.65499877929688,
          -117.63500213623047,
          -117.59500122070312,
          -117.52999877929688,
          -117.45999908447266,
          -117.41000366210938,
          -117.375,
          -117.3499984741211,
          -117.32499694824219,
          -117.30500030517578,
          -117.29000091552734,
          -117.2699966430664,
          -117.24500274658203,
          -117.23500061035156,
          -117.22000122070312,
          -117.20500183105469,
          -117.19000244140625,
          -117.16000366210938,
          -117.13247680664062,
          -117.11747741699219,
          -117.09500122070312,
          -117.08499908447266,
          -117.06500244140625,
          -117.05000305175781,
          -117.0199966430664,
          -116.99500274658203,
          -116.96176147460938,
          -116.91675567626953,
          -116.75499725341797,
          -116.51000213623047,
          -116.25558471679688,
          -115.8255844116211,
          -114.92500305175781
         ],
         "xaxis": "x",
         "y": [
          0.13305564845713422,
          0.1330556484571336,
          0.24441189899683166,
          0.17946654473882803,
          0.14698144295671015,
          0.37039830404265306,
          0.25474742531278227,
          0.2066623914527004,
          0.2714875585748352,
          0.9866535338828146,
          0.8222089762947081,
          0.8731727276611263,
          1.0488874515858873,
          1.3845500967689128,
          1.206940986224342,
          1.1985924286113894,
          1.0590878688664005,
          1.112587454640655,
          0.8184385173273662,
          0.3926836334067967,
          0.23633346147877035,
          0.16155611020679592,
          0.17092729956883082,
          -0.027686245889527075,
          0.16978453265089763,
          0.2583868233560017,
          0.28125345415679337,
          0.2686795003727468,
          0.1407469743044196,
          -0.04623898197622271,
          0.11239874050426776,
          0.039102161856578915,
          0.32912822217229776,
          0.4717010922215972,
          0.2748130367499614,
          0.5777092384766076,
          0.2396966941323024,
          0.2280807237244911,
          0.20335499513639996,
          0.20271167118211877,
          0.12872762161748721,
          0.2701288999116095,
          0.12216882773839718,
          0.1750844637390168,
          0.1587083524541095,
          0.20925810102134798,
          0.336487387289248,
          0.20891646905910818,
          0.34199292075629195,
          0.30781345699930873,
          0.0031877177803074086,
          -0.013546641150073868,
          -0.045122314849223674,
          0.10102814208754851,
          0.37406808453308626,
          0.3356202722736157,
          0.2648573223631736,
          0.2669837180767738,
          0.14526823685441223,
          -0.1290857569847364,
          -0.05543456700474801,
          -0.07952726606067514,
          -0.10378342609333283,
          -0.10321866145244017,
          -0.034032894556923154,
          0.06433746641184704,
          -0.0937815078382568,
          -0.07664905386913286,
          -0.07416709535529836,
          -0.18599891239297994,
          -0.10734049660989768,
          -0.07154785267537578,
          -0.022134969237282393,
          0.10067173823467918,
          0.1659575186669283,
          0.1320459385235809,
          -0.1541425281110087,
          -0.06756675548706409,
          -0.1015606563290213,
          0.04172403544282477,
          -0.1471328310482881,
          -0.09990151612866123,
          0.25034884085122866,
          -0.18535379535636512,
          -0.21952457229798136,
          -0.29890729162699053,
          -0.16738967210085332,
          -0.0779081486264507,
          -0.07415341889845851,
          -0.13438504198283738,
          -0.1447493744278543,
          -0.542345089994006,
          -0.5144973222724625,
          -0.28323809655895626,
          -0.18423423839828187,
          -0.08561789144257927,
          -0.12971275604521998,
          -0.2651313000000812,
          -0.26387924055835954,
          -0.32596602248493267,
          -0.28672936172380237,
          -0.13734219517523888,
          0.24466850329938597,
          -0.05315873514665839,
          -0.039632846628490245,
          -0.23617392347107163,
          -0.2707099211730395,
          -0.30008680779324215,
          -0.06520158624312969,
          0.016834387232061765,
          0.08607443393300448,
          -0.009363042516019965,
          0.12221458122616605,
          0.2783034897852932,
          0.2247964724287482,
          0.3386005115590822,
          0.6315153516787899,
          0.8981807615153408,
          0.5398767305062403,
          0.32149848719248564,
          0.5020882148520481,
          0.547780713510013,
          0.7022260544954367,
          0.6324601302018718,
          0.6128613316803978,
          0.5086672303281604,
          0.2554001439126893,
          0.11377592286191399,
          0.24850686648929518,
          0.4476657634600042,
          0.2143456804400871,
          0.09023639510505277,
          0.02845878432649182,
          -0.023665541312575186,
          -0.06311572992137848,
          -0.139002104411251,
          -0.039877332274501895,
          0.06958271489722434,
          -0.010320033869148038,
          0.06314462699056492,
          0.1863956753432596,
          0.07992952977858622,
          0.1056948106154185,
          0.06186524972926313,
          0.037380279969365604,
          0.01630180218115196,
          0.13603513375804757,
          0.1781753327397078,
          0.06483809578343003,
          0.021129087572033106,
          -0.10091384385717536,
          -0.08599328911438966,
          -0.08787531930917275,
          -0.04800479235705102,
          -0.07161187944745379,
          -0.17931087295418027,
          -0.16667350610730125,
          -0.09062548056346849,
          -0.2966318789905215,
          -0.2722088702511522,
          -0.17312138746666805,
          -0.0969931367994516,
          -0.04728984820215898,
          -0.3538417796532356,
          -0.16392025779058478,
          -0.2420863535253278,
          -0.43964086630560584,
          -0.6095440157337703,
          -0.7053411403541865,
          -0.8622141604895596,
          -0.8567756919158377,
          -0.8070579351928229,
          -0.6501047550457008,
          -0.5243327059262588,
          -0.3061786217645185,
          -0.4585808073385085,
          -0.6493129741541669,
          -0.6216579307856769,
          -0.6613893947551432,
          -0.7857330183126903,
          -0.6605350488284186,
          -0.7656872491868113,
          -0.3639929088661895,
          -0.24234102225731793,
          -0.5634721447380887,
          -0.31555340082501326,
          -0.7943420438494839,
          -0.49329012445682574,
          -0.7989964754685653,
          -0.8781385392016526,
          -0.9309465744739835,
          -0.816913376894714,
          -0.9100686840895896,
          -0.8446408326316034,
          -0.9118249166922421,
          -0.9293572783202745,
          -0.8906248588389614,
          -0.8083518516528473,
          -0.863975936856407,
          -0.714987672297568,
          -0.5594049844057161,
          -0.9084658470958715,
          -1.3411431209578943
         ],
         "yaxis": "y",
         "type": "scatter"
        },
        {
         "name": "Longitude distribution",
         "x": [
          -124.2300033569336,
          -123.81999969482422,
          -123.30500030517578,
          -122.97000122070312,
          -122.80000305175781,
          -122.72000122070312,
          -122.67500305175781,
          -122.62000274658203,
          -122.56500244140625,
          -122.5199966430664,
          -122.49500274658203,
          -122.48500061035156,
          -122.47000122070312,
          -122.45500183105469,
          -122.44499969482422,
          -122.43499755859375,
          -122.41500091552734,
          -122.4000015258789,
          -122.375,
          -122.3499984741211,
          -122.33000183105469,
          -122.31500244140625,
          -122.30000305175781,
          -122.2750015258789,
          -122.26499938964844,
          -122.24500274658203,
          -122.23500061035156,
          -122.2249984741211,
          -122.20999908447266,
          -122.19499969482422,
          -122.18000030517578,
          -122.16500091552734,
          -122.1500015258789,
          -122.13500213623047,
          -122.12000274658203,
          -122.08999633789062,
          -122.06500244140625,
          -122.05500030517578,
          -122.04499816894531,
          -122.0250015258789,
          -122.01499938964844,
          -121.98999786376953,
          -121.9749984741211,
          -121.95500183105469,
          -121.94000244140625,
          -121.91500091552734,
          -121.9000015258789,
          -121.88500213623047,
          -121.875,
          -121.86000061035156,
          -121.83999633789062,
          -121.80999755859375,
          -121.79000091552734,
          -121.76499938964844,
          -121.72000122070312,
          -121.66500091552734,
          -121.62000274658203,
          -121.58000183105469,
          -121.53669738769531,
          -121.49669647216797,
          -121.47000122070312,
          -121.44999694824219,
          -121.43000030517578,
          -121.40499877929688,
          -121.37999725341797,
          -121.3550033569336,
          -121.33000183105469,
          -121.31500244140625,
          -121.30000305175781,
          -121.2699966430664,
          -121.25,
          -121.2249984741211,
          -121.18499755859375,
          -121.12000274658203,
          -121.05921936035156,
          -121.01921844482422,
          -120.98500061035156,
          -120.94999694824219,
          -120.8930435180664,
          -120.82804870605469,
          -120.74500274658203,
          -120.66000366210938,
          -120.58999633789062,
          -120.50499725341797,
          -120.44499969482422,
          -120.4000015258789,
          -120.29570007324219,
          -120.15070343017578,
          -120.03500366210938,
          -119.92500305175781,
          -119.83999633789062,
          -119.80500030517578,
          -119.77999877929688,
          -119.75499725341797,
          -119.7249984741211,
          -119.69499969482422,
          -119.6449966430664,
          -119.56497955322266,
          -119.44998168945312,
          -119.34500122070312,
          -119.29000091552734,
          -119.24500274658203,
          -119.19999694824219,
          -119.13999938964844,
          -119.07499694824219,
          -119.03500366210938,
          -119.00499725341797,
          -118.97000122070312,
          -118.91000366210938,
          -118.81500244140625,
          -118.70367431640625,
          -118.6186752319336,
          -118.56999969482422,
          -118.53500366210938,
          -118.51000213623047,
          -118.48999786376953,
          -118.4749984741211,
          -118.45500183105469,
          -118.44499969482422,
          -118.43499755859375,
          -118.41500091552734,
          -118.40499877929688,
          -118.38500213623047,
          -118.375,
          -118.36499786376953,
          -118.34500122070312,
          -118.33499908447266,
          -118.31500244140625,
          -118.30500030517578,
          -118.29499816894531,
          -118.2750015258789,
          -118.26499938964844,
          -118.24500274658203,
          -118.23500061035156,
          -118.2249984741211,
          -118.20500183105469,
          -118.19499969482422,
          -118.18499755859375,
          -118.16500091552734,
          -118.15122985839844,
          -118.13500213623047,
          -118.125,
          -118.11499786376953,
          -118.09500122070312,
          -118.08499908447266,
          -118.06500244140625,
          -118.05500030517578,
          -118.04499816894531,
          -118.0250015258789,
          -118.01499938964844,
          -117.99500274658203,
          -117.98500061035156,
          -117.9749984741211,
          -117.95500183105469,
          -117.94499969482422,
          -117.93499755859375,
          -117.91500091552734,
          -117.90499877929688,
          -117.88500213623047,
          -117.875,
          -117.86499786376953,
          -117.8499984741211,
          -117.83000183105469,
          -117.80999755859375,
          -117.79000091552734,
          -117.76499938964844,
          -117.73500061035156,
          -117.70999908447266,
          -117.69000244140625,
          -117.66999816894531,
          -117.65499877929688,
          -117.63500213623047,
          -117.59500122070312,
          -117.52999877929688,
          -117.45999908447266,
          -117.41000366210938,
          -117.375,
          -117.3499984741211,
          -117.32499694824219,
          -117.30500030517578,
          -117.29000091552734,
          -117.2699966430664,
          -117.24500274658203,
          -117.23500061035156,
          -117.22000122070312,
          -117.20500183105469,
          -117.19000244140625,
          -117.16000366210938,
          -117.13247680664062,
          -117.11747741699219,
          -117.09500122070312,
          -117.08499908447266,
          -117.06500244140625,
          -117.05000305175781,
          -117.0199966430664,
          -116.99500274658203,
          -116.96176147460938,
          -116.91675567626953,
          -116.75499725341797,
          -116.51000213623047,
          -116.25558471679688,
          -115.8255844116211,
          -114.92500305175781
         ],
         "type": "histogram",
         "xaxis": "x3",
         "yaxis": "y3"
        },
        {
         "name": "",
         "y": [
          0.13305564845713422,
          0.1330556484571336,
          0.24441189899683166,
          0.17946654473882803,
          0.14698144295671015,
          0.37039830404265306,
          0.25474742531278227,
          0.2066623914527004,
          0.2714875585748352,
          0.9866535338828146,
          0.8222089762947081,
          0.8731727276611263,
          1.0488874515858873,
          1.3845500967689128,
          1.206940986224342,
          1.1985924286113894,
          1.0590878688664005,
          1.112587454640655,
          0.8184385173273662,
          0.3926836334067967,
          0.23633346147877035,
          0.16155611020679592,
          0.17092729956883082,
          -0.027686245889527075,
          0.16978453265089763,
          0.2583868233560017,
          0.28125345415679337,
          0.2686795003727468,
          0.1407469743044196,
          -0.04623898197622271,
          0.11239874050426776,
          0.039102161856578915,
          0.32912822217229776,
          0.4717010922215972,
          0.2748130367499614,
          0.5777092384766076,
          0.2396966941323024,
          0.2280807237244911,
          0.20335499513639996,
          0.20271167118211877,
          0.12872762161748721,
          0.2701288999116095,
          0.12216882773839718,
          0.1750844637390168,
          0.1587083524541095,
          0.20925810102134798,
          0.336487387289248,
          0.20891646905910818,
          0.34199292075629195,
          0.30781345699930873,
          0.0031877177803074086,
          -0.013546641150073868,
          -0.045122314849223674,
          0.10102814208754851,
          0.37406808453308626,
          0.3356202722736157,
          0.2648573223631736,
          0.2669837180767738,
          0.14526823685441223,
          -0.1290857569847364,
          -0.05543456700474801,
          -0.07952726606067514,
          -0.10378342609333283,
          -0.10321866145244017,
          -0.034032894556923154,
          0.06433746641184704,
          -0.0937815078382568,
          -0.07664905386913286,
          -0.07416709535529836,
          -0.18599891239297994,
          -0.10734049660989768,
          -0.07154785267537578,
          -0.022134969237282393,
          0.10067173823467918,
          0.1659575186669283,
          0.1320459385235809,
          -0.1541425281110087,
          -0.06756675548706409,
          -0.1015606563290213,
          0.04172403544282477,
          -0.1471328310482881,
          -0.09990151612866123,
          0.25034884085122866,
          -0.18535379535636512,
          -0.21952457229798136,
          -0.29890729162699053,
          -0.16738967210085332,
          -0.0779081486264507,
          -0.07415341889845851,
          -0.13438504198283738,
          -0.1447493744278543,
          -0.542345089994006,
          -0.5144973222724625,
          -0.28323809655895626,
          -0.18423423839828187,
          -0.08561789144257927,
          -0.12971275604521998,
          -0.2651313000000812,
          -0.26387924055835954,
          -0.32596602248493267,
          -0.28672936172380237,
          -0.13734219517523888,
          0.24466850329938597,
          -0.05315873514665839,
          -0.039632846628490245,
          -0.23617392347107163,
          -0.2707099211730395,
          -0.30008680779324215,
          -0.06520158624312969,
          0.016834387232061765,
          0.08607443393300448,
          -0.009363042516019965,
          0.12221458122616605,
          0.2783034897852932,
          0.2247964724287482,
          0.3386005115590822,
          0.6315153516787899,
          0.8981807615153408,
          0.5398767305062403,
          0.32149848719248564,
          0.5020882148520481,
          0.547780713510013,
          0.7022260544954367,
          0.6324601302018718,
          0.6128613316803978,
          0.5086672303281604,
          0.2554001439126893,
          0.11377592286191399,
          0.24850686648929518,
          0.4476657634600042,
          0.2143456804400871,
          0.09023639510505277,
          0.02845878432649182,
          -0.023665541312575186,
          -0.06311572992137848,
          -0.139002104411251,
          -0.039877332274501895,
          0.06958271489722434,
          -0.010320033869148038,
          0.06314462699056492,
          0.1863956753432596,
          0.07992952977858622,
          0.1056948106154185,
          0.06186524972926313,
          0.037380279969365604,
          0.01630180218115196,
          0.13603513375804757,
          0.1781753327397078,
          0.06483809578343003,
          0.021129087572033106,
          -0.10091384385717536,
          -0.08599328911438966,
          -0.08787531930917275,
          -0.04800479235705102,
          -0.07161187944745379,
          -0.17931087295418027,
          -0.16667350610730125,
          -0.09062548056346849,
          -0.2966318789905215,
          -0.2722088702511522,
          -0.17312138746666805,
          -0.0969931367994516,
          -0.04728984820215898,
          -0.3538417796532356,
          -0.16392025779058478,
          -0.2420863535253278,
          -0.43964086630560584,
          -0.6095440157337703,
          -0.7053411403541865,
          -0.8622141604895596,
          -0.8567756919158377,
          -0.8070579351928229,
          -0.6501047550457008,
          -0.5243327059262588,
          -0.3061786217645185,
          -0.4585808073385085,
          -0.6493129741541669,
          -0.6216579307856769,
          -0.6613893947551432,
          -0.7857330183126903,
          -0.6605350488284186,
          -0.7656872491868113,
          -0.3639929088661895,
          -0.24234102225731793,
          -0.5634721447380887,
          -0.31555340082501326,
          -0.7943420438494839,
          -0.49329012445682574,
          -0.7989964754685653,
          -0.8781385392016526,
          -0.9309465744739835,
          -0.816913376894714,
          -0.9100686840895896,
          -0.8446408326316034,
          -0.9118249166922421,
          -0.9293572783202745,
          -0.8906248588389614,
          -0.8083518516528473,
          -0.863975936856407,
          -0.714987672297568,
          -0.5594049844057161,
          -0.9084658470958715,
          -1.3411431209578943
         ],
         "type": "box",
         "xaxis": "x2",
         "yaxis": "y2"
        }
       ],
       "layout": {
        "template": {
         "data": {
          "histogram2dcontour": [
           {
            "type": "histogram2dcontour",
            "colorbar": {
             "outlinewidth": 0,
             "ticks": ""
            },
            "colorscale": [
             [
              0.0,
              "#0d0887"
             ],
             [
              0.1111111111111111,
              "#46039f"
             ],
             [
              0.2222222222222222,
              "#7201a8"
             ],
             [
              0.3333333333333333,
              "#9c179e"
             ],
             [
              0.4444444444444444,
              "#bd3786"
             ],
             [
              0.5555555555555556,
              "#d8576b"
             ],
             [
              0.6666666666666666,
              "#ed7953"
             ],
             [
              0.7777777777777778,
              "#fb9f3a"
             ],
             [
              0.8888888888888888,
              "#fdca26"
             ],
             [
              1.0,
              "#f0f921"
             ]
            ]
           }
          ],
          "choropleth": [
           {
            "type": "choropleth",
            "colorbar": {
             "outlinewidth": 0,
             "ticks": ""
            }
           }
          ],
          "histogram2d": [
           {
            "type": "histogram2d",
            "colorbar": {
             "outlinewidth": 0,
             "ticks": ""
            },
            "colorscale": [
             [
              0.0,
              "#0d0887"
             ],
             [
              0.1111111111111111,
              "#46039f"
             ],
             [
              0.2222222222222222,
              "#7201a8"
             ],
             [
              0.3333333333333333,
              "#9c179e"
             ],
             [
              0.4444444444444444,
              "#bd3786"
             ],
             [
              0.5555555555555556,
              "#d8576b"
             ],
             [
              0.6666666666666666,
              "#ed7953"
             ],
             [
              0.7777777777777778,
              "#fb9f3a"
             ],
             [
              0.8888888888888888,
              "#fdca26"
             ],
             [
              1.0,
              "#f0f921"
             ]
            ]
           }
          ],
          "heatmap": [
           {
            "type": "heatmap",
            "colorbar": {
             "outlinewidth": 0,
             "ticks": ""
            },
            "colorscale": [
             [
              0.0,
              "#0d0887"
             ],
             [
              0.1111111111111111,
              "#46039f"
             ],
             [
              0.2222222222222222,
              "#7201a8"
             ],
             [
              0.3333333333333333,
              "#9c179e"
             ],
             [
              0.4444444444444444,
              "#bd3786"
             ],
             [
              0.5555555555555556,
              "#d8576b"
             ],
             [
              0.6666666666666666,
              "#ed7953"
             ],
             [
              0.7777777777777778,
              "#fb9f3a"
             ],
             [
              0.8888888888888888,
              "#fdca26"
             ],
             [
              1.0,
              "#f0f921"
             ]
            ]
           }
          ],
          "heatmapgl": [
           {
            "type": "heatmapgl",
            "colorbar": {
             "outlinewidth": 0,
             "ticks": ""
            },
            "colorscale": [
             [
              0.0,
              "#0d0887"
             ],
             [
              0.1111111111111111,
              "#46039f"
             ],
             [
              0.2222222222222222,
              "#7201a8"
             ],
             [
              0.3333333333333333,
              "#9c179e"
             ],
             [
              0.4444444444444444,
              "#bd3786"
             ],
             [
              0.5555555555555556,
              "#d8576b"
             ],
             [
              0.6666666666666666,
              "#ed7953"
             ],
             [
              0.7777777777777778,
              "#fb9f3a"
             ],
             [
              0.8888888888888888,
              "#fdca26"
             ],
             [
              1.0,
              "#f0f921"
             ]
            ]
           }
          ],
          "contourcarpet": [
           {
            "type": "contourcarpet",
            "colorbar": {
             "outlinewidth": 0,
             "ticks": ""
            }
           }
          ],
          "contour": [
           {
            "type": "contour",
            "colorbar": {
             "outlinewidth": 0,
             "ticks": ""
            },
            "colorscale": [
             [
              0.0,
              "#0d0887"
             ],
             [
              0.1111111111111111,
              "#46039f"
             ],
             [
              0.2222222222222222,
              "#7201a8"
             ],
             [
              0.3333333333333333,
              "#9c179e"
             ],
             [
              0.4444444444444444,
              "#bd3786"
             ],
             [
              0.5555555555555556,
              "#d8576b"
             ],
             [
              0.6666666666666666,
              "#ed7953"
             ],
             [
              0.7777777777777778,
              "#fb9f3a"
             ],
             [
              0.8888888888888888,
              "#fdca26"
             ],
             [
              1.0,
              "#f0f921"
             ]
            ]
           }
          ],
          "surface": [
           {
            "type": "surface",
            "colorbar": {
             "outlinewidth": 0,
             "ticks": ""
            },
            "colorscale": [
             [
              0.0,
              "#0d0887"
             ],
             [
              0.1111111111111111,
              "#46039f"
             ],
             [
              0.2222222222222222,
              "#7201a8"
             ],
             [
              0.3333333333333333,
              "#9c179e"
             ],
             [
              0.4444444444444444,
              "#bd3786"
             ],
             [
              0.5555555555555556,
              "#d8576b"
             ],
             [
              0.6666666666666666,
              "#ed7953"
             ],
             [
              0.7777777777777778,
              "#fb9f3a"
             ],
             [
              0.8888888888888888,
              "#fdca26"
             ],
             [
              1.0,
              "#f0f921"
             ]
            ]
           }
          ],
          "mesh3d": [
           {
            "type": "mesh3d",
            "colorbar": {
             "outlinewidth": 0,
             "ticks": ""
            }
           }
          ],
          "scatter": [
           {
            "fillpattern": {
             "fillmode": "overlay",
             "size": 10,
             "solidity": 0.2
            },
            "type": "scatter"
           }
          ],
          "parcoords": [
           {
            "type": "parcoords",
            "line": {
             "colorbar": {
              "outlinewidth": 0,
              "ticks": ""
             }
            }
           }
          ],
          "scatterpolargl": [
           {
            "type": "scatterpolargl",
            "marker": {
             "colorbar": {
              "outlinewidth": 0,
              "ticks": ""
             }
            }
           }
          ],
          "bar": [
           {
            "error_x": {
             "color": "#2a3f5f"
            },
            "error_y": {
             "color": "#2a3f5f"
            },
            "marker": {
             "line": {
              "color": "#E5ECF6",
              "width": 0.5
             },
             "pattern": {
              "fillmode": "overlay",
              "size": 10,
              "solidity": 0.2
             }
            },
            "type": "bar"
           }
          ],
          "scattergeo": [
           {
            "type": "scattergeo",
            "marker": {
             "colorbar": {
              "outlinewidth": 0,
              "ticks": ""
             }
            }
           }
          ],
          "scatterpolar": [
           {
            "type": "scatterpolar",
            "marker": {
             "colorbar": {
              "outlinewidth": 0,
              "ticks": ""
             }
            }
           }
          ],
          "histogram": [
           {
            "marker": {
             "pattern": {
              "fillmode": "overlay",
              "size": 10,
              "solidity": 0.2
             }
            },
            "type": "histogram"
           }
          ],
          "scattergl": [
           {
            "type": "scattergl",
            "marker": {
             "colorbar": {
              "outlinewidth": 0,
              "ticks": ""
             }
            }
           }
          ],
          "scatter3d": [
           {
            "type": "scatter3d",
            "line": {
             "colorbar": {
              "outlinewidth": 0,
              "ticks": ""
             }
            },
            "marker": {
             "colorbar": {
              "outlinewidth": 0,
              "ticks": ""
             }
            }
           }
          ],
          "scattermapbox": [
           {
            "type": "scattermapbox",
            "marker": {
             "colorbar": {
              "outlinewidth": 0,
              "ticks": ""
             }
            }
           }
          ],
          "scatterternary": [
           {
            "type": "scatterternary",
            "marker": {
             "colorbar": {
              "outlinewidth": 0,
              "ticks": ""
             }
            }
           }
          ],
          "scattercarpet": [
           {
            "type": "scattercarpet",
            "marker": {
             "colorbar": {
              "outlinewidth": 0,
              "ticks": ""
             }
            }
           }
          ],
          "carpet": [
           {
            "aaxis": {
             "endlinecolor": "#2a3f5f",
             "gridcolor": "white",
             "linecolor": "white",
             "minorgridcolor": "white",
             "startlinecolor": "#2a3f5f"
            },
            "baxis": {
             "endlinecolor": "#2a3f5f",
             "gridcolor": "white",
             "linecolor": "white",
             "minorgridcolor": "white",
             "startlinecolor": "#2a3f5f"
            },
            "type": "carpet"
           }
          ],
          "table": [
           {
            "cells": {
             "fill": {
              "color": "#EBF0F8"
             },
             "line": {
              "color": "white"
             }
            },
            "header": {
             "fill": {
              "color": "#C8D4E3"
             },
             "line": {
              "color": "white"
             }
            },
            "type": "table"
           }
          ],
          "barpolar": [
           {
            "marker": {
             "line": {
              "color": "#E5ECF6",
              "width": 0.5
             },
             "pattern": {
              "fillmode": "overlay",
              "size": 10,
              "solidity": 0.2
             }
            },
            "type": "barpolar"
           }
          ],
          "pie": [
           {
            "automargin": true,
            "type": "pie"
           }
          ]
         },
         "layout": {
          "autotypenumbers": "strict",
          "colorway": [
           "#636efa",
           "#EF553B",
           "#00cc96",
           "#ab63fa",
           "#FFA15A",
           "#19d3f3",
           "#FF6692",
           "#B6E880",
           "#FF97FF",
           "#FECB52"
          ],
          "font": {
           "color": "#2a3f5f"
          },
          "hovermode": "closest",
          "hoverlabel": {
           "align": "left"
          },
          "paper_bgcolor": "white",
          "plot_bgcolor": "#E5ECF6",
          "polar": {
           "bgcolor": "#E5ECF6",
           "angularaxis": {
            "gridcolor": "white",
            "linecolor": "white",
            "ticks": ""
           },
           "radialaxis": {
            "gridcolor": "white",
            "linecolor": "white",
            "ticks": ""
           }
          },
          "ternary": {
           "bgcolor": "#E5ECF6",
           "aaxis": {
            "gridcolor": "white",
            "linecolor": "white",
            "ticks": ""
           },
           "baxis": {
            "gridcolor": "white",
            "linecolor": "white",
            "ticks": ""
           },
           "caxis": {
            "gridcolor": "white",
            "linecolor": "white",
            "ticks": ""
           }
          },
          "coloraxis": {
           "colorbar": {
            "outlinewidth": 0,
            "ticks": ""
           }
          },
          "colorscale": {
           "sequential": [
            [
             0.0,
             "#0d0887"
            ],
            [
             0.1111111111111111,
             "#46039f"
            ],
            [
             0.2222222222222222,
             "#7201a8"
            ],
            [
             0.3333333333333333,
             "#9c179e"
            ],
            [
             0.4444444444444444,
             "#bd3786"
            ],
            [
             0.5555555555555556,
             "#d8576b"
            ],
            [
             0.6666666666666666,
             "#ed7953"
            ],
            [
             0.7777777777777778,
             "#fb9f3a"
            ],
            [
             0.8888888888888888,
             "#fdca26"
            ],
            [
             1.0,
             "#f0f921"
            ]
           ],
           "sequentialminus": [
            [
             0.0,
             "#0d0887"
            ],
            [
             0.1111111111111111,
             "#46039f"
            ],
            [
             0.2222222222222222,
             "#7201a8"
            ],
            [
             0.3333333333333333,
             "#9c179e"
            ],
            [
             0.4444444444444444,
             "#bd3786"
            ],
            [
             0.5555555555555556,
             "#d8576b"
            ],
            [
             0.6666666666666666,
             "#ed7953"
            ],
            [
             0.7777777777777778,
             "#fb9f3a"
            ],
            [
             0.8888888888888888,
             "#fdca26"
            ],
            [
             1.0,
             "#f0f921"
            ]
           ],
           "diverging": [
            [
             0,
             "#8e0152"
            ],
            [
             0.1,
             "#c51b7d"
            ],
            [
             0.2,
             "#de77ae"
            ],
            [
             0.3,
             "#f1b6da"
            ],
            [
             0.4,
             "#fde0ef"
            ],
            [
             0.5,
             "#f7f7f7"
            ],
            [
             0.6,
             "#e6f5d0"
            ],
            [
             0.7,
             "#b8e186"
            ],
            [
             0.8,
             "#7fbc41"
            ],
            [
             0.9,
             "#4d9221"
            ],
            [
             1,
             "#276419"
            ]
           ]
          },
          "xaxis": {
           "gridcolor": "white",
           "linecolor": "white",
           "ticks": "",
           "title": {
            "standoff": 15
           },
           "zerolinecolor": "white",
           "automargin": true,
           "zerolinewidth": 2
          },
          "yaxis": {
           "gridcolor": "white",
           "linecolor": "white",
           "ticks": "",
           "title": {
            "standoff": 15
           },
           "zerolinecolor": "white",
           "automargin": true,
           "zerolinewidth": 2
          },
          "scene": {
           "xaxis": {
            "backgroundcolor": "#E5ECF6",
            "gridcolor": "white",
            "linecolor": "white",
            "showbackground": true,
            "ticks": "",
            "zerolinecolor": "white",
            "gridwidth": 2
           },
           "yaxis": {
            "backgroundcolor": "#E5ECF6",
            "gridcolor": "white",
            "linecolor": "white",
            "showbackground": true,
            "ticks": "",
            "zerolinecolor": "white",
            "gridwidth": 2
           },
           "zaxis": {
            "backgroundcolor": "#E5ECF6",
            "gridcolor": "white",
            "linecolor": "white",
            "showbackground": true,
            "ticks": "",
            "zerolinecolor": "white",
            "gridwidth": 2
           }
          },
          "shapedefaults": {
           "line": {
            "color": "#2a3f5f"
           }
          },
          "annotationdefaults": {
           "arrowcolor": "#2a3f5f",
           "arrowhead": 0,
           "arrowwidth": 1
          },
          "geo": {
           "bgcolor": "white",
           "landcolor": "#E5ECF6",
           "subunitcolor": "white",
           "showland": true,
           "showlakes": true,
           "lakecolor": "white"
          },
          "title": {
           "x": 0.05
          },
          "mapbox": {
           "style": "light"
          }
         }
        },
        "xaxis": {
         "anchor": "y",
         "domain": [
          0.0,
          0.784
         ],
         "matches": "x3",
         "showticklabels": false
        },
        "yaxis": {
         "anchor": "x",
         "domain": [
          0.51,
          1.0
         ],
         "title": {
          "text": "Contribution"
         }
        },
        "xaxis2": {
         "anchor": "y2",
         "domain": [
          0.804,
          1.0
         ],
         "matches": "x4",
         "showticklabels": false
        },
        "yaxis2": {
         "anchor": "x2",
         "domain": [
          0.51,
          1.0
         ],
         "matches": "y",
         "showticklabels": false
        },
        "xaxis3": {
         "anchor": "y3",
         "domain": [
          0.0,
          0.784
         ],
         "title": {
          "text": "Longitude"
         }
        },
        "yaxis3": {
         "anchor": "x3",
         "domain": [
          0.0,
          0.49
         ],
         "title": {
          "text": "Count"
         }
        },
        "xaxis4": {
         "anchor": "y4",
         "domain": [
          0.804,
          1.0
         ]
        },
        "yaxis4": {
         "anchor": "x4",
         "domain": [
          0.0,
          0.49
         ],
         "matches": "y3",
         "showticklabels": false
        },
        "annotations": [
         {
          "font": {
           "size": 16
          },
          "showarrow": false,
          "text": "MedHouseVal prediction",
          "x": 0.392,
          "xanchor": "center",
          "xref": "paper",
          "y": 1.0,
          "yanchor": "bottom",
          "yref": "paper"
         },
         {
          "font": {
           "size": 16
          },
          "showarrow": false,
          "text": "Contribution distribution",
          "x": 0.902,
          "xanchor": "center",
          "xref": "paper",
          "y": 1.0,
          "yanchor": "bottom",
          "yref": "paper"
         }
        ],
        "showlegend": false,
        "title": {
         "text": "Contributions are on the same scale as MedHouseVal,<br>and centered vertically on the train set."
        }
       },
       "config": {
        "plotlyServerURL": "https://plot.ly"
       }
      },
      "text/html": "<div>                            <div id=\"bfa10637-b10b-45ef-bb85-2ceb14ec9348\" class=\"plotly-graph-div\" style=\"height:525px; width:100%;\"></div>            <script type=\"text/javascript\">                require([\"plotly\"], function(Plotly) {                    window.PLOTLYENV=window.PLOTLYENV || {};                                    if (document.getElementById(\"bfa10637-b10b-45ef-bb85-2ceb14ec9348\")) {                    Plotly.newPlot(                        \"bfa10637-b10b-45ef-bb85-2ceb14ec9348\",                        [{\"hovertemplate\":\"x=%{x}<br>y=%{y}<extra></extra>\",\"legendgroup\":\"\",\"line\":{\"color\":\"#636efa\",\"dash\":\"solid\",\"shape\":\"hv\"},\"marker\":{\"symbol\":\"circle\"},\"mode\":\"lines\",\"name\":\"\",\"orientation\":\"v\",\"showlegend\":false,\"x\":[-124.2300033569336,-123.81999969482422,-123.30500030517578,-122.97000122070312,-122.80000305175781,-122.72000122070312,-122.67500305175781,-122.62000274658203,-122.56500244140625,-122.5199966430664,-122.49500274658203,-122.48500061035156,-122.47000122070312,-122.45500183105469,-122.44499969482422,-122.43499755859375,-122.41500091552734,-122.4000015258789,-122.375,-122.3499984741211,-122.33000183105469,-122.31500244140625,-122.30000305175781,-122.2750015258789,-122.26499938964844,-122.24500274658203,-122.23500061035156,-122.2249984741211,-122.20999908447266,-122.19499969482422,-122.18000030517578,-122.16500091552734,-122.1500015258789,-122.13500213623047,-122.12000274658203,-122.08999633789062,-122.06500244140625,-122.05500030517578,-122.04499816894531,-122.0250015258789,-122.01499938964844,-121.98999786376953,-121.9749984741211,-121.95500183105469,-121.94000244140625,-121.91500091552734,-121.9000015258789,-121.88500213623047,-121.875,-121.86000061035156,-121.83999633789062,-121.80999755859375,-121.79000091552734,-121.76499938964844,-121.72000122070312,-121.66500091552734,-121.62000274658203,-121.58000183105469,-121.53669738769531,-121.49669647216797,-121.47000122070312,-121.44999694824219,-121.43000030517578,-121.40499877929688,-121.37999725341797,-121.3550033569336,-121.33000183105469,-121.31500244140625,-121.30000305175781,-121.2699966430664,-121.25,-121.2249984741211,-121.18499755859375,-121.12000274658203,-121.05921936035156,-121.01921844482422,-120.98500061035156,-120.94999694824219,-120.8930435180664,-120.82804870605469,-120.74500274658203,-120.66000366210938,-120.58999633789062,-120.50499725341797,-120.44499969482422,-120.4000015258789,-120.29570007324219,-120.15070343017578,-120.03500366210938,-119.92500305175781,-119.83999633789062,-119.80500030517578,-119.77999877929688,-119.75499725341797,-119.7249984741211,-119.69499969482422,-119.6449966430664,-119.56497955322266,-119.44998168945312,-119.34500122070312,-119.29000091552734,-119.24500274658203,-119.19999694824219,-119.13999938964844,-119.07499694824219,-119.03500366210938,-119.00499725341797,-118.97000122070312,-118.91000366210938,-118.81500244140625,-118.70367431640625,-118.6186752319336,-118.56999969482422,-118.53500366210938,-118.51000213623047,-118.48999786376953,-118.4749984741211,-118.45500183105469,-118.44499969482422,-118.43499755859375,-118.41500091552734,-118.40499877929688,-118.38500213623047,-118.375,-118.36499786376953,-118.34500122070312,-118.33499908447266,-118.31500244140625,-118.30500030517578,-118.29499816894531,-118.2750015258789,-118.26499938964844,-118.24500274658203,-118.23500061035156,-118.2249984741211,-118.20500183105469,-118.19499969482422,-118.18499755859375,-118.16500091552734,-118.15122985839844,-118.13500213623047,-118.125,-118.11499786376953,-118.09500122070312,-118.08499908447266,-118.06500244140625,-118.05500030517578,-118.04499816894531,-118.0250015258789,-118.01499938964844,-117.99500274658203,-117.98500061035156,-117.9749984741211,-117.95500183105469,-117.94499969482422,-117.93499755859375,-117.91500091552734,-117.90499877929688,-117.88500213623047,-117.875,-117.86499786376953,-117.8499984741211,-117.83000183105469,-117.80999755859375,-117.79000091552734,-117.76499938964844,-117.73500061035156,-117.70999908447266,-117.69000244140625,-117.66999816894531,-117.65499877929688,-117.63500213623047,-117.59500122070312,-117.52999877929688,-117.45999908447266,-117.41000366210938,-117.375,-117.3499984741211,-117.32499694824219,-117.30500030517578,-117.29000091552734,-117.2699966430664,-117.24500274658203,-117.23500061035156,-117.22000122070312,-117.20500183105469,-117.19000244140625,-117.16000366210938,-117.13247680664062,-117.11747741699219,-117.09500122070312,-117.08499908447266,-117.06500244140625,-117.05000305175781,-117.0199966430664,-116.99500274658203,-116.96176147460938,-116.91675567626953,-116.75499725341797,-116.51000213623047,-116.25558471679688,-115.8255844116211,-114.92500305175781],\"xaxis\":\"x\",\"y\":[0.13305564845713422,0.1330556484571336,0.24441189899683166,0.17946654473882803,0.14698144295671015,0.37039830404265306,0.25474742531278227,0.2066623914527004,0.2714875585748352,0.9866535338828146,0.8222089762947081,0.8731727276611263,1.0488874515858873,1.3845500967689128,1.206940986224342,1.1985924286113894,1.0590878688664005,1.112587454640655,0.8184385173273662,0.3926836334067967,0.23633346147877035,0.16155611020679592,0.17092729956883082,-0.027686245889527075,0.16978453265089763,0.2583868233560017,0.28125345415679337,0.2686795003727468,0.1407469743044196,-0.04623898197622271,0.11239874050426776,0.039102161856578915,0.32912822217229776,0.4717010922215972,0.2748130367499614,0.5777092384766076,0.2396966941323024,0.2280807237244911,0.20335499513639996,0.20271167118211877,0.12872762161748721,0.2701288999116095,0.12216882773839718,0.1750844637390168,0.1587083524541095,0.20925810102134798,0.336487387289248,0.20891646905910818,0.34199292075629195,0.30781345699930873,0.0031877177803074086,-0.013546641150073868,-0.045122314849223674,0.10102814208754851,0.37406808453308626,0.3356202722736157,0.2648573223631736,0.2669837180767738,0.14526823685441223,-0.1290857569847364,-0.05543456700474801,-0.07952726606067514,-0.10378342609333283,-0.10321866145244017,-0.034032894556923154,0.06433746641184704,-0.0937815078382568,-0.07664905386913286,-0.07416709535529836,-0.18599891239297994,-0.10734049660989768,-0.07154785267537578,-0.022134969237282393,0.10067173823467918,0.1659575186669283,0.1320459385235809,-0.1541425281110087,-0.06756675548706409,-0.1015606563290213,0.04172403544282477,-0.1471328310482881,-0.09990151612866123,0.25034884085122866,-0.18535379535636512,-0.21952457229798136,-0.29890729162699053,-0.16738967210085332,-0.0779081486264507,-0.07415341889845851,-0.13438504198283738,-0.1447493744278543,-0.542345089994006,-0.5144973222724625,-0.28323809655895626,-0.18423423839828187,-0.08561789144257927,-0.12971275604521998,-0.2651313000000812,-0.26387924055835954,-0.32596602248493267,-0.28672936172380237,-0.13734219517523888,0.24466850329938597,-0.05315873514665839,-0.039632846628490245,-0.23617392347107163,-0.2707099211730395,-0.30008680779324215,-0.06520158624312969,0.016834387232061765,0.08607443393300448,-0.009363042516019965,0.12221458122616605,0.2783034897852932,0.2247964724287482,0.3386005115590822,0.6315153516787899,0.8981807615153408,0.5398767305062403,0.32149848719248564,0.5020882148520481,0.547780713510013,0.7022260544954367,0.6324601302018718,0.6128613316803978,0.5086672303281604,0.2554001439126893,0.11377592286191399,0.24850686648929518,0.4476657634600042,0.2143456804400871,0.09023639510505277,0.02845878432649182,-0.023665541312575186,-0.06311572992137848,-0.139002104411251,-0.039877332274501895,0.06958271489722434,-0.010320033869148038,0.06314462699056492,0.1863956753432596,0.07992952977858622,0.1056948106154185,0.06186524972926313,0.037380279969365604,0.01630180218115196,0.13603513375804757,0.1781753327397078,0.06483809578343003,0.021129087572033106,-0.10091384385717536,-0.08599328911438966,-0.08787531930917275,-0.04800479235705102,-0.07161187944745379,-0.17931087295418027,-0.16667350610730125,-0.09062548056346849,-0.2966318789905215,-0.2722088702511522,-0.17312138746666805,-0.0969931367994516,-0.04728984820215898,-0.3538417796532356,-0.16392025779058478,-0.2420863535253278,-0.43964086630560584,-0.6095440157337703,-0.7053411403541865,-0.8622141604895596,-0.8567756919158377,-0.8070579351928229,-0.6501047550457008,-0.5243327059262588,-0.3061786217645185,-0.4585808073385085,-0.6493129741541669,-0.6216579307856769,-0.6613893947551432,-0.7857330183126903,-0.6605350488284186,-0.7656872491868113,-0.3639929088661895,-0.24234102225731793,-0.5634721447380887,-0.31555340082501326,-0.7943420438494839,-0.49329012445682574,-0.7989964754685653,-0.8781385392016526,-0.9309465744739835,-0.816913376894714,-0.9100686840895896,-0.8446408326316034,-0.9118249166922421,-0.9293572783202745,-0.8906248588389614,-0.8083518516528473,-0.863975936856407,-0.714987672297568,-0.5594049844057161,-0.9084658470958715,-1.3411431209578943],\"yaxis\":\"y\",\"type\":\"scatter\"},{\"name\":\"Longitude distribution\",\"x\":[-124.2300033569336,-123.81999969482422,-123.30500030517578,-122.97000122070312,-122.80000305175781,-122.72000122070312,-122.67500305175781,-122.62000274658203,-122.56500244140625,-122.5199966430664,-122.49500274658203,-122.48500061035156,-122.47000122070312,-122.45500183105469,-122.44499969482422,-122.43499755859375,-122.41500091552734,-122.4000015258789,-122.375,-122.3499984741211,-122.33000183105469,-122.31500244140625,-122.30000305175781,-122.2750015258789,-122.26499938964844,-122.24500274658203,-122.23500061035156,-122.2249984741211,-122.20999908447266,-122.19499969482422,-122.18000030517578,-122.16500091552734,-122.1500015258789,-122.13500213623047,-122.12000274658203,-122.08999633789062,-122.06500244140625,-122.05500030517578,-122.04499816894531,-122.0250015258789,-122.01499938964844,-121.98999786376953,-121.9749984741211,-121.95500183105469,-121.94000244140625,-121.91500091552734,-121.9000015258789,-121.88500213623047,-121.875,-121.86000061035156,-121.83999633789062,-121.80999755859375,-121.79000091552734,-121.76499938964844,-121.72000122070312,-121.66500091552734,-121.62000274658203,-121.58000183105469,-121.53669738769531,-121.49669647216797,-121.47000122070312,-121.44999694824219,-121.43000030517578,-121.40499877929688,-121.37999725341797,-121.3550033569336,-121.33000183105469,-121.31500244140625,-121.30000305175781,-121.2699966430664,-121.25,-121.2249984741211,-121.18499755859375,-121.12000274658203,-121.05921936035156,-121.01921844482422,-120.98500061035156,-120.94999694824219,-120.8930435180664,-120.82804870605469,-120.74500274658203,-120.66000366210938,-120.58999633789062,-120.50499725341797,-120.44499969482422,-120.4000015258789,-120.29570007324219,-120.15070343017578,-120.03500366210938,-119.92500305175781,-119.83999633789062,-119.80500030517578,-119.77999877929688,-119.75499725341797,-119.7249984741211,-119.69499969482422,-119.6449966430664,-119.56497955322266,-119.44998168945312,-119.34500122070312,-119.29000091552734,-119.24500274658203,-119.19999694824219,-119.13999938964844,-119.07499694824219,-119.03500366210938,-119.00499725341797,-118.97000122070312,-118.91000366210938,-118.81500244140625,-118.70367431640625,-118.6186752319336,-118.56999969482422,-118.53500366210938,-118.51000213623047,-118.48999786376953,-118.4749984741211,-118.45500183105469,-118.44499969482422,-118.43499755859375,-118.41500091552734,-118.40499877929688,-118.38500213623047,-118.375,-118.36499786376953,-118.34500122070312,-118.33499908447266,-118.31500244140625,-118.30500030517578,-118.29499816894531,-118.2750015258789,-118.26499938964844,-118.24500274658203,-118.23500061035156,-118.2249984741211,-118.20500183105469,-118.19499969482422,-118.18499755859375,-118.16500091552734,-118.15122985839844,-118.13500213623047,-118.125,-118.11499786376953,-118.09500122070312,-118.08499908447266,-118.06500244140625,-118.05500030517578,-118.04499816894531,-118.0250015258789,-118.01499938964844,-117.99500274658203,-117.98500061035156,-117.9749984741211,-117.95500183105469,-117.94499969482422,-117.93499755859375,-117.91500091552734,-117.90499877929688,-117.88500213623047,-117.875,-117.86499786376953,-117.8499984741211,-117.83000183105469,-117.80999755859375,-117.79000091552734,-117.76499938964844,-117.73500061035156,-117.70999908447266,-117.69000244140625,-117.66999816894531,-117.65499877929688,-117.63500213623047,-117.59500122070312,-117.52999877929688,-117.45999908447266,-117.41000366210938,-117.375,-117.3499984741211,-117.32499694824219,-117.30500030517578,-117.29000091552734,-117.2699966430664,-117.24500274658203,-117.23500061035156,-117.22000122070312,-117.20500183105469,-117.19000244140625,-117.16000366210938,-117.13247680664062,-117.11747741699219,-117.09500122070312,-117.08499908447266,-117.06500244140625,-117.05000305175781,-117.0199966430664,-116.99500274658203,-116.96176147460938,-116.91675567626953,-116.75499725341797,-116.51000213623047,-116.25558471679688,-115.8255844116211,-114.92500305175781],\"type\":\"histogram\",\"xaxis\":\"x3\",\"yaxis\":\"y3\"},{\"name\":\"\",\"y\":[0.13305564845713422,0.1330556484571336,0.24441189899683166,0.17946654473882803,0.14698144295671015,0.37039830404265306,0.25474742531278227,0.2066623914527004,0.2714875585748352,0.9866535338828146,0.8222089762947081,0.8731727276611263,1.0488874515858873,1.3845500967689128,1.206940986224342,1.1985924286113894,1.0590878688664005,1.112587454640655,0.8184385173273662,0.3926836334067967,0.23633346147877035,0.16155611020679592,0.17092729956883082,-0.027686245889527075,0.16978453265089763,0.2583868233560017,0.28125345415679337,0.2686795003727468,0.1407469743044196,-0.04623898197622271,0.11239874050426776,0.039102161856578915,0.32912822217229776,0.4717010922215972,0.2748130367499614,0.5777092384766076,0.2396966941323024,0.2280807237244911,0.20335499513639996,0.20271167118211877,0.12872762161748721,0.2701288999116095,0.12216882773839718,0.1750844637390168,0.1587083524541095,0.20925810102134798,0.336487387289248,0.20891646905910818,0.34199292075629195,0.30781345699930873,0.0031877177803074086,-0.013546641150073868,-0.045122314849223674,0.10102814208754851,0.37406808453308626,0.3356202722736157,0.2648573223631736,0.2669837180767738,0.14526823685441223,-0.1290857569847364,-0.05543456700474801,-0.07952726606067514,-0.10378342609333283,-0.10321866145244017,-0.034032894556923154,0.06433746641184704,-0.0937815078382568,-0.07664905386913286,-0.07416709535529836,-0.18599891239297994,-0.10734049660989768,-0.07154785267537578,-0.022134969237282393,0.10067173823467918,0.1659575186669283,0.1320459385235809,-0.1541425281110087,-0.06756675548706409,-0.1015606563290213,0.04172403544282477,-0.1471328310482881,-0.09990151612866123,0.25034884085122866,-0.18535379535636512,-0.21952457229798136,-0.29890729162699053,-0.16738967210085332,-0.0779081486264507,-0.07415341889845851,-0.13438504198283738,-0.1447493744278543,-0.542345089994006,-0.5144973222724625,-0.28323809655895626,-0.18423423839828187,-0.08561789144257927,-0.12971275604521998,-0.2651313000000812,-0.26387924055835954,-0.32596602248493267,-0.28672936172380237,-0.13734219517523888,0.24466850329938597,-0.05315873514665839,-0.039632846628490245,-0.23617392347107163,-0.2707099211730395,-0.30008680779324215,-0.06520158624312969,0.016834387232061765,0.08607443393300448,-0.009363042516019965,0.12221458122616605,0.2783034897852932,0.2247964724287482,0.3386005115590822,0.6315153516787899,0.8981807615153408,0.5398767305062403,0.32149848719248564,0.5020882148520481,0.547780713510013,0.7022260544954367,0.6324601302018718,0.6128613316803978,0.5086672303281604,0.2554001439126893,0.11377592286191399,0.24850686648929518,0.4476657634600042,0.2143456804400871,0.09023639510505277,0.02845878432649182,-0.023665541312575186,-0.06311572992137848,-0.139002104411251,-0.039877332274501895,0.06958271489722434,-0.010320033869148038,0.06314462699056492,0.1863956753432596,0.07992952977858622,0.1056948106154185,0.06186524972926313,0.037380279969365604,0.01630180218115196,0.13603513375804757,0.1781753327397078,0.06483809578343003,0.021129087572033106,-0.10091384385717536,-0.08599328911438966,-0.08787531930917275,-0.04800479235705102,-0.07161187944745379,-0.17931087295418027,-0.16667350610730125,-0.09062548056346849,-0.2966318789905215,-0.2722088702511522,-0.17312138746666805,-0.0969931367994516,-0.04728984820215898,-0.3538417796532356,-0.16392025779058478,-0.2420863535253278,-0.43964086630560584,-0.6095440157337703,-0.7053411403541865,-0.8622141604895596,-0.8567756919158377,-0.8070579351928229,-0.6501047550457008,-0.5243327059262588,-0.3061786217645185,-0.4585808073385085,-0.6493129741541669,-0.6216579307856769,-0.6613893947551432,-0.7857330183126903,-0.6605350488284186,-0.7656872491868113,-0.3639929088661895,-0.24234102225731793,-0.5634721447380887,-0.31555340082501326,-0.7943420438494839,-0.49329012445682574,-0.7989964754685653,-0.8781385392016526,-0.9309465744739835,-0.816913376894714,-0.9100686840895896,-0.8446408326316034,-0.9118249166922421,-0.9293572783202745,-0.8906248588389614,-0.8083518516528473,-0.863975936856407,-0.714987672297568,-0.5594049844057161,-0.9084658470958715,-1.3411431209578943],\"type\":\"box\",\"xaxis\":\"x2\",\"yaxis\":\"y2\"}],                        {\"template\":{\"data\":{\"histogram2dcontour\":[{\"type\":\"histogram2dcontour\",\"colorbar\":{\"outlinewidth\":0,\"ticks\":\"\"},\"colorscale\":[[0.0,\"#0d0887\"],[0.1111111111111111,\"#46039f\"],[0.2222222222222222,\"#7201a8\"],[0.3333333333333333,\"#9c179e\"],[0.4444444444444444,\"#bd3786\"],[0.5555555555555556,\"#d8576b\"],[0.6666666666666666,\"#ed7953\"],[0.7777777777777778,\"#fb9f3a\"],[0.8888888888888888,\"#fdca26\"],[1.0,\"#f0f921\"]]}],\"choropleth\":[{\"type\":\"choropleth\",\"colorbar\":{\"outlinewidth\":0,\"ticks\":\"\"}}],\"histogram2d\":[{\"type\":\"histogram2d\",\"colorbar\":{\"outlinewidth\":0,\"ticks\":\"\"},\"colorscale\":[[0.0,\"#0d0887\"],[0.1111111111111111,\"#46039f\"],[0.2222222222222222,\"#7201a8\"],[0.3333333333333333,\"#9c179e\"],[0.4444444444444444,\"#bd3786\"],[0.5555555555555556,\"#d8576b\"],[0.6666666666666666,\"#ed7953\"],[0.7777777777777778,\"#fb9f3a\"],[0.8888888888888888,\"#fdca26\"],[1.0,\"#f0f921\"]]}],\"heatmap\":[{\"type\":\"heatmap\",\"colorbar\":{\"outlinewidth\":0,\"ticks\":\"\"},\"colorscale\":[[0.0,\"#0d0887\"],[0.1111111111111111,\"#46039f\"],[0.2222222222222222,\"#7201a8\"],[0.3333333333333333,\"#9c179e\"],[0.4444444444444444,\"#bd3786\"],[0.5555555555555556,\"#d8576b\"],[0.6666666666666666,\"#ed7953\"],[0.7777777777777778,\"#fb9f3a\"],[0.8888888888888888,\"#fdca26\"],[1.0,\"#f0f921\"]]}],\"heatmapgl\":[{\"type\":\"heatmapgl\",\"colorbar\":{\"outlinewidth\":0,\"ticks\":\"\"},\"colorscale\":[[0.0,\"#0d0887\"],[0.1111111111111111,\"#46039f\"],[0.2222222222222222,\"#7201a8\"],[0.3333333333333333,\"#9c179e\"],[0.4444444444444444,\"#bd3786\"],[0.5555555555555556,\"#d8576b\"],[0.6666666666666666,\"#ed7953\"],[0.7777777777777778,\"#fb9f3a\"],[0.8888888888888888,\"#fdca26\"],[1.0,\"#f0f921\"]]}],\"contourcarpet\":[{\"type\":\"contourcarpet\",\"colorbar\":{\"outlinewidth\":0,\"ticks\":\"\"}}],\"contour\":[{\"type\":\"contour\",\"colorbar\":{\"outlinewidth\":0,\"ticks\":\"\"},\"colorscale\":[[0.0,\"#0d0887\"],[0.1111111111111111,\"#46039f\"],[0.2222222222222222,\"#7201a8\"],[0.3333333333333333,\"#9c179e\"],[0.4444444444444444,\"#bd3786\"],[0.5555555555555556,\"#d8576b\"],[0.6666666666666666,\"#ed7953\"],[0.7777777777777778,\"#fb9f3a\"],[0.8888888888888888,\"#fdca26\"],[1.0,\"#f0f921\"]]}],\"surface\":[{\"type\":\"surface\",\"colorbar\":{\"outlinewidth\":0,\"ticks\":\"\"},\"colorscale\":[[0.0,\"#0d0887\"],[0.1111111111111111,\"#46039f\"],[0.2222222222222222,\"#7201a8\"],[0.3333333333333333,\"#9c179e\"],[0.4444444444444444,\"#bd3786\"],[0.5555555555555556,\"#d8576b\"],[0.6666666666666666,\"#ed7953\"],[0.7777777777777778,\"#fb9f3a\"],[0.8888888888888888,\"#fdca26\"],[1.0,\"#f0f921\"]]}],\"mesh3d\":[{\"type\":\"mesh3d\",\"colorbar\":{\"outlinewidth\":0,\"ticks\":\"\"}}],\"scatter\":[{\"fillpattern\":{\"fillmode\":\"overlay\",\"size\":10,\"solidity\":0.2},\"type\":\"scatter\"}],\"parcoords\":[{\"type\":\"parcoords\",\"line\":{\"colorbar\":{\"outlinewidth\":0,\"ticks\":\"\"}}}],\"scatterpolargl\":[{\"type\":\"scatterpolargl\",\"marker\":{\"colorbar\":{\"outlinewidth\":0,\"ticks\":\"\"}}}],\"bar\":[{\"error_x\":{\"color\":\"#2a3f5f\"},\"error_y\":{\"color\":\"#2a3f5f\"},\"marker\":{\"line\":{\"color\":\"#E5ECF6\",\"width\":0.5},\"pattern\":{\"fillmode\":\"overlay\",\"size\":10,\"solidity\":0.2}},\"type\":\"bar\"}],\"scattergeo\":[{\"type\":\"scattergeo\",\"marker\":{\"colorbar\":{\"outlinewidth\":0,\"ticks\":\"\"}}}],\"scatterpolar\":[{\"type\":\"scatterpolar\",\"marker\":{\"colorbar\":{\"outlinewidth\":0,\"ticks\":\"\"}}}],\"histogram\":[{\"marker\":{\"pattern\":{\"fillmode\":\"overlay\",\"size\":10,\"solidity\":0.2}},\"type\":\"histogram\"}],\"scattergl\":[{\"type\":\"scattergl\",\"marker\":{\"colorbar\":{\"outlinewidth\":0,\"ticks\":\"\"}}}],\"scatter3d\":[{\"type\":\"scatter3d\",\"line\":{\"colorbar\":{\"outlinewidth\":0,\"ticks\":\"\"}},\"marker\":{\"colorbar\":{\"outlinewidth\":0,\"ticks\":\"\"}}}],\"scattermapbox\":[{\"type\":\"scattermapbox\",\"marker\":{\"colorbar\":{\"outlinewidth\":0,\"ticks\":\"\"}}}],\"scatterternary\":[{\"type\":\"scatterternary\",\"marker\":{\"colorbar\":{\"outlinewidth\":0,\"ticks\":\"\"}}}],\"scattercarpet\":[{\"type\":\"scattercarpet\",\"marker\":{\"colorbar\":{\"outlinewidth\":0,\"ticks\":\"\"}}}],\"carpet\":[{\"aaxis\":{\"endlinecolor\":\"#2a3f5f\",\"gridcolor\":\"white\",\"linecolor\":\"white\",\"minorgridcolor\":\"white\",\"startlinecolor\":\"#2a3f5f\"},\"baxis\":{\"endlinecolor\":\"#2a3f5f\",\"gridcolor\":\"white\",\"linecolor\":\"white\",\"minorgridcolor\":\"white\",\"startlinecolor\":\"#2a3f5f\"},\"type\":\"carpet\"}],\"table\":[{\"cells\":{\"fill\":{\"color\":\"#EBF0F8\"},\"line\":{\"color\":\"white\"}},\"header\":{\"fill\":{\"color\":\"#C8D4E3\"},\"line\":{\"color\":\"white\"}},\"type\":\"table\"}],\"barpolar\":[{\"marker\":{\"line\":{\"color\":\"#E5ECF6\",\"width\":0.5},\"pattern\":{\"fillmode\":\"overlay\",\"size\":10,\"solidity\":0.2}},\"type\":\"barpolar\"}],\"pie\":[{\"automargin\":true,\"type\":\"pie\"}]},\"layout\":{\"autotypenumbers\":\"strict\",\"colorway\":[\"#636efa\",\"#EF553B\",\"#00cc96\",\"#ab63fa\",\"#FFA15A\",\"#19d3f3\",\"#FF6692\",\"#B6E880\",\"#FF97FF\",\"#FECB52\"],\"font\":{\"color\":\"#2a3f5f\"},\"hovermode\":\"closest\",\"hoverlabel\":{\"align\":\"left\"},\"paper_bgcolor\":\"white\",\"plot_bgcolor\":\"#E5ECF6\",\"polar\":{\"bgcolor\":\"#E5ECF6\",\"angularaxis\":{\"gridcolor\":\"white\",\"linecolor\":\"white\",\"ticks\":\"\"},\"radialaxis\":{\"gridcolor\":\"white\",\"linecolor\":\"white\",\"ticks\":\"\"}},\"ternary\":{\"bgcolor\":\"#E5ECF6\",\"aaxis\":{\"gridcolor\":\"white\",\"linecolor\":\"white\",\"ticks\":\"\"},\"baxis\":{\"gridcolor\":\"white\",\"linecolor\":\"white\",\"ticks\":\"\"},\"caxis\":{\"gridcolor\":\"white\",\"linecolor\":\"white\",\"ticks\":\"\"}},\"coloraxis\":{\"colorbar\":{\"outlinewidth\":0,\"ticks\":\"\"}},\"colorscale\":{\"sequential\":[[0.0,\"#0d0887\"],[0.1111111111111111,\"#46039f\"],[0.2222222222222222,\"#7201a8\"],[0.3333333333333333,\"#9c179e\"],[0.4444444444444444,\"#bd3786\"],[0.5555555555555556,\"#d8576b\"],[0.6666666666666666,\"#ed7953\"],[0.7777777777777778,\"#fb9f3a\"],[0.8888888888888888,\"#fdca26\"],[1.0,\"#f0f921\"]],\"sequentialminus\":[[0.0,\"#0d0887\"],[0.1111111111111111,\"#46039f\"],[0.2222222222222222,\"#7201a8\"],[0.3333333333333333,\"#9c179e\"],[0.4444444444444444,\"#bd3786\"],[0.5555555555555556,\"#d8576b\"],[0.6666666666666666,\"#ed7953\"],[0.7777777777777778,\"#fb9f3a\"],[0.8888888888888888,\"#fdca26\"],[1.0,\"#f0f921\"]],\"diverging\":[[0,\"#8e0152\"],[0.1,\"#c51b7d\"],[0.2,\"#de77ae\"],[0.3,\"#f1b6da\"],[0.4,\"#fde0ef\"],[0.5,\"#f7f7f7\"],[0.6,\"#e6f5d0\"],[0.7,\"#b8e186\"],[0.8,\"#7fbc41\"],[0.9,\"#4d9221\"],[1,\"#276419\"]]},\"xaxis\":{\"gridcolor\":\"white\",\"linecolor\":\"white\",\"ticks\":\"\",\"title\":{\"standoff\":15},\"zerolinecolor\":\"white\",\"automargin\":true,\"zerolinewidth\":2},\"yaxis\":{\"gridcolor\":\"white\",\"linecolor\":\"white\",\"ticks\":\"\",\"title\":{\"standoff\":15},\"zerolinecolor\":\"white\",\"automargin\":true,\"zerolinewidth\":2},\"scene\":{\"xaxis\":{\"backgroundcolor\":\"#E5ECF6\",\"gridcolor\":\"white\",\"linecolor\":\"white\",\"showbackground\":true,\"ticks\":\"\",\"zerolinecolor\":\"white\",\"gridwidth\":2},\"yaxis\":{\"backgroundcolor\":\"#E5ECF6\",\"gridcolor\":\"white\",\"linecolor\":\"white\",\"showbackground\":true,\"ticks\":\"\",\"zerolinecolor\":\"white\",\"gridwidth\":2},\"zaxis\":{\"backgroundcolor\":\"#E5ECF6\",\"gridcolor\":\"white\",\"linecolor\":\"white\",\"showbackground\":true,\"ticks\":\"\",\"zerolinecolor\":\"white\",\"gridwidth\":2}},\"shapedefaults\":{\"line\":{\"color\":\"#2a3f5f\"}},\"annotationdefaults\":{\"arrowcolor\":\"#2a3f5f\",\"arrowhead\":0,\"arrowwidth\":1},\"geo\":{\"bgcolor\":\"white\",\"landcolor\":\"#E5ECF6\",\"subunitcolor\":\"white\",\"showland\":true,\"showlakes\":true,\"lakecolor\":\"white\"},\"title\":{\"x\":0.05},\"mapbox\":{\"style\":\"light\"}}},\"xaxis\":{\"anchor\":\"y\",\"domain\":[0.0,0.784],\"matches\":\"x3\",\"showticklabels\":false},\"yaxis\":{\"anchor\":\"x\",\"domain\":[0.51,1.0],\"title\":{\"text\":\"Contribution\"}},\"xaxis2\":{\"anchor\":\"y2\",\"domain\":[0.804,1.0],\"matches\":\"x4\",\"showticklabels\":false},\"yaxis2\":{\"anchor\":\"x2\",\"domain\":[0.51,1.0],\"matches\":\"y\",\"showticklabels\":false},\"xaxis3\":{\"anchor\":\"y3\",\"domain\":[0.0,0.784],\"title\":{\"text\":\"Longitude\"}},\"yaxis3\":{\"anchor\":\"x3\",\"domain\":[0.0,0.49],\"title\":{\"text\":\"Count\"}},\"xaxis4\":{\"anchor\":\"y4\",\"domain\":[0.804,1.0]},\"yaxis4\":{\"anchor\":\"x4\",\"domain\":[0.0,0.49],\"matches\":\"y3\",\"showticklabels\":false},\"annotations\":[{\"font\":{\"size\":16},\"showarrow\":false,\"text\":\"MedHouseVal prediction\",\"x\":0.392,\"xanchor\":\"center\",\"xref\":\"paper\",\"y\":1.0,\"yanchor\":\"bottom\",\"yref\":\"paper\"},{\"font\":{\"size\":16},\"showarrow\":false,\"text\":\"Contribution distribution\",\"x\":0.902,\"xanchor\":\"center\",\"xref\":\"paper\",\"y\":1.0,\"yanchor\":\"bottom\",\"yref\":\"paper\"}],\"showlegend\":false,\"title\":{\"text\":\"Contributions are on the same scale as MedHouseVal,<br>and centered vertically on the train set.\"}},                        {\"responsive\": true}                    ).then(function(){\n                            \nvar gd = document.getElementById('bfa10637-b10b-45ef-bb85-2ceb14ec9348');\nvar x = new MutationObserver(function (mutations, observer) {{\n        var display = window.getComputedStyle(gd).display;\n        if (!display || display === 'none') {{\n            console.log([gd, 'removed!']);\n            Plotly.purge(gd);\n            observer.disconnect();\n        }}\n}});\n\n// Listen for the removal of the full notebook cells\nvar notebookContainer = gd.closest('#notebook-container');\nif (notebookContainer) {{\n    x.observe(notebookContainer, {childList: true});\n}}\n\n// Listen for the clearing of the current output cell\nvar outputEl = gd.closest('.output');\nif (outputEl) {{\n    x.observe(outputEl, {childList: true});\n}}\n\n                        })                };                });            </script>        </div>"
     },
     "metadata": {},
     "output_type": "display_data"
    }
   ],
   "source": [
    "sparsereg = SparseAdditiveBoostingRegressor(\n",
    "    learning_rate=0.01,\n",
    "    n_estimators=20_000,\n",
    "    max_depth=4,\n",
    "    row_subsample=0.85,\n",
    "    random_state=0,\n",
    "    n_iter_no_change=500,\n",
    ")\n",
    "sparsereg.fit(X, y)\n",
    "sparsereg.explain(X)"
   ],
   "metadata": {
    "collapsed": false
   }
  },
  {
   "cell_type": "code",
   "execution_count": null,
   "outputs": [],
   "source": [],
   "metadata": {
    "collapsed": false
   }
  }
 ],
 "metadata": {
  "kernelspec": {
   "display_name": "Python 3 (ipykernel)",
   "language": "python",
   "name": "python3"
  },
  "language_info": {
   "codemirror_mode": {
    "name": "ipython",
    "version": 3
   },
   "file_extension": ".py",
   "mimetype": "text/x-python",
   "name": "python",
   "nbconvert_exporter": "python",
   "pygments_lexer": "ipython3",
   "version": "3.11.3"
  }
 },
 "nbformat": 4,
 "nbformat_minor": 4
}
