{
 "cells": [
  {
   "cell_type": "markdown",
   "metadata": {
    "pycharm": {
     "name": "#%% md\n"
    }
   },
   "source": [
    "# Setup"
   ]
  },
  {
   "cell_type": "code",
   "execution_count": 1,
   "metadata": {
    "execution": {
     "iopub.execute_input": "2023-04-25T05:03:48.117971Z",
     "iopub.status.busy": "2023-04-25T05:03:48.116971Z",
     "iopub.status.idle": "2023-04-25T05:03:52.880169Z",
     "shell.execute_reply": "2023-04-25T05:03:52.879166Z",
     "shell.execute_reply.started": "2023-04-25T05:03:48.117971Z"
    },
    "pycharm": {
     "name": "#%%\n"
    }
   },
   "outputs": [],
   "source": [
    "# Third party imports\n",
    "import pandas as pd\n",
    "from sklearn.datasets import fetch_california_housing\n",
    "from sklearn.linear_model import RidgeCV, ElasticNetCV\n",
    "from sklearn.model_selection import cross_validate\n",
    "from sklearn.pipeline import make_pipeline\n",
    "from sklearn.preprocessing import StandardScaler\n",
    "\n",
    "# Local imports\n",
    "from asboostreg import SparseAdditiveBoostingRegressor"
   ]
  },
  {
   "cell_type": "code",
   "execution_count": null,
   "metadata": {
    "execution": {
     "iopub.execute_input": "2023-04-25T05:03:52.885171Z",
     "iopub.status.busy": "2023-04-25T05:03:52.884171Z",
     "iopub.status.idle": "2023-04-25T05:03:52.951923Z",
     "shell.execute_reply": "2023-04-25T05:03:52.950920Z",
     "shell.execute_reply.started": "2023-04-25T05:03:52.884171Z"
    },
    "pycharm": {
     "name": "#%%\n"
    }
   },
   "outputs": [],
   "source": [
    "pd.options.plotting.backend = \"plotly\""
   ]
  },
  {
   "cell_type": "markdown",
   "metadata": {
    "pycharm": {
     "name": "#%% md\n"
    }
   },
   "source": [
    "# Loading the California housing dataset"
   ]
  },
  {
   "cell_type": "code",
   "execution_count": null,
   "metadata": {
    "execution": {
     "iopub.execute_input": "2023-04-25T05:03:52.952924Z",
     "iopub.status.busy": "2023-04-25T05:03:52.952924Z",
     "iopub.status.idle": "2023-04-25T05:03:53.002217Z",
     "shell.execute_reply": "2023-04-25T05:03:53.001213Z",
     "shell.execute_reply.started": "2023-04-25T05:03:52.952924Z"
    },
    "pycharm": {
     "name": "#%%\n"
    }
   },
   "outputs": [],
   "source": [
    "X, y = fetch_california_housing(return_X_y=True, as_frame=True)\n",
    "X.head()"
   ]
  },
  {
   "cell_type": "code",
   "execution_count": null,
   "metadata": {
    "pycharm": {
     "name": "#%%\n"
    }
   },
   "outputs": [],
   "source": [
    "def evaluate(model):\n",
    "    df = pd.DataFrame(\n",
    "        cross_validate(model, X, y, cv=5, scoring=\"r2\", return_train_score=True)\n",
    "    )\n",
    "    intervals = df.mean().round(2).astype(str) + \" ± \" + df.std().round(2).astype(str)\n",
    "    model.fit(X, y)\n",
    "    return pd.DataFrame({\"Mean ± SD\": intervals})"
   ]
  },
  {
   "cell_type": "markdown",
   "metadata": {
    "pycharm": {
     "name": "#%% md\n"
    }
   },
   "source": [
    "# High interpretability models"
   ]
  },
  {
   "cell_type": "code",
   "execution_count": null,
   "metadata": {
    "pycharm": {
     "name": "#%%\n"
    }
   },
   "outputs": [],
   "source": [
    "ridge = make_pipeline(StandardScaler(), RidgeCV())\n",
    "evaluate(ridge)"
   ]
  },
  {
   "cell_type": "code",
   "execution_count": null,
   "metadata": {
    "pycharm": {
     "name": "#%%\n"
    }
   },
   "outputs": [],
   "source": [
    "fig = pd.Series(index=X.columns, data=ridge[1].coef_).sort_values().plot.barh()\n",
    "fig.update_layout(\n",
    "    title=\"Ridge model feature importances\",\n",
    "    xaxis_title=\"Importance\",\n",
    "    yaxis_title=\"Feature\",\n",
    ")"
   ]
  },
  {
   "cell_type": "markdown",
   "metadata": {
    "pycharm": {
     "name": "#%% md\n"
    }
   },
   "source": [
    "# Sparse interpretable models"
   ]
  },
  {
   "cell_type": "code",
   "execution_count": null,
   "metadata": {
    "pycharm": {
     "name": "#%%\n"
    }
   },
   "outputs": [],
   "source": [
    "elasticnet = make_pipeline(StandardScaler(), ElasticNetCV())\n",
    "evaluate(elasticnet)"
   ]
  },
  {
   "cell_type": "code",
   "execution_count": null,
   "metadata": {
    "pycharm": {
     "name": "#%%\n"
    }
   },
   "outputs": [],
   "source": [
    "fig = pd.Series(index=X.columns, data=elasticnet[1].coef_).sort_values().plot.barh()\n",
    "fig.update_layout(\n",
    "    title=\"Elastic Net model feature importances\",\n",
    "    xaxis_title=\"Importance\",\n",
    "    yaxis_title=\"Feature\",\n",
    ")"
   ]
  },
  {
   "cell_type": "code",
   "execution_count": null,
   "metadata": {
    "pycharm": {
     "name": "#%%\n"
    }
   },
   "outputs": [],
   "source": [
    "sparsereg = SparseAdditiveBoostingRegressor(\n",
    "    learning_rate=0.8,\n",
    "    n_estimators=100,\n",
    "    l2_regularization=2.0,\n",
    "    max_depth=6,\n",
    "    random_state=0,\n",
    "    n_iter_no_change=30,\n",
    ")\n",
    "evaluate(sparsereg)"
   ]
  },
  {
   "cell_type": "code",
   "execution_count": null,
   "metadata": {
    "pycharm": {
     "name": "#%%\n"
    }
   },
   "outputs": [],
   "source": [
    "sparsereg.fit(X, y)"
   ]
  },
  {
   "cell_type": "code",
   "execution_count": null,
   "metadata": {
    "pycharm": {
     "name": "#%%\n"
    }
   },
   "outputs": [],
   "source": [
    "sparsereg.plot_model_information()"
   ]
  },
  {
   "cell_type": "code",
   "execution_count": null,
   "metadata": {
    "pycharm": {
     "name": "#%%\n"
    }
   },
   "outputs": [],
   "source": [
    "sparsereg.explain(X)"
   ]
  },
  {
   "cell_type": "code",
   "execution_count": null,
   "metadata": {
    "pycharm": {
     "name": "#%%\n"
    }
   },
   "outputs": [],
   "source": [
    "sparsereg.contribution_frame(X).head()"
   ]
  }
 ],
 "metadata": {
  "kernelspec": {
   "display_name": "Python 3 (ipykernel)",
   "language": "python",
   "name": "python3"
  },
  "language_info": {
   "codemirror_mode": {
    "name": "ipython",
    "version": 3
   },
   "file_extension": ".py",
   "mimetype": "text/x-python",
   "name": "python",
   "nbconvert_exporter": "python",
   "pygments_lexer": "ipython3",
   "version": "3.11.3"
  }
 },
 "nbformat": 4,
 "nbformat_minor": 4
}