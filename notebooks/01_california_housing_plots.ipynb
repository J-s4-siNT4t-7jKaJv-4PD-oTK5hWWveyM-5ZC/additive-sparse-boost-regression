{
 "cells": [
  {
   "cell_type": "markdown",
   "metadata": {
    "pycharm": {
     "name": "#%% md\n"
    }
   },
   "source": [
    "# Setup"
   ]
  },
  {
   "cell_type": "code",
   "execution_count": 9,
   "metadata": {
    "execution": {
     "iopub.execute_input": "2023-04-25T05:03:48.117971Z",
     "iopub.status.busy": "2023-04-25T05:03:48.116971Z",
     "iopub.status.idle": "2023-04-25T05:03:52.880169Z",
     "shell.execute_reply": "2023-04-25T05:03:52.879166Z",
     "shell.execute_reply.started": "2023-04-25T05:03:48.117971Z"
    },
    "pycharm": {
     "name": "#%%\n"
    }
   },
   "outputs": [],
   "source": [
    "# Standard library imports\n",
    "import warnings\n",
    "from time import perf_counter_ns\n",
    "\n",
    "# Third party imports\n",
    "import pandas as pd\n",
    "import xgboost as xgb\n",
    "from interpret.glassbox import ExplainableBoostingRegressor\n",
    "from sklearn.datasets import fetch_california_housing\n",
    "from sklearn.dummy import DummyRegressor\n",
    "from sklearn.ensemble import RandomForestRegressor\n",
    "from sklearn.linear_model import Ridge, RidgeCV\n",
    "from sklearn.model_selection import KFold\n",
    "from sklearn.pipeline import make_pipeline\n",
    "from sklearn.preprocessing import StandardScaler\n",
    "from sklearn.tree import DecisionTreeRegressor\n",
    "\n",
    "# Local imports\n",
    "from asboostreg import SparseAdditiveBoostingRegressor"
   ]
  },
  {
   "cell_type": "code",
   "execution_count": 10,
   "metadata": {
    "execution": {
     "iopub.execute_input": "2023-04-25T05:03:52.885171Z",
     "iopub.status.busy": "2023-04-25T05:03:52.884171Z",
     "iopub.status.idle": "2023-04-25T05:03:52.951923Z",
     "shell.execute_reply": "2023-04-25T05:03:52.950920Z",
     "shell.execute_reply.started": "2023-04-25T05:03:52.884171Z"
    },
    "pycharm": {
     "name": "#%%\n"
    }
   },
   "outputs": [],
   "source": [
    "pd.options.plotting.backend = \"plotly\"\n",
    "warnings.filterwarnings(\"ignore\")"
   ]
  },
  {
   "cell_type": "markdown",
   "metadata": {
    "pycharm": {
     "name": "#%% md\n"
    }
   },
   "source": [
    "# Loading the California housing dataset"
   ]
  },
  {
   "cell_type": "code",
   "execution_count": 11,
   "metadata": {
    "execution": {
     "iopub.execute_input": "2023-04-25T05:03:52.952924Z",
     "iopub.status.busy": "2023-04-25T05:03:52.952924Z",
     "iopub.status.idle": "2023-04-25T05:03:53.002217Z",
     "shell.execute_reply": "2023-04-25T05:03:53.001213Z",
     "shell.execute_reply.started": "2023-04-25T05:03:52.952924Z"
    },
    "pycharm": {
     "name": "#%%\n"
    }
   },
   "outputs": [
    {
     "data": {
      "text/plain": "   MedInc  HouseAge  AveRooms  AveBedrms  Population  AveOccup  Latitude   \n0  8.3252      41.0  6.984127   1.023810       322.0  2.555556     37.88  \\\n1  8.3014      21.0  6.238137   0.971880      2401.0  2.109842     37.86   \n2  7.2574      52.0  8.288136   1.073446       496.0  2.802260     37.85   \n3  5.6431      52.0  5.817352   1.073059       558.0  2.547945     37.85   \n4  3.8462      52.0  6.281853   1.081081       565.0  2.181467     37.85   \n\n   Longitude  \n0    -122.23  \n1    -122.22  \n2    -122.24  \n3    -122.25  \n4    -122.25  ",
      "text/html": "<div>\n<style scoped>\n    .dataframe tbody tr th:only-of-type {\n        vertical-align: middle;\n    }\n\n    .dataframe tbody tr th {\n        vertical-align: top;\n    }\n\n    .dataframe thead th {\n        text-align: right;\n    }\n</style>\n<table border=\"1\" class=\"dataframe\">\n  <thead>\n    <tr style=\"text-align: right;\">\n      <th></th>\n      <th>MedInc</th>\n      <th>HouseAge</th>\n      <th>AveRooms</th>\n      <th>AveBedrms</th>\n      <th>Population</th>\n      <th>AveOccup</th>\n      <th>Latitude</th>\n      <th>Longitude</th>\n    </tr>\n  </thead>\n  <tbody>\n    <tr>\n      <th>0</th>\n      <td>8.3252</td>\n      <td>41.0</td>\n      <td>6.984127</td>\n      <td>1.023810</td>\n      <td>322.0</td>\n      <td>2.555556</td>\n      <td>37.88</td>\n      <td>-122.23</td>\n    </tr>\n    <tr>\n      <th>1</th>\n      <td>8.3014</td>\n      <td>21.0</td>\n      <td>6.238137</td>\n      <td>0.971880</td>\n      <td>2401.0</td>\n      <td>2.109842</td>\n      <td>37.86</td>\n      <td>-122.22</td>\n    </tr>\n    <tr>\n      <th>2</th>\n      <td>7.2574</td>\n      <td>52.0</td>\n      <td>8.288136</td>\n      <td>1.073446</td>\n      <td>496.0</td>\n      <td>2.802260</td>\n      <td>37.85</td>\n      <td>-122.24</td>\n    </tr>\n    <tr>\n      <th>3</th>\n      <td>5.6431</td>\n      <td>52.0</td>\n      <td>5.817352</td>\n      <td>1.073059</td>\n      <td>558.0</td>\n      <td>2.547945</td>\n      <td>37.85</td>\n      <td>-122.25</td>\n    </tr>\n    <tr>\n      <th>4</th>\n      <td>3.8462</td>\n      <td>52.0</td>\n      <td>6.281853</td>\n      <td>1.081081</td>\n      <td>565.0</td>\n      <td>2.181467</td>\n      <td>37.85</td>\n      <td>-122.25</td>\n    </tr>\n  </tbody>\n</table>\n</div>"
     },
     "execution_count": 11,
     "metadata": {},
     "output_type": "execute_result"
    }
   ],
   "source": [
    "X, y = fetch_california_housing(return_X_y=True, as_frame=True)\n",
    "X.head()"
   ]
  },
  {
   "cell_type": "code",
   "execution_count": 12,
   "outputs": [],
   "source": [
    "kf = KFold(n_splits=10, random_state=0)\n",
    "cv = list(kf.split(X))"
   ],
   "metadata": {
    "collapsed": false,
    "pycharm": {
     "name": "#%%\n"
    }
   }
  },
  {
   "cell_type": "markdown",
   "source": [
    "# Defining the models"
   ],
   "metadata": {
    "collapsed": false,
    "pycharm": {
     "name": "#%% md\n"
    }
   }
  },
  {
   "cell_type": "code",
   "execution_count": 13,
   "outputs": [],
   "source": [
    "dummy = DummyRegressor()\n",
    "\n",
    "# Interpretable but not strong\n",
    "ridgereg = make_pipeline(\n",
    "    StandardScaler(),\n",
    "    RidgeCV(cv=cv),\n",
    ")  # Non Sparse\n",
    "treereg = DecisionTreeRegressor(max_depth=3)  # Sparse\n",
    "\n",
    "# Strong but not interpretable\n",
    "rfreg = RandomForestRegressor()  # Non Sparse\n",
    "xgbreg = xgb.XGBRegressor()  # Sparse\n",
    "\n",
    "# Both interpretable and strong\n",
    "ebmreg = ExplainableBoostingRegressor(interactions=0)  # Non Sparse\n",
    "sparsereg = SparseAdditiveBoostingRegressor(\n",
    "    learning_rate=0.01,\n",
    "    n_estimators=18_000,\n",
    "    l2_regularization=5.0,\n",
    "    max_depth=4,\n",
    "    row_subsample=0.85,\n",
    "    random_state=0,\n",
    "    n_iter_no_change=20,\n",
    ")  # Sparse"
   ],
   "metadata": {
    "collapsed": false,
    "pycharm": {
     "name": "#%%\n"
    }
   }
  },
  {
   "cell_type": "markdown",
   "source": [
    "# Comparing performance"
   ],
   "metadata": {
    "collapsed": false,
    "pycharm": {
     "name": "#%% md\n"
    }
   }
  },
  {
   "cell_type": "code",
   "execution_count": 14,
   "outputs": [],
   "source": [
    "# Running fast Hyperparameter optimization for Ridge\n",
    "ridgereg.fit(X, y)\n",
    "alpha = ridgereg.named_steps[\"ridgecv\"].alpha_\n",
    "ridgereg = make_pipeline(StandardScaler(), Ridge(alpha=alpha))"
   ],
   "metadata": {
    "collapsed": false,
    "pycharm": {
     "name": "#%%\n"
    }
   }
  },
  {
   "cell_type": "code",
   "execution_count": 15,
   "outputs": [],
   "source": [
    "def evaluate(model, X_train, X_test, y_train, y_test, **kwargs):\n",
    "    start = perf_counter_ns()\n",
    "    model.fit(X_train, y_train, **kwargs)\n",
    "    end = perf_counter_ns()\n",
    "    elapsed = (end - start) / 1e9\n",
    "    train_score = model.score(X_train, y_train)\n",
    "    test_score = model.score(X_test, y_test)\n",
    "    print(\n",
    "        f\"{model.__class__.__name__}: {train_score:.3f} (train),\"\n",
    "        f\" {test_score:.3f} (test), {elapsed:.3f} (s)\"\n",
    "    )\n",
    "    return train_score, test_score"
   ],
   "metadata": {
    "collapsed": false,
    "pycharm": {
     "name": "#%%\n"
    }
   }
  },
  {
   "cell_type": "code",
   "execution_count": 16,
   "outputs": [
    {
     "name": "stdout",
     "output_type": "stream",
     "text": [
      "Fold 1\n",
      "------\n",
      "DummyRegressor: 0.000 (train), -0.000 (test), 0.001 (s)\n",
      "DecisionTreeRegressor: 0.535 (train), 0.520 (test), 0.065 (s)\n",
      "Pipeline: 0.606 (train), 0.610 (test), 0.007 (s)\n",
      "XGBRegressor: 0.938 (train), 0.849 (test), 1.082 (s)\n",
      "RandomForestRegressor: 0.974 (train), 0.815 (test), 30.524 (s)\n",
      "ExplainableBoostingRegressor: 0.783 (train), 0.774 (test), 3.738 (s)\n",
      "SparseAdditiveBoostingRegressor: 0.751 (train), 0.757 (test), 50.063 (s)\n",
      "\n",
      "Fold 2\n",
      "------\n",
      "DummyRegressor: 0.000 (train), -0.000 (test), 0.000 (s)\n",
      "DecisionTreeRegressor: 0.540 (train), 0.473 (test), 0.063 (s)\n",
      "Pipeline: 0.609 (train), 0.576 (test), 0.008 (s)\n",
      "XGBRegressor: 0.938 (train), 0.828 (test), 1.042 (s)\n",
      "RandomForestRegressor: 0.974 (train), 0.794 (test), 29.877 (s)\n",
      "ExplainableBoostingRegressor: 0.785 (train), 0.740 (test), 3.590 (s)\n",
      "SparseAdditiveBoostingRegressor: 0.503 (train), 0.466 (test), 48.862 (s)\n",
      "\n",
      "Fold 3\n",
      "------\n",
      "DummyRegressor: 0.000 (train), -0.001 (test), 0.000 (s)\n",
      "DecisionTreeRegressor: 0.533 (train), 0.538 (test), 0.063 (s)\n",
      "Pipeline: 0.608 (train), 0.590 (test), 0.008 (s)\n",
      "XGBRegressor: 0.937 (train), 0.834 (test), 1.042 (s)\n",
      "RandomForestRegressor: 0.974 (train), 0.804 (test), 30.090 (s)\n",
      "ExplainableBoostingRegressor: 0.785 (train), 0.753 (test), 3.667 (s)\n",
      "SparseAdditiveBoostingRegressor: 0.753 (train), 0.738 (test), 48.424 (s)\n",
      "\n",
      "Fold 4\n",
      "------\n",
      "DummyRegressor: 0.000 (train), -0.000 (test), 0.000 (s)\n",
      "DecisionTreeRegressor: 0.533 (train), 0.528 (test), 0.062 (s)\n",
      "Pipeline: 0.605 (train), 0.615 (test), 0.008 (s)\n",
      "XGBRegressor: 0.939 (train), 0.843 (test), 1.023 (s)\n",
      "RandomForestRegressor: 0.974 (train), 0.815 (test), 23.287 (s)\n",
      "ExplainableBoostingRegressor: 0.783 (train), 0.766 (test), 3.611 (s)\n",
      "SparseAdditiveBoostingRegressor: 0.540 (train), 0.549 (test), 44.699 (s)\n",
      "\n",
      "Fold 5\n",
      "------\n",
      "DummyRegressor: 0.000 (train), -0.000 (test), 0.000 (s)\n",
      "DecisionTreeRegressor: 0.535 (train), 0.521 (test), 0.055 (s)\n",
      "Pipeline: 0.605 (train), 0.613 (test), 0.008 (s)\n",
      "XGBRegressor: 0.939 (train), 0.848 (test), 1.182 (s)\n",
      "RandomForestRegressor: 0.973 (train), 0.822 (test), 22.656 (s)\n",
      "ExplainableBoostingRegressor: 0.782 (train), 0.776 (test), 3.565 (s)\n",
      "SparseAdditiveBoostingRegressor: 0.494 (train), 0.501 (test), 45.202 (s)\n",
      "\n",
      "Fold 6\n",
      "------\n",
      "DummyRegressor: 0.000 (train), -0.000 (test), 0.000 (s)\n",
      "DecisionTreeRegressor: 0.535 (train), 0.519 (test), 0.062 (s)\n",
      "Pipeline: 0.608 (train), 0.591 (test), 0.007 (s)\n",
      "XGBRegressor: 0.935 (train), 0.833 (test), 1.009 (s)\n",
      "RandomForestRegressor: 0.974 (train), 0.812 (test), 25.652 (s)\n",
      "ExplainableBoostingRegressor: 0.784 (train), 0.762 (test), 3.516 (s)\n",
      "SparseAdditiveBoostingRegressor: 0.750 (train), 0.746 (test), 51.798 (s)\n",
      "\n",
      "Fold 7\n",
      "------\n",
      "DummyRegressor: 0.000 (train), -0.000 (test), 0.000 (s)\n",
      "DecisionTreeRegressor: 0.532 (train), 0.552 (test), 0.049 (s)\n",
      "Pipeline: 0.606 (train), 0.609 (test), 0.007 (s)\n",
      "XGBRegressor: 0.928 (train), 0.839 (test), 1.089 (s)\n",
      "RandomForestRegressor: 0.974 (train), 0.814 (test), 31.027 (s)\n",
      "ExplainableBoostingRegressor: 0.786 (train), 0.758 (test), 3.885 (s)\n",
      "SparseAdditiveBoostingRegressor: 0.748 (train), 0.741 (test), 47.039 (s)\n",
      "\n",
      "Fold 8\n",
      "------\n",
      "DummyRegressor: 0.000 (train), -0.000 (test), 0.000 (s)\n",
      "DecisionTreeRegressor: 0.534 (train), 0.531 (test), 0.066 (s)\n",
      "Pipeline: 0.607 (train), 0.592 (test), 0.008 (s)\n",
      "XGBRegressor: 0.938 (train), 0.841 (test), 1.059 (s)\n",
      "RandomForestRegressor: 0.974 (train), 0.824 (test), 31.508 (s)\n",
      "ExplainableBoostingRegressor: 0.781 (train), 0.777 (test), 3.641 (s)\n",
      "SparseAdditiveBoostingRegressor: 0.547 (train), 0.551 (test), 47.693 (s)\n",
      "\n",
      "Fold 9\n",
      "------\n",
      "DummyRegressor: 0.000 (train), -0.000 (test), 0.000 (s)\n",
      "DecisionTreeRegressor: 0.537 (train), 0.501 (test), 0.064 (s)\n",
      "Pipeline: 0.607 (train), 0.597 (test), 0.007 (s)\n",
      "XGBRegressor: 0.939 (train), 0.813 (test), 1.038 (s)\n",
      "RandomForestRegressor: 0.974 (train), 0.791 (test), 31.332 (s)\n",
      "ExplainableBoostingRegressor: 0.786 (train), 0.734 (test), 3.472 (s)\n",
      "SparseAdditiveBoostingRegressor: 0.562 (train), 0.542 (test), 3.038 (s)\n",
      "\n",
      "Fold 10\n",
      "------\n",
      "DummyRegressor: 0.000 (train), -0.000 (test), 0.000 (s)\n",
      "DecisionTreeRegressor: 0.530 (train), 0.565 (test), 0.064 (s)\n",
      "Pipeline: 0.602 (train), 0.639 (test), 0.007 (s)\n",
      "XGBRegressor: 0.933 (train), 0.852 (test), 1.044 (s)\n",
      "RandomForestRegressor: 0.973 (train), 0.834 (test), 30.847 (s)\n",
      "ExplainableBoostingRegressor: 0.779 (train), 0.793 (test), 3.768 (s)\n",
      "SparseAdditiveBoostingRegressor: 0.542 (train), 0.568 (test), 3.189 (s)\n",
      "\n"
     ]
    }
   ],
   "source": [
    "train_scores = {\n",
    "    \"Decision Tree\": [],\n",
    "    \"Elastic Net\": [],\n",
    "    \"XGBoost\": [],\n",
    "    \"Random Forest\": [],\n",
    "    \"EBM\": [],\n",
    "    \"SparseReg\": [],\n",
    "    \"Dummy\": [],\n",
    "}\n",
    "test_scores = {\n",
    "    \"Dummy\": [],\n",
    "    \"Decision Tree\": [],\n",
    "    \"Elastic Net\": [],\n",
    "    \"XGBoost\": [],\n",
    "    \"Random Forest\": [],\n",
    "    \"EBM\": [],\n",
    "    \"SparseReg\": [],\n",
    "}\n",
    "\n",
    "for i, (train_index, test_index) in enumerate(cv, 1):\n",
    "    X_train, X_test = X.iloc[train_index], X.iloc[test_index]\n",
    "    y_train, y_test = y.iloc[train_index], y.iloc[test_index]\n",
    "\n",
    "    print(f\"Fold {i}\")\n",
    "    print(\"------\")\n",
    "\n",
    "    train, test = evaluate(dummy, X_train, X_test, y_train, y_test)\n",
    "    train_scores[\"Dummy\"].append(train)\n",
    "    test_scores[\"Dummy\"].append(test)\n",
    "\n",
    "    train, test = evaluate(treereg, X_train, X_test, y_train, y_test)\n",
    "    train_scores[\"Decision Tree\"].append(train)\n",
    "    test_scores[\"Decision Tree\"].append(test)\n",
    "\n",
    "    train, test = evaluate(ridgereg, X_train, X_test, y_train, y_test)\n",
    "    train_scores[\"Elastic Net\"].append(train)\n",
    "    test_scores[\"Elastic Net\"].append(test)\n",
    "\n",
    "    train, test = evaluate(\n",
    "        xgbreg,\n",
    "        X_train,\n",
    "        X_test,\n",
    "        y_train,\n",
    "        y_test,\n",
    "        eval_set=[(X_test, y_test)],\n",
    "        early_stopping_rounds=30,\n",
    "        verbose=False,\n",
    "    )\n",
    "    train_scores[\"XGBoost\"].append(train)\n",
    "    test_scores[\"XGBoost\"].append(test)\n",
    "\n",
    "    train, test = evaluate(rfreg, X_train, X_test, y_train, y_test)\n",
    "    train_scores[\"Random Forest\"].append(train)\n",
    "    test_scores[\"Random Forest\"].append(test)\n",
    "\n",
    "    train, test = evaluate(ebmreg, X_train, X_test, y_train, y_test)\n",
    "    train_scores[\"EBM\"].append(train)\n",
    "    test_scores[\"EBM\"].append(test)\n",
    "\n",
    "    train, test = evaluate(\n",
    "        sparsereg, X_train, X_test, y_train, y_test, validation_set=(X_test, y_test)\n",
    "    )\n",
    "    train_scores[\"SparseReg\"].append(train)\n",
    "    test_scores[\"SparseReg\"].append(test)\n",
    "\n",
    "    print()"
   ],
   "metadata": {
    "collapsed": false,
    "pycharm": {
     "name": "#%%\n"
    }
   }
  },
  {
   "cell_type": "code",
   "execution_count": 19,
   "outputs": [
    {
     "data": {
      "text/plain": "          Dummy  Decision Tree  Elastic Net   XGBoost  Random Forest   \n0 -9.238224e-05       0.519848     0.609660  0.849227       0.815203  \\\n1 -4.577164e-04       0.472878     0.576329  0.828193       0.793642   \n2 -1.009159e-03       0.537544     0.590484  0.833853       0.803716   \n3 -4.325266e-05       0.527948     0.615331  0.843024       0.814622   \n4 -5.910429e-05       0.520796     0.613184  0.847933       0.822098   \n5 -4.370797e-04       0.519115     0.590524  0.832766       0.812028   \n6 -2.159296e-04       0.551868     0.608638  0.839166       0.814184   \n7 -3.202562e-06       0.530788     0.591641  0.841493       0.823664   \n8 -7.267582e-07       0.500882     0.597019  0.812652       0.791354   \n9 -2.696465e-05       0.565437     0.639456  0.851851       0.833884   \n\n        EBM  SparseReg  \n0  0.773837   0.756509  \n1  0.739553   0.465886  \n2  0.753132   0.737851  \n3  0.766480   0.549440  \n4  0.776031   0.501127  \n5  0.762010   0.745576  \n6  0.758246   0.740616  \n7  0.777471   0.551265  \n8  0.734388   0.541520  \n9  0.792962   0.568409  ",
      "text/html": "<div>\n<style scoped>\n    .dataframe tbody tr th:only-of-type {\n        vertical-align: middle;\n    }\n\n    .dataframe tbody tr th {\n        vertical-align: top;\n    }\n\n    .dataframe thead th {\n        text-align: right;\n    }\n</style>\n<table border=\"1\" class=\"dataframe\">\n  <thead>\n    <tr style=\"text-align: right;\">\n      <th></th>\n      <th>Dummy</th>\n      <th>Decision Tree</th>\n      <th>Elastic Net</th>\n      <th>XGBoost</th>\n      <th>Random Forest</th>\n      <th>EBM</th>\n      <th>SparseReg</th>\n    </tr>\n  </thead>\n  <tbody>\n    <tr>\n      <th>0</th>\n      <td>-9.238224e-05</td>\n      <td>0.519848</td>\n      <td>0.609660</td>\n      <td>0.849227</td>\n      <td>0.815203</td>\n      <td>0.773837</td>\n      <td>0.756509</td>\n    </tr>\n    <tr>\n      <th>1</th>\n      <td>-4.577164e-04</td>\n      <td>0.472878</td>\n      <td>0.576329</td>\n      <td>0.828193</td>\n      <td>0.793642</td>\n      <td>0.739553</td>\n      <td>0.465886</td>\n    </tr>\n    <tr>\n      <th>2</th>\n      <td>-1.009159e-03</td>\n      <td>0.537544</td>\n      <td>0.590484</td>\n      <td>0.833853</td>\n      <td>0.803716</td>\n      <td>0.753132</td>\n      <td>0.737851</td>\n    </tr>\n    <tr>\n      <th>3</th>\n      <td>-4.325266e-05</td>\n      <td>0.527948</td>\n      <td>0.615331</td>\n      <td>0.843024</td>\n      <td>0.814622</td>\n      <td>0.766480</td>\n      <td>0.549440</td>\n    </tr>\n    <tr>\n      <th>4</th>\n      <td>-5.910429e-05</td>\n      <td>0.520796</td>\n      <td>0.613184</td>\n      <td>0.847933</td>\n      <td>0.822098</td>\n      <td>0.776031</td>\n      <td>0.501127</td>\n    </tr>\n    <tr>\n      <th>5</th>\n      <td>-4.370797e-04</td>\n      <td>0.519115</td>\n      <td>0.590524</td>\n      <td>0.832766</td>\n      <td>0.812028</td>\n      <td>0.762010</td>\n      <td>0.745576</td>\n    </tr>\n    <tr>\n      <th>6</th>\n      <td>-2.159296e-04</td>\n      <td>0.551868</td>\n      <td>0.608638</td>\n      <td>0.839166</td>\n      <td>0.814184</td>\n      <td>0.758246</td>\n      <td>0.740616</td>\n    </tr>\n    <tr>\n      <th>7</th>\n      <td>-3.202562e-06</td>\n      <td>0.530788</td>\n      <td>0.591641</td>\n      <td>0.841493</td>\n      <td>0.823664</td>\n      <td>0.777471</td>\n      <td>0.551265</td>\n    </tr>\n    <tr>\n      <th>8</th>\n      <td>-7.267582e-07</td>\n      <td>0.500882</td>\n      <td>0.597019</td>\n      <td>0.812652</td>\n      <td>0.791354</td>\n      <td>0.734388</td>\n      <td>0.541520</td>\n    </tr>\n    <tr>\n      <th>9</th>\n      <td>-2.696465e-05</td>\n      <td>0.565437</td>\n      <td>0.639456</td>\n      <td>0.851851</td>\n      <td>0.833884</td>\n      <td>0.792962</td>\n      <td>0.568409</td>\n    </tr>\n  </tbody>\n</table>\n</div>"
     },
     "execution_count": 19,
     "metadata": {},
     "output_type": "execute_result"
    }
   ],
   "source": [
    "test_scores_df = pd.DataFrame(test_scores)\n",
    "test_scores_df"
   ],
   "metadata": {
    "collapsed": false,
    "pycharm": {
     "name": "#%%\n"
    }
   }
  },
  {
   "cell_type": "code",
   "execution_count": 20,
   "outputs": [
    {
     "name": "stdout",
     "output_type": "stream",
     "text": [
      "\\begin{tabular}{lrrrrrrr}\n",
      "\\toprule\n",
      " & Dummy & Decision Tree & Elastic Net & XGBoost & Random Forest & EBM & SparseReg \\\\\n",
      "\\midrule\n",
      "0 & -0.000000 & 0.520000 & 0.610000 & 0.849000 & 0.815000 & 0.774000 & 0.757000 \\\\\n",
      "1 & -0.000000 & 0.473000 & 0.576000 & 0.828000 & 0.794000 & 0.740000 & 0.466000 \\\\\n",
      "2 & -0.001000 & 0.538000 & 0.590000 & 0.834000 & 0.804000 & 0.753000 & 0.738000 \\\\\n",
      "3 & -0.000000 & 0.528000 & 0.615000 & 0.843000 & 0.815000 & 0.766000 & 0.549000 \\\\\n",
      "4 & -0.000000 & 0.521000 & 0.613000 & 0.848000 & 0.822000 & 0.776000 & 0.501000 \\\\\n",
      "5 & -0.000000 & 0.519000 & 0.591000 & 0.833000 & 0.812000 & 0.762000 & 0.746000 \\\\\n",
      "6 & -0.000000 & 0.552000 & 0.609000 & 0.839000 & 0.814000 & 0.758000 & 0.741000 \\\\\n",
      "7 & -0.000000 & 0.531000 & 0.592000 & 0.841000 & 0.824000 & 0.777000 & 0.551000 \\\\\n",
      "8 & -0.000000 & 0.501000 & 0.597000 & 0.813000 & 0.791000 & 0.734000 & 0.542000 \\\\\n",
      "9 & -0.000000 & 0.565000 & 0.639000 & 0.852000 & 0.834000 & 0.793000 & 0.568000 \\\\\n",
      "\\bottomrule\n",
      "\\end{tabular}\n",
      "\n"
     ]
    }
   ],
   "source": [
    "print(test_scores_df.round(3).to_latex())"
   ],
   "metadata": {
    "collapsed": false,
    "pycharm": {
     "name": "#%%\n"
    }
   }
  }
 ],
 "metadata": {
  "kernelspec": {
   "display_name": "Python 3 (ipykernel)",
   "language": "python",
   "name": "python3"
  },
  "language_info": {
   "codemirror_mode": {
    "name": "ipython",
    "version": 3
   },
   "file_extension": ".py",
   "mimetype": "text/x-python",
   "name": "python",
   "nbconvert_exporter": "python",
   "pygments_lexer": "ipython3",
   "version": "3.11.3"
  }
 },
 "nbformat": 4,
 "nbformat_minor": 4
}